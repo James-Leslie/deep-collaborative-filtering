{
 "cells": [
  {
   "cell_type": "markdown",
   "metadata": {},
   "source": [
    "# MovieLens 10M Collaborative Genre Tagging\n",
    "**To do**:\n",
    "  - try out [this implementation](https://www.onceupondata.com/2019/02/10/nn-collaborative-filtering/) of baseline features. \n",
    "  - create object classes for models\n",
    "  - implement TF 2.0 data classes\n",
    "  - [paperswithcode link](https://paperswithcode.com/sota/collaborative-filtering-on-movielens-100k)\n",
    "  - [ML 100k state of the art paper](https://arxiv.org/pdf/1706.02263v2.pdf) (RMSE=0.905): details their evaluation method\n",
    "  \n",
    "[![Colab](https://colab.research.google.com/assets/colab-badge.svg)](https://colab.research.google.com/github/James-Leslie/deep-collaborative-filtering/blob/master/tf-movielens10m.ipynb)"
   ]
  },
  {
   "cell_type": "code",
   "execution_count": 1,
   "metadata": {},
   "outputs": [],
   "source": [
    "import numpy as np\n",
    "import pandas as pd\n",
    "import matplotlib.pyplot as plt\n",
    "import seaborn as sns\n",
    "import tensorflow as tf\n",
    "import glob\n",
    "import os\n",
    "\n",
    "%matplotlib inline"
   ]
  },
  {
   "cell_type": "markdown",
   "metadata": {},
   "source": [
    "## Load rating data"
   ]
  },
  {
   "cell_type": "code",
   "execution_count": 2,
   "metadata": {},
   "outputs": [],
   "source": [
    "path = 'data/ml-10M100K/'  # ML-10M files\n",
    "\n",
    "all_files = glob.glob(os.path.join(path, \"ratings*.csv\"))\n",
    "df = pd.concat((pd.read_csv(f) for f in all_files), ignore_index=True)"
   ]
  },
  {
   "cell_type": "code",
   "execution_count": 3,
   "metadata": {},
   "outputs": [
    {
     "data": {
      "text/html": [
       "<div>\n",
       "<style scoped>\n",
       "    .dataframe tbody tr th:only-of-type {\n",
       "        vertical-align: middle;\n",
       "    }\n",
       "\n",
       "    .dataframe tbody tr th {\n",
       "        vertical-align: top;\n",
       "    }\n",
       "\n",
       "    .dataframe thead th {\n",
       "        text-align: right;\n",
       "    }\n",
       "</style>\n",
       "<table border=\"1\" class=\"dataframe\">\n",
       "  <thead>\n",
       "    <tr style=\"text-align: right;\">\n",
       "      <th></th>\n",
       "      <th>userId</th>\n",
       "      <th>movieId</th>\n",
       "      <th>rating</th>\n",
       "    </tr>\n",
       "  </thead>\n",
       "  <tbody>\n",
       "    <tr>\n",
       "      <th>0</th>\n",
       "      <td>69587</td>\n",
       "      <td>1005</td>\n",
       "      <td>2.0</td>\n",
       "    </tr>\n",
       "    <tr>\n",
       "      <th>1</th>\n",
       "      <td>47904</td>\n",
       "      <td>193</td>\n",
       "      <td>4.0</td>\n",
       "    </tr>\n",
       "    <tr>\n",
       "      <th>2</th>\n",
       "      <td>26906</td>\n",
       "      <td>3097</td>\n",
       "      <td>3.5</td>\n",
       "    </tr>\n",
       "    <tr>\n",
       "      <th>3</th>\n",
       "      <td>31241</td>\n",
       "      <td>559</td>\n",
       "      <td>1.0</td>\n",
       "    </tr>\n",
       "    <tr>\n",
       "      <th>4</th>\n",
       "      <td>69402</td>\n",
       "      <td>2541</td>\n",
       "      <td>4.0</td>\n",
       "    </tr>\n",
       "  </tbody>\n",
       "</table>\n",
       "</div>"
      ],
      "text/plain": [
       "   userId  movieId  rating\n",
       "0   69587     1005     2.0\n",
       "1   47904      193     4.0\n",
       "2   26906     3097     3.5\n",
       "3   31241      559     1.0\n",
       "4   69402     2541     4.0"
      ]
     },
     "execution_count": 3,
     "metadata": {},
     "output_type": "execute_result"
    }
   ],
   "source": [
    "df.head()"
   ]
  },
  {
   "cell_type": "code",
   "execution_count": 4,
   "metadata": {},
   "outputs": [
    {
     "data": {
      "text/plain": [
       "(10000054, 3)"
      ]
     },
     "execution_count": 4,
     "metadata": {},
     "output_type": "execute_result"
    }
   ],
   "source": [
    "df.shape"
   ]
  },
  {
   "cell_type": "code",
   "execution_count": 5,
   "metadata": {},
   "outputs": [
    {
     "name": "stdout",
     "output_type": "stream",
     "text": [
      "Number of users: 69878\n",
      "Number of items: 10677\n",
      "Min item rating: 0.5\n",
      "Max item rating: 5.0\n",
      "Mean item rating: 3.512421932921562\n"
     ]
    }
   ],
   "source": [
    "print('Number of users:', df.userId.nunique())\n",
    "print('Number of items:', df.movieId.nunique())\n",
    "print(\"Min item rating:\", df.rating.min())\n",
    "print(\"Max item rating:\", df.rating.max())\n",
    "print(\"Mean item rating:\", df.rating.mean())"
   ]
  },
  {
   "cell_type": "markdown",
   "metadata": {},
   "source": [
    "## Load movie metadata\n",
    "  - remove 10% as holdout test set"
   ]
  },
  {
   "cell_type": "code",
   "execution_count": 7,
   "metadata": {},
   "outputs": [
    {
     "data": {
      "text/html": [
       "<div>\n",
       "<style scoped>\n",
       "    .dataframe tbody tr th:only-of-type {\n",
       "        vertical-align: middle;\n",
       "    }\n",
       "\n",
       "    .dataframe tbody tr th {\n",
       "        vertical-align: top;\n",
       "    }\n",
       "\n",
       "    .dataframe thead th {\n",
       "        text-align: right;\n",
       "    }\n",
       "</style>\n",
       "<table border=\"1\" class=\"dataframe\">\n",
       "  <thead>\n",
       "    <tr style=\"text-align: right;\">\n",
       "      <th></th>\n",
       "      <th>movieId</th>\n",
       "      <th>title</th>\n",
       "      <th>Action</th>\n",
       "      <th>Adventure</th>\n",
       "      <th>Animation</th>\n",
       "      <th>Children</th>\n",
       "      <th>Comedy</th>\n",
       "      <th>Crime</th>\n",
       "      <th>Documentary</th>\n",
       "      <th>Drama</th>\n",
       "      <th>Fantasy</th>\n",
       "      <th>Film-Noir</th>\n",
       "      <th>Horror</th>\n",
       "      <th>Musical</th>\n",
       "      <th>Mystery</th>\n",
       "      <th>Romance</th>\n",
       "      <th>Sci-Fi</th>\n",
       "      <th>Thriller</th>\n",
       "      <th>War</th>\n",
       "      <th>Western</th>\n",
       "    </tr>\n",
       "  </thead>\n",
       "  <tbody>\n",
       "    <tr>\n",
       "      <th>0</th>\n",
       "      <td>0</td>\n",
       "      <td>Boomerang (1992)</td>\n",
       "      <td>0</td>\n",
       "      <td>0</td>\n",
       "      <td>0</td>\n",
       "      <td>0</td>\n",
       "      <td>1</td>\n",
       "      <td>0</td>\n",
       "      <td>0</td>\n",
       "      <td>0</td>\n",
       "      <td>0</td>\n",
       "      <td>0</td>\n",
       "      <td>0</td>\n",
       "      <td>0</td>\n",
       "      <td>0</td>\n",
       "      <td>1</td>\n",
       "      <td>0</td>\n",
       "      <td>0</td>\n",
       "      <td>0</td>\n",
       "      <td>0</td>\n",
       "    </tr>\n",
       "    <tr>\n",
       "      <th>1</th>\n",
       "      <td>1</td>\n",
       "      <td>Net, The (1995)</td>\n",
       "      <td>1</td>\n",
       "      <td>0</td>\n",
       "      <td>0</td>\n",
       "      <td>0</td>\n",
       "      <td>0</td>\n",
       "      <td>1</td>\n",
       "      <td>0</td>\n",
       "      <td>0</td>\n",
       "      <td>0</td>\n",
       "      <td>0</td>\n",
       "      <td>0</td>\n",
       "      <td>0</td>\n",
       "      <td>0</td>\n",
       "      <td>0</td>\n",
       "      <td>0</td>\n",
       "      <td>1</td>\n",
       "      <td>0</td>\n",
       "      <td>0</td>\n",
       "    </tr>\n",
       "    <tr>\n",
       "      <th>2</th>\n",
       "      <td>2</td>\n",
       "      <td>Dumb &amp; Dumber (1994)</td>\n",
       "      <td>0</td>\n",
       "      <td>0</td>\n",
       "      <td>0</td>\n",
       "      <td>0</td>\n",
       "      <td>1</td>\n",
       "      <td>0</td>\n",
       "      <td>0</td>\n",
       "      <td>0</td>\n",
       "      <td>0</td>\n",
       "      <td>0</td>\n",
       "      <td>0</td>\n",
       "      <td>0</td>\n",
       "      <td>0</td>\n",
       "      <td>0</td>\n",
       "      <td>0</td>\n",
       "      <td>0</td>\n",
       "      <td>0</td>\n",
       "      <td>0</td>\n",
       "    </tr>\n",
       "    <tr>\n",
       "      <th>3</th>\n",
       "      <td>3</td>\n",
       "      <td>Outbreak (1995)</td>\n",
       "      <td>1</td>\n",
       "      <td>0</td>\n",
       "      <td>0</td>\n",
       "      <td>0</td>\n",
       "      <td>0</td>\n",
       "      <td>0</td>\n",
       "      <td>0</td>\n",
       "      <td>1</td>\n",
       "      <td>0</td>\n",
       "      <td>0</td>\n",
       "      <td>0</td>\n",
       "      <td>0</td>\n",
       "      <td>0</td>\n",
       "      <td>0</td>\n",
       "      <td>1</td>\n",
       "      <td>1</td>\n",
       "      <td>0</td>\n",
       "      <td>0</td>\n",
       "    </tr>\n",
       "    <tr>\n",
       "      <th>4</th>\n",
       "      <td>4</td>\n",
       "      <td>Stargate (1994)</td>\n",
       "      <td>1</td>\n",
       "      <td>1</td>\n",
       "      <td>0</td>\n",
       "      <td>0</td>\n",
       "      <td>0</td>\n",
       "      <td>0</td>\n",
       "      <td>0</td>\n",
       "      <td>0</td>\n",
       "      <td>0</td>\n",
       "      <td>0</td>\n",
       "      <td>0</td>\n",
       "      <td>0</td>\n",
       "      <td>0</td>\n",
       "      <td>0</td>\n",
       "      <td>1</td>\n",
       "      <td>0</td>\n",
       "      <td>0</td>\n",
       "      <td>0</td>\n",
       "    </tr>\n",
       "  </tbody>\n",
       "</table>\n",
       "</div>"
      ],
      "text/plain": [
       "   movieId                 title  Action  Adventure  Animation  Children  \\\n",
       "0        0      Boomerang (1992)       0          0          0         0   \n",
       "1        1       Net, The (1995)       1          0          0         0   \n",
       "2        2  Dumb & Dumber (1994)       0          0          0         0   \n",
       "3        3       Outbreak (1995)       1          0          0         0   \n",
       "4        4       Stargate (1994)       1          1          0         0   \n",
       "\n",
       "   Comedy  Crime  Documentary  Drama  Fantasy  Film-Noir  Horror  Musical  \\\n",
       "0       1      0            0      0        0          0       0        0   \n",
       "1       0      1            0      0        0          0       0        0   \n",
       "2       1      0            0      0        0          0       0        0   \n",
       "3       0      0            0      1        0          0       0        0   \n",
       "4       0      0            0      0        0          0       0        0   \n",
       "\n",
       "   Mystery  Romance  Sci-Fi  Thriller  War  Western  \n",
       "0        0        1       0         0    0        0  \n",
       "1        0        0       0         1    0        0  \n",
       "2        0        0       0         0    0        0  \n",
       "3        0        0       1         1    0        0  \n",
       "4        0        0       1         0    0        0  "
      ]
     },
     "execution_count": 7,
     "metadata": {},
     "output_type": "execute_result"
    }
   ],
   "source": [
    "movies = pd.read_csv(path+'movies.tsv', sep='\\t')\n",
    "movies.head()"
   ]
  },
  {
   "cell_type": "code",
   "execution_count": 8,
   "metadata": {},
   "outputs": [],
   "source": [
    "from sklearn.model_selection import train_test_split"
   ]
  },
  {
   "cell_type": "code",
   "execution_count": 9,
   "metadata": {},
   "outputs": [],
   "source": [
    "movies, movies_holdout = train_test_split(movies, test_size=.1, random_state=42)"
   ]
  },
  {
   "cell_type": "markdown",
   "metadata": {},
   "source": [
    "---\n",
    "# Create baseline features\n",
    "For each user, calculate average user bias - the average difference between the user's rating and the movie's average rating:\n",
    "\n",
    "$$b_{u} = \\dfrac{\\sum_{j=1}^{n_u} (r_{uj} - \\mu_i)}{n_u}$$\n",
    "\n",
    "For each item, calculate the difference between its average rating and the average rating of all movies:\n",
    "\n",
    "$$b_{i} = \\dfrac{\\sum_{k=1}^{n_i} (r_{ki})}{n_i} - \\mu$$\n",
    "\n",
    "Then, for each interaction, calculate the combined bias:\n",
    "\n",
    "$$b_{ui} = \\dfrac{b_u + b_i}{2}$$"
   ]
  },
  {
   "cell_type": "code",
   "execution_count": 10,
   "metadata": {},
   "outputs": [
    {
     "data": {
      "text/plain": [
       "\u001b[1;31mSignature:\u001b[0m \u001b[0mget_baseline\u001b[0m\u001b[1;33m(\u001b[0m\u001b[0mdf\u001b[0m\u001b[1;33m,\u001b[0m \u001b[0mtrain_index\u001b[0m\u001b[1;33m,\u001b[0m \u001b[0mtest_index\u001b[0m\u001b[1;33m)\u001b[0m\u001b[1;33m\u001b[0m\u001b[1;33m\u001b[0m\u001b[0m\n",
       "\u001b[1;31mDocstring:\u001b[0m\n",
       "Calculate baseline features from an explicit ratings dataset. Receives a dataframe\n",
       "and returns train and test splits with added bias column and mean rating value.\n",
       "User and item biases are calculated as average difference from global mean rating.\n",
       "Baseline factors are only calculated from training observations, with users or\n",
       "items that do not appear in train receiving the global average as default.\n",
       "\n",
       "Args:\n",
       "    df          : explicit ratings dataframe with columns userId, movieId and rating\n",
       "    train_index : train index splits taken from KFold.splits()\n",
       "    test_index  : test index splits taken from KFold.splits()\n",
       "    \n",
       "Returns:\n",
       "    train, test : train/test splits of df, with added bias column\n",
       "    global_mean : average rating of all training observations\n",
       "\u001b[1;31mFile:\u001b[0m      c:\\users\\jleslie\\documents\\deep-collaborative-filtering\\cgt.py\n",
       "\u001b[1;31mType:\u001b[0m      function\n"
      ]
     },
     "metadata": {},
     "output_type": "display_data"
    }
   ],
   "source": [
    "from CGT import get_baseline\n",
    "?get_baseline"
   ]
  },
  {
   "cell_type": "markdown",
   "metadata": {},
   "source": [
    "---\n",
    "# CGT model\n",
    "**To do**:\n",
    "  - Can we avoid re-training rating model on CV fold?\n",
    "  - Create a grid search function / class"
   ]
  },
  {
   "cell_type": "code",
   "execution_count": 11,
   "metadata": {},
   "outputs": [
    {
     "data": {
      "text/plain": [
       "\u001b[1;31mSignature:\u001b[0m\n",
       "\u001b[0mcompile_genre_model\u001b[0m\u001b[1;33m(\u001b[0m\u001b[1;33m\n",
       "\u001b[0m    \u001b[0mn_items\u001b[0m\u001b[1;33m,\u001b[0m\u001b[1;33m\n",
       "\u001b[0m    \u001b[0mn_users\u001b[0m\u001b[1;33m,\u001b[0m\u001b[1;33m\n",
       "\u001b[0m    \u001b[0mmin_rating\u001b[0m\u001b[1;33m,\u001b[0m\u001b[1;33m\n",
       "\u001b[0m    \u001b[0mmax_rating\u001b[0m\u001b[1;33m,\u001b[0m\u001b[1;33m\n",
       "\u001b[0m    \u001b[0mmean_rating\u001b[0m\u001b[1;33m,\u001b[0m\u001b[1;33m\n",
       "\u001b[0m    \u001b[0mn_latent\u001b[0m\u001b[1;33m,\u001b[0m\u001b[1;33m\n",
       "\u001b[0m    \u001b[0mn_hidden_1\u001b[0m\u001b[1;33m,\u001b[0m\u001b[1;33m\n",
       "\u001b[0m    \u001b[0mn_hidden_2\u001b[0m\u001b[1;33m,\u001b[0m\u001b[1;33m\n",
       "\u001b[0m    \u001b[0mactivation\u001b[0m\u001b[1;33m=\u001b[0m\u001b[1;34m'relu'\u001b[0m\u001b[1;33m,\u001b[0m\u001b[1;33m\n",
       "\u001b[0m    \u001b[0mdropout_1\u001b[0m\u001b[1;33m=\u001b[0m\u001b[1;36m0.2\u001b[0m\u001b[1;33m,\u001b[0m\u001b[1;33m\n",
       "\u001b[0m    \u001b[0mdropout_2\u001b[0m\u001b[1;33m=\u001b[0m\u001b[1;36m0.2\u001b[0m\u001b[1;33m,\u001b[0m\u001b[1;33m\n",
       "\u001b[0m    \u001b[0mrandom_seed\u001b[0m\u001b[1;33m=\u001b[0m\u001b[1;36m42\u001b[0m\u001b[1;33m,\u001b[0m\u001b[1;33m\n",
       "\u001b[0m\u001b[1;33m)\u001b[0m\u001b[1;33m\u001b[0m\u001b[1;33m\u001b[0m\u001b[0m\n",
       "\u001b[1;31mDocstring:\u001b[0m <no docstring>\n",
       "\u001b[1;31mFile:\u001b[0m      c:\\users\\jleslie\\documents\\deep-collaborative-filtering\\cgt.py\n",
       "\u001b[1;31mType:\u001b[0m      function\n"
      ]
     },
     "metadata": {},
     "output_type": "display_data"
    }
   ],
   "source": [
    "from CGT import compile_genre_model\n",
    "?compile_genre_model"
   ]
  },
  {
   "cell_type": "markdown",
   "metadata": {},
   "source": [
    "# Classification report"
   ]
  },
  {
   "cell_type": "code",
   "execution_count": 12,
   "metadata": {},
   "outputs": [],
   "source": [
    "from sklearn.metrics import classification_report, confusion_matrix, precision_score, recall_score, f1_score"
   ]
  },
  {
   "cell_type": "markdown",
   "metadata": {},
   "source": [
    "### Train model on full dataset, with best hparams"
   ]
  },
  {
   "cell_type": "code",
   "execution_count": 13,
   "metadata": {},
   "outputs": [
    {
     "name": "stdout",
     "output_type": "stream",
     "text": [
      "Train on 8000043 samples, validate on 2000011 samples\n",
      "Epoch 1/8\n",
      "8000043/8000043 [==============================] - 849s 106us/sample - loss: 0.7194 - val_loss: 0.6857\n",
      "Epoch 2/8\n",
      "8000043/8000043 [==============================] - 862s 108us/sample - loss: 0.6626 - val_loss: 0.6596\n",
      "Epoch 3/8\n",
      "8000043/8000043 [==============================] - 870s 109us/sample - loss: 0.6263 - val_loss: 0.6467\n",
      "Epoch 4/8\n",
      "8000043/8000043 [==============================] - 886s 111us/sample - loss: 0.5955 - val_loss: 0.6391\n",
      "Epoch 5/8\n",
      "8000043/8000043 [==============================] - 898s 112us/sample - loss: 0.5671 - val_loss: 0.6359\n",
      "Epoch 6/8\n",
      "8000043/8000043 [==============================] - 919s 115us/sample - loss: 0.5429 - val_loss: 0.6369\n",
      "Epoch 7/8\n",
      "8000043/8000043 [==============================] - 921s 115us/sample - loss: 0.5224 - val_loss: 0.6387\n",
      "Epoch 8/8\n",
      "8000043/8000043 [==============================] - 930s 116us/sample - loss: 0.5053 - val_loss: 0.6420\n",
      "Train on 7687 samples, validate on 1922 samples\n",
      "Epoch 1/5\n",
      "7687/7687 [==============================] - 1s 177us/sample - loss: 0.6011 - accuracy: 0.6821 - AUC: 0.7427 - val_loss: 0.5637 - val_accuracy: 0.7107 - val_AUC: 0.7808\n",
      "Epoch 2/5\n",
      "7687/7687 [==============================] - 1s 83us/sample - loss: 0.5578 - accuracy: 0.7165 - AUC: 0.7863 - val_loss: 0.5561 - val_accuracy: 0.7123 - val_AUC: 0.7861\n",
      "Epoch 3/5\n",
      "7687/7687 [==============================] - 1s 82us/sample - loss: 0.5497 - accuracy: 0.7204 - AUC: 0.7932 - val_loss: 0.5563 - val_accuracy: 0.7144 - val_AUC: 0.7857\n",
      "Epoch 4/5\n",
      "7687/7687 [==============================] - 1s 82us/sample - loss: 0.5432 - accuracy: 0.7254 - AUC: 0.7986 - val_loss: 0.5544 - val_accuracy: 0.7185 - val_AUC: 0.7876\n",
      "Epoch 5/5\n",
      "7687/7687 [==============================] - 1s 82us/sample - loss: 0.5372 - accuracy: 0.7311 - AUC: 0.8035 - val_loss: 0.5546 - val_accuracy: 0.7222 - val_AUC: 0.7869\n"
     ]
    }
   ],
   "source": [
    "# get baseline predictors for full dataset\n",
    "train, _, _ = get_baseline(df, df.index, df.index)\n",
    "\n",
    "# compile both models\n",
    "model1, model2 = compile_genre_model(\n",
    "    n_items=df.movieId.nunique(),\n",
    "    n_users=df.userId.nunique(),\n",
    "    min_rating=df.rating.min(),\n",
    "    max_rating=df.rating.max(),\n",
    "    mean_rating=df.rating.mean(),\n",
    "    n_latent=200, \n",
    "    n_hidden_1=100,\n",
    "    n_hidden_2=100,\n",
    "    dropout_1=.15,\n",
    "    dropout_2=.15\n",
    ")\n",
    "\n",
    "# train rating model\n",
    "ratings = model1.fit(\n",
    "    x=[train.userId.values, train.movieId.values, train.bias.values],\n",
    "    y=train.rating.values, \n",
    "    batch_size=2048,\n",
    "    epochs=6,\n",
    "    verbose=1,\n",
    "    validation_split=.2\n",
    ")\n",
    "\n",
    "# train genre model\n",
    "genres = model2.fit(\n",
    "    movies.movieId.values, movies.Drama.values,\n",
    "    batch_size=128, \n",
    "    epochs=5,\n",
    "    validation_split=.2)"
   ]
  },
  {
   "cell_type": "markdown",
   "metadata": {},
   "source": [
    "### Evaluate on test set"
   ]
  },
  {
   "cell_type": "code",
   "execution_count": 14,
   "metadata": {},
   "outputs": [],
   "source": [
    "X_test = movies_holdout.movieId.values\n",
    "y_test = movies_holdout.Drama.values\n",
    "y_score = pd.DataFrame(model2.predict(X_test))\n",
    "y_pred = y_score.round().astype('int')"
   ]
  },
  {
   "cell_type": "code",
   "execution_count": 15,
   "metadata": {},
   "outputs": [
    {
     "name": "stdout",
     "output_type": "stream",
     "text": [
      "              precision    recall  f1-score   support\n",
      "\n",
      "           0       0.70      0.67      0.68       551\n",
      "           1       0.66      0.70      0.68       517\n",
      "\n",
      "    accuracy                           0.68      1068\n",
      "   macro avg       0.68      0.68      0.68      1068\n",
      "weighted avg       0.68      0.68      0.68      1068\n",
      "\n"
     ]
    }
   ],
   "source": [
    "print(classification_report(y_test, y_pred))"
   ]
  },
  {
   "cell_type": "code",
   "execution_count": 16,
   "metadata": {},
   "outputs": [
    {
     "data": {
      "text/html": [
       "<div>\n",
       "<style scoped>\n",
       "    .dataframe tbody tr th:only-of-type {\n",
       "        vertical-align: middle;\n",
       "    }\n",
       "\n",
       "    .dataframe tbody tr th {\n",
       "        vertical-align: top;\n",
       "    }\n",
       "\n",
       "    .dataframe thead th {\n",
       "        text-align: right;\n",
       "    }\n",
       "</style>\n",
       "<table border=\"1\" class=\"dataframe\">\n",
       "  <thead>\n",
       "    <tr style=\"text-align: right;\">\n",
       "      <th></th>\n",
       "      <th>0</th>\n",
       "      <th>1</th>\n",
       "    </tr>\n",
       "  </thead>\n",
       "  <tbody>\n",
       "    <tr>\n",
       "      <th>0</th>\n",
       "      <td>367</td>\n",
       "      <td>184</td>\n",
       "    </tr>\n",
       "    <tr>\n",
       "      <th>1</th>\n",
       "      <td>156</td>\n",
       "      <td>361</td>\n",
       "    </tr>\n",
       "  </tbody>\n",
       "</table>\n",
       "</div>"
      ],
      "text/plain": [
       "     0    1\n",
       "0  367  184\n",
       "1  156  361"
      ]
     },
     "execution_count": 16,
     "metadata": {},
     "output_type": "execute_result"
    }
   ],
   "source": [
    "pd.DataFrame(confusion_matrix(y_test, y_pred))"
   ]
  },
  {
   "cell_type": "code",
   "execution_count": 26,
   "metadata": {},
   "outputs": [],
   "source": [
    "movies_holdout['prediction'] = y_pred.values"
   ]
  },
  {
   "cell_type": "code",
   "execution_count": 33,
   "metadata": {},
   "outputs": [],
   "source": [
    "movies_holdout[['movieId', 'title', 'Drama', 'prediction']].to_csv(path+'holdout_predictions.csv', index=False)"
   ]
  },
  {
   "cell_type": "code",
   "execution_count": 32,
   "metadata": {},
   "outputs": [],
   "source": [
    "X_train = movies.movieId.values\n",
    "y_train = movies.Drama.values\n",
    "train_score = pd.DataFrame(model2.predict(X_train))\n",
    "train_pred = train_score.round().astype('int')"
   ]
  },
  {
   "cell_type": "code",
   "execution_count": 34,
   "metadata": {},
   "outputs": [
    {
     "name": "stdout",
     "output_type": "stream",
     "text": [
      "              precision    recall  f1-score   support\n",
      "\n",
      "           0       0.75      0.70      0.72      4790\n",
      "           1       0.72      0.76      0.74      4819\n",
      "\n",
      "    accuracy                           0.73      9609\n",
      "   macro avg       0.73      0.73      0.73      9609\n",
      "weighted avg       0.73      0.73      0.73      9609\n",
      "\n"
     ]
    }
   ],
   "source": [
    "print(classification_report(y_train, train_pred))"
   ]
  },
  {
   "cell_type": "code",
   "execution_count": 35,
   "metadata": {},
   "outputs": [
    {
     "data": {
      "text/html": [
       "<div>\n",
       "<style scoped>\n",
       "    .dataframe tbody tr th:only-of-type {\n",
       "        vertical-align: middle;\n",
       "    }\n",
       "\n",
       "    .dataframe tbody tr th {\n",
       "        vertical-align: top;\n",
       "    }\n",
       "\n",
       "    .dataframe thead th {\n",
       "        text-align: right;\n",
       "    }\n",
       "</style>\n",
       "<table border=\"1\" class=\"dataframe\">\n",
       "  <thead>\n",
       "    <tr style=\"text-align: right;\">\n",
       "      <th></th>\n",
       "      <th>0</th>\n",
       "      <th>1</th>\n",
       "    </tr>\n",
       "  </thead>\n",
       "  <tbody>\n",
       "    <tr>\n",
       "      <th>0</th>\n",
       "      <td>3356</td>\n",
       "      <td>1434</td>\n",
       "    </tr>\n",
       "    <tr>\n",
       "      <th>1</th>\n",
       "      <td>1134</td>\n",
       "      <td>3685</td>\n",
       "    </tr>\n",
       "  </tbody>\n",
       "</table>\n",
       "</div>"
      ],
      "text/plain": [
       "      0     1\n",
       "0  3356  1434\n",
       "1  1134  3685"
      ]
     },
     "execution_count": 35,
     "metadata": {},
     "output_type": "execute_result"
    }
   ],
   "source": [
    "pd.DataFrame(confusion_matrix(y_train, train_pred))"
   ]
  },
  {
   "cell_type": "code",
   "execution_count": 37,
   "metadata": {},
   "outputs": [],
   "source": [
    "movies['prediction'] = train_pred.values"
   ]
  },
  {
   "cell_type": "code",
   "execution_count": 38,
   "metadata": {},
   "outputs": [],
   "source": [
    "movies[['movieId', 'title', 'Drama', 'prediction']].to_csv(path+'train_predictions.csv', index=False)"
   ]
  },
  {
   "cell_type": "code",
   "execution_count": null,
   "metadata": {},
   "outputs": [],
   "source": []
  }
 ],
 "metadata": {
  "kernelspec": {
   "display_name": "Python 3",
   "language": "python",
   "name": "python3"
  },
  "language_info": {
   "codemirror_mode": {
    "name": "ipython",
    "version": 3
   },
   "file_extension": ".py",
   "mimetype": "text/x-python",
   "name": "python",
   "nbconvert_exporter": "python",
   "pygments_lexer": "ipython3",
   "version": "3.7.3"
  }
 },
 "nbformat": 4,
 "nbformat_minor": 4
}
