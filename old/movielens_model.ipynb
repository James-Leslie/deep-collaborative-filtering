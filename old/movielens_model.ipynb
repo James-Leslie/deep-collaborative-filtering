{
 "cells": [
  {
   "cell_type": "code",
   "execution_count": 1,
   "metadata": {},
   "outputs": [],
   "source": [
    "import numpy as np\n",
    "import pandas as pd\n",
    "from interactions_data import ExplicitDataset\n",
    "from interactions_model import EmbeddingNet, find_lr, fit_model\n",
    "import torch\n",
    "from torch.utils.data import Dataset, DataLoader\n",
    "from torch import nn\n",
    "import torch.nn.functional as F\n",
    "from torch import optim\n",
    "import CLR as CLR\n",
    "import OneCycle as OneCycle"
   ]
  },
  {
   "cell_type": "code",
   "execution_count": 2,
   "metadata": {},
   "outputs": [
    {
     "name": "stdout",
     "output_type": "stream",
     "text": [
      "True\n"
     ]
    }
   ],
   "source": [
    "print(torch.cuda.is_available())"
   ]
  },
  {
   "cell_type": "code",
   "execution_count": 3,
   "metadata": {},
   "outputs": [],
   "source": [
    "path = 'data/movielens-small/'\n",
    "train = ExplicitDataset(csv_file=path+'train.csv', users='userId', items='movieId')\n",
    "test = ExplicitDataset(csv_file=path+'test.csv', users='userId', items='movieId')"
   ]
  },
  {
   "cell_type": "code",
   "execution_count": 4,
   "metadata": {},
   "outputs": [
    {
     "name": "stdout",
     "output_type": "stream",
     "text": [
      "Training samples:  90752 \n",
      "Testing samples:  10084\n"
     ]
    }
   ],
   "source": [
    "print(\"Training samples: \", \n",
    "      len(train),\n",
    "      \"\\nTesting samples: \",\n",
    "      len(test))"
   ]
  },
  {
   "cell_type": "code",
   "execution_count": 5,
   "metadata": {},
   "outputs": [
    {
     "data": {
      "text/html": [
       "<div>\n",
       "<style scoped>\n",
       "    .dataframe tbody tr th:only-of-type {\n",
       "        vertical-align: middle;\n",
       "    }\n",
       "\n",
       "    .dataframe tbody tr th {\n",
       "        vertical-align: top;\n",
       "    }\n",
       "\n",
       "    .dataframe thead th {\n",
       "        text-align: right;\n",
       "    }\n",
       "</style>\n",
       "<table border=\"1\" class=\"dataframe\">\n",
       "  <thead>\n",
       "    <tr style=\"text-align: right;\">\n",
       "      <th></th>\n",
       "      <th>userId</th>\n",
       "      <th>movieId</th>\n",
       "      <th>rating</th>\n",
       "    </tr>\n",
       "  </thead>\n",
       "  <tbody>\n",
       "    <tr>\n",
       "      <th>0</th>\n",
       "      <td>463</td>\n",
       "      <td>2247</td>\n",
       "      <td>2.5</td>\n",
       "    </tr>\n",
       "    <tr>\n",
       "      <th>1</th>\n",
       "      <td>306</td>\n",
       "      <td>1616</td>\n",
       "      <td>2.5</td>\n",
       "    </tr>\n",
       "    <tr>\n",
       "      <th>2</th>\n",
       "      <td>605</td>\n",
       "      <td>98</td>\n",
       "      <td>3.5</td>\n",
       "    </tr>\n",
       "    <tr>\n",
       "      <th>3</th>\n",
       "      <td>306</td>\n",
       "      <td>2437</td>\n",
       "      <td>3.0</td>\n",
       "    </tr>\n",
       "    <tr>\n",
       "      <th>4</th>\n",
       "      <td>408</td>\n",
       "      <td>2030</td>\n",
       "      <td>4.0</td>\n",
       "    </tr>\n",
       "  </tbody>\n",
       "</table>\n",
       "</div>"
      ],
      "text/plain": [
       "   userId  movieId  rating\n",
       "0     463     2247     2.5\n",
       "1     306     1616     2.5\n",
       "2     605       98     3.5\n",
       "3     306     2437     3.0\n",
       "4     408     2030     4.0"
      ]
     },
     "execution_count": 5,
     "metadata": {},
     "output_type": "execute_result"
    }
   ],
   "source": [
    "train.df.head()"
   ]
  },
  {
   "cell_type": "code",
   "execution_count": 6,
   "metadata": {},
   "outputs": [
    {
     "data": {
      "text/html": [
       "<div>\n",
       "<style scoped>\n",
       "    .dataframe tbody tr th:only-of-type {\n",
       "        vertical-align: middle;\n",
       "    }\n",
       "\n",
       "    .dataframe tbody tr th {\n",
       "        vertical-align: top;\n",
       "    }\n",
       "\n",
       "    .dataframe thead th {\n",
       "        text-align: right;\n",
       "    }\n",
       "</style>\n",
       "<table border=\"1\" class=\"dataframe\">\n",
       "  <thead>\n",
       "    <tr style=\"text-align: right;\">\n",
       "      <th></th>\n",
       "      <th>userId</th>\n",
       "      <th>movieId</th>\n",
       "      <th>rating</th>\n",
       "    </tr>\n",
       "  </thead>\n",
       "  <tbody>\n",
       "    <tr>\n",
       "      <th>0</th>\n",
       "      <td>160</td>\n",
       "      <td>6208</td>\n",
       "      <td>0.5</td>\n",
       "    </tr>\n",
       "    <tr>\n",
       "      <th>1</th>\n",
       "      <td>134</td>\n",
       "      <td>857</td>\n",
       "      <td>4.0</td>\n",
       "    </tr>\n",
       "    <tr>\n",
       "      <th>2</th>\n",
       "      <td>522</td>\n",
       "      <td>8627</td>\n",
       "      <td>5.0</td>\n",
       "    </tr>\n",
       "    <tr>\n",
       "      <th>3</th>\n",
       "      <td>367</td>\n",
       "      <td>1118</td>\n",
       "      <td>3.0</td>\n",
       "    </tr>\n",
       "    <tr>\n",
       "      <th>4</th>\n",
       "      <td>57</td>\n",
       "      <td>200</td>\n",
       "      <td>4.0</td>\n",
       "    </tr>\n",
       "  </tbody>\n",
       "</table>\n",
       "</div>"
      ],
      "text/plain": [
       "   userId  movieId  rating\n",
       "0     160     6208     0.5\n",
       "1     134      857     4.0\n",
       "2     522     8627     5.0\n",
       "3     367     1118     3.0\n",
       "4      57      200     4.0"
      ]
     },
     "execution_count": 6,
     "metadata": {},
     "output_type": "execute_result"
    }
   ],
   "source": [
    "test.df.head()"
   ]
  },
  {
   "cell_type": "code",
   "execution_count": 7,
   "metadata": {},
   "outputs": [
    {
     "name": "stdout",
     "output_type": "stream",
     "text": [
      "Users in train set: 610\n",
      "Min: 0 Max: 609 \n",
      "\n",
      "Users in test set: 610\n",
      "Min: 0 Max: 609\n"
     ]
    }
   ],
   "source": [
    "print(\"Users in train set:\", train.df.userId.nunique())\n",
    "print(\"Min:\", min(train.df.userId.unique()), \n",
    "      \"Max:\", max(train.df.userId.unique()), \"\\n\")\n",
    "print(\"Users in test set:\", test.df.userId.nunique())\n",
    "print(\"Min:\", min(test.df.userId.unique()), \n",
    "      \"Max:\", max(test.df.userId.unique()))"
   ]
  },
  {
   "cell_type": "code",
   "execution_count": 8,
   "metadata": {},
   "outputs": [
    {
     "name": "stdout",
     "output_type": "stream",
     "text": [
      "Items in train set: 9357\n",
      "Min: 0 Max: 9722 \n",
      "\n",
      "Items in test set: 3679\n",
      "Min: 0 Max: 9723\n"
     ]
    }
   ],
   "source": [
    "print(\"Items in train set:\", train.df.movieId.nunique())\n",
    "print(\"Min:\", min(train.df.movieId.unique()), \n",
    "      \"Max:\", max(train.df.movieId.unique()), \"\\n\")\n",
    "print(\"Items in test set:\", test.df.movieId.nunique())\n",
    "print(\"Min:\", min(test.df.movieId.unique()), \n",
    "      \"Max:\", max(test.df.movieId.unique()))"
   ]
  },
  {
   "cell_type": "code",
   "execution_count": 9,
   "metadata": {},
   "outputs": [],
   "source": [
    "n_users = max(max(train.df.userId.unique()), max(test.df.userId.unique()))\n",
    "n_items = max(max(train.df.movieId.unique()), max(test.df.movieId.unique()))\n",
    "max_score = max(train.df.rating)\n",
    "min_score = min(train.df.rating)\n",
    "epoch = 10\n",
    "bs = 128"
   ]
  },
  {
   "cell_type": "code",
   "execution_count": 10,
   "metadata": {},
   "outputs": [],
   "source": [
    "train_loader = DataLoader(dataset=train,\n",
    "                          batch_size=bs,\n",
    "                          shuffle=False)\n",
    "\n",
    "test_loader = DataLoader(dataset=test,\n",
    "                         batch_size=bs,\n",
    "                         shuffle=False)"
   ]
  },
  {
   "cell_type": "code",
   "execution_count": 11,
   "metadata": {},
   "outputs": [
    {
     "data": {
      "text/plain": [
       "EmbeddingNet(\n",
       "  (u): Embedding(609, 10)\n",
       "  (i): Embedding(9723, 10)\n",
       "  (lin1): Linear(in_features=20, out_features=10, bias=True)\n",
       "  (lin2): Linear(in_features=10, out_features=1, bias=True)\n",
       "  (drop1): Dropout(p=0.05)\n",
       "  (drop2): Dropout(p=0.15)\n",
       ")"
      ]
     },
     "execution_count": 11,
     "metadata": {},
     "output_type": "execute_result"
    }
   ],
   "source": [
    "# create the model\n",
    "model = EmbeddingNet(10, n_users, n_items, min_score, max_score).cuda()\n",
    "\n",
    "# show its parameters\n",
    "model"
   ]
  },
  {
   "cell_type": "markdown",
   "metadata": {},
   "source": [
    "## Learning rate finder"
   ]
  },
  {
   "cell_type": "code",
   "execution_count": 12,
   "metadata": {},
   "outputs": [],
   "source": [
    "# define the optimizer and loss criterion\n",
    "# optimizer = optim.SGD(model.parameters(), lr=1e-4, momentum=0.95, weight_decay=1e-4)\n",
    "optimizer = optim.Adam(model.parameters())\n",
    "criterion=nn.MSELoss()"
   ]
  },
  {
   "cell_type": "code",
   "execution_count": 13,
   "metadata": {},
   "outputs": [
    {
     "data": {
      "application/vnd.jupyter.widget-view+json": {
       "model_id": "774fcc59e9774eb1b03a8898cbf5df3b",
       "version_major": 2,
       "version_minor": 0
      },
      "text/plain": [
       "HBox(children=(IntProgress(value=0, max=709), HTML(value='')))"
      ]
     },
     "metadata": {},
     "output_type": "display_data"
    },
    {
     "name": "stdout",
     "output_type": "stream",
     "text": [
      "\n"
     ]
    },
    {
     "data": {
      "image/png": "[encoded data removed]",
      "text/plain": [
       "<Figure size 432x288 with 1 Axes>"
      ]
     },
     "metadata": {
      "needs_background": "light"
     },
     "output_type": "display_data"
    }
   ],
   "source": [
    "find_lr(model, train_loader, optimizer, criterion)"
   ]
  },
  {
   "cell_type": "code",
   "execution_count": 14,
   "metadata": {},
   "outputs": [],
   "source": [
    "# create new model with re-initialized weights\n",
    "model = EmbeddingNet(10, n_users, n_items, min_score, max_score).cuda()"
   ]
  },
  {
   "cell_type": "code",
   "execution_count": 15,
   "metadata": {},
   "outputs": [],
   "source": [
    "# set the learning rate\n",
    "lr = 1e-2"
   ]
  },
  {
   "cell_type": "markdown",
   "metadata": {},
   "source": [
    "## Cyclic Learning Rates"
   ]
  },
  {
   "cell_type": "code",
   "execution_count": 16,
   "metadata": {},
   "outputs": [],
   "source": [
    "onecycle = OneCycle.OneCycle(nb=int(len(train_loader)*epoch/bs), \n",
    "                             max_lr=1e-2,\n",
    "                             momentum_vals=(0.95, 0.8))"
   ]
  },
  {
   "cell_type": "markdown",
   "metadata": {},
   "source": [
    "## Training"
   ]
  },
  {
   "cell_type": "code",
   "execution_count": 17,
   "metadata": {},
   "outputs": [],
   "source": [
    "optimizer = optim.SGD(model.parameters(), lr=lr, momentum=0.95, weight_decay=1e-4)\n",
    "# optimizer = optim.Adam(model.parameters(), lr=lr)\n",
    "criterion=nn.MSELoss()"
   ]
  },
  {
   "cell_type": "code",
   "execution_count": 18,
   "metadata": {},
   "outputs": [
    {
     "data": {
      "application/vnd.jupyter.widget-view+json": {
       "model_id": "f86b5100302e409a9499fa9da4431c06",
       "version_major": 2,
       "version_minor": 0
      },
      "text/plain": [
       "HBox(children=(IntProgress(value=0, max=709), HTML(value='')))"
      ]
     },
     "metadata": {},
     "output_type": "display_data"
    },
    {
     "name": "stdout",
     "output_type": "stream",
     "text": [
      "\n",
      "Training Loss: 1.092.. \n",
      "Test Loss: 1.076..  Epoch: 1/2.. \n"
     ]
    },
    {
     "data": {
      "application/vnd.jupyter.widget-view+json": {
       "model_id": "c11ed6c23e7f4d55a4299271977f4552",
       "version_major": 2,
       "version_minor": 0
      },
      "text/plain": [
       "HBox(children=(IntProgress(value=0, max=709), HTML(value='')))"
      ]
     },
     "metadata": {},
     "output_type": "display_data"
    },
    {
     "name": "stdout",
     "output_type": "stream",
     "text": [
      "\n",
      "Training Loss: 1.090.. \n",
      "Test Loss: 1.076..  Epoch: 2/2.. \n"
     ]
    }
   ],
   "source": [
    "fit_model(epochs=2, \n",
    "          model=model, \n",
    "          optimizer=optimizer,\n",
    "          criterion=criterion,\n",
    "          train=train_loader, \n",
    "          test=test_loader)"
   ]
  },
  {
   "cell_type": "code",
   "execution_count": 17,
   "metadata": {},
   "outputs": [],
   "source": [
    "model.eval()\n",
    "\n",
    "dataiter = iter(test_loader)"
   ]
  },
  {
   "cell_type": "code",
   "execution_count": 18,
   "metadata": {},
   "outputs": [],
   "source": [
    "users, items, ratings = dataiter.next()"
   ]
  },
  {
   "cell_type": "code",
   "execution_count": 19,
   "metadata": {},
   "outputs": [
    {
     "data": {
      "text/plain": [
       "tensor([0.5000, 4.0000, 5.0000, 3.0000, 4.0000, 4.0000, 2.0000, 4.0000, 2.0000,\n",
       "        4.0000, 3.0000, 4.0000, 5.0000, 5.0000, 5.0000, 2.0000, 1.5000, 3.5000,\n",
       "        2.5000, 2.0000, 3.0000, 5.0000, 4.0000, 4.0000, 4.0000, 4.0000, 2.5000,\n",
       "        4.0000, 0.5000, 4.0000, 3.5000, 4.0000, 4.5000, 5.0000, 3.5000, 3.0000,\n",
       "        3.0000, 4.0000, 2.0000, 3.0000, 3.0000, 5.0000, 4.0000, 3.5000, 0.5000,\n",
       "        3.5000, 3.0000, 1.5000, 3.5000, 5.0000, 5.0000, 4.0000, 5.0000, 3.5000,\n",
       "        4.0000, 4.0000, 3.0000, 3.0000, 2.0000, 2.5000, 4.0000, 5.0000, 4.0000,\n",
       "        4.5000, 5.0000, 5.0000, 5.0000, 4.0000, 3.0000, 3.5000, 4.0000, 5.0000,\n",
       "        4.0000, 1.5000, 5.0000, 3.5000, 2.0000, 3.0000, 2.0000, 4.0000, 4.5000,\n",
       "        3.5000, 3.5000, 4.0000, 2.5000, 4.0000, 3.5000, 2.5000, 3.0000, 1.0000,\n",
       "        4.0000, 4.0000, 4.0000, 2.0000, 3.0000, 4.0000, 3.5000, 4.0000, 5.0000,\n",
       "        4.0000, 3.5000, 4.0000, 3.5000, 5.0000, 4.0000, 4.0000, 2.0000, 3.5000,\n",
       "        2.0000, 4.0000, 2.0000, 0.5000, 4.0000, 4.0000, 4.0000, 3.0000, 5.0000,\n",
       "        3.0000, 3.0000, 3.0000, 5.0000, 3.0000, 4.0000, 3.5000, 4.0000, 1.5000,\n",
       "        3.0000, 2.0000], device='cuda:0')"
      ]
     },
     "execution_count": 19,
     "metadata": {},
     "output_type": "execute_result"
    }
   ],
   "source": [
    "ratings"
   ]
  },
  {
   "cell_type": "code",
   "execution_count": 20,
   "metadata": {},
   "outputs": [],
   "source": [
    "with torch.no_grad():\n",
    "    output = model(users, items).view(bs).cpu().numpy()\n",
    "\n",
    "ratings = ratings.cpu().numpy()"
   ]
  },
  {
   "cell_type": "code",
   "execution_count": 21,
   "metadata": {},
   "outputs": [
    {
     "data": {
      "text/plain": [
       "array([2.6532478, 2.6405017, 2.6621253, 2.669378 , 2.6575744, 2.662486 ,\n",
       "       2.65668  , 1.6789727, 2.663658 , 2.6374884, 2.6408446, 2.6415048,\n",
       "       2.6472414, 2.632039 , 2.6612802, 2.6268284, 2.6503525, 2.6651611,\n",
       "       2.6650126, 2.671319 , 2.6599352, 2.6690073, 2.6706314, 2.6888833,\n",
       "       2.6732924, 2.660433 , 2.6448584, 2.6653266, 2.64071  , 2.6815152,\n",
       "       2.6552804, 2.6636183, 2.6439917, 2.6569061, 2.646194 , 2.6564147,\n",
       "       2.6754594, 2.6748924, 2.668139 , 2.6626742, 2.650858 , 2.6432626,\n",
       "       2.63706  , 2.6374607, 2.6449142, 2.640527 , 2.6545246, 2.6660438,\n",
       "       2.690929 , 2.6554976, 2.6466553, 2.6608496, 2.6480286, 2.633802 ,\n",
       "       2.648716 , 2.631733 , 2.655828 , 2.6767685, 2.6675482, 2.671418 ,\n",
       "       2.6546588, 2.6746047, 2.6505797, 2.6468892, 2.647667 , 2.627858 ,\n",
       "       2.6672113, 2.6508546, 2.6743362, 2.6441815, 2.6680868, 2.6785343,\n",
       "       2.6630764, 2.6419277, 2.6363144, 2.628058 , 2.6566265, 2.679122 ,\n",
       "       2.6702006, 2.6801422, 2.6549368, 2.6474047, 2.6355445, 2.6179535,\n",
       "       2.6626084, 2.6745925, 2.671048 , 2.6349027, 2.6428022, 2.6629453,\n",
       "       2.6744804, 2.6626842, 2.644685 , 2.6358147, 2.659742 , 2.6589425,\n",
       "       2.6709106, 2.6567872, 2.6560261, 2.655343 , 2.6678884, 2.679079 ,\n",
       "       2.6778932, 2.6517777, 2.656003 , 2.6803255, 2.6719306, 2.6770287,\n",
       "       2.6781566, 2.6722622, 2.6491141, 2.6448686, 2.623687 , 1.6730763,\n",
       "       2.6382415, 2.6676173, 2.6697319, 2.6493692, 2.6500237, 2.691219 ,\n",
       "       2.6446576, 2.67534  , 2.6635761, 2.6657245, 2.6520984, 2.626316 ,\n",
       "       2.6436863, 2.636383 ], dtype=float32)"
      ]
     },
     "execution_count": 21,
     "metadata": {},
     "output_type": "execute_result"
    }
   ],
   "source": [
    "output"
   ]
  },
  {
   "cell_type": "code",
   "execution_count": 22,
   "metadata": {},
   "outputs": [],
   "source": [
    "mse = np.mean((ratings - output)**2)"
   ]
  },
  {
   "cell_type": "code",
   "execution_count": 23,
   "metadata": {},
   "outputs": [
    {
     "data": {
      "text/plain": [
       "1.9374061"
      ]
     },
     "execution_count": 23,
     "metadata": {},
     "output_type": "execute_result"
    }
   ],
   "source": [
    "mse"
   ]
  }
 ],
 "metadata": {
  "kernelspec": {
   "display_name": "Python 3",
   "language": "python",
   "name": "python3"
  },
  "language_info": {
   "codemirror_mode": {
    "name": "ipython",
    "version": 3
   },
   "file_extension": ".py",
   "mimetype": "text/x-python",
   "name": "python",
   "nbconvert_exporter": "python",
   "pygments_lexer": "ipython3",
   "version": "3.6.7"
  }
 },
 "nbformat": 4,
 "nbformat_minor": 2
}
