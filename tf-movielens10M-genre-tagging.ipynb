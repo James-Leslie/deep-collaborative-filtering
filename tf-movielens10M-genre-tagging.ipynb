{
 "cells": [
  {
   "cell_type": "markdown",
   "metadata": {},
   "source": [
    "[![Colab](https://colab.research.google.com/assets/colab-badge.svg)](https://colab.research.google.com/github/James-Leslie/deep-collaborative-filtering/blob/master/movielens_skorch.ipynb)"
   ]
  },
  {
   "cell_type": "markdown",
   "metadata": {},
   "source": [
    "# Genre prediction model\n",
    "Goal is to use ratings data to predict genres of items\n",
    "\n",
    "**Step 1:**\n",
    "Train a base model to predict user ratings\n",
    "\n",
    "![ratings-model](https://github.com/James-Leslie/deep-collaborative-filtering/blob/master/figures/ratings-model.pdf)\n",
    "\n",
    "**Step 2:**\n",
    "\n",
    "![genre-model](https://github.com/James-Leslie/deep-collaborative-filtering/blob/master/figures/genre-model.pdf)"
   ]
  },
  {
   "cell_type": "code",
   "execution_count": null,
   "metadata": {},
   "outputs": [],
   "source": [
    "!pip install tensorflow-gpu==2.0.0-beta1"
   ]
  },
  {
   "cell_type": "code",
   "execution_count": 1,
   "metadata": {},
   "outputs": [],
   "source": [
    "%load_ext tensorboard"
   ]
  },
  {
   "cell_type": "code",
   "execution_count": 2,
   "metadata": {},
   "outputs": [],
   "source": [
    "import numpy as np\n",
    "import pandas as pd\n",
    "import matplotlib.pyplot as plt\n",
    "import seaborn as sns\n",
    "import os, datetime\n",
    "from urllib.request import urlopen\n",
    "import warnings\n",
    "\n",
    "from tensorflow.keras.layers import Input, Embedding, Flatten, Dot, Dense, Concatenate, Dropout\n",
    "from tensorflow.keras.models import Model, load_model\n",
    "from tensorflow.keras.callbacks import ModelCheckpoint, TensorBoard\n",
    "\n",
    "from sklearn.model_selection import train_test_split\n",
    "\n",
    "%matplotlib inline"
   ]
  },
  {
   "cell_type": "markdown",
   "metadata": {},
   "source": [
    "## Load ratings data"
   ]
  },
  {
   "cell_type": "code",
   "execution_count": 3,
   "metadata": {},
   "outputs": [],
   "source": [
    "path = 'https://raw.githubusercontent.com/James-Leslie/deep-collaborative-filtering/master/data/goodbooks-10k/'  # access from anywhere\n",
    "# path = 'data/ml-10M100K/'  # if the files are local\n",
    "train = df = pd.concat((pd.read_csv(path+'train1.csv'), pd.read_csv(path+'train2.csv')), ignore_index=True)\n",
    "test = pd.read_csv(path+'test.csv')\n",
    "df = pd.concat((train, test), ignore_index=True)"
   ]
  },
  {
   "cell_type": "code",
   "execution_count": 4,
   "metadata": {},
   "outputs": [
    {
     "data": {
      "text/html": [
       "<div>\n",
       "<style scoped>\n",
       "    .dataframe tbody tr th:only-of-type {\n",
       "        vertical-align: middle;\n",
       "    }\n",
       "\n",
       "    .dataframe tbody tr th {\n",
       "        vertical-align: top;\n",
       "    }\n",
       "\n",
       "    .dataframe thead th {\n",
       "        text-align: right;\n",
       "    }\n",
       "</style>\n",
       "<table border=\"1\" class=\"dataframe\">\n",
       "  <thead>\n",
       "    <tr style=\"text-align: right;\">\n",
       "      <th></th>\n",
       "      <th>userId</th>\n",
       "      <th>movieId</th>\n",
       "      <th>rating</th>\n",
       "    </tr>\n",
       "  </thead>\n",
       "  <tbody>\n",
       "    <tr>\n",
       "      <th>0</th>\n",
       "      <td>17186</td>\n",
       "      <td>12</td>\n",
       "      <td>3.0</td>\n",
       "    </tr>\n",
       "    <tr>\n",
       "      <th>1</th>\n",
       "      <td>4960</td>\n",
       "      <td>5764</td>\n",
       "      <td>4.0</td>\n",
       "    </tr>\n",
       "    <tr>\n",
       "      <th>2</th>\n",
       "      <td>52144</td>\n",
       "      <td>1616</td>\n",
       "      <td>4.0</td>\n",
       "    </tr>\n",
       "    <tr>\n",
       "      <th>3</th>\n",
       "      <td>68149</td>\n",
       "      <td>1466</td>\n",
       "      <td>3.5</td>\n",
       "    </tr>\n",
       "    <tr>\n",
       "      <th>4</th>\n",
       "      <td>16898</td>\n",
       "      <td>1124</td>\n",
       "      <td>2.0</td>\n",
       "    </tr>\n",
       "  </tbody>\n",
       "</table>\n",
       "</div>"
      ],
      "text/plain": [
       "   userId  movieId  rating\n",
       "0   17186       12     3.0\n",
       "1    4960     5764     4.0\n",
       "2   52144     1616     4.0\n",
       "3   68149     1466     3.5\n",
       "4   16898     1124     2.0"
      ]
     },
     "execution_count": 4,
     "metadata": {},
     "output_type": "execute_result"
    }
   ],
   "source": [
    "df.head()"
   ]
  },
  {
   "cell_type": "code",
   "execution_count": 5,
   "metadata": {},
   "outputs": [
    {
     "data": {
      "text/plain": [
       "(10000054, 3)"
      ]
     },
     "execution_count": 5,
     "metadata": {},
     "output_type": "execute_result"
    }
   ],
   "source": [
    "df.shape"
   ]
  },
  {
   "cell_type": "code",
   "execution_count": 6,
   "metadata": {},
   "outputs": [],
   "source": [
    "n_users = df.userId.max() + 1\n",
    "n_items = df.movieId.max() + 1\n",
    "min_rating = df.rating.min()\n",
    "max_rating = df.rating.max()"
   ]
  },
  {
   "cell_type": "markdown",
   "metadata": {},
   "source": [
    "## Ratings model"
   ]
  },
  {
   "cell_type": "code",
   "execution_count": 7,
   "metadata": {},
   "outputs": [],
   "source": [
    "from tensorflow.keras import backend as K\n",
    "\n",
    "def stretch(x):\n",
    "    return K.sigmoid(x) * (max_rating - min_rating) + min_rating"
   ]
  },
  {
   "cell_type": "code",
   "execution_count": 8,
   "metadata": {},
   "outputs": [
    {
     "name": "stdout",
     "output_type": "stream",
     "text": [
      "Model: \"model\"\n",
      "__________________________________________________________________________________________________\n",
      "Layer (type)                    Output Shape         Param #     Connected to                     \n",
      "==================================================================================================\n",
      "Item-Input (InputLayer)         [(None, 1)]          0                                            \n",
      "__________________________________________________________________________________________________\n",
      "User-Input (InputLayer)         [(None, 1)]          0                                            \n",
      "__________________________________________________________________________________________________\n",
      "Item-Embedding (Embedding)      (None, 1, 25)        266925      Item-Input[0][0]                 \n",
      "__________________________________________________________________________________________________\n",
      "User-Embedding (Embedding)      (None, 1, 25)        1746950     User-Input[0][0]                 \n",
      "__________________________________________________________________________________________________\n",
      "Flatten-Items (Flatten)         (None, 25)           0           Item-Embedding[0][0]             \n",
      "__________________________________________________________________________________________________\n",
      "Flatten-Users (Flatten)         (None, 25)           0           User-Embedding[0][0]             \n",
      "__________________________________________________________________________________________________\n",
      "concatenate (Concatenate)       (None, 50)           0           Flatten-Items[0][0]              \n",
      "                                                                 Flatten-Users[0][0]              \n",
      "__________________________________________________________________________________________________\n",
      "dense (Dense)                   (None, 64)           3264        concatenate[0][0]                \n",
      "__________________________________________________________________________________________________\n",
      "dropout (Dropout)               (None, 64)           0           dense[0][0]                      \n",
      "__________________________________________________________________________________________________\n",
      "dense_1 (Dense)                 (None, 32)           2080        dropout[0][0]                    \n",
      "__________________________________________________________________________________________________\n",
      "dropout_1 (Dropout)             (None, 32)           0           dense_1[0][0]                    \n",
      "__________________________________________________________________________________________________\n",
      "dense_2 (Dense)                 (None, 1)            33          dropout_1[0][0]                  \n",
      "==================================================================================================\n",
      "Total params: 2,019,252\n",
      "Trainable params: 2,019,252\n",
      "Non-trainable params: 0\n",
      "__________________________________________________________________________________________________\n"
     ]
    }
   ],
   "source": [
    "# item embedding path\n",
    "item_input = Input(shape=[1], name=\"Item-Input\")\n",
    "item_embedding = Embedding(n_items, 25, name=\"Item-Embedding\")(item_input)\n",
    "item_vec = Flatten(name=\"Flatten-Items\")(item_embedding)\n",
    "\n",
    "# user embedding path\n",
    "user_input = Input(shape=[1], name=\"User-Input\")\n",
    "user_embedding = Embedding(n_users, 25, name=\"User-Embedding\")(user_input)\n",
    "user_vec = Flatten(name=\"Flatten-Users\")(user_embedding)\n",
    "\n",
    "# concatenate features\n",
    "conc = Concatenate()([item_vec, user_vec])\n",
    "\n",
    "# add fully-connected-layers\n",
    "fc1 = Dense(64, activation='relu')(conc)\n",
    "d1 = Dropout(.5)(fc1)\n",
    "fc2 = Dense(32, activation='relu')(d1)\n",
    "d2 = Dropout(.25)(fc2)\n",
    "out = Dense(1, activation=stretch)(d2)\n",
    "\n",
    "# create model and compile it\n",
    "model = Model([user_input, item_input], out)\n",
    "model.compile('adam', 'mean_squared_error')\n",
    "model.summary()"
   ]
  },
  {
   "cell_type": "markdown",
   "metadata": {},
   "source": [
    "#### load pre-trained weights"
   ]
  },
  {
   "cell_type": "code",
   "execution_count": null,
   "metadata": {},
   "outputs": [],
   "source": [
    "# ONLY RUN THIS BLOCK IF USING COLAB\n",
    "# os.makedirs('models', exist_ok=True)\n",
    "\n",
    "# # stable link for dataset\n",
    "# url = 'https://raw.githubusercontent.com/James-Leslie/deep-collaborative-filtering/master/models/'\n",
    "# checkpoints = ['movielens10M.ckpt.index', 'movielens10M.ckpt.data-00000-of-00002', 'movielens10M.ckpt.data-00001-of-00002']\n",
    "\n",
    "# for c in checkpoints:\n",
    "#     downloaded = urlopen(url + c)\n",
    "#     buf = downloaded.read()\n",
    "\n",
    "#     # save file and extract contents\n",
    "#     with open('models/'+c, 'wb') as f:\n",
    "#         f.write(buf)"
   ]
  },
  {
   "cell_type": "code",
   "execution_count": 9,
   "metadata": {},
   "outputs": [
    {
     "data": {
      "text/plain": [
       "<tensorflow.python.training.tracking.util.CheckpointLoadStatus at 0x16904bd1b00>"
      ]
     },
     "execution_count": 9,
     "metadata": {},
     "output_type": "execute_result"
    }
   ],
   "source": [
    "model.load_weights(\"models/movielens10M.ckpt\")"
   ]
  },
  {
   "cell_type": "markdown",
   "metadata": {},
   "source": [
    "#### check its predictive accuracy on the ratings"
   ]
  },
  {
   "cell_type": "code",
   "execution_count": 10,
   "metadata": {},
   "outputs": [
    {
     "name": "stdout",
     "output_type": "stream",
     "text": [
      "10000054/10000054 [==============================] - 63s 6us/sample - loss: 0.6412\n"
     ]
    },
    {
     "data": {
      "text/plain": [
       "0.6411908849552477"
      ]
     },
     "execution_count": 10,
     "metadata": {},
     "output_type": "execute_result"
    }
   ],
   "source": [
    "model.evaluate([df.userId, df.movieId], df.rating, batch_size=1024)"
   ]
  },
  {
   "cell_type": "code",
   "execution_count": 11,
   "metadata": {},
   "outputs": [
    {
     "data": {
      "text/plain": [
       "0.8007496487667041"
      ]
     },
     "execution_count": 11,
     "metadata": {},
     "output_type": "execute_result"
    }
   ],
   "source": [
    "np.sqrt(0.6412)"
   ]
  },
  {
   "cell_type": "code",
   "execution_count": 12,
   "metadata": {},
   "outputs": [
    {
     "name": "stdout",
     "output_type": "stream",
     "text": [
      "[3.4416304] 3.0\n",
      "[3.6104715] 4.0\n",
      "[3.5779662] 4.0\n",
      "[3.340524] 3.5\n",
      "[2.1260123] 2.0\n",
      "[2.9319258] 3.0\n",
      "[3.3849223] 3.5\n",
      "[2.7936099] 2.5\n",
      "[2.7770824] 3.0\n",
      "[4.0854893] 4.0\n"
     ]
    },
    {
     "data": {
      "text/plain": [
       "[None, None, None, None, None, None, None, None, None, None]"
      ]
     },
     "execution_count": 12,
     "metadata": {},
     "output_type": "execute_result"
    }
   ],
   "source": [
    "predictions = model.predict([df.userId.head(10), df.movieId.head(10)])\n",
    "\n",
    "[print(predictions[i], df.rating.iloc[i]) for i in range(0,10)]"
   ]
  },
  {
   "cell_type": "markdown",
   "metadata": {},
   "source": [
    "## Create second model to predict genres\n",
    "We will re-use the item embedding layer from the base model to learn a mapping between embeddings and genres"
   ]
  },
  {
   "cell_type": "code",
   "execution_count": 15,
   "metadata": {},
   "outputs": [],
   "source": [
    "# checkpoint_path = \"models/goodbooks_genres.ckpt\"\n",
    "# # checkpoint_dir = os.path.dirname(checkpoint_path)\n",
    "\n",
    "# # Create checkpoint callback\n",
    "# cp_callback = ModelCheckpoint(checkpoint_path,\n",
    "#                               save_weights_only=True,\n",
    "#                               verbose=1)"
   ]
  },
  {
   "cell_type": "code",
   "execution_count": 13,
   "metadata": {},
   "outputs": [],
   "source": [
    "logdir = os.path.join(\"logs\", datetime.datetime.now().strftime(\"%Y%m%d-%H%M%S\"))\n",
    "tensorboard_callback = TensorBoard(logdir, histogram_freq=1, embeddings_freq=1)\n",
    "os.makedirs(logdir, exist_ok=True)"
   ]
  },
  {
   "cell_type": "code",
   "execution_count": 18,
   "metadata": {},
   "outputs": [
    {
     "name": "stdout",
     "output_type": "stream",
     "text": [
      "Model: \"model_2\"\n",
      "_________________________________________________________________\n",
      "Layer (type)                 Output Shape              Param #   \n",
      "=================================================================\n",
      "Item-Input (InputLayer)      [(None, 1)]               0         \n",
      "_________________________________________________________________\n",
      "Item-Embedding (Embedding)   (None, 1, 25)             266925    \n",
      "_________________________________________________________________\n",
      "Flatten-Items (Flatten)      (None, 25)                0         \n",
      "_________________________________________________________________\n",
      "dense_6 (Dense)              (None, 32)                832       \n",
      "_________________________________________________________________\n",
      "dropout_4 (Dropout)          (None, 32)                0         \n",
      "_________________________________________________________________\n",
      "dense_7 (Dense)              (None, 24)                792       \n",
      "_________________________________________________________________\n",
      "dropout_5 (Dropout)          (None, 24)                0         \n",
      "_________________________________________________________________\n",
      "dense_8 (Dense)              (None, 18)                450       \n",
      "=================================================================\n",
      "Total params: 268,999\n",
      "Trainable params: 2,074\n",
      "Non-trainable params: 266,925\n",
      "_________________________________________________________________\n"
     ]
    }
   ],
   "source": [
    "# make new genre model\n",
    "fc1 = Dense(32, activation='relu')(item_vec)\n",
    "d1 = Dropout(.5)(fc1)\n",
    "fc2 = Dense(24, activation='relu')(d1)\n",
    "d2 = Dropout(.25)(fc2)\n",
    "genre_out = Dense(18, activation='sigmoid')(d2)\n",
    "\n",
    "# Create model and compile it\n",
    "model2 = Model(item_input, genre_out)\n",
    "# freeze the embedding layer\n",
    "model2.layers[1].trainable = False\n",
    "model2.compile(optimizer='adam', loss='binary_crossentropy' , metrics=['accuracy'])\n",
    "model2.summary()"
   ]
  },
  {
   "cell_type": "code",
   "execution_count": 23,
   "metadata": {},
   "outputs": [],
   "source": [
    "movies = pd.read_csv(path+'movies.tsv', sep='\\t')"
   ]
  },
  {
   "cell_type": "code",
   "execution_count": 24,
   "metadata": {},
   "outputs": [
    {
     "data": {
      "text/html": [
       "<div>\n",
       "<style scoped>\n",
       "    .dataframe tbody tr th:only-of-type {\n",
       "        vertical-align: middle;\n",
       "    }\n",
       "\n",
       "    .dataframe tbody tr th {\n",
       "        vertical-align: top;\n",
       "    }\n",
       "\n",
       "    .dataframe thead th {\n",
       "        text-align: right;\n",
       "    }\n",
       "</style>\n",
       "<table border=\"1\" class=\"dataframe\">\n",
       "  <thead>\n",
       "    <tr style=\"text-align: right;\">\n",
       "      <th></th>\n",
       "      <th>movieId</th>\n",
       "      <th>title</th>\n",
       "      <th>Action</th>\n",
       "      <th>Adventure</th>\n",
       "      <th>Animation</th>\n",
       "      <th>Children</th>\n",
       "      <th>Comedy</th>\n",
       "      <th>Crime</th>\n",
       "      <th>Documentary</th>\n",
       "      <th>Drama</th>\n",
       "      <th>Fantasy</th>\n",
       "      <th>Film-Noir</th>\n",
       "      <th>Horror</th>\n",
       "      <th>Musical</th>\n",
       "      <th>Mystery</th>\n",
       "      <th>Romance</th>\n",
       "      <th>Sci-Fi</th>\n",
       "      <th>Thriller</th>\n",
       "      <th>War</th>\n",
       "      <th>Western</th>\n",
       "    </tr>\n",
       "  </thead>\n",
       "  <tbody>\n",
       "    <tr>\n",
       "      <th>0</th>\n",
       "      <td>0</td>\n",
       "      <td>Boomerang (1992)</td>\n",
       "      <td>0</td>\n",
       "      <td>0</td>\n",
       "      <td>0</td>\n",
       "      <td>0</td>\n",
       "      <td>1</td>\n",
       "      <td>0</td>\n",
       "      <td>0</td>\n",
       "      <td>0</td>\n",
       "      <td>0</td>\n",
       "      <td>0</td>\n",
       "      <td>0</td>\n",
       "      <td>0</td>\n",
       "      <td>0</td>\n",
       "      <td>1</td>\n",
       "      <td>0</td>\n",
       "      <td>0</td>\n",
       "      <td>0</td>\n",
       "      <td>0</td>\n",
       "    </tr>\n",
       "    <tr>\n",
       "      <th>1</th>\n",
       "      <td>1</td>\n",
       "      <td>Net, The (1995)</td>\n",
       "      <td>1</td>\n",
       "      <td>0</td>\n",
       "      <td>0</td>\n",
       "      <td>0</td>\n",
       "      <td>0</td>\n",
       "      <td>1</td>\n",
       "      <td>0</td>\n",
       "      <td>0</td>\n",
       "      <td>0</td>\n",
       "      <td>0</td>\n",
       "      <td>0</td>\n",
       "      <td>0</td>\n",
       "      <td>0</td>\n",
       "      <td>0</td>\n",
       "      <td>0</td>\n",
       "      <td>1</td>\n",
       "      <td>0</td>\n",
       "      <td>0</td>\n",
       "    </tr>\n",
       "    <tr>\n",
       "      <th>2</th>\n",
       "      <td>2</td>\n",
       "      <td>Dumb &amp; Dumber (1994)</td>\n",
       "      <td>0</td>\n",
       "      <td>0</td>\n",
       "      <td>0</td>\n",
       "      <td>0</td>\n",
       "      <td>1</td>\n",
       "      <td>0</td>\n",
       "      <td>0</td>\n",
       "      <td>0</td>\n",
       "      <td>0</td>\n",
       "      <td>0</td>\n",
       "      <td>0</td>\n",
       "      <td>0</td>\n",
       "      <td>0</td>\n",
       "      <td>0</td>\n",
       "      <td>0</td>\n",
       "      <td>0</td>\n",
       "      <td>0</td>\n",
       "      <td>0</td>\n",
       "    </tr>\n",
       "    <tr>\n",
       "      <th>3</th>\n",
       "      <td>3</td>\n",
       "      <td>Outbreak (1995)</td>\n",
       "      <td>1</td>\n",
       "      <td>0</td>\n",
       "      <td>0</td>\n",
       "      <td>0</td>\n",
       "      <td>0</td>\n",
       "      <td>0</td>\n",
       "      <td>0</td>\n",
       "      <td>1</td>\n",
       "      <td>0</td>\n",
       "      <td>0</td>\n",
       "      <td>0</td>\n",
       "      <td>0</td>\n",
       "      <td>0</td>\n",
       "      <td>0</td>\n",
       "      <td>1</td>\n",
       "      <td>1</td>\n",
       "      <td>0</td>\n",
       "      <td>0</td>\n",
       "    </tr>\n",
       "    <tr>\n",
       "      <th>4</th>\n",
       "      <td>4</td>\n",
       "      <td>Stargate (1994)</td>\n",
       "      <td>1</td>\n",
       "      <td>1</td>\n",
       "      <td>0</td>\n",
       "      <td>0</td>\n",
       "      <td>0</td>\n",
       "      <td>0</td>\n",
       "      <td>0</td>\n",
       "      <td>0</td>\n",
       "      <td>0</td>\n",
       "      <td>0</td>\n",
       "      <td>0</td>\n",
       "      <td>0</td>\n",
       "      <td>0</td>\n",
       "      <td>0</td>\n",
       "      <td>1</td>\n",
       "      <td>0</td>\n",
       "      <td>0</td>\n",
       "      <td>0</td>\n",
       "    </tr>\n",
       "  </tbody>\n",
       "</table>\n",
       "</div>"
      ],
      "text/plain": [
       "   movieId                 title  Action  Adventure  Animation  Children  \\\n",
       "0        0      Boomerang (1992)       0          0          0         0   \n",
       "1        1       Net, The (1995)       1          0          0         0   \n",
       "2        2  Dumb & Dumber (1994)       0          0          0         0   \n",
       "3        3       Outbreak (1995)       1          0          0         0   \n",
       "4        4       Stargate (1994)       1          1          0         0   \n",
       "\n",
       "   Comedy  Crime  Documentary  Drama  Fantasy  Film-Noir  Horror  Musical  \\\n",
       "0       1      0            0      0        0          0       0        0   \n",
       "1       0      1            0      0        0          0       0        0   \n",
       "2       1      0            0      0        0          0       0        0   \n",
       "3       0      0            0      1        0          0       0        0   \n",
       "4       0      0            0      0        0          0       0        0   \n",
       "\n",
       "   Mystery  Romance  Sci-Fi  Thriller  War  Western  \n",
       "0        0        1       0         0    0        0  \n",
       "1        0        0       0         1    0        0  \n",
       "2        0        0       0         0    0        0  \n",
       "3        0        0       1         1    0        0  \n",
       "4        0        0       1         0    0        0  "
      ]
     },
     "execution_count": 24,
     "metadata": {},
     "output_type": "execute_result"
    }
   ],
   "source": [
    "movies.head()"
   ]
  },
  {
   "cell_type": "code",
   "execution_count": 25,
   "metadata": {},
   "outputs": [
    {
     "data": {
      "text/plain": [
       "(10677, 20)"
      ]
     },
     "execution_count": 25,
     "metadata": {},
     "output_type": "execute_result"
    }
   ],
   "source": [
    "movies.shape"
   ]
  },
  {
   "cell_type": "code",
   "execution_count": 26,
   "metadata": {},
   "outputs": [
    {
     "name": "stderr",
     "output_type": "stream",
     "text": [
      "WARNING: Logging before flag parsing goes to stderr.\n",
      "W0713 18:17:40.835523 14820 deprecation.py:323] From C:\\Users\\jlesl\\Anaconda3\\lib\\site-packages\\tensorflow\\python\\ops\\math_grad.py:1250: add_dispatch_support.<locals>.wrapper (from tensorflow.python.ops.array_ops) is deprecated and will be removed in a future version.\n",
      "Instructions for updating:\n",
      "Use tf.where in 2.0, which has the same broadcast rule as np.where\n"
     ]
    },
    {
     "name": "stdout",
     "output_type": "stream",
     "text": [
      "Train on 8541 samples, validate on 2136 samples\n",
      "Epoch 1/10\n",
      "8541/8541 [==============================] - 2s 219us/sample - loss: 0.5217 - accuracy: 0.7592 - val_loss: 0.3182 - val_accuracy: 0.9083\n",
      "Epoch 2/10\n",
      "8541/8541 [==============================] - 1s 139us/sample - loss: 0.3440 - accuracy: 0.8839 - val_loss: 0.2805 - val_accuracy: 0.9100\n",
      "Epoch 3/10\n",
      "8541/8541 [==============================] - 1s 134us/sample - loss: 0.3240 - accuracy: 0.8871 - val_loss: 0.2708 - val_accuracy: 0.9099\n",
      "Epoch 4/10\n",
      "8541/8541 [==============================] - 1s 134us/sample - loss: 0.3148 - accuracy: 0.8885 - val_loss: 0.2689 - val_accuracy: 0.9098\n",
      "Epoch 5/10\n",
      "8541/8541 [==============================] - 1s 136us/sample - loss: 0.3087 - accuracy: 0.8890 - val_loss: 0.2667 - val_accuracy: 0.9102\n",
      "Epoch 6/10\n",
      "8541/8541 [==============================] - 1s 123us/sample - loss: 0.3040 - accuracy: 0.8899 - val_loss: 0.2645 - val_accuracy: 0.9103\n",
      "Epoch 7/10\n",
      "8541/8541 [==============================] - 1s 128us/sample - loss: 0.3014 - accuracy: 0.8902 - val_loss: 0.2644 - val_accuracy: 0.9099\n",
      "Epoch 8/10\n",
      "8541/8541 [==============================] - 1s 125us/sample - loss: 0.2974 - accuracy: 0.8909 - val_loss: 0.2629 - val_accuracy: 0.9106\n",
      "Epoch 9/10\n",
      "8541/8541 [==============================] - 1s 134us/sample - loss: 0.2962 - accuracy: 0.8912 - val_loss: 0.2629 - val_accuracy: 0.9102\n",
      "Epoch 10/10\n",
      "8541/8541 [==============================] - 1s 128us/sample - loss: 0.2939 - accuracy: 0.8910 - val_loss: 0.2620 - val_accuracy: 0.9100\n"
     ]
    }
   ],
   "source": [
    "history = model2.fit(movies.movieId, movies.iloc[:,-18:], \n",
    "                     batch_size=64, \n",
    "                     epochs=10,\n",
    "                     validation_split=.2,\n",
    "                     callbacks=[tensorboard_callback])\n",
    "\n",
    "# plt.plot(history.history['loss'])\n",
    "# plt.xlabel(\"Epochs\")\n",
    "# plt.ylabel(\"Training Error\")"
   ]
  },
  {
   "cell_type": "markdown",
   "metadata": {},
   "source": [
    "### Open tensorboard to look at the embeddings\n",
    "  1. Run the block below\n",
    "  2. Click on the \"Projector\" tab\n",
    "  3. [Click here to download the embedding metadata file to your local machine](https://raw.githubusercontent.com/James-Leslie/deep-collaborative-filtering/master/data/goodbooks-10k/books.tsv)\n",
    "  4. Look for a button labelled \"Load\" in the panel on the left, use this to load the embedding metadata"
   ]
  },
  {
   "cell_type": "code",
   "execution_count": 27,
   "metadata": {},
   "outputs": [
    {
     "data": {
      "text/plain": [
       "Reusing TensorBoard on port 6006 (pid 11160), started 7:52:50 ago. (Use '!kill 11160' to kill it.)"
      ]
     },
     "metadata": {},
     "output_type": "display_data"
    },
    {
     "data": {
      "text/html": [
       "\n",
       "        <iframe\n",
       "            width=\"100%\"\n",
       "            height=\"800\"\n",
       "            src=\"http://localhost:6006\"\n",
       "            frameborder=\"0\"\n",
       "            allowfullscreen\n",
       "        ></iframe>\n",
       "        "
      ],
      "text/plain": [
       "<IPython.lib.display.IFrame at 0x16a1a24f748>"
      ]
     },
     "metadata": {},
     "output_type": "display_data"
    }
   ],
   "source": [
    "%tensorboard --logdir {logs}"
   ]
  },
  {
   "cell_type": "code",
   "execution_count": 28,
   "metadata": {},
   "outputs": [
    {
     "name": "stdout",
     "output_type": "stream",
     "text": [
      "10677/10677 [==============================] - 0s 28us/sample - loss: 0.2764 - accuracy: 0.8961\n"
     ]
    },
    {
     "data": {
      "text/plain": [
       "[0.2763676604768405, 0.8960643]"
      ]
     },
     "execution_count": 28,
     "metadata": {},
     "output_type": "execute_result"
    }
   ],
   "source": [
    "model2.evaluate(movies.movieId, movies.iloc[:,-18:], batch_size=128)"
   ]
  },
  {
   "cell_type": "code",
   "execution_count": 29,
   "metadata": {},
   "outputs": [
    {
     "data": {
      "text/plain": [
       "array([[0., 0., 0., 0., 0., 0., 0., 0., 0., 0., 0., 0., 0., 0., 0., 0.,\n",
       "        0., 0.],\n",
       "       [0., 0., 0., 0., 0., 0., 0., 0., 0., 0., 0., 0., 0., 0., 0., 0.,\n",
       "        0., 0.],\n",
       "       [0., 0., 0., 0., 0., 0., 0., 0., 0., 0., 0., 0., 0., 0., 0., 0.,\n",
       "        0., 0.],\n",
       "       [0., 0., 0., 0., 0., 0., 0., 0., 0., 0., 0., 0., 0., 0., 0., 0.,\n",
       "        0., 0.],\n",
       "       [0., 0., 0., 0., 0., 0., 0., 0., 0., 0., 0., 0., 0., 0., 0., 0.,\n",
       "        0., 0.],\n",
       "       [0., 0., 0., 0., 0., 0., 0., 0., 0., 0., 0., 0., 0., 0., 0., 0.,\n",
       "        0., 0.],\n",
       "       [0., 0., 0., 0., 1., 0., 0., 0., 0., 0., 0., 0., 0., 0., 0., 0.,\n",
       "        0., 0.],\n",
       "       [0., 0., 0., 0., 0., 0., 0., 0., 0., 0., 0., 0., 0., 0., 0., 0.,\n",
       "        0., 0.],\n",
       "       [0., 0., 0., 0., 0., 0., 0., 0., 0., 0., 0., 0., 0., 0., 0., 0.,\n",
       "        0., 0.],\n",
       "       [0., 0., 0., 0., 0., 0., 0., 0., 0., 0., 0., 0., 0., 0., 0., 0.,\n",
       "        0., 0.]], dtype=float32)"
      ]
     },
     "execution_count": 29,
     "metadata": {},
     "output_type": "execute_result"
    }
   ],
   "source": [
    "# check predictions of first 10 books\n",
    "np.round(model2.predict(movies.movieId.head(10)))"
   ]
  },
  {
   "cell_type": "markdown",
   "metadata": {},
   "source": [
    "## Check accuracy for only the Drama tag"
   ]
  },
  {
   "cell_type": "code",
   "execution_count": 32,
   "metadata": {},
   "outputs": [
    {
     "data": {
      "text/plain": [
       "movieId        5338.000000\n",
       "Action            0.137960\n",
       "Adventure         0.096001\n",
       "Animation         0.026787\n",
       "Children          0.049452\n",
       "Comedy            0.346820\n",
       "Crime             0.104617\n",
       "Documentary       0.045050\n",
       "Drama             0.499766\n",
       "Fantasy           0.050857\n",
       "Film-Noir         0.013862\n",
       "Horror            0.094877\n",
       "Musical           0.040835\n",
       "Mystery           0.047673\n",
       "Romance           0.157816\n",
       "Sci-Fi            0.070619\n",
       "Thriller          0.159689\n",
       "War               0.047766\n",
       "Western           0.025756\n",
       "dtype: float64"
      ]
     },
     "execution_count": 32,
     "metadata": {},
     "output_type": "execute_result"
    }
   ],
   "source": [
    "movies.mean()"
   ]
  },
  {
   "cell_type": "code",
   "execution_count": 30,
   "metadata": {},
   "outputs": [],
   "source": [
    "from sklearn.metrics import classification_report, confusion_matrix, precision_score, recall_score, f1_score"
   ]
  },
  {
   "cell_type": "code",
   "execution_count": 31,
   "metadata": {},
   "outputs": [],
   "source": [
    "y_true = movies.iloc[:,-18:]\n",
    "y_score = pd.DataFrame(model2.predict(movies.movieId), columns=y_true.columns)\n",
    "y_pred = y_score.round().astype('int')"
   ]
  },
  {
   "cell_type": "code",
   "execution_count": 33,
   "metadata": {},
   "outputs": [],
   "source": [
    "drama_true = y_true.Drama\n",
    "drama_pred = y_pred.Drama"
   ]
  },
  {
   "cell_type": "code",
   "execution_count": 34,
   "metadata": {},
   "outputs": [
    {
     "name": "stdout",
     "output_type": "stream",
     "text": [
      "              precision    recall  f1-score   support\n",
      "\n",
      "           0       0.65      0.61      0.63      5341\n",
      "           1       0.63      0.68      0.65      5336\n",
      "\n",
      "   micro avg       0.64      0.64      0.64     10677\n",
      "   macro avg       0.64      0.64      0.64     10677\n",
      "weighted avg       0.64      0.64      0.64     10677\n",
      "\n"
     ]
    }
   ],
   "source": [
    "print(classification_report(drama_true, drama_pred))"
   ]
  },
  {
   "cell_type": "code",
   "execution_count": 35,
   "metadata": {},
   "outputs": [
    {
     "data": {
      "text/html": [
       "<div>\n",
       "<style scoped>\n",
       "    .dataframe tbody tr th:only-of-type {\n",
       "        vertical-align: middle;\n",
       "    }\n",
       "\n",
       "    .dataframe tbody tr th {\n",
       "        vertical-align: top;\n",
       "    }\n",
       "\n",
       "    .dataframe thead th {\n",
       "        text-align: right;\n",
       "    }\n",
       "</style>\n",
       "<table border=\"1\" class=\"dataframe\">\n",
       "  <thead>\n",
       "    <tr style=\"text-align: right;\">\n",
       "      <th></th>\n",
       "      <th>0</th>\n",
       "      <th>1</th>\n",
       "    </tr>\n",
       "  </thead>\n",
       "  <tbody>\n",
       "    <tr>\n",
       "      <th>0</th>\n",
       "      <td>3244</td>\n",
       "      <td>2097</td>\n",
       "    </tr>\n",
       "    <tr>\n",
       "      <th>1</th>\n",
       "      <td>1722</td>\n",
       "      <td>3614</td>\n",
       "    </tr>\n",
       "  </tbody>\n",
       "</table>\n",
       "</div>"
      ],
      "text/plain": [
       "      0     1\n",
       "0  3244  2097\n",
       "1  1722  3614"
      ]
     },
     "execution_count": 35,
     "metadata": {},
     "output_type": "execute_result"
    }
   ],
   "source": [
    "pd.DataFrame(confusion_matrix(drama_true, drama_pred))"
   ]
  },
  {
   "cell_type": "code",
   "execution_count": 36,
   "metadata": {},
   "outputs": [],
   "source": [
    "from sklearn.metrics import precision_recall_curve\n",
    "precision, recall, thresholds = precision_recall_curve(drama_true, y_score.Drama)"
   ]
  },
  {
   "cell_type": "code",
   "execution_count": 37,
   "metadata": {},
   "outputs": [
    {
     "data": {
      "text/html": [
       "<div>\n",
       "<style scoped>\n",
       "    .dataframe tbody tr th:only-of-type {\n",
       "        vertical-align: middle;\n",
       "    }\n",
       "\n",
       "    .dataframe tbody tr th {\n",
       "        vertical-align: top;\n",
       "    }\n",
       "\n",
       "    .dataframe thead th {\n",
       "        text-align: right;\n",
       "    }\n",
       "</style>\n",
       "<table border=\"1\" class=\"dataframe\">\n",
       "  <thead>\n",
       "    <tr style=\"text-align: right;\">\n",
       "      <th></th>\n",
       "      <th>threshold</th>\n",
       "      <th>precision</th>\n",
       "      <th>recall</th>\n",
       "    </tr>\n",
       "  </thead>\n",
       "  <tbody>\n",
       "    <tr>\n",
       "      <th>0</th>\n",
       "      <td>0.067708</td>\n",
       "      <td>0.499906</td>\n",
       "      <td>1.000000</td>\n",
       "    </tr>\n",
       "    <tr>\n",
       "      <th>1</th>\n",
       "      <td>0.068340</td>\n",
       "      <td>0.499859</td>\n",
       "      <td>0.999813</td>\n",
       "    </tr>\n",
       "    <tr>\n",
       "      <th>2</th>\n",
       "      <td>0.073628</td>\n",
       "      <td>0.499906</td>\n",
       "      <td>0.999813</td>\n",
       "    </tr>\n",
       "    <tr>\n",
       "      <th>3</th>\n",
       "      <td>0.073643</td>\n",
       "      <td>0.499953</td>\n",
       "      <td>0.999813</td>\n",
       "    </tr>\n",
       "    <tr>\n",
       "      <th>4</th>\n",
       "      <td>0.073964</td>\n",
       "      <td>0.500000</td>\n",
       "      <td>0.999813</td>\n",
       "    </tr>\n",
       "  </tbody>\n",
       "</table>\n",
       "</div>"
      ],
      "text/plain": [
       "   threshold  precision    recall\n",
       "0   0.067708   0.499906  1.000000\n",
       "1   0.068340   0.499859  0.999813\n",
       "2   0.073628   0.499906  0.999813\n",
       "3   0.073643   0.499953  0.999813\n",
       "4   0.073964   0.500000  0.999813"
      ]
     },
     "execution_count": 37,
     "metadata": {},
     "output_type": "execute_result"
    }
   ],
   "source": [
    "prt_df = pd.DataFrame([thresholds, precision, recall]).T\n",
    "prt_df.columns = ['threshold','precision','recall']\n",
    "prt_df.head()"
   ]
  },
  {
   "cell_type": "code",
   "execution_count": 38,
   "metadata": {},
   "outputs": [
    {
     "data": {
      "image/png": "[encoded data removed]",
      "text/plain": [
       "<Figure size 432x288 with 1 Axes>"
      ]
     },
     "metadata": {
      "needs_background": "light"
     },
     "output_type": "display_data"
    }
   ],
   "source": [
    "sns.lineplot(x=prt_df.recall,\n",
    "             y=prt_df.precision)\n",
    "plt.show()"
   ]
  },
  {
   "cell_type": "markdown",
   "metadata": {},
   "source": [
    "### Global accuracy"
   ]
  },
  {
   "cell_type": "code",
   "execution_count": 39,
   "metadata": {},
   "outputs": [
    {
     "data": {
      "text/plain": [
       "Action         0.862040\n",
       "Adventure      0.903999\n",
       "Animation      0.973213\n",
       "Children       0.950548\n",
       "Comedy         0.656458\n",
       "Crime          0.895383\n",
       "Documentary    0.954950\n",
       "Drama          0.642315\n",
       "Fantasy        0.949143\n",
       "Film-Noir      0.986138\n",
       "Horror         0.905123\n",
       "Musical        0.959165\n",
       "Mystery        0.952327\n",
       "Romance        0.842184\n",
       "Sci-Fi         0.929381\n",
       "Thriller       0.840311\n",
       "War            0.952234\n",
       "Western        0.974244\n",
       "dtype: float64"
      ]
     },
     "execution_count": 39,
     "metadata": {},
     "output_type": "execute_result"
    }
   ],
   "source": [
    "(y_true == y_pred).astype('int').mean()"
   ]
  },
  {
   "cell_type": "code",
   "execution_count": 40,
   "metadata": {},
   "outputs": [
    {
     "data": {
      "text/plain": [
       "0.13168493022384564"
      ]
     },
     "execution_count": 40,
     "metadata": {},
     "output_type": "execute_result"
    }
   ],
   "source": [
    "from sklearn.metrics import accuracy_score, coverage_error\n",
    "# how many perfectly classified rows?\n",
    "accuracy_score(y_true, y_pred)"
   ]
  },
  {
   "cell_type": "code",
   "execution_count": 41,
   "metadata": {},
   "outputs": [
    {
     "data": {
      "text/plain": [
       "5.891448908869533"
      ]
     },
     "execution_count": 41,
     "metadata": {},
     "output_type": "execute_result"
    }
   ],
   "source": [
    "coverage_error(y_true, y_score)"
   ]
  },
  {
   "cell_type": "code",
   "execution_count": 42,
   "metadata": {},
   "outputs": [
    {
     "name": "stdout",
     "output_type": "stream",
     "text": [
      "              precision    recall  f1-score   support\n",
      "\n",
      "      Action       0.00      0.00      0.00      1473\n",
      "   Adventure       0.00      0.00      0.00      1025\n",
      "   Animation       0.00      0.00      0.00       286\n",
      "    Children       0.00      0.00      0.00       528\n",
      "      Comedy       0.54      0.06      0.11      3703\n",
      "       Crime       0.00      0.00      0.00      1117\n",
      " Documentary       0.00      0.00      0.00       481\n",
      "       Drama       0.63      0.68      0.65      5336\n",
      "     Fantasy       0.00      0.00      0.00       543\n",
      "   Film-Noir       0.00      0.00      0.00       148\n",
      "      Horror       0.00      0.00      0.00      1013\n",
      "     Musical       0.00      0.00      0.00       436\n",
      "     Mystery       0.00      0.00      0.00       509\n",
      "     Romance       0.00      0.00      0.00      1685\n",
      "      Sci-Fi       0.00      0.00      0.00       754\n",
      "    Thriller       0.00      0.00      0.00      1705\n",
      "         War       0.00      0.00      0.00       510\n",
      "     Western       0.00      0.00      0.00       275\n",
      "\n",
      "   micro avg       0.63      0.18      0.28     21527\n",
      "   macro avg       0.07      0.04      0.04     21527\n",
      "weighted avg       0.25      0.18      0.18     21527\n",
      " samples avg       0.36      0.23      0.26     21527\n",
      "\n"
     ]
    },
    {
     "name": "stderr",
     "output_type": "stream",
     "text": [
      "C:\\Users\\jlesl\\Anaconda3\\lib\\site-packages\\sklearn\\metrics\\classification.py:1143: UndefinedMetricWarning: Precision and F-score are ill-defined and being set to 0.0 in labels with no predicted samples.\n",
      "  'precision', 'predicted', average, warn_for)\n",
      "C:\\Users\\jlesl\\Anaconda3\\lib\\site-packages\\sklearn\\metrics\\classification.py:1143: UndefinedMetricWarning: Precision and F-score are ill-defined and being set to 0.0 in labels with no predicted samples.\n",
      "  'precision', 'predicted', average, warn_for)\n",
      "C:\\Users\\jlesl\\Anaconda3\\lib\\site-packages\\sklearn\\metrics\\classification.py:1143: UndefinedMetricWarning: Precision and F-score are ill-defined and being set to 0.0 in labels with no predicted samples.\n",
      "  'precision', 'predicted', average, warn_for)\n",
      "C:\\Users\\jlesl\\Anaconda3\\lib\\site-packages\\sklearn\\metrics\\classification.py:1143: UndefinedMetricWarning: Precision and F-score are ill-defined and being set to 0.0 in samples with no predicted labels.\n",
      "  'precision', 'predicted', average, warn_for)\n",
      "C:\\Users\\jlesl\\Anaconda3\\lib\\site-packages\\sklearn\\metrics\\classification.py:1145: UndefinedMetricWarning: Recall and F-score are ill-defined and being set to 0.0 in samples with no true labels.\n",
      "  'recall', 'true', average, warn_for)\n"
     ]
    }
   ],
   "source": [
    "print(classification_report(y_true, y_pred, target_names=y_true.columns))"
   ]
  },
  {
   "cell_type": "code",
   "execution_count": 43,
   "metadata": {},
   "outputs": [
    {
     "data": {
      "text/plain": [
       "0.8960642294443925"
      ]
     },
     "execution_count": 43,
     "metadata": {},
     "output_type": "execute_result"
    }
   ],
   "source": [
    "(y_true == y_pred).astype('int').mean().mean()"
   ]
  },
  {
   "cell_type": "code",
   "execution_count": 44,
   "metadata": {},
   "outputs": [
    {
     "data": {
      "text/plain": [
       "0.27807293360800894"
      ]
     },
     "execution_count": 44,
     "metadata": {},
     "output_type": "execute_result"
    }
   ],
   "source": [
    "f1_score(y_true, y_pred, average='micro')"
   ]
  },
  {
   "cell_type": "markdown",
   "metadata": {},
   "source": [
    "### Precision and Recall"
   ]
  },
  {
   "cell_type": "code",
   "execution_count": 45,
   "metadata": {},
   "outputs": [
    {
     "data": {
      "text/plain": [
       "0.17870581130673108"
      ]
     },
     "execution_count": 45,
     "metadata": {},
     "output_type": "execute_result"
    }
   ],
   "source": [
    "recall_score(y_true, y_pred, average='micro')"
   ]
  },
  {
   "cell_type": "code",
   "execution_count": 46,
   "metadata": {},
   "outputs": [
    {
     "data": {
      "text/plain": [
       "0.6263432106805601"
      ]
     },
     "execution_count": 46,
     "metadata": {},
     "output_type": "execute_result"
    }
   ],
   "source": [
    "precision_score(y_true, y_pred, average='micro')"
   ]
  }
 ],
 "metadata": {
  "kernelspec": {
   "display_name": "Python 3",
   "language": "python",
   "name": "python3"
  },
  "language_info": {
   "codemirror_mode": {
    "name": "ipython",
    "version": 3
   },
   "file_extension": ".py",
   "mimetype": "text/x-python",
   "name": "python",
   "nbconvert_exporter": "python",
   "pygments_lexer": "ipython3",
   "version": "3.7.3"
  }
 },
 "nbformat": 4,
 "nbformat_minor": 2
}
