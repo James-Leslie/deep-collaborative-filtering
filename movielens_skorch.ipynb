{
 "cells": [
  {
   "cell_type": "markdown",
   "metadata": {},
   "source": [
    "# Deep Colaborative Filtering using Skorch\n",
    "This notebook follows the steps required to build and train a neural network for the purpose of collaborative filtering, using the [MovieLens](https://grouplens.org/datasets/movielens/latest/) data set.   \n",
    "\n",
    "The neural network will be built using the [PyTorch](https://pytorch.org/) framework, with the [Skorch library](https://github.com/dnouri/skorch) being used to make training and testing the model simple.   "
   ]
  },
  {
   "cell_type": "markdown",
   "metadata": {},
   "source": [
    "<a target=\"_blank\" href=\"https://colab.research.google.com/github/James-Leslie/deep-collaborative-filtering/blob/master/movielens_skorch.ipynb\">\n",
    "    <img src=\"https://www.tensorflow.org/images/colab_logo_32px.png\" />Run in Google Colab</a>"
   ]
  },
  {
   "cell_type": "markdown",
   "metadata": {},
   "source": [
    "## Load data"
   ]
  },
  {
   "cell_type": "code",
   "execution_count": null,
   "metadata": {},
   "outputs": [],
   "source": [
    "# ! [ ! -z \"$COLAB_GPU\" ] && pip install torch skorch"
   ]
  },
  {
   "cell_type": "code",
   "execution_count": 1,
   "metadata": {},
   "outputs": [],
   "source": [
    "import numpy as np\n",
    "import pandas as pd\n",
    "from sklearn.model_selection import train_test_split"
   ]
  },
  {
   "cell_type": "code",
   "execution_count": 2,
   "metadata": {},
   "outputs": [],
   "source": [
    "data_url = 'https://raw.githubusercontent.com/James-Leslie/deep-collaborative-filtering/master/data/movielens-small/ratings.csv'"
   ]
  },
  {
   "cell_type": "code",
   "execution_count": 3,
   "metadata": {},
   "outputs": [],
   "source": [
    "df = pd.read_csv(data_url).drop('timestamp', axis=1)"
   ]
  },
  {
   "cell_type": "code",
   "execution_count": 4,
   "metadata": {},
   "outputs": [
    {
     "data": {
      "text/html": [
       "<div>\n",
       "<style scoped>\n",
       "    .dataframe tbody tr th:only-of-type {\n",
       "        vertical-align: middle;\n",
       "    }\n",
       "\n",
       "    .dataframe tbody tr th {\n",
       "        vertical-align: top;\n",
       "    }\n",
       "\n",
       "    .dataframe thead th {\n",
       "        text-align: right;\n",
       "    }\n",
       "</style>\n",
       "<table border=\"1\" class=\"dataframe\">\n",
       "  <thead>\n",
       "    <tr style=\"text-align: right;\">\n",
       "      <th></th>\n",
       "      <th>userId</th>\n",
       "      <th>movieId</th>\n",
       "      <th>rating</th>\n",
       "    </tr>\n",
       "  </thead>\n",
       "  <tbody>\n",
       "    <tr>\n",
       "      <th>0</th>\n",
       "      <td>1</td>\n",
       "      <td>1</td>\n",
       "      <td>4.0</td>\n",
       "    </tr>\n",
       "    <tr>\n",
       "      <th>1</th>\n",
       "      <td>1</td>\n",
       "      <td>3</td>\n",
       "      <td>4.0</td>\n",
       "    </tr>\n",
       "    <tr>\n",
       "      <th>2</th>\n",
       "      <td>1</td>\n",
       "      <td>6</td>\n",
       "      <td>4.0</td>\n",
       "    </tr>\n",
       "    <tr>\n",
       "      <th>3</th>\n",
       "      <td>1</td>\n",
       "      <td>47</td>\n",
       "      <td>5.0</td>\n",
       "    </tr>\n",
       "    <tr>\n",
       "      <th>4</th>\n",
       "      <td>1</td>\n",
       "      <td>50</td>\n",
       "      <td>5.0</td>\n",
       "    </tr>\n",
       "  </tbody>\n",
       "</table>\n",
       "</div>"
      ],
      "text/plain": [
       "   userId  movieId  rating\n",
       "0       1        1     4.0\n",
       "1       1        3     4.0\n",
       "2       1        6     4.0\n",
       "3       1       47     5.0\n",
       "4       1       50     5.0"
      ]
     },
     "execution_count": 4,
     "metadata": {},
     "output_type": "execute_result"
    }
   ],
   "source": [
    "df.head()"
   ]
  },
  {
   "cell_type": "code",
   "execution_count": 5,
   "metadata": {},
   "outputs": [],
   "source": [
    "n_users = df.userId.nunique()\n",
    "n_items = df.movieId.nunique()\n",
    "max_score = max(df.rating)\n",
    "min_score = min(df.rating)"
   ]
  },
  {
   "cell_type": "code",
   "execution_count": 6,
   "metadata": {},
   "outputs": [
    {
     "name": "stdout",
     "output_type": "stream",
     "text": [
      "Number of users: 610\n",
      "Number of movies: 9724\n",
      "Ratings range between 0.5 and 5.0\n"
     ]
    }
   ],
   "source": [
    "print(\"Number of users:\", n_users) \n",
    "print(\"Number of movies:\", n_items)\n",
    "print(\"Ratings range between\", min_score, \"and\", max_score)"
   ]
  },
  {
   "cell_type": "markdown",
   "metadata": {},
   "source": [
    "### Encode IDs from 0-n\n",
    "The users and movies in the data set all have unique IDs, but the values of these IDs do not all fall in one sequential range from 0 up to the total number of users/movies.   \n",
    "\n",
    "Since there will be an embedding layer in the neural network, the user and movie IDs need to reset to all fall between 0 and the total number of users and movies respectively."
   ]
  },
  {
   "cell_type": "code",
   "execution_count": 7,
   "metadata": {},
   "outputs": [],
   "source": [
    "# sort IDs\n",
    "movie_ids = np.sort(df.movieId.unique())\n",
    "user_ids = np.sort(df.userId.unique())"
   ]
  },
  {
   "cell_type": "code",
   "execution_count": 8,
   "metadata": {},
   "outputs": [],
   "source": [
    "def create_index(data, start=0):\n",
    "    \n",
    "    'Create mapping from unordered IDs to sequential IDs, ranging from 0-n'\n",
    "\n",
    "    encoder = {}\n",
    "    decoder = {}\n",
    "\n",
    "    idx = start\n",
    "    for item in data:\n",
    "\n",
    "        if item not in encoder.keys():\n",
    "            encoder[item] = idx\n",
    "            decoder[idx] = item\n",
    "            idx += 1\n",
    "\n",
    "    return encoder, decoder"
   ]
  },
  {
   "cell_type": "code",
   "execution_count": 9,
   "metadata": {},
   "outputs": [],
   "source": [
    "movie_encoder, movie_decoder = create_index(movie_ids)\n",
    "user_encoder, user_decoder = create_index(user_ids)"
   ]
  },
  {
   "cell_type": "code",
   "execution_count": 10,
   "metadata": {},
   "outputs": [],
   "source": [
    "df.movieId = df.movieId.replace(movie_encoder)\n",
    "df.userId = df.userId.replace(user_encoder)"
   ]
  },
  {
   "cell_type": "code",
   "execution_count": 11,
   "metadata": {},
   "outputs": [
    {
     "name": "stdout",
     "output_type": "stream",
     "text": [
      "Max user ID: 609\n",
      "Max movie ID: 9723\n"
     ]
    }
   ],
   "source": [
    "print(\"Max user ID:\", max(df.userId.unique()))\n",
    "print(\"Max movie ID:\", max(df.movieId.unique()))"
   ]
  },
  {
   "cell_type": "markdown",
   "metadata": {},
   "source": [
    "There are a total of 610 users, who now each have a unique ID between 0 and 609, and similarly the movies now all have IDs between 0 and 9723."
   ]
  },
  {
   "cell_type": "markdown",
   "metadata": {},
   "source": [
    "### Create test set\n",
    "The next step is to split the data into train and test sets. A ratio of 80:20 will be used in this example.   \n",
    "\n",
    "First, the data is separated into features (user Ids, movie Ids) and targets (ratings)."
   ]
  },
  {
   "cell_type": "code",
   "execution_count": 12,
   "metadata": {},
   "outputs": [],
   "source": [
    "X = df.iloc[:,:2].values\n",
    "y = df.iloc[:,2].values\n",
    "y = y.astype('float32')"
   ]
  },
  {
   "cell_type": "markdown",
   "metadata": {},
   "source": [
    "Then, the features and targets are separated into train and test sets."
   ]
  },
  {
   "cell_type": "code",
   "execution_count": 13,
   "metadata": {},
   "outputs": [],
   "source": [
    "X_train, X_test, y_train, y_test = train_test_split(X, y, \n",
    "                                                    test_size=0.2,\n",
    "                                                    random_state=42,\n",
    "                                                    stratify=X[:,0])"
   ]
  },
  {
   "cell_type": "code",
   "execution_count": 14,
   "metadata": {},
   "outputs": [],
   "source": [
    "y_train, y_test = y_train.reshape(-1, 1), y_test.reshape(-1, 1)"
   ]
  },
  {
   "cell_type": "code",
   "execution_count": 15,
   "metadata": {},
   "outputs": [
    {
     "data": {
      "text/plain": [
       "((80668, 2), (80668, 1))"
      ]
     },
     "execution_count": 15,
     "metadata": {},
     "output_type": "execute_result"
    }
   ],
   "source": [
    "X_train.shape, y_train.shape"
   ]
  },
  {
   "cell_type": "code",
   "execution_count": 23,
   "metadata": {},
   "outputs": [],
   "source": [
    "train = pd.DataFrame(np.hstack((X_train, y_train)), columns=['userId', 'movieId', 'rating'])\n",
    "test = pd.DataFrame(np.hstack((X_test, y_test)), columns=['userId', 'movieId', 'rating'])"
   ]
  },
  {
   "cell_type": "code",
   "execution_count": 27,
   "metadata": {},
   "outputs": [],
   "source": [
    "train.to_csv('data/movielens-small/train.csv', index=False)\n",
    "test.to_csv('data/movielens-small/test.csv', index=False)"
   ]
  },
  {
   "cell_type": "markdown",
   "metadata": {},
   "source": [
    "## Neural network\n",
    "The next step is to create the neural network, using the PyTorch framework.   \n",
    "\n",
    "This neural network will be pretty simple, with the input being simply a user-movie pair, and the output being a predicted rating.\n",
    "Between the input and the output, we have two layers:   \n",
    "  - embedding layer (with dropout)\n",
    "  - hidden layer (with dropout and relu activation function)   \n",
    "  \n",
    "![Architecture](https://github.com/James-Leslie/Netflix-Recommender-System/blob/master/diagrams/EmbeddingNet.png?raw=true)   "
   ]
  },
  {
   "cell_type": "markdown",
   "metadata": {},
   "source": [
    "The architecture shown above is very similar to that of a standard feed-forward neural network, with one significant difference.   \n",
    "\n",
    "Each User and Movie ID will have a set of embeddings which can be 'learned' through training.   \n",
    "Only when observations with that particular User or Movie ID are fed through the network, will the network activate (and update) the mapped embeddings.   \n",
    "In other words, User1 and User2 will have different values for the nodes in the first layer. When passing ratings made my User1 into the network, then only User1's embedding layer will be trained.   \n",
    "Similarly, when ratings for Movie1 are passed into the network, then only the movie embeddings associated to that movie will be updated through training.   \n",
    "\n",
    "The hidden layer of the network is fully connected to the embedding layer, and thus will always be updated in any training batch.   \n",
    "\n",
    "Finally, a scaled sigmoid activation function is used to squeeze the outputs between 0.5 and 5.0."
   ]
  },
  {
   "cell_type": "code",
   "execution_count": 28,
   "metadata": {},
   "outputs": [],
   "source": [
    "import torch\n",
    "from torch import nn\n",
    "import torch.nn.functional as F"
   ]
  },
  {
   "cell_type": "code",
   "execution_count": 29,
   "metadata": {},
   "outputs": [],
   "source": [
    "device = 'cuda' if torch.cuda.is_available() else 'cpu'"
   ]
  },
  {
   "cell_type": "code",
   "execution_count": 30,
   "metadata": {},
   "outputs": [],
   "source": [
    "def get_emb(ni,nf):\n",
    "    e = nn.Embedding(ni, nf)\n",
    "    e.weight.data.uniform_(-0.01,0.01)\n",
    "    return e"
   ]
  },
  {
   "cell_type": "code",
   "execution_count": 31,
   "metadata": {},
   "outputs": [],
   "source": [
    "class EmbeddingNet(nn.Module):\n",
    "    def __init__(self, n_factors, n_users, n_items, min_score, max_score):\n",
    "        super().__init__()\n",
    "        self.min_score, self.max_score = min_score, max_score\n",
    "\n",
    "        # get user and item embeddings\n",
    "        (self.u, self.i) = [get_emb(*o) for o in [\n",
    "            (n_users, n_factors), (n_items, n_factors)]]\n",
    "        self.lin1 = nn.Linear(n_factors*2, 10)  # 10 hidden neurons\n",
    "        self.lin2 = nn.Linear(10, 1)\n",
    "        self.drop1 = nn.Dropout(0.1)  # dropout rate of 5%\n",
    "        self.drop2 = nn.Dropout(0.25)  # dropout rate of 15%\n",
    "\n",
    "    def forward(self, X, **kwargs):\n",
    "        users, items = X[:,0], X[:,1]\n",
    "        # concatenate embeddings to form first layer, add dropout\n",
    "        x = self.drop1(torch.cat([self.u(users),self.i(items)], dim=1))\n",
    "        # second layer with 10 hidden neurons and dropout\n",
    "        x = self.drop2(F.relu(self.lin1(x)))\n",
    "        # output layer with one neuron\n",
    "        x = self.lin2(x)\n",
    "        # add sigmoid activation function, but squeeze between min and max score\n",
    "        return torch.sigmoid(x) * (self.max_score - self.min_score) + self.min_score"
   ]
  },
  {
   "cell_type": "markdown",
   "metadata": {},
   "source": [
    "### Training using Skorch\n",
    "The skorch library makes it easy to train the model, in a similar manner to Sk Learn models."
   ]
  },
  {
   "cell_type": "code",
   "execution_count": 32,
   "metadata": {},
   "outputs": [],
   "source": [
    "from skorch import NeuralNetRegressor"
   ]
  },
  {
   "cell_type": "code",
   "execution_count": 33,
   "metadata": {},
   "outputs": [],
   "source": [
    "net = NeuralNetRegressor(\n",
    "    module=EmbeddingNet,\n",
    "    module__n_factors=25,\n",
    "    module__n_users=n_users,\n",
    "    module__n_items=n_items,\n",
    "    module__min_score=min_score,\n",
    "    module__max_score=max_score,\n",
    "    max_epochs=7,\n",
    "    lr=0.1,\n",
    "    device='cpu',\n",
    ")"
   ]
  },
  {
   "cell_type": "code",
   "execution_count": 34,
   "metadata": {},
   "outputs": [
    {
     "name": "stdout",
     "output_type": "stream",
     "text": [
      "  epoch    train_loss    valid_loss     dur\n",
      "-------  ------------  ------------  ------\n",
      "      1        1.0880        1.0855  2.1411\n",
      "      2        1.0046        0.9138  1.8790\n",
      "      3        0.8889        0.8340  1.9199\n",
      "      4        0.8236        0.7985  1.8909\n",
      "      5        0.7834        0.7799  1.8800\n",
      "      6        0.7560        0.7917  1.8909\n",
      "      7        0.7412        0.7714  1.9428\n"
     ]
    },
    {
     "data": {
      "text/plain": [
       "<class 'skorch.regressor.NeuralNetRegressor'>[initialized](\n",
       "  module_=EmbeddingNet(\n",
       "    (u): Embedding(610, 25)\n",
       "    (i): Embedding(9724, 25)\n",
       "    (lin1): Linear(in_features=50, out_features=10, bias=True)\n",
       "    (lin2): Linear(in_features=10, out_features=1, bias=True)\n",
       "    (drop1): Dropout(p=0.1)\n",
       "    (drop2): Dropout(p=0.25)\n",
       "  ),\n",
       ")"
      ]
     },
     "execution_count": 34,
     "metadata": {},
     "output_type": "execute_result"
    }
   ],
   "source": [
    "net.fit(X_train, y_train)"
   ]
  },
  {
   "cell_type": "markdown",
   "metadata": {},
   "source": [
    "### Test on unseen data\n",
    "The RMSE score on the test set for this model is 0.886, which is better than the best performance (0.91) achieved by the [Librec System](https://www.librec.net/release/v1.3/example.html) for collaborative filtering."
   ]
  },
  {
   "cell_type": "code",
   "execution_count": 35,
   "metadata": {},
   "outputs": [],
   "source": [
    "preds = net.predict(X_test)"
   ]
  },
  {
   "cell_type": "code",
   "execution_count": 36,
   "metadata": {},
   "outputs": [],
   "source": [
    "import seaborn as sns"
   ]
  },
  {
   "cell_type": "code",
   "execution_count": 37,
   "metadata": {},
   "outputs": [
    {
     "name": "stderr",
     "output_type": "stream",
     "text": [
      "C:\\Users\\jlesl\\Anaconda3\\lib\\site-packages\\scipy\\stats\\stats.py:1713: FutureWarning: Using a non-tuple sequence for multidimensional indexing is deprecated; use `arr[tuple(seq)]` instead of `arr[seq]`. In the future this will be interpreted as an array index, `arr[np.array(seq)]`, which will result either in an error or a different result.\n",
      "  return np.add.reduce(sorted[indexer] * weights, axis=axis) / sumval\n"
     ]
    },
    {
     "data": {
      "image/png": "[encoded data removed]",
      "text/plain": [
       "<Figure size 432x432 with 3 Axes>"
      ]
     },
     "metadata": {
      "needs_background": "light"
     },
     "output_type": "display_data"
    }
   ],
   "source": [
    "sns.jointplot(preds, y_test, kind='hex', stat_func=None);"
   ]
  },
  {
   "cell_type": "code",
   "execution_count": 38,
   "metadata": {},
   "outputs": [
    {
     "data": {
      "text/plain": [
       "0.8678443"
      ]
     },
     "execution_count": 38,
     "metadata": {},
     "output_type": "execute_result"
    }
   ],
   "source": [
    "np.sqrt(np.mean((preds - y_test) ** 2))"
   ]
  },
  {
   "cell_type": "markdown",
   "metadata": {},
   "source": [
    "# Now, try to train the same model with PyTorch\n",
    "Use the same `EmbeddingNet` model as before, but now do the training process using plain PyTorch, instead of Skorch."
   ]
  },
  {
   "cell_type": "code",
   "execution_count": 39,
   "metadata": {},
   "outputs": [],
   "source": [
    "from torch.utils.data import Dataset, DataLoader\n",
    "from torch import optim\n",
    "from tqdm import tqdm_notebook as tqdm"
   ]
  },
  {
   "cell_type": "markdown",
   "metadata": {},
   "source": [
    "## Load data\n",
    "First, need to create a `Dataset` class which will be used to send data to the model."
   ]
  },
  {
   "cell_type": "code",
   "execution_count": 40,
   "metadata": {},
   "outputs": [],
   "source": [
    "class ExplicitDataset(Dataset):\n",
    "    \"\"\"Recommender dataset with explicit ratings\"\"\"\n",
    "\n",
    "    def __init__(self, csv_file, users='user_id', items='item_id', ratings='rating'):\n",
    "        \"\"\"\n",
    "        Args:\n",
    "        csv_file (string):\n",
    "            Path to the csv file with user-item interactions\n",
    "\n",
    "        users (string):\n",
    "            column name from long_df for user IDs\n",
    "\n",
    "        items (string):\n",
    "            column name from long_df for item IDs\n",
    "\n",
    "        ratings (string):\n",
    "            column name from long_df for ratings\n",
    "        \"\"\"\n",
    "\n",
    "        self.df = pd.read_csv(csv_file)\n",
    "\n",
    "        # get column numbers\n",
    "        self.user_loc = self.df.columns.get_loc(users)\n",
    "        self.item_loc = self.df.columns.get_loc(items)\n",
    "        self.rating_loc = self.df.columns.get_loc(ratings)\n",
    "\n",
    "    def __len__(self):\n",
    "        return len(self.df)\n",
    "\n",
    "    def __getitem__(self, idx):\n",
    "        inputs = torch.tensor(self.df.iloc[idx, :-1].values.astype('int64'))\n",
    "        rating = torch.tensor(self.df.iloc[idx, self.rating_loc])\n",
    "\n",
    "        return (inputs, rating)"
   ]
  },
  {
   "cell_type": "markdown",
   "metadata": {},
   "source": [
    "### \"Here's one I made earlier\"\n",
    "I have two files which I saved earlier as CSVs. I made sure to keep the user and item IDs in the correct format (0-n as above)."
   ]
  },
  {
   "cell_type": "code",
   "execution_count": 41,
   "metadata": {},
   "outputs": [],
   "source": [
    "train_url = 'https://raw.githubusercontent.com/James-Leslie/deep-collaborative-filtering/master/data/movielens-small/train.csv'\n",
    "test_url = 'https://raw.githubusercontent.com/James-Leslie/deep-collaborative-filtering/master/data/movielens-small/test.csv'"
   ]
  },
  {
   "cell_type": "markdown",
   "metadata": {},
   "source": [
    "Quick confirmation that the data is still intact:"
   ]
  },
  {
   "cell_type": "code",
   "execution_count": 42,
   "metadata": {},
   "outputs": [],
   "source": [
    "train = ExplicitDataset(csv_file=train_url, users='userId', items='movieId')\n",
    "test = ExplicitDataset(csv_file=test_url, users='userId', items='movieId')"
   ]
  },
  {
   "cell_type": "code",
   "execution_count": 43,
   "metadata": {},
   "outputs": [
    {
     "data": {
      "text/html": [
       "<div>\n",
       "<style scoped>\n",
       "    .dataframe tbody tr th:only-of-type {\n",
       "        vertical-align: middle;\n",
       "    }\n",
       "\n",
       "    .dataframe tbody tr th {\n",
       "        vertical-align: top;\n",
       "    }\n",
       "\n",
       "    .dataframe thead th {\n",
       "        text-align: right;\n",
       "    }\n",
       "</style>\n",
       "<table border=\"1\" class=\"dataframe\">\n",
       "  <thead>\n",
       "    <tr style=\"text-align: right;\">\n",
       "      <th></th>\n",
       "      <th>userId</th>\n",
       "      <th>movieId</th>\n",
       "      <th>rating</th>\n",
       "    </tr>\n",
       "  </thead>\n",
       "  <tbody>\n",
       "    <tr>\n",
       "      <th>0</th>\n",
       "      <td>463</td>\n",
       "      <td>2247</td>\n",
       "      <td>2.5</td>\n",
       "    </tr>\n",
       "    <tr>\n",
       "      <th>1</th>\n",
       "      <td>306</td>\n",
       "      <td>1616</td>\n",
       "      <td>2.5</td>\n",
       "    </tr>\n",
       "    <tr>\n",
       "      <th>2</th>\n",
       "      <td>605</td>\n",
       "      <td>98</td>\n",
       "      <td>3.5</td>\n",
       "    </tr>\n",
       "    <tr>\n",
       "      <th>3</th>\n",
       "      <td>306</td>\n",
       "      <td>2437</td>\n",
       "      <td>3.0</td>\n",
       "    </tr>\n",
       "    <tr>\n",
       "      <th>4</th>\n",
       "      <td>408</td>\n",
       "      <td>2030</td>\n",
       "      <td>4.0</td>\n",
       "    </tr>\n",
       "  </tbody>\n",
       "</table>\n",
       "</div>"
      ],
      "text/plain": [
       "   userId  movieId  rating\n",
       "0     463     2247     2.5\n",
       "1     306     1616     2.5\n",
       "2     605       98     3.5\n",
       "3     306     2437     3.0\n",
       "4     408     2030     4.0"
      ]
     },
     "execution_count": 43,
     "metadata": {},
     "output_type": "execute_result"
    }
   ],
   "source": [
    "train.df.head()"
   ]
  },
  {
   "cell_type": "code",
   "execution_count": 44,
   "metadata": {},
   "outputs": [
    {
     "data": {
      "text/html": [
       "<div>\n",
       "<style scoped>\n",
       "    .dataframe tbody tr th:only-of-type {\n",
       "        vertical-align: middle;\n",
       "    }\n",
       "\n",
       "    .dataframe tbody tr th {\n",
       "        vertical-align: top;\n",
       "    }\n",
       "\n",
       "    .dataframe thead th {\n",
       "        text-align: right;\n",
       "    }\n",
       "</style>\n",
       "<table border=\"1\" class=\"dataframe\">\n",
       "  <thead>\n",
       "    <tr style=\"text-align: right;\">\n",
       "      <th></th>\n",
       "      <th>userId</th>\n",
       "      <th>movieId</th>\n",
       "      <th>rating</th>\n",
       "    </tr>\n",
       "  </thead>\n",
       "  <tbody>\n",
       "    <tr>\n",
       "      <th>0</th>\n",
       "      <td>160</td>\n",
       "      <td>6208</td>\n",
       "      <td>0.5</td>\n",
       "    </tr>\n",
       "    <tr>\n",
       "      <th>1</th>\n",
       "      <td>134</td>\n",
       "      <td>857</td>\n",
       "      <td>4.0</td>\n",
       "    </tr>\n",
       "    <tr>\n",
       "      <th>2</th>\n",
       "      <td>522</td>\n",
       "      <td>8627</td>\n",
       "      <td>5.0</td>\n",
       "    </tr>\n",
       "    <tr>\n",
       "      <th>3</th>\n",
       "      <td>367</td>\n",
       "      <td>1118</td>\n",
       "      <td>3.0</td>\n",
       "    </tr>\n",
       "    <tr>\n",
       "      <th>4</th>\n",
       "      <td>57</td>\n",
       "      <td>200</td>\n",
       "      <td>4.0</td>\n",
       "    </tr>\n",
       "  </tbody>\n",
       "</table>\n",
       "</div>"
      ],
      "text/plain": [
       "   userId  movieId  rating\n",
       "0     160     6208     0.5\n",
       "1     134      857     4.0\n",
       "2     522     8627     5.0\n",
       "3     367     1118     3.0\n",
       "4      57      200     4.0"
      ]
     },
     "execution_count": 44,
     "metadata": {},
     "output_type": "execute_result"
    }
   ],
   "source": [
    "test.df.head()"
   ]
  },
  {
   "cell_type": "code",
   "execution_count": 45,
   "metadata": {},
   "outputs": [],
   "source": [
    "n_users = max(max(train.df.userId.unique()), max(test.df.userId.unique()))\n",
    "n_items = max(max(train.df.movieId.unique()), max(test.df.movieId.unique()))\n",
    "max_score = max(train.df.rating)\n",
    "min_score = min(train.df.rating)\n",
    "bs = 128"
   ]
  },
  {
   "cell_type": "code",
   "execution_count": 46,
   "metadata": {},
   "outputs": [
    {
     "name": "stdout",
     "output_type": "stream",
     "text": [
      "Number of users: 610\n",
      "Number of movies: 9724\n",
      "Ratings range between 0.5 and 5.0\n"
     ]
    }
   ],
   "source": [
    "print(\"Number of users:\", n_users+1) \n",
    "print(\"Number of movies:\", n_items+1)\n",
    "print(\"Ratings range between\", min_score, \"and\", max_score)"
   ]
  },
  {
   "cell_type": "code",
   "execution_count": 49,
   "metadata": {},
   "outputs": [
    {
     "name": "stdout",
     "output_type": "stream",
     "text": [
      "0 609\n",
      "0 9722\n"
     ]
    }
   ],
   "source": [
    "print(train.df.userId.min(), train.df.userId.max())\n",
    "print(train.df.movieId.min(), train.df.movieId.max())"
   ]
  },
  {
   "cell_type": "markdown",
   "metadata": {},
   "source": [
    "## DataLoader\n",
    "Now, use the `DataLoader` function to iterate over the data in batches."
   ]
  },
  {
   "cell_type": "code",
   "execution_count": 36,
   "metadata": {},
   "outputs": [],
   "source": [
    "train_loader = DataLoader(dataset=train,\n",
    "                          batch_size=bs,\n",
    "                          shuffle=False)\n",
    "\n",
    "test_loader = DataLoader(dataset=test,\n",
    "                         batch_size=bs,\n",
    "                         shuffle=False)"
   ]
  },
  {
   "cell_type": "code",
   "execution_count": 37,
   "metadata": {},
   "outputs": [],
   "source": [
    "dataiter = iter(train_loader)"
   ]
  },
  {
   "cell_type": "code",
   "execution_count": 38,
   "metadata": {},
   "outputs": [],
   "source": [
    "inputs, ratings = dataiter.next()"
   ]
  },
  {
   "cell_type": "code",
   "execution_count": 39,
   "metadata": {},
   "outputs": [],
   "source": [
    "# send tensors to GPU\n",
    "inputs, ratings = inputs.cuda(), ratings.cuda()"
   ]
  },
  {
   "cell_type": "code",
   "execution_count": 40,
   "metadata": {},
   "outputs": [
    {
     "data": {
      "text/plain": [
       "(torch.Size([128, 2]), torch.Size([128]))"
      ]
     },
     "execution_count": 40,
     "metadata": {},
     "output_type": "execute_result"
    }
   ],
   "source": [
    "inputs.shape, ratings.shape"
   ]
  },
  {
   "cell_type": "markdown",
   "metadata": {},
   "source": [
    "### Pass data to model\n",
    "Take a look at the data by uncommenting the block below."
   ]
  },
  {
   "cell_type": "code",
   "execution_count": 41,
   "metadata": {},
   "outputs": [],
   "source": [
    "# inputs\n",
    "# ratings"
   ]
  },
  {
   "cell_type": "markdown",
   "metadata": {},
   "source": [
    "Then, test that the model is able to feed this data from input to output."
   ]
  },
  {
   "cell_type": "code",
   "execution_count": 42,
   "metadata": {},
   "outputs": [],
   "source": [
    "model = EmbeddingNet(10, n_users, n_items, min_score, max_score).cuda()"
   ]
  },
  {
   "cell_type": "code",
   "execution_count": 43,
   "metadata": {},
   "outputs": [],
   "source": [
    "model.eval()\n",
    "with torch.no_grad():\n",
    "    output = model(inputs).view(bs).cpu().numpy()"
   ]
  },
  {
   "cell_type": "code",
   "execution_count": 44,
   "metadata": {},
   "outputs": [
    {
     "data": {
      "text/plain": [
       "array([2.586892 , 2.5870132, 2.5858014, 2.5871866, 2.5872777, 2.5876944,\n",
       "       2.5862515, 2.5861318, 2.5889258, 2.5876186, 2.5860791, 2.5881646,\n",
       "       2.5876532, 2.5863268, 2.586345 , 2.587614 , 2.5873096, 2.588437 ,\n",
       "       2.585979 , 2.58817  , 2.586538 , 2.5888486, 2.5881858, 2.5878677,\n",
       "       2.589509 , 2.5867217, 2.5880096, 2.5869071, 2.5882583, 2.587781 ,\n",
       "       2.5894928, 2.588545 , 2.5886035, 2.588476 , 2.5887237, 2.586669 ,\n",
       "       2.5865006, 2.5864987, 2.5864809, 2.5882833, 2.5885901, 2.5883052,\n",
       "       2.5885744, 2.5900066, 2.5889997, 2.586958 , 2.588749 , 2.5874677,\n",
       "       2.587732 , 2.5880244, 2.5878854, 2.5873373, 2.5864296, 2.5874317,\n",
       "       2.5877728, 2.5879035, 2.5863378, 2.5885088, 2.5862648, 2.5883453,\n",
       "       2.5885222, 2.5867636, 2.5862923, 2.5880096, 2.5841932, 2.589489 ,\n",
       "       2.587674 , 2.586599 , 2.5875201, 2.5897288, 2.5866935, 2.5872383,\n",
       "       2.5881991, 2.5873485, 2.5899634, 2.5868344, 2.5866373, 2.5874705,\n",
       "       2.5893579, 2.5873237, 2.5873964, 2.5878181, 2.5879488, 2.587287 ,\n",
       "       2.5868797, 2.586964 , 2.588242 , 2.5883298, 2.5866933, 2.5865645,\n",
       "       2.587346 , 2.5888662, 2.5855255, 2.589078 , 2.5868323, 2.5879064,\n",
       "       2.586785 , 2.587338 , 2.5865092, 2.5874476, 2.5874   , 2.5874896,\n",
       "       2.5868602, 2.5872986, 2.5875654, 2.5873387, 2.586692 , 2.5863233,\n",
       "       2.5855734, 2.5868204, 2.5876987, 2.5859714, 2.5898478, 2.5907032,\n",
       "       2.5870001, 2.589588 , 2.5876746, 2.5904117, 2.5879624, 2.5865765,\n",
       "       2.5886123, 2.58966  , 2.5879567, 2.5871198, 2.5855043, 2.5858467,\n",
       "       2.5880833, 2.587529 ], dtype=float32)"
      ]
     },
     "execution_count": 44,
     "metadata": {},
     "output_type": "execute_result"
    }
   ],
   "source": [
    "output"
   ]
  },
  {
   "cell_type": "code",
   "execution_count": 45,
   "metadata": {},
   "outputs": [],
   "source": [
    "ratings = ratings.cpu().numpy()"
   ]
  },
  {
   "cell_type": "code",
   "execution_count": 46,
   "metadata": {},
   "outputs": [],
   "source": [
    "rmse = np.sqrt(np.mean((ratings - output)**2))"
   ]
  },
  {
   "cell_type": "code",
   "execution_count": 47,
   "metadata": {},
   "outputs": [
    {
     "data": {
      "text/plain": [
       "1.3887048"
      ]
     },
     "execution_count": 47,
     "metadata": {},
     "output_type": "execute_result"
    }
   ],
   "source": [
    "rmse"
   ]
  },
  {
   "cell_type": "markdown",
   "metadata": {},
   "source": [
    "## Train model\n",
    "Now, the data is in a format that can be passed to the model. Next step is to run a few epochs using the standard format of the PyTorch training loop."
   ]
  },
  {
   "cell_type": "code",
   "execution_count": 48,
   "metadata": {},
   "outputs": [],
   "source": [
    "epochs = 5\n",
    "optimizer = optim.Adam(model.parameters(), lr=0.01)\n",
    "criterion = nn.MSELoss()"
   ]
  },
  {
   "cell_type": "code",
   "execution_count": 51,
   "metadata": {},
   "outputs": [
    {
     "data": {
      "application/vnd.jupyter.widget-view+json": {
       "model_id": "6072e0cb9758430da4bc5877d9433ec7",
       "version_major": 2,
       "version_minor": 0
      },
      "text/plain": [
       "HBox(children=(IntProgress(value=0, max=709), HTML(value='')))"
      ]
     },
     "metadata": {},
     "output_type": "display_data"
    },
    {
     "name": "stdout",
     "output_type": "stream",
     "text": [
      "\n",
      "Training Loss: 1.106.. \n",
      "Test Loss: 1.074..  Epoch: 1/5.. \n"
     ]
    },
    {
     "data": {
      "application/vnd.jupyter.widget-view+json": {
       "model_id": "30fe0548e3da488d8fdd530410c44c05",
       "version_major": 2,
       "version_minor": 0
      },
      "text/plain": [
       "HBox(children=(IntProgress(value=0, max=709), HTML(value='')))"
      ]
     },
     "metadata": {},
     "output_type": "display_data"
    },
    {
     "name": "stdout",
     "output_type": "stream",
     "text": [
      "\n",
      "Training Loss: 1.089.. \n",
      "Test Loss: 1.074..  Epoch: 2/5.. \n"
     ]
    },
    {
     "data": {
      "application/vnd.jupyter.widget-view+json": {
       "model_id": "c4456ecc446a4284bddf5a1b2e2ce610",
       "version_major": 2,
       "version_minor": 0
      },
      "text/plain": [
       "HBox(children=(IntProgress(value=0, max=709), HTML(value='')))"
      ]
     },
     "metadata": {},
     "output_type": "display_data"
    },
    {
     "name": "stdout",
     "output_type": "stream",
     "text": [
      "\n",
      "Training Loss: 1.089.. \n",
      "Test Loss: 1.074..  Epoch: 3/5.. \n"
     ]
    },
    {
     "data": {
      "application/vnd.jupyter.widget-view+json": {
       "model_id": "cfd441658c544b0081b0917ffb481bcd",
       "version_major": 2,
       "version_minor": 0
      },
      "text/plain": [
       "HBox(children=(IntProgress(value=0, max=709), HTML(value='')))"
      ]
     },
     "metadata": {},
     "output_type": "display_data"
    },
    {
     "name": "stdout",
     "output_type": "stream",
     "text": [
      "\n",
      "Training Loss: 1.088.. \n",
      "Test Loss: 1.074..  Epoch: 4/5.. \n"
     ]
    },
    {
     "data": {
      "application/vnd.jupyter.widget-view+json": {
       "model_id": "324f9f45ac704a19800ca109522134b1",
       "version_major": 2,
       "version_minor": 0
      },
      "text/plain": [
       "HBox(children=(IntProgress(value=0, max=709), HTML(value='')))"
      ]
     },
     "metadata": {},
     "output_type": "display_data"
    },
    {
     "name": "stdout",
     "output_type": "stream",
     "text": [
      "\n",
      "Training Loss: 1.088.. \n",
      "Test Loss: 1.074..  Epoch: 5/5.. \n"
     ]
    }
   ],
   "source": [
    "train_losses, test_losses = [], []\n",
    "for e in range(epochs):\n",
    "\n",
    "    # training loop\n",
    "    model.train()\n",
    "    running_loss = 0.0\n",
    "\n",
    "    for inputs, rating in tqdm(train_loader):\n",
    "        inputs, rating = inputs.cuda(), rating.cuda()\n",
    "\n",
    "        optimizer.zero_grad()\n",
    "\n",
    "        output = model(inputs)\n",
    "        loss = criterion(output, rating)\n",
    "\n",
    "        # update weights\n",
    "        loss.backward()\n",
    "        optimizer.step()\n",
    "\n",
    "        running_loss += loss.item()\n",
    "\n",
    "    # validation at end of epoch\n",
    "    else:\n",
    "        # print training loss\n",
    "        print(\"Training Loss: {:.3f}.. \".format(running_loss/len(train_loader)))\n",
    "        running_loss = 0.0\n",
    "\n",
    "        # calculate test loss\n",
    "        test_loss = 0.0\n",
    "\n",
    "        # turn off gradients for validation, saves memory and computations\n",
    "        with torch.no_grad():\n",
    "            # turn off dropout\n",
    "            model.eval()\n",
    "            for inputs, rating in test_loader:\n",
    "                inputs, rating = inputs.cuda(), rating.cuda()\n",
    "                output = model(inputs)\n",
    "                test_loss += criterion(output, rating)\n",
    "\n",
    "        # print test loss\n",
    "        print(\"Test Loss: {:.3f}.. \".format(test_loss/len(test_loader)),\n",
    "              \"Epoch: {}/{}.. \".format(e+1, epochs))"
   ]
  },
  {
   "cell_type": "markdown",
   "metadata": {},
   "source": [
    "## Make predictions"
   ]
  },
  {
   "cell_type": "code",
   "execution_count": 52,
   "metadata": {},
   "outputs": [],
   "source": [
    "inputs, ratings = dataiter.next()\n",
    "inputs, ratings = inputs.cuda(), ratings.cuda()"
   ]
  },
  {
   "cell_type": "code",
   "execution_count": 53,
   "metadata": {},
   "outputs": [],
   "source": [
    "model.eval()\n",
    "with torch.no_grad():\n",
    "    output = model(inputs).view(bs).cpu().numpy()"
   ]
  },
  {
   "cell_type": "code",
   "execution_count": 54,
   "metadata": {},
   "outputs": [
    {
     "data": {
      "text/plain": [
       "array([3.4936843, 3.4936843, 3.5033796, 3.535034 , 3.4936843, 3.52073  ,\n",
       "       3.512241 , 3.5010383, 3.4889705, 3.4936843, 3.4936843, 3.4947264,\n",
       "       3.4969945, 3.4936843, 3.4936843, 3.5214617, 3.5286322, 3.538677 ,\n",
       "       3.5199542, 3.5516493, 3.5109003, 3.504245 , 3.5229595, 3.5106912,\n",
       "       3.5656173, 3.4936843, 3.4936843, 3.495426 , 3.5062435, 3.4936843,\n",
       "       3.4936843, 3.4941254, 3.512733 , 3.4962459, 3.5051613, 3.5231278,\n",
       "       3.4936843, 3.5436897, 3.513577 , 3.4936843, 3.4978585, 3.4936843,\n",
       "       3.4963915, 3.4936843, 3.4958165, 3.5651534, 3.4936843, 3.4983602,\n",
       "       3.4936843, 3.5145533, 3.4936843, 3.4936843, 3.4936843, 3.4936843,\n",
       "       3.4936843, 3.5181456, 3.5489833, 3.4936843, 3.5426373, 3.5130644,\n",
       "       3.4936843, 3.4936843, 3.4936843, 3.4936843, 3.5121572, 3.4936843,\n",
       "       3.4936843, 3.4941695, 3.4936843, 3.5050144, 3.4936843, 3.5126834,\n",
       "       3.4942536, 3.498128 , 3.4936843, 3.5367868, 3.4936843, 3.4936843,\n",
       "       3.5210981, 3.5361323, 3.5058079, 3.4936843, 3.506125 , 3.4936843,\n",
       "       3.4936843, 3.4936843, 3.4936843, 3.5154254, 3.4936843, 3.4936843,\n",
       "       3.5083241, 3.4936843, 3.4936843, 3.4936843, 3.4936843, 3.549469 ,\n",
       "       3.508674 , 3.4936843, 3.4936843, 3.531873 , 3.5237927, 3.4936843,\n",
       "       3.4939375, 3.4936843, 3.5183115, 3.496375 , 3.493762 , 3.4936843,\n",
       "       3.4936843, 3.4936843, 3.4936843, 3.4936843, 3.4936843, 3.4936843,\n",
       "       3.497614 , 3.5597055, 3.4936843, 3.5181286, 3.4936843, 3.5414724,\n",
       "       3.5232599, 3.508406 , 3.4936843, 3.4936843, 3.4936843, 3.4948392,\n",
       "       3.4936843, 3.4936843], dtype=float32)"
      ]
     },
     "execution_count": 54,
     "metadata": {},
     "output_type": "execute_result"
    }
   ],
   "source": [
    "output"
   ]
  },
  {
   "cell_type": "code",
   "execution_count": 55,
   "metadata": {},
   "outputs": [],
   "source": [
    "ratings = ratings.cpu().numpy()"
   ]
  },
  {
   "cell_type": "code",
   "execution_count": 56,
   "metadata": {},
   "outputs": [],
   "source": [
    "rmse = np.sqrt(np.mean((ratings - output)**2))"
   ]
  },
  {
   "cell_type": "code",
   "execution_count": 57,
   "metadata": {},
   "outputs": [
    {
     "data": {
      "text/plain": [
       "0.96348846"
      ]
     },
     "execution_count": 57,
     "metadata": {},
     "output_type": "execute_result"
    }
   ],
   "source": [
    "rmse"
   ]
  }
 ],
 "metadata": {
  "kernelspec": {
   "display_name": "Python 3",
   "language": "python",
   "name": "python3"
  },
  "language_info": {
   "codemirror_mode": {
    "name": "ipython",
    "version": 3
   },
   "file_extension": ".py",
   "mimetype": "text/x-python",
   "name": "python",
   "nbconvert_exporter": "python",
   "pygments_lexer": "ipython3",
   "version": "3.6.7"
  }
 },
 "nbformat": 4,
 "nbformat_minor": 2
}
