{
 "cells": [
  {
   "cell_type": "markdown",
   "metadata": {},
   "source": [
    "# MovieLens 1M Collaborative Genre Tagging\n",
    "  - [paperswithcode link](https://paperswithcode.com/sota/collaborative-filtering-on-movielens-1m)\n",
    "  - [ML 1m state of the art paper](http://proceedings.mlr.press/v80/muller18a/muller18a.pdf) (RMSE=0.824): details their evaluation method\n",
    "  \n",
    "[![Colab](https://colab.research.google.com/assets/colab-badge.svg)](https://colab.research.google.com/github/James-Leslie/deep-collaborative-filtering/blob/master/CGT-short.ipynb)"
   ]
  },
  {
   "cell_type": "code",
   "execution_count": 1,
   "metadata": {},
   "outputs": [],
   "source": [
    "import numpy as np\n",
    "import pandas as pd\n",
    "import matplotlib.pyplot as plt\n",
    "import seaborn as sns\n",
    "\n",
    "%matplotlib inline"
   ]
  },
  {
   "cell_type": "markdown",
   "metadata": {},
   "source": [
    "## Load rating data\n",
    "  - remove 10% as holdout test set"
   ]
  },
  {
   "cell_type": "code",
   "execution_count": 2,
   "metadata": {},
   "outputs": [],
   "source": [
    "path = 'https://raw.githubusercontent.com/James-Leslie/deep-collaborative-filtering/master/data/ml-1m/'  # access from anywhere\n",
    "df = pd.read_csv(path+'ratings.csv', usecols=['userId','movieId','rating'])"
   ]
  },
  {
   "cell_type": "code",
   "execution_count": 3,
   "metadata": {},
   "outputs": [
    {
     "data": {
      "text/html": [
       "<div>\n",
       "<style scoped>\n",
       "    .dataframe tbody tr th:only-of-type {\n",
       "        vertical-align: middle;\n",
       "    }\n",
       "\n",
       "    .dataframe tbody tr th {\n",
       "        vertical-align: top;\n",
       "    }\n",
       "\n",
       "    .dataframe thead th {\n",
       "        text-align: right;\n",
       "    }\n",
       "</style>\n",
       "<table border=\"1\" class=\"dataframe\">\n",
       "  <thead>\n",
       "    <tr style=\"text-align: right;\">\n",
       "      <th></th>\n",
       "      <th>userId</th>\n",
       "      <th>movieId</th>\n",
       "      <th>rating</th>\n",
       "    </tr>\n",
       "  </thead>\n",
       "  <tbody>\n",
       "    <tr>\n",
       "      <th>0</th>\n",
       "      <td>0</td>\n",
       "      <td>0</td>\n",
       "      <td>5</td>\n",
       "    </tr>\n",
       "    <tr>\n",
       "      <th>1</th>\n",
       "      <td>0</td>\n",
       "      <td>1</td>\n",
       "      <td>3</td>\n",
       "    </tr>\n",
       "    <tr>\n",
       "      <th>2</th>\n",
       "      <td>0</td>\n",
       "      <td>2</td>\n",
       "      <td>3</td>\n",
       "    </tr>\n",
       "    <tr>\n",
       "      <th>3</th>\n",
       "      <td>0</td>\n",
       "      <td>3</td>\n",
       "      <td>4</td>\n",
       "    </tr>\n",
       "    <tr>\n",
       "      <th>4</th>\n",
       "      <td>0</td>\n",
       "      <td>4</td>\n",
       "      <td>5</td>\n",
       "    </tr>\n",
       "  </tbody>\n",
       "</table>\n",
       "</div>"
      ],
      "text/plain": [
       "   userId  movieId  rating\n",
       "0       0        0       5\n",
       "1       0        1       3\n",
       "2       0        2       3\n",
       "3       0        3       4\n",
       "4       0        4       5"
      ]
     },
     "execution_count": 3,
     "metadata": {},
     "output_type": "execute_result"
    }
   ],
   "source": [
    "df.head()"
   ]
  },
  {
   "cell_type": "code",
   "execution_count": 4,
   "metadata": {},
   "outputs": [
    {
     "data": {
      "text/plain": [
       "(1000209, 3)"
      ]
     },
     "execution_count": 4,
     "metadata": {},
     "output_type": "execute_result"
    }
   ],
   "source": [
    "df.shape"
   ]
  },
  {
   "cell_type": "code",
   "execution_count": 5,
   "metadata": {},
   "outputs": [
    {
     "name": "stdout",
     "output_type": "stream",
     "text": [
      "Number of users: 6040\n",
      "Number of items: 3706\n",
      "Min item rating: 1\n",
      "Max item rating: 5\n",
      "Mean item rating: 3.581564453029317\n"
     ]
    }
   ],
   "source": [
    "n_users = df.userId.nunique()\n",
    "n_movies = df.movieId.nunique()\n",
    "\n",
    "print('Number of users:', n_users)\n",
    "print('Number of items:', n_movies)\n",
    "print(\"Min item rating:\", df.rating.min())\n",
    "print(\"Max item rating:\", df.rating.max())\n",
    "print(\"Mean item rating:\", df.rating.mean())"
   ]
  },
  {
   "cell_type": "code",
   "execution_count": 6,
   "metadata": {},
   "outputs": [],
   "source": [
    "from sklearn.model_selection import train_test_split"
   ]
  },
  {
   "cell_type": "code",
   "execution_count": 7,
   "metadata": {},
   "outputs": [],
   "source": [
    "df, df_holdout = train_test_split(df, test_size=.1, random_state=42)"
   ]
  },
  {
   "cell_type": "markdown",
   "metadata": {},
   "source": [
    "## Load movie metadata\n",
    "  - remove 10% as holdout test set"
   ]
  },
  {
   "cell_type": "code",
   "execution_count": 8,
   "metadata": {},
   "outputs": [
    {
     "data": {
      "text/html": [
       "<div>\n",
       "<style scoped>\n",
       "    .dataframe tbody tr th:only-of-type {\n",
       "        vertical-align: middle;\n",
       "    }\n",
       "\n",
       "    .dataframe tbody tr th {\n",
       "        vertical-align: top;\n",
       "    }\n",
       "\n",
       "    .dataframe thead th {\n",
       "        text-align: right;\n",
       "    }\n",
       "</style>\n",
       "<table border=\"1\" class=\"dataframe\">\n",
       "  <thead>\n",
       "    <tr style=\"text-align: right;\">\n",
       "      <th></th>\n",
       "      <th>movieId</th>\n",
       "      <th>title</th>\n",
       "      <th>Action</th>\n",
       "      <th>Adventure</th>\n",
       "      <th>Animation</th>\n",
       "      <th>Children's</th>\n",
       "      <th>Comedy</th>\n",
       "      <th>Crime</th>\n",
       "      <th>Documentary</th>\n",
       "      <th>Drama</th>\n",
       "      <th>Fantasy</th>\n",
       "      <th>Film-Noir</th>\n",
       "      <th>Horror</th>\n",
       "      <th>Musical</th>\n",
       "      <th>Mystery</th>\n",
       "      <th>Romance</th>\n",
       "      <th>Sci-Fi</th>\n",
       "      <th>Thriller</th>\n",
       "      <th>War</th>\n",
       "      <th>Western</th>\n",
       "    </tr>\n",
       "  </thead>\n",
       "  <tbody>\n",
       "    <tr>\n",
       "      <th>0</th>\n",
       "      <td>0</td>\n",
       "      <td>One Flew Over the Cuckoo's Nest (1975)</td>\n",
       "      <td>0</td>\n",
       "      <td>0</td>\n",
       "      <td>0</td>\n",
       "      <td>0</td>\n",
       "      <td>0</td>\n",
       "      <td>0</td>\n",
       "      <td>0</td>\n",
       "      <td>1</td>\n",
       "      <td>0</td>\n",
       "      <td>0</td>\n",
       "      <td>0</td>\n",
       "      <td>0</td>\n",
       "      <td>0</td>\n",
       "      <td>0</td>\n",
       "      <td>0</td>\n",
       "      <td>0</td>\n",
       "      <td>0</td>\n",
       "      <td>0</td>\n",
       "    </tr>\n",
       "    <tr>\n",
       "      <th>1</th>\n",
       "      <td>1</td>\n",
       "      <td>James and the Giant Peach (1996)</td>\n",
       "      <td>0</td>\n",
       "      <td>0</td>\n",
       "      <td>1</td>\n",
       "      <td>1</td>\n",
       "      <td>0</td>\n",
       "      <td>0</td>\n",
       "      <td>0</td>\n",
       "      <td>0</td>\n",
       "      <td>0</td>\n",
       "      <td>0</td>\n",
       "      <td>0</td>\n",
       "      <td>1</td>\n",
       "      <td>0</td>\n",
       "      <td>0</td>\n",
       "      <td>0</td>\n",
       "      <td>0</td>\n",
       "      <td>0</td>\n",
       "      <td>0</td>\n",
       "    </tr>\n",
       "    <tr>\n",
       "      <th>2</th>\n",
       "      <td>2</td>\n",
       "      <td>My Fair Lady (1964)</td>\n",
       "      <td>0</td>\n",
       "      <td>0</td>\n",
       "      <td>0</td>\n",
       "      <td>0</td>\n",
       "      <td>0</td>\n",
       "      <td>0</td>\n",
       "      <td>0</td>\n",
       "      <td>0</td>\n",
       "      <td>0</td>\n",
       "      <td>0</td>\n",
       "      <td>0</td>\n",
       "      <td>1</td>\n",
       "      <td>0</td>\n",
       "      <td>1</td>\n",
       "      <td>0</td>\n",
       "      <td>0</td>\n",
       "      <td>0</td>\n",
       "      <td>0</td>\n",
       "    </tr>\n",
       "    <tr>\n",
       "      <th>3</th>\n",
       "      <td>3</td>\n",
       "      <td>Erin Brockovich (2000)</td>\n",
       "      <td>0</td>\n",
       "      <td>0</td>\n",
       "      <td>0</td>\n",
       "      <td>0</td>\n",
       "      <td>0</td>\n",
       "      <td>0</td>\n",
       "      <td>0</td>\n",
       "      <td>1</td>\n",
       "      <td>0</td>\n",
       "      <td>0</td>\n",
       "      <td>0</td>\n",
       "      <td>0</td>\n",
       "      <td>0</td>\n",
       "      <td>0</td>\n",
       "      <td>0</td>\n",
       "      <td>0</td>\n",
       "      <td>0</td>\n",
       "      <td>0</td>\n",
       "    </tr>\n",
       "    <tr>\n",
       "      <th>4</th>\n",
       "      <td>4</td>\n",
       "      <td>Bug's Life, A (1998)</td>\n",
       "      <td>0</td>\n",
       "      <td>0</td>\n",
       "      <td>1</td>\n",
       "      <td>1</td>\n",
       "      <td>1</td>\n",
       "      <td>0</td>\n",
       "      <td>0</td>\n",
       "      <td>0</td>\n",
       "      <td>0</td>\n",
       "      <td>0</td>\n",
       "      <td>0</td>\n",
       "      <td>0</td>\n",
       "      <td>0</td>\n",
       "      <td>0</td>\n",
       "      <td>0</td>\n",
       "      <td>0</td>\n",
       "      <td>0</td>\n",
       "      <td>0</td>\n",
       "    </tr>\n",
       "  </tbody>\n",
       "</table>\n",
       "</div>"
      ],
      "text/plain": [
       "   movieId                                   title  Action  Adventure  \\\n",
       "0        0  One Flew Over the Cuckoo's Nest (1975)       0          0   \n",
       "1        1        James and the Giant Peach (1996)       0          0   \n",
       "2        2                     My Fair Lady (1964)       0          0   \n",
       "3        3                  Erin Brockovich (2000)       0          0   \n",
       "4        4                    Bug's Life, A (1998)       0          0   \n",
       "\n",
       "   Animation  Children's  Comedy  Crime  Documentary  Drama  Fantasy  \\\n",
       "0          0           0       0      0            0      1        0   \n",
       "1          1           1       0      0            0      0        0   \n",
       "2          0           0       0      0            0      0        0   \n",
       "3          0           0       0      0            0      1        0   \n",
       "4          1           1       1      0            0      0        0   \n",
       "\n",
       "   Film-Noir  Horror  Musical  Mystery  Romance  Sci-Fi  Thriller  War  \\\n",
       "0          0       0        0        0        0       0         0    0   \n",
       "1          0       0        1        0        0       0         0    0   \n",
       "2          0       0        1        0        1       0         0    0   \n",
       "3          0       0        0        0        0       0         0    0   \n",
       "4          0       0        0        0        0       0         0    0   \n",
       "\n",
       "   Western  \n",
       "0        0  \n",
       "1        0  \n",
       "2        0  \n",
       "3        0  \n",
       "4        0  "
      ]
     },
     "execution_count": 8,
     "metadata": {},
     "output_type": "execute_result"
    }
   ],
   "source": [
    "movies = pd.read_csv(path+'movies.csv')\n",
    "movies.head()"
   ]
  },
  {
   "cell_type": "code",
   "execution_count": 9,
   "metadata": {},
   "outputs": [],
   "source": [
    "movies, movies_holdout = train_test_split(movies, test_size=.1, random_state=42)"
   ]
  },
  {
   "cell_type": "markdown",
   "metadata": {},
   "source": [
    "---\n",
    "# 1. Rating model\n",
    "## 1.1. Model architecture\n",
    "![rating_model](https://github.com/James-Leslie/deep-collaborative-filtering/blob/master/figures/png_images/rating-model.png?raw=true)\n",
    "\n",
    "### Include user and item bias\n",
    "![baselines](https://github.com/James-Leslie/deep-collaborative-filtering/blob/master/figures/png_images/baseline.png?raw=true)"
   ]
  },
  {
   "cell_type": "code",
   "execution_count": 10,
   "metadata": {},
   "outputs": [],
   "source": [
    "import tensorflow as tf\n",
    "from tensorflow.keras.layers import Input, Embedding, Flatten, Dot, Add, Dense, Concatenate, Dropout, LeakyReLU\n",
    "from tensorflow.keras.models import Model"
   ]
  },
  {
   "cell_type": "code",
   "execution_count": 11,
   "metadata": {},
   "outputs": [
    {
     "name": "stdout",
     "output_type": "stream",
     "text": [
      "Model: \"model\"\n",
      "__________________________________________________________________________________________________\n",
      "Layer (type)                    Output Shape         Param #     Connected to                     \n",
      "==================================================================================================\n",
      "input_1 (InputLayer)            [(None, 1)]          0                                            \n",
      "__________________________________________________________________________________________________\n",
      "input_2 (InputLayer)            [(None, 1)]          0                                            \n",
      "__________________________________________________________________________________________________\n",
      "embedding (Embedding)           (None, 1, 50)        185300      input_1[0][0]                    \n",
      "__________________________________________________________________________________________________\n",
      "embedding_1 (Embedding)         (None, 1, 50)        302000      input_2[0][0]                    \n",
      "__________________________________________________________________________________________________\n",
      "flatten (Flatten)               (None, 50)           0           embedding[0][0]                  \n",
      "__________________________________________________________________________________________________\n",
      "flatten_1 (Flatten)             (None, 50)           0           embedding_1[0][0]                \n",
      "__________________________________________________________________________________________________\n",
      "concatenate (Concatenate)       (None, 100)          0           flatten[0][0]                    \n",
      "                                                                 flatten_1[0][0]                  \n",
      "__________________________________________________________________________________________________\n",
      "dense (Dense)                   (None, 50)           5050        concatenate[0][0]                \n",
      "__________________________________________________________________________________________________\n",
      "leaky_re_lu (LeakyReLU)         (None, 50)           0           dense[0][0]                      \n",
      "__________________________________________________________________________________________________\n",
      "dropout (Dropout)               (None, 50)           0           leaky_re_lu[0][0]                \n",
      "__________________________________________________________________________________________________\n",
      "dense_1 (Dense)                 (None, 1)            51          dropout[0][0]                    \n",
      "__________________________________________________________________________________________________\n",
      "tf_op_layer_scalar_mul (TensorF [(None, 1)]          0           dense_1[0][0]                    \n",
      "__________________________________________________________________________________________________\n",
      "embedding_2 (Embedding)         (None, 1, 1)         3706        input_1[0][0]                    \n",
      "__________________________________________________________________________________________________\n",
      "embedding_3 (Embedding)         (None, 1, 1)         6040        input_2[0][0]                    \n",
      "__________________________________________________________________________________________________\n",
      "tf_op_layer_Add (TensorFlowOpLa [(None, 1)]          0           tf_op_layer_scalar_mul[0][0]     \n",
      "__________________________________________________________________________________________________\n",
      "flatten_2 (Flatten)             (None, 1)            0           embedding_2[0][0]                \n",
      "__________________________________________________________________________________________________\n",
      "flatten_3 (Flatten)             (None, 1)            0           embedding_3[0][0]                \n",
      "__________________________________________________________________________________________________\n",
      "add (Add)                       (None, 1)            0           tf_op_layer_Add[0][0]            \n",
      "                                                                 flatten_2[0][0]                  \n",
      "                                                                 flatten_3[0][0]                  \n",
      "==================================================================================================\n",
      "Total params: 502,147\n",
      "Trainable params: 502,147\n",
      "Non-trainable params: 0\n",
      "__________________________________________________________________________________________________\n"
     ]
    }
   ],
   "source": [
    "# item latent factors\n",
    "item_in = Input(shape=[1])  # name='item'\n",
    "item_em = Embedding(n_movies, 50)(item_in)\n",
    "item_vec = Flatten()(item_em)\n",
    "# user latent factors\n",
    "user_in = Input(shape=[1])\n",
    "user_em = Embedding(n_users, 50)(user_in)\n",
    "user_vec = Flatten()(user_em)\n",
    "# concatenate user and item vectors\n",
    "conc = Concatenate()([item_vec, user_vec])\n",
    "# hidden layer with leaky ReLU and dropout\n",
    "x = Dense(50)(conc)\n",
    "x = LeakyReLU(alpha=.15)(x)\n",
    "x = Dropout(.3)(x)\n",
    "# item bias\n",
    "item_bias = Embedding(n_movies, 1)(item_in)\n",
    "item_bias = Flatten()(item_bias)\n",
    "# user bias\n",
    "user_bias = Embedding(n_users, 1)(user_in)\n",
    "user_bias = Flatten()(user_bias)\n",
    "# output\n",
    "x = Dense(1, activation='sigmoid')(x)\n",
    "x = tf.math.scalar_mul(4, x)\n",
    "x = tf.math.add(tf.constant([1.0]), x)\n",
    "rating = Add()([x, item_bias, user_bias])\n",
    "# create model and compile it\n",
    "model = Model([user_in, item_in], rating)\n",
    "model.compile(optimizer='adam', loss='mean_squared_error')\n",
    "\n",
    "# show summary of model\n",
    "model.summary()"
   ]
  },
  {
   "cell_type": "markdown",
   "metadata": {},
   "source": [
    "---\n",
    "## 1.2. Train model"
   ]
  },
  {
   "cell_type": "code",
   "execution_count": 12,
   "metadata": {},
   "outputs": [
    {
     "name": "stdout",
     "output_type": "stream",
     "text": [
      "Train on 720150 samples, validate on 180038 samples\n",
      "Epoch 1/7\n",
      "720150/720150 [==============================] - 6s 8us/sample - loss: 0.8930 - val_loss: 0.8235\n",
      "Epoch 2/7\n",
      "720150/720150 [==============================] - 5s 6us/sample - loss: 0.8125 - val_loss: 0.8122\n",
      "Epoch 3/7\n",
      "720150/720150 [==============================] - 5s 6us/sample - loss: 0.7988 - val_loss: 0.8051\n",
      "Epoch 4/7\n",
      "720150/720150 [==============================] - 5s 6us/sample - loss: 0.7890 - val_loss: 0.7986\n",
      "Epoch 5/7\n",
      "720150/720150 [==============================] - 5s 7us/sample - loss: 0.7770 - val_loss: 0.7875\n",
      "Epoch 6/7\n",
      "720150/720150 [==============================] - 5s 7us/sample - loss: 0.7642 - val_loss: 0.7803\n",
      "Epoch 7/7\n",
      "720150/720150 [==============================] - 5s 7us/sample - loss: 0.7534 - val_loss: 0.7750\n"
     ]
    },
    {
     "data": {
      "image/png": "[encoded data removed]",
      "text/plain": [
       "<Figure size 432x288 with 1 Axes>"
      ]
     },
     "metadata": {
      "needs_background": "light"
     },
     "output_type": "display_data"
    }
   ],
   "source": [
    "# train rating model on all data\n",
    "result = model.fit(\n",
    "    x=[df.userId.values, df.movieId.values],\n",
    "    y=df.rating.values,\n",
    "    batch_size=1028,\n",
    "    epochs=7,\n",
    "    verbose=1,\n",
    "    validation_split=.2\n",
    ")\n",
    "\n",
    "# plot training curve of best model\n",
    "plt.plot(result.history['loss'], label='train')\n",
    "plt.plot(result.history['val_loss'], label='validation')\n",
    "plt.title('Train vs validation loss')\n",
    "plt.legend()\n",
    "plt.show()"
   ]
  },
  {
   "cell_type": "markdown",
   "metadata": {},
   "source": [
    "## 1.3. Holdout performance"
   ]
  },
  {
   "cell_type": "code",
   "execution_count": 13,
   "metadata": {},
   "outputs": [],
   "source": [
    "from sklearn.metrics import mean_squared_error as mse\n",
    "from sklearn.metrics import mean_absolute_error as mae"
   ]
  },
  {
   "cell_type": "code",
   "execution_count": 14,
   "metadata": {},
   "outputs": [],
   "source": [
    "y_true = df_holdout.rating.values\n",
    "y_pred = model.predict([df_holdout.userId.values, df_holdout.movieId.values], batch_size=2056)"
   ]
  },
  {
   "cell_type": "code",
   "execution_count": 15,
   "metadata": {},
   "outputs": [
    {
     "data": {
      "text/html": [
       "<div>\n",
       "<style scoped>\n",
       "    .dataframe tbody tr th:only-of-type {\n",
       "        vertical-align: middle;\n",
       "    }\n",
       "\n",
       "    .dataframe tbody tr th {\n",
       "        vertical-align: top;\n",
       "    }\n",
       "\n",
       "    .dataframe thead th {\n",
       "        text-align: right;\n",
       "    }\n",
       "</style>\n",
       "<table border=\"1\" class=\"dataframe\">\n",
       "  <thead>\n",
       "    <tr style=\"text-align: right;\">\n",
       "      <th></th>\n",
       "      <th>userId</th>\n",
       "      <th>movieId</th>\n",
       "      <th>rating</th>\n",
       "      <th>y_pred</th>\n",
       "    </tr>\n",
       "  </thead>\n",
       "  <tbody>\n",
       "    <tr>\n",
       "      <th>895536</th>\n",
       "      <td>5411</td>\n",
       "      <td>352</td>\n",
       "      <td>2</td>\n",
       "      <td>3.768351</td>\n",
       "    </tr>\n",
       "    <tr>\n",
       "      <th>899739</th>\n",
       "      <td>5439</td>\n",
       "      <td>629</td>\n",
       "      <td>5</td>\n",
       "      <td>4.977857</td>\n",
       "    </tr>\n",
       "    <tr>\n",
       "      <th>55687</th>\n",
       "      <td>367</td>\n",
       "      <td>387</td>\n",
       "      <td>4</td>\n",
       "      <td>3.209677</td>\n",
       "    </tr>\n",
       "    <tr>\n",
       "      <th>63727</th>\n",
       "      <td>424</td>\n",
       "      <td>27</td>\n",
       "      <td>4</td>\n",
       "      <td>3.417053</td>\n",
       "    </tr>\n",
       "    <tr>\n",
       "      <th>822011</th>\n",
       "      <td>4941</td>\n",
       "      <td>1674</td>\n",
       "      <td>1</td>\n",
       "      <td>3.155049</td>\n",
       "    </tr>\n",
       "  </tbody>\n",
       "</table>\n",
       "</div>"
      ],
      "text/plain": [
       "        userId  movieId  rating    y_pred\n",
       "895536    5411      352       2  3.768351\n",
       "899739    5439      629       5  4.977857\n",
       "55687      367      387       4  3.209677\n",
       "63727      424       27       4  3.417053\n",
       "822011    4941     1674       1  3.155049"
      ]
     },
     "execution_count": 15,
     "metadata": {},
     "output_type": "execute_result"
    }
   ],
   "source": [
    "df_holdout['y_pred'] = y_pred\n",
    "df_holdout.head()"
   ]
  },
  {
   "cell_type": "code",
   "execution_count": 16,
   "metadata": {},
   "outputs": [
    {
     "name": "stdout",
     "output_type": "stream",
     "text": [
      "RMSE: 0.883\n",
      "MAE: 0.696\n"
     ]
    }
   ],
   "source": [
    "print('RMSE:', '{0:.3f}'.format(np.sqrt(mse(y_true, y_pred))))\n",
    "print('MAE:', '{0:.3f}'.format(mae(y_true, y_pred)))"
   ]
  },
  {
   "cell_type": "code",
   "execution_count": 17,
   "metadata": {},
   "outputs": [
    {
     "data": {
      "text/plain": [
       "<seaborn.axisgrid.JointGrid at 0x1e115711128>"
      ]
     },
     "execution_count": 17,
     "metadata": {},
     "output_type": "execute_result"
    },
    {
     "data": {
      "image/png": "[encoded data removed]",
      "text/plain": [
       "<Figure size 432x432 with 3 Axes>"
      ]
     },
     "metadata": {
      "needs_background": "light"
     },
     "output_type": "display_data"
    }
   ],
   "source": [
    "sns.jointplot(x='rating', y='y_pred', data=df_holdout, kind='hex')"
   ]
  },
  {
   "cell_type": "markdown",
   "metadata": {},
   "source": [
    "# 2. Genre model\n",
    "## 2.1. Model architecture\n",
    "Re-use the item embedding layer, but freeze the weights.\n",
    "![transfer-weights](https://github.com/James-Leslie/deep-collaborative-filtering/blob/master/figures/png_images/transfer-learning.png?raw=true)"
   ]
  },
  {
   "cell_type": "code",
   "execution_count": 18,
   "metadata": {},
   "outputs": [
    {
     "name": "stdout",
     "output_type": "stream",
     "text": [
      "Model: \"model_1\"\n",
      "_________________________________________________________________\n",
      "Layer (type)                 Output Shape              Param #   \n",
      "=================================================================\n",
      "input_1 (InputLayer)         [(None, 1)]               0         \n",
      "_________________________________________________________________\n",
      "embedding (Embedding)        (None, 1, 50)             185300    \n",
      "_________________________________________________________________\n",
      "flatten (Flatten)            (None, 50)                0         \n",
      "_________________________________________________________________\n",
      "dense_2 (Dense)              (None, 50)                2550      \n",
      "_________________________________________________________________\n",
      "leaky_re_lu_1 (LeakyReLU)    (None, 50)                0         \n",
      "_________________________________________________________________\n",
      "dropout_1 (Dropout)          (None, 50)                0         \n",
      "_________________________________________________________________\n",
      "dense_3 (Dense)              (None, 1)                 51        \n",
      "=================================================================\n",
      "Total params: 187,901\n",
      "Trainable params: 2,601\n",
      "Non-trainable params: 185,300\n",
      "_________________________________________________________________\n"
     ]
    }
   ],
   "source": [
    "# hidden layer with leaky ReLU and dropout\n",
    "x = Dense(50, activation='relu')(item_vec)\n",
    "x = LeakyReLU(alpha=.1)(x)\n",
    "x = Dropout(.2)(x)\n",
    "# add sigmoid activation function\n",
    "genre = Dense(1, activation='sigmoid')(x)\n",
    "# create model and compile it\n",
    "model2 = Model(item_in, genre)\n",
    "# freeze the embedding layer\n",
    "model2.layers[1].trainable = False\n",
    "model2.compile(optimizer='adam', loss='binary_crossentropy' , metrics=['accuracy', 'AUC'])\n",
    "\n",
    "# show model summary\n",
    "model2.summary()"
   ]
  },
  {
   "cell_type": "markdown",
   "metadata": {},
   "source": [
    "## 2.2. Train model"
   ]
  },
  {
   "cell_type": "code",
   "execution_count": 19,
   "metadata": {},
   "outputs": [
    {
     "name": "stdout",
     "output_type": "stream",
     "text": [
      "Train on 2668 samples, validate on 667 samples\n",
      "Epoch 1/5\n",
      "2668/2668 [==============================] - 1s 312us/sample - loss: 0.3258 - accuracy: 0.5930 - AUC: 0.6384 - val_loss: 0.3144 - val_accuracy: 0.5817 - val_AUC: 0.6312\n",
      "Epoch 2/5\n",
      "2668/2668 [==============================] - 0s 33us/sample - loss: 0.3152 - accuracy: 0.6184 - AUC: 0.6634 - val_loss: 0.3120 - val_accuracy: 0.5862 - val_AUC: 0.6337\n",
      "Epoch 3/5\n",
      "2668/2668 [==============================] - 0s 36us/sample - loss: 0.3147 - accuracy: 0.6098 - AUC: 0.6584 - val_loss: 0.3116 - val_accuracy: 0.5862 - val_AUC: 0.6356\n",
      "Epoch 4/5\n",
      "2668/2668 [==============================] - 0s 34us/sample - loss: 0.3124 - accuracy: 0.6139 - AUC: 0.6661 - val_loss: 0.3111 - val_accuracy: 0.5847 - val_AUC: 0.6368\n",
      "Epoch 5/5\n",
      "2668/2668 [==============================] - 0s 34us/sample - loss: 0.3118 - accuracy: 0.6154 - AUC: 0.6693 - val_loss: 0.3118 - val_accuracy: 0.5847 - val_AUC: 0.6375\n"
     ]
    }
   ],
   "source": [
    "# train genre model\n",
    "results = model2.fit(\n",
    "    movies.movieId.values, movies.Drama.values,\n",
    "    batch_size=64, \n",
    "    epochs=5,\n",
    "    validation_split=.2,\n",
    "    class_weight={0:.4, 1:.6})"
   ]
  },
  {
   "cell_type": "markdown",
   "metadata": {},
   "source": [
    "## 2.3. Holdout performance"
   ]
  },
  {
   "cell_type": "code",
   "execution_count": 20,
   "metadata": {},
   "outputs": [],
   "source": [
    "from sklearn.metrics import classification_report, confusion_matrix, precision_score, recall_score, f1_score"
   ]
  },
  {
   "cell_type": "markdown",
   "metadata": {},
   "source": [
    "### Evaluate on test set"
   ]
  },
  {
   "cell_type": "code",
   "execution_count": 21,
   "metadata": {},
   "outputs": [],
   "source": [
    "X_test = movies_holdout.movieId.values\n",
    "y_test = movies_holdout.Drama.values\n",
    "y_score = pd.DataFrame(model2.predict(X_test))\n",
    "y_pred = y_score.round().astype('int')"
   ]
  },
  {
   "cell_type": "code",
   "execution_count": 22,
   "metadata": {},
   "outputs": [
    {
     "name": "stdout",
     "output_type": "stream",
     "text": [
      "              precision    recall  f1-score   support\n",
      "\n",
      "           0       0.76      0.47      0.58       227\n",
      "           1       0.48      0.76      0.59       144\n",
      "\n",
      "    accuracy                           0.58       371\n",
      "   macro avg       0.62      0.62      0.58       371\n",
      "weighted avg       0.65      0.58      0.58       371\n",
      "\n"
     ]
    }
   ],
   "source": [
    "print(classification_report(y_test, y_pred))"
   ]
  },
  {
   "cell_type": "code",
   "execution_count": 23,
   "metadata": {},
   "outputs": [
    {
     "data": {
      "text/html": [
       "<div>\n",
       "<style scoped>\n",
       "    .dataframe tbody tr th:only-of-type {\n",
       "        vertical-align: middle;\n",
       "    }\n",
       "\n",
       "    .dataframe tbody tr th {\n",
       "        vertical-align: top;\n",
       "    }\n",
       "\n",
       "    .dataframe thead th {\n",
       "        text-align: right;\n",
       "    }\n",
       "</style>\n",
       "<table border=\"1\" class=\"dataframe\">\n",
       "  <thead>\n",
       "    <tr style=\"text-align: right;\">\n",
       "      <th></th>\n",
       "      <th>T0</th>\n",
       "      <th>T1</th>\n",
       "    </tr>\n",
       "  </thead>\n",
       "  <tbody>\n",
       "    <tr>\n",
       "      <th>P0</th>\n",
       "      <td>107</td>\n",
       "      <td>120</td>\n",
       "    </tr>\n",
       "    <tr>\n",
       "      <th>P1</th>\n",
       "      <td>34</td>\n",
       "      <td>110</td>\n",
       "    </tr>\n",
       "  </tbody>\n",
       "</table>\n",
       "</div>"
      ],
      "text/plain": [
       "     T0   T1\n",
       "P0  107  120\n",
       "P1   34  110"
      ]
     },
     "execution_count": 23,
     "metadata": {},
     "output_type": "execute_result"
    }
   ],
   "source": [
    "pd.DataFrame(confusion_matrix(y_test, y_pred), index=['P0', 'P1'], columns=['T0', 'T1'])"
   ]
  }
 ],
 "metadata": {
  "kernelspec": {
   "display_name": "Python 3",
   "language": "python",
   "name": "python3"
  },
  "language_info": {
   "codemirror_mode": {
    "name": "ipython",
    "version": 3
   },
   "file_extension": ".py",
   "mimetype": "text/x-python",
   "name": "python",
   "nbconvert_exporter": "python",
   "pygments_lexer": "ipython3",
   "version": "3.7.3"
  }
 },
 "nbformat": 4,
 "nbformat_minor": 4
}
