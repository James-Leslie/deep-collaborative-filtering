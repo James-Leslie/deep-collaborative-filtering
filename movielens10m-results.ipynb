{
 "cells": [
  {
   "cell_type": "code",
   "execution_count": 1,
   "metadata": {},
   "outputs": [],
   "source": [
    "import numpy as np\n",
    "import pandas as pd\n",
    "import matplotlib.pyplot as plt\n",
    "import seaborn as sns\n",
    "import glob\n",
    "import os\n",
    "from sklearn.metrics import classification_report, confusion_matrix, precision_score, recall_score, f1_score\n",
    "\n",
    "pd.set_option('display.max_rows', 50)\n",
    "%matplotlib inline"
   ]
  },
  {
   "cell_type": "code",
   "execution_count": 2,
   "metadata": {},
   "outputs": [],
   "source": [
    "sns.set(style='whitegrid', palette='muted',\n",
    "        rc={'figure.figsize': (16,9),\n",
    "            'font.family': 'serif'})"
   ]
  },
  {
   "cell_type": "code",
   "execution_count": 3,
   "metadata": {},
   "outputs": [
    {
     "data": {
      "text/html": [
       "<div>\n",
       "<style scoped>\n",
       "    .dataframe tbody tr th:only-of-type {\n",
       "        vertical-align: middle;\n",
       "    }\n",
       "\n",
       "    .dataframe tbody tr th {\n",
       "        vertical-align: top;\n",
       "    }\n",
       "\n",
       "    .dataframe thead th {\n",
       "        text-align: right;\n",
       "    }\n",
       "</style>\n",
       "<table border=\"1\" class=\"dataframe\">\n",
       "  <thead>\n",
       "    <tr style=\"text-align: right;\">\n",
       "      <th></th>\n",
       "      <th>movieId</th>\n",
       "      <th>title</th>\n",
       "      <th>Drama</th>\n",
       "      <th>prediction</th>\n",
       "      <th>test</th>\n",
       "    </tr>\n",
       "  </thead>\n",
       "  <tbody>\n",
       "    <tr>\n",
       "      <th>0</th>\n",
       "      <td>3827</td>\n",
       "      <td>Slipper and the Rose, The (1976)</td>\n",
       "      <td>0</td>\n",
       "      <td>0</td>\n",
       "      <td>0</td>\n",
       "    </tr>\n",
       "    <tr>\n",
       "      <th>1</th>\n",
       "      <td>5666</td>\n",
       "      <td>Journey of Natty Gann, The (1985)</td>\n",
       "      <td>0</td>\n",
       "      <td>0</td>\n",
       "      <td>0</td>\n",
       "    </tr>\n",
       "    <tr>\n",
       "      <th>2</th>\n",
       "      <td>1877</td>\n",
       "      <td>Last Seduction, The (1994)</td>\n",
       "      <td>1</td>\n",
       "      <td>1</td>\n",
       "      <td>0</td>\n",
       "    </tr>\n",
       "    <tr>\n",
       "      <th>3</th>\n",
       "      <td>10407</td>\n",
       "      <td>Wrong Man, The (1993)</td>\n",
       "      <td>0</td>\n",
       "      <td>1</td>\n",
       "      <td>0</td>\n",
       "    </tr>\n",
       "    <tr>\n",
       "      <th>4</th>\n",
       "      <td>5046</td>\n",
       "      <td>Spacehunter: Adventures in the Forbidden Zone ...</td>\n",
       "      <td>0</td>\n",
       "      <td>0</td>\n",
       "      <td>0</td>\n",
       "    </tr>\n",
       "  </tbody>\n",
       "</table>\n",
       "</div>"
      ],
      "text/plain": [
       "   movieId                                              title  Drama  \\\n",
       "0     3827                   Slipper and the Rose, The (1976)      0   \n",
       "1     5666                  Journey of Natty Gann, The (1985)      0   \n",
       "2     1877                         Last Seduction, The (1994)      1   \n",
       "3    10407                              Wrong Man, The (1993)      0   \n",
       "4     5046  Spacehunter: Adventures in the Forbidden Zone ...      0   \n",
       "\n",
       "   prediction  test  \n",
       "0           0     0  \n",
       "1           0     0  \n",
       "2           1     0  \n",
       "3           1     0  \n",
       "4           0     0  "
      ]
     },
     "metadata": {},
     "output_type": "display_data"
    }
   ],
   "source": [
    "path = 'data/ml-10M100K/'  # ML-10M files\n",
    "train = pd.read_csv(path+'train_predictions.csv')\n",
    "train['test'] = 0\n",
    "test = pd.read_csv(path+'holdout_predictions.csv')\n",
    "test['test'] = 1\n",
    "df = pd.concat((train, test), ignore_index=True)\n",
    "df.head()"
   ]
  },
  {
   "cell_type": "code",
   "execution_count": 4,
   "metadata": {},
   "outputs": [
    {
     "data": {
      "text/plain": [
       "0    5341\n",
       "1    5336\n",
       "Name: Drama, dtype: int64"
      ]
     },
     "execution_count": 4,
     "metadata": {},
     "output_type": "execute_result"
    }
   ],
   "source": [
    "df.Drama.value_counts()"
   ]
  },
  {
   "cell_type": "code",
   "execution_count": 5,
   "metadata": {},
   "outputs": [],
   "source": [
    "train = df['test']==0\n",
    "test = df['test']==1"
   ]
  },
  {
   "cell_type": "code",
   "execution_count": 6,
   "metadata": {},
   "outputs": [
    {
     "data": {
      "text/plain": [
       "((9609, 5), (1068, 5))"
      ]
     },
     "execution_count": 6,
     "metadata": {},
     "output_type": "execute_result"
    }
   ],
   "source": [
    "df[train].shape, df[test].shape"
   ]
  },
  {
   "cell_type": "code",
   "execution_count": 7,
   "metadata": {},
   "outputs": [
    {
     "name": "stdout",
     "output_type": "stream",
     "text": [
      "              precision    recall  f1-score   support\n",
      "\n",
      "           0       0.73      0.70      0.71      4790\n",
      "           1       0.71      0.74      0.72      4819\n",
      "\n",
      "    accuracy                           0.72      9609\n",
      "   macro avg       0.72      0.72      0.72      9609\n",
      "weighted avg       0.72      0.72      0.72      9609\n",
      "\n"
     ]
    }
   ],
   "source": [
    "print(classification_report(df[train].Drama, df[train].prediction))"
   ]
  },
  {
   "cell_type": "code",
   "execution_count": 8,
   "metadata": {},
   "outputs": [
    {
     "data": {
      "text/html": [
       "<div>\n",
       "<style scoped>\n",
       "    .dataframe tbody tr th:only-of-type {\n",
       "        vertical-align: middle;\n",
       "    }\n",
       "\n",
       "    .dataframe tbody tr th {\n",
       "        vertical-align: top;\n",
       "    }\n",
       "\n",
       "    .dataframe thead th {\n",
       "        text-align: right;\n",
       "    }\n",
       "</style>\n",
       "<table border=\"1\" class=\"dataframe\">\n",
       "  <thead>\n",
       "    <tr style=\"text-align: right;\">\n",
       "      <th></th>\n",
       "      <th>0</th>\n",
       "      <th>1</th>\n",
       "    </tr>\n",
       "  </thead>\n",
       "  <tbody>\n",
       "    <tr>\n",
       "      <th>0</th>\n",
       "      <td>3354</td>\n",
       "      <td>1436</td>\n",
       "    </tr>\n",
       "    <tr>\n",
       "      <th>1</th>\n",
       "      <td>1264</td>\n",
       "      <td>3555</td>\n",
       "    </tr>\n",
       "  </tbody>\n",
       "</table>\n",
       "</div>"
      ],
      "text/plain": [
       "      0     1\n",
       "0  3354  1436\n",
       "1  1264  3555"
      ]
     },
     "metadata": {},
     "output_type": "display_data"
    }
   ],
   "source": [
    "pd.DataFrame(confusion_matrix(df[train].Drama, df[train].prediction))"
   ]
  },
  {
   "cell_type": "code",
   "execution_count": 9,
   "metadata": {},
   "outputs": [
    {
     "name": "stdout",
     "output_type": "stream",
     "text": [
      "              precision    recall  f1-score   support\n",
      "\n",
      "           0       0.71      0.70      0.71       551\n",
      "           1       0.68      0.70      0.69       517\n",
      "\n",
      "    accuracy                           0.70      1068\n",
      "   macro avg       0.70      0.70      0.70      1068\n",
      "weighted avg       0.70      0.70      0.70      1068\n",
      "\n"
     ]
    }
   ],
   "source": [
    "print(classification_report(df[test].Drama, df[test].prediction))"
   ]
  },
  {
   "cell_type": "code",
   "execution_count": 10,
   "metadata": {},
   "outputs": [
    {
     "data": {
      "text/html": [
       "<div>\n",
       "<style scoped>\n",
       "    .dataframe tbody tr th:only-of-type {\n",
       "        vertical-align: middle;\n",
       "    }\n",
       "\n",
       "    .dataframe tbody tr th {\n",
       "        vertical-align: top;\n",
       "    }\n",
       "\n",
       "    .dataframe thead th {\n",
       "        text-align: right;\n",
       "    }\n",
       "</style>\n",
       "<table border=\"1\" class=\"dataframe\">\n",
       "  <thead>\n",
       "    <tr style=\"text-align: right;\">\n",
       "      <th></th>\n",
       "      <th>0</th>\n",
       "      <th>1</th>\n",
       "    </tr>\n",
       "  </thead>\n",
       "  <tbody>\n",
       "    <tr>\n",
       "      <th>0</th>\n",
       "      <td>384</td>\n",
       "      <td>167</td>\n",
       "    </tr>\n",
       "    <tr>\n",
       "      <th>1</th>\n",
       "      <td>154</td>\n",
       "      <td>363</td>\n",
       "    </tr>\n",
       "  </tbody>\n",
       "</table>\n",
       "</div>"
      ],
      "text/plain": [
       "     0    1\n",
       "0  384  167\n",
       "1  154  363"
      ]
     },
     "metadata": {},
     "output_type": "display_data"
    }
   ],
   "source": [
    "pd.DataFrame(confusion_matrix(df[test].Drama, df[test].prediction))"
   ]
  },
  {
   "cell_type": "markdown",
   "metadata": {},
   "source": [
    "## Load rating data"
   ]
  },
  {
   "cell_type": "code",
   "execution_count": 11,
   "metadata": {},
   "outputs": [],
   "source": [
    "all_files = glob.glob(os.path.join(path, \"ratings*.csv\"))\n",
    "ratings = pd.concat((pd.read_csv(f) for f in all_files), ignore_index=True)"
   ]
  },
  {
   "cell_type": "code",
   "execution_count": 12,
   "metadata": {},
   "outputs": [
    {
     "data": {
      "text/html": [
       "<div>\n",
       "<style scoped>\n",
       "    .dataframe tbody tr th:only-of-type {\n",
       "        vertical-align: middle;\n",
       "    }\n",
       "\n",
       "    .dataframe tbody tr th {\n",
       "        vertical-align: top;\n",
       "    }\n",
       "\n",
       "    .dataframe thead th {\n",
       "        text-align: right;\n",
       "    }\n",
       "</style>\n",
       "<table border=\"1\" class=\"dataframe\">\n",
       "  <thead>\n",
       "    <tr style=\"text-align: right;\">\n",
       "      <th></th>\n",
       "      <th>userId</th>\n",
       "      <th>movieId</th>\n",
       "      <th>rating</th>\n",
       "    </tr>\n",
       "  </thead>\n",
       "  <tbody>\n",
       "    <tr>\n",
       "      <th>0</th>\n",
       "      <td>69587</td>\n",
       "      <td>1005</td>\n",
       "      <td>2.0</td>\n",
       "    </tr>\n",
       "    <tr>\n",
       "      <th>1</th>\n",
       "      <td>47904</td>\n",
       "      <td>193</td>\n",
       "      <td>4.0</td>\n",
       "    </tr>\n",
       "    <tr>\n",
       "      <th>2</th>\n",
       "      <td>26906</td>\n",
       "      <td>3097</td>\n",
       "      <td>3.5</td>\n",
       "    </tr>\n",
       "    <tr>\n",
       "      <th>3</th>\n",
       "      <td>31241</td>\n",
       "      <td>559</td>\n",
       "      <td>1.0</td>\n",
       "    </tr>\n",
       "    <tr>\n",
       "      <th>4</th>\n",
       "      <td>69402</td>\n",
       "      <td>2541</td>\n",
       "      <td>4.0</td>\n",
       "    </tr>\n",
       "  </tbody>\n",
       "</table>\n",
       "</div>"
      ],
      "text/plain": [
       "   userId  movieId  rating\n",
       "0   69587     1005     2.0\n",
       "1   47904      193     4.0\n",
       "2   26906     3097     3.5\n",
       "3   31241      559     1.0\n",
       "4   69402     2541     4.0"
      ]
     },
     "metadata": {},
     "output_type": "display_data"
    }
   ],
   "source": [
    "ratings.head()"
   ]
  },
  {
   "cell_type": "code",
   "execution_count": 13,
   "metadata": {},
   "outputs": [
    {
     "data": {
      "text/plain": [
       "(10000054, 3)"
      ]
     },
     "execution_count": 13,
     "metadata": {},
     "output_type": "execute_result"
    }
   ],
   "source": [
    "ratings.shape"
   ]
  },
  {
   "cell_type": "code",
   "execution_count": 14,
   "metadata": {},
   "outputs": [
    {
     "data": {
      "text/html": [
       "<div>\n",
       "<style scoped>\n",
       "    .dataframe tbody tr th:only-of-type {\n",
       "        vertical-align: middle;\n",
       "    }\n",
       "\n",
       "    .dataframe tbody tr th {\n",
       "        vertical-align: top;\n",
       "    }\n",
       "\n",
       "    .dataframe thead th {\n",
       "        text-align: right;\n",
       "    }\n",
       "</style>\n",
       "<table border=\"1\" class=\"dataframe\">\n",
       "  <thead>\n",
       "    <tr style=\"text-align: right;\">\n",
       "      <th></th>\n",
       "      <th>movieId</th>\n",
       "      <th>n_ratings</th>\n",
       "    </tr>\n",
       "  </thead>\n",
       "  <tbody>\n",
       "    <tr>\n",
       "      <th>0</th>\n",
       "      <td>0</td>\n",
       "      <td>2412</td>\n",
       "    </tr>\n",
       "    <tr>\n",
       "      <th>1</th>\n",
       "      <td>1</td>\n",
       "      <td>14975</td>\n",
       "    </tr>\n",
       "    <tr>\n",
       "      <th>2</th>\n",
       "      <td>2</td>\n",
       "      <td>17851</td>\n",
       "    </tr>\n",
       "    <tr>\n",
       "      <th>3</th>\n",
       "      <td>3</td>\n",
       "      <td>16075</td>\n",
       "    </tr>\n",
       "    <tr>\n",
       "      <th>4</th>\n",
       "      <td>4</td>\n",
       "      <td>18925</td>\n",
       "    </tr>\n",
       "  </tbody>\n",
       "</table>\n",
       "</div>"
      ],
      "text/plain": [
       "   movieId  n_ratings\n",
       "0        0       2412\n",
       "1        1      14975\n",
       "2        2      17851\n",
       "3        3      16075\n",
       "4        4      18925"
      ]
     },
     "metadata": {},
     "output_type": "display_data"
    }
   ],
   "source": [
    "rating_counts = ratings.groupby('movieId').agg({'rating':'count'}).reset_index()\n",
    "rating_counts.columns = ['movieId', 'n_ratings']\n",
    "rating_counts.head()"
   ]
  },
  {
   "cell_type": "code",
   "execution_count": 15,
   "metadata": {},
   "outputs": [
    {
     "data": {
      "text/html": [
       "<div>\n",
       "<style scoped>\n",
       "    .dataframe tbody tr th:only-of-type {\n",
       "        vertical-align: middle;\n",
       "    }\n",
       "\n",
       "    .dataframe tbody tr th {\n",
       "        vertical-align: top;\n",
       "    }\n",
       "\n",
       "    .dataframe thead th {\n",
       "        text-align: right;\n",
       "    }\n",
       "</style>\n",
       "<table border=\"1\" class=\"dataframe\">\n",
       "  <thead>\n",
       "    <tr style=\"text-align: right;\">\n",
       "      <th></th>\n",
       "      <th>movieId</th>\n",
       "      <th>mean_rating</th>\n",
       "    </tr>\n",
       "  </thead>\n",
       "  <tbody>\n",
       "    <tr>\n",
       "      <th>0</th>\n",
       "      <td>0</td>\n",
       "      <td>2.861318</td>\n",
       "    </tr>\n",
       "    <tr>\n",
       "      <th>1</th>\n",
       "      <td>1</td>\n",
       "      <td>3.125209</td>\n",
       "    </tr>\n",
       "    <tr>\n",
       "      <th>2</th>\n",
       "      <td>2</td>\n",
       "      <td>2.936950</td>\n",
       "    </tr>\n",
       "    <tr>\n",
       "      <th>3</th>\n",
       "      <td>3</td>\n",
       "      <td>3.418414</td>\n",
       "    </tr>\n",
       "    <tr>\n",
       "      <th>4</th>\n",
       "      <td>4</td>\n",
       "      <td>3.349353</td>\n",
       "    </tr>\n",
       "  </tbody>\n",
       "</table>\n",
       "</div>"
      ],
      "text/plain": [
       "   movieId  mean_rating\n",
       "0        0     2.861318\n",
       "1        1     3.125209\n",
       "2        2     2.936950\n",
       "3        3     3.418414\n",
       "4        4     3.349353"
      ]
     },
     "metadata": {},
     "output_type": "display_data"
    }
   ],
   "source": [
    "rating_avgs = ratings.groupby('movieId').agg({'rating':'mean'}).reset_index()\n",
    "rating_avgs.columns = ['movieId', 'mean_rating']\n",
    "rating_avgs.head()"
   ]
  },
  {
   "cell_type": "code",
   "execution_count": 16,
   "metadata": {},
   "outputs": [
    {
     "data": {
      "text/html": [
       "<div>\n",
       "<style scoped>\n",
       "    .dataframe tbody tr th:only-of-type {\n",
       "        vertical-align: middle;\n",
       "    }\n",
       "\n",
       "    .dataframe tbody tr th {\n",
       "        vertical-align: top;\n",
       "    }\n",
       "\n",
       "    .dataframe thead th {\n",
       "        text-align: right;\n",
       "    }\n",
       "</style>\n",
       "<table border=\"1\" class=\"dataframe\">\n",
       "  <thead>\n",
       "    <tr style=\"text-align: right;\">\n",
       "      <th></th>\n",
       "      <th>movieId</th>\n",
       "      <th>std_rating</th>\n",
       "    </tr>\n",
       "  </thead>\n",
       "  <tbody>\n",
       "    <tr>\n",
       "      <th>0</th>\n",
       "      <td>0</td>\n",
       "      <td>0.925773</td>\n",
       "    </tr>\n",
       "    <tr>\n",
       "      <th>1</th>\n",
       "      <td>1</td>\n",
       "      <td>0.950148</td>\n",
       "    </tr>\n",
       "    <tr>\n",
       "      <th>2</th>\n",
       "      <td>2</td>\n",
       "      <td>1.188031</td>\n",
       "    </tr>\n",
       "    <tr>\n",
       "      <th>3</th>\n",
       "      <td>3</td>\n",
       "      <td>0.866052</td>\n",
       "    </tr>\n",
       "    <tr>\n",
       "      <th>4</th>\n",
       "      <td>4</td>\n",
       "      <td>0.941355</td>\n",
       "    </tr>\n",
       "  </tbody>\n",
       "</table>\n",
       "</div>"
      ],
      "text/plain": [
       "   movieId  std_rating\n",
       "0        0    0.925773\n",
       "1        1    0.950148\n",
       "2        2    1.188031\n",
       "3        3    0.866052\n",
       "4        4    0.941355"
      ]
     },
     "metadata": {},
     "output_type": "display_data"
    }
   ],
   "source": [
    "rating_var = ratings.groupby('movieId').agg({'rating':'std'}).reset_index()\n",
    "rating_var.columns = ['movieId', 'std_rating']\n",
    "rating_var.head()"
   ]
  },
  {
   "cell_type": "code",
   "execution_count": 17,
   "metadata": {},
   "outputs": [
    {
     "data": {
      "text/html": [
       "<div>\n",
       "<style scoped>\n",
       "    .dataframe tbody tr th:only-of-type {\n",
       "        vertical-align: middle;\n",
       "    }\n",
       "\n",
       "    .dataframe tbody tr th {\n",
       "        vertical-align: top;\n",
       "    }\n",
       "\n",
       "    .dataframe thead th {\n",
       "        text-align: right;\n",
       "    }\n",
       "</style>\n",
       "<table border=\"1\" class=\"dataframe\">\n",
       "  <thead>\n",
       "    <tr style=\"text-align: right;\">\n",
       "      <th></th>\n",
       "      <th>movieId</th>\n",
       "      <th>title</th>\n",
       "      <th>Drama</th>\n",
       "      <th>prediction</th>\n",
       "      <th>test</th>\n",
       "      <th>n_ratings</th>\n",
       "      <th>mean_rating</th>\n",
       "      <th>std_rating</th>\n",
       "    </tr>\n",
       "  </thead>\n",
       "  <tbody>\n",
       "    <tr>\n",
       "      <th>0</th>\n",
       "      <td>3827</td>\n",
       "      <td>Slipper and the Rose, The (1976)</td>\n",
       "      <td>0</td>\n",
       "      <td>0</td>\n",
       "      <td>0</td>\n",
       "      <td>95</td>\n",
       "      <td>3.363158</td>\n",
       "      <td>1.247214</td>\n",
       "    </tr>\n",
       "    <tr>\n",
       "      <th>1</th>\n",
       "      <td>5666</td>\n",
       "      <td>Journey of Natty Gann, The (1985)</td>\n",
       "      <td>0</td>\n",
       "      <td>0</td>\n",
       "      <td>0</td>\n",
       "      <td>659</td>\n",
       "      <td>3.531108</td>\n",
       "      <td>0.875721</td>\n",
       "    </tr>\n",
       "    <tr>\n",
       "      <th>2</th>\n",
       "      <td>1877</td>\n",
       "      <td>Last Seduction, The (1994)</td>\n",
       "      <td>1</td>\n",
       "      <td>1</td>\n",
       "      <td>0</td>\n",
       "      <td>546</td>\n",
       "      <td>3.771978</td>\n",
       "      <td>0.841974</td>\n",
       "    </tr>\n",
       "    <tr>\n",
       "      <th>3</th>\n",
       "      <td>10407</td>\n",
       "      <td>Wrong Man, The (1993)</td>\n",
       "      <td>0</td>\n",
       "      <td>1</td>\n",
       "      <td>0</td>\n",
       "      <td>4</td>\n",
       "      <td>2.625000</td>\n",
       "      <td>1.108678</td>\n",
       "    </tr>\n",
       "    <tr>\n",
       "      <th>4</th>\n",
       "      <td>5046</td>\n",
       "      <td>Spacehunter: Adventures in the Forbidden Zone ...</td>\n",
       "      <td>0</td>\n",
       "      <td>0</td>\n",
       "      <td>0</td>\n",
       "      <td>121</td>\n",
       "      <td>2.504132</td>\n",
       "      <td>0.936518</td>\n",
       "    </tr>\n",
       "  </tbody>\n",
       "</table>\n",
       "</div>"
      ],
      "text/plain": [
       "   movieId                                              title  Drama  \\\n",
       "0     3827                   Slipper and the Rose, The (1976)      0   \n",
       "1     5666                  Journey of Natty Gann, The (1985)      0   \n",
       "2     1877                         Last Seduction, The (1994)      1   \n",
       "3    10407                              Wrong Man, The (1993)      0   \n",
       "4     5046  Spacehunter: Adventures in the Forbidden Zone ...      0   \n",
       "\n",
       "   prediction  test  n_ratings  mean_rating  std_rating  \n",
       "0           0     0         95     3.363158    1.247214  \n",
       "1           0     0        659     3.531108    0.875721  \n",
       "2           1     0        546     3.771978    0.841974  \n",
       "3           1     0          4     2.625000    1.108678  \n",
       "4           0     0        121     2.504132    0.936518  "
      ]
     },
     "metadata": {},
     "output_type": "display_data"
    }
   ],
   "source": [
    "df = pd.merge(df, rating_counts, how='inner', on='movieId')\n",
    "df = pd.merge(df, rating_avgs, how='inner', on='movieId')\n",
    "df = pd.merge(df, rating_var, how='inner', on='movieId')\n",
    "df.head()"
   ]
  },
  {
   "cell_type": "code",
   "execution_count": 18,
   "metadata": {},
   "outputs": [
    {
     "data": {
      "text/html": [
       "<div>\n",
       "<style scoped>\n",
       "    .dataframe tbody tr th:only-of-type {\n",
       "        vertical-align: middle;\n",
       "    }\n",
       "\n",
       "    .dataframe tbody tr th {\n",
       "        vertical-align: top;\n",
       "    }\n",
       "\n",
       "    .dataframe thead th {\n",
       "        text-align: right;\n",
       "    }\n",
       "</style>\n",
       "<table border=\"1\" class=\"dataframe\">\n",
       "  <thead>\n",
       "    <tr style=\"text-align: right;\">\n",
       "      <th></th>\n",
       "      <th>movieId</th>\n",
       "      <th>title</th>\n",
       "      <th>Drama</th>\n",
       "      <th>prediction</th>\n",
       "      <th>test</th>\n",
       "      <th>n_ratings</th>\n",
       "      <th>mean_rating</th>\n",
       "      <th>std_rating</th>\n",
       "      <th>correct</th>\n",
       "    </tr>\n",
       "  </thead>\n",
       "  <tbody>\n",
       "    <tr>\n",
       "      <th>0</th>\n",
       "      <td>3827</td>\n",
       "      <td>Slipper and the Rose, The (1976)</td>\n",
       "      <td>0</td>\n",
       "      <td>0</td>\n",
       "      <td>0</td>\n",
       "      <td>95</td>\n",
       "      <td>3.363158</td>\n",
       "      <td>1.247214</td>\n",
       "      <td>1</td>\n",
       "    </tr>\n",
       "    <tr>\n",
       "      <th>1</th>\n",
       "      <td>5666</td>\n",
       "      <td>Journey of Natty Gann, The (1985)</td>\n",
       "      <td>0</td>\n",
       "      <td>0</td>\n",
       "      <td>0</td>\n",
       "      <td>659</td>\n",
       "      <td>3.531108</td>\n",
       "      <td>0.875721</td>\n",
       "      <td>1</td>\n",
       "    </tr>\n",
       "    <tr>\n",
       "      <th>2</th>\n",
       "      <td>1877</td>\n",
       "      <td>Last Seduction, The (1994)</td>\n",
       "      <td>1</td>\n",
       "      <td>1</td>\n",
       "      <td>0</td>\n",
       "      <td>546</td>\n",
       "      <td>3.771978</td>\n",
       "      <td>0.841974</td>\n",
       "      <td>1</td>\n",
       "    </tr>\n",
       "    <tr>\n",
       "      <th>3</th>\n",
       "      <td>10407</td>\n",
       "      <td>Wrong Man, The (1993)</td>\n",
       "      <td>0</td>\n",
       "      <td>1</td>\n",
       "      <td>0</td>\n",
       "      <td>4</td>\n",
       "      <td>2.625000</td>\n",
       "      <td>1.108678</td>\n",
       "      <td>0</td>\n",
       "    </tr>\n",
       "    <tr>\n",
       "      <th>4</th>\n",
       "      <td>5046</td>\n",
       "      <td>Spacehunter: Adventures in the Forbidden Zone ...</td>\n",
       "      <td>0</td>\n",
       "      <td>0</td>\n",
       "      <td>0</td>\n",
       "      <td>121</td>\n",
       "      <td>2.504132</td>\n",
       "      <td>0.936518</td>\n",
       "      <td>1</td>\n",
       "    </tr>\n",
       "  </tbody>\n",
       "</table>\n",
       "</div>"
      ],
      "text/plain": [
       "   movieId                                              title  Drama  \\\n",
       "0     3827                   Slipper and the Rose, The (1976)      0   \n",
       "1     5666                  Journey of Natty Gann, The (1985)      0   \n",
       "2     1877                         Last Seduction, The (1994)      1   \n",
       "3    10407                              Wrong Man, The (1993)      0   \n",
       "4     5046  Spacehunter: Adventures in the Forbidden Zone ...      0   \n",
       "\n",
       "   prediction  test  n_ratings  mean_rating  std_rating  correct  \n",
       "0           0     0         95     3.363158    1.247214        1  \n",
       "1           0     0        659     3.531108    0.875721        1  \n",
       "2           1     0        546     3.771978    0.841974        1  \n",
       "3           1     0          4     2.625000    1.108678        0  \n",
       "4           0     0        121     2.504132    0.936518        1  "
      ]
     },
     "metadata": {},
     "output_type": "display_data"
    }
   ],
   "source": [
    "df['correct'] = (df['Drama'] == df['prediction']).astype('int')\n",
    "df.head()"
   ]
  },
  {
   "cell_type": "markdown",
   "metadata": {},
   "source": [
    "## 1. Number of ratings per movie"
   ]
  },
  {
   "cell_type": "code",
   "execution_count": 19,
   "metadata": {},
   "outputs": [
    {
     "data": {
      "text/plain": [
       "array([  0,   5,  10,  15,  20,  25,  30,  35,  40,  45,  50,  55,  60,\n",
       "        65,  70,  75,  80,  85,  90,  95, 100])"
      ]
     },
     "execution_count": 19,
     "metadata": {},
     "output_type": "execute_result"
    }
   ],
   "source": [
    "np.arange(0, 101, 5)"
   ]
  },
  {
   "cell_type": "code",
   "execution_count": 20,
   "metadata": {},
   "outputs": [
    {
     "data": {
      "text/html": [
       "<div>\n",
       "<style scoped>\n",
       "    .dataframe tbody tr th:only-of-type {\n",
       "        vertical-align: middle;\n",
       "    }\n",
       "\n",
       "    .dataframe tbody tr th {\n",
       "        vertical-align: top;\n",
       "    }\n",
       "\n",
       "    .dataframe thead th {\n",
       "        text-align: right;\n",
       "    }\n",
       "</style>\n",
       "<table border=\"1\" class=\"dataframe\">\n",
       "  <thead>\n",
       "    <tr style=\"text-align: right;\">\n",
       "      <th></th>\n",
       "      <th>movieId</th>\n",
       "      <th>title</th>\n",
       "      <th>Drama</th>\n",
       "      <th>prediction</th>\n",
       "      <th>test</th>\n",
       "      <th>n_ratings</th>\n",
       "      <th>mean_rating</th>\n",
       "      <th>std_rating</th>\n",
       "      <th>correct</th>\n",
       "      <th>n_ratings_percentile</th>\n",
       "    </tr>\n",
       "  </thead>\n",
       "  <tbody>\n",
       "    <tr>\n",
       "      <th>0</th>\n",
       "      <td>3827</td>\n",
       "      <td>Slipper and the Rose, The (1976)</td>\n",
       "      <td>0</td>\n",
       "      <td>0</td>\n",
       "      <td>0</td>\n",
       "      <td>95</td>\n",
       "      <td>3.363158</td>\n",
       "      <td>1.247214</td>\n",
       "      <td>1</td>\n",
       "      <td>50</td>\n",
       "    </tr>\n",
       "    <tr>\n",
       "      <th>1</th>\n",
       "      <td>5666</td>\n",
       "      <td>Journey of Natty Gann, The (1985)</td>\n",
       "      <td>0</td>\n",
       "      <td>0</td>\n",
       "      <td>0</td>\n",
       "      <td>659</td>\n",
       "      <td>3.531108</td>\n",
       "      <td>0.875721</td>\n",
       "      <td>1</td>\n",
       "      <td>80</td>\n",
       "    </tr>\n",
       "    <tr>\n",
       "      <th>2</th>\n",
       "      <td>1877</td>\n",
       "      <td>Last Seduction, The (1994)</td>\n",
       "      <td>1</td>\n",
       "      <td>1</td>\n",
       "      <td>0</td>\n",
       "      <td>546</td>\n",
       "      <td>3.771978</td>\n",
       "      <td>0.841974</td>\n",
       "      <td>1</td>\n",
       "      <td>80</td>\n",
       "    </tr>\n",
       "    <tr>\n",
       "      <th>3</th>\n",
       "      <td>10407</td>\n",
       "      <td>Wrong Man, The (1993)</td>\n",
       "      <td>0</td>\n",
       "      <td>1</td>\n",
       "      <td>0</td>\n",
       "      <td>4</td>\n",
       "      <td>2.625000</td>\n",
       "      <td>1.108678</td>\n",
       "      <td>0</td>\n",
       "      <td>10</td>\n",
       "    </tr>\n",
       "    <tr>\n",
       "      <th>4</th>\n",
       "      <td>5046</td>\n",
       "      <td>Spacehunter: Adventures in the Forbidden Zone ...</td>\n",
       "      <td>0</td>\n",
       "      <td>0</td>\n",
       "      <td>0</td>\n",
       "      <td>121</td>\n",
       "      <td>2.504132</td>\n",
       "      <td>0.936518</td>\n",
       "      <td>1</td>\n",
       "      <td>50</td>\n",
       "    </tr>\n",
       "  </tbody>\n",
       "</table>\n",
       "</div>"
      ],
      "text/plain": [
       "   movieId                                              title  Drama  \\\n",
       "0     3827                   Slipper and the Rose, The (1976)      0   \n",
       "1     5666                  Journey of Natty Gann, The (1985)      0   \n",
       "2     1877                         Last Seduction, The (1994)      1   \n",
       "3    10407                              Wrong Man, The (1993)      0   \n",
       "4     5046  Spacehunter: Adventures in the Forbidden Zone ...      0   \n",
       "\n",
       "   prediction  test  n_ratings  mean_rating  std_rating  correct  \\\n",
       "0           0     0         95     3.363158    1.247214        1   \n",
       "1           0     0        659     3.531108    0.875721        1   \n",
       "2           1     0        546     3.771978    0.841974        1   \n",
       "3           1     0          4     2.625000    1.108678        0   \n",
       "4           0     0        121     2.504132    0.936518        1   \n",
       "\n",
       "  n_ratings_percentile  \n",
       "0                   50  \n",
       "1                   80  \n",
       "2                   80  \n",
       "3                   10  \n",
       "4                   50  "
      ]
     },
     "metadata": {},
     "output_type": "display_data"
    }
   ],
   "source": [
    "bins = list(np.percentile(df.n_ratings.values, np.arange(0, 101, 10)))\n",
    "labels = list(np.arange(10, 101, 10))\n",
    "df['n_ratings_percentile'] = pd.cut(df['n_ratings'], bins=bins, labels=labels, include_lowest=True)\n",
    "df.head()"
   ]
  },
  {
   "cell_type": "code",
   "execution_count": 21,
   "metadata": {},
   "outputs": [
    {
     "data": {
      "image/png": "[encoded data removed]",
      "text/plain": [
       "<Figure size 1152x648 with 1 Axes>"
      ]
     },
     "metadata": {},
     "output_type": "display_data"
    }
   ],
   "source": [
    "plt_df = df.groupby(['n_ratings_percentile','test'], as_index=False).agg({'correct':'mean', 'movieId':'count'})\n",
    "\n",
    "g = sns.barplot(x='n_ratings_percentile', y='correct', hue='test', data=plt_df, palette='muted')\n",
    "g.set(ylim=(.5, None))\n",
    "plt.ylabel('Proportion correctly classified')\n",
    "plt.xlabel('Number of ratings percentile')\n",
    "plt.title('Ratings per movie vs genre tagging accuracy')\n",
    "plt.show()"
   ]
  },
  {
   "cell_type": "code",
   "execution_count": 22,
   "metadata": {},
   "outputs": [
    {
     "data": {
      "text/plain": [
       "count    10677.000000\n",
       "mean       936.597733\n",
       "std       2487.328304\n",
       "min          1.000000\n",
       "25%         34.000000\n",
       "50%        135.000000\n",
       "75%        626.000000\n",
       "max      34864.000000\n",
       "Name: n_ratings, dtype: float64"
      ]
     },
     "execution_count": 22,
     "metadata": {},
     "output_type": "execute_result"
    }
   ],
   "source": [
    "df.n_ratings.describe()"
   ]
  },
  {
   "cell_type": "code",
   "execution_count": 23,
   "metadata": {},
   "outputs": [
    {
     "data": {
      "text/html": [
       "<div>\n",
       "<style scoped>\n",
       "    .dataframe tbody tr th:only-of-type {\n",
       "        vertical-align: middle;\n",
       "    }\n",
       "\n",
       "    .dataframe tbody tr th {\n",
       "        vertical-align: top;\n",
       "    }\n",
       "\n",
       "    .dataframe thead th {\n",
       "        text-align: right;\n",
       "    }\n",
       "</style>\n",
       "<table border=\"1\" class=\"dataframe\">\n",
       "  <thead>\n",
       "    <tr style=\"text-align: right;\">\n",
       "      <th></th>\n",
       "      <th>movieId</th>\n",
       "      <th>title</th>\n",
       "      <th>Drama</th>\n",
       "      <th>prediction</th>\n",
       "      <th>test</th>\n",
       "      <th>n_ratings</th>\n",
       "      <th>mean_rating</th>\n",
       "      <th>std_rating</th>\n",
       "      <th>correct</th>\n",
       "      <th>n_ratings_percentile</th>\n",
       "      <th>n_ratings_binned</th>\n",
       "    </tr>\n",
       "  </thead>\n",
       "  <tbody>\n",
       "    <tr>\n",
       "      <th>0</th>\n",
       "      <td>3827</td>\n",
       "      <td>Slipper and the Rose, The (1976)</td>\n",
       "      <td>0</td>\n",
       "      <td>0</td>\n",
       "      <td>0</td>\n",
       "      <td>95</td>\n",
       "      <td>3.363158</td>\n",
       "      <td>1.247214</td>\n",
       "      <td>1</td>\n",
       "      <td>50</td>\n",
       "      <td>100</td>\n",
       "    </tr>\n",
       "    <tr>\n",
       "      <th>1</th>\n",
       "      <td>5666</td>\n",
       "      <td>Journey of Natty Gann, The (1985)</td>\n",
       "      <td>0</td>\n",
       "      <td>0</td>\n",
       "      <td>0</td>\n",
       "      <td>659</td>\n",
       "      <td>3.531108</td>\n",
       "      <td>0.875721</td>\n",
       "      <td>1</td>\n",
       "      <td>80</td>\n",
       "      <td>1000</td>\n",
       "    </tr>\n",
       "    <tr>\n",
       "      <th>2</th>\n",
       "      <td>1877</td>\n",
       "      <td>Last Seduction, The (1994)</td>\n",
       "      <td>1</td>\n",
       "      <td>1</td>\n",
       "      <td>0</td>\n",
       "      <td>546</td>\n",
       "      <td>3.771978</td>\n",
       "      <td>0.841974</td>\n",
       "      <td>1</td>\n",
       "      <td>80</td>\n",
       "      <td>1000</td>\n",
       "    </tr>\n",
       "    <tr>\n",
       "      <th>3</th>\n",
       "      <td>10407</td>\n",
       "      <td>Wrong Man, The (1993)</td>\n",
       "      <td>0</td>\n",
       "      <td>1</td>\n",
       "      <td>0</td>\n",
       "      <td>4</td>\n",
       "      <td>2.625000</td>\n",
       "      <td>1.108678</td>\n",
       "      <td>0</td>\n",
       "      <td>10</td>\n",
       "      <td>5</td>\n",
       "    </tr>\n",
       "    <tr>\n",
       "      <th>4</th>\n",
       "      <td>5046</td>\n",
       "      <td>Spacehunter: Adventures in the Forbidden Zone ...</td>\n",
       "      <td>0</td>\n",
       "      <td>0</td>\n",
       "      <td>0</td>\n",
       "      <td>121</td>\n",
       "      <td>2.504132</td>\n",
       "      <td>0.936518</td>\n",
       "      <td>1</td>\n",
       "      <td>50</td>\n",
       "      <td>200</td>\n",
       "    </tr>\n",
       "  </tbody>\n",
       "</table>\n",
       "</div>"
      ],
      "text/plain": [
       "   movieId                                              title  Drama  \\\n",
       "0     3827                   Slipper and the Rose, The (1976)      0   \n",
       "1     5666                  Journey of Natty Gann, The (1985)      0   \n",
       "2     1877                         Last Seduction, The (1994)      1   \n",
       "3    10407                              Wrong Man, The (1993)      0   \n",
       "4     5046  Spacehunter: Adventures in the Forbidden Zone ...      0   \n",
       "\n",
       "   prediction  test  n_ratings  mean_rating  std_rating  correct  \\\n",
       "0           0     0         95     3.363158    1.247214        1   \n",
       "1           0     0        659     3.531108    0.875721        1   \n",
       "2           1     0        546     3.771978    0.841974        1   \n",
       "3           1     0          4     2.625000    1.108678        0   \n",
       "4           0     0        121     2.504132    0.936518        1   \n",
       "\n",
       "  n_ratings_percentile n_ratings_binned  \n",
       "0                   50              100  \n",
       "1                   80             1000  \n",
       "2                   80             1000  \n",
       "3                   10                5  \n",
       "4                   50              200  "
      ]
     },
     "metadata": {},
     "output_type": "display_data"
    }
   ],
   "source": [
    "bins = [1,5,10,20,50,100,200,500,1000,5000,10000,35000]\n",
    "labels = [5,10,20,50,100,200,500,1000,5000,10000,35000]\n",
    "df['n_ratings_binned'] = pd.cut(df['n_ratings'], bins=bins, labels=labels, include_lowest=True)\n",
    "df.head()"
   ]
  },
  {
   "cell_type": "code",
   "execution_count": 24,
   "metadata": {},
   "outputs": [
    {
     "data": {
      "image/png": "[encoded data removed]",
      "text/plain": [
       "<Figure size 1152x648 with 1 Axes>"
      ]
     },
     "metadata": {},
     "output_type": "display_data"
    }
   ],
   "source": [
    "plt_df = df.groupby(['n_ratings_binned','test'], as_index=False).agg({'correct':'mean', 'movieId':'count'})\n",
    "plt_df['test'] = plt_df['test'].apply(lambda x: 'test' if x==1 else 'train')\n",
    "\n",
    "g = sns.barplot(x='n_ratings_binned', y='correct', hue='test', data=plt_df, palette='muted')\n",
    "g.set(ylim=(.5, None))\n",
    "plt.ylabel('Accuracy')\n",
    "plt.xlabel('Number of ratings per movie')\n",
    "plt.title('Ratings per movie vs genre tagging accuracy')\n",
    "plt.legend(loc='upper left')\n",
    "plt.savefig('figures/5_ml10m-ratings-vs-acc.pdf', bbox_inches='tight')\n",
    "plt.show()"
   ]
  },
  {
   "cell_type": "markdown",
   "metadata": {},
   "source": [
    "## 2. Mean rating"
   ]
  },
  {
   "cell_type": "code",
   "execution_count": 25,
   "metadata": {},
   "outputs": [
    {
     "data": {
      "text/html": [
       "<div>\n",
       "<style scoped>\n",
       "    .dataframe tbody tr th:only-of-type {\n",
       "        vertical-align: middle;\n",
       "    }\n",
       "\n",
       "    .dataframe tbody tr th {\n",
       "        vertical-align: top;\n",
       "    }\n",
       "\n",
       "    .dataframe thead th {\n",
       "        text-align: right;\n",
       "    }\n",
       "</style>\n",
       "<table border=\"1\" class=\"dataframe\">\n",
       "  <thead>\n",
       "    <tr style=\"text-align: right;\">\n",
       "      <th></th>\n",
       "      <th>movieId</th>\n",
       "      <th>title</th>\n",
       "      <th>Drama</th>\n",
       "      <th>prediction</th>\n",
       "      <th>test</th>\n",
       "      <th>n_ratings</th>\n",
       "      <th>mean_rating</th>\n",
       "      <th>std_rating</th>\n",
       "      <th>correct</th>\n",
       "      <th>n_ratings_percentile</th>\n",
       "      <th>n_ratings_binned</th>\n",
       "      <th>mean_rating_binned</th>\n",
       "    </tr>\n",
       "  </thead>\n",
       "  <tbody>\n",
       "    <tr>\n",
       "      <th>0</th>\n",
       "      <td>3827</td>\n",
       "      <td>Slipper and the Rose, The (1976)</td>\n",
       "      <td>0</td>\n",
       "      <td>0</td>\n",
       "      <td>0</td>\n",
       "      <td>95</td>\n",
       "      <td>3.363158</td>\n",
       "      <td>1.247214</td>\n",
       "      <td>1</td>\n",
       "      <td>50</td>\n",
       "      <td>100</td>\n",
       "      <td>3.5</td>\n",
       "    </tr>\n",
       "    <tr>\n",
       "      <th>1</th>\n",
       "      <td>5666</td>\n",
       "      <td>Journey of Natty Gann, The (1985)</td>\n",
       "      <td>0</td>\n",
       "      <td>0</td>\n",
       "      <td>0</td>\n",
       "      <td>659</td>\n",
       "      <td>3.531108</td>\n",
       "      <td>0.875721</td>\n",
       "      <td>1</td>\n",
       "      <td>80</td>\n",
       "      <td>1000</td>\n",
       "      <td>4.0</td>\n",
       "    </tr>\n",
       "    <tr>\n",
       "      <th>2</th>\n",
       "      <td>1877</td>\n",
       "      <td>Last Seduction, The (1994)</td>\n",
       "      <td>1</td>\n",
       "      <td>1</td>\n",
       "      <td>0</td>\n",
       "      <td>546</td>\n",
       "      <td>3.771978</td>\n",
       "      <td>0.841974</td>\n",
       "      <td>1</td>\n",
       "      <td>80</td>\n",
       "      <td>1000</td>\n",
       "      <td>4.0</td>\n",
       "    </tr>\n",
       "    <tr>\n",
       "      <th>3</th>\n",
       "      <td>10407</td>\n",
       "      <td>Wrong Man, The (1993)</td>\n",
       "      <td>0</td>\n",
       "      <td>1</td>\n",
       "      <td>0</td>\n",
       "      <td>4</td>\n",
       "      <td>2.625000</td>\n",
       "      <td>1.108678</td>\n",
       "      <td>0</td>\n",
       "      <td>10</td>\n",
       "      <td>5</td>\n",
       "      <td>3.0</td>\n",
       "    </tr>\n",
       "    <tr>\n",
       "      <th>4</th>\n",
       "      <td>5046</td>\n",
       "      <td>Spacehunter: Adventures in the Forbidden Zone ...</td>\n",
       "      <td>0</td>\n",
       "      <td>0</td>\n",
       "      <td>0</td>\n",
       "      <td>121</td>\n",
       "      <td>2.504132</td>\n",
       "      <td>0.936518</td>\n",
       "      <td>1</td>\n",
       "      <td>50</td>\n",
       "      <td>200</td>\n",
       "      <td>3.0</td>\n",
       "    </tr>\n",
       "  </tbody>\n",
       "</table>\n",
       "</div>"
      ],
      "text/plain": [
       "   movieId                                              title  Drama  \\\n",
       "0     3827                   Slipper and the Rose, The (1976)      0   \n",
       "1     5666                  Journey of Natty Gann, The (1985)      0   \n",
       "2     1877                         Last Seduction, The (1994)      1   \n",
       "3    10407                              Wrong Man, The (1993)      0   \n",
       "4     5046  Spacehunter: Adventures in the Forbidden Zone ...      0   \n",
       "\n",
       "   prediction  test  n_ratings  mean_rating  std_rating  correct  \\\n",
       "0           0     0         95     3.363158    1.247214        1   \n",
       "1           0     0        659     3.531108    0.875721        1   \n",
       "2           1     0        546     3.771978    0.841974        1   \n",
       "3           1     0          4     2.625000    1.108678        0   \n",
       "4           0     0        121     2.504132    0.936518        1   \n",
       "\n",
       "  n_ratings_percentile n_ratings_binned mean_rating_binned  \n",
       "0                   50              100                3.5  \n",
       "1                   80             1000                4.0  \n",
       "2                   80             1000                4.0  \n",
       "3                   10                5                3.0  \n",
       "4                   50              200                3.0  "
      ]
     },
     "metadata": {},
     "output_type": "display_data"
    }
   ],
   "source": [
    "bins = list(np.arange(.5, 5.1, .5))\n",
    "labels = list(np.arange(1., 5.1, .5))\n",
    "df['mean_rating_binned'] = pd.cut(df['mean_rating'], bins=bins, labels=labels, include_lowest=True)\n",
    "df.head()"
   ]
  },
  {
   "cell_type": "code",
   "execution_count": 26,
   "metadata": {},
   "outputs": [
    {
     "data": {
      "image/png": "[encoded data removed]",
      "text/plain": [
       "<Figure size 1152x648 with 1 Axes>"
      ]
     },
     "metadata": {},
     "output_type": "display_data"
    }
   ],
   "source": [
    "plt_df = df.groupby(['mean_rating_binned','test'], as_index=False).agg({'correct':'mean'})\n",
    "\n",
    "g = sns.barplot(x='mean_rating_binned', y='correct', hue='test', data=plt_df, palette='muted')\n",
    "g.set(ylim=(.5, None))\n",
    "plt.ylabel('Proportion correctly classified')\n",
    "plt.xlabel('Average user rating of movie')\n",
    "plt.title('Average rating vs genre tagging accuracy')\n",
    "plt.show()"
   ]
  },
  {
   "cell_type": "markdown",
   "metadata": {},
   "source": [
    "## 3. Standard deviation of ratings"
   ]
  },
  {
   "cell_type": "code",
   "execution_count": 27,
   "metadata": {},
   "outputs": [
    {
     "data": {
      "text/plain": [
       "count    10577.000000\n",
       "mean         0.955582\n",
       "std          0.197177\n",
       "min          0.000000\n",
       "25%          0.850892\n",
       "50%          0.951140\n",
       "75%          1.062061\n",
       "max          2.474874\n",
       "Name: std_rating, dtype: float64"
      ]
     },
     "execution_count": 27,
     "metadata": {},
     "output_type": "execute_result"
    }
   ],
   "source": [
    "df.std_rating.describe()"
   ]
  },
  {
   "cell_type": "code",
   "execution_count": 28,
   "metadata": {},
   "outputs": [
    {
     "data": {
      "text/html": [
       "<div>\n",
       "<style scoped>\n",
       "    .dataframe tbody tr th:only-of-type {\n",
       "        vertical-align: middle;\n",
       "    }\n",
       "\n",
       "    .dataframe tbody tr th {\n",
       "        vertical-align: top;\n",
       "    }\n",
       "\n",
       "    .dataframe thead th {\n",
       "        text-align: right;\n",
       "    }\n",
       "</style>\n",
       "<table border=\"1\" class=\"dataframe\">\n",
       "  <thead>\n",
       "    <tr style=\"text-align: right;\">\n",
       "      <th></th>\n",
       "      <th>movieId</th>\n",
       "      <th>title</th>\n",
       "      <th>Drama</th>\n",
       "      <th>prediction</th>\n",
       "      <th>test</th>\n",
       "      <th>n_ratings</th>\n",
       "      <th>mean_rating</th>\n",
       "      <th>std_rating</th>\n",
       "      <th>correct</th>\n",
       "      <th>n_ratings_percentile</th>\n",
       "      <th>n_ratings_binned</th>\n",
       "      <th>mean_rating_binned</th>\n",
       "      <th>std_rating_binned</th>\n",
       "    </tr>\n",
       "  </thead>\n",
       "  <tbody>\n",
       "    <tr>\n",
       "      <th>0</th>\n",
       "      <td>3827</td>\n",
       "      <td>Slipper and the Rose, The (1976)</td>\n",
       "      <td>0</td>\n",
       "      <td>0</td>\n",
       "      <td>0</td>\n",
       "      <td>95</td>\n",
       "      <td>3.363158</td>\n",
       "      <td>1.247214</td>\n",
       "      <td>1</td>\n",
       "      <td>50</td>\n",
       "      <td>100</td>\n",
       "      <td>3.5</td>\n",
       "      <td>1.25</td>\n",
       "    </tr>\n",
       "    <tr>\n",
       "      <th>1</th>\n",
       "      <td>5666</td>\n",
       "      <td>Journey of Natty Gann, The (1985)</td>\n",
       "      <td>0</td>\n",
       "      <td>0</td>\n",
       "      <td>0</td>\n",
       "      <td>659</td>\n",
       "      <td>3.531108</td>\n",
       "      <td>0.875721</td>\n",
       "      <td>1</td>\n",
       "      <td>80</td>\n",
       "      <td>1000</td>\n",
       "      <td>4.0</td>\n",
       "      <td>1.00</td>\n",
       "    </tr>\n",
       "    <tr>\n",
       "      <th>2</th>\n",
       "      <td>1877</td>\n",
       "      <td>Last Seduction, The (1994)</td>\n",
       "      <td>1</td>\n",
       "      <td>1</td>\n",
       "      <td>0</td>\n",
       "      <td>546</td>\n",
       "      <td>3.771978</td>\n",
       "      <td>0.841974</td>\n",
       "      <td>1</td>\n",
       "      <td>80</td>\n",
       "      <td>1000</td>\n",
       "      <td>4.0</td>\n",
       "      <td>1.00</td>\n",
       "    </tr>\n",
       "    <tr>\n",
       "      <th>3</th>\n",
       "      <td>10407</td>\n",
       "      <td>Wrong Man, The (1993)</td>\n",
       "      <td>0</td>\n",
       "      <td>1</td>\n",
       "      <td>0</td>\n",
       "      <td>4</td>\n",
       "      <td>2.625000</td>\n",
       "      <td>1.108678</td>\n",
       "      <td>0</td>\n",
       "      <td>10</td>\n",
       "      <td>5</td>\n",
       "      <td>3.0</td>\n",
       "      <td>1.25</td>\n",
       "    </tr>\n",
       "    <tr>\n",
       "      <th>4</th>\n",
       "      <td>5046</td>\n",
       "      <td>Spacehunter: Adventures in the Forbidden Zone ...</td>\n",
       "      <td>0</td>\n",
       "      <td>0</td>\n",
       "      <td>0</td>\n",
       "      <td>121</td>\n",
       "      <td>2.504132</td>\n",
       "      <td>0.936518</td>\n",
       "      <td>1</td>\n",
       "      <td>50</td>\n",
       "      <td>200</td>\n",
       "      <td>3.0</td>\n",
       "      <td>1.00</td>\n",
       "    </tr>\n",
       "  </tbody>\n",
       "</table>\n",
       "</div>"
      ],
      "text/plain": [
       "   movieId                                              title  Drama  \\\n",
       "0     3827                   Slipper and the Rose, The (1976)      0   \n",
       "1     5666                  Journey of Natty Gann, The (1985)      0   \n",
       "2     1877                         Last Seduction, The (1994)      1   \n",
       "3    10407                              Wrong Man, The (1993)      0   \n",
       "4     5046  Spacehunter: Adventures in the Forbidden Zone ...      0   \n",
       "\n",
       "   prediction  test  n_ratings  mean_rating  std_rating  correct  \\\n",
       "0           0     0         95     3.363158    1.247214        1   \n",
       "1           0     0        659     3.531108    0.875721        1   \n",
       "2           1     0        546     3.771978    0.841974        1   \n",
       "3           1     0          4     2.625000    1.108678        0   \n",
       "4           0     0        121     2.504132    0.936518        1   \n",
       "\n",
       "  n_ratings_percentile n_ratings_binned mean_rating_binned std_rating_binned  \n",
       "0                   50              100                3.5              1.25  \n",
       "1                   80             1000                4.0              1.00  \n",
       "2                   80             1000                4.0              1.00  \n",
       "3                   10                5                3.0              1.25  \n",
       "4                   50              200                3.0              1.00  "
      ]
     },
     "metadata": {},
     "output_type": "display_data"
    }
   ],
   "source": [
    "bins = [0, .25, .5, .75, 1, 1.25, 1.5, 1.75, 2, 2.25, 2.5]\n",
    "labels = [.25, .5, .75, 1, 1.25, 1.5, 1.75, 2, 2.25, 2.5]\n",
    "df['std_rating_binned'] = pd.cut(df['std_rating'], bins=bins, labels=labels, include_lowest=True)\n",
    "df.head()"
   ]
  },
  {
   "cell_type": "code",
   "execution_count": 30,
   "metadata": {},
   "outputs": [
    {
     "data": {
      "image/png": "[encoded data removed]",
      "text/plain": [
       "<Figure size 1152x648 with 1 Axes>"
      ]
     },
     "metadata": {},
     "output_type": "display_data"
    }
   ],
   "source": [
    "plt_df = df.groupby(['std_rating_binned', 'test']).agg({'correct':'mean'}).reset_index()\n",
    "\n",
    "g = sns.barplot(x='std_rating_binned', y='correct', hue='test', data=plt_df, palette='muted')\n",
    "g.set(ylim=(.5, None))\n",
    "plt.ylabel('Proportion correctly classified')\n",
    "plt.xlabel('Standard deviation of user ratings')\n",
    "plt.title('Rating standard deviation vs genre tagging accuracy')\n",
    "plt.show()"
   ]
  }
 ],
 "metadata": {
  "kernelspec": {
   "display_name": "Python 3",
   "language": "python",
   "name": "python3"
  },
  "language_info": {
   "codemirror_mode": {
    "name": "ipython",
    "version": 3
   },
   "file_extension": ".py",
   "mimetype": "text/x-python",
   "name": "python",
   "nbconvert_exporter": "python",
   "pygments_lexer": "ipython3",
   "version": "3.7.3"
  }
 },
 "nbformat": 4,
 "nbformat_minor": 4
}
