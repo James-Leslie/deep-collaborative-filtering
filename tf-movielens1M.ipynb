{
 "cells": [
  {
   "cell_type": "markdown",
   "metadata": {},
   "source": [
    "[![Colab](https://colab.research.google.com/assets/colab-badge.svg)](https://colab.research.google.com/github/James-Leslie/deep-collaborative-filtering/blob/master/tf-movielens1M-full-model.ipynb)"
   ]
  },
  {
   "cell_type": "markdown",
   "metadata": {},
   "source": [
    "# To do:\n",
    "  - create object classes for models\n",
    "  - implement TF 2.0 data classes\n",
    "  - [paperswithcode link](https://paperswithcode.com/sota/collaborative-filtering-on-movielens-1m)\n",
    "  - [ML 1M state of the art paper](http://proceedings.mlr.press/v80/muller18a/muller18a.pdf) (RMSE=0.824): details their evaluation method\n",
    "  - include genre model in grid search"
   ]
  },
  {
   "cell_type": "markdown",
   "metadata": {},
   "source": [
    "## Best CV score: Unknown (25 : 64 : 0.2)"
   ]
  },
  {
   "cell_type": "code",
   "execution_count": 1,
   "metadata": {},
   "outputs": [],
   "source": [
    "import numpy as np\n",
    "import pandas as pd\n",
    "import matplotlib.pyplot as plt\n",
    "import seaborn as sns\n",
    "\n",
    "from tensorflow.keras.layers import Input, Embedding, Flatten, Dot, Add, Dense, Concatenate, Dropout, LeakyReLU\n",
    "from tensorflow.keras.models import Model\n",
    "from tensorflow.math import add\n",
    "\n",
    "from sklearn.model_selection import train_test_split\n",
    "from sklearn.model_selection import KFold\n",
    "\n",
    "%matplotlib inline"
   ]
  },
  {
   "cell_type": "code",
   "execution_count": 2,
   "metadata": {},
   "outputs": [],
   "source": [
    "# path = 'https://raw.githubusercontent.com/James-Leslie/deep-collaborative-filtering/master/data/ml-100k/'  # access from anywhere\n",
    "path = 'data/ml-1M/'  # if the files are local\n",
    "df = pd.read_csv(path+'ratings.csv', usecols=['userId','movieId','rating'])"
   ]
  },
  {
   "cell_type": "code",
   "execution_count": 3,
   "metadata": {},
   "outputs": [
    {
     "data": {
      "text/html": [
       "<div>\n",
       "<style scoped>\n",
       "    .dataframe tbody tr th:only-of-type {\n",
       "        vertical-align: middle;\n",
       "    }\n",
       "\n",
       "    .dataframe tbody tr th {\n",
       "        vertical-align: top;\n",
       "    }\n",
       "\n",
       "    .dataframe thead th {\n",
       "        text-align: right;\n",
       "    }\n",
       "</style>\n",
       "<table border=\"1\" class=\"dataframe\">\n",
       "  <thead>\n",
       "    <tr style=\"text-align: right;\">\n",
       "      <th></th>\n",
       "      <th>userId</th>\n",
       "      <th>movieId</th>\n",
       "      <th>rating</th>\n",
       "    </tr>\n",
       "  </thead>\n",
       "  <tbody>\n",
       "    <tr>\n",
       "      <th>0</th>\n",
       "      <td>0</td>\n",
       "      <td>0</td>\n",
       "      <td>3</td>\n",
       "    </tr>\n",
       "    <tr>\n",
       "      <th>1</th>\n",
       "      <td>1</td>\n",
       "      <td>1</td>\n",
       "      <td>3</td>\n",
       "    </tr>\n",
       "    <tr>\n",
       "      <th>2</th>\n",
       "      <td>2</td>\n",
       "      <td>2</td>\n",
       "      <td>1</td>\n",
       "    </tr>\n",
       "    <tr>\n",
       "      <th>3</th>\n",
       "      <td>3</td>\n",
       "      <td>3</td>\n",
       "      <td>2</td>\n",
       "    </tr>\n",
       "    <tr>\n",
       "      <th>4</th>\n",
       "      <td>4</td>\n",
       "      <td>4</td>\n",
       "      <td>1</td>\n",
       "    </tr>\n",
       "  </tbody>\n",
       "</table>\n",
       "</div>"
      ],
      "text/plain": [
       "   userId  movieId  rating\n",
       "0       0        0       3\n",
       "1       1        1       3\n",
       "2       2        2       1\n",
       "3       3        3       2\n",
       "4       4        4       1"
      ]
     },
     "execution_count": 3,
     "metadata": {},
     "output_type": "execute_result"
    }
   ],
   "source": [
    "df.head()"
   ]
  },
  {
   "cell_type": "code",
   "execution_count": 4,
   "metadata": {},
   "outputs": [
    {
     "data": {
      "text/plain": [
       "(100000, 3)"
      ]
     },
     "execution_count": 4,
     "metadata": {},
     "output_type": "execute_result"
    }
   ],
   "source": [
    "df.shape"
   ]
  },
  {
   "cell_type": "code",
   "execution_count": 5,
   "metadata": {},
   "outputs": [
    {
     "name": "stdout",
     "output_type": "stream",
     "text": [
      "Number of users: 943\n",
      "Number of items: 1682\n",
      "Min item rating: 1\n",
      "Max item rating: 5\n",
      "Mean item rating: 3.52986\n"
     ]
    }
   ],
   "source": [
    "print('Number of users:', df.userId.nunique())\n",
    "print('Number of items:', df.movieId.nunique())\n",
    "print(\"Min item rating:\", df.rating.min())\n",
    "print(\"Max item rating:\", df.rating.max())\n",
    "print(\"Mean item rating:\", df.rating.mean())"
   ]
  },
  {
   "cell_type": "markdown",
   "metadata": {},
   "source": [
    "# Create baseline features\n",
    "For each different train / test split, global mean and biases need to be calculated so as to avoid potential data leakage."
   ]
  },
  {
   "cell_type": "code",
   "execution_count": 6,
   "metadata": {},
   "outputs": [],
   "source": [
    "def get_baseline(df, train_index, test_index):\n",
    "    train = df.iloc[train_index]\n",
    "    test = df.iloc[test_index]\n",
    "    \n",
    "    # compute global mean\n",
    "    global_mean = train.rating.mean()\n",
    "\n",
    "    # compute average user ratings\n",
    "    user_averages = train.groupby('userId') \\\n",
    "        .agg({'rating':'mean'}) \\\n",
    "        .rename({'rating': 'user_avg'}, axis=1) \\\n",
    "        .reset_index()\n",
    "    # add as column to train and test\n",
    "    train = pd.merge(train, user_averages, how='left', on='userId')\n",
    "    test = pd.merge(test, user_averages, how='left', on='userId').fillna(global_mean)\n",
    "\n",
    "    # compute average item ratings\n",
    "    item_averages = train.groupby('movieId') \\\n",
    "        .agg({'rating':'mean'}) \\\n",
    "        .rename({'rating': 'item_avg'}, axis=1) \\\n",
    "        .reset_index()\n",
    "    # add as column to train and test\n",
    "    train = pd.merge(train, item_averages, how='left', on='movieId')\n",
    "    test = pd.merge(test, item_averages, how='left', on='movieId').fillna(global_mean)\n",
    "\n",
    "    train['bias'] = (train['user_avg'] + train['item_avg'])/2 - global_mean\n",
    "    test['bias'] = (test['user_avg'] + test['item_avg'])/2 - global_mean\n",
    "    \n",
    "    return train, test, global_mean"
   ]
  },
  {
   "cell_type": "markdown",
   "metadata": {},
   "source": [
    "# Ratings model"
   ]
  },
  {
   "cell_type": "code",
   "execution_count": 7,
   "metadata": {},
   "outputs": [],
   "source": [
    "def compile_model(n_users, n_items, mean_rating, n_factors=25, n_hidden=64, leaky_alpha=.1, dropout=.2):\n",
    "    \n",
    "    # TODO: n_items, n_users and mean_rating are all hard coded at the moment\n",
    "    \n",
    "    # item latent factors\n",
    "    item_in = Input(shape=[1])  # name='item'\n",
    "    item_em = Embedding(n_items, n_factors)(item_in)\n",
    "    item_vec = Flatten()(item_em)\n",
    "    \n",
    "    # user latent factors\n",
    "    user_in = Input(shape=[1])\n",
    "    user_em = Embedding(n_users, n_factors)(user_in)\n",
    "    user_vec = Flatten()(user_em)\n",
    "    \n",
    "    # user x item bias\n",
    "    bias = Input(shape=[1])\n",
    "    \n",
    "    # if there is a hidden layer\n",
    "    if n_hidden:\n",
    "        # concatenate user and item vectors\n",
    "        conc = Concatenate()([item_vec, user_vec])\n",
    "        # hidden layer\n",
    "        hidden = Dense(n_hidden)(conc)\n",
    "        leaky = LeakyReLU(alpha=leaky_alpha)(hidden)\n",
    "        drop = Dropout(dropout)(leaky)\n",
    "        \n",
    "        out = Dense(1)(drop)\n",
    "        \n",
    "    # if there are no hidden layers\n",
    "    else:\n",
    "        out = Dot(name=\"Dot-Product\", axes=1)([item_vec, user_vec])\n",
    "    \n",
    "    rating = add(Add()([out, bias]), mean_rating)\n",
    "    \n",
    "    # create model and compile it\n",
    "    model = Model([user_in, item_in, bias], rating)\n",
    "    model.compile(optimizer='adam', loss='mean_squared_error')\n",
    "    \n",
    "    return model"
   ]
  },
  {
   "cell_type": "markdown",
   "metadata": {},
   "source": [
    "## Grid search"
   ]
  },
  {
   "cell_type": "code",
   "execution_count": 8,
   "metadata": {},
   "outputs": [],
   "source": [
    "# hyper parameters\n",
    "HP_N_FACTORS = [20, 25, 30]\n",
    "HP_N_HIDDEN = [20, 40, 60]\n",
    "HP_DROPOUT = [.2, .25]"
   ]
  },
  {
   "cell_type": "code",
   "execution_count": 9,
   "metadata": {},
   "outputs": [
    {
     "name": "stdout",
     "output_type": "stream",
     "text": [
      "Fitting total of 18 models\n",
      "\n",
      "Fitting model #1 with 20: 20 architecture, 0.2 dropout rate\n",
      "CV split #1: RMSE=0.9352\n",
      "CV split #2: RMSE=0.9272\n",
      "CV split #3: RMSE=0.9189\n",
      "CV split #4: RMSE=0.9202\n",
      "CV split #5: RMSE=0.9210\n",
      "_____________________________________CV avg RMSE=0.9245\n",
      "\n"
     ]
    }
   ],
   "source": [
    "# dataframe to store results of grid search\n",
    "grid_results = []\n",
    "best_loss = 1\n",
    "searches = 1\n",
    "\n",
    "n_models = len(HP_N_FACTORS) * len(HP_N_HIDDEN) * len(HP_DROPOUT)\n",
    "\n",
    "print(f'Fitting total of {n_models} models\\n')\n",
    "\n",
    "for N_FACTORS in HP_N_FACTORS:\n",
    "    for N_HIDDEN in HP_N_HIDDEN:\n",
    "        for DROPOUT in HP_DROPOUT:\n",
    "            \n",
    "            print(f'Fitting model #{searches} with {N_FACTORS}: {N_HIDDEN} architecture, {DROPOUT} dropout rate')\n",
    "            searches += 1\n",
    "            \n",
    "            # CV split\n",
    "            # calculate global mean rating and bias\n",
    "            kf = KFold(n_splits=5)\n",
    "            \n",
    "            total_loss, count = 0, 1\n",
    "            min_epochs = 10\n",
    "            \n",
    "            # do CV split and compute baseline predictors\n",
    "            for train_index, test_index in kf.split(df):\n",
    "                train, test, global_mean = get_baseline(df, train_index, test_index)\n",
    "                \n",
    "                # compile model with chosen h-params\n",
    "                model = compile_model(\n",
    "                    n_users = df.userId.nunique(),\n",
    "                    n_items = df.movieId.nunique(),\n",
    "                    mean_rating = global_mean,\n",
    "                    n_factors = N_FACTORS,\n",
    "                    n_hidden = N_HIDDEN,\n",
    "                    dropout = DROPOUT\n",
    "                )\n",
    "\n",
    "                result = model.fit(x=[train.userId.values, train.movieId.values, train.bias.values],\n",
    "                                   y=train.rating.values, \n",
    "                                   batch_size=512,\n",
    "                                   epochs=10,\n",
    "                                   verbose=0,\n",
    "                                   validation_data=([test.userId.values, test.movieId.values, test.bias.values], test.rating.values))\n",
    "                \n",
    "                fold_loss = np.sqrt(np.min(result.history['val_loss']))\n",
    "                total_loss += fold_loss\n",
    "                min_epochs = min(np.argmin(result.history['val_loss']) + 1, min_epochs)\n",
    "                \n",
    "                print(f'CV split #{count}: RMSE={fold_loss:.4f}')\n",
    "                count += 1\n",
    "\n",
    "            avg_loss = total_loss / 5\n",
    "            best_loss = min(avg_loss, best_loss)\n",
    "            print(f'_____________________________________CV avg RMSE={avg_loss:.4f}')\n",
    "            \n",
    "#             plt.plot(result.history['loss'], label='train')\n",
    "#             plt.plot(result.history['val_loss'], label='val')\n",
    "#             plt.axhline(y=best_loss, color='r', lw=1, ls='-')\n",
    "#             plt.legend()\n",
    "#             plt.show()\n",
    "            \n",
    "            grid_results.append({'n_factors':N_FACTORS,\n",
    "                                 'n_hidden':N_HIDDEN,\n",
    "                                 'dropout':DROPOUT,\n",
    "                                 'val_rmse':avg_loss,\n",
    "                                 'val_epochs':min_epochs,\n",
    "                                 'train_hist':result.history['loss'],\n",
    "                                 'val_hist':result.history['val_loss']})\n",
    "            print()\n",
    "            break\n",
    "        break\n",
    "    break\n",
    "\n",
    "grid_results = pd.DataFrame(data=grid_results, columns=grid_results[0].keys())"
   ]
  },
  {
   "cell_type": "code",
   "execution_count": 10,
   "metadata": {},
   "outputs": [
    {
     "data": {
      "text/html": [
       "<div>\n",
       "<style scoped>\n",
       "    .dataframe tbody tr th:only-of-type {\n",
       "        vertical-align: middle;\n",
       "    }\n",
       "\n",
       "    .dataframe tbody tr th {\n",
       "        vertical-align: top;\n",
       "    }\n",
       "\n",
       "    .dataframe thead th {\n",
       "        text-align: right;\n",
       "    }\n",
       "</style>\n",
       "<table border=\"1\" class=\"dataframe\">\n",
       "  <thead>\n",
       "    <tr style=\"text-align: right;\">\n",
       "      <th></th>\n",
       "      <th>n_factors</th>\n",
       "      <th>n_hidden</th>\n",
       "      <th>dropout</th>\n",
       "      <th>val_rmse</th>\n",
       "      <th>val_epochs</th>\n",
       "      <th>train_hist</th>\n",
       "      <th>val_hist</th>\n",
       "    </tr>\n",
       "  </thead>\n",
       "  <tbody>\n",
       "    <tr>\n",
       "      <th>0</th>\n",
       "      <td>20</td>\n",
       "      <td>20</td>\n",
       "      <td>0.2</td>\n",
       "      <td>0.924498</td>\n",
       "      <td>9</td>\n",
       "      <td>[0.9113590848922729, 0.8640275175094605, 0.843...</td>\n",
       "      <td>[0.8999956218719483, 0.8804384708404541, 0.869...</td>\n",
       "    </tr>\n",
       "  </tbody>\n",
       "</table>\n",
       "</div>"
      ],
      "text/plain": [
       "   n_factors  n_hidden  dropout  val_rmse  val_epochs  \\\n",
       "0         20        20      0.2  0.924498           9   \n",
       "\n",
       "                                          train_hist  \\\n",
       "0  [0.9113590848922729, 0.8640275175094605, 0.843...   \n",
       "\n",
       "                                            val_hist  \n",
       "0  [0.8999956218719483, 0.8804384708404541, 0.869...  "
      ]
     },
     "execution_count": 10,
     "metadata": {},
     "output_type": "execute_result"
    }
   ],
   "source": [
    "grid_results.sort_values('val_rmse').head(20)"
   ]
  },
  {
   "cell_type": "code",
   "execution_count": 11,
   "metadata": {},
   "outputs": [
    {
     "data": {
      "image/png": "[encoded data removed]",
      "text/plain": [
       "<Figure size 432x288 with 1 Axes>"
      ]
     },
     "metadata": {
      "needs_background": "light"
     },
     "output_type": "display_data"
    }
   ],
   "source": [
    "plt.plot(grid_results.iloc[0,-2], label='train')\n",
    "plt.plot(grid_results.iloc[0,-1], label='test')\n",
    "plt.legend()\n",
    "plt.show()"
   ]
  },
  {
   "cell_type": "markdown",
   "metadata": {},
   "source": [
    "# Genre model"
   ]
  },
  {
   "cell_type": "code",
   "execution_count": 12,
   "metadata": {},
   "outputs": [],
   "source": [
    "def compile_genre_model(n_items, n_users, mean_rating, n_genres, n_latent, n_hidden_1, n_hidden_2, dropout_1, dropout_2):\n",
    "    \n",
    "    # item latent factors\n",
    "    item_in = Input(shape=[1])  # name='item'\n",
    "    item_em = Embedding(n_items, n_latent)(item_in)\n",
    "    item_vec = Flatten()(item_em)\n",
    "    \n",
    "    # user latent factors\n",
    "    user_in = Input(shape=[1])\n",
    "    user_em = Embedding(n_users, n_latent)(user_in)\n",
    "    user_vec = Flatten()(user_em)\n",
    "    \n",
    "    # user x item bias\n",
    "    bias = Input(shape=[1])\n",
    "    \n",
    "    # concatenate user and item vectors\n",
    "    conc = Concatenate()([item_vec, user_vec])\n",
    "    # hidden layer\n",
    "    hidden_1 = Dense(n_hidden_1)(conc)\n",
    "    leaky = LeakyReLU(alpha=0.1)(hidden_1)\n",
    "    drop_1 = Dropout(dropout_1)(leaky)\n",
    "    \n",
    "    out = Dense(1)(drop_1)\n",
    "            \n",
    "    rating = add(Add()([out, bias]), mean_rating)\n",
    "    \n",
    "    # create model and compile it\n",
    "    model = Model([user_in, item_in, bias], rating)\n",
    "    model.compile(optimizer='adam', loss='mean_squared_error')\n",
    "    \n",
    "    # model 2\n",
    "    hidden_2 = Dense(n_hidden_2, activation='relu')(item_vec)\n",
    "    drop_2 = Dropout(dropout_2)(hidden_2)\n",
    "    genre = Dense(n_genres, activation='sigmoid')(drop_2)  # there are 18 genres\n",
    "\n",
    "    # Create model and compile it\n",
    "    model2 = Model(item_in, genre)\n",
    "    # freeze the embedding layer\n",
    "    model2.layers[1].trainable = False\n",
    "    model2.compile(optimizer='adam', loss='binary_crossentropy' , metrics=['accuracy'])\n",
    "    \n",
    "    return model, model2"
   ]
  },
  {
   "cell_type": "code",
   "execution_count": 13,
   "metadata": {},
   "outputs": [
    {
     "data": {
      "text/html": [
       "<div>\n",
       "<style scoped>\n",
       "    .dataframe tbody tr th:only-of-type {\n",
       "        vertical-align: middle;\n",
       "    }\n",
       "\n",
       "    .dataframe tbody tr th {\n",
       "        vertical-align: top;\n",
       "    }\n",
       "\n",
       "    .dataframe thead th {\n",
       "        text-align: right;\n",
       "    }\n",
       "</style>\n",
       "<table border=\"1\" class=\"dataframe\">\n",
       "  <thead>\n",
       "    <tr style=\"text-align: right;\">\n",
       "      <th></th>\n",
       "      <th>movieId</th>\n",
       "      <th>title</th>\n",
       "      <th>releaseDate</th>\n",
       "      <th>link</th>\n",
       "      <th>unknown</th>\n",
       "      <th>Action</th>\n",
       "      <th>Adventure</th>\n",
       "      <th>Animation</th>\n",
       "      <th>Children's</th>\n",
       "      <th>Comedy</th>\n",
       "      <th>...</th>\n",
       "      <th>Fantasy</th>\n",
       "      <th>Film-Noir</th>\n",
       "      <th>Horror</th>\n",
       "      <th>Musical</th>\n",
       "      <th>Mystery</th>\n",
       "      <th>Romance</th>\n",
       "      <th>Sci-Fi</th>\n",
       "      <th>Thriller</th>\n",
       "      <th>War</th>\n",
       "      <th>Western</th>\n",
       "    </tr>\n",
       "  </thead>\n",
       "  <tbody>\n",
       "    <tr>\n",
       "      <th>0</th>\n",
       "      <td>24</td>\n",
       "      <td>Toy Story (1995)</td>\n",
       "      <td>01-Jan-1995</td>\n",
       "      <td>http://us.imdb.com/M/title-exact?Toy%20Story%2...</td>\n",
       "      <td>0</td>\n",
       "      <td>0</td>\n",
       "      <td>0</td>\n",
       "      <td>1</td>\n",
       "      <td>1</td>\n",
       "      <td>1</td>\n",
       "      <td>...</td>\n",
       "      <td>0</td>\n",
       "      <td>0</td>\n",
       "      <td>0</td>\n",
       "      <td>0</td>\n",
       "      <td>0</td>\n",
       "      <td>0</td>\n",
       "      <td>0</td>\n",
       "      <td>0</td>\n",
       "      <td>0</td>\n",
       "      <td>0</td>\n",
       "    </tr>\n",
       "    <tr>\n",
       "      <th>1</th>\n",
       "      <td>147</td>\n",
       "      <td>GoldenEye (1995)</td>\n",
       "      <td>01-Jan-1995</td>\n",
       "      <td>http://us.imdb.com/M/title-exact?GoldenEye%20(...</td>\n",
       "      <td>0</td>\n",
       "      <td>1</td>\n",
       "      <td>1</td>\n",
       "      <td>0</td>\n",
       "      <td>0</td>\n",
       "      <td>0</td>\n",
       "      <td>...</td>\n",
       "      <td>0</td>\n",
       "      <td>0</td>\n",
       "      <td>0</td>\n",
       "      <td>0</td>\n",
       "      <td>0</td>\n",
       "      <td>0</td>\n",
       "      <td>0</td>\n",
       "      <td>1</td>\n",
       "      <td>0</td>\n",
       "      <td>0</td>\n",
       "    </tr>\n",
       "    <tr>\n",
       "      <th>2</th>\n",
       "      <td>233</td>\n",
       "      <td>Four Rooms (1995)</td>\n",
       "      <td>01-Jan-1995</td>\n",
       "      <td>http://us.imdb.com/M/title-exact?Four%20Rooms%...</td>\n",
       "      <td>0</td>\n",
       "      <td>0</td>\n",
       "      <td>0</td>\n",
       "      <td>0</td>\n",
       "      <td>0</td>\n",
       "      <td>0</td>\n",
       "      <td>...</td>\n",
       "      <td>0</td>\n",
       "      <td>0</td>\n",
       "      <td>0</td>\n",
       "      <td>0</td>\n",
       "      <td>0</td>\n",
       "      <td>0</td>\n",
       "      <td>0</td>\n",
       "      <td>1</td>\n",
       "      <td>0</td>\n",
       "      <td>0</td>\n",
       "    </tr>\n",
       "    <tr>\n",
       "      <th>3</th>\n",
       "      <td>47</td>\n",
       "      <td>Get Shorty (1995)</td>\n",
       "      <td>01-Jan-1995</td>\n",
       "      <td>http://us.imdb.com/M/title-exact?Get%20Shorty%...</td>\n",
       "      <td>0</td>\n",
       "      <td>1</td>\n",
       "      <td>0</td>\n",
       "      <td>0</td>\n",
       "      <td>0</td>\n",
       "      <td>1</td>\n",
       "      <td>...</td>\n",
       "      <td>0</td>\n",
       "      <td>0</td>\n",
       "      <td>0</td>\n",
       "      <td>0</td>\n",
       "      <td>0</td>\n",
       "      <td>0</td>\n",
       "      <td>0</td>\n",
       "      <td>0</td>\n",
       "      <td>0</td>\n",
       "      <td>0</td>\n",
       "    </tr>\n",
       "    <tr>\n",
       "      <th>4</th>\n",
       "      <td>75</td>\n",
       "      <td>Copycat (1995)</td>\n",
       "      <td>01-Jan-1995</td>\n",
       "      <td>http://us.imdb.com/M/title-exact?Copycat%20(1995)</td>\n",
       "      <td>0</td>\n",
       "      <td>0</td>\n",
       "      <td>0</td>\n",
       "      <td>0</td>\n",
       "      <td>0</td>\n",
       "      <td>0</td>\n",
       "      <td>...</td>\n",
       "      <td>0</td>\n",
       "      <td>0</td>\n",
       "      <td>0</td>\n",
       "      <td>0</td>\n",
       "      <td>0</td>\n",
       "      <td>0</td>\n",
       "      <td>0</td>\n",
       "      <td>1</td>\n",
       "      <td>0</td>\n",
       "      <td>0</td>\n",
       "    </tr>\n",
       "  </tbody>\n",
       "</table>\n",
       "<p>5 rows × 23 columns</p>\n",
       "</div>"
      ],
      "text/plain": [
       "   movieId              title  releaseDate  \\\n",
       "0       24   Toy Story (1995)  01-Jan-1995   \n",
       "1      147   GoldenEye (1995)  01-Jan-1995   \n",
       "2      233  Four Rooms (1995)  01-Jan-1995   \n",
       "3       47  Get Shorty (1995)  01-Jan-1995   \n",
       "4       75     Copycat (1995)  01-Jan-1995   \n",
       "\n",
       "                                                link  unknown  Action  \\\n",
       "0  http://us.imdb.com/M/title-exact?Toy%20Story%2...        0       0   \n",
       "1  http://us.imdb.com/M/title-exact?GoldenEye%20(...        0       1   \n",
       "2  http://us.imdb.com/M/title-exact?Four%20Rooms%...        0       0   \n",
       "3  http://us.imdb.com/M/title-exact?Get%20Shorty%...        0       1   \n",
       "4  http://us.imdb.com/M/title-exact?Copycat%20(1995)        0       0   \n",
       "\n",
       "   Adventure  Animation  Children's  Comedy  ...  Fantasy  Film-Noir  Horror  \\\n",
       "0          0          1           1       1  ...        0          0       0   \n",
       "1          1          0           0       0  ...        0          0       0   \n",
       "2          0          0           0       0  ...        0          0       0   \n",
       "3          0          0           0       1  ...        0          0       0   \n",
       "4          0          0           0       0  ...        0          0       0   \n",
       "\n",
       "   Musical  Mystery  Romance  Sci-Fi  Thriller  War  Western  \n",
       "0        0        0        0       0         0    0        0  \n",
       "1        0        0        0       0         1    0        0  \n",
       "2        0        0        0       0         1    0        0  \n",
       "3        0        0        0       0         0    0        0  \n",
       "4        0        0        0       0         1    0        0  \n",
       "\n",
       "[5 rows x 23 columns]"
      ]
     },
     "execution_count": 13,
     "metadata": {},
     "output_type": "execute_result"
    }
   ],
   "source": [
    "movies = pd.read_csv(path+'movies.csv')\n",
    "movies.head()"
   ]
  },
  {
   "cell_type": "code",
   "execution_count": 14,
   "metadata": {},
   "outputs": [
    {
     "name": "stdout",
     "output_type": "stream",
     "text": [
      "Train on 80000 samples, validate on 20000 samples\n",
      "Epoch 1/10\n",
      "80000/80000 [==============================] - 2s 25us/sample - loss: 0.9061 - val_loss: 0.8706\n",
      "Epoch 2/10\n",
      "80000/80000 [==============================] - 1s 18us/sample - loss: 0.8573 - val_loss: 0.8575\n",
      "Epoch 3/10\n",
      "80000/80000 [==============================] - 1s 17us/sample - loss: 0.8350 - val_loss: 0.8497\n",
      "Epoch 4/10\n",
      "80000/80000 [==============================] - 1s 18us/sample - loss: 0.8184 - val_loss: 0.8433\n",
      "Epoch 5/10\n",
      "80000/80000 [==============================] - 1s 17us/sample - loss: 0.8033 - val_loss: 0.8368\n",
      "Epoch 6/10\n",
      "80000/80000 [==============================] - 1s 17us/sample - loss: 0.7889 - val_loss: 0.8348\n",
      "Epoch 7/10\n",
      "80000/80000 [==============================] - 1s 17us/sample - loss: 0.7753 - val_loss: 0.8305\n",
      "Epoch 8/10\n",
      "80000/80000 [==============================] - 1s 17us/sample - loss: 0.7629 - val_loss: 0.8332\n",
      "Epoch 9/10\n",
      "80000/80000 [==============================] - 1s 17us/sample - loss: 0.7507 - val_loss: 0.8305\n",
      "Epoch 10/10\n",
      "80000/80000 [==============================] - 1s 17us/sample - loss: 0.7411 - val_loss: 0.8321\n"
     ]
    }
   ],
   "source": [
    "train, _, _ = get_baseline(df, df.index, df.index)\n",
    "\n",
    "model1, model2 = compile_genre_model(\n",
    "    n_items = df.movieId.nunique(),\n",
    "    n_users = df.userId.nunique(),\n",
    "    mean_rating = df.rating.mean(), \n",
    "    n_genres=18,\n",
    "    n_latent=25, \n",
    "    n_hidden_1=32,\n",
    "    n_hidden_2=64,\n",
    "    dropout_1=.2,\n",
    "    dropout_2=.2\n",
    ")\n",
    "\n",
    "ratings = model1.fit(\n",
    "    x=[train.userId.values, train.movieId.values, train.bias.values],\n",
    "    y=train.rating.values, \n",
    "    batch_size=256,\n",
    "    epochs=10,\n",
    "    verbose=1,\n",
    "    validation_split=.2\n",
    ")"
   ]
  },
  {
   "cell_type": "code",
   "execution_count": 15,
   "metadata": {},
   "outputs": [
    {
     "name": "stderr",
     "output_type": "stream",
     "text": [
      "WARNING: Logging before flag parsing goes to stderr.\n",
      "W0901 20:52:28.707890 14520 deprecation.py:323] From C:\\Users\\jlesl\\Anaconda3\\lib\\site-packages\\tensorflow_core\\python\\ops\\nn_impl.py:183: where (from tensorflow.python.ops.array_ops) is deprecated and will be removed in a future version.\n",
      "Instructions for updating:\n",
      "Use tf.where in 2.0, which has the same broadcast rule as np.where\n"
     ]
    },
    {
     "name": "stdout",
     "output_type": "stream",
     "text": [
      "Train on 1345 samples, validate on 337 samples\n",
      "Epoch 1/5\n",
      "1345/1345 [==============================] - 1s 437us/sample - loss: 0.6735 - accuracy: 0.7405 - val_loss: 0.6531 - val_accuracy: 0.9075\n",
      "Epoch 2/5\n",
      "1345/1345 [==============================] - 0s 78us/sample - loss: 0.6338 - accuracy: 0.8862 - val_loss: 0.6036 - val_accuracy: 0.9235\n",
      "Epoch 3/5\n",
      "1345/1345 [==============================] - 0s 72us/sample - loss: 0.5790 - accuracy: 0.8990 - val_loss: 0.5340 - val_accuracy: 0.9232\n",
      "Epoch 4/5\n",
      "1345/1345 [==============================] - 0s 72us/sample - loss: 0.5080 - accuracy: 0.9008 - val_loss: 0.4510 - val_accuracy: 0.9237\n",
      "Epoch 5/5\n",
      "1345/1345 [==============================] - 0s 75us/sample - loss: 0.4341 - accuracy: 0.9002 - val_loss: 0.3721 - val_accuracy: 0.9233\n"
     ]
    }
   ],
   "source": [
    "genres = model2.fit(\n",
    "    movies.movieId.values, movies.iloc[:,-18:].values,\n",
    "    batch_size=64, \n",
    "    epochs=5,\n",
    "    validation_split=.2)"
   ]
  },
  {
   "cell_type": "code",
   "execution_count": 16,
   "metadata": {},
   "outputs": [],
   "source": [
    "from sklearn.metrics import classification_report, confusion_matrix, precision_score, recall_score, f1_score"
   ]
  },
  {
   "cell_type": "code",
   "execution_count": 17,
   "metadata": {},
   "outputs": [],
   "source": [
    "y_true = movies.iloc[:,-18:]\n",
    "y_score = pd.DataFrame(model2.predict(movies.movieId.values), columns=y_true.columns)\n",
    "y_pred = y_score.round().astype('int')"
   ]
  },
  {
   "cell_type": "code",
   "execution_count": 18,
   "metadata": {},
   "outputs": [],
   "source": [
    "drama_true = y_true.Drama\n",
    "drama_pred = y_pred.Drama"
   ]
  },
  {
   "cell_type": "code",
   "execution_count": 19,
   "metadata": {},
   "outputs": [
    {
     "name": "stdout",
     "output_type": "stream",
     "text": [
      "              precision    recall  f1-score   support\n",
      "\n",
      "           0       0.58      0.95      0.72       957\n",
      "           1       0.56      0.08      0.14       725\n",
      "\n",
      "    accuracy                           0.58      1682\n",
      "   macro avg       0.57      0.52      0.43      1682\n",
      "weighted avg       0.57      0.58      0.47      1682\n",
      "\n"
     ]
    }
   ],
   "source": [
    "print(classification_report(drama_true, drama_pred))"
   ]
  },
  {
   "cell_type": "code",
   "execution_count": 20,
   "metadata": {},
   "outputs": [
    {
     "data": {
      "text/html": [
       "<div>\n",
       "<style scoped>\n",
       "    .dataframe tbody tr th:only-of-type {\n",
       "        vertical-align: middle;\n",
       "    }\n",
       "\n",
       "    .dataframe tbody tr th {\n",
       "        vertical-align: top;\n",
       "    }\n",
       "\n",
       "    .dataframe thead th {\n",
       "        text-align: right;\n",
       "    }\n",
       "</style>\n",
       "<table border=\"1\" class=\"dataframe\">\n",
       "  <thead>\n",
       "    <tr style=\"text-align: right;\">\n",
       "      <th></th>\n",
       "      <th>0</th>\n",
       "      <th>1</th>\n",
       "    </tr>\n",
       "  </thead>\n",
       "  <tbody>\n",
       "    <tr>\n",
       "      <th>0</th>\n",
       "      <td>911</td>\n",
       "      <td>46</td>\n",
       "    </tr>\n",
       "    <tr>\n",
       "      <th>1</th>\n",
       "      <td>667</td>\n",
       "      <td>58</td>\n",
       "    </tr>\n",
       "  </tbody>\n",
       "</table>\n",
       "</div>"
      ],
      "text/plain": [
       "     0   1\n",
       "0  911  46\n",
       "1  667  58"
      ]
     },
     "execution_count": 20,
     "metadata": {},
     "output_type": "execute_result"
    }
   ],
   "source": [
    "pd.DataFrame(confusion_matrix(drama_true, drama_pred))"
   ]
  }
 ],
 "metadata": {
  "kernelspec": {
   "display_name": "Python 3",
   "language": "python",
   "name": "python3"
  },
  "language_info": {
   "codemirror_mode": {
    "name": "ipython",
    "version": 3
   },
   "file_extension": ".py",
   "mimetype": "text/x-python",
   "name": "python",
   "nbconvert_exporter": "python",
   "pygments_lexer": "ipython3",
   "version": "3.7.3"
  }
 },
 "nbformat": 4,
 "nbformat_minor": 4
}
