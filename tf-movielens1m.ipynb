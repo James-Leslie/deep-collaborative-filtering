{
 "cells": [
  {
   "cell_type": "markdown",
   "metadata": {},
   "source": [
    "# MovieLens 1m Collaborative Genre Tagging\n",
    "**To do**:\n",
    "  - try out [this implementation](https://www.onceupondata.com/2019/02/10/nn-collaborative-filtering/) of baseline features. \n",
    "  - create object classes for models\n",
    "  - implement TF 2.0 data classes\n",
    "  - [paperswithcode link](https://paperswithcode.com/sota/collaborative-filtering-on-movielens-100k)\n",
    "  - [ML 100k state of the art paper](https://arxiv.org/pdf/1706.02263v2.pdf) (RMSE=0.905): details their evaluation method\n",
    "  \n",
    "[![Colab](https://colab.research.google.com/assets/colab-badge.svg)](https://colab.research.google.com/github/James-Leslie/deep-collaborative-filtering/blob/master/tf-movielens1m.ipynb)"
   ]
  },
  {
   "cell_type": "code",
   "execution_count": 1,
   "metadata": {},
   "outputs": [],
   "source": [
    "import numpy as np\n",
    "import pandas as pd\n",
    "import matplotlib.pyplot as plt\n",
    "import seaborn as sns\n",
    "import tensorflow as tf\n",
    "\n",
    "%matplotlib inline"
   ]
  },
  {
   "cell_type": "markdown",
   "metadata": {},
   "source": [
    "## Load rating data"
   ]
  },
  {
   "cell_type": "code",
   "execution_count": 2,
   "metadata": {},
   "outputs": [],
   "source": [
    "# path = 'https://raw.githubusercontent.com/James-Leslie/deep-collaborative-filtering/master/data/ml-100k/'  # access from anywhere\n",
    "path = 'data/ml-1m/'  # if the files are local\n",
    "df = pd.read_csv(path+'ratings.csv', usecols=['userId','movieId','rating'])"
   ]
  },
  {
   "cell_type": "code",
   "execution_count": 3,
   "metadata": {},
   "outputs": [
    {
     "data": {
      "text/html": [
       "<div>\n",
       "<style scoped>\n",
       "    .dataframe tbody tr th:only-of-type {\n",
       "        vertical-align: middle;\n",
       "    }\n",
       "\n",
       "    .dataframe tbody tr th {\n",
       "        vertical-align: top;\n",
       "    }\n",
       "\n",
       "    .dataframe thead th {\n",
       "        text-align: right;\n",
       "    }\n",
       "</style>\n",
       "<table border=\"1\" class=\"dataframe\">\n",
       "  <thead>\n",
       "    <tr style=\"text-align: right;\">\n",
       "      <th></th>\n",
       "      <th>userId</th>\n",
       "      <th>movieId</th>\n",
       "      <th>rating</th>\n",
       "    </tr>\n",
       "  </thead>\n",
       "  <tbody>\n",
       "    <tr>\n",
       "      <th>0</th>\n",
       "      <td>0</td>\n",
       "      <td>0</td>\n",
       "      <td>5</td>\n",
       "    </tr>\n",
       "    <tr>\n",
       "      <th>1</th>\n",
       "      <td>0</td>\n",
       "      <td>1</td>\n",
       "      <td>3</td>\n",
       "    </tr>\n",
       "    <tr>\n",
       "      <th>2</th>\n",
       "      <td>0</td>\n",
       "      <td>2</td>\n",
       "      <td>3</td>\n",
       "    </tr>\n",
       "    <tr>\n",
       "      <th>3</th>\n",
       "      <td>0</td>\n",
       "      <td>3</td>\n",
       "      <td>4</td>\n",
       "    </tr>\n",
       "    <tr>\n",
       "      <th>4</th>\n",
       "      <td>0</td>\n",
       "      <td>4</td>\n",
       "      <td>5</td>\n",
       "    </tr>\n",
       "  </tbody>\n",
       "</table>\n",
       "</div>"
      ],
      "text/plain": [
       "   userId  movieId  rating\n",
       "0       0        0       5\n",
       "1       0        1       3\n",
       "2       0        2       3\n",
       "3       0        3       4\n",
       "4       0        4       5"
      ]
     },
     "execution_count": 3,
     "metadata": {},
     "output_type": "execute_result"
    }
   ],
   "source": [
    "df.head()"
   ]
  },
  {
   "cell_type": "code",
   "execution_count": 4,
   "metadata": {},
   "outputs": [
    {
     "data": {
      "text/plain": [
       "(1000209, 3)"
      ]
     },
     "execution_count": 4,
     "metadata": {},
     "output_type": "execute_result"
    }
   ],
   "source": [
    "df.shape"
   ]
  },
  {
   "cell_type": "code",
   "execution_count": 5,
   "metadata": {},
   "outputs": [
    {
     "name": "stdout",
     "output_type": "stream",
     "text": [
      "Number of users: 6040\n",
      "Number of items: 3706\n",
      "Min item rating: 1\n",
      "Max item rating: 5\n",
      "Mean item rating: 3.581564453029317\n"
     ]
    }
   ],
   "source": [
    "print('Number of users:', df.userId.nunique())\n",
    "print('Number of items:', df.movieId.nunique())\n",
    "print(\"Min item rating:\", df.rating.min())\n",
    "print(\"Max item rating:\", df.rating.max())\n",
    "print(\"Mean item rating:\", df.rating.mean())"
   ]
  },
  {
   "cell_type": "markdown",
   "metadata": {},
   "source": [
    "## Load movie metadata\n",
    "  - remove 10% as holdout test set"
   ]
  },
  {
   "cell_type": "code",
   "execution_count": 6,
   "metadata": {},
   "outputs": [
    {
     "data": {
      "text/html": [
       "<div>\n",
       "<style scoped>\n",
       "    .dataframe tbody tr th:only-of-type {\n",
       "        vertical-align: middle;\n",
       "    }\n",
       "\n",
       "    .dataframe tbody tr th {\n",
       "        vertical-align: top;\n",
       "    }\n",
       "\n",
       "    .dataframe thead th {\n",
       "        text-align: right;\n",
       "    }\n",
       "</style>\n",
       "<table border=\"1\" class=\"dataframe\">\n",
       "  <thead>\n",
       "    <tr style=\"text-align: right;\">\n",
       "      <th></th>\n",
       "      <th>movieId</th>\n",
       "      <th>title</th>\n",
       "      <th>Action</th>\n",
       "      <th>Adventure</th>\n",
       "      <th>Animation</th>\n",
       "      <th>Children's</th>\n",
       "      <th>Comedy</th>\n",
       "      <th>Crime</th>\n",
       "      <th>Documentary</th>\n",
       "      <th>Drama</th>\n",
       "      <th>Fantasy</th>\n",
       "      <th>Film-Noir</th>\n",
       "      <th>Horror</th>\n",
       "      <th>Musical</th>\n",
       "      <th>Mystery</th>\n",
       "      <th>Romance</th>\n",
       "      <th>Sci-Fi</th>\n",
       "      <th>Thriller</th>\n",
       "      <th>War</th>\n",
       "      <th>Western</th>\n",
       "    </tr>\n",
       "  </thead>\n",
       "  <tbody>\n",
       "    <tr>\n",
       "      <th>0</th>\n",
       "      <td>0</td>\n",
       "      <td>One Flew Over the Cuckoo's Nest (1975)</td>\n",
       "      <td>0</td>\n",
       "      <td>0</td>\n",
       "      <td>0</td>\n",
       "      <td>0</td>\n",
       "      <td>0</td>\n",
       "      <td>0</td>\n",
       "      <td>0</td>\n",
       "      <td>1</td>\n",
       "      <td>0</td>\n",
       "      <td>0</td>\n",
       "      <td>0</td>\n",
       "      <td>0</td>\n",
       "      <td>0</td>\n",
       "      <td>0</td>\n",
       "      <td>0</td>\n",
       "      <td>0</td>\n",
       "      <td>0</td>\n",
       "      <td>0</td>\n",
       "    </tr>\n",
       "    <tr>\n",
       "      <th>1</th>\n",
       "      <td>1</td>\n",
       "      <td>James and the Giant Peach (1996)</td>\n",
       "      <td>0</td>\n",
       "      <td>0</td>\n",
       "      <td>1</td>\n",
       "      <td>1</td>\n",
       "      <td>0</td>\n",
       "      <td>0</td>\n",
       "      <td>0</td>\n",
       "      <td>0</td>\n",
       "      <td>0</td>\n",
       "      <td>0</td>\n",
       "      <td>0</td>\n",
       "      <td>1</td>\n",
       "      <td>0</td>\n",
       "      <td>0</td>\n",
       "      <td>0</td>\n",
       "      <td>0</td>\n",
       "      <td>0</td>\n",
       "      <td>0</td>\n",
       "    </tr>\n",
       "    <tr>\n",
       "      <th>2</th>\n",
       "      <td>2</td>\n",
       "      <td>My Fair Lady (1964)</td>\n",
       "      <td>0</td>\n",
       "      <td>0</td>\n",
       "      <td>0</td>\n",
       "      <td>0</td>\n",
       "      <td>0</td>\n",
       "      <td>0</td>\n",
       "      <td>0</td>\n",
       "      <td>0</td>\n",
       "      <td>0</td>\n",
       "      <td>0</td>\n",
       "      <td>0</td>\n",
       "      <td>1</td>\n",
       "      <td>0</td>\n",
       "      <td>1</td>\n",
       "      <td>0</td>\n",
       "      <td>0</td>\n",
       "      <td>0</td>\n",
       "      <td>0</td>\n",
       "    </tr>\n",
       "    <tr>\n",
       "      <th>3</th>\n",
       "      <td>3</td>\n",
       "      <td>Erin Brockovich (2000)</td>\n",
       "      <td>0</td>\n",
       "      <td>0</td>\n",
       "      <td>0</td>\n",
       "      <td>0</td>\n",
       "      <td>0</td>\n",
       "      <td>0</td>\n",
       "      <td>0</td>\n",
       "      <td>1</td>\n",
       "      <td>0</td>\n",
       "      <td>0</td>\n",
       "      <td>0</td>\n",
       "      <td>0</td>\n",
       "      <td>0</td>\n",
       "      <td>0</td>\n",
       "      <td>0</td>\n",
       "      <td>0</td>\n",
       "      <td>0</td>\n",
       "      <td>0</td>\n",
       "    </tr>\n",
       "    <tr>\n",
       "      <th>4</th>\n",
       "      <td>4</td>\n",
       "      <td>Bug's Life, A (1998)</td>\n",
       "      <td>0</td>\n",
       "      <td>0</td>\n",
       "      <td>1</td>\n",
       "      <td>1</td>\n",
       "      <td>1</td>\n",
       "      <td>0</td>\n",
       "      <td>0</td>\n",
       "      <td>0</td>\n",
       "      <td>0</td>\n",
       "      <td>0</td>\n",
       "      <td>0</td>\n",
       "      <td>0</td>\n",
       "      <td>0</td>\n",
       "      <td>0</td>\n",
       "      <td>0</td>\n",
       "      <td>0</td>\n",
       "      <td>0</td>\n",
       "      <td>0</td>\n",
       "    </tr>\n",
       "  </tbody>\n",
       "</table>\n",
       "</div>"
      ],
      "text/plain": [
       "   movieId                                   title  Action  Adventure  \\\n",
       "0        0  One Flew Over the Cuckoo's Nest (1975)       0          0   \n",
       "1        1        James and the Giant Peach (1996)       0          0   \n",
       "2        2                     My Fair Lady (1964)       0          0   \n",
       "3        3                  Erin Brockovich (2000)       0          0   \n",
       "4        4                    Bug's Life, A (1998)       0          0   \n",
       "\n",
       "   Animation  Children's  Comedy  Crime  Documentary  Drama  Fantasy  \\\n",
       "0          0           0       0      0            0      1        0   \n",
       "1          1           1       0      0            0      0        0   \n",
       "2          0           0       0      0            0      0        0   \n",
       "3          0           0       0      0            0      1        0   \n",
       "4          1           1       1      0            0      0        0   \n",
       "\n",
       "   Film-Noir  Horror  Musical  Mystery  Romance  Sci-Fi  Thriller  War  \\\n",
       "0          0       0        0        0        0       0         0    0   \n",
       "1          0       0        1        0        0       0         0    0   \n",
       "2          0       0        1        0        1       0         0    0   \n",
       "3          0       0        0        0        0       0         0    0   \n",
       "4          0       0        0        0        0       0         0    0   \n",
       "\n",
       "   Western  \n",
       "0        0  \n",
       "1        0  \n",
       "2        0  \n",
       "3        0  \n",
       "4        0  "
      ]
     },
     "execution_count": 6,
     "metadata": {},
     "output_type": "execute_result"
    }
   ],
   "source": [
    "movies = pd.read_csv(path+'movies.csv')\n",
    "movies.head()"
   ]
  },
  {
   "cell_type": "code",
   "execution_count": 7,
   "metadata": {},
   "outputs": [],
   "source": [
    "from sklearn.model_selection import train_test_split"
   ]
  },
  {
   "cell_type": "code",
   "execution_count": 8,
   "metadata": {},
   "outputs": [],
   "source": [
    "movies, movies_holdout = train_test_split(movies, test_size=.1, random_state=42)"
   ]
  },
  {
   "cell_type": "markdown",
   "metadata": {},
   "source": [
    "---\n",
    "# Create baseline features\n",
    "For each user, calculate average user bias - the average difference between the user's rating and the movie's average rating:\n",
    "\n",
    "$$b_{u} = \\dfrac{\\sum_{j=1}^{n_u} (r_{uj} - \\mu_i)}{n_u}$$\n",
    "\n",
    "For each item, calculate the difference between its average rating and the average rating of all movies:\n",
    "\n",
    "$$b_{i} = \\dfrac{\\sum_{k=1}^{n_i} (r_{ki})}{n_i} - \\mu$$\n",
    "\n",
    "Then, for each interaction, calculate the combined bias:\n",
    "\n",
    "$$b_{ui} = \\dfrac{b_u + b_i}{2}$$"
   ]
  },
  {
   "cell_type": "code",
   "execution_count": 9,
   "metadata": {},
   "outputs": [
    {
     "data": {
      "text/plain": [
       "\u001b[1;31mSignature:\u001b[0m \u001b[0mget_baseline\u001b[0m\u001b[1;33m(\u001b[0m\u001b[0mdf\u001b[0m\u001b[1;33m,\u001b[0m \u001b[0mtrain_index\u001b[0m\u001b[1;33m,\u001b[0m \u001b[0mtest_index\u001b[0m\u001b[1;33m)\u001b[0m\u001b[1;33m\u001b[0m\u001b[1;33m\u001b[0m\u001b[0m\n",
       "\u001b[1;31mDocstring:\u001b[0m\n",
       "Calculate baseline features from an explicit ratings dataset. Receives a dataframe\n",
       "and returns train and test splits with added bias column and mean rating value.\n",
       "User and item biases are calculated as average difference from global mean rating.\n",
       "Baseline factors are only calculated from training observations, with users or\n",
       "items that do not appear in train receiving the global average as default.\n",
       "\n",
       "Args:\n",
       "    df          : explicit ratings dataframe with columns userId, movieId and rating\n",
       "    train_index : train index splits taken from KFold.splits()\n",
       "    test_index  : test index splits taken from KFold.splits()\n",
       "    \n",
       "Returns:\n",
       "    train, test : train/test splits of df, with added bias column\n",
       "    global_mean : average rating of all training observations\n",
       "\u001b[1;31mFile:\u001b[0m      c:\\users\\jleslie\\documents\\deep-collaborative-filtering\\cgt.py\n",
       "\u001b[1;31mType:\u001b[0m      function\n"
      ]
     },
     "metadata": {},
     "output_type": "display_data"
    }
   ],
   "source": [
    "from CGT import get_baseline\n",
    "?get_baseline"
   ]
  },
  {
   "cell_type": "markdown",
   "metadata": {},
   "source": [
    "---\n",
    "# CGT model\n",
    "**To do**:\n",
    "  - Can we avoid re-training rating model on CV fold?\n",
    "  - Create a grid search function / class"
   ]
  },
  {
   "cell_type": "code",
   "execution_count": 10,
   "metadata": {},
   "outputs": [
    {
     "data": {
      "text/plain": [
       "\u001b[1;31mSignature:\u001b[0m\n",
       "\u001b[0mcompile_genre_model\u001b[0m\u001b[1;33m(\u001b[0m\u001b[1;33m\n",
       "\u001b[0m    \u001b[0mn_items\u001b[0m\u001b[1;33m,\u001b[0m\u001b[1;33m\n",
       "\u001b[0m    \u001b[0mn_users\u001b[0m\u001b[1;33m,\u001b[0m\u001b[1;33m\n",
       "\u001b[0m    \u001b[0mmin_rating\u001b[0m\u001b[1;33m,\u001b[0m\u001b[1;33m\n",
       "\u001b[0m    \u001b[0mmax_rating\u001b[0m\u001b[1;33m,\u001b[0m\u001b[1;33m\n",
       "\u001b[0m    \u001b[0mmean_rating\u001b[0m\u001b[1;33m,\u001b[0m\u001b[1;33m\n",
       "\u001b[0m    \u001b[0mn_latent\u001b[0m\u001b[1;33m,\u001b[0m\u001b[1;33m\n",
       "\u001b[0m    \u001b[0mn_hidden_1\u001b[0m\u001b[1;33m,\u001b[0m\u001b[1;33m\n",
       "\u001b[0m    \u001b[0mn_hidden_2\u001b[0m\u001b[1;33m,\u001b[0m\u001b[1;33m\n",
       "\u001b[0m    \u001b[0mactivation\u001b[0m\u001b[1;33m=\u001b[0m\u001b[1;34m'relu'\u001b[0m\u001b[1;33m,\u001b[0m\u001b[1;33m\n",
       "\u001b[0m    \u001b[0mdropout_1\u001b[0m\u001b[1;33m=\u001b[0m\u001b[1;36m0.2\u001b[0m\u001b[1;33m,\u001b[0m\u001b[1;33m\n",
       "\u001b[0m    \u001b[0mdropout_2\u001b[0m\u001b[1;33m=\u001b[0m\u001b[1;36m0.2\u001b[0m\u001b[1;33m,\u001b[0m\u001b[1;33m\n",
       "\u001b[0m    \u001b[0mrandom_seed\u001b[0m\u001b[1;33m=\u001b[0m\u001b[1;36m42\u001b[0m\u001b[1;33m,\u001b[0m\u001b[1;33m\n",
       "\u001b[0m\u001b[1;33m)\u001b[0m\u001b[1;33m\u001b[0m\u001b[1;33m\u001b[0m\u001b[0m\n",
       "\u001b[1;31mDocstring:\u001b[0m <no docstring>\n",
       "\u001b[1;31mFile:\u001b[0m      c:\\users\\jleslie\\documents\\deep-collaborative-filtering\\cgt.py\n",
       "\u001b[1;31mType:\u001b[0m      function\n"
      ]
     },
     "metadata": {},
     "output_type": "display_data"
    }
   ],
   "source": [
    "from CGT import compile_genre_model\n",
    "?compile_genre_model"
   ]
  },
  {
   "cell_type": "markdown",
   "metadata": {},
   "source": [
    "---\n",
    "## Grid search\n",
    "**To do**: try using [tqdm](https://github.com/tqdm/tqdm) notebook bars\n",
    "\n",
    "```bash\n",
    "# bash\n",
    "pip install --upgrade ipywidgets \n",
    "jupyter nbextension enable --py widgetsnbextension\n",
    "jupyter labextension install @jupyter-widgets/jupyterlab-manager\n",
    "```\n",
    "\n",
    "```python\n",
    "# python\n",
    "from tqdm.notebook import trange, tqdm\n",
    "from time import sleep\n",
    "\n",
    "for i in trange(3, desc='1st loop'):\n",
    "    for j in tqdm(range(100), desc='2nd loop'):\n",
    "        sleep(0.01)\n",
    "```"
   ]
  },
  {
   "cell_type": "markdown",
   "metadata": {},
   "source": [
    "## 1. Number of latent factors and hidden nodes"
   ]
  },
  {
   "cell_type": "code",
   "execution_count": 11,
   "metadata": {},
   "outputs": [],
   "source": [
    "from sklearn.model_selection import KFold"
   ]
  },
  {
   "cell_type": "code",
   "execution_count": 12,
   "metadata": {},
   "outputs": [],
   "source": [
    "# hyper parameters\n",
    "HP_N_FACTORS = [100, 200]\n",
    "HP_N_HIDDEN_1 = [50, 100]\n",
    "HP_N_HIDDEN_2 = [50, 100]"
   ]
  },
  {
   "cell_type": "code",
   "execution_count": 13,
   "metadata": {},
   "outputs": [
    {
     "name": "stdout",
     "output_type": "stream",
     "text": [
      "Fitting total of 8 models\n",
      "\n",
      "Fitting CGT model #1 with 100: 50 | 50 architecture\n",
      "_____________________________________CV avg val loss=0.6219\n",
      "_____________________________________CV avg val acc=0.6468\n",
      "\n",
      "Fitting CGT model #2 with 100: 50 | 100 architecture\n",
      "_____________________________________CV avg val loss=0.6152\n",
      "_____________________________________CV avg val acc=0.6600\n",
      "\n",
      "Fitting CGT model #3 with 100: 100 | 50 architecture\n",
      "_____________________________________CV avg val loss=0.6102\n",
      "_____________________________________CV avg val acc=0.6663\n",
      "\n",
      "Fitting CGT model #4 with 100: 100 | 100 architecture\n",
      "_____________________________________CV avg val loss=0.6013\n",
      "_____________________________________CV avg val acc=0.6654\n",
      "\n",
      "Fitting CGT model #5 with 200: 50 | 50 architecture\n",
      "_____________________________________CV avg val loss=0.6058\n",
      "_____________________________________CV avg val acc=0.6651\n",
      "\n",
      "Fitting CGT model #6 with 200: 50 | 100 architecture\n",
      "_____________________________________CV avg val loss=0.5997\n",
      "_____________________________________CV avg val acc=0.6708\n",
      "\n",
      "Fitting CGT model #7 with 200: 100 | 50 architecture\n",
      "_____________________________________CV avg val loss=0.5947\n",
      "_____________________________________CV avg val acc=0.6804\n",
      "\n",
      "Fitting CGT model #8 with 200: 100 | 100 architecture\n",
      "_____________________________________CV avg val loss=0.5815\n",
      "_____________________________________CV avg val acc=0.6927\n",
      "\n"
     ]
    }
   ],
   "source": [
    "# dataframe to store results of grid search\n",
    "grid_results = []\n",
    "searches = 1\n",
    "\n",
    "n_models = len(HP_N_FACTORS) * len(HP_N_HIDDEN_1) * len(HP_N_HIDDEN_2)\n",
    "\n",
    "print(f'Fitting total of {n_models} models\\n')\n",
    "\n",
    "for N_FACTORS in HP_N_FACTORS:\n",
    "    for N_HIDDEN_1 in HP_N_HIDDEN_1:\n",
    "        for N_HIDDEN_2 in HP_N_HIDDEN_2:\n",
    "            \n",
    "            print(f'Fitting CGT model #{searches} with {N_FACTORS}: {N_HIDDEN_1} | {N_HIDDEN_2} architecture')\n",
    "            searches += 1\n",
    "            \n",
    "            # Create 5 CV folds\n",
    "            kf = KFold(n_splits=5, random_state=42)\n",
    "            \n",
    "            # initialise loss and epoch count\n",
    "            total_loss = 0\n",
    "            total_acc = 0\n",
    "            count = 1\n",
    "            min_epochs = 10\n",
    "            \n",
    "            # do CV split and compute baseline predictors each time\n",
    "            for train_index, test_index in kf.split(movies):\n",
    "                \n",
    "                # get baseline rating predictors for full dataset\n",
    "                train, _, _ = get_baseline(df, df.index, df.index)\n",
    "\n",
    "                # compile both models with search hparams\n",
    "                model1, model2 = compile_genre_model(\n",
    "                    n_items=df.movieId.nunique(),\n",
    "                    n_users=df.userId.nunique(),\n",
    "                    min_rating=df.rating.min(),\n",
    "                    max_rating=df.rating.max(),\n",
    "                    mean_rating=df.rating.mean(),\n",
    "                    n_latent=N_FACTORS, \n",
    "                    n_hidden_1=N_HIDDEN_1,\n",
    "                    n_hidden_2=N_HIDDEN_2\n",
    "                )\n",
    "\n",
    "                # train rating model on all data\n",
    "                ratings = model1.fit(\n",
    "                    x=[train.userId.values, train.movieId.values, train.bias.values],\n",
    "                    y=train.rating.values, \n",
    "                    batch_size=2048,\n",
    "                    epochs=7,\n",
    "                    verbose=0,\n",
    "                    validation_split=.2\n",
    "                )\n",
    "                \n",
    "                # train genre model on 5 CV folds\n",
    "                train = movies.iloc[train_index]\n",
    "                test = movies.iloc[test_index]\n",
    "                \n",
    "                # train model on current fold\n",
    "                result = model2.fit(\n",
    "                    train.movieId.values, train.Drama.values,\n",
    "                    batch_size=128, \n",
    "                    epochs=5,\n",
    "                    verbose=0,\n",
    "                    validation_data=(test.movieId.values, test.Drama.values))\n",
    "                \n",
    "                # get loss from this fold\n",
    "                fold_loss = np.min(result.history['val_loss'])\n",
    "                total_loss += fold_loss\n",
    "                fold_acc = np.max(result.history['val_accuracy'])\n",
    "                total_acc += fold_acc\n",
    "                \n",
    "                count += 1\n",
    "                \n",
    "                del model1, model2\n",
    "            \n",
    "            # calculate average holdout loss across all CV folds\n",
    "            avg_loss = total_loss / 5\n",
    "            avg_acc = total_acc / 5\n",
    "            print(f'_____________________________________CV avg val loss={avg_loss:.4f}')\n",
    "            print(f'_____________________________________CV avg val acc={avg_acc:.4f}')\n",
    "            \n",
    "            grid_results.append({'n_factors':N_FACTORS,\n",
    "                                 'n_hidden_1':N_HIDDEN_1,\n",
    "                                 'n_hidden_2':N_HIDDEN_2,\n",
    "                                 'val_loss':avg_loss,\n",
    "                                 'val_acc':avg_acc,\n",
    "                                 'train_loss_hist':result.history['loss'],\n",
    "                                 'val_loss_hist':result.history['val_loss'],\n",
    "                                 'train_acc_hist':result.history['accuracy'],\n",
    "                                 'val_acc_hist':result.history['val_accuracy']})\n",
    "            \n",
    "            print()\n",
    "#             break\n",
    "#         break\n",
    "#     break\n",
    "    \n",
    "col_order = grid_results[0].keys()\n",
    "\n",
    "# save results to data frame\n",
    "grid_results = pd.DataFrame(grid_results)\n",
    "# reorder columns\n",
    "grid_results = grid_results[col_order]"
   ]
  },
  {
   "cell_type": "code",
   "execution_count": 14,
   "metadata": {},
   "outputs": [
    {
     "data": {
      "text/html": [
       "<div>\n",
       "<style scoped>\n",
       "    .dataframe tbody tr th:only-of-type {\n",
       "        vertical-align: middle;\n",
       "    }\n",
       "\n",
       "    .dataframe tbody tr th {\n",
       "        vertical-align: top;\n",
       "    }\n",
       "\n",
       "    .dataframe thead th {\n",
       "        text-align: right;\n",
       "    }\n",
       "</style>\n",
       "<table border=\"1\" class=\"dataframe\">\n",
       "  <thead>\n",
       "    <tr style=\"text-align: right;\">\n",
       "      <th></th>\n",
       "      <th>n_factors</th>\n",
       "      <th>n_hidden_1</th>\n",
       "      <th>n_hidden_2</th>\n",
       "      <th>val_loss</th>\n",
       "      <th>val_acc</th>\n",
       "      <th>train_loss_hist</th>\n",
       "      <th>val_loss_hist</th>\n",
       "      <th>train_acc_hist</th>\n",
       "      <th>val_acc_hist</th>\n",
       "    </tr>\n",
       "  </thead>\n",
       "  <tbody>\n",
       "    <tr>\n",
       "      <th>7</th>\n",
       "      <td>200</td>\n",
       "      <td>100</td>\n",
       "      <td>100</td>\n",
       "      <td>0.581540</td>\n",
       "      <td>0.692654</td>\n",
       "      <td>[0.666542544625867, 0.6200432528084007, 0.5979...</td>\n",
       "      <td>[0.6402096553542267, 0.6094559125457032, 0.595...</td>\n",
       "      <td>[0.6169415, 0.66829085, 0.6814093, 0.696027, 0...</td>\n",
       "      <td>[0.6281859, 0.65067464, 0.66416794, 0.68215895...</td>\n",
       "    </tr>\n",
       "    <tr>\n",
       "      <th>6</th>\n",
       "      <td>200</td>\n",
       "      <td>100</td>\n",
       "      <td>50</td>\n",
       "      <td>0.594651</td>\n",
       "      <td>0.680360</td>\n",
       "      <td>[0.6758856663460853, 0.6360930246391754, 0.614...</td>\n",
       "      <td>[0.6541297268653024, 0.6238730066362349, 0.608...</td>\n",
       "      <td>[0.5888306, 0.65592206, 0.666042, 0.6776612, 0...</td>\n",
       "      <td>[0.6281859, 0.64017993, 0.6431784, 0.65817094,...</td>\n",
       "    </tr>\n",
       "    <tr>\n",
       "      <th>5</th>\n",
       "      <td>200</td>\n",
       "      <td>50</td>\n",
       "      <td>100</td>\n",
       "      <td>0.599708</td>\n",
       "      <td>0.670765</td>\n",
       "      <td>[0.6648596737874501, 0.6256889320206249, 0.612...</td>\n",
       "      <td>[0.6401738045455098, 0.6152486117525973, 0.604...</td>\n",
       "      <td>[0.60569715, 0.65404797, 0.6630435, 0.67053974...</td>\n",
       "      <td>[0.6221889, 0.6311844, 0.62668663, 0.64767617,...</td>\n",
       "    </tr>\n",
       "    <tr>\n",
       "      <th>3</th>\n",
       "      <td>100</td>\n",
       "      <td>100</td>\n",
       "      <td>100</td>\n",
       "      <td>0.601273</td>\n",
       "      <td>0.665367</td>\n",
       "      <td>[0.6704127814458765, 0.6335819306402192, 0.617...</td>\n",
       "      <td>[0.6438578795278627, 0.615330534896393, 0.6044...</td>\n",
       "      <td>[0.61731637, 0.6488006, 0.6592954, 0.6634183, ...</td>\n",
       "      <td>[0.6431784, 0.64017993, 0.6491754, 0.65217394,...</td>\n",
       "    </tr>\n",
       "    <tr>\n",
       "      <th>4</th>\n",
       "      <td>200</td>\n",
       "      <td>50</td>\n",
       "      <td>50</td>\n",
       "      <td>0.605793</td>\n",
       "      <td>0.665067</td>\n",
       "      <td>[0.6740862347375507, 0.6372890987138877, 0.621...</td>\n",
       "      <td>[0.6537016957238696, 0.6260777473270982, 0.612...</td>\n",
       "      <td>[0.58733135, 0.65254873, 0.6589205, 0.6690405,...</td>\n",
       "      <td>[0.6086956, 0.6161919, 0.61769116, 0.6311844, ...</td>\n",
       "    </tr>\n",
       "    <tr>\n",
       "      <th>2</th>\n",
       "      <td>100</td>\n",
       "      <td>100</td>\n",
       "      <td>50</td>\n",
       "      <td>0.610243</td>\n",
       "      <td>0.666267</td>\n",
       "      <td>[0.6807748568111631, 0.6504140250507681, 0.631...</td>\n",
       "      <td>[0.6630404250196431, 0.6352412263671497, 0.617...</td>\n",
       "      <td>[0.57946026, 0.6529235, 0.65667164, 0.6592954,...</td>\n",
       "      <td>[0.63418293, 0.64467764, 0.64617693, 0.6521739...</td>\n",
       "    </tr>\n",
       "    <tr>\n",
       "      <th>1</th>\n",
       "      <td>100</td>\n",
       "      <td>50</td>\n",
       "      <td>100</td>\n",
       "      <td>0.615197</td>\n",
       "      <td>0.659970</td>\n",
       "      <td>[0.6669475668552576, 0.6364061601873281, 0.626...</td>\n",
       "      <td>[0.6433984589004803, 0.6214625418990448, 0.613...</td>\n",
       "      <td>[0.62031484, 0.6428036, 0.65067464, 0.65667164...</td>\n",
       "      <td>[0.63868064, 0.63268363, 0.63868064, 0.6491754...</td>\n",
       "    </tr>\n",
       "    <tr>\n",
       "      <th>0</th>\n",
       "      <td>100</td>\n",
       "      <td>50</td>\n",
       "      <td>50</td>\n",
       "      <td>0.621902</td>\n",
       "      <td>0.646777</td>\n",
       "      <td>[0.68591341586306, 0.6593998028063166, 0.64171...</td>\n",
       "      <td>[0.6711410228637741, 0.6460163626356282, 0.627...</td>\n",
       "      <td>[0.5502249, 0.6285607, 0.63868064, 0.6450525, ...</td>\n",
       "      <td>[0.6101949, 0.64167917, 0.64617693, 0.64467764...</td>\n",
       "    </tr>\n",
       "  </tbody>\n",
       "</table>\n",
       "</div>"
      ],
      "text/plain": [
       "   n_factors  n_hidden_1  n_hidden_2  val_loss   val_acc  \\\n",
       "7        200         100         100  0.581540  0.692654   \n",
       "6        200         100          50  0.594651  0.680360   \n",
       "5        200          50         100  0.599708  0.670765   \n",
       "3        100         100         100  0.601273  0.665367   \n",
       "4        200          50          50  0.605793  0.665067   \n",
       "2        100         100          50  0.610243  0.666267   \n",
       "1        100          50         100  0.615197  0.659970   \n",
       "0        100          50          50  0.621902  0.646777   \n",
       "\n",
       "                                     train_loss_hist  \\\n",
       "7  [0.666542544625867, 0.6200432528084007, 0.5979...   \n",
       "6  [0.6758856663460853, 0.6360930246391754, 0.614...   \n",
       "5  [0.6648596737874501, 0.6256889320206249, 0.612...   \n",
       "3  [0.6704127814458765, 0.6335819306402192, 0.617...   \n",
       "4  [0.6740862347375507, 0.6372890987138877, 0.621...   \n",
       "2  [0.6807748568111631, 0.6504140250507681, 0.631...   \n",
       "1  [0.6669475668552576, 0.6364061601873281, 0.626...   \n",
       "0  [0.68591341586306, 0.6593998028063166, 0.64171...   \n",
       "\n",
       "                                       val_loss_hist  \\\n",
       "7  [0.6402096553542267, 0.6094559125457032, 0.595...   \n",
       "6  [0.6541297268653024, 0.6238730066362349, 0.608...   \n",
       "5  [0.6401738045455098, 0.6152486117525973, 0.604...   \n",
       "3  [0.6438578795278627, 0.615330534896393, 0.6044...   \n",
       "4  [0.6537016957238696, 0.6260777473270982, 0.612...   \n",
       "2  [0.6630404250196431, 0.6352412263671497, 0.617...   \n",
       "1  [0.6433984589004803, 0.6214625418990448, 0.613...   \n",
       "0  [0.6711410228637741, 0.6460163626356282, 0.627...   \n",
       "\n",
       "                                      train_acc_hist  \\\n",
       "7  [0.6169415, 0.66829085, 0.6814093, 0.696027, 0...   \n",
       "6  [0.5888306, 0.65592206, 0.666042, 0.6776612, 0...   \n",
       "5  [0.60569715, 0.65404797, 0.6630435, 0.67053974...   \n",
       "3  [0.61731637, 0.6488006, 0.6592954, 0.6634183, ...   \n",
       "4  [0.58733135, 0.65254873, 0.6589205, 0.6690405,...   \n",
       "2  [0.57946026, 0.6529235, 0.65667164, 0.6592954,...   \n",
       "1  [0.62031484, 0.6428036, 0.65067464, 0.65667164...   \n",
       "0  [0.5502249, 0.6285607, 0.63868064, 0.6450525, ...   \n",
       "\n",
       "                                        val_acc_hist  \n",
       "7  [0.6281859, 0.65067464, 0.66416794, 0.68215895...  \n",
       "6  [0.6281859, 0.64017993, 0.6431784, 0.65817094,...  \n",
       "5  [0.6221889, 0.6311844, 0.62668663, 0.64767617,...  \n",
       "3  [0.6431784, 0.64017993, 0.6491754, 0.65217394,...  \n",
       "4  [0.6086956, 0.6161919, 0.61769116, 0.6311844, ...  \n",
       "2  [0.63418293, 0.64467764, 0.64617693, 0.6521739...  \n",
       "1  [0.63868064, 0.63268363, 0.63868064, 0.6491754...  \n",
       "0  [0.6101949, 0.64167917, 0.64617693, 0.64467764...  "
      ]
     },
     "execution_count": 14,
     "metadata": {},
     "output_type": "execute_result"
    }
   ],
   "source": [
    "# get best 10 models\n",
    "grid_results = grid_results.sort_values('val_loss')\n",
    "grid_results.to_csv(path+'grid_results.csv', index=False)\n",
    "\n",
    "grid_results.head(10)"
   ]
  },
  {
   "cell_type": "code",
   "execution_count": 15,
   "metadata": {},
   "outputs": [],
   "source": [
    "sns.set(style='whitegrid', palette='muted',\n",
    "        rc={'figure.figsize': (16,9),\n",
    "            'font.family': 'serif'})"
   ]
  },
  {
   "cell_type": "code",
   "execution_count": 16,
   "metadata": {},
   "outputs": [
    {
     "data": {
      "image/png": "[encoded data removed]",
      "text/plain": [
       "<Figure size 1152x648 with 1 Axes>"
      ]
     },
     "metadata": {},
     "output_type": "display_data"
    }
   ],
   "source": [
    "# plot training curve of best model\n",
    "plt.plot(grid_results.train_loss_hist.values[0], label='train')\n",
    "plt.plot(grid_results.val_loss_hist.values[0], label='test')\n",
    "plt.title('Train vs validation loss')\n",
    "plt.legend()\n",
    "plt.show()"
   ]
  },
  {
   "cell_type": "code",
   "execution_count": 17,
   "metadata": {},
   "outputs": [
    {
     "data": {
      "image/png": "[encoded data removed]",
      "text/plain": [
       "<Figure size 1152x648 with 1 Axes>"
      ]
     },
     "metadata": {},
     "output_type": "display_data"
    }
   ],
   "source": [
    "# train vs test accuracy\n",
    "plt.plot(grid_results.train_acc_hist.values[0], label='train')\n",
    "plt.plot(grid_results.val_acc_hist.values[0], label='validation')\n",
    "plt.title('Train vs validation accuracy')\n",
    "plt.legend()\n",
    "plt.show()"
   ]
  },
  {
   "cell_type": "code",
   "execution_count": 18,
   "metadata": {},
   "outputs": [
    {
     "data": {
      "text/plain": [
       "n_factors     200\n",
       "n_hidden_1    100\n",
       "n_hidden_2    100\n",
       "Name: 7, dtype: object"
      ]
     },
     "execution_count": 18,
     "metadata": {},
     "output_type": "execute_result"
    }
   ],
   "source": [
    "best_rating_hparams = grid_results.iloc[0,:][['n_factors' ,'n_hidden_1', 'n_hidden_2']]\n",
    "best_rating_hparams"
   ]
  },
  {
   "cell_type": "code",
   "execution_count": 19,
   "metadata": {},
   "outputs": [
    {
     "data": {
      "image/png": "[encoded data removed]",
      "text/plain": [
       "<Figure size 864x576 with 1 Axes>"
      ]
     },
     "metadata": {},
     "output_type": "display_data"
    }
   ],
   "source": [
    "plt.figure(figsize=(12,8))\n",
    "sns.scatterplot(x='n_factors',\n",
    "                y='val_loss',\n",
    "#                 hue='n_hidden_2',\n",
    "#                 size='n_hidden_2',\n",
    "#                 palette='Set3',\n",
    "                data=grid_results)\n",
    "\n",
    "plt.title('Number of latent factors vs validation loss', fontsize=18)\n",
    "plt.xlabel('Number of latent factors', fontsize=16)\n",
    "plt.ylabel('Avg. CV loss', fontsize=16)\n",
    "plt.savefig('figures/ml_100k_latent_factors.pdf', bbox_inches='tight')\n",
    "# plt.legend(title='Hidden layer in genre model')\n",
    "plt.show()"
   ]
  },
  {
   "cell_type": "markdown",
   "metadata": {},
   "source": [
    "## 2. Number of epochs"
   ]
  },
  {
   "cell_type": "code",
   "execution_count": 20,
   "metadata": {},
   "outputs": [],
   "source": [
    "# hyper parameters\n",
    "HP_EPOCH_1 = [5, 6, 7]\n",
    "HP_EPOCH_2 = [5, 6]"
   ]
  },
  {
   "cell_type": "code",
   "execution_count": 21,
   "metadata": {},
   "outputs": [
    {
     "name": "stdout",
     "output_type": "stream",
     "text": [
      "Fitting total of 6 models\n",
      "\n",
      "Fitting CGT model #1 for 5 epochs and 5 epochs\n",
      "_____________________________________CV avg val loss=0.6001\n",
      "_____________________________________CV avg val acc=0.6720\n",
      "\n",
      "Fitting CGT model #2 for 5 epochs and 6 epochs\n",
      "_____________________________________CV avg val loss=0.5971\n",
      "_____________________________________CV avg val acc=0.6753\n",
      "\n",
      "Fitting CGT model #3 for 6 epochs and 5 epochs\n",
      "_____________________________________CV avg val loss=0.5877\n",
      "_____________________________________CV avg val acc=0.6894\n",
      "\n",
      "Fitting CGT model #4 for 6 epochs and 6 epochs\n",
      "_____________________________________CV avg val loss=0.5841\n",
      "_____________________________________CV avg val acc=0.6912\n",
      "\n",
      "Fitting CGT model #5 for 7 epochs and 5 epochs\n",
      "_____________________________________CV avg val loss=0.5815\n",
      "_____________________________________CV avg val acc=0.6927\n",
      "\n",
      "Fitting CGT model #6 for 7 epochs and 6 epochs\n",
      "_____________________________________CV avg val loss=0.5783\n",
      "_____________________________________CV avg val acc=0.6945\n",
      "\n"
     ]
    }
   ],
   "source": [
    "# dataframe to store results of grid search\n",
    "grid_results_2 = []\n",
    "searches = 1\n",
    "\n",
    "n_models = len(HP_EPOCH_1) * len(HP_EPOCH_2)\n",
    "\n",
    "print(f'Fitting total of {n_models} models\\n')\n",
    "\n",
    "for EPOCH_1 in HP_EPOCH_1:\n",
    "    for EPOCH_2 in HP_EPOCH_2:\n",
    "\n",
    "        print(f'Fitting CGT model #{searches} for {EPOCH_1} epochs and {EPOCH_2} epochs')\n",
    "        searches += 1\n",
    "\n",
    "        # Create 5 CV folds\n",
    "        kf = KFold(n_splits=5, random_state=42)\n",
    "\n",
    "        # initialise loss and epoch count\n",
    "        total_loss = 0\n",
    "        total_acc = 0\n",
    "        count = 1\n",
    "        min_epochs = 10\n",
    "\n",
    "        # do CV split and compute baseline predictors each time\n",
    "        for train_index, test_index in kf.split(movies):\n",
    "\n",
    "            # get baseline rating predictors for full dataset\n",
    "            train, _, _ = get_baseline(df, df.index, df.index)\n",
    "\n",
    "            # compile both models with search hparams\n",
    "            model1, model2 = compile_genre_model(\n",
    "                n_items=df.movieId.nunique(),\n",
    "                n_users=df.userId.nunique(),\n",
    "                min_rating=df.rating.min(),\n",
    "                max_rating=df.rating.max(),\n",
    "                mean_rating=df.rating.mean(),\n",
    "                n_latent=best_rating_hparams.n_factors, \n",
    "                n_hidden_1=best_rating_hparams.n_hidden_1,\n",
    "                n_hidden_2=best_rating_hparams.n_hidden_2\n",
    "            )\n",
    "\n",
    "            # train rating model on all data\n",
    "            ratings = model1.fit(\n",
    "                x=[train.userId.values, train.movieId.values, train.bias.values],\n",
    "                y=train.rating.values, \n",
    "                batch_size=2048,\n",
    "                epochs=EPOCH_1,\n",
    "                verbose=0,\n",
    "                validation_split=.2\n",
    "            )\n",
    "\n",
    "            # train genre model on 5 CV folds\n",
    "            train = movies.iloc[train_index]\n",
    "            test = movies.iloc[test_index]\n",
    "\n",
    "            # train model on current fold\n",
    "            result = model2.fit(\n",
    "                train.movieId.values, train.Drama.values,\n",
    "                batch_size=128, \n",
    "                epochs=EPOCH_2,\n",
    "                verbose=0,\n",
    "                validation_data=(test.movieId.values, test.Drama.values))\n",
    "\n",
    "            # get loss from this fold\n",
    "            fold_loss = np.min(result.history['val_loss'])\n",
    "            total_loss += fold_loss\n",
    "            fold_acc = np.max(result.history['val_accuracy'])\n",
    "            total_acc += fold_acc\n",
    "\n",
    "            count += 1\n",
    "\n",
    "            del model1, model2\n",
    "\n",
    "        # calculate average holdout loss across all CV folds\n",
    "        avg_loss = total_loss / 5\n",
    "        avg_acc = total_acc / 5\n",
    "        print(f'_____________________________________CV avg val loss={avg_loss:.4f}')\n",
    "        print(f'_____________________________________CV avg val acc={avg_acc:.4f}')\n",
    "\n",
    "        grid_results_2.append({'epoch_1':EPOCH_1,\n",
    "                               'epoch_2':EPOCH_2,\n",
    "                               'val_loss':avg_loss,\n",
    "                               'val_acc':avg_acc,\n",
    "                               'train_loss_hist':result.history['loss'],\n",
    "                               'val_loss_hist':result.history['val_loss'],\n",
    "                               'train_acc_hist':result.history['accuracy'],\n",
    "                               'val_acc_hist':result.history['val_accuracy']})\n",
    "\n",
    "        print()\n",
    "#             break\n",
    "#         break\n",
    "    \n",
    "col_order = grid_results_2[0].keys()\n",
    "\n",
    "# save results to data frame\n",
    "grid_results_2 = pd.DataFrame(grid_results_2)\n",
    "# reorder columns\n",
    "grid_results_2 = grid_results_2[col_order]"
   ]
  },
  {
   "cell_type": "code",
   "execution_count": 22,
   "metadata": {},
   "outputs": [
    {
     "data": {
      "text/html": [
       "<div>\n",
       "<style scoped>\n",
       "    .dataframe tbody tr th:only-of-type {\n",
       "        vertical-align: middle;\n",
       "    }\n",
       "\n",
       "    .dataframe tbody tr th {\n",
       "        vertical-align: top;\n",
       "    }\n",
       "\n",
       "    .dataframe thead th {\n",
       "        text-align: right;\n",
       "    }\n",
       "</style>\n",
       "<table border=\"1\" class=\"dataframe\">\n",
       "  <thead>\n",
       "    <tr style=\"text-align: right;\">\n",
       "      <th></th>\n",
       "      <th>epoch_1</th>\n",
       "      <th>epoch_2</th>\n",
       "      <th>val_loss</th>\n",
       "      <th>val_acc</th>\n",
       "      <th>train_loss_hist</th>\n",
       "      <th>val_loss_hist</th>\n",
       "      <th>train_acc_hist</th>\n",
       "      <th>val_acc_hist</th>\n",
       "    </tr>\n",
       "  </thead>\n",
       "  <tbody>\n",
       "    <tr>\n",
       "      <th>5</th>\n",
       "      <td>7</td>\n",
       "      <td>6</td>\n",
       "      <td>0.578250</td>\n",
       "      <td>0.694453</td>\n",
       "      <td>[0.666542544625867, 0.6200432528084007, 0.5979...</td>\n",
       "      <td>[0.6402096553542267, 0.6094559125457032, 0.595...</td>\n",
       "      <td>[0.6169415, 0.66829085, 0.6814093, 0.696027, 0...</td>\n",
       "      <td>[0.6281859, 0.65067464, 0.66416794, 0.68215895...</td>\n",
       "    </tr>\n",
       "    <tr>\n",
       "      <th>4</th>\n",
       "      <td>7</td>\n",
       "      <td>5</td>\n",
       "      <td>0.581540</td>\n",
       "      <td>0.692654</td>\n",
       "      <td>[0.666542544625867, 0.6200432528084007, 0.5979...</td>\n",
       "      <td>[0.6402096553542267, 0.6094559125457032, 0.595...</td>\n",
       "      <td>[0.6169415, 0.66829085, 0.6814093, 0.696027, 0...</td>\n",
       "      <td>[0.6281859, 0.65067464, 0.66416794, 0.68215895...</td>\n",
       "    </tr>\n",
       "    <tr>\n",
       "      <th>3</th>\n",
       "      <td>6</td>\n",
       "      <td>6</td>\n",
       "      <td>0.584094</td>\n",
       "      <td>0.691154</td>\n",
       "      <td>[0.6676427771126491, 0.623839723116633, 0.6039...</td>\n",
       "      <td>[0.6403190713414902, 0.6092163359207371, 0.595...</td>\n",
       "      <td>[0.6184408, 0.66266865, 0.68065965, 0.68215895...</td>\n",
       "      <td>[0.6281859, 0.64617693, 0.66416794, 0.6656672,...</td>\n",
       "    </tr>\n",
       "    <tr>\n",
       "      <th>2</th>\n",
       "      <td>6</td>\n",
       "      <td>5</td>\n",
       "      <td>0.587670</td>\n",
       "      <td>0.689355</td>\n",
       "      <td>[0.6676427771126491, 0.623839723116633, 0.6039...</td>\n",
       "      <td>[0.6403190713414902, 0.6092163359207371, 0.595...</td>\n",
       "      <td>[0.6184408, 0.66266865, 0.68065965, 0.68215895...</td>\n",
       "      <td>[0.6281859, 0.64617693, 0.66416794, 0.6656672,...</td>\n",
       "    </tr>\n",
       "    <tr>\n",
       "      <th>1</th>\n",
       "      <td>5</td>\n",
       "      <td>6</td>\n",
       "      <td>0.597097</td>\n",
       "      <td>0.675262</td>\n",
       "      <td>[0.6688626255767456, 0.6282526906104996, 0.612...</td>\n",
       "      <td>[0.6437363022270947, 0.6157687393979154, 0.605...</td>\n",
       "      <td>[0.61581707, 0.6536732, 0.66791606, 0.68065965...</td>\n",
       "      <td>[0.6311844, 0.63568217, 0.6491754, 0.65217394,...</td>\n",
       "    </tr>\n",
       "  </tbody>\n",
       "</table>\n",
       "</div>"
      ],
      "text/plain": [
       "   epoch_1  epoch_2  val_loss   val_acc  \\\n",
       "5        7        6  0.578250  0.694453   \n",
       "4        7        5  0.581540  0.692654   \n",
       "3        6        6  0.584094  0.691154   \n",
       "2        6        5  0.587670  0.689355   \n",
       "1        5        6  0.597097  0.675262   \n",
       "\n",
       "                                     train_loss_hist  \\\n",
       "5  [0.666542544625867, 0.6200432528084007, 0.5979...   \n",
       "4  [0.666542544625867, 0.6200432528084007, 0.5979...   \n",
       "3  [0.6676427771126491, 0.623839723116633, 0.6039...   \n",
       "2  [0.6676427771126491, 0.623839723116633, 0.6039...   \n",
       "1  [0.6688626255767456, 0.6282526906104996, 0.612...   \n",
       "\n",
       "                                       val_loss_hist  \\\n",
       "5  [0.6402096553542267, 0.6094559125457032, 0.595...   \n",
       "4  [0.6402096553542267, 0.6094559125457032, 0.595...   \n",
       "3  [0.6403190713414902, 0.6092163359207371, 0.595...   \n",
       "2  [0.6403190713414902, 0.6092163359207371, 0.595...   \n",
       "1  [0.6437363022270947, 0.6157687393979154, 0.605...   \n",
       "\n",
       "                                      train_acc_hist  \\\n",
       "5  [0.6169415, 0.66829085, 0.6814093, 0.696027, 0...   \n",
       "4  [0.6169415, 0.66829085, 0.6814093, 0.696027, 0...   \n",
       "3  [0.6184408, 0.66266865, 0.68065965, 0.68215895...   \n",
       "2  [0.6184408, 0.66266865, 0.68065965, 0.68215895...   \n",
       "1  [0.61581707, 0.6536732, 0.66791606, 0.68065965...   \n",
       "\n",
       "                                        val_acc_hist  \n",
       "5  [0.6281859, 0.65067464, 0.66416794, 0.68215895...  \n",
       "4  [0.6281859, 0.65067464, 0.66416794, 0.68215895...  \n",
       "3  [0.6281859, 0.64617693, 0.66416794, 0.6656672,...  \n",
       "2  [0.6281859, 0.64617693, 0.66416794, 0.6656672,...  \n",
       "1  [0.6311844, 0.63568217, 0.6491754, 0.65217394,...  "
      ]
     },
     "execution_count": 22,
     "metadata": {},
     "output_type": "execute_result"
    }
   ],
   "source": [
    "# get best 5 models\n",
    "grid_results_2 = grid_results_2.sort_values('val_loss')\n",
    "grid_results_2.to_csv(path+'grid_results_2.csv', index=False)\n",
    "\n",
    "grid_results_2.head(5)"
   ]
  },
  {
   "cell_type": "code",
   "execution_count": 23,
   "metadata": {},
   "outputs": [
    {
     "data": {
      "image/png": "[encoded data removed]",
      "text/plain": [
       "<Figure size 1152x648 with 1 Axes>"
      ]
     },
     "metadata": {},
     "output_type": "display_data"
    }
   ],
   "source": [
    "# plot training curve of best model\n",
    "plt.plot(grid_results_2.train_loss_hist.values[0], label='train')\n",
    "plt.plot(grid_results_2.val_loss_hist.values[0], label='test')\n",
    "plt.title('Train vs validation loss')\n",
    "plt.legend()\n",
    "plt.show()"
   ]
  },
  {
   "cell_type": "code",
   "execution_count": 24,
   "metadata": {},
   "outputs": [
    {
     "data": {
      "image/png": "[encoded data removed]",
      "text/plain": [
       "<Figure size 1152x648 with 1 Axes>"
      ]
     },
     "metadata": {},
     "output_type": "display_data"
    }
   ],
   "source": [
    "# train vs test accuracy\n",
    "plt.plot(grid_results_2.train_acc_hist.values[0], label='train')\n",
    "plt.plot(grid_results_2.val_acc_hist.values[0], label='validation')\n",
    "plt.title('Train vs validation accuracy')\n",
    "plt.legend()\n",
    "plt.show()"
   ]
  },
  {
   "cell_type": "code",
   "execution_count": 25,
   "metadata": {},
   "outputs": [
    {
     "data": {
      "text/plain": [
       "n_factors     200\n",
       "n_hidden_1    100\n",
       "n_hidden_2    100\n",
       "epoch_1         7\n",
       "epoch_2         6\n",
       "dtype: object"
      ]
     },
     "execution_count": 25,
     "metadata": {},
     "output_type": "execute_result"
    }
   ],
   "source": [
    "best_rating_hparams = pd.concat((best_rating_hparams, grid_results_2.iloc[0,:][['epoch_1', 'epoch_2']]))\n",
    "best_rating_hparams"
   ]
  },
  {
   "cell_type": "markdown",
   "metadata": {},
   "source": [
    "## 3. Dropout rates"
   ]
  },
  {
   "cell_type": "code",
   "execution_count": 26,
   "metadata": {},
   "outputs": [],
   "source": [
    "# hyper parameters\n",
    "HP_DROPOUT_1 = [.15, .2, .25]\n",
    "HP_DROPOUT_2 = [.15, .2, .25]"
   ]
  },
  {
   "cell_type": "code",
   "execution_count": 27,
   "metadata": {},
   "outputs": [
    {
     "name": "stdout",
     "output_type": "stream",
     "text": [
      "Fitting total of 9 models\n",
      "\n",
      "Fitting CGT model #1 with dr1: 0.15 | dr2: 0.15\n",
      "_____________________________________CV avg val loss=0.5725\n",
      "_____________________________________CV avg val acc=0.6990\n",
      "\n",
      "Fitting CGT model #2 with dr1: 0.15 | dr2: 0.2\n",
      "_____________________________________CV avg val loss=0.5729\n",
      "_____________________________________CV avg val acc=0.6984\n",
      "\n",
      "Fitting CGT model #3 with dr1: 0.15 | dr2: 0.25\n",
      "_____________________________________CV avg val loss=0.5733\n",
      "_____________________________________CV avg val acc=0.6975\n",
      "\n",
      "Fitting CGT model #4 with dr1: 0.2 | dr2: 0.15\n",
      "_____________________________________CV avg val loss=0.5778\n",
      "_____________________________________CV avg val acc=0.6957\n",
      "\n",
      "Fitting CGT model #5 with dr1: 0.2 | dr2: 0.2\n",
      "_____________________________________CV avg val loss=0.5783\n",
      "_____________________________________CV avg val acc=0.6945\n",
      "\n",
      "Fitting CGT model #6 with dr1: 0.2 | dr2: 0.25\n",
      "_____________________________________CV avg val loss=0.5785\n",
      "_____________________________________CV avg val acc=0.6948\n",
      "\n",
      "Fitting CGT model #7 with dr1: 0.25 | dr2: 0.15\n",
      "_____________________________________CV avg val loss=0.5760\n",
      "_____________________________________CV avg val acc=0.6975\n",
      "\n",
      "Fitting CGT model #8 with dr1: 0.25 | dr2: 0.2\n",
      "_____________________________________CV avg val loss=0.5764\n",
      "_____________________________________CV avg val acc=0.6966\n",
      "\n",
      "Fitting CGT model #9 with dr1: 0.25 | dr2: 0.25\n",
      "_____________________________________CV avg val loss=0.5767\n",
      "_____________________________________CV avg val acc=0.6951\n",
      "\n"
     ]
    }
   ],
   "source": [
    "# dataframe to store results of grid search\n",
    "grid_results_3 = []\n",
    "searches = 1\n",
    "\n",
    "n_models = len(HP_DROPOUT_1) * len(HP_DROPOUT_2)\n",
    "\n",
    "print(f'Fitting total of {n_models} models\\n')\n",
    "\n",
    "for DROPOUT_1 in HP_DROPOUT_1:\n",
    "    for DROPOUT_2 in HP_DROPOUT_2:\n",
    "\n",
    "        print(f'Fitting CGT model #{searches} with dr1: {DROPOUT_1} | dr2: {DROPOUT_2}')\n",
    "        searches += 1\n",
    "\n",
    "        # Create 5 CV folds\n",
    "        kf = KFold(n_splits=5, random_state=42)\n",
    "\n",
    "        # initialise loss and epoch count\n",
    "        total_loss = 0\n",
    "        total_acc = 0\n",
    "        count = 1\n",
    "        min_epochs = 10\n",
    "\n",
    "        # do CV split and compute baseline predictors each time\n",
    "        for train_index, test_index in kf.split(movies):\n",
    "\n",
    "            # get baseline rating predictors for full dataset\n",
    "            train, _, _ = get_baseline(df, df.index, df.index)\n",
    "\n",
    "            # compile both models with search hparams\n",
    "            model1, model2 = compile_genre_model(\n",
    "                n_items=df.movieId.nunique(),\n",
    "                n_users=df.userId.nunique(),\n",
    "                min_rating=df.rating.min(),\n",
    "                max_rating=df.rating.max(),\n",
    "                mean_rating=df.rating.mean(),\n",
    "                n_latent=best_rating_hparams.n_factors, \n",
    "                n_hidden_1=best_rating_hparams.n_hidden_1,\n",
    "                n_hidden_2=best_rating_hparams.n_hidden_2,\n",
    "                dropout_1=DROPOUT_1,\n",
    "                dropout_2=DROPOUT_2\n",
    "            )\n",
    "\n",
    "            # train rating model on all data\n",
    "            ratings = model1.fit(\n",
    "                x=[train.userId.values, train.movieId.values, train.bias.values],\n",
    "                y=train.rating.values, \n",
    "                batch_size=2048,\n",
    "                epochs=best_rating_hparams.epoch_1,\n",
    "                verbose=0,\n",
    "                validation_split=.2\n",
    "            )\n",
    "\n",
    "            # train genre model on 5 CV folds\n",
    "            train = movies.iloc[train_index]\n",
    "            test = movies.iloc[test_index]\n",
    "\n",
    "            # train model on current fold\n",
    "            result = model2.fit(\n",
    "                train.movieId.values, train.Drama.values,\n",
    "                batch_size=128, \n",
    "                epochs=best_rating_hparams.epoch_2,\n",
    "                verbose=0,\n",
    "                validation_data=(test.movieId.values, test.Drama.values))\n",
    "\n",
    "            # get loss from this fold\n",
    "            fold_loss = np.min(result.history['val_loss'])\n",
    "            total_loss += fold_loss\n",
    "            fold_acc = np.max(result.history['val_accuracy'])\n",
    "            total_acc += fold_acc\n",
    "\n",
    "            count += 1\n",
    "\n",
    "            del model1, model2\n",
    "\n",
    "        # calculate average holdout loss across all CV folds\n",
    "        avg_loss = total_loss / 5\n",
    "        avg_acc = total_acc / 5\n",
    "        print(f'_____________________________________CV avg val loss={avg_loss:.4f}')\n",
    "        print(f'_____________________________________CV avg val acc={avg_acc:.4f}')\n",
    "\n",
    "        grid_results_3.append({'dropout_1':DROPOUT_1,\n",
    "                               'dropout_2':DROPOUT_2,\n",
    "                               'val_loss':avg_loss,\n",
    "                               'val_acc':avg_acc,\n",
    "                               'train_loss_hist':result.history['loss'],\n",
    "                               'val_loss_hist':result.history['val_loss'],\n",
    "                               'train_acc_hist':result.history['accuracy'],\n",
    "                               'val_acc_hist':result.history['val_accuracy']})\n",
    "\n",
    "        print()\n",
    "#             break\n",
    "#         break\n",
    "    \n",
    "col_order = grid_results_3[0].keys()\n",
    "\n",
    "# save results to data frame\n",
    "grid_results_3 = pd.DataFrame(grid_results_3)\n",
    "# reorder columns\n",
    "grid_results_3 = grid_results_3[col_order]"
   ]
  },
  {
   "cell_type": "code",
   "execution_count": 28,
   "metadata": {},
   "outputs": [
    {
     "data": {
      "text/html": [
       "<div>\n",
       "<style scoped>\n",
       "    .dataframe tbody tr th:only-of-type {\n",
       "        vertical-align: middle;\n",
       "    }\n",
       "\n",
       "    .dataframe tbody tr th {\n",
       "        vertical-align: top;\n",
       "    }\n",
       "\n",
       "    .dataframe thead th {\n",
       "        text-align: right;\n",
       "    }\n",
       "</style>\n",
       "<table border=\"1\" class=\"dataframe\">\n",
       "  <thead>\n",
       "    <tr style=\"text-align: right;\">\n",
       "      <th></th>\n",
       "      <th>dropout_1</th>\n",
       "      <th>dropout_2</th>\n",
       "      <th>val_loss</th>\n",
       "      <th>val_acc</th>\n",
       "      <th>train_loss_hist</th>\n",
       "      <th>val_loss_hist</th>\n",
       "      <th>train_acc_hist</th>\n",
       "      <th>val_acc_hist</th>\n",
       "    </tr>\n",
       "  </thead>\n",
       "  <tbody>\n",
       "    <tr>\n",
       "      <th>0</th>\n",
       "      <td>0.15</td>\n",
       "      <td>0.15</td>\n",
       "      <td>0.572535</td>\n",
       "      <td>0.698951</td>\n",
       "      <td>[0.6657063281875679, 0.6164861955027887, 0.592...</td>\n",
       "      <td>[0.6387519668424684, 0.6055599198169794, 0.588...</td>\n",
       "      <td>[0.6308096, 0.6735382, 0.69227886, 0.70089954,...</td>\n",
       "      <td>[0.64017993, 0.65217394, 0.67616194, 0.6851574...</td>\n",
       "    </tr>\n",
       "    <tr>\n",
       "      <th>1</th>\n",
       "      <td>0.15</td>\n",
       "      <td>0.20</td>\n",
       "      <td>0.572922</td>\n",
       "      <td>0.698351</td>\n",
       "      <td>[0.6657249820286009, 0.6172033708313595, 0.593...</td>\n",
       "      <td>[0.6391731382667393, 0.6058628436686218, 0.589...</td>\n",
       "      <td>[0.6304348, 0.6694153, 0.6896552, 0.6971514, 0...</td>\n",
       "      <td>[0.64017993, 0.65217394, 0.6776612, 0.6836582,...</td>\n",
       "    </tr>\n",
       "    <tr>\n",
       "      <th>2</th>\n",
       "      <td>0.15</td>\n",
       "      <td>0.25</td>\n",
       "      <td>0.573277</td>\n",
       "      <td>0.697451</td>\n",
       "      <td>[0.6665922246057948, 0.6178533468825528, 0.594...</td>\n",
       "      <td>[0.6400503379472907, 0.6066822788525914, 0.590...</td>\n",
       "      <td>[0.6248126, 0.66829085, 0.69227886, 0.70089954...</td>\n",
       "      <td>[0.64167917, 0.65067464, 0.6731634, 0.68215895...</td>\n",
       "    </tr>\n",
       "    <tr>\n",
       "      <th>6</th>\n",
       "      <td>0.25</td>\n",
       "      <td>0.15</td>\n",
       "      <td>0.576016</td>\n",
       "      <td>0.697451</td>\n",
       "      <td>[0.6650408326775238, 0.6171702212658243, 0.595...</td>\n",
       "      <td>[0.639976055100225, 0.6099418654613409, 0.5953...</td>\n",
       "      <td>[0.6285607, 0.67053974, 0.6836582, 0.70089954,...</td>\n",
       "      <td>[0.63568217, 0.6491754, 0.6596702, 0.6791604, ...</td>\n",
       "    </tr>\n",
       "    <tr>\n",
       "      <th>7</th>\n",
       "      <td>0.25</td>\n",
       "      <td>0.20</td>\n",
       "      <td>0.576398</td>\n",
       "      <td>0.696552</td>\n",
       "      <td>[0.6650230553017921, 0.6179361981430511, 0.596...</td>\n",
       "      <td>[0.6403438846568118, 0.6102490253534274, 0.595...</td>\n",
       "      <td>[0.6285607, 0.6690405, 0.68215895, 0.70052475,...</td>\n",
       "      <td>[0.63418293, 0.65067464, 0.6551724, 0.6791604,...</td>\n",
       "    </tr>\n",
       "  </tbody>\n",
       "</table>\n",
       "</div>"
      ],
      "text/plain": [
       "   dropout_1  dropout_2  val_loss   val_acc  \\\n",
       "0       0.15       0.15  0.572535  0.698951   \n",
       "1       0.15       0.20  0.572922  0.698351   \n",
       "2       0.15       0.25  0.573277  0.697451   \n",
       "6       0.25       0.15  0.576016  0.697451   \n",
       "7       0.25       0.20  0.576398  0.696552   \n",
       "\n",
       "                                     train_loss_hist  \\\n",
       "0  [0.6657063281875679, 0.6164861955027887, 0.592...   \n",
       "1  [0.6657249820286009, 0.6172033708313595, 0.593...   \n",
       "2  [0.6665922246057948, 0.6178533468825528, 0.594...   \n",
       "6  [0.6650408326775238, 0.6171702212658243, 0.595...   \n",
       "7  [0.6650230553017921, 0.6179361981430511, 0.596...   \n",
       "\n",
       "                                       val_loss_hist  \\\n",
       "0  [0.6387519668424684, 0.6055599198169794, 0.588...   \n",
       "1  [0.6391731382667393, 0.6058628436686218, 0.589...   \n",
       "2  [0.6400503379472907, 0.6066822788525914, 0.590...   \n",
       "6  [0.639976055100225, 0.6099418654613409, 0.5953...   \n",
       "7  [0.6403438846568118, 0.6102490253534274, 0.595...   \n",
       "\n",
       "                                      train_acc_hist  \\\n",
       "0  [0.6308096, 0.6735382, 0.69227886, 0.70089954,...   \n",
       "1  [0.6304348, 0.6694153, 0.6896552, 0.6971514, 0...   \n",
       "2  [0.6248126, 0.66829085, 0.69227886, 0.70089954...   \n",
       "6  [0.6285607, 0.67053974, 0.6836582, 0.70089954,...   \n",
       "7  [0.6285607, 0.6690405, 0.68215895, 0.70052475,...   \n",
       "\n",
       "                                        val_acc_hist  \n",
       "0  [0.64017993, 0.65217394, 0.67616194, 0.6851574...  \n",
       "1  [0.64017993, 0.65217394, 0.6776612, 0.6836582,...  \n",
       "2  [0.64167917, 0.65067464, 0.6731634, 0.68215895...  \n",
       "6  [0.63568217, 0.6491754, 0.6596702, 0.6791604, ...  \n",
       "7  [0.63418293, 0.65067464, 0.6551724, 0.6791604,...  "
      ]
     },
     "execution_count": 28,
     "metadata": {},
     "output_type": "execute_result"
    }
   ],
   "source": [
    "# get best 5 models\n",
    "grid_results_3 = grid_results_3.sort_values('val_loss')\n",
    "grid_results_3.to_csv(path+'grid_results_3.csv', index=False)\n",
    "\n",
    "grid_results_3.head(5)"
   ]
  },
  {
   "cell_type": "code",
   "execution_count": 29,
   "metadata": {},
   "outputs": [
    {
     "data": {
      "image/png": "[encoded data removed]",
      "text/plain": [
       "<Figure size 1152x648 with 1 Axes>"
      ]
     },
     "metadata": {},
     "output_type": "display_data"
    }
   ],
   "source": [
    "# plot training curve of best model\n",
    "plt.plot(grid_results_3.train_loss_hist.values[0], label='train')\n",
    "plt.plot(grid_results_3.val_loss_hist.values[0], label='test')\n",
    "plt.title('Train vs validation loss')\n",
    "plt.legend()\n",
    "plt.show()"
   ]
  },
  {
   "cell_type": "code",
   "execution_count": 30,
   "metadata": {},
   "outputs": [
    {
     "data": {
      "image/png": "[encoded data removed]",
      "text/plain": [
       "<Figure size 1152x648 with 1 Axes>"
      ]
     },
     "metadata": {},
     "output_type": "display_data"
    }
   ],
   "source": [
    "# train vs test accuracy\n",
    "plt.plot(grid_results_3.train_acc_hist.values[0], label='train')\n",
    "plt.plot(grid_results_3.val_acc_hist.values[0], label='validation')\n",
    "plt.title('Train vs validation accuracy')\n",
    "plt.legend()\n",
    "plt.show()"
   ]
  },
  {
   "cell_type": "code",
   "execution_count": 31,
   "metadata": {},
   "outputs": [
    {
     "data": {
      "text/plain": [
       "n_factors      200\n",
       "n_hidden_1     100\n",
       "n_hidden_2     100\n",
       "epoch_1          7\n",
       "epoch_2          6\n",
       "dropout_1     0.15\n",
       "dropout_2     0.15\n",
       "dtype: object"
      ]
     },
     "execution_count": 31,
     "metadata": {},
     "output_type": "execute_result"
    }
   ],
   "source": [
    "best_rating_hparams = pd.concat((best_rating_hparams, grid_results_3.iloc[0,:][['dropout_1', 'dropout_2']]))\n",
    "best_rating_hparams"
   ]
  },
  {
   "cell_type": "markdown",
   "metadata": {},
   "source": [
    "# Classification report"
   ]
  },
  {
   "cell_type": "code",
   "execution_count": 32,
   "metadata": {},
   "outputs": [],
   "source": [
    "from sklearn.metrics import classification_report, confusion_matrix, precision_score, recall_score, f1_score"
   ]
  },
  {
   "cell_type": "markdown",
   "metadata": {},
   "source": [
    "### Re-train model on full dataset, with best hparams"
   ]
  },
  {
   "cell_type": "code",
   "execution_count": 33,
   "metadata": {},
   "outputs": [
    {
     "name": "stdout",
     "output_type": "stream",
     "text": [
      "Train on 800167 samples, validate on 200042 samples\n",
      "Epoch 1/7\n",
      "800167/800167 [==============================] - 17s 21us/sample - loss: 0.8195 - val_loss: 0.8708\n",
      "Epoch 2/7\n",
      "800167/800167 [==============================] - 16s 20us/sample - loss: 0.7737 - val_loss: 0.8735\n",
      "Epoch 3/7\n",
      "800167/800167 [==============================] - 16s 20us/sample - loss: 0.7443 - val_loss: 0.8798\n",
      "Epoch 4/7\n",
      "800167/800167 [==============================] - 16s 20us/sample - loss: 0.7145 - val_loss: 0.8860\n",
      "Epoch 5/7\n",
      "800167/800167 [==============================] - 16s 20us/sample - loss: 0.6845 - val_loss: 0.8919\n",
      "Epoch 6/7\n",
      "800167/800167 [==============================] - 16s 20us/sample - loss: 0.6557 - val_loss: 0.8939\n",
      "Epoch 7/7\n",
      "800167/800167 [==============================] - 17s 21us/sample - loss: 0.6301 - val_loss: 0.8935\n",
      "Train on 2668 samples, validate on 667 samples\n",
      "Epoch 1/6\n",
      "2668/2668 [==============================] - 1s 286us/sample - loss: 0.6657 - accuracy: 0.6308 - AUC: 0.6676 - val_loss: 0.6388 - val_accuracy: 0.6402 - val_AUC: 0.6809\n",
      "Epoch 2/6\n",
      "2668/2668 [==============================] - 0s 41us/sample - loss: 0.6165 - accuracy: 0.6735 - AUC: 0.7245 - val_loss: 0.6056 - val_accuracy: 0.6522 - val_AUC: 0.6964\n",
      "Epoch 3/6\n",
      "2668/2668 [==============================] - 0s 42us/sample - loss: 0.5926 - accuracy: 0.6923 - AUC: 0.7420 - val_loss: 0.5889 - val_accuracy: 0.6762 - val_AUC: 0.7161\n",
      "Epoch 4/6\n",
      "2668/2668 [==============================] - 0s 43us/sample - loss: 0.5755 - accuracy: 0.7009 - AUC: 0.7611 - val_loss: 0.5803 - val_accuracy: 0.6852 - val_AUC: 0.7312\n",
      "Epoch 5/6\n",
      "2668/2668 [==============================] - 0s 43us/sample - loss: 0.5650 - accuracy: 0.7050 - AUC: 0.7720 - val_loss: 0.5730 - val_accuracy: 0.7001 - val_AUC: 0.7415\n",
      "Epoch 6/6\n",
      "2668/2668 [==============================] - 0s 42us/sample - loss: 0.5561 - accuracy: 0.7174 - AUC: 0.7806 - val_loss: 0.5699 - val_accuracy: 0.7046 - val_AUC: 0.7457\n"
     ]
    }
   ],
   "source": [
    "# get baseline predictors for full dataset\n",
    "train, _, _ = get_baseline(df, df.index, df.index)\n",
    "\n",
    "# compile both models\n",
    "model1, model2 = compile_genre_model(\n",
    "    n_items=df.movieId.nunique(),\n",
    "    n_users=df.userId.nunique(),\n",
    "    min_rating=df.rating.min(),\n",
    "    max_rating=df.rating.max(),\n",
    "    mean_rating=df.rating.mean(),\n",
    "    n_latent=best_rating_hparams.n_factors, \n",
    "    n_hidden_1=best_rating_hparams.n_hidden_1,\n",
    "    n_hidden_2=best_rating_hparams.n_hidden_2,\n",
    "    dropout_1=best_rating_hparams.dropout_1,\n",
    "    dropout_2=best_rating_hparams.dropout_1\n",
    ")\n",
    "\n",
    "# train rating model\n",
    "ratings = model1.fit(\n",
    "    x=[train.userId.values, train.movieId.values, train.bias.values],\n",
    "    y=train.rating.values, \n",
    "    batch_size=2048,\n",
    "    epochs=best_rating_hparams.epoch_1,\n",
    "    verbose=1,\n",
    "    validation_split=.2\n",
    ")\n",
    "\n",
    "# train genre model\n",
    "genres = model2.fit(\n",
    "    movies.movieId.values, movies.Drama.values,\n",
    "    batch_size=128, \n",
    "    epochs=best_rating_hparams.epoch_2,\n",
    "    validation_split=.2\n",
    ")"
   ]
  },
  {
   "cell_type": "markdown",
   "metadata": {},
   "source": [
    "### Evaluate on test set"
   ]
  },
  {
   "cell_type": "code",
   "execution_count": 34,
   "metadata": {},
   "outputs": [],
   "source": [
    "X_test = movies_holdout.movieId.values\n",
    "y_test = movies_holdout.Drama.values\n",
    "y_score = pd.DataFrame(model2.predict(X_test))\n",
    "y_pred = y_score.round().astype('int')"
   ]
  },
  {
   "cell_type": "code",
   "execution_count": 35,
   "metadata": {},
   "outputs": [
    {
     "name": "stdout",
     "output_type": "stream",
     "text": [
      "              precision    recall  f1-score   support\n",
      "\n",
      "           0       0.75      0.75      0.75       227\n",
      "           1       0.61      0.61      0.61       144\n",
      "\n",
      "    accuracy                           0.70       371\n",
      "   macro avg       0.68      0.68      0.68       371\n",
      "weighted avg       0.70      0.70      0.70       371\n",
      "\n"
     ]
    }
   ],
   "source": [
    "print(classification_report(y_test, y_pred))"
   ]
  },
  {
   "cell_type": "code",
   "execution_count": 36,
   "metadata": {},
   "outputs": [
    {
     "data": {
      "text/html": [
       "<div>\n",
       "<style scoped>\n",
       "    .dataframe tbody tr th:only-of-type {\n",
       "        vertical-align: middle;\n",
       "    }\n",
       "\n",
       "    .dataframe tbody tr th {\n",
       "        vertical-align: top;\n",
       "    }\n",
       "\n",
       "    .dataframe thead th {\n",
       "        text-align: right;\n",
       "    }\n",
       "</style>\n",
       "<table border=\"1\" class=\"dataframe\">\n",
       "  <thead>\n",
       "    <tr style=\"text-align: right;\">\n",
       "      <th></th>\n",
       "      <th>0</th>\n",
       "      <th>1</th>\n",
       "    </tr>\n",
       "  </thead>\n",
       "  <tbody>\n",
       "    <tr>\n",
       "      <th>0</th>\n",
       "      <td>171</td>\n",
       "      <td>56</td>\n",
       "    </tr>\n",
       "    <tr>\n",
       "      <th>1</th>\n",
       "      <td>56</td>\n",
       "      <td>88</td>\n",
       "    </tr>\n",
       "  </tbody>\n",
       "</table>\n",
       "</div>"
      ],
      "text/plain": [
       "     0   1\n",
       "0  171  56\n",
       "1   56  88"
      ]
     },
     "execution_count": 36,
     "metadata": {},
     "output_type": "execute_result"
    }
   ],
   "source": [
    "pd.DataFrame(confusion_matrix(y_test, y_pred))"
   ]
  },
  {
   "cell_type": "code",
   "execution_count": 37,
   "metadata": {},
   "outputs": [],
   "source": [
    "# add predictions as column\n",
    "movies_holdout['prediction'] = y_pred.values\n",
    "# save to csv\n",
    "movies_holdout[['movieId', 'title', 'Drama', 'prediction']].to_csv(path+'holdout_predictions.csv', index=False)"
   ]
  },
  {
   "cell_type": "code",
   "execution_count": 38,
   "metadata": {},
   "outputs": [],
   "source": [
    "X_train = movies.movieId.values\n",
    "y_train = movies.Drama.values\n",
    "train_score = pd.DataFrame(model2.predict(X_train))\n",
    "train_pred = train_score.round().astype('int')"
   ]
  },
  {
   "cell_type": "code",
   "execution_count": 39,
   "metadata": {},
   "outputs": [
    {
     "name": "stdout",
     "output_type": "stream",
     "text": [
      "              precision    recall  f1-score   support\n",
      "\n",
      "           0       0.75      0.79      0.77      1986\n",
      "           1       0.67      0.60      0.63      1349\n",
      "\n",
      "    accuracy                           0.72      3335\n",
      "   macro avg       0.71      0.70      0.70      3335\n",
      "weighted avg       0.71      0.72      0.72      3335\n",
      "\n"
     ]
    }
   ],
   "source": [
    "print(classification_report(y_train, train_pred))"
   ]
  },
  {
   "cell_type": "code",
   "execution_count": 40,
   "metadata": {},
   "outputs": [
    {
     "data": {
      "text/html": [
       "<div>\n",
       "<style scoped>\n",
       "    .dataframe tbody tr th:only-of-type {\n",
       "        vertical-align: middle;\n",
       "    }\n",
       "\n",
       "    .dataframe tbody tr th {\n",
       "        vertical-align: top;\n",
       "    }\n",
       "\n",
       "    .dataframe thead th {\n",
       "        text-align: right;\n",
       "    }\n",
       "</style>\n",
       "<table border=\"1\" class=\"dataframe\">\n",
       "  <thead>\n",
       "    <tr style=\"text-align: right;\">\n",
       "      <th></th>\n",
       "      <th>0</th>\n",
       "      <th>1</th>\n",
       "    </tr>\n",
       "  </thead>\n",
       "  <tbody>\n",
       "    <tr>\n",
       "      <th>0</th>\n",
       "      <td>1577</td>\n",
       "      <td>409</td>\n",
       "    </tr>\n",
       "    <tr>\n",
       "      <th>1</th>\n",
       "      <td>533</td>\n",
       "      <td>816</td>\n",
       "    </tr>\n",
       "  </tbody>\n",
       "</table>\n",
       "</div>"
      ],
      "text/plain": [
       "      0    1\n",
       "0  1577  409\n",
       "1   533  816"
      ]
     },
     "execution_count": 40,
     "metadata": {},
     "output_type": "execute_result"
    }
   ],
   "source": [
    "pd.DataFrame(confusion_matrix(y_train, train_pred))"
   ]
  },
  {
   "cell_type": "code",
   "execution_count": 41,
   "metadata": {},
   "outputs": [],
   "source": [
    "# add predictions as column\n",
    "movies['prediction'] = train_pred.values\n",
    "# save to csv\n",
    "movies[['movieId', 'title', 'Drama', 'prediction']].to_csv(path+'train_predictions.csv', index=False)"
   ]
  },
  {
   "cell_type": "markdown",
   "metadata": {},
   "source": [
    "---\n",
    "# Appendix A: multi-label genre model"
   ]
  },
  {
   "cell_type": "code",
   "execution_count": 55,
   "metadata": {},
   "outputs": [
    {
     "data": {
      "text/html": [
       "<div>\n",
       "<style scoped>\n",
       "    .dataframe tbody tr th:only-of-type {\n",
       "        vertical-align: middle;\n",
       "    }\n",
       "\n",
       "    .dataframe tbody tr th {\n",
       "        vertical-align: top;\n",
       "    }\n",
       "\n",
       "    .dataframe thead th {\n",
       "        text-align: right;\n",
       "    }\n",
       "</style>\n",
       "<table border=\"1\" class=\"dataframe\">\n",
       "  <thead>\n",
       "    <tr style=\"text-align: right;\">\n",
       "      <th></th>\n",
       "      <th>movieId</th>\n",
       "      <th>title</th>\n",
       "      <th>Action</th>\n",
       "      <th>Adventure</th>\n",
       "      <th>Animation</th>\n",
       "      <th>Children's</th>\n",
       "      <th>Comedy</th>\n",
       "      <th>Crime</th>\n",
       "      <th>Documentary</th>\n",
       "      <th>Drama</th>\n",
       "      <th>...</th>\n",
       "      <th>Film-Noir</th>\n",
       "      <th>Horror</th>\n",
       "      <th>Musical</th>\n",
       "      <th>Mystery</th>\n",
       "      <th>Romance</th>\n",
       "      <th>Sci-Fi</th>\n",
       "      <th>Thriller</th>\n",
       "      <th>War</th>\n",
       "      <th>Western</th>\n",
       "      <th>prediction</th>\n",
       "    </tr>\n",
       "  </thead>\n",
       "  <tbody>\n",
       "    <tr>\n",
       "      <th>194</th>\n",
       "      <td>194</td>\n",
       "      <td>Unforgiven (1992)</td>\n",
       "      <td>0</td>\n",
       "      <td>0</td>\n",
       "      <td>0</td>\n",
       "      <td>0</td>\n",
       "      <td>0</td>\n",
       "      <td>0</td>\n",
       "      <td>0</td>\n",
       "      <td>0</td>\n",
       "      <td>...</td>\n",
       "      <td>0</td>\n",
       "      <td>0</td>\n",
       "      <td>0</td>\n",
       "      <td>0</td>\n",
       "      <td>0</td>\n",
       "      <td>0</td>\n",
       "      <td>0</td>\n",
       "      <td>0</td>\n",
       "      <td>1</td>\n",
       "      <td>0</td>\n",
       "    </tr>\n",
       "    <tr>\n",
       "      <th>1417</th>\n",
       "      <td>1417</td>\n",
       "      <td>Blue Lagoon, The (1980)</td>\n",
       "      <td>0</td>\n",
       "      <td>1</td>\n",
       "      <td>0</td>\n",
       "      <td>0</td>\n",
       "      <td>0</td>\n",
       "      <td>0</td>\n",
       "      <td>0</td>\n",
       "      <td>1</td>\n",
       "      <td>...</td>\n",
       "      <td>0</td>\n",
       "      <td>0</td>\n",
       "      <td>0</td>\n",
       "      <td>0</td>\n",
       "      <td>1</td>\n",
       "      <td>0</td>\n",
       "      <td>0</td>\n",
       "      <td>0</td>\n",
       "      <td>0</td>\n",
       "      <td>0</td>\n",
       "    </tr>\n",
       "    <tr>\n",
       "      <th>2459</th>\n",
       "      <td>2459</td>\n",
       "      <td>Night Falls on Manhattan (1997)</td>\n",
       "      <td>0</td>\n",
       "      <td>0</td>\n",
       "      <td>0</td>\n",
       "      <td>0</td>\n",
       "      <td>0</td>\n",
       "      <td>1</td>\n",
       "      <td>0</td>\n",
       "      <td>1</td>\n",
       "      <td>...</td>\n",
       "      <td>0</td>\n",
       "      <td>0</td>\n",
       "      <td>0</td>\n",
       "      <td>0</td>\n",
       "      <td>0</td>\n",
       "      <td>0</td>\n",
       "      <td>0</td>\n",
       "      <td>0</td>\n",
       "      <td>0</td>\n",
       "      <td>0</td>\n",
       "    </tr>\n",
       "    <tr>\n",
       "      <th>2293</th>\n",
       "      <td>2293</td>\n",
       "      <td>Under Siege 2: Dark Territory (1995)</td>\n",
       "      <td>1</td>\n",
       "      <td>0</td>\n",
       "      <td>0</td>\n",
       "      <td>0</td>\n",
       "      <td>0</td>\n",
       "      <td>0</td>\n",
       "      <td>0</td>\n",
       "      <td>0</td>\n",
       "      <td>...</td>\n",
       "      <td>0</td>\n",
       "      <td>0</td>\n",
       "      <td>0</td>\n",
       "      <td>0</td>\n",
       "      <td>0</td>\n",
       "      <td>0</td>\n",
       "      <td>0</td>\n",
       "      <td>0</td>\n",
       "      <td>0</td>\n",
       "      <td>0</td>\n",
       "    </tr>\n",
       "    <tr>\n",
       "      <th>3251</th>\n",
       "      <td>3251</td>\n",
       "      <td>Best Laid Plans (1999)</td>\n",
       "      <td>0</td>\n",
       "      <td>0</td>\n",
       "      <td>0</td>\n",
       "      <td>0</td>\n",
       "      <td>0</td>\n",
       "      <td>1</td>\n",
       "      <td>0</td>\n",
       "      <td>1</td>\n",
       "      <td>...</td>\n",
       "      <td>0</td>\n",
       "      <td>0</td>\n",
       "      <td>0</td>\n",
       "      <td>0</td>\n",
       "      <td>0</td>\n",
       "      <td>0</td>\n",
       "      <td>0</td>\n",
       "      <td>0</td>\n",
       "      <td>0</td>\n",
       "      <td>1</td>\n",
       "    </tr>\n",
       "  </tbody>\n",
       "</table>\n",
       "<p>5 rows × 21 columns</p>\n",
       "</div>"
      ],
      "text/plain": [
       "      movieId                                 title  Action  Adventure  \\\n",
       "194       194                     Unforgiven (1992)       0          0   \n",
       "1417     1417               Blue Lagoon, The (1980)       0          1   \n",
       "2459     2459       Night Falls on Manhattan (1997)       0          0   \n",
       "2293     2293  Under Siege 2: Dark Territory (1995)       1          0   \n",
       "3251     3251                Best Laid Plans (1999)       0          0   \n",
       "\n",
       "      Animation  Children's  Comedy  Crime  Documentary  Drama  ...  \\\n",
       "194           0           0       0      0            0      0  ...   \n",
       "1417          0           0       0      0            0      1  ...   \n",
       "2459          0           0       0      1            0      1  ...   \n",
       "2293          0           0       0      0            0      0  ...   \n",
       "3251          0           0       0      1            0      1  ...   \n",
       "\n",
       "      Film-Noir  Horror  Musical  Mystery  Romance  Sci-Fi  Thriller  War  \\\n",
       "194           0       0        0        0        0       0         0    0   \n",
       "1417          0       0        0        0        1       0         0    0   \n",
       "2459          0       0        0        0        0       0         0    0   \n",
       "2293          0       0        0        0        0       0         0    0   \n",
       "3251          0       0        0        0        0       0         0    0   \n",
       "\n",
       "      Western  prediction  \n",
       "194         1           0  \n",
       "1417        0           0  \n",
       "2459        0           0  \n",
       "2293        0           0  \n",
       "3251        0           1  \n",
       "\n",
       "[5 rows x 21 columns]"
      ]
     },
     "execution_count": 55,
     "metadata": {},
     "output_type": "execute_result"
    }
   ],
   "source": [
    "movies.head()"
   ]
  },
  {
   "cell_type": "code",
   "execution_count": 56,
   "metadata": {},
   "outputs": [
    {
     "data": {
      "text/plain": [
       "(3335, 21)"
      ]
     },
     "execution_count": 56,
     "metadata": {},
     "output_type": "execute_result"
    }
   ],
   "source": [
    "movies.shape"
   ]
  },
  {
   "cell_type": "code",
   "execution_count": 52,
   "metadata": {},
   "outputs": [],
   "source": [
    "from CGT import compile_multigenre_model"
   ]
  },
  {
   "cell_type": "code",
   "execution_count": 53,
   "metadata": {},
   "outputs": [
    {
     "name": "stdout",
     "output_type": "stream",
     "text": [
      "Train on 800167 samples, validate on 200042 samples\n",
      "Epoch 1/7\n",
      "800167/800167 [==============================] - 14s 18us/sample - loss: 0.8195 - val_loss: 0.8708\n",
      "Epoch 2/7\n",
      "800167/800167 [==============================] - 16s 20us/sample - loss: 0.7737 - val_loss: 0.8735\n",
      "Epoch 3/7\n",
      "800167/800167 [==============================] - 15s 19us/sample - loss: 0.7443 - val_loss: 0.8798\n",
      "Epoch 4/7\n",
      "800167/800167 [==============================] - 15s 19us/sample - loss: 0.7145 - val_loss: 0.8860\n",
      "Epoch 5/7\n",
      "800167/800167 [==============================] - 16s 21us/sample - loss: 0.6845 - val_loss: 0.8919\n",
      "Epoch 6/7\n",
      "800167/800167 [==============================] - 17s 21us/sample - loss: 0.6557 - val_loss: 0.8939\n",
      "Epoch 7/7\n",
      "800167/800167 [==============================] - 17s 21us/sample - loss: 0.6301 - val_loss: 0.8935\n"
     ]
    }
   ],
   "source": [
    "# get baseline predictors for full dataset\n",
    "train, _, _ = get_baseline(df, df.index, df.index)\n",
    "\n",
    "# compile both models\n",
    "model1, model2 = compile_multigenre_model(\n",
    "    n_items=df.movieId.nunique(),\n",
    "    n_users=df.userId.nunique(),\n",
    "    min_rating=df.rating.min(),\n",
    "    max_rating=df.rating.max(),\n",
    "    mean_rating=df.rating.mean(),\n",
    "    n_genres=18,\n",
    "    n_latent=best_rating_hparams.n_factors, \n",
    "    n_hidden_1=best_rating_hparams.n_hidden_1,\n",
    "    n_hidden_2=best_rating_hparams.n_hidden_2,\n",
    "    dropout_1=best_rating_hparams.dropout_1,\n",
    "    dropout_2=best_rating_hparams.dropout_1\n",
    ")\n",
    "\n",
    "# train rating model\n",
    "ratings = model1.fit(\n",
    "    x=[train.userId.values, train.movieId.values, train.bias.values],\n",
    "    y=train.rating.values, \n",
    "    batch_size=2048,\n",
    "    epochs=best_rating_hparams.epoch_1,\n",
    "    verbose=1,\n",
    "    validation_split=.2\n",
    ")"
   ]
  },
  {
   "cell_type": "code",
   "execution_count": 57,
   "metadata": {},
   "outputs": [
    {
     "name": "stdout",
     "output_type": "stream",
     "text": [
      "Train on 2668 samples, validate on 667 samples\n",
      "Epoch 1/6\n",
      "2668/2668 [==============================] - 1s 273us/sample - loss: 0.6666 - accuracy: 0.7058 - AUC: 0.6364 - val_loss: 0.6303 - val_accuracy: 0.8688 - val_AUC: 0.6887\n",
      "Epoch 2/6\n",
      "2668/2668 [==============================] - 0s 70us/sample - loss: 0.5845 - accuracy: 0.8914 - AUC: 0.7024 - val_loss: 0.5327 - val_accuracy: 0.8966 - val_AUC: 0.6956\n",
      "Epoch 3/6\n",
      "2668/2668 [==============================] - 0s 70us/sample - loss: 0.4755 - accuracy: 0.9064 - AUC: 0.7021 - val_loss: 0.4196 - val_accuracy: 0.9045 - val_AUC: 0.6907\n",
      "Epoch 4/6\n",
      "2668/2668 [==============================] - 0s 71us/sample - loss: 0.3754 - accuracy: 0.9106 - AUC: 0.7049 - val_loss: 0.3398 - val_accuracy: 0.9059 - val_AUC: 0.7013\n",
      "Epoch 5/6\n",
      "2668/2668 [==============================] - 0s 70us/sample - loss: 0.3162 - accuracy: 0.9113 - AUC: 0.7223 - val_loss: 0.2996 - val_accuracy: 0.9065 - val_AUC: 0.7253\n",
      "Epoch 6/6\n",
      "2668/2668 [==============================] - 0s 72us/sample - loss: 0.2855 - accuracy: 0.9119 - AUC: 0.7485 - val_loss: 0.2804 - val_accuracy: 0.9074 - val_AUC: 0.7486\n"
     ]
    }
   ],
   "source": [
    "# train genre model\n",
    "genres = model2.fit(\n",
    "    movies.movieId.values, movies.iloc[:,-19:-1].values,  # multi label\n",
    "    batch_size=128, \n",
    "    epochs=best_rating_hparams.epoch_2,\n",
    "    validation_split=.2)"
   ]
  },
  {
   "cell_type": "code",
   "execution_count": 58,
   "metadata": {},
   "outputs": [],
   "source": [
    "from sklearn.metrics import classification_report, confusion_matrix, precision_score, recall_score, f1_score"
   ]
  },
  {
   "cell_type": "code",
   "execution_count": 59,
   "metadata": {},
   "outputs": [],
   "source": [
    "y_true = movies.iloc[:,-19:-1]\n",
    "y_score = pd.DataFrame(model2.predict(movies.movieId.values), columns=y_true.columns)\n",
    "y_pred = y_score.round().astype('int')"
   ]
  },
  {
   "cell_type": "code",
   "execution_count": 60,
   "metadata": {},
   "outputs": [
    {
     "name": "stdout",
     "output_type": "stream",
     "text": [
      "              precision    recall  f1-score   support\n",
      "\n",
      "      Action       0.00      0.00      0.00       448\n",
      "   Adventure       0.00      0.00      0.00       256\n",
      "   Animation       0.00      0.00      0.00        92\n",
      "  Children's       0.00      0.00      0.00       224\n",
      "      Comedy       0.00      0.00      0.00      1047\n",
      "       Crime       0.00      0.00      0.00       184\n",
      " Documentary       0.00      0.00      0.00        97\n",
      "       Drama       0.59      0.60      0.59      1349\n",
      "     Fantasy       0.00      0.00      0.00        62\n",
      "   Film-Noir       0.00      0.00      0.00        43\n",
      "      Horror       0.00      0.00      0.00       303\n",
      "     Musical       0.00      0.00      0.00       100\n",
      "     Mystery       0.00      0.00      0.00        94\n",
      "     Romance       0.00      0.00      0.00       416\n",
      "      Sci-Fi       0.00      0.00      0.00       249\n",
      "    Thriller       0.00      0.00      0.00       434\n",
      "         War       0.00      0.00      0.00       126\n",
      "     Western       0.00      0.00      0.00        53\n",
      "\n",
      "   micro avg       0.59      0.15      0.23      5577\n",
      "   macro avg       0.03      0.03      0.03      5577\n",
      "weighted avg       0.14      0.15      0.14      5577\n",
      " samples avg       0.24      0.19      0.20      5577\n",
      "\n"
     ]
    },
    {
     "name": "stderr",
     "output_type": "stream",
     "text": [
      "C:\\Users\\JLeslie\\AppData\\Local\\Continuum\\anaconda3\\lib\\site-packages\\sklearn\\metrics\\classification.py:1437: UndefinedMetricWarning: Precision and F-score are ill-defined and being set to 0.0 in labels with no predicted samples.\n",
      "  'precision', 'predicted', average, warn_for)\n",
      "C:\\Users\\JLeslie\\AppData\\Local\\Continuum\\anaconda3\\lib\\site-packages\\sklearn\\metrics\\classification.py:1437: UndefinedMetricWarning: Precision and F-score are ill-defined and being set to 0.0 in labels with no predicted samples.\n",
      "  'precision', 'predicted', average, warn_for)\n",
      "C:\\Users\\JLeslie\\AppData\\Local\\Continuum\\anaconda3\\lib\\site-packages\\sklearn\\metrics\\classification.py:1437: UndefinedMetricWarning: Precision and F-score are ill-defined and being set to 0.0 in labels with no predicted samples.\n",
      "  'precision', 'predicted', average, warn_for)\n",
      "C:\\Users\\JLeslie\\AppData\\Local\\Continuum\\anaconda3\\lib\\site-packages\\sklearn\\metrics\\classification.py:1437: UndefinedMetricWarning: Precision and F-score are ill-defined and being set to 0.0 in samples with no predicted labels.\n",
      "  'precision', 'predicted', average, warn_for)\n"
     ]
    }
   ],
   "source": [
    "print(classification_report(y_true, y_pred, target_names=y_true.columns))"
   ]
  }
 ],
 "metadata": {
  "kernelspec": {
   "display_name": "Python 3",
   "language": "python",
   "name": "python3"
  },
  "language_info": {
   "codemirror_mode": {
    "name": "ipython",
    "version": 3
   },
   "file_extension": ".py",
   "mimetype": "text/x-python",
   "name": "python",
   "nbconvert_exporter": "python",
   "pygments_lexer": "ipython3",
   "version": "3.7.3"
  }
 },
 "nbformat": 4,
 "nbformat_minor": 4
}
