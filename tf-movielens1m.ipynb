{
 "cells": [
  {
   "cell_type": "markdown",
   "metadata": {},
   "source": [
    "# MovieLens 1M Collaborative Genre Tagging\n",
    "**To do**:\n",
    "  - try out [this implementation](https://www.onceupondata.com/2019/02/10/nn-collaborative-filtering/) of baseline features. \n",
    "  - create object classes for models\n",
    "  - implement TF 2.0 data classes\n",
    "  - [paperswithcode link](https://paperswithcode.com/sota/collaborative-filtering-on-movielens-100k)\n",
    "  - [ML 100k state of the art paper](https://arxiv.org/pdf/1706.02263v2.pdf) (RMSE=0.905): details their evaluation method\n",
    "  \n",
    "[![Colab](https://colab.research.google.com/assets/colab-badge.svg)](https://colab.research.google.com/github/James-Leslie/deep-collaborative-filtering/blob/master/tf-movielens1m.ipynb)"
   ]
  },
  {
   "cell_type": "code",
   "execution_count": 1,
   "metadata": {},
   "outputs": [],
   "source": [
    "import numpy as np\n",
    "import pandas as pd\n",
    "import matplotlib.pyplot as plt\n",
    "import seaborn as sns\n",
    "\n",
    "%matplotlib inline"
   ]
  },
  {
   "cell_type": "markdown",
   "metadata": {},
   "source": [
    "## Load rating data"
   ]
  },
  {
   "cell_type": "code",
   "execution_count": 2,
   "metadata": {},
   "outputs": [],
   "source": [
    "# path = 'https://raw.githubusercontent.com/James-Leslie/deep-collaborative-filtering/master/data/ml-1m/'  # access from anywhere\n",
    "path = 'data/ml-1m/'  # if the files are local\n",
    "df = pd.read_csv(path+'ratings.csv', usecols=['userId','movieId','rating'])"
   ]
  },
  {
   "cell_type": "code",
   "execution_count": 3,
   "metadata": {},
   "outputs": [
    {
     "data": {
      "text/html": [
       "<div>\n",
       "<style scoped>\n",
       "    .dataframe tbody tr th:only-of-type {\n",
       "        vertical-align: middle;\n",
       "    }\n",
       "\n",
       "    .dataframe tbody tr th {\n",
       "        vertical-align: top;\n",
       "    }\n",
       "\n",
       "    .dataframe thead th {\n",
       "        text-align: right;\n",
       "    }\n",
       "</style>\n",
       "<table border=\"1\" class=\"dataframe\">\n",
       "  <thead>\n",
       "    <tr style=\"text-align: right;\">\n",
       "      <th></th>\n",
       "      <th>userId</th>\n",
       "      <th>movieId</th>\n",
       "      <th>rating</th>\n",
       "    </tr>\n",
       "  </thead>\n",
       "  <tbody>\n",
       "    <tr>\n",
       "      <th>0</th>\n",
       "      <td>0</td>\n",
       "      <td>0</td>\n",
       "      <td>5</td>\n",
       "    </tr>\n",
       "    <tr>\n",
       "      <th>1</th>\n",
       "      <td>0</td>\n",
       "      <td>1</td>\n",
       "      <td>3</td>\n",
       "    </tr>\n",
       "    <tr>\n",
       "      <th>2</th>\n",
       "      <td>0</td>\n",
       "      <td>2</td>\n",
       "      <td>3</td>\n",
       "    </tr>\n",
       "    <tr>\n",
       "      <th>3</th>\n",
       "      <td>0</td>\n",
       "      <td>3</td>\n",
       "      <td>4</td>\n",
       "    </tr>\n",
       "    <tr>\n",
       "      <th>4</th>\n",
       "      <td>0</td>\n",
       "      <td>4</td>\n",
       "      <td>5</td>\n",
       "    </tr>\n",
       "  </tbody>\n",
       "</table>\n",
       "</div>"
      ],
      "text/plain": [
       "   userId  movieId  rating\n",
       "0       0        0       5\n",
       "1       0        1       3\n",
       "2       0        2       3\n",
       "3       0        3       4\n",
       "4       0        4       5"
      ]
     },
     "execution_count": 3,
     "metadata": {},
     "output_type": "execute_result"
    }
   ],
   "source": [
    "df.head()"
   ]
  },
  {
   "cell_type": "code",
   "execution_count": 4,
   "metadata": {},
   "outputs": [
    {
     "data": {
      "text/plain": [
       "(1000209, 3)"
      ]
     },
     "execution_count": 4,
     "metadata": {},
     "output_type": "execute_result"
    }
   ],
   "source": [
    "df.shape"
   ]
  },
  {
   "cell_type": "code",
   "execution_count": 5,
   "metadata": {},
   "outputs": [
    {
     "name": "stdout",
     "output_type": "stream",
     "text": [
      "Number of users: 6040\n",
      "Number of items: 3706\n",
      "Min item rating: 1\n",
      "Max item rating: 5\n",
      "Mean item rating: 3.581564453029317\n"
     ]
    }
   ],
   "source": [
    "print('Number of users:', df.userId.nunique())\n",
    "print('Number of items:', df.movieId.nunique())\n",
    "print(\"Min item rating:\", df.rating.min())\n",
    "print(\"Max item rating:\", df.rating.max())\n",
    "print(\"Mean item rating:\", df.rating.mean())"
   ]
  },
  {
   "cell_type": "markdown",
   "metadata": {},
   "source": [
    "## Load movie metadata\n",
    "  - remove 10% as holdout test set"
   ]
  },
  {
   "cell_type": "code",
   "execution_count": 6,
   "metadata": {},
   "outputs": [
    {
     "data": {
      "text/html": [
       "<div>\n",
       "<style scoped>\n",
       "    .dataframe tbody tr th:only-of-type {\n",
       "        vertical-align: middle;\n",
       "    }\n",
       "\n",
       "    .dataframe tbody tr th {\n",
       "        vertical-align: top;\n",
       "    }\n",
       "\n",
       "    .dataframe thead th {\n",
       "        text-align: right;\n",
       "    }\n",
       "</style>\n",
       "<table border=\"1\" class=\"dataframe\">\n",
       "  <thead>\n",
       "    <tr style=\"text-align: right;\">\n",
       "      <th></th>\n",
       "      <th>movieId</th>\n",
       "      <th>title</th>\n",
       "      <th>Action</th>\n",
       "      <th>Adventure</th>\n",
       "      <th>Animation</th>\n",
       "      <th>Children's</th>\n",
       "      <th>Comedy</th>\n",
       "      <th>Crime</th>\n",
       "      <th>Documentary</th>\n",
       "      <th>Drama</th>\n",
       "      <th>Fantasy</th>\n",
       "      <th>Film-Noir</th>\n",
       "      <th>Horror</th>\n",
       "      <th>Musical</th>\n",
       "      <th>Mystery</th>\n",
       "      <th>Romance</th>\n",
       "      <th>Sci-Fi</th>\n",
       "      <th>Thriller</th>\n",
       "      <th>War</th>\n",
       "      <th>Western</th>\n",
       "    </tr>\n",
       "  </thead>\n",
       "  <tbody>\n",
       "    <tr>\n",
       "      <th>0</th>\n",
       "      <td>0</td>\n",
       "      <td>One Flew Over the Cuckoo's Nest (1975)</td>\n",
       "      <td>0</td>\n",
       "      <td>0</td>\n",
       "      <td>0</td>\n",
       "      <td>0</td>\n",
       "      <td>0</td>\n",
       "      <td>0</td>\n",
       "      <td>0</td>\n",
       "      <td>1</td>\n",
       "      <td>0</td>\n",
       "      <td>0</td>\n",
       "      <td>0</td>\n",
       "      <td>0</td>\n",
       "      <td>0</td>\n",
       "      <td>0</td>\n",
       "      <td>0</td>\n",
       "      <td>0</td>\n",
       "      <td>0</td>\n",
       "      <td>0</td>\n",
       "    </tr>\n",
       "    <tr>\n",
       "      <th>1</th>\n",
       "      <td>1</td>\n",
       "      <td>James and the Giant Peach (1996)</td>\n",
       "      <td>0</td>\n",
       "      <td>0</td>\n",
       "      <td>1</td>\n",
       "      <td>1</td>\n",
       "      <td>0</td>\n",
       "      <td>0</td>\n",
       "      <td>0</td>\n",
       "      <td>0</td>\n",
       "      <td>0</td>\n",
       "      <td>0</td>\n",
       "      <td>0</td>\n",
       "      <td>1</td>\n",
       "      <td>0</td>\n",
       "      <td>0</td>\n",
       "      <td>0</td>\n",
       "      <td>0</td>\n",
       "      <td>0</td>\n",
       "      <td>0</td>\n",
       "    </tr>\n",
       "    <tr>\n",
       "      <th>2</th>\n",
       "      <td>2</td>\n",
       "      <td>My Fair Lady (1964)</td>\n",
       "      <td>0</td>\n",
       "      <td>0</td>\n",
       "      <td>0</td>\n",
       "      <td>0</td>\n",
       "      <td>0</td>\n",
       "      <td>0</td>\n",
       "      <td>0</td>\n",
       "      <td>0</td>\n",
       "      <td>0</td>\n",
       "      <td>0</td>\n",
       "      <td>0</td>\n",
       "      <td>1</td>\n",
       "      <td>0</td>\n",
       "      <td>1</td>\n",
       "      <td>0</td>\n",
       "      <td>0</td>\n",
       "      <td>0</td>\n",
       "      <td>0</td>\n",
       "    </tr>\n",
       "    <tr>\n",
       "      <th>3</th>\n",
       "      <td>3</td>\n",
       "      <td>Erin Brockovich (2000)</td>\n",
       "      <td>0</td>\n",
       "      <td>0</td>\n",
       "      <td>0</td>\n",
       "      <td>0</td>\n",
       "      <td>0</td>\n",
       "      <td>0</td>\n",
       "      <td>0</td>\n",
       "      <td>1</td>\n",
       "      <td>0</td>\n",
       "      <td>0</td>\n",
       "      <td>0</td>\n",
       "      <td>0</td>\n",
       "      <td>0</td>\n",
       "      <td>0</td>\n",
       "      <td>0</td>\n",
       "      <td>0</td>\n",
       "      <td>0</td>\n",
       "      <td>0</td>\n",
       "    </tr>\n",
       "    <tr>\n",
       "      <th>4</th>\n",
       "      <td>4</td>\n",
       "      <td>Bug's Life, A (1998)</td>\n",
       "      <td>0</td>\n",
       "      <td>0</td>\n",
       "      <td>1</td>\n",
       "      <td>1</td>\n",
       "      <td>1</td>\n",
       "      <td>0</td>\n",
       "      <td>0</td>\n",
       "      <td>0</td>\n",
       "      <td>0</td>\n",
       "      <td>0</td>\n",
       "      <td>0</td>\n",
       "      <td>0</td>\n",
       "      <td>0</td>\n",
       "      <td>0</td>\n",
       "      <td>0</td>\n",
       "      <td>0</td>\n",
       "      <td>0</td>\n",
       "      <td>0</td>\n",
       "    </tr>\n",
       "  </tbody>\n",
       "</table>\n",
       "</div>"
      ],
      "text/plain": [
       "   movieId                                   title  Action  Adventure  \\\n",
       "0        0  One Flew Over the Cuckoo's Nest (1975)       0          0   \n",
       "1        1        James and the Giant Peach (1996)       0          0   \n",
       "2        2                     My Fair Lady (1964)       0          0   \n",
       "3        3                  Erin Brockovich (2000)       0          0   \n",
       "4        4                    Bug's Life, A (1998)       0          0   \n",
       "\n",
       "   Animation  Children's  Comedy  Crime  Documentary  Drama  Fantasy  \\\n",
       "0          0           0       0      0            0      1        0   \n",
       "1          1           1       0      0            0      0        0   \n",
       "2          0           0       0      0            0      0        0   \n",
       "3          0           0       0      0            0      1        0   \n",
       "4          1           1       1      0            0      0        0   \n",
       "\n",
       "   Film-Noir  Horror  Musical  Mystery  Romance  Sci-Fi  Thriller  War  \\\n",
       "0          0       0        0        0        0       0         0    0   \n",
       "1          0       0        1        0        0       0         0    0   \n",
       "2          0       0        1        0        1       0         0    0   \n",
       "3          0       0        0        0        0       0         0    0   \n",
       "4          0       0        0        0        0       0         0    0   \n",
       "\n",
       "   Western  \n",
       "0        0  \n",
       "1        0  \n",
       "2        0  \n",
       "3        0  \n",
       "4        0  "
      ]
     },
     "execution_count": 6,
     "metadata": {},
     "output_type": "execute_result"
    }
   ],
   "source": [
    "movies = pd.read_csv(path+'movies.csv')\n",
    "movies.head()"
   ]
  },
  {
   "cell_type": "code",
   "execution_count": 7,
   "metadata": {},
   "outputs": [],
   "source": [
    "from sklearn.model_selection import train_test_split"
   ]
  },
  {
   "cell_type": "code",
   "execution_count": 8,
   "metadata": {},
   "outputs": [],
   "source": [
    "movies, movies_holdout = train_test_split(movies, test_size=.1, random_state=42)"
   ]
  },
  {
   "cell_type": "markdown",
   "metadata": {},
   "source": [
    "---\n",
    "# Create baseline features\n",
    "For each user, calculate average user bias - the average difference between the user's rating and the movie's average rating:\n",
    "\n",
    "$$b_{u} = \\dfrac{\\sum_{j=1}^{n_u} (r_{uj} - \\mu_i)}{n_u}$$\n",
    "\n",
    "For each item, calculate the difference between its average rating and the average rating of all movies:\n",
    "\n",
    "$$b_{i} = \\dfrac{\\sum_{k=1}^{n_i} (r_{ki})}{n_i} - \\mu$$\n",
    "\n",
    "Then, for each interaction, calculate the combined bias:\n",
    "\n",
    "$$b_{ui} = \\dfrac{b_u + b_i}{2}$$"
   ]
  },
  {
   "cell_type": "code",
   "execution_count": 9,
   "metadata": {},
   "outputs": [
    {
     "data": {
      "text/plain": [
       "\u001b[1;31mSignature:\u001b[0m \u001b[0mget_baseline\u001b[0m\u001b[1;33m(\u001b[0m\u001b[0mdf\u001b[0m\u001b[1;33m,\u001b[0m \u001b[0mtrain_index\u001b[0m\u001b[1;33m,\u001b[0m \u001b[0mtest_index\u001b[0m\u001b[1;33m)\u001b[0m\u001b[1;33m\u001b[0m\u001b[1;33m\u001b[0m\u001b[0m\n",
       "\u001b[1;31mDocstring:\u001b[0m\n",
       "Calculate baseline features from an explicit ratings dataset. Receives a dataframe\n",
       "and returns train and test splits with added bias column and mean rating value.\n",
       "User and item biases are calculated as average difference from global mean rating.\n",
       "Baseline factors are only calculated from training observations, with users or\n",
       "items that do not appear in train receiving the global average as default.\n",
       "\n",
       "Args:\n",
       "    df          : explicit ratings dataframe with columns userId, movieId and rating\n",
       "    train_index : train index splits taken from KFold.splits()\n",
       "    test_index  : test index splits taken from KFold.splits()\n",
       "    \n",
       "Returns:\n",
       "    train, test : train/test splits of df, with added bias column\n",
       "    global_mean : average rating of all training observations\n",
       "\u001b[1;31mFile:\u001b[0m      c:\\users\\jleslie\\documents\\deep-collaborative-filtering\\cgt.py\n",
       "\u001b[1;31mType:\u001b[0m      function\n"
      ]
     },
     "metadata": {},
     "output_type": "display_data"
    }
   ],
   "source": [
    "from CGT import get_baseline\n",
    "?get_baseline"
   ]
  },
  {
   "cell_type": "markdown",
   "metadata": {},
   "source": [
    "---\n",
    "# CGT model\n",
    "**To do**:\n",
    "  - Can we avoid re-training rating model on CV fold?\n",
    "  - Create a grid search function / class"
   ]
  },
  {
   "cell_type": "code",
   "execution_count": 10,
   "metadata": {},
   "outputs": [
    {
     "data": {
      "text/plain": [
       "\u001b[1;31mSignature:\u001b[0m\n",
       "\u001b[0mcompile_genre_model\u001b[0m\u001b[1;33m(\u001b[0m\u001b[1;33m\n",
       "\u001b[0m    \u001b[0mn_items\u001b[0m\u001b[1;33m,\u001b[0m\u001b[1;33m\n",
       "\u001b[0m    \u001b[0mn_users\u001b[0m\u001b[1;33m,\u001b[0m\u001b[1;33m\n",
       "\u001b[0m    \u001b[0mmean_rating\u001b[0m\u001b[1;33m,\u001b[0m\u001b[1;33m\n",
       "\u001b[0m    \u001b[0mn_latent\u001b[0m\u001b[1;33m,\u001b[0m\u001b[1;33m\n",
       "\u001b[0m    \u001b[0mn_hidden_1\u001b[0m\u001b[1;33m,\u001b[0m\u001b[1;33m\n",
       "\u001b[0m    \u001b[0mn_hidden_2\u001b[0m\u001b[1;33m,\u001b[0m\u001b[1;33m\n",
       "\u001b[0m    \u001b[0mleaky_alpha\u001b[0m\u001b[1;33m=\u001b[0m\u001b[1;36m0.1\u001b[0m\u001b[1;33m,\u001b[0m\u001b[1;33m\n",
       "\u001b[0m    \u001b[0mdropout_1\u001b[0m\u001b[1;33m=\u001b[0m\u001b[1;36m0.25\u001b[0m\u001b[1;33m,\u001b[0m\u001b[1;33m\n",
       "\u001b[0m    \u001b[0mdropout_2\u001b[0m\u001b[1;33m=\u001b[0m\u001b[1;36m0.25\u001b[0m\u001b[1;33m,\u001b[0m\u001b[1;33m\n",
       "\u001b[0m\u001b[1;33m)\u001b[0m\u001b[1;33m\u001b[0m\u001b[1;33m\u001b[0m\u001b[0m\n",
       "\u001b[1;31mDocstring:\u001b[0m <no docstring>\n",
       "\u001b[1;31mFile:\u001b[0m      c:\\users\\jleslie\\documents\\deep-collaborative-filtering\\cgt.py\n",
       "\u001b[1;31mType:\u001b[0m      function\n"
      ]
     },
     "metadata": {},
     "output_type": "display_data"
    }
   ],
   "source": [
    "from CGT import compile_genre_model\n",
    "?compile_genre_model"
   ]
  },
  {
   "cell_type": "markdown",
   "metadata": {},
   "source": [
    "---\n",
    "## Grid search\n",
    "**To do**: try using [tqdm](https://github.com/tqdm/tqdm) notebook bars\n",
    "\n",
    "```bash\n",
    "# bash\n",
    "pip install --upgrade ipywidgets \n",
    "jupyter nbextension enable --py widgetsnbextension\n",
    "jupyter labextension install @jupyter-widgets/jupyterlab-manager\n",
    "```\n",
    "\n",
    "```python\n",
    "# python\n",
    "from tqdm.notebook import trange, tqdm\n",
    "from time import sleep\n",
    "\n",
    "for i in trange(3, desc='1st loop'):\n",
    "    for j in tqdm(range(100), desc='2nd loop'):\n",
    "        sleep(0.01)\n",
    "```"
   ]
  },
  {
   "cell_type": "code",
   "execution_count": 11,
   "metadata": {},
   "outputs": [],
   "source": [
    "from sklearn.model_selection import KFold"
   ]
  },
  {
   "cell_type": "code",
   "execution_count": 12,
   "metadata": {},
   "outputs": [],
   "source": [
    "# hyper parameters\n",
    "HP_N_FACTORS = [80, 125]\n",
    "HP_N_HIDDEN_1 = [[50,25], [75,30]]\n",
    "HP_N_HIDDEN_2 = [[50,25], [75,30]]\n",
    "# HP_DROPOUT_2 = [0, .2, .25]"
   ]
  },
  {
   "cell_type": "code",
   "execution_count": 13,
   "metadata": {},
   "outputs": [
    {
     "name": "stdout",
     "output_type": "stream",
     "text": [
      "Fitting total of 8 models\n",
      "\n",
      "Fitting CGT model #1 with 80: [50, 25] | [50, 25] architecture\n",
      "_____________________________________CV avg val loss=0.7801\n",
      "_____________________________________CV avg val acc=0.6612\n",
      "\n",
      "Fitting CGT model #2 with 80: [50, 25] | [75, 30] architecture\n",
      "_____________________________________CV avg val loss=0.7781\n",
      "_____________________________________CV avg val acc=0.6618\n",
      "\n",
      "Fitting CGT model #3 with 80: [75, 30] | [50, 25] architecture\n",
      "_____________________________________CV avg val loss=0.7755\n",
      "_____________________________________CV avg val acc=0.6675\n",
      "\n",
      "Fitting CGT model #4 with 80: [75, 30] | [75, 30] architecture\n",
      "_____________________________________CV avg val loss=0.7769\n",
      "_____________________________________CV avg val acc=0.6657\n",
      "\n",
      "Fitting CGT model #5 with 125: [50, 25] | [50, 25] architecture\n",
      "_____________________________________CV avg val loss=0.7755\n",
      "_____________________________________CV avg val acc=0.6693\n",
      "\n",
      "Fitting CGT model #6 with 125: [50, 25] | [75, 30] architecture\n",
      "_____________________________________CV avg val loss=0.7735\n",
      "_____________________________________CV avg val acc=0.6810\n",
      "\n",
      "Fitting CGT model #7 with 125: [75, 30] | [50, 25] architecture\n",
      "_____________________________________CV avg val loss=0.7755\n",
      "_____________________________________CV avg val acc=0.6711\n",
      "\n",
      "Fitting CGT model #8 with 125: [75, 30] | [75, 30] architecture\n",
      "_____________________________________CV avg val loss=0.7681\n",
      "_____________________________________CV avg val acc=0.6807\n",
      "\n"
     ]
    }
   ],
   "source": [
    "# dataframe to store results of grid search\n",
    "grid_results = []\n",
    "searches = 1\n",
    "\n",
    "n_models = len(HP_N_FACTORS) * len(HP_N_HIDDEN_1) * len(HP_N_HIDDEN_2)\n",
    "\n",
    "print(f'Fitting total of {n_models} models\\n')\n",
    "\n",
    "for N_FACTORS in HP_N_FACTORS:\n",
    "    for N_HIDDEN_1 in HP_N_HIDDEN_1:\n",
    "        for N_HIDDEN_2 in HP_N_HIDDEN_2:\n",
    "            \n",
    "            print(f'Fitting CGT model #{searches} with {N_FACTORS}: {N_HIDDEN_1} | {N_HIDDEN_2} architecture')\n",
    "            searches += 1\n",
    "            \n",
    "            # Create 5 CV folds\n",
    "            kf = KFold(n_splits=5, random_state=42)\n",
    "            \n",
    "            # initialise loss and epoch count\n",
    "            total_loss = 0\n",
    "            total_acc = 0\n",
    "            count = 1\n",
    "            min_epochs = 10\n",
    "            \n",
    "            # do CV split and compute baseline predictors each time\n",
    "            for train_index, test_index in kf.split(movies):\n",
    "                \n",
    "                # get baseline rating predictors for full dataset\n",
    "                train, _, _ = get_baseline(df, df.index, df.index)\n",
    "\n",
    "                # compile both models with search hparams\n",
    "                model1, model2 = compile_genre_model(\n",
    "                    n_items = df.movieId.nunique(),\n",
    "                    n_users = df.userId.nunique(),\n",
    "                    mean_rating = df.rating.mean(),\n",
    "                    n_latent=N_FACTORS, \n",
    "                    n_hidden_1=N_HIDDEN_1,\n",
    "                    n_hidden_2=N_HIDDEN_2\n",
    "                )\n",
    "\n",
    "                # train rating model on all data\n",
    "                ratings = model1.fit(\n",
    "                    x=[train.userId.values, train.movieId.values, train.bias.values],\n",
    "                    y=train.rating.values, \n",
    "                    batch_size=512,\n",
    "                    epochs=10,\n",
    "                    verbose=0,\n",
    "                    validation_split=.2\n",
    "                )\n",
    "                \n",
    "                # train genre model on 5 CV folds\n",
    "                train = movies.iloc[train_index]\n",
    "                test = movies.iloc[test_index]\n",
    "                \n",
    "                # train model on current fold\n",
    "                result = model2.fit(\n",
    "                    train.movieId.values, train.Drama.values,\n",
    "                    batch_size=64, \n",
    "                    epochs=7,\n",
    "                    verbose=0,\n",
    "                    validation_data=(test.movieId.values, test.Drama.values))\n",
    "                \n",
    "                # get loss from this fold\n",
    "                fold_loss = np.sqrt(np.min(result.history['val_loss']))\n",
    "                total_loss += fold_loss\n",
    "                fold_acc = np.max(result.history['val_accuracy'])\n",
    "                total_acc += fold_acc\n",
    "                min_epochs = min(np.argmin(result.history['val_loss']) + 1, min_epochs)\n",
    "                \n",
    "                count += 1\n",
    "                \n",
    "                del model1, model2\n",
    "            \n",
    "            # calculate average holdout loss across all CV folds\n",
    "            avg_loss = total_loss / 5\n",
    "            avg_acc = total_acc / 5\n",
    "            print(f'_____________________________________CV avg val loss={avg_loss:.4f}')\n",
    "            print(f'_____________________________________CV avg val acc={avg_acc:.4f}')\n",
    "            \n",
    "            grid_results.append({'n_factors':N_FACTORS,\n",
    "                                 'n_hidden_1':N_HIDDEN_1,\n",
    "                                 'n_hidden_2':N_HIDDEN_2,\n",
    "                                 'val_loss':avg_loss,\n",
    "                                 'val_acc':avg_acc,\n",
    "                                 'val_epochs':min_epochs,\n",
    "                                 'train_loss_hist':result.history['loss'],\n",
    "                                 'val_loss_hist':result.history['val_loss'],\n",
    "                                 'train_acc_hist':result.history['accuracy'],\n",
    "                                 'val_acc_hist':result.history['val_accuracy']})\n",
    "            \n",
    "            print()\n",
    "#             break\n",
    "#         break\n",
    "#     break\n",
    "    \n",
    "col_order = grid_results[0].keys()\n",
    "\n",
    "# save results to data frame\n",
    "grid_results = pd.DataFrame(grid_results)\n",
    "# reorder columns\n",
    "grid_results = grid_results[col_order]"
   ]
  },
  {
   "cell_type": "code",
   "execution_count": 28,
   "metadata": {},
   "outputs": [
    {
     "data": {
      "text/html": [
       "<div>\n",
       "<style scoped>\n",
       "    .dataframe tbody tr th:only-of-type {\n",
       "        vertical-align: middle;\n",
       "    }\n",
       "\n",
       "    .dataframe tbody tr th {\n",
       "        vertical-align: top;\n",
       "    }\n",
       "\n",
       "    .dataframe thead th {\n",
       "        text-align: right;\n",
       "    }\n",
       "</style>\n",
       "<table border=\"1\" class=\"dataframe\">\n",
       "  <thead>\n",
       "    <tr style=\"text-align: right;\">\n",
       "      <th></th>\n",
       "      <th>n_factors</th>\n",
       "      <th>n_hidden_1</th>\n",
       "      <th>n_hidden_2</th>\n",
       "      <th>val_loss</th>\n",
       "      <th>val_acc</th>\n",
       "      <th>val_epochs</th>\n",
       "      <th>train_loss_hist</th>\n",
       "      <th>val_loss_hist</th>\n",
       "      <th>train_acc_hist</th>\n",
       "      <th>val_acc_hist</th>\n",
       "    </tr>\n",
       "  </thead>\n",
       "  <tbody>\n",
       "    <tr>\n",
       "      <th>7</th>\n",
       "      <td>125</td>\n",
       "      <td>[75, 30]</td>\n",
       "      <td>[75, 30]</td>\n",
       "      <td>0.768144</td>\n",
       "      <td>0.680660</td>\n",
       "      <td>5</td>\n",
       "      <td>[0.6516038301823914, 0.6188819747993435, 0.604...</td>\n",
       "      <td>[0.6085118051769136, 0.5944362971736216, 0.587...</td>\n",
       "      <td>[0.62668663, 0.6510495, 0.67653674, 0.6814093,...</td>\n",
       "      <td>[0.65817094, 0.66266865, 0.6671664, 0.6791604,...</td>\n",
       "    </tr>\n",
       "    <tr>\n",
       "      <th>5</th>\n",
       "      <td>125</td>\n",
       "      <td>[50, 25]</td>\n",
       "      <td>[75, 30]</td>\n",
       "      <td>0.773502</td>\n",
       "      <td>0.680960</td>\n",
       "      <td>5</td>\n",
       "      <td>[0.648276660753333, 0.6209289292166794, 0.6094...</td>\n",
       "      <td>[0.6077777636104795, 0.6019471875731198, 0.591...</td>\n",
       "      <td>[0.6124438, 0.6536732, 0.66229385, 0.6637931, ...</td>\n",
       "      <td>[0.62968516, 0.65067464, 0.6596702, 0.6611694,...</td>\n",
       "    </tr>\n",
       "    <tr>\n",
       "      <th>2</th>\n",
       "      <td>80</td>\n",
       "      <td>[75, 30]</td>\n",
       "      <td>[50, 25]</td>\n",
       "      <td>0.775465</td>\n",
       "      <td>0.667466</td>\n",
       "      <td>6</td>\n",
       "      <td>[0.659447443717602, 0.6280349148088309, 0.6080...</td>\n",
       "      <td>[0.6191043647332884, 0.6045266489932563, 0.597...</td>\n",
       "      <td>[0.59407794, 0.62931037, 0.6649175, 0.67053974...</td>\n",
       "      <td>[0.64767617, 0.64767617, 0.65817094, 0.6746626...</td>\n",
       "    </tr>\n",
       "    <tr>\n",
       "      <th>4</th>\n",
       "      <td>125</td>\n",
       "      <td>[50, 25]</td>\n",
       "      <td>[50, 25]</td>\n",
       "      <td>0.775474</td>\n",
       "      <td>0.669265</td>\n",
       "      <td>5</td>\n",
       "      <td>[0.6741383246396078, 0.6313591390356668, 0.613...</td>\n",
       "      <td>[0.6381233700033071, 0.6085406860847702, 0.594...</td>\n",
       "      <td>[0.5869565, 0.65067464, 0.66641676, 0.6697901,...</td>\n",
       "      <td>[0.64617693, 0.6371814, 0.64767617, 0.66866565...</td>\n",
       "    </tr>\n",
       "    <tr>\n",
       "      <th>6</th>\n",
       "      <td>125</td>\n",
       "      <td>[75, 30]</td>\n",
       "      <td>[50, 25]</td>\n",
       "      <td>0.775514</td>\n",
       "      <td>0.671064</td>\n",
       "      <td>5</td>\n",
       "      <td>[0.6686386842241531, 0.6256352842658356, 0.607...</td>\n",
       "      <td>[0.6380402334090294, 0.6093116290029558, 0.597...</td>\n",
       "      <td>[0.6195652, 0.65817094, 0.6656672, 0.6750375, ...</td>\n",
       "      <td>[0.65217394, 0.65817094, 0.66266865, 0.6671664...</td>\n",
       "    </tr>\n",
       "    <tr>\n",
       "      <th>3</th>\n",
       "      <td>80</td>\n",
       "      <td>[75, 30]</td>\n",
       "      <td>[75, 30]</td>\n",
       "      <td>0.776855</td>\n",
       "      <td>0.665667</td>\n",
       "      <td>4</td>\n",
       "      <td>[0.6604224264711097, 0.6170788032897766, 0.608...</td>\n",
       "      <td>[0.6234075243862672, 0.6086458072312053, 0.603...</td>\n",
       "      <td>[0.61806595, 0.67053974, 0.67428786, 0.69003, ...</td>\n",
       "      <td>[0.64767617, 0.6431784, 0.6431784, 0.6536732, ...</td>\n",
       "    </tr>\n",
       "    <tr>\n",
       "      <th>1</th>\n",
       "      <td>80</td>\n",
       "      <td>[50, 25]</td>\n",
       "      <td>[75, 30]</td>\n",
       "      <td>0.778117</td>\n",
       "      <td>0.661769</td>\n",
       "      <td>5</td>\n",
       "      <td>[0.659990242753608, 0.6297948173675938, 0.6273...</td>\n",
       "      <td>[0.6227238390041792, 0.6144421952239041, 0.610...</td>\n",
       "      <td>[0.6045727, 0.6435532, 0.6409295, 0.65029985, ...</td>\n",
       "      <td>[0.63868064, 0.64017993, 0.6611694, 0.6656672,...</td>\n",
       "    </tr>\n",
       "    <tr>\n",
       "      <th>0</th>\n",
       "      <td>80</td>\n",
       "      <td>[50, 25]</td>\n",
       "      <td>[50, 25]</td>\n",
       "      <td>0.780125</td>\n",
       "      <td>0.661169</td>\n",
       "      <td>4</td>\n",
       "      <td>[0.6789088356441286, 0.641806790138828, 0.6251...</td>\n",
       "      <td>[0.6523347529156812, 0.6161402604211753, 0.606...</td>\n",
       "      <td>[0.5850825, 0.6413044, 0.6615442, 0.6577961, 0...</td>\n",
       "      <td>[0.6281859, 0.64767617, 0.65067464, 0.6656672,...</td>\n",
       "    </tr>\n",
       "  </tbody>\n",
       "</table>\n",
       "</div>"
      ],
      "text/plain": [
       "   n_factors n_hidden_1 n_hidden_2  val_loss   val_acc  val_epochs  \\\n",
       "7        125   [75, 30]   [75, 30]  0.768144  0.680660           5   \n",
       "5        125   [50, 25]   [75, 30]  0.773502  0.680960           5   \n",
       "2         80   [75, 30]   [50, 25]  0.775465  0.667466           6   \n",
       "4        125   [50, 25]   [50, 25]  0.775474  0.669265           5   \n",
       "6        125   [75, 30]   [50, 25]  0.775514  0.671064           5   \n",
       "3         80   [75, 30]   [75, 30]  0.776855  0.665667           4   \n",
       "1         80   [50, 25]   [75, 30]  0.778117  0.661769           5   \n",
       "0         80   [50, 25]   [50, 25]  0.780125  0.661169           4   \n",
       "\n",
       "                                     train_loss_hist  \\\n",
       "7  [0.6516038301823914, 0.6188819747993435, 0.604...   \n",
       "5  [0.648276660753333, 0.6209289292166794, 0.6094...   \n",
       "2  [0.659447443717602, 0.6280349148088309, 0.6080...   \n",
       "4  [0.6741383246396078, 0.6313591390356668, 0.613...   \n",
       "6  [0.6686386842241531, 0.6256352842658356, 0.607...   \n",
       "3  [0.6604224264711097, 0.6170788032897766, 0.608...   \n",
       "1  [0.659990242753608, 0.6297948173675938, 0.6273...   \n",
       "0  [0.6789088356441286, 0.641806790138828, 0.6251...   \n",
       "\n",
       "                                       val_loss_hist  \\\n",
       "7  [0.6085118051769136, 0.5944362971736216, 0.587...   \n",
       "5  [0.6077777636104795, 0.6019471875731198, 0.591...   \n",
       "2  [0.6191043647332884, 0.6045266489932563, 0.597...   \n",
       "4  [0.6381233700033071, 0.6085406860847702, 0.594...   \n",
       "6  [0.6380402334090294, 0.6093116290029558, 0.597...   \n",
       "3  [0.6234075243862672, 0.6086458072312053, 0.603...   \n",
       "1  [0.6227238390041792, 0.6144421952239041, 0.610...   \n",
       "0  [0.6523347529156812, 0.6161402604211753, 0.606...   \n",
       "\n",
       "                                      train_acc_hist  \\\n",
       "7  [0.62668663, 0.6510495, 0.67653674, 0.6814093,...   \n",
       "5  [0.6124438, 0.6536732, 0.66229385, 0.6637931, ...   \n",
       "2  [0.59407794, 0.62931037, 0.6649175, 0.67053974...   \n",
       "4  [0.5869565, 0.65067464, 0.66641676, 0.6697901,...   \n",
       "6  [0.6195652, 0.65817094, 0.6656672, 0.6750375, ...   \n",
       "3  [0.61806595, 0.67053974, 0.67428786, 0.69003, ...   \n",
       "1  [0.6045727, 0.6435532, 0.6409295, 0.65029985, ...   \n",
       "0  [0.5850825, 0.6413044, 0.6615442, 0.6577961, 0...   \n",
       "\n",
       "                                        val_acc_hist  \n",
       "7  [0.65817094, 0.66266865, 0.6671664, 0.6791604,...  \n",
       "5  [0.62968516, 0.65067464, 0.6596702, 0.6611694,...  \n",
       "2  [0.64767617, 0.64767617, 0.65817094, 0.6746626...  \n",
       "4  [0.64617693, 0.6371814, 0.64767617, 0.66866565...  \n",
       "6  [0.65217394, 0.65817094, 0.66266865, 0.6671664...  \n",
       "3  [0.64767617, 0.6431784, 0.6431784, 0.6536732, ...  \n",
       "1  [0.63868064, 0.64017993, 0.6611694, 0.6656672,...  \n",
       "0  [0.6281859, 0.64767617, 0.65067464, 0.6656672,...  "
      ]
     },
     "execution_count": 28,
     "metadata": {},
     "output_type": "execute_result"
    }
   ],
   "source": [
    "# get best 10 models\n",
    "grid_results = grid_results.sort_values('val_loss')\n",
    "grid_results.to_csv(path+'grid_results.csv', index=False)\n",
    "\n",
    "grid_results.head(10)"
   ]
  },
  {
   "cell_type": "code",
   "execution_count": 29,
   "metadata": {},
   "outputs": [
    {
     "data": {
      "image/png": "[encoded data removed]",
      "text/plain": [
       "<Figure size 432x288 with 1 Axes>"
      ]
     },
     "metadata": {
      "needs_background": "light"
     },
     "output_type": "display_data"
    }
   ],
   "source": [
    "# plot training curve of best model\n",
    "plt.plot(grid_results.train_loss_hist.values[0], label='train')\n",
    "plt.plot(grid_results.val_loss_hist.values[0], label='test')\n",
    "plt.title('Train vs validation loss')\n",
    "plt.legend()\n",
    "plt.show()"
   ]
  },
  {
   "cell_type": "code",
   "execution_count": 30,
   "metadata": {},
   "outputs": [
    {
     "data": {
      "image/png": "[encoded data removed]",
      "text/plain": [
       "<Figure size 432x288 with 1 Axes>"
      ]
     },
     "metadata": {
      "needs_background": "light"
     },
     "output_type": "display_data"
    }
   ],
   "source": [
    "# train vs test accuracy\n",
    "plt.plot(grid_results.train_acc_hist.values[0], label='train')\n",
    "plt.plot(grid_results.val_acc_hist.values[0], label='test')\n",
    "plt.title('Train vs validation accuracy')\n",
    "plt.legend()\n",
    "plt.show()"
   ]
  },
  {
   "cell_type": "code",
   "execution_count": 31,
   "metadata": {},
   "outputs": [
    {
     "data": {
      "text/plain": [
       "n_factors          125\n",
       "n_hidden_1    [75, 30]\n",
       "n_hidden_2    [75, 30]\n",
       "Name: 7, dtype: object"
      ]
     },
     "execution_count": 31,
     "metadata": {},
     "output_type": "execute_result"
    }
   ],
   "source": [
    "best_rating_hparams = grid_results.iloc[0,:][['n_factors' ,'n_hidden_1', 'n_hidden_2']]\n",
    "best_rating_hparams"
   ]
  },
  {
   "cell_type": "code",
   "execution_count": 32,
   "metadata": {},
   "outputs": [
    {
     "data": {
      "image/png": "[encoded data removed]",
      "text/plain": [
       "<Figure size 432x288 with 1 Axes>"
      ]
     },
     "metadata": {
      "needs_background": "light"
     },
     "output_type": "display_data"
    }
   ],
   "source": [
    "sns.scatterplot(x='n_factors',\n",
    "                y='val_loss',\n",
    "#                 hue='n_hidden_2',\n",
    "#                 size='n_hidden_2',\n",
    "#                 palette='Set3',\n",
    "                data=grid_results)\n",
    "plt.show()"
   ]
  },
  {
   "cell_type": "markdown",
   "metadata": {},
   "source": [
    "## Classification report"
   ]
  },
  {
   "cell_type": "code",
   "execution_count": 33,
   "metadata": {},
   "outputs": [],
   "source": [
    "from sklearn.metrics import classification_report, confusion_matrix, precision_score, recall_score, f1_score"
   ]
  },
  {
   "cell_type": "markdown",
   "metadata": {},
   "source": [
    "### Re-train model on full dataset, with best hparams"
   ]
  },
  {
   "cell_type": "code",
   "execution_count": 34,
   "metadata": {},
   "outputs": [
    {
     "name": "stdout",
     "output_type": "stream",
     "text": [
      "Train on 800167 samples, validate on 200042 samples\n",
      "Epoch 1/10\n",
      "800167/800167 [==============================] - 53s 66us/sample - loss: 0.8196 - val_loss: 0.8703\n",
      "Epoch 2/10\n",
      "800167/800167 [==============================] - 55s 69us/sample - loss: 0.7776 - val_loss: 0.8734\n",
      "Epoch 3/10\n",
      "800167/800167 [==============================] - 58s 72us/sample - loss: 0.7564 - val_loss: 0.8744\n",
      "Epoch 4/10\n",
      "800167/800167 [==============================] - 64s 79us/sample - loss: 0.7427 - val_loss: 0.8777\n",
      "Epoch 5/10\n",
      "800167/800167 [==============================] - 64s 79us/sample - loss: 0.7301 - val_loss: 0.8787\n",
      "Epoch 6/10\n",
      "800167/800167 [==============================] - 63s 79us/sample - loss: 0.7164 - val_loss: 0.8832\n",
      "Epoch 7/10\n",
      "800167/800167 [==============================] - 64s 80us/sample - loss: 0.7048 - val_loss: 0.8892\n",
      "Epoch 8/10\n",
      "800167/800167 [==============================] - 67s 83us/sample - loss: 0.6938 - val_loss: 0.8899\n",
      "Epoch 9/10\n",
      "800167/800167 [==============================] - 66s 82us/sample - loss: 0.6849 - val_loss: 0.8867\n",
      "Epoch 10/10\n",
      "800167/800167 [==============================] - 66s 83us/sample - loss: 0.6772 - val_loss: 0.8934\n",
      "Train on 2668 samples, validate on 667 samples\n",
      "Epoch 1/7\n",
      "2668/2668 [==============================] - 3s 963us/sample - loss: 0.6600 - accuracy: 0.5836 - AUC: 0.6215 - val_loss: 0.6070 - val_accuracy: 0.6537 - val_AUC: 0.6816\n",
      "Epoch 2/7\n",
      "2668/2668 [==============================] - 0s 78us/sample - loss: 0.6164 - accuracy: 0.6578 - AUC: 0.7023 - val_loss: 0.5908 - val_accuracy: 0.6732 - val_AUC: 0.7063\n",
      "Epoch 3/7\n",
      "2668/2668 [==============================] - 0s 80us/sample - loss: 0.6030 - accuracy: 0.6720 - AUC: 0.7228 - val_loss: 0.5809 - val_accuracy: 0.6867 - val_AUC: 0.7266\n",
      "Epoch 4/7\n",
      "2668/2668 [==============================] - 0s 74us/sample - loss: 0.5949 - accuracy: 0.6814 - AUC: 0.7353 - val_loss: 0.5761 - val_accuracy: 0.6942 - val_AUC: 0.7340\n",
      "Epoch 5/7\n",
      "2668/2668 [==============================] - 0s 77us/sample - loss: 0.5851 - accuracy: 0.6833 - AUC: 0.7431 - val_loss: 0.5745 - val_accuracy: 0.6912 - val_AUC: 0.7373\n",
      "Epoch 6/7\n",
      "2668/2668 [==============================] - 0s 73us/sample - loss: 0.5808 - accuracy: 0.6893 - AUC: 0.7473 - val_loss: 0.5742 - val_accuracy: 0.6912 - val_AUC: 0.7395\n",
      "Epoch 7/7\n",
      "2668/2668 [==============================] - 0s 80us/sample - loss: 0.5850 - accuracy: 0.6822 - AUC: 0.7447 - val_loss: 0.5740 - val_accuracy: 0.7046 - val_AUC: 0.7377\n"
     ]
    }
   ],
   "source": [
    "# get baseline predictors for full dataset\n",
    "train, _, _ = get_baseline(df, df.index, df.index)\n",
    "\n",
    "# compile both models\n",
    "model1, model2 = compile_genre_model(\n",
    "    n_items = df.movieId.nunique(),\n",
    "    n_users = df.userId.nunique(),\n",
    "    mean_rating = df.rating.mean(), \n",
    "    n_latent=best_rating_hparams.n_factors, \n",
    "    n_hidden_1=best_rating_hparams.n_hidden_1,\n",
    "    n_hidden_2=best_rating_hparams.n_hidden_2\n",
    ")\n",
    "\n",
    "# train rating model\n",
    "ratings = model1.fit(\n",
    "    x=[train.userId.values, train.movieId.values, train.bias.values],\n",
    "    y=train.rating.values, \n",
    "    batch_size=256,\n",
    "    epochs=10,\n",
    "    verbose=1,\n",
    "    validation_split=.2\n",
    ")\n",
    "\n",
    "# train genre model\n",
    "genres = model2.fit(\n",
    "    movies.movieId.values, movies.Drama.values,\n",
    "    batch_size=64, \n",
    "    epochs=7,\n",
    "    validation_split=.2)"
   ]
  },
  {
   "cell_type": "code",
   "execution_count": 21,
   "metadata": {},
   "outputs": [
    {
     "name": "stderr",
     "output_type": "stream",
     "text": [
      "WARNING: Logging before flag parsing goes to stderr.\n",
      "W1011 14:07:04.437685  9640 training.py:2090] Discrepancy between trainable weights and collected trainable weights, did you set `model.trainable` without calling `model.compile` after ?\n"
     ]
    },
    {
     "name": "stdout",
     "output_type": "stream",
     "text": [
      "Model: \"model_80\"\n",
      "__________________________________________________________________________________________________\n",
      "Layer (type)                    Output Shape         Param #     Connected to                     \n",
      "==================================================================================================\n",
      "input_121 (InputLayer)          [(None, 1)]          0                                            \n",
      "__________________________________________________________________________________________________\n",
      "input_122 (InputLayer)          [(None, 1)]          0                                            \n",
      "__________________________________________________________________________________________________\n",
      "embedding_80 (Embedding)        (None, 1, 125)       463250      input_121[0][0]                  \n",
      "__________________________________________________________________________________________________\n",
      "embedding_81 (Embedding)        (None, 1, 125)       755000      input_122[0][0]                  \n",
      "__________________________________________________________________________________________________\n",
      "flatten_80 (Flatten)            (None, 125)          0           embedding_80[0][0]               \n",
      "__________________________________________________________________________________________________\n",
      "flatten_81 (Flatten)            (None, 125)          0           embedding_81[0][0]               \n",
      "__________________________________________________________________________________________________\n",
      "concatenate_40 (Concatenate)    (None, 250)          0           flatten_80[0][0]                 \n",
      "                                                                 flatten_81[0][0]                 \n",
      "__________________________________________________________________________________________________\n",
      "dense_240 (Dense)               (None, 75)           18825       concatenate_40[0][0]             \n",
      "__________________________________________________________________________________________________\n",
      "leaky_re_lu_160 (LeakyReLU)     (None, 75)           0           dense_240[0][0]                  \n",
      "__________________________________________________________________________________________________\n",
      "dropout_160 (Dropout)           (None, 75)           0           leaky_re_lu_160[0][0]            \n",
      "__________________________________________________________________________________________________\n",
      "dense_241 (Dense)               (None, 30)           2280        dropout_160[0][0]                \n",
      "__________________________________________________________________________________________________\n",
      "leaky_re_lu_161 (LeakyReLU)     (None, 30)           0           dense_241[0][0]                  \n",
      "__________________________________________________________________________________________________\n",
      "dropout_161 (Dropout)           (None, 30)           0           leaky_re_lu_161[0][0]            \n",
      "__________________________________________________________________________________________________\n",
      "dense_242 (Dense)               (None, 1)            31          dropout_161[0][0]                \n",
      "__________________________________________________________________________________________________\n",
      "input_123 (InputLayer)          [(None, 1)]          0                                            \n",
      "__________________________________________________________________________________________________\n",
      "add_40 (Add)                    (None, 1)            0           dense_242[0][0]                  \n",
      "                                                                 input_123[0][0]                  \n",
      "__________________________________________________________________________________________________\n",
      "tf_op_layer_Add_41 (TensorFlowO [(None, 1)]          0           add_40[0][0]                     \n",
      "==================================================================================================\n",
      "Total params: 1,702,636\n",
      "Trainable params: 1,239,386\n",
      "Non-trainable params: 463,250\n",
      "__________________________________________________________________________________________________\n"
     ]
    }
   ],
   "source": [
    "model1.summary()"
   ]
  },
  {
   "cell_type": "code",
   "execution_count": 22,
   "metadata": {},
   "outputs": [
    {
     "name": "stdout",
     "output_type": "stream",
     "text": [
      "Model: \"model_81\"\n",
      "_________________________________________________________________\n",
      "Layer (type)                 Output Shape              Param #   \n",
      "=================================================================\n",
      "input_121 (InputLayer)       [(None, 1)]               0         \n",
      "_________________________________________________________________\n",
      "embedding_80 (Embedding)     (None, 1, 125)            463250    \n",
      "_________________________________________________________________\n",
      "flatten_80 (Flatten)         (None, 125)               0         \n",
      "_________________________________________________________________\n",
      "dense_243 (Dense)            (None, 75)                9450      \n",
      "_________________________________________________________________\n",
      "leaky_re_lu_162 (LeakyReLU)  (None, 75)                0         \n",
      "_________________________________________________________________\n",
      "dropout_162 (Dropout)        (None, 75)                0         \n",
      "_________________________________________________________________\n",
      "dense_244 (Dense)            (None, 30)                2280      \n",
      "_________________________________________________________________\n",
      "leaky_re_lu_163 (LeakyReLU)  (None, 30)                0         \n",
      "_________________________________________________________________\n",
      "dropout_163 (Dropout)        (None, 30)                0         \n",
      "_________________________________________________________________\n",
      "dense_245 (Dense)            (None, 1)                 31        \n",
      "=================================================================\n",
      "Total params: 475,011\n",
      "Trainable params: 11,761\n",
      "Non-trainable params: 463,250\n",
      "_________________________________________________________________\n"
     ]
    }
   ],
   "source": [
    "model2.summary()"
   ]
  },
  {
   "cell_type": "markdown",
   "metadata": {},
   "source": [
    "### Evaluate on test set"
   ]
  },
  {
   "cell_type": "code",
   "execution_count": 23,
   "metadata": {},
   "outputs": [],
   "source": [
    "X_test = movies_holdout.movieId.values\n",
    "y_test = movies_holdout.Drama.values\n",
    "y_score = pd.DataFrame(model2.predict(X_test))\n",
    "y_pred = y_score.round().astype('int')"
   ]
  },
  {
   "cell_type": "code",
   "execution_count": 24,
   "metadata": {},
   "outputs": [
    {
     "name": "stdout",
     "output_type": "stream",
     "text": [
      "              precision    recall  f1-score   support\n",
      "\n",
      "           0       0.72      0.77      0.75       227\n",
      "           1       0.60      0.53      0.56       144\n",
      "\n",
      "    accuracy                           0.68       371\n",
      "   macro avg       0.66      0.65      0.66       371\n",
      "weighted avg       0.67      0.68      0.68       371\n",
      "\n"
     ]
    }
   ],
   "source": [
    "print(classification_report(y_test, y_pred))"
   ]
  },
  {
   "cell_type": "code",
   "execution_count": 25,
   "metadata": {},
   "outputs": [
    {
     "data": {
      "text/html": [
       "<div>\n",
       "<style scoped>\n",
       "    .dataframe tbody tr th:only-of-type {\n",
       "        vertical-align: middle;\n",
       "    }\n",
       "\n",
       "    .dataframe tbody tr th {\n",
       "        vertical-align: top;\n",
       "    }\n",
       "\n",
       "    .dataframe thead th {\n",
       "        text-align: right;\n",
       "    }\n",
       "</style>\n",
       "<table border=\"1\" class=\"dataframe\">\n",
       "  <thead>\n",
       "    <tr style=\"text-align: right;\">\n",
       "      <th></th>\n",
       "      <th>0</th>\n",
       "      <th>1</th>\n",
       "    </tr>\n",
       "  </thead>\n",
       "  <tbody>\n",
       "    <tr>\n",
       "      <th>0</th>\n",
       "      <td>175</td>\n",
       "      <td>52</td>\n",
       "    </tr>\n",
       "    <tr>\n",
       "      <th>1</th>\n",
       "      <td>67</td>\n",
       "      <td>77</td>\n",
       "    </tr>\n",
       "  </tbody>\n",
       "</table>\n",
       "</div>"
      ],
      "text/plain": [
       "     0   1\n",
       "0  175  52\n",
       "1   67  77"
      ]
     },
     "execution_count": 25,
     "metadata": {},
     "output_type": "execute_result"
    }
   ],
   "source": [
    "pd.DataFrame(confusion_matrix(y_test, y_pred))"
   ]
  }
 ],
 "metadata": {
  "kernelspec": {
   "display_name": "Python 3",
   "language": "python",
   "name": "python3"
  },
  "language_info": {
   "codemirror_mode": {
    "name": "ipython",
    "version": 3
   },
   "file_extension": ".py",
   "mimetype": "text/x-python",
   "name": "python",
   "nbconvert_exporter": "python",
   "pygments_lexer": "ipython3",
   "version": "3.7.3"
  }
 },
 "nbformat": 4,
 "nbformat_minor": 4
}
