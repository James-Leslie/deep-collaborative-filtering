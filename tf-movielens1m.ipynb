{
 "cells": [
  {
   "cell_type": "markdown",
   "metadata": {},
   "source": [
    "# MovieLens 1m Collaborative Genre Tagging\n",
    "**To do**:\n",
    "  - try out [this implementation](https://www.onceupondata.com/2019/02/10/nn-collaborative-filtering/) of baseline features. \n",
    "  - create object classes for models\n",
    "  - implement TF 2.0 data classes\n",
    "  - [paperswithcode link](https://paperswithcode.com/sota/collaborative-filtering-on-movielens-100k)\n",
    "  - [ML 100k state of the art paper](https://arxiv.org/pdf/1706.02263v2.pdf) (RMSE=0.905): details their evaluation method\n",
    "  \n",
    "[![Colab](https://colab.research.google.com/assets/colab-badge.svg)](https://colab.research.google.com/github/James-Leslie/deep-collaborative-filtering/blob/master/tf-movielens1m.ipynb)"
   ]
  },
  {
   "cell_type": "code",
   "execution_count": 1,
   "metadata": {},
   "outputs": [],
   "source": [
    "import numpy as np\n",
    "import pandas as pd\n",
    "import matplotlib.pyplot as plt\n",
    "import seaborn as sns\n",
    "import tensorflow as tf\n",
    "\n",
    "%matplotlib inline"
   ]
  },
  {
   "cell_type": "markdown",
   "metadata": {},
   "source": [
    "## Load rating data"
   ]
  },
  {
   "cell_type": "code",
   "execution_count": 2,
   "metadata": {},
   "outputs": [],
   "source": [
    "# path = 'https://raw.githubusercontent.com/James-Leslie/deep-collaborative-filtering/master/data/ml-100k/'  # access from anywhere\n",
    "path = 'data/ml-1m/'  # if the files are local\n",
    "df = pd.read_csv(path+'ratings.csv', usecols=['userId','movieId','rating'])"
   ]
  },
  {
   "cell_type": "code",
   "execution_count": 3,
   "metadata": {},
   "outputs": [
    {
     "data": {
      "text/html": [
       "<div>\n",
       "<style scoped>\n",
       "    .dataframe tbody tr th:only-of-type {\n",
       "        vertical-align: middle;\n",
       "    }\n",
       "\n",
       "    .dataframe tbody tr th {\n",
       "        vertical-align: top;\n",
       "    }\n",
       "\n",
       "    .dataframe thead th {\n",
       "        text-align: right;\n",
       "    }\n",
       "</style>\n",
       "<table border=\"1\" class=\"dataframe\">\n",
       "  <thead>\n",
       "    <tr style=\"text-align: right;\">\n",
       "      <th></th>\n",
       "      <th>userId</th>\n",
       "      <th>movieId</th>\n",
       "      <th>rating</th>\n",
       "    </tr>\n",
       "  </thead>\n",
       "  <tbody>\n",
       "    <tr>\n",
       "      <th>0</th>\n",
       "      <td>0</td>\n",
       "      <td>0</td>\n",
       "      <td>3</td>\n",
       "    </tr>\n",
       "    <tr>\n",
       "      <th>1</th>\n",
       "      <td>1</td>\n",
       "      <td>1</td>\n",
       "      <td>3</td>\n",
       "    </tr>\n",
       "    <tr>\n",
       "      <th>2</th>\n",
       "      <td>2</td>\n",
       "      <td>2</td>\n",
       "      <td>1</td>\n",
       "    </tr>\n",
       "    <tr>\n",
       "      <th>3</th>\n",
       "      <td>3</td>\n",
       "      <td>3</td>\n",
       "      <td>2</td>\n",
       "    </tr>\n",
       "    <tr>\n",
       "      <th>4</th>\n",
       "      <td>4</td>\n",
       "      <td>4</td>\n",
       "      <td>1</td>\n",
       "    </tr>\n",
       "  </tbody>\n",
       "</table>\n",
       "</div>"
      ],
      "text/plain": [
       "   userId  movieId  rating\n",
       "0       0        0       3\n",
       "1       1        1       3\n",
       "2       2        2       1\n",
       "3       3        3       2\n",
       "4       4        4       1"
      ]
     },
     "execution_count": 3,
     "metadata": {},
     "output_type": "execute_result"
    }
   ],
   "source": [
    "df.head()"
   ]
  },
  {
   "cell_type": "code",
   "execution_count": 4,
   "metadata": {},
   "outputs": [
    {
     "data": {
      "text/plain": [
       "(100000, 3)"
      ]
     },
     "execution_count": 4,
     "metadata": {},
     "output_type": "execute_result"
    }
   ],
   "source": [
    "df.shape"
   ]
  },
  {
   "cell_type": "code",
   "execution_count": 5,
   "metadata": {},
   "outputs": [
    {
     "name": "stdout",
     "output_type": "stream",
     "text": [
      "Number of users: 943\n",
      "Number of items: 1682\n",
      "Min item rating: 1\n",
      "Max item rating: 5\n",
      "Mean item rating: 3.52986\n"
     ]
    }
   ],
   "source": [
    "print('Number of users:', df.userId.nunique())\n",
    "print('Number of items:', df.movieId.nunique())\n",
    "print(\"Min item rating:\", df.rating.min())\n",
    "print(\"Max item rating:\", df.rating.max())\n",
    "print(\"Mean item rating:\", df.rating.mean())"
   ]
  },
  {
   "cell_type": "markdown",
   "metadata": {},
   "source": [
    "## Load movie metadata\n",
    "  - remove 10% as holdout test set"
   ]
  },
  {
   "cell_type": "code",
   "execution_count": 6,
   "metadata": {},
   "outputs": [
    {
     "data": {
      "text/html": [
       "<div>\n",
       "<style scoped>\n",
       "    .dataframe tbody tr th:only-of-type {\n",
       "        vertical-align: middle;\n",
       "    }\n",
       "\n",
       "    .dataframe tbody tr th {\n",
       "        vertical-align: top;\n",
       "    }\n",
       "\n",
       "    .dataframe thead th {\n",
       "        text-align: right;\n",
       "    }\n",
       "</style>\n",
       "<table border=\"1\" class=\"dataframe\">\n",
       "  <thead>\n",
       "    <tr style=\"text-align: right;\">\n",
       "      <th></th>\n",
       "      <th>movieId</th>\n",
       "      <th>title</th>\n",
       "      <th>releaseDate</th>\n",
       "      <th>link</th>\n",
       "      <th>unknown</th>\n",
       "      <th>Action</th>\n",
       "      <th>Adventure</th>\n",
       "      <th>Animation</th>\n",
       "      <th>Children's</th>\n",
       "      <th>Comedy</th>\n",
       "      <th>...</th>\n",
       "      <th>Fantasy</th>\n",
       "      <th>Film-Noir</th>\n",
       "      <th>Horror</th>\n",
       "      <th>Musical</th>\n",
       "      <th>Mystery</th>\n",
       "      <th>Romance</th>\n",
       "      <th>Sci-Fi</th>\n",
       "      <th>Thriller</th>\n",
       "      <th>War</th>\n",
       "      <th>Western</th>\n",
       "    </tr>\n",
       "  </thead>\n",
       "  <tbody>\n",
       "    <tr>\n",
       "      <th>0</th>\n",
       "      <td>24</td>\n",
       "      <td>Toy Story (1995)</td>\n",
       "      <td>01-Jan-1995</td>\n",
       "      <td>http://us.imdb.com/M/title-exact?Toy%20Story%2...</td>\n",
       "      <td>0</td>\n",
       "      <td>0</td>\n",
       "      <td>0</td>\n",
       "      <td>1</td>\n",
       "      <td>1</td>\n",
       "      <td>1</td>\n",
       "      <td>...</td>\n",
       "      <td>0</td>\n",
       "      <td>0</td>\n",
       "      <td>0</td>\n",
       "      <td>0</td>\n",
       "      <td>0</td>\n",
       "      <td>0</td>\n",
       "      <td>0</td>\n",
       "      <td>0</td>\n",
       "      <td>0</td>\n",
       "      <td>0</td>\n",
       "    </tr>\n",
       "    <tr>\n",
       "      <th>1</th>\n",
       "      <td>147</td>\n",
       "      <td>GoldenEye (1995)</td>\n",
       "      <td>01-Jan-1995</td>\n",
       "      <td>http://us.imdb.com/M/title-exact?GoldenEye%20(...</td>\n",
       "      <td>0</td>\n",
       "      <td>1</td>\n",
       "      <td>1</td>\n",
       "      <td>0</td>\n",
       "      <td>0</td>\n",
       "      <td>0</td>\n",
       "      <td>...</td>\n",
       "      <td>0</td>\n",
       "      <td>0</td>\n",
       "      <td>0</td>\n",
       "      <td>0</td>\n",
       "      <td>0</td>\n",
       "      <td>0</td>\n",
       "      <td>0</td>\n",
       "      <td>1</td>\n",
       "      <td>0</td>\n",
       "      <td>0</td>\n",
       "    </tr>\n",
       "    <tr>\n",
       "      <th>2</th>\n",
       "      <td>233</td>\n",
       "      <td>Four Rooms (1995)</td>\n",
       "      <td>01-Jan-1995</td>\n",
       "      <td>http://us.imdb.com/M/title-exact?Four%20Rooms%...</td>\n",
       "      <td>0</td>\n",
       "      <td>0</td>\n",
       "      <td>0</td>\n",
       "      <td>0</td>\n",
       "      <td>0</td>\n",
       "      <td>0</td>\n",
       "      <td>...</td>\n",
       "      <td>0</td>\n",
       "      <td>0</td>\n",
       "      <td>0</td>\n",
       "      <td>0</td>\n",
       "      <td>0</td>\n",
       "      <td>0</td>\n",
       "      <td>0</td>\n",
       "      <td>1</td>\n",
       "      <td>0</td>\n",
       "      <td>0</td>\n",
       "    </tr>\n",
       "    <tr>\n",
       "      <th>3</th>\n",
       "      <td>47</td>\n",
       "      <td>Get Shorty (1995)</td>\n",
       "      <td>01-Jan-1995</td>\n",
       "      <td>http://us.imdb.com/M/title-exact?Get%20Shorty%...</td>\n",
       "      <td>0</td>\n",
       "      <td>1</td>\n",
       "      <td>0</td>\n",
       "      <td>0</td>\n",
       "      <td>0</td>\n",
       "      <td>1</td>\n",
       "      <td>...</td>\n",
       "      <td>0</td>\n",
       "      <td>0</td>\n",
       "      <td>0</td>\n",
       "      <td>0</td>\n",
       "      <td>0</td>\n",
       "      <td>0</td>\n",
       "      <td>0</td>\n",
       "      <td>0</td>\n",
       "      <td>0</td>\n",
       "      <td>0</td>\n",
       "    </tr>\n",
       "    <tr>\n",
       "      <th>4</th>\n",
       "      <td>75</td>\n",
       "      <td>Copycat (1995)</td>\n",
       "      <td>01-Jan-1995</td>\n",
       "      <td>http://us.imdb.com/M/title-exact?Copycat%20(1995)</td>\n",
       "      <td>0</td>\n",
       "      <td>0</td>\n",
       "      <td>0</td>\n",
       "      <td>0</td>\n",
       "      <td>0</td>\n",
       "      <td>0</td>\n",
       "      <td>...</td>\n",
       "      <td>0</td>\n",
       "      <td>0</td>\n",
       "      <td>0</td>\n",
       "      <td>0</td>\n",
       "      <td>0</td>\n",
       "      <td>0</td>\n",
       "      <td>0</td>\n",
       "      <td>1</td>\n",
       "      <td>0</td>\n",
       "      <td>0</td>\n",
       "    </tr>\n",
       "  </tbody>\n",
       "</table>\n",
       "<p>5 rows × 23 columns</p>\n",
       "</div>"
      ],
      "text/plain": [
       "   movieId              title  releaseDate  \\\n",
       "0       24   Toy Story (1995)  01-Jan-1995   \n",
       "1      147   GoldenEye (1995)  01-Jan-1995   \n",
       "2      233  Four Rooms (1995)  01-Jan-1995   \n",
       "3       47  Get Shorty (1995)  01-Jan-1995   \n",
       "4       75     Copycat (1995)  01-Jan-1995   \n",
       "\n",
       "                                                link  unknown  Action  \\\n",
       "0  http://us.imdb.com/M/title-exact?Toy%20Story%2...        0       0   \n",
       "1  http://us.imdb.com/M/title-exact?GoldenEye%20(...        0       1   \n",
       "2  http://us.imdb.com/M/title-exact?Four%20Rooms%...        0       0   \n",
       "3  http://us.imdb.com/M/title-exact?Get%20Shorty%...        0       1   \n",
       "4  http://us.imdb.com/M/title-exact?Copycat%20(1995)        0       0   \n",
       "\n",
       "   Adventure  Animation  Children's  Comedy  ...  Fantasy  Film-Noir  Horror  \\\n",
       "0          0          1           1       1  ...        0          0       0   \n",
       "1          1          0           0       0  ...        0          0       0   \n",
       "2          0          0           0       0  ...        0          0       0   \n",
       "3          0          0           0       1  ...        0          0       0   \n",
       "4          0          0           0       0  ...        0          0       0   \n",
       "\n",
       "   Musical  Mystery  Romance  Sci-Fi  Thriller  War  Western  \n",
       "0        0        0        0       0         0    0        0  \n",
       "1        0        0        0       0         1    0        0  \n",
       "2        0        0        0       0         1    0        0  \n",
       "3        0        0        0       0         0    0        0  \n",
       "4        0        0        0       0         1    0        0  \n",
       "\n",
       "[5 rows x 23 columns]"
      ]
     },
     "execution_count": 6,
     "metadata": {},
     "output_type": "execute_result"
    }
   ],
   "source": [
    "movies = pd.read_csv(path+'movies.csv')\n",
    "movies.head()"
   ]
  },
  {
   "cell_type": "code",
   "execution_count": 7,
   "metadata": {},
   "outputs": [],
   "source": [
    "from sklearn.model_selection import train_test_split"
   ]
  },
  {
   "cell_type": "code",
   "execution_count": 8,
   "metadata": {},
   "outputs": [],
   "source": [
    "movies, movies_holdout = train_test_split(movies, test_size=.1, random_state=42)"
   ]
  },
  {
   "cell_type": "markdown",
   "metadata": {},
   "source": [
    "---\n",
    "# Create baseline features\n",
    "For each user, calculate average user bias - the average difference between the user's rating and the movie's average rating:\n",
    "\n",
    "$$b_{u} = \\dfrac{\\sum_{j=1}^{n_u} (r_{uj} - \\mu_i)}{n_u}$$\n",
    "\n",
    "For each item, calculate the difference between its average rating and the average rating of all movies:\n",
    "\n",
    "$$b_{i} = \\dfrac{\\sum_{k=1}^{n_i} (r_{ki})}{n_i} - \\mu$$\n",
    "\n",
    "Then, for each interaction, calculate the combined bias:\n",
    "\n",
    "$$b_{ui} = \\dfrac{b_u + b_i}{2}$$"
   ]
  },
  {
   "cell_type": "code",
   "execution_count": 9,
   "metadata": {},
   "outputs": [
    {
     "data": {
      "text/plain": [
       "\u001b[1;31mSignature:\u001b[0m \u001b[0mget_baseline\u001b[0m\u001b[1;33m(\u001b[0m\u001b[0mdf\u001b[0m\u001b[1;33m,\u001b[0m \u001b[0mtrain_index\u001b[0m\u001b[1;33m,\u001b[0m \u001b[0mtest_index\u001b[0m\u001b[1;33m,\u001b[0m \u001b[0muser_col\u001b[0m\u001b[1;33m,\u001b[0m \u001b[0mitem_col\u001b[0m\u001b[1;33m)\u001b[0m\u001b[1;33m\u001b[0m\u001b[1;33m\u001b[0m\u001b[0m\n",
       "\u001b[1;31mDocstring:\u001b[0m\n",
       "Calculate baseline features from an explicit ratings dataset. Receives a dataframe\n",
       "and returns train and test splits with added bias column and mean rating value.\n",
       "User and item biases are calculated as average difference from global mean rating.\n",
       "Baseline factors are only calculated from training observations, with users or\n",
       "items that do not appear in train receiving the global average as default.\n",
       "\n",
       "Args:\n",
       "    df          : explicit ratings dataframe with columns userId, movieId and rating\n",
       "    train_index : train index splits taken from KFold.splits()\n",
       "    test_index  : test index splits taken from KFold.splits()\n",
       "    \n",
       "Returns:\n",
       "    train, test : train/test splits of df, with added bias column\n",
       "    global_mean : average rating of all training observations\n",
       "\u001b[1;31mFile:\u001b[0m      c:\\users\\jleslie\\documents\\deep-collaborative-filtering\\cgt.py\n",
       "\u001b[1;31mType:\u001b[0m      function\n"
      ]
     },
     "metadata": {},
     "output_type": "display_data"
    }
   ],
   "source": [
    "from CGT import get_baseline\n",
    "?get_baseline"
   ]
  },
  {
   "cell_type": "markdown",
   "metadata": {},
   "source": [
    "---\n",
    "# CGT model\n",
    "**To do**:\n",
    "  - Can we avoid re-training rating model on CV fold?\n",
    "  - Create a grid search function / class"
   ]
  },
  {
   "cell_type": "code",
   "execution_count": 10,
   "metadata": {},
   "outputs": [
    {
     "data": {
      "text/plain": [
       "\u001b[1;31mSignature:\u001b[0m\n",
       "\u001b[0mcompile_genre_model\u001b[0m\u001b[1;33m(\u001b[0m\u001b[1;33m\n",
       "\u001b[0m    \u001b[0mn_items\u001b[0m\u001b[1;33m,\u001b[0m\u001b[1;33m\n",
       "\u001b[0m    \u001b[0mn_users\u001b[0m\u001b[1;33m,\u001b[0m\u001b[1;33m\n",
       "\u001b[0m    \u001b[0mmin_rating\u001b[0m\u001b[1;33m,\u001b[0m\u001b[1;33m\n",
       "\u001b[0m    \u001b[0mmax_rating\u001b[0m\u001b[1;33m,\u001b[0m\u001b[1;33m\n",
       "\u001b[0m    \u001b[0mmean_rating\u001b[0m\u001b[1;33m,\u001b[0m\u001b[1;33m\n",
       "\u001b[0m    \u001b[0mn_latent\u001b[0m\u001b[1;33m=\u001b[0m\u001b[1;36m1000\u001b[0m\u001b[1;33m,\u001b[0m\u001b[1;33m\n",
       "\u001b[0m    \u001b[0mn_hidden_1\u001b[0m\u001b[1;33m=\u001b[0m\u001b[1;32mNone\u001b[0m\u001b[1;33m,\u001b[0m\u001b[1;33m\n",
       "\u001b[0m    \u001b[0mn_hidden_2\u001b[0m\u001b[1;33m=\u001b[0m\u001b[1;36m200\u001b[0m\u001b[1;33m,\u001b[0m\u001b[1;33m\n",
       "\u001b[0m    \u001b[0mactivation\u001b[0m\u001b[1;33m=\u001b[0m\u001b[1;34m'relu'\u001b[0m\u001b[1;33m,\u001b[0m\u001b[1;33m\n",
       "\u001b[0m    \u001b[0mdropout_1\u001b[0m\u001b[1;33m=\u001b[0m\u001b[1;36m0.2\u001b[0m\u001b[1;33m,\u001b[0m\u001b[1;33m\n",
       "\u001b[0m    \u001b[0mdropout_2\u001b[0m\u001b[1;33m=\u001b[0m\u001b[1;36m0.2\u001b[0m\u001b[1;33m,\u001b[0m\u001b[1;33m\n",
       "\u001b[0m    \u001b[0mrandom_seed\u001b[0m\u001b[1;33m=\u001b[0m\u001b[1;36m42\u001b[0m\u001b[1;33m,\u001b[0m\u001b[1;33m\n",
       "\u001b[0m\u001b[1;33m)\u001b[0m\u001b[1;33m\u001b[0m\u001b[1;33m\u001b[0m\u001b[0m\n",
       "\u001b[1;31mDocstring:\u001b[0m <no docstring>\n",
       "\u001b[1;31mFile:\u001b[0m      c:\\users\\jleslie\\documents\\deep-collaborative-filtering\\cgt.py\n",
       "\u001b[1;31mType:\u001b[0m      function\n"
      ]
     },
     "metadata": {},
     "output_type": "display_data"
    }
   ],
   "source": [
    "from CGT import compile_genre_model\n",
    "?compile_genre_model"
   ]
  },
  {
   "cell_type": "markdown",
   "metadata": {},
   "source": [
    "---\n",
    "## Grid search\n",
    "**To do**: try using [tqdm](https://github.com/tqdm/tqdm) notebook bars\n",
    "\n",
    "```bash\n",
    "# bash\n",
    "pip install --upgrade ipywidgets \n",
    "jupyter nbextension enable --py widgetsnbextension\n",
    "jupyter labextension install @jupyter-widgets/jupyterlab-manager\n",
    "```\n",
    "\n",
    "```python\n",
    "# python\n",
    "from tqdm.notebook import trange, tqdm\n",
    "from time import sleep\n",
    "\n",
    "for i in trange(3, desc='1st loop'):\n",
    "    for j in tqdm(range(100), desc='2nd loop'):\n",
    "        sleep(0.01)\n",
    "```"
   ]
  },
  {
   "cell_type": "markdown",
   "metadata": {},
   "source": [
    "## 1. Number of latent factors and hidden nodes"
   ]
  },
  {
   "cell_type": "code",
   "execution_count": 11,
   "metadata": {},
   "outputs": [],
   "source": [
    "from sklearn.model_selection import KFold"
   ]
  },
  {
   "cell_type": "code",
   "execution_count": 12,
   "metadata": {},
   "outputs": [],
   "source": [
    "bs1 = 2048\n",
    "bs2 = 128"
   ]
  },
  {
   "cell_type": "code",
   "execution_count": 12,
   "metadata": {},
   "outputs": [],
   "source": [
    "# hyper parameters\n",
    "HP_N_FACTORS = [200, 1000]\n",
    "HP_N_HIDDEN_2 = [[100], [200], [500]]"
   ]
  },
  {
   "cell_type": "code",
   "execution_count": 13,
   "metadata": {},
   "outputs": [
    {
     "name": "stdout",
     "output_type": "stream",
     "text": [
      "Fitting total of 20 models\n",
      "\n",
      "Fitting CGT model #1 with 200 | [50] architecture\n",
      "_____________________________________CV avg val loss=0.6247\n",
      "_____________________________________CV avg val acc=0.6206\n",
      "\n",
      "Fitting CGT model #2 with 200 | [100] architecture\n",
      "_____________________________________CV avg val loss=0.6162\n",
      "_____________________________________CV avg val acc=0.6325\n",
      "\n",
      "Fitting CGT model #3 with 200 | [200] architecture\n",
      "_____________________________________CV avg val loss=0.6060\n",
      "_____________________________________CV avg val acc=0.6411\n",
      "\n",
      "Fitting CGT model #4 with 200 | [500] architecture\n",
      "_____________________________________CV avg val loss=0.6039\n",
      "_____________________________________CV avg val acc=0.6398\n",
      "\n",
      "Fitting CGT model #5 with 500 | [50] architecture\n",
      "_____________________________________CV avg val loss=0.6169\n",
      "_____________________________________CV avg val acc=0.6339\n",
      "\n",
      "Fitting CGT model #6 with 500 | [100] architecture\n",
      "_____________________________________CV avg val loss=0.6107\n",
      "_____________________________________CV avg val acc=0.6464\n",
      "\n",
      "Fitting CGT model #7 with 500 | [200] architecture\n",
      "_____________________________________CV avg val loss=0.6068\n",
      "_____________________________________CV avg val acc=0.6504\n",
      "\n",
      "Fitting CGT model #8 with 500 | [500] architecture\n",
      "_____________________________________CV avg val loss=0.6079\n",
      "_____________________________________CV avg val acc=0.6537\n",
      "\n",
      "Fitting CGT model #9 with 1000 | [50] architecture\n",
      "_____________________________________CV avg val loss=0.6054\n",
      "_____________________________________CV avg val acc=0.6530\n",
      "\n",
      "Fitting CGT model #10 with 1000 | [100] architecture\n",
      "_____________________________________CV avg val loss=0.5999\n",
      "_____________________________________CV avg val acc=0.6590\n",
      "\n",
      "Fitting CGT model #11 with 1000 | [200] architecture\n",
      "_____________________________________CV avg val loss=0.5983\n",
      "_____________________________________CV avg val acc=0.6689\n",
      "\n",
      "Fitting CGT model #12 with 1000 | [500] architecture\n",
      "_____________________________________CV avg val loss=0.6118\n",
      "_____________________________________CV avg val acc=0.6669\n",
      "\n",
      "Fitting CGT model #13 with 1500 | [50] architecture\n",
      "_____________________________________CV avg val loss=0.6145\n",
      "_____________________________________CV avg val acc=0.6266\n",
      "\n",
      "Fitting CGT model #14 with 1500 | [100] architecture\n",
      "_____________________________________CV avg val loss=0.6128\n",
      "_____________________________________CV avg val acc=0.6358\n",
      "\n",
      "Fitting CGT model #15 with 1500 | [200] architecture\n",
      "_____________________________________CV avg val loss=0.6224\n",
      "_____________________________________CV avg val acc=0.6299\n",
      "\n",
      "Fitting CGT model #16 with 1500 | [500] architecture\n",
      "_____________________________________CV avg val loss=0.6488\n",
      "_____________________________________CV avg val acc=0.6319\n",
      "\n",
      "Fitting CGT model #17 with 2000 | [50] architecture\n",
      "_____________________________________CV avg val loss=0.6109\n",
      "_____________________________________CV avg val acc=0.6332\n",
      "\n",
      "Fitting CGT model #18 with 2000 | [100] architecture\n",
      "_____________________________________CV avg val loss=0.6111\n",
      "_____________________________________CV avg val acc=0.6371\n",
      "\n",
      "Fitting CGT model #19 with 2000 | [200] architecture\n",
      "_____________________________________CV avg val loss=0.6190\n",
      "_____________________________________CV avg val acc=0.6358\n",
      "\n",
      "Fitting CGT model #20 with 2000 | [500] architecture\n",
      "_____________________________________CV avg val loss=0.6535\n",
      "_____________________________________CV avg val acc=0.6404\n",
      "\n"
     ]
    }
   ],
   "source": [
    "# dataframe to store results of grid search\n",
    "grid_results = []\n",
    "searches = 1\n",
    "\n",
    "n_models = len(HP_N_FACTORS) * len(HP_N_HIDDEN_2)\n",
    "\n",
    "print(f'Fitting total of {n_models} models\\n')\n",
    "\n",
    "for N_FACTORS in HP_N_FACTORS:\n",
    "    for N_HIDDEN_2 in HP_N_HIDDEN_2:\n",
    "\n",
    "        print(f'Fitting CGT model #{searches} with {N_FACTORS} | {N_HIDDEN_2} architecture')\n",
    "        searches += 1\n",
    "\n",
    "        # Create 5 CV folds\n",
    "        kf = KFold(n_splits=5, random_state=42)\n",
    "\n",
    "        # initialise loss and epoch count\n",
    "        total_loss = 0\n",
    "        total_acc = 0\n",
    "        count = 1\n",
    "\n",
    "        # do CV split and compute baseline predictors each time\n",
    "        for train_index, test_index in kf.split(movies):\n",
    "\n",
    "            # get baseline rating predictors for full dataset\n",
    "            train, _, _ = get_baseline(df, df.index, df.index, 'userId', 'movieId')\n",
    "\n",
    "            # compile both models with search hparams\n",
    "            model1, model2 = compile_genre_model(\n",
    "                n_items=df.movieId.nunique(),\n",
    "                n_users=df.userId.nunique(),\n",
    "                min_rating=df.rating.min(),\n",
    "                max_rating=df.rating.max(),\n",
    "                mean_rating=df.rating.mean(),\n",
    "                n_latent=N_FACTORS,\n",
    "                n_hidden_2=N_HIDDEN_2\n",
    "            )\n",
    "\n",
    "            # train rating model on all data\n",
    "            ratings = model1.fit(\n",
    "                x=[train.userId.values, train.movieId.values, train.bias.values],\n",
    "                y=train.rating.values, \n",
    "                batch_size=bs1,\n",
    "                epochs=6,\n",
    "                verbose=0,\n",
    "                validation_split=.2\n",
    "            )\n",
    "\n",
    "            # train genre model on 5 CV folds\n",
    "            train = movies.iloc[train_index]\n",
    "            test = movies.iloc[test_index]\n",
    "\n",
    "            # train model on current fold\n",
    "            result = model2.fit(\n",
    "                train.movieId.values, train.Drama.values,\n",
    "                batch_size=bs2, \n",
    "                epochs=6,\n",
    "                verbose=0,\n",
    "                validation_data=(test.movieId.values, test.Drama.values))\n",
    "\n",
    "            # get loss from this fold\n",
    "            fold_loss = result.history['val_loss'][-1]\n",
    "            total_loss += fold_loss\n",
    "            fold_acc = result.history['val_accuracy'][-1]\n",
    "            total_acc += fold_acc\n",
    "\n",
    "            count += 1\n",
    "\n",
    "            del model1, model2\n",
    "\n",
    "        # calculate average holdout loss across all CV folds\n",
    "        avg_loss = total_loss / 5\n",
    "        avg_acc = total_acc / 5\n",
    "        print(f'_____________________________________CV avg val loss={avg_loss:.4f}')\n",
    "        print(f'_____________________________________CV avg val acc={avg_acc:.4f}')\n",
    "\n",
    "        grid_results.append({'n_factors':N_FACTORS,\n",
    "                             'n_hidden_2':N_HIDDEN_2,\n",
    "                             'val_loss':avg_loss,\n",
    "                             'val_acc':avg_acc,\n",
    "                             'train_loss_hist':result.history['loss'],\n",
    "                             'val_loss_hist':result.history['val_loss'],\n",
    "                             'train_acc_hist':result.history['accuracy'],\n",
    "                             'val_acc_hist':result.history['val_accuracy']})\n",
    "\n",
    "        print()\n",
    "#             break\n",
    "#         break\n",
    "#     break\n",
    "    \n",
    "col_order = grid_results[0].keys()\n",
    "\n",
    "# save results to data frame\n",
    "grid_results = pd.DataFrame(grid_results)\n",
    "# reorder columns\n",
    "grid_results = grid_results[col_order]"
   ]
  },
  {
   "cell_type": "code",
   "execution_count": 14,
   "metadata": {},
   "outputs": [
    {
     "data": {
      "text/html": [
       "<div>\n",
       "<style scoped>\n",
       "    .dataframe tbody tr th:only-of-type {\n",
       "        vertical-align: middle;\n",
       "    }\n",
       "\n",
       "    .dataframe tbody tr th {\n",
       "        vertical-align: top;\n",
       "    }\n",
       "\n",
       "    .dataframe thead th {\n",
       "        text-align: right;\n",
       "    }\n",
       "</style>\n",
       "<table border=\"1\" class=\"dataframe\">\n",
       "  <thead>\n",
       "    <tr style=\"text-align: right;\">\n",
       "      <th></th>\n",
       "      <th>n_factors</th>\n",
       "      <th>n_hidden_2</th>\n",
       "      <th>val_loss</th>\n",
       "      <th>val_acc</th>\n",
       "      <th>train_loss_hist</th>\n",
       "      <th>val_loss_hist</th>\n",
       "      <th>train_acc_hist</th>\n",
       "      <th>val_acc_hist</th>\n",
       "    </tr>\n",
       "  </thead>\n",
       "  <tbody>\n",
       "    <tr>\n",
       "      <td>10</td>\n",
       "      <td>1000</td>\n",
       "      <td>[200]</td>\n",
       "      <td>0.598341</td>\n",
       "      <td>0.668874</td>\n",
       "      <td>[0.6685975318502336, 0.5946533097697131, 0.543...</td>\n",
       "      <td>[0.6332836834010699, 0.5998335212271735, 0.588...</td>\n",
       "      <td>[0.58133775, 0.6985962, 0.7464905, 0.7993394, ...</td>\n",
       "      <td>[0.65562916, 0.6589404, 0.678808, 0.6655629, 0...</td>\n",
       "    </tr>\n",
       "    <tr>\n",
       "      <td>9</td>\n",
       "      <td>1000</td>\n",
       "      <td>[100]</td>\n",
       "      <td>0.599852</td>\n",
       "      <td>0.658960</td>\n",
       "      <td>[0.679020067269304, 0.6205177954855682, 0.5787...</td>\n",
       "      <td>[0.6483843223938089, 0.613364580451258, 0.5958...</td>\n",
       "      <td>[0.56234515, 0.6804294, 0.7043765, 0.7580512, ...</td>\n",
       "      <td>[0.6589404, 0.66225165, 0.66225165, 0.65562916...</td>\n",
       "    </tr>\n",
       "    <tr>\n",
       "      <td>3</td>\n",
       "      <td>200</td>\n",
       "      <td>[500]</td>\n",
       "      <td>0.603915</td>\n",
       "      <td>0.639796</td>\n",
       "      <td>[0.6639730370704248, 0.609666292771734, 0.5761...</td>\n",
       "      <td>[0.6269864270229213, 0.6029461085401624, 0.598...</td>\n",
       "      <td>[0.59207267, 0.63996696, 0.68620974, 0.7225433...</td>\n",
       "      <td>[0.6456954, 0.6655629, 0.62913907, 0.62913907,...</td>\n",
       "    </tr>\n",
       "    <tr>\n",
       "      <td>8</td>\n",
       "      <td>1000</td>\n",
       "      <td>[50]</td>\n",
       "      <td>0.605436</td>\n",
       "      <td>0.653030</td>\n",
       "      <td>[0.6819795165841586, 0.6372907824697424, 0.601...</td>\n",
       "      <td>[0.6608261110766834, 0.6307241214032204, 0.609...</td>\n",
       "      <td>[0.57720894, 0.67299753, 0.6919901, 0.7332783,...</td>\n",
       "      <td>[0.6456954, 0.6589404, 0.66225165, 0.68543047,...</td>\n",
       "    </tr>\n",
       "    <tr>\n",
       "      <td>2</td>\n",
       "      <td>200</td>\n",
       "      <td>[200]</td>\n",
       "      <td>0.606037</td>\n",
       "      <td>0.641114</td>\n",
       "      <td>[0.6704468265434221, 0.6296900419732148, 0.605...</td>\n",
       "      <td>[0.6425172374737973, 0.6158717223350575, 0.604...</td>\n",
       "      <td>[0.5962015, 0.63170934, 0.6606111, 0.6911643, ...</td>\n",
       "      <td>[0.60596025, 0.6423841, 0.66225165, 0.6490066,...</td>\n",
       "    </tr>\n",
       "  </tbody>\n",
       "</table>\n",
       "</div>"
      ],
      "text/plain": [
       "    n_factors n_hidden_2  val_loss   val_acc  \\\n",
       "10       1000      [200]  0.598341  0.668874   \n",
       "9        1000      [100]  0.599852  0.658960   \n",
       "3         200      [500]  0.603915  0.639796   \n",
       "8        1000       [50]  0.605436  0.653030   \n",
       "2         200      [200]  0.606037  0.641114   \n",
       "\n",
       "                                      train_loss_hist  \\\n",
       "10  [0.6685975318502336, 0.5946533097697131, 0.543...   \n",
       "9   [0.679020067269304, 0.6205177954855682, 0.5787...   \n",
       "3   [0.6639730370704248, 0.609666292771734, 0.5761...   \n",
       "8   [0.6819795165841586, 0.6372907824697424, 0.601...   \n",
       "2   [0.6704468265434221, 0.6296900419732148, 0.605...   \n",
       "\n",
       "                                        val_loss_hist  \\\n",
       "10  [0.6332836834010699, 0.5998335212271735, 0.588...   \n",
       "9   [0.6483843223938089, 0.613364580451258, 0.5958...   \n",
       "3   [0.6269864270229213, 0.6029461085401624, 0.598...   \n",
       "8   [0.6608261110766834, 0.6307241214032204, 0.609...   \n",
       "2   [0.6425172374737973, 0.6158717223350575, 0.604...   \n",
       "\n",
       "                                       train_acc_hist  \\\n",
       "10  [0.58133775, 0.6985962, 0.7464905, 0.7993394, ...   \n",
       "9   [0.56234515, 0.6804294, 0.7043765, 0.7580512, ...   \n",
       "3   [0.59207267, 0.63996696, 0.68620974, 0.7225433...   \n",
       "8   [0.57720894, 0.67299753, 0.6919901, 0.7332783,...   \n",
       "2   [0.5962015, 0.63170934, 0.6606111, 0.6911643, ...   \n",
       "\n",
       "                                         val_acc_hist  \n",
       "10  [0.65562916, 0.6589404, 0.678808, 0.6655629, 0...  \n",
       "9   [0.6589404, 0.66225165, 0.66225165, 0.65562916...  \n",
       "3   [0.6456954, 0.6655629, 0.62913907, 0.62913907,...  \n",
       "8   [0.6456954, 0.6589404, 0.66225165, 0.68543047,...  \n",
       "2   [0.60596025, 0.6423841, 0.66225165, 0.6490066,...  "
      ]
     },
     "execution_count": 14,
     "metadata": {},
     "output_type": "execute_result"
    }
   ],
   "source": [
    "# get best 5 models\n",
    "grid_results = grid_results.sort_values('val_loss')\n",
    "grid_results.to_csv(path+'grid_results.csv', index=False)\n",
    "\n",
    "grid_results.head(5)"
   ]
  },
  {
   "cell_type": "code",
   "execution_count": 17,
   "metadata": {},
   "outputs": [
    {
     "data": {
      "text/plain": [
       "n_factors      1000\n",
       "n_hidden_2    [200]\n",
       "Name: 10, dtype: object"
      ]
     },
     "execution_count": 17,
     "metadata": {},
     "output_type": "execute_result"
    }
   ],
   "source": [
    "best_hparams = grid_results.iloc[0,:][['n_factors', 'n_hidden_2']]\n",
    "best_hparams"
   ]
  },
  {
   "cell_type": "markdown",
   "metadata": {},
   "source": [
    "## 2. Number of epochs"
   ]
  },
  {
   "cell_type": "code",
   "execution_count": 27,
   "metadata": {},
   "outputs": [],
   "source": [
    "best_hparams = pd.Series({'n_factors': 1000, 'n_hidden_2': [200]})"
   ]
  },
  {
   "cell_type": "code",
   "execution_count": 14,
   "metadata": {},
   "outputs": [
    {
     "name": "stdout",
     "output_type": "stream",
     "text": [
      "Train on 80000 samples, validate on 20000 samples\n",
      "Epoch 1/10\n",
      "80000/80000 [==============================] - 6s 76us/sample - loss: 0.9479 - val_loss: 0.9290\n",
      "Epoch 2/10\n",
      "80000/80000 [==============================] - 6s 69us/sample - loss: 0.7535 - val_loss: 0.8814\n",
      "Epoch 3/10\n",
      "80000/80000 [==============================] - 5s 68us/sample - loss: 0.4572 - val_loss: 0.8368\n",
      "Epoch 4/10\n",
      "80000/80000 [==============================] - 6s 72us/sample - loss: 0.2048 - val_loss: 0.8340\n",
      "Epoch 5/10\n",
      "80000/80000 [==============================] - 6s 75us/sample - loss: 0.0739 - val_loss: 0.8428\n",
      "Epoch 6/10\n",
      "80000/80000 [==============================] - 6s 75us/sample - loss: 0.0256 - val_loss: 0.8495\n",
      "Epoch 7/10\n",
      "80000/80000 [==============================] - 6s 77us/sample - loss: 0.0096 - val_loss: 0.8526\n",
      "Epoch 8/10\n",
      "80000/80000 [==============================] - 6s 75us/sample - loss: 0.0045 - val_loss: 0.8541\n",
      "Epoch 9/10\n",
      "80000/80000 [==============================] - 6s 76us/sample - loss: 0.0031 - val_loss: 0.8545\n",
      "Epoch 10/10\n",
      "80000/80000 [==============================] - 6s 80us/sample - loss: 0.0029 - val_loss: 0.8549\n"
     ]
    }
   ],
   "source": [
    "# get baseline predictors for full dataset\n",
    "train, _, _ = get_baseline(df, df.index, df.index, 'userId', 'movieId')\n",
    "\n",
    "# compile both models\n",
    "model1, model2 = compile_genre_model(\n",
    "    n_items=df.movieId.nunique(),\n",
    "    n_users=df.userId.nunique(),\n",
    "    min_rating=df.rating.min(),\n",
    "    max_rating=df.rating.max(),\n",
    "    mean_rating=df.rating.mean(),\n",
    "    n_latent=best_hparams.n_factors,\n",
    "    n_hidden_2=best_hparams.n_hidden_2\n",
    ")\n",
    "\n",
    "# train rating model\n",
    "training = model1.fit(\n",
    "    x=[train.userId.values, train.movieId.values, train.bias.values],\n",
    "    y=train.rating.values, \n",
    "    batch_size=bs1,\n",
    "    epochs=10,\n",
    "    verbose=1,\n",
    "    validation_split=.2\n",
    ")"
   ]
  },
  {
   "cell_type": "code",
   "execution_count": 15,
   "metadata": {},
   "outputs": [],
   "source": [
    "sns.set(style='whitegrid', palette='muted',\n",
    "        rc={'figure.figsize': (16,9),\n",
    "            'font.family': 'serif'})"
   ]
  },
  {
   "cell_type": "code",
   "execution_count": 16,
   "metadata": {},
   "outputs": [
    {
     "data": {
      "image/png": "[encoded data removed]",
      "text/plain": [
       "<Figure size 1152x648 with 1 Axes>"
      ]
     },
     "metadata": {},
     "output_type": "display_data"
    }
   ],
   "source": [
    "# plot training curve of best model\n",
    "plt.plot(np.arange(1,11,1), training.history['loss'], label='train')\n",
    "plt.plot(np.arange(1,11,1), training.history['val_loss'], label='validation')\n",
    "plt.xticks(np.arange(1,11,1))\n",
    "plt.title('Rating model, train vs validation loss', fontsize=14)\n",
    "plt.ylabel('Mean Squared Error')\n",
    "plt.xlabel('Number of Epochs')\n",
    "plt.legend()\n",
    "plt.savefig('figures/5_ml100k-rating-epochs.pdf')\n",
    "plt.show()"
   ]
  },
  {
   "cell_type": "code",
   "execution_count": 25,
   "metadata": {},
   "outputs": [
    {
     "ename": "NameError",
     "evalue": "name 'best_hparams' is not defined",
     "output_type": "error",
     "traceback": [
      "\u001b[1;31m---------------------------------------------------------------------------\u001b[0m",
      "\u001b[1;31mNameError\u001b[0m                                 Traceback (most recent call last)",
      "\u001b[1;32m<ipython-input-25-20458093a109>\u001b[0m in \u001b[0;36m<module>\u001b[1;34m\u001b[0m\n\u001b[1;32m----> 1\u001b[1;33m \u001b[0mbest_hparams\u001b[0m \u001b[1;33m=\u001b[0m \u001b[0mpd\u001b[0m\u001b[1;33m.\u001b[0m\u001b[0mconcat\u001b[0m\u001b[1;33m(\u001b[0m\u001b[1;33m(\u001b[0m\u001b[0mbest_hparams\u001b[0m\u001b[1;33m,\u001b[0m \u001b[0mpd\u001b[0m\u001b[1;33m.\u001b[0m\u001b[0mSeries\u001b[0m\u001b[1;33m(\u001b[0m\u001b[1;33m{\u001b[0m\u001b[1;34m'epoch_1'\u001b[0m\u001b[1;33m:\u001b[0m \u001b[1;36m4\u001b[0m\u001b[1;33m,\u001b[0m \u001b[1;34m'epoch_2'\u001b[0m\u001b[1;33m:\u001b[0m \u001b[1;36m4\u001b[0m\u001b[1;33m}\u001b[0m\u001b[1;33m)\u001b[0m\u001b[1;33m)\u001b[0m\u001b[1;33m)\u001b[0m\u001b[1;33m\u001b[0m\u001b[1;33m\u001b[0m\u001b[0m\n\u001b[0m",
      "\u001b[1;31mNameError\u001b[0m: name 'best_hparams' is not defined"
     ]
    }
   ],
   "source": [
    "best_hparams = pd.concat((best_hparams, pd.Series({'epoch_1': np.argmin(training.history['val_loss'])+1})))\n",
    "best_hparams"
   ]
  },
  {
   "cell_type": "code",
   "execution_count": 21,
   "metadata": {},
   "outputs": [
    {
     "name": "stdout",
     "output_type": "stream",
     "text": [
      "Train on 80000 samples, validate on 20000 samples\n",
      "Epoch 1/4\n",
      "80000/80000 [==============================] - 6s 74us/sample - loss: 0.9479 - val_loss: 0.9290\n",
      "Epoch 2/4\n",
      "80000/80000 [==============================] - 5s 69us/sample - loss: 0.7535 - val_loss: 0.8814\n",
      "Epoch 3/4\n",
      "80000/80000 [==============================] - 5s 67us/sample - loss: 0.4572 - val_loss: 0.8368\n",
      "Epoch 4/4\n",
      "80000/80000 [==============================] - 5s 68us/sample - loss: 0.2048 - val_loss: 0.8340\n"
     ]
    }
   ],
   "source": [
    "del model1, model2\n",
    "\n",
    "# compile both models\n",
    "model1, model2 = compile_genre_model(\n",
    "    n_items=df.movieId.nunique(),\n",
    "    n_users=df.userId.nunique(),\n",
    "    min_rating=df.rating.min(),\n",
    "    max_rating=df.rating.max(),\n",
    "    mean_rating=df.rating.mean(),\n",
    "    n_latent=best_hparams.n_factors,\n",
    "    n_hidden_2=best_hparams.n_hidden_2\n",
    ")\n",
    "\n",
    "# train rating model\n",
    "training = model1.fit(\n",
    "    x=[train.userId.values, train.movieId.values, train.bias.values],\n",
    "    y=train.rating.values, \n",
    "    batch_size=bs1,\n",
    "    epochs=best_hparams.epoch_1,\n",
    "    verbose=1,\n",
    "    validation_split=.2\n",
    ")"
   ]
  },
  {
   "cell_type": "code",
   "execution_count": 22,
   "metadata": {},
   "outputs": [
    {
     "data": {
      "image/png": "[encoded data removed]",
      "text/plain": [
       "<Figure size 1152x648 with 1 Axes>"
      ]
     },
     "metadata": {},
     "output_type": "display_data"
    }
   ],
   "source": [
    "# plot training curve of best model\n",
    "plt.plot(np.arange(1,5,1), training.history['loss'], label='train')\n",
    "plt.plot(np.arange(1,5,1), training.history['val_loss'], label='validation')\n",
    "plt.xticks(np.arange(1,5,1))\n",
    "plt.title('Rating model, train vs validation loss', fontsize=14)\n",
    "plt.ylabel('Mean Squared Error')\n",
    "plt.xlabel('Number of Epochs')\n",
    "plt.legend()\n",
    "plt.show()"
   ]
  },
  {
   "cell_type": "code",
   "execution_count": 23,
   "metadata": {},
   "outputs": [
    {
     "name": "stdout",
     "output_type": "stream",
     "text": [
      "Train on 1210 samples, validate on 303 samples\n",
      "Epoch 1/10\n",
      "1210/1210 [==============================] - 1s 739us/sample - loss: 0.6667 - accuracy: 0.5934 - AUC: 0.6431 - val_loss: 0.6248 - val_accuracy: 0.6535 - val_AUC: 0.7511\n",
      "Epoch 2/10\n",
      "1210/1210 [==============================] - 0s 129us/sample - loss: 0.5983 - accuracy: 0.6843 - AUC: 0.7843 - val_loss: 0.5948 - val_accuracy: 0.6766 - val_AUC: 0.7555\n",
      "Epoch 3/10\n",
      "1210/1210 [==============================] - 0s 129us/sample - loss: 0.5466 - accuracy: 0.7488 - AUC: 0.8389 - val_loss: 0.5815 - val_accuracy: 0.6997 - val_AUC: 0.7567\n",
      "Epoch 4/10\n",
      "1210/1210 [==============================] - 0s 132us/sample - loss: 0.4971 - accuracy: 0.7901 - AUC: 0.8789 - val_loss: 0.5784 - val_accuracy: 0.6700 - val_AUC: 0.7513\n",
      "Epoch 5/10\n",
      "1210/1210 [==============================] - 0s 124us/sample - loss: 0.4498 - accuracy: 0.8331 - AUC: 0.9111 - val_loss: 0.5808 - val_accuracy: 0.6733 - val_AUC: 0.7454\n",
      "Epoch 6/10\n",
      "1210/1210 [==============================] - 0s 132us/sample - loss: 0.4045 - accuracy: 0.8653 - AUC: 0.9354 - val_loss: 0.5971 - val_accuracy: 0.6799 - val_AUC: 0.7322\n",
      "Epoch 7/10\n",
      "1210/1210 [==============================] - 0s 130us/sample - loss: 0.3616 - accuracy: 0.8926 - AUC: 0.9547 - val_loss: 0.5983 - val_accuracy: 0.6865 - val_AUC: 0.7373\n",
      "Epoch 8/10\n",
      "1210/1210 [==============================] - 0s 130us/sample - loss: 0.3201 - accuracy: 0.9041 - AUC: 0.9697 - val_loss: 0.6184 - val_accuracy: 0.6733 - val_AUC: 0.7288\n",
      "Epoch 9/10\n",
      "1210/1210 [==============================] - 0s 125us/sample - loss: 0.2828 - accuracy: 0.9314 - AUC: 0.9805 - val_loss: 0.6339 - val_accuracy: 0.6766 - val_AUC: 0.7249\n",
      "Epoch 10/10\n",
      "1210/1210 [==============================] - 0s 127us/sample - loss: 0.2502 - accuracy: 0.9463 - AUC: 0.9882 - val_loss: 0.6524 - val_accuracy: 0.6766 - val_AUC: 0.7178\n"
     ]
    }
   ],
   "source": [
    "# train genre model\n",
    "training = model2.fit(\n",
    "    movies.movieId.values, movies.Drama.values,\n",
    "    batch_size=bs2, \n",
    "    epochs=10,\n",
    "    validation_split=.2)"
   ]
  },
  {
   "cell_type": "code",
   "execution_count": 24,
   "metadata": {},
   "outputs": [
    {
     "data": {
      "image/png": "[encoded data removed]",
      "text/plain": [
       "<Figure size 1152x648 with 1 Axes>"
      ]
     },
     "metadata": {},
     "output_type": "display_data"
    }
   ],
   "source": [
    "# plot training curve of best model\n",
    "plt.plot(np.arange(1,11,1), training.history['loss'], label='train')\n",
    "plt.plot(np.arange(1,11,1), training.history['val_loss'], label='validation')\n",
    "plt.xticks(np.arange(1,11,1))\n",
    "plt.title('Genre model, train vs validation loss', fontsize=14)\n",
    "plt.ylabel('Log Loss')\n",
    "plt.xlabel('Number of Epochs')\n",
    "plt.legend()\n",
    "plt.savefig('figures/5_ml100k-genre-epochs.pdf')\n",
    "plt.show()"
   ]
  },
  {
   "cell_type": "code",
   "execution_count": 25,
   "metadata": {},
   "outputs": [
    {
     "ename": "NameError",
     "evalue": "name 'best_hparams' is not defined",
     "output_type": "error",
     "traceback": [
      "\u001b[1;31m---------------------------------------------------------------------------\u001b[0m",
      "\u001b[1;31mNameError\u001b[0m                                 Traceback (most recent call last)",
      "\u001b[1;32m<ipython-input-25-20458093a109>\u001b[0m in \u001b[0;36m<module>\u001b[1;34m\u001b[0m\n\u001b[1;32m----> 1\u001b[1;33m \u001b[0mbest_hparams\u001b[0m \u001b[1;33m=\u001b[0m \u001b[0mpd\u001b[0m\u001b[1;33m.\u001b[0m\u001b[0mconcat\u001b[0m\u001b[1;33m(\u001b[0m\u001b[1;33m(\u001b[0m\u001b[0mbest_hparams\u001b[0m\u001b[1;33m,\u001b[0m \u001b[0mpd\u001b[0m\u001b[1;33m.\u001b[0m\u001b[0mSeries\u001b[0m\u001b[1;33m(\u001b[0m\u001b[1;33m{\u001b[0m\u001b[1;34m'epoch_1'\u001b[0m\u001b[1;33m:\u001b[0m \u001b[1;36m4\u001b[0m\u001b[1;33m,\u001b[0m \u001b[1;34m'epoch_2'\u001b[0m\u001b[1;33m:\u001b[0m \u001b[1;36m4\u001b[0m\u001b[1;33m}\u001b[0m\u001b[1;33m)\u001b[0m\u001b[1;33m)\u001b[0m\u001b[1;33m)\u001b[0m\u001b[1;33m\u001b[0m\u001b[1;33m\u001b[0m\u001b[0m\n\u001b[0m",
      "\u001b[1;31mNameError\u001b[0m: name 'best_hparams' is not defined"
     ]
    }
   ],
   "source": [
    "best_hparams = pd.concat((best_hparams, pd.Series({'epoch_2': np.argmin(training.history['val_loss'])+1})))\n",
    "best_hparams"
   ]
  },
  {
   "cell_type": "code",
   "execution_count": 46,
   "metadata": {},
   "outputs": [
    {
     "name": "stdout",
     "output_type": "stream",
     "text": [
      "Train on 80000 samples, validate on 20000 samples\n",
      "Epoch 1/4\n",
      "80000/80000 [==============================] - 9s 116us/sample - loss: 0.9479 - val_loss: 0.9290\n",
      "Epoch 2/4\n",
      "80000/80000 [==============================] - 9s 108us/sample - loss: 0.7535 - val_loss: 0.8814\n",
      "Epoch 3/4\n",
      "80000/80000 [==============================] - 8s 105us/sample - loss: 0.4572 - val_loss: 0.8368\n",
      "Epoch 4/4\n",
      "80000/80000 [==============================] - 8s 106us/sample - loss: 0.2048 - val_loss: 0.8340\n",
      "Train on 1210 samples, validate on 303 samples\n",
      "Epoch 1/4\n",
      "1210/1210 [==============================] - 1s 923us/sample - loss: 0.6667 - accuracy: 0.5934 - AUC: 0.6431 - val_loss: 0.6248 - val_accuracy: 0.6535 - val_AUC: 0.7511\n",
      "Epoch 2/4\n",
      "1210/1210 [==============================] - 0s 224us/sample - loss: 0.5983 - accuracy: 0.6843 - AUC: 0.7843 - val_loss: 0.5948 - val_accuracy: 0.6766 - val_AUC: 0.7555\n",
      "Epoch 3/4\n",
      "1210/1210 [==============================] - 0s 216us/sample - loss: 0.5466 - accuracy: 0.7488 - AUC: 0.8389 - val_loss: 0.5815 - val_accuracy: 0.6997 - val_AUC: 0.7567\n",
      "Epoch 4/4\n",
      "1210/1210 [==============================] - 0s 212us/sample - loss: 0.4971 - accuracy: 0.7901 - AUC: 0.8789 - val_loss: 0.5784 - val_accuracy: 0.6700 - val_AUC: 0.7513\n"
     ]
    },
    {
     "data": {
      "image/png": "[encoded data removed]",
      "text/plain": [
       "<Figure size 1152x648 with 1 Axes>"
      ]
     },
     "metadata": {},
     "output_type": "display_data"
    }
   ],
   "source": [
    "del model1, model2\n",
    "\n",
    "# compile both models\n",
    "model1, model2 = compile_genre_model(\n",
    "    n_items=df.movieId.nunique(),\n",
    "    n_users=df.userId.nunique(),\n",
    "    min_rating=df.rating.min(),\n",
    "    max_rating=df.rating.max(),\n",
    "    mean_rating=df.rating.mean(),\n",
    "    n_latent=best_hparams.n_factors,\n",
    "    n_hidden_2=best_hparams.n_hidden_2\n",
    ")\n",
    "\n",
    "model1.fit(\n",
    "    x=[train.userId.values, train.movieId.values, train.bias.values],\n",
    "    y=train.rating.values, \n",
    "    batch_size=bs1,\n",
    "    epochs=best_hparams.epoch_1,\n",
    "    verbose=1,\n",
    "    validation_split=.2\n",
    ")\n",
    "\n",
    "# train genre model\n",
    "training = model2.fit(\n",
    "    movies.movieId.values, movies.Drama.values,\n",
    "    batch_size=bs2, \n",
    "    epochs=best_hparams.epoch_2,\n",
    "    validation_split=.2)\n",
    "\n",
    "# plot training curve of best model\n",
    "plt.plot(np.arange(1,5,1), training.history['loss'], label='train')\n",
    "plt.plot(np.arange(1,5,1), training.history['val_loss'], label='validation')\n",
    "plt.xticks(np.arange(1,5,1))\n",
    "plt.title('Genre model, Train vs validation loss', fontsize=14)\n",
    "plt.ylabel('Log Loss')\n",
    "plt.xlabel('Number of Epochs')\n",
    "plt.legend()\n",
    "plt.show()"
   ]
  },
  {
   "cell_type": "markdown",
   "metadata": {},
   "source": [
    "## 3. Dropout rates"
   ]
  },
  {
   "cell_type": "code",
   "execution_count": 30,
   "metadata": {},
   "outputs": [],
   "source": [
    "# hyper parameters\n",
    "HP_DROPOUT_2 = [0, .05, .1]"
   ]
  },
  {
   "cell_type": "code",
   "execution_count": 31,
   "metadata": {},
   "outputs": [
    {
     "name": "stdout",
     "output_type": "stream",
     "text": [
      "Fitting total of 7 models\n",
      "\n",
      "Fitting CGT model #1 with dr2: 0\n",
      "_____________________________________CV avg val loss=0.5938\n",
      "_____________________________________CV avg val acc=0.6669\n",
      "\n",
      "Fitting CGT model #2 with dr2: 0.05\n",
      "_____________________________________CV avg val loss=0.5941\n",
      "_____________________________________CV avg val acc=0.6662\n",
      "\n",
      "Fitting CGT model #3 with dr2: 0.1\n",
      "_____________________________________CV avg val loss=0.5943\n",
      "_____________________________________CV avg val acc=0.6662\n",
      "\n",
      "Fitting CGT model #4 with dr2: 0.15\n",
      "_____________________________________CV avg val loss=0.5946\n",
      "_____________________________________CV avg val acc=0.6662\n",
      "\n",
      "Fitting CGT model #5 with dr2: 0.2\n",
      "_____________________________________CV avg val loss=0.5949\n",
      "_____________________________________CV avg val acc=0.6669\n",
      "\n",
      "Fitting CGT model #6 with dr2: 0.25\n",
      "_____________________________________CV avg val loss=0.5952\n",
      "_____________________________________CV avg val acc=0.6656\n",
      "\n",
      "Fitting CGT model #7 with dr2: 0.3\n",
      "_____________________________________CV avg val loss=0.5957\n",
      "_____________________________________CV avg val acc=0.6649\n",
      "\n"
     ]
    }
   ],
   "source": [
    "# dataframe to store results of grid search\n",
    "grid_results_2 = []\n",
    "searches = 1\n",
    "\n",
    "n_models = len(HP_DROPOUT_2)\n",
    "\n",
    "print(f'Fitting total of {n_models} models\\n')\n",
    "\n",
    "for DROPOUT_2 in HP_DROPOUT_2:\n",
    "\n",
    "    print(f'Fitting CGT model #{searches} with dr2: {DROPOUT_2}')\n",
    "    searches += 1\n",
    "\n",
    "    # Create 5 CV folds\n",
    "    kf = KFold(n_splits=5, random_state=42)\n",
    "\n",
    "    # initialise loss and epoch count\n",
    "    total_loss = 0\n",
    "    total_acc = 0\n",
    "    count = 1\n",
    "\n",
    "    # do CV split and compute baseline predictors each time\n",
    "    for train_index, test_index in kf.split(movies):\n",
    "\n",
    "        # get baseline rating predictors for full dataset\n",
    "        train, _, _ = get_baseline(df, df.index, df.index, 'userId', 'movieId')\n",
    "\n",
    "        # compile both models with search hparams\n",
    "        model1, model2 = compile_genre_model(\n",
    "            n_items=df.movieId.nunique(),\n",
    "            n_users=df.userId.nunique(),\n",
    "            min_rating=df.rating.min(),\n",
    "            max_rating=df.rating.max(),\n",
    "            mean_rating=df.rating.mean(),\n",
    "            n_latent=best_hparams.n_factors,\n",
    "            n_hidden_2=best_hparams.n_hidden_2,\n",
    "            dropout_2=DROPOUT_2\n",
    "        )\n",
    "\n",
    "        # train rating model on all data\n",
    "        ratings = model1.fit(\n",
    "            x=[train.userId.values, train.movieId.values, train.bias.values],\n",
    "            y=train.rating.values, \n",
    "            batch_size=bs1,\n",
    "            epochs=best_hparams.epoch_1,\n",
    "            verbose=0,\n",
    "            validation_split=.2\n",
    "        )\n",
    "\n",
    "        # train genre model on 5 CV folds\n",
    "        train = movies.iloc[train_index]\n",
    "        test = movies.iloc[test_index]\n",
    "\n",
    "        # train model on current fold\n",
    "        result = model2.fit(\n",
    "            train.movieId.values, train.Drama.values,\n",
    "            batch_size=bs2, \n",
    "            epochs=best_hparams.epoch_2,\n",
    "            verbose=0,\n",
    "            validation_data=(test.movieId.values, test.Drama.values))\n",
    "\n",
    "        # get loss from this fold\n",
    "        fold_loss = result.history['val_loss'][-1]\n",
    "        total_loss += fold_loss\n",
    "        fold_acc = result.history['val_accuracy'][-1]\n",
    "        total_acc += fold_acc\n",
    "        count += 1\n",
    "\n",
    "        del model1, model2\n",
    "\n",
    "    # calculate average holdout loss across all CV folds\n",
    "    avg_loss = total_loss / 5\n",
    "    avg_acc = total_acc / 5\n",
    "    print(f'_____________________________________CV avg val loss={avg_loss:.4f}')\n",
    "    print(f'_____________________________________CV avg val acc={avg_acc:.4f}')\n",
    "\n",
    "    grid_results_2.append({'dropout_2':DROPOUT_2,\n",
    "                           'val_loss':avg_loss,\n",
    "                           'val_acc':avg_acc,\n",
    "                           'train_loss_hist':result.history['loss'],\n",
    "                           'val_loss_hist':result.history['val_loss'],\n",
    "                           'train_acc_hist':result.history['accuracy'],\n",
    "                           'val_acc_hist':result.history['val_accuracy']})\n",
    "\n",
    "    print()\n",
    "#             break\n",
    "#         break\n",
    "    \n",
    "col_order = grid_results_2[0].keys()\n",
    "\n",
    "# save results to data frame\n",
    "grid_results_2 = pd.DataFrame(grid_results_2)\n",
    "# reorder columns\n",
    "grid_results_2 = grid_results_2[col_order]"
   ]
  },
  {
   "cell_type": "code",
   "execution_count": 32,
   "metadata": {},
   "outputs": [
    {
     "data": {
      "text/html": [
       "<div>\n",
       "<style scoped>\n",
       "    .dataframe tbody tr th:only-of-type {\n",
       "        vertical-align: middle;\n",
       "    }\n",
       "\n",
       "    .dataframe tbody tr th {\n",
       "        vertical-align: top;\n",
       "    }\n",
       "\n",
       "    .dataframe thead th {\n",
       "        text-align: right;\n",
       "    }\n",
       "</style>\n",
       "<table border=\"1\" class=\"dataframe\">\n",
       "  <thead>\n",
       "    <tr style=\"text-align: right;\">\n",
       "      <th></th>\n",
       "      <th>dropout_2</th>\n",
       "      <th>val_loss</th>\n",
       "      <th>val_acc</th>\n",
       "      <th>train_loss_hist</th>\n",
       "      <th>val_loss_hist</th>\n",
       "      <th>train_acc_hist</th>\n",
       "      <th>val_acc_hist</th>\n",
       "    </tr>\n",
       "  </thead>\n",
       "  <tbody>\n",
       "    <tr>\n",
       "      <th>0</th>\n",
       "      <td>0.00</td>\n",
       "      <td>0.593771</td>\n",
       "      <td>0.666903</td>\n",
       "      <td>[0.6656087191512425, 0.5915942607489034, 0.536...</td>\n",
       "      <td>[0.6259539853658108, 0.5912225716161412, 0.581...</td>\n",
       "      <td>[0.6003303, 0.6961189, 0.7580512, 0.80099094]</td>\n",
       "      <td>[0.6655629, 0.66887414, 0.69205296, 0.6721854]</td>\n",
       "    </tr>\n",
       "    <tr>\n",
       "      <th>1</th>\n",
       "      <td>0.05</td>\n",
       "      <td>0.594128</td>\n",
       "      <td>0.666243</td>\n",
       "      <td>[0.6657016839890515, 0.592471919849232, 0.5385...</td>\n",
       "      <td>[0.6269177482617612, 0.5921741277966278, 0.581...</td>\n",
       "      <td>[0.5887696, 0.6961189, 0.7555739, 0.80759704]</td>\n",
       "      <td>[0.66887414, 0.6721854, 0.69205296, 0.66887414]</td>\n",
       "    </tr>\n",
       "    <tr>\n",
       "      <th>2</th>\n",
       "      <td>0.10</td>\n",
       "      <td>0.594339</td>\n",
       "      <td>0.666240</td>\n",
       "      <td>[0.6661896509242196, 0.5937153425322989, 0.541...</td>\n",
       "      <td>[0.6280238296811944, 0.5930081830908921, 0.581...</td>\n",
       "      <td>[0.5928984, 0.6952931, 0.7539224, 0.80264246]</td>\n",
       "      <td>[0.66887414, 0.6721854, 0.69205296, 0.6655629]</td>\n",
       "    </tr>\n",
       "    <tr>\n",
       "      <th>3</th>\n",
       "      <td>0.15</td>\n",
       "      <td>0.594610</td>\n",
       "      <td>0.666240</td>\n",
       "      <td>[0.6668613005727899, 0.5958881354548535, 0.544...</td>\n",
       "      <td>[0.6294288840514934, 0.5943749941737446, 0.582...</td>\n",
       "      <td>[0.5862923, 0.6919901, 0.748142, 0.8034682]</td>\n",
       "      <td>[0.6754967, 0.66887414, 0.68874174, 0.66225165]</td>\n",
       "    </tr>\n",
       "    <tr>\n",
       "      <th>4</th>\n",
       "      <td>0.20</td>\n",
       "      <td>0.594909</td>\n",
       "      <td>0.666903</td>\n",
       "      <td>[0.667606014736815, 0.597347192041742, 0.54840...</td>\n",
       "      <td>[0.6306698689397597, 0.595657706655414, 0.5829...</td>\n",
       "      <td>[0.5821635, 0.688687, 0.7431874, 0.7919075]</td>\n",
       "      <td>[0.6655629, 0.66887414, 0.70198673, 0.6655629]</td>\n",
       "    </tr>\n",
       "  </tbody>\n",
       "</table>\n",
       "</div>"
      ],
      "text/plain": [
       "   dropout_2  val_loss   val_acc  \\\n",
       "0       0.00  0.593771  0.666903   \n",
       "1       0.05  0.594128  0.666243   \n",
       "2       0.10  0.594339  0.666240   \n",
       "3       0.15  0.594610  0.666240   \n",
       "4       0.20  0.594909  0.666903   \n",
       "\n",
       "                                     train_loss_hist  \\\n",
       "0  [0.6656087191512425, 0.5915942607489034, 0.536...   \n",
       "1  [0.6657016839890515, 0.592471919849232, 0.5385...   \n",
       "2  [0.6661896509242196, 0.5937153425322989, 0.541...   \n",
       "3  [0.6668613005727899, 0.5958881354548535, 0.544...   \n",
       "4  [0.667606014736815, 0.597347192041742, 0.54840...   \n",
       "\n",
       "                                       val_loss_hist  \\\n",
       "0  [0.6259539853658108, 0.5912225716161412, 0.581...   \n",
       "1  [0.6269177482617612, 0.5921741277966278, 0.581...   \n",
       "2  [0.6280238296811944, 0.5930081830908921, 0.581...   \n",
       "3  [0.6294288840514934, 0.5943749941737446, 0.582...   \n",
       "4  [0.6306698689397597, 0.595657706655414, 0.5829...   \n",
       "\n",
       "                                  train_acc_hist  \\\n",
       "0  [0.6003303, 0.6961189, 0.7580512, 0.80099094]   \n",
       "1  [0.5887696, 0.6961189, 0.7555739, 0.80759704]   \n",
       "2  [0.5928984, 0.6952931, 0.7539224, 0.80264246]   \n",
       "3    [0.5862923, 0.6919901, 0.748142, 0.8034682]   \n",
       "4    [0.5821635, 0.688687, 0.7431874, 0.7919075]   \n",
       "\n",
       "                                      val_acc_hist  \n",
       "0   [0.6655629, 0.66887414, 0.69205296, 0.6721854]  \n",
       "1  [0.66887414, 0.6721854, 0.69205296, 0.66887414]  \n",
       "2   [0.66887414, 0.6721854, 0.69205296, 0.6655629]  \n",
       "3  [0.6754967, 0.66887414, 0.68874174, 0.66225165]  \n",
       "4   [0.6655629, 0.66887414, 0.70198673, 0.6655629]  "
      ]
     },
     "execution_count": 32,
     "metadata": {},
     "output_type": "execute_result"
    }
   ],
   "source": [
    "# get best 5 models\n",
    "grid_results_2 = grid_results_2.sort_values('val_loss')\n",
    "grid_results_2.to_csv(path+'grid_results_2.csv', index=False)\n",
    "\n",
    "grid_results_2.head(5)"
   ]
  },
  {
   "cell_type": "code",
   "execution_count": 35,
   "metadata": {},
   "outputs": [
    {
     "data": {
      "text/plain": [
       "n_factors      1000\n",
       "n_hidden_2    [200]\n",
       "epoch_1           4\n",
       "epoch_2           4\n",
       "dropout_2         0\n",
       "dtype: object"
      ]
     },
     "execution_count": 35,
     "metadata": {},
     "output_type": "execute_result"
    }
   ],
   "source": [
    "best_hparams = pd.concat((best_hparams, grid_results_2.iloc[0,:][['dropout_2']]))\n",
    "best_hparams"
   ]
  },
  {
   "cell_type": "markdown",
   "metadata": {},
   "source": [
    "# Classification report"
   ]
  },
  {
   "cell_type": "code",
   "execution_count": 43,
   "metadata": {},
   "outputs": [],
   "source": [
    "from sklearn.metrics import classification_report, confusion_matrix, precision_score, recall_score, f1_score"
   ]
  },
  {
   "cell_type": "markdown",
   "metadata": {},
   "source": [
    "### Re-train model on full dataset, with best hparams"
   ]
  },
  {
   "cell_type": "code",
   "execution_count": 44,
   "metadata": {},
   "outputs": [
    {
     "name": "stdout",
     "output_type": "stream",
     "text": [
      "Train on 80000 samples, validate on 20000 samples\n",
      "Epoch 1/4\n",
      "80000/80000 [==============================] - 6s 73us/sample - loss: 0.9479 - val_loss: 0.9290\n",
      "Epoch 2/4\n",
      "80000/80000 [==============================] - 6s 75us/sample - loss: 0.7535 - val_loss: 0.8814\n",
      "Epoch 3/4\n",
      "80000/80000 [==============================] - 7s 84us/sample - loss: 0.4572 - val_loss: 0.8368\n",
      "Epoch 4/4\n",
      "80000/80000 [==============================] - 7s 83us/sample - loss: 0.2048 - val_loss: 0.8340\n",
      "Train on 1210 samples, validate on 303 samples\n",
      "Epoch 1/4\n",
      "1210/1210 [==============================] - 1s 708us/sample - loss: 0.6649 - accuracy: 0.5793 - AUC: 0.6414 - val_loss: 0.6208 - val_accuracy: 0.6634 - val_AUC: 0.7532\n",
      "Epoch 2/4\n",
      "1210/1210 [==============================] - 0s 173us/sample - loss: 0.5925 - accuracy: 0.6810 - AUC: 0.7891 - val_loss: 0.5913 - val_accuracy: 0.6733 - val_AUC: 0.7567\n",
      "Epoch 3/4\n",
      "1210/1210 [==============================] - 0s 180us/sample - loss: 0.5369 - accuracy: 0.7587 - AUC: 0.8482 - val_loss: 0.5799 - val_accuracy: 0.6898 - val_AUC: 0.7544\n",
      "Epoch 4/4\n",
      "1210/1210 [==============================] - 0s 182us/sample - loss: 0.4843 - accuracy: 0.8116 - AUC: 0.8886 - val_loss: 0.5803 - val_accuracy: 0.6733 - val_AUC: 0.7472\n"
     ]
    }
   ],
   "source": [
    "# get baseline predictors for full dataset\n",
    "train, _, _ = get_baseline(df, df.index, df.index, 'userId', 'movieId')\n",
    "\n",
    "# compile both models\n",
    "model1, model2 = compile_genre_model(\n",
    "    n_items=df.movieId.nunique(),\n",
    "    n_users=df.userId.nunique(),\n",
    "    min_rating=df.rating.min(),\n",
    "    max_rating=df.rating.max(),\n",
    "    mean_rating=df.rating.mean(),\n",
    "    n_latent=best_hparams.n_factors,\n",
    "    n_hidden_2=best_hparams.n_hidden_2,\n",
    "    dropout_2=best_hparams.dropout_2\n",
    ")\n",
    "\n",
    "# train rating model\n",
    "ratings = model1.fit(\n",
    "    x=[train.userId.values, train.movieId.values, train.bias.values],\n",
    "    y=train.rating.values, \n",
    "    batch_size=bs1,\n",
    "    epochs=best_hparams.epoch_1,\n",
    "    verbose=1,\n",
    "    validation_split=.2\n",
    ")\n",
    "\n",
    "# train genre model\n",
    "genres = model2.fit(\n",
    "    movies.movieId.values, movies.Drama.values,\n",
    "    batch_size=bs2,\n",
    "    epochs=best_hparams.epoch_2,\n",
    "    validation_split=.2)"
   ]
  },
  {
   "cell_type": "markdown",
   "metadata": {},
   "source": [
    "### Evaluate on test set"
   ]
  },
  {
   "cell_type": "code",
   "execution_count": 45,
   "metadata": {},
   "outputs": [],
   "source": [
    "X_test = movies_holdout.movieId.values\n",
    "y_test = movies_holdout.Drama.values\n",
    "y_score = pd.DataFrame(model2.predict(X_test))\n",
    "y_pred = y_score.round().astype('int')"
   ]
  },
  {
   "cell_type": "code",
   "execution_count": 46,
   "metadata": {},
   "outputs": [
    {
     "name": "stdout",
     "output_type": "stream",
     "text": [
      "              precision    recall  f1-score   support\n",
      "\n",
      "           0       0.68      0.66      0.67        96\n",
      "           1       0.57      0.60      0.59        73\n",
      "\n",
      "    accuracy                           0.63       169\n",
      "   macro avg       0.63      0.63      0.63       169\n",
      "weighted avg       0.64      0.63      0.63       169\n",
      "\n"
     ]
    }
   ],
   "source": [
    "print(classification_report(y_test, y_pred))"
   ]
  },
  {
   "cell_type": "code",
   "execution_count": 47,
   "metadata": {},
   "outputs": [
    {
     "data": {
      "text/html": [
       "<div>\n",
       "<style scoped>\n",
       "    .dataframe tbody tr th:only-of-type {\n",
       "        vertical-align: middle;\n",
       "    }\n",
       "\n",
       "    .dataframe tbody tr th {\n",
       "        vertical-align: top;\n",
       "    }\n",
       "\n",
       "    .dataframe thead th {\n",
       "        text-align: right;\n",
       "    }\n",
       "</style>\n",
       "<table border=\"1\" class=\"dataframe\">\n",
       "  <thead>\n",
       "    <tr style=\"text-align: right;\">\n",
       "      <th></th>\n",
       "      <th>0</th>\n",
       "      <th>1</th>\n",
       "    </tr>\n",
       "  </thead>\n",
       "  <tbody>\n",
       "    <tr>\n",
       "      <th>0</th>\n",
       "      <td>63</td>\n",
       "      <td>33</td>\n",
       "    </tr>\n",
       "    <tr>\n",
       "      <th>1</th>\n",
       "      <td>29</td>\n",
       "      <td>44</td>\n",
       "    </tr>\n",
       "  </tbody>\n",
       "</table>\n",
       "</div>"
      ],
      "text/plain": [
       "    0   1\n",
       "0  63  33\n",
       "1  29  44"
      ]
     },
     "execution_count": 47,
     "metadata": {},
     "output_type": "execute_result"
    }
   ],
   "source": [
    "pd.DataFrame(confusion_matrix(y_test, y_pred))"
   ]
  },
  {
   "cell_type": "code",
   "execution_count": 48,
   "metadata": {},
   "outputs": [],
   "source": [
    "# add predictions as column\n",
    "movies_holdout['prediction'] = y_pred.values\n",
    "# save to csv\n",
    "movies_holdout[['movieId', 'title', 'Drama', 'prediction']].to_csv(path+'holdout_predictions.csv', index=False)"
   ]
  },
  {
   "cell_type": "code",
   "execution_count": 49,
   "metadata": {},
   "outputs": [],
   "source": [
    "X_train = movies.movieId.values\n",
    "y_train = movies.Drama.values\n",
    "train_score = pd.DataFrame(model2.predict(X_train))\n",
    "train_pred = train_score.round().astype('int')"
   ]
  },
  {
   "cell_type": "code",
   "execution_count": 50,
   "metadata": {},
   "outputs": [
    {
     "name": "stdout",
     "output_type": "stream",
     "text": [
      "              precision    recall  f1-score   support\n",
      "\n",
      "           0       0.82      0.87      0.84       861\n",
      "           1       0.81      0.74      0.77       652\n",
      "\n",
      "    accuracy                           0.81      1513\n",
      "   macro avg       0.81      0.80      0.81      1513\n",
      "weighted avg       0.81      0.81      0.81      1513\n",
      "\n"
     ]
    }
   ],
   "source": [
    "print(classification_report(y_train, train_pred))"
   ]
  },
  {
   "cell_type": "code",
   "execution_count": 51,
   "metadata": {},
   "outputs": [
    {
     "data": {
      "text/html": [
       "<div>\n",
       "<style scoped>\n",
       "    .dataframe tbody tr th:only-of-type {\n",
       "        vertical-align: middle;\n",
       "    }\n",
       "\n",
       "    .dataframe tbody tr th {\n",
       "        vertical-align: top;\n",
       "    }\n",
       "\n",
       "    .dataframe thead th {\n",
       "        text-align: right;\n",
       "    }\n",
       "</style>\n",
       "<table border=\"1\" class=\"dataframe\">\n",
       "  <thead>\n",
       "    <tr style=\"text-align: right;\">\n",
       "      <th></th>\n",
       "      <th>0</th>\n",
       "      <th>1</th>\n",
       "    </tr>\n",
       "  </thead>\n",
       "  <tbody>\n",
       "    <tr>\n",
       "      <th>0</th>\n",
       "      <td>745</td>\n",
       "      <td>116</td>\n",
       "    </tr>\n",
       "    <tr>\n",
       "      <th>1</th>\n",
       "      <td>168</td>\n",
       "      <td>484</td>\n",
       "    </tr>\n",
       "  </tbody>\n",
       "</table>\n",
       "</div>"
      ],
      "text/plain": [
       "     0    1\n",
       "0  745  116\n",
       "1  168  484"
      ]
     },
     "execution_count": 51,
     "metadata": {},
     "output_type": "execute_result"
    }
   ],
   "source": [
    "pd.DataFrame(confusion_matrix(y_train, train_pred))"
   ]
  },
  {
   "cell_type": "code",
   "execution_count": 52,
   "metadata": {},
   "outputs": [],
   "source": [
    "# add predictions as column\n",
    "movies['prediction'] = train_pred.values\n",
    "# save to csv\n",
    "movies[['movieId', 'title', 'Drama', 'prediction']].to_csv(path+'train_predictions.csv', index=False)"
   ]
  },
  {
   "cell_type": "markdown",
   "metadata": {},
   "source": [
    "---\n",
    "# Appendix A: multi-label genre model"
   ]
  },
  {
   "cell_type": "code",
   "execution_count": 55,
   "metadata": {},
   "outputs": [],
   "source": [
    "from CGT import compile_multigenre_model"
   ]
  },
  {
   "cell_type": "code",
   "execution_count": 60,
   "metadata": {},
   "outputs": [
    {
     "name": "stdout",
     "output_type": "stream",
     "text": [
      "Train on 80000 samples, validate on 20000 samples\n",
      "Epoch 1/4\n",
      "80000/80000 [==============================] - 6s 74us/sample - loss: 0.9479 - val_loss: 0.9290\n",
      "Epoch 2/4\n",
      "80000/80000 [==============================] - 5s 68us/sample - loss: 0.7535 - val_loss: 0.8814\n",
      "Epoch 3/4\n",
      "80000/80000 [==============================] - 7s 94us/sample - loss: 0.4572 - val_loss: 0.8368\n",
      "Epoch 4/4\n",
      "80000/80000 [==============================] - 8s 101us/sample - loss: 0.2048 - val_loss: 0.8340\n"
     ]
    }
   ],
   "source": [
    "# get baseline predictors for full dataset\n",
    "train, _, _ = get_baseline(df, df.index, df.index, 'userId', 'movieId')\n",
    "\n",
    "# compile both models\n",
    "model1, model2 = compile_multigenre_model(\n",
    "    n_items=df.movieId.nunique(),\n",
    "    n_users=df.userId.nunique(),\n",
    "    min_rating=df.rating.min(),\n",
    "    max_rating=df.rating.max(),\n",
    "    mean_rating=df.rating.mean(),\n",
    "    n_genres=18,\n",
    "    n_latent=best_hparams.n_factors, \n",
    "    n_hidden_2=best_hparams.n_hidden_2,\n",
    "    dropout_2=best_hparams.dropout_2\n",
    ")\n",
    "\n",
    "# train rating model\n",
    "ratings = model1.fit(\n",
    "    x=[train.userId.values, train.movieId.values, train.bias.values],\n",
    "    y=train.rating.values, \n",
    "    batch_size=bs1,\n",
    "    epochs=best_hparams.epoch_1,\n",
    "    verbose=1,\n",
    "    validation_split=.2\n",
    ")"
   ]
  },
  {
   "cell_type": "code",
   "execution_count": 61,
   "metadata": {},
   "outputs": [
    {
     "name": "stdout",
     "output_type": "stream",
     "text": [
      "Train on 1210 samples, validate on 303 samples\n",
      "Epoch 1/4\n",
      "1210/1210 [==============================] - 1s 638us/sample - loss: 0.6501 - accuracy: 0.7549 - AUC: 0.5697 - val_loss: 0.5856 - val_accuracy: 0.8907 - val_AUC: 0.6270\n",
      "Epoch 2/4\n",
      "1210/1210 [==============================] - 0s 183us/sample - loss: 0.5038 - accuracy: 0.9072 - AUC: 0.6634 - val_loss: 0.4366 - val_accuracy: 0.9041 - val_AUC: 0.6216\n",
      "Epoch 3/4\n",
      "1210/1210 [==============================] - 0s 184us/sample - loss: 0.3727 - accuracy: 0.9093 - AUC: 0.6815 - val_loss: 0.3580 - val_accuracy: 0.9076 - val_AUC: 0.6602\n",
      "Epoch 4/4\n",
      "1210/1210 [==============================] - 0s 181us/sample - loss: 0.3110 - accuracy: 0.9119 - AUC: 0.7305 - val_loss: 0.3233 - val_accuracy: 0.9098 - val_AUC: 0.6998\n"
     ]
    }
   ],
   "source": [
    "# train genre model\n",
    "genres = model2.fit(\n",
    "    movies.movieId.values, movies.iloc[:,-19:-1].values,  # multi label\n",
    "    batch_size=bs2, \n",
    "    epochs=best_hparams.epoch_2,\n",
    "    validation_split=.2)"
   ]
  },
  {
   "cell_type": "code",
   "execution_count": 62,
   "metadata": {},
   "outputs": [],
   "source": [
    "from sklearn.metrics import classification_report, confusion_matrix, precision_score, recall_score, f1_score"
   ]
  },
  {
   "cell_type": "code",
   "execution_count": 63,
   "metadata": {},
   "outputs": [],
   "source": [
    "y_true = movies.iloc[:,-19:-1]\n",
    "y_score = pd.DataFrame(model2.predict(movies.movieId.values), columns=y_true.columns)\n",
    "y_pred = y_score.round().astype('int')"
   ]
  },
  {
   "cell_type": "code",
   "execution_count": 64,
   "metadata": {},
   "outputs": [
    {
     "name": "stdout",
     "output_type": "stream",
     "text": [
      "              precision    recall  f1-score   support\n",
      "\n",
      "      Action       0.76      0.08      0.15       232\n",
      "   Adventure       0.00      0.00      0.00       127\n",
      "   Animation       0.00      0.00      0.00        37\n",
      "  Children's       0.00      0.00      0.00       111\n",
      "      Comedy       0.72      0.17      0.27       452\n",
      "       Crime       0.00      0.00      0.00        96\n",
      " Documentary       0.00      0.00      0.00        44\n",
      "       Drama       0.64      0.63      0.63       652\n",
      "     Fantasy       0.00      0.00      0.00        20\n",
      "   Film-Noir       0.00      0.00      0.00        22\n",
      "      Horror       0.00      0.00      0.00        85\n",
      "     Musical       0.00      0.00      0.00        47\n",
      "     Mystery       0.00      0.00      0.00        56\n",
      "     Romance       0.00      0.00      0.00       221\n",
      "      Sci-Fi       1.00      0.01      0.02        91\n",
      "    Thriller       1.00      0.00      0.01       225\n",
      "         War       0.00      0.00      0.00        60\n",
      "     Western       0.00      0.00      0.00        26\n",
      "\n",
      "   micro avg       0.66      0.19      0.30      2604\n",
      "   macro avg       0.23      0.05      0.06      2604\n",
      "weighted avg       0.48      0.19      0.22      2604\n",
      " samples avg       0.33      0.24      0.27      2604\n",
      "\n"
     ]
    },
    {
     "name": "stderr",
     "output_type": "stream",
     "text": [
      "C:\\Users\\JLeslie\\AppData\\Local\\Continuum\\anaconda3\\lib\\site-packages\\sklearn\\metrics\\classification.py:1437: UndefinedMetricWarning: Precision and F-score are ill-defined and being set to 0.0 in labels with no predicted samples.\n",
      "  'precision', 'predicted', average, warn_for)\n",
      "C:\\Users\\JLeslie\\AppData\\Local\\Continuum\\anaconda3\\lib\\site-packages\\sklearn\\metrics\\classification.py:1437: UndefinedMetricWarning: Precision and F-score are ill-defined and being set to 0.0 in samples with no predicted labels.\n",
      "  'precision', 'predicted', average, warn_for)\n",
      "C:\\Users\\JLeslie\\AppData\\Local\\Continuum\\anaconda3\\lib\\site-packages\\sklearn\\metrics\\classification.py:1439: UndefinedMetricWarning: Recall and F-score are ill-defined and being set to 0.0 in samples with no true labels.\n",
      "  'recall', 'true', average, warn_for)\n"
     ]
    }
   ],
   "source": [
    "print(classification_report(y_true, y_pred, target_names=y_true.columns))"
   ]
  }
 ],
 "metadata": {
  "kernelspec": {
   "display_name": "Python 3",
   "language": "python",
   "name": "python3"
  },
  "language_info": {
   "codemirror_mode": {
    "name": "ipython",
    "version": 3
   },
   "file_extension": ".py",
   "mimetype": "text/x-python",
   "name": "python",
   "nbconvert_exporter": "python",
   "pygments_lexer": "ipython3",
   "version": "3.7.5"
  }
 },
 "nbformat": 4,
 "nbformat_minor": 4
}
