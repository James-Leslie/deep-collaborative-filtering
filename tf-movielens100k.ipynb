{
 "cells": [
  {
   "cell_type": "markdown",
   "metadata": {},
   "source": [
    "# MovieLens 100k Collaborative Genre Tagging\n",
    "**To do**:\n",
    "  - try out [this implementation](https://www.onceupondata.com/2019/02/10/nn-collaborative-filtering/) of baseline features. \n",
    "  - create object classes for models\n",
    "  - implement TF 2.0 data classes\n",
    "  - [paperswithcode link](https://paperswithcode.com/sota/collaborative-filtering-on-movielens-100k)\n",
    "  - [ML 100k state of the art paper](https://arxiv.org/pdf/1706.02263v2.pdf) (RMSE=0.905): details their evaluation method\n",
    "  \n",
    "[![Colab](https://colab.research.google.com/assets/colab-badge.svg)](https://colab.research.google.com/github/James-Leslie/deep-collaborative-filtering/blob/master/tf-movielens100k.ipynb)"
   ]
  },
  {
   "cell_type": "code",
   "execution_count": 1,
   "metadata": {},
   "outputs": [],
   "source": [
    "import numpy as np\n",
    "import pandas as pd\n",
    "import matplotlib.pyplot as plt\n",
    "import seaborn as sns\n",
    "import tensorflow as tf\n",
    "\n",
    "%matplotlib inline"
   ]
  },
  {
   "cell_type": "markdown",
   "metadata": {},
   "source": [
    "## Load rating data"
   ]
  },
  {
   "cell_type": "code",
   "execution_count": 2,
   "metadata": {},
   "outputs": [],
   "source": [
    "# path = 'https://raw.githubusercontent.com/James-Leslie/deep-collaborative-filtering/master/data/ml-100k/'  # access from anywhere\n",
    "path = 'data/ml-100k/'  # if the files are local\n",
    "df = pd.read_csv(path+'ratings.csv', usecols=['userId','movieId','rating'])"
   ]
  },
  {
   "cell_type": "code",
   "execution_count": 3,
   "metadata": {},
   "outputs": [
    {
     "data": {
      "text/html": [
       "<div>\n",
       "<style scoped>\n",
       "    .dataframe tbody tr th:only-of-type {\n",
       "        vertical-align: middle;\n",
       "    }\n",
       "\n",
       "    .dataframe tbody tr th {\n",
       "        vertical-align: top;\n",
       "    }\n",
       "\n",
       "    .dataframe thead th {\n",
       "        text-align: right;\n",
       "    }\n",
       "</style>\n",
       "<table border=\"1\" class=\"dataframe\">\n",
       "  <thead>\n",
       "    <tr style=\"text-align: right;\">\n",
       "      <th></th>\n",
       "      <th>userId</th>\n",
       "      <th>movieId</th>\n",
       "      <th>rating</th>\n",
       "    </tr>\n",
       "  </thead>\n",
       "  <tbody>\n",
       "    <tr>\n",
       "      <th>0</th>\n",
       "      <td>0</td>\n",
       "      <td>0</td>\n",
       "      <td>3</td>\n",
       "    </tr>\n",
       "    <tr>\n",
       "      <th>1</th>\n",
       "      <td>1</td>\n",
       "      <td>1</td>\n",
       "      <td>3</td>\n",
       "    </tr>\n",
       "    <tr>\n",
       "      <th>2</th>\n",
       "      <td>2</td>\n",
       "      <td>2</td>\n",
       "      <td>1</td>\n",
       "    </tr>\n",
       "    <tr>\n",
       "      <th>3</th>\n",
       "      <td>3</td>\n",
       "      <td>3</td>\n",
       "      <td>2</td>\n",
       "    </tr>\n",
       "    <tr>\n",
       "      <th>4</th>\n",
       "      <td>4</td>\n",
       "      <td>4</td>\n",
       "      <td>1</td>\n",
       "    </tr>\n",
       "  </tbody>\n",
       "</table>\n",
       "</div>"
      ],
      "text/plain": [
       "   userId  movieId  rating\n",
       "0       0        0       3\n",
       "1       1        1       3\n",
       "2       2        2       1\n",
       "3       3        3       2\n",
       "4       4        4       1"
      ]
     },
     "execution_count": 3,
     "metadata": {},
     "output_type": "execute_result"
    }
   ],
   "source": [
    "df.head()"
   ]
  },
  {
   "cell_type": "code",
   "execution_count": 4,
   "metadata": {},
   "outputs": [
    {
     "data": {
      "text/plain": [
       "(100000, 3)"
      ]
     },
     "execution_count": 4,
     "metadata": {},
     "output_type": "execute_result"
    }
   ],
   "source": [
    "df.shape"
   ]
  },
  {
   "cell_type": "code",
   "execution_count": 5,
   "metadata": {},
   "outputs": [
    {
     "name": "stdout",
     "output_type": "stream",
     "text": [
      "Number of users: 943\n",
      "Number of items: 1682\n",
      "Min item rating: 1\n",
      "Max item rating: 5\n",
      "Mean item rating: 3.52986\n"
     ]
    }
   ],
   "source": [
    "print('Number of users:', df.userId.nunique())\n",
    "print('Number of items:', df.movieId.nunique())\n",
    "print(\"Min item rating:\", df.rating.min())\n",
    "print(\"Max item rating:\", df.rating.max())\n",
    "print(\"Mean item rating:\", df.rating.mean())"
   ]
  },
  {
   "cell_type": "markdown",
   "metadata": {},
   "source": [
    "## Load movie metadata\n",
    "  - remove 10% as holdout test set"
   ]
  },
  {
   "cell_type": "code",
   "execution_count": 6,
   "metadata": {},
   "outputs": [
    {
     "data": {
      "text/html": [
       "<div>\n",
       "<style scoped>\n",
       "    .dataframe tbody tr th:only-of-type {\n",
       "        vertical-align: middle;\n",
       "    }\n",
       "\n",
       "    .dataframe tbody tr th {\n",
       "        vertical-align: top;\n",
       "    }\n",
       "\n",
       "    .dataframe thead th {\n",
       "        text-align: right;\n",
       "    }\n",
       "</style>\n",
       "<table border=\"1\" class=\"dataframe\">\n",
       "  <thead>\n",
       "    <tr style=\"text-align: right;\">\n",
       "      <th></th>\n",
       "      <th>movieId</th>\n",
       "      <th>title</th>\n",
       "      <th>releaseDate</th>\n",
       "      <th>link</th>\n",
       "      <th>unknown</th>\n",
       "      <th>Action</th>\n",
       "      <th>Adventure</th>\n",
       "      <th>Animation</th>\n",
       "      <th>Children's</th>\n",
       "      <th>Comedy</th>\n",
       "      <th>...</th>\n",
       "      <th>Fantasy</th>\n",
       "      <th>Film-Noir</th>\n",
       "      <th>Horror</th>\n",
       "      <th>Musical</th>\n",
       "      <th>Mystery</th>\n",
       "      <th>Romance</th>\n",
       "      <th>Sci-Fi</th>\n",
       "      <th>Thriller</th>\n",
       "      <th>War</th>\n",
       "      <th>Western</th>\n",
       "    </tr>\n",
       "  </thead>\n",
       "  <tbody>\n",
       "    <tr>\n",
       "      <th>0</th>\n",
       "      <td>24</td>\n",
       "      <td>Toy Story (1995)</td>\n",
       "      <td>01-Jan-1995</td>\n",
       "      <td>http://us.imdb.com/M/title-exact?Toy%20Story%2...</td>\n",
       "      <td>0</td>\n",
       "      <td>0</td>\n",
       "      <td>0</td>\n",
       "      <td>1</td>\n",
       "      <td>1</td>\n",
       "      <td>1</td>\n",
       "      <td>...</td>\n",
       "      <td>0</td>\n",
       "      <td>0</td>\n",
       "      <td>0</td>\n",
       "      <td>0</td>\n",
       "      <td>0</td>\n",
       "      <td>0</td>\n",
       "      <td>0</td>\n",
       "      <td>0</td>\n",
       "      <td>0</td>\n",
       "      <td>0</td>\n",
       "    </tr>\n",
       "    <tr>\n",
       "      <th>1</th>\n",
       "      <td>147</td>\n",
       "      <td>GoldenEye (1995)</td>\n",
       "      <td>01-Jan-1995</td>\n",
       "      <td>http://us.imdb.com/M/title-exact?GoldenEye%20(...</td>\n",
       "      <td>0</td>\n",
       "      <td>1</td>\n",
       "      <td>1</td>\n",
       "      <td>0</td>\n",
       "      <td>0</td>\n",
       "      <td>0</td>\n",
       "      <td>...</td>\n",
       "      <td>0</td>\n",
       "      <td>0</td>\n",
       "      <td>0</td>\n",
       "      <td>0</td>\n",
       "      <td>0</td>\n",
       "      <td>0</td>\n",
       "      <td>0</td>\n",
       "      <td>1</td>\n",
       "      <td>0</td>\n",
       "      <td>0</td>\n",
       "    </tr>\n",
       "    <tr>\n",
       "      <th>2</th>\n",
       "      <td>233</td>\n",
       "      <td>Four Rooms (1995)</td>\n",
       "      <td>01-Jan-1995</td>\n",
       "      <td>http://us.imdb.com/M/title-exact?Four%20Rooms%...</td>\n",
       "      <td>0</td>\n",
       "      <td>0</td>\n",
       "      <td>0</td>\n",
       "      <td>0</td>\n",
       "      <td>0</td>\n",
       "      <td>0</td>\n",
       "      <td>...</td>\n",
       "      <td>0</td>\n",
       "      <td>0</td>\n",
       "      <td>0</td>\n",
       "      <td>0</td>\n",
       "      <td>0</td>\n",
       "      <td>0</td>\n",
       "      <td>0</td>\n",
       "      <td>1</td>\n",
       "      <td>0</td>\n",
       "      <td>0</td>\n",
       "    </tr>\n",
       "    <tr>\n",
       "      <th>3</th>\n",
       "      <td>47</td>\n",
       "      <td>Get Shorty (1995)</td>\n",
       "      <td>01-Jan-1995</td>\n",
       "      <td>http://us.imdb.com/M/title-exact?Get%20Shorty%...</td>\n",
       "      <td>0</td>\n",
       "      <td>1</td>\n",
       "      <td>0</td>\n",
       "      <td>0</td>\n",
       "      <td>0</td>\n",
       "      <td>1</td>\n",
       "      <td>...</td>\n",
       "      <td>0</td>\n",
       "      <td>0</td>\n",
       "      <td>0</td>\n",
       "      <td>0</td>\n",
       "      <td>0</td>\n",
       "      <td>0</td>\n",
       "      <td>0</td>\n",
       "      <td>0</td>\n",
       "      <td>0</td>\n",
       "      <td>0</td>\n",
       "    </tr>\n",
       "    <tr>\n",
       "      <th>4</th>\n",
       "      <td>75</td>\n",
       "      <td>Copycat (1995)</td>\n",
       "      <td>01-Jan-1995</td>\n",
       "      <td>http://us.imdb.com/M/title-exact?Copycat%20(1995)</td>\n",
       "      <td>0</td>\n",
       "      <td>0</td>\n",
       "      <td>0</td>\n",
       "      <td>0</td>\n",
       "      <td>0</td>\n",
       "      <td>0</td>\n",
       "      <td>...</td>\n",
       "      <td>0</td>\n",
       "      <td>0</td>\n",
       "      <td>0</td>\n",
       "      <td>0</td>\n",
       "      <td>0</td>\n",
       "      <td>0</td>\n",
       "      <td>0</td>\n",
       "      <td>1</td>\n",
       "      <td>0</td>\n",
       "      <td>0</td>\n",
       "    </tr>\n",
       "  </tbody>\n",
       "</table>\n",
       "<p>5 rows × 23 columns</p>\n",
       "</div>"
      ],
      "text/plain": [
       "   movieId              title  releaseDate  \\\n",
       "0       24   Toy Story (1995)  01-Jan-1995   \n",
       "1      147   GoldenEye (1995)  01-Jan-1995   \n",
       "2      233  Four Rooms (1995)  01-Jan-1995   \n",
       "3       47  Get Shorty (1995)  01-Jan-1995   \n",
       "4       75     Copycat (1995)  01-Jan-1995   \n",
       "\n",
       "                                                link  unknown  Action  \\\n",
       "0  http://us.imdb.com/M/title-exact?Toy%20Story%2...        0       0   \n",
       "1  http://us.imdb.com/M/title-exact?GoldenEye%20(...        0       1   \n",
       "2  http://us.imdb.com/M/title-exact?Four%20Rooms%...        0       0   \n",
       "3  http://us.imdb.com/M/title-exact?Get%20Shorty%...        0       1   \n",
       "4  http://us.imdb.com/M/title-exact?Copycat%20(1995)        0       0   \n",
       "\n",
       "   Adventure  Animation  Children's  Comedy  ...  Fantasy  Film-Noir  Horror  \\\n",
       "0          0          1           1       1  ...        0          0       0   \n",
       "1          1          0           0       0  ...        0          0       0   \n",
       "2          0          0           0       0  ...        0          0       0   \n",
       "3          0          0           0       1  ...        0          0       0   \n",
       "4          0          0           0       0  ...        0          0       0   \n",
       "\n",
       "   Musical  Mystery  Romance  Sci-Fi  Thriller  War  Western  \n",
       "0        0        0        0       0         0    0        0  \n",
       "1        0        0        0       0         1    0        0  \n",
       "2        0        0        0       0         1    0        0  \n",
       "3        0        0        0       0         0    0        0  \n",
       "4        0        0        0       0         1    0        0  \n",
       "\n",
       "[5 rows x 23 columns]"
      ]
     },
     "execution_count": 6,
     "metadata": {},
     "output_type": "execute_result"
    }
   ],
   "source": [
    "movies = pd.read_csv(path+'movies.csv')\n",
    "movies.head()"
   ]
  },
  {
   "cell_type": "code",
   "execution_count": 7,
   "metadata": {},
   "outputs": [],
   "source": [
    "from sklearn.model_selection import train_test_split"
   ]
  },
  {
   "cell_type": "code",
   "execution_count": 8,
   "metadata": {},
   "outputs": [],
   "source": [
    "movies, movies_holdout = train_test_split(movies, test_size=.1, random_state=42)"
   ]
  },
  {
   "cell_type": "markdown",
   "metadata": {},
   "source": [
    "---\n",
    "# Create baseline features\n",
    "For each user, calculate average user bias - the average difference between the user's rating and the movie's average rating:\n",
    "\n",
    "$$b_{u} = \\dfrac{\\sum_{j=1}^{n_u} (r_{uj} - \\mu_i)}{n_u}$$\n",
    "\n",
    "For each item, calculate the difference between its average rating and the average rating of all movies:\n",
    "\n",
    "$$b_{i} = \\dfrac{\\sum_{k=1}^{n_i} (r_{ki})}{n_i} - \\mu$$\n",
    "\n",
    "Then, for each interaction, calculate the combined bias:\n",
    "\n",
    "$$b_{ui} = \\dfrac{b_u + b_i}{2}$$"
   ]
  },
  {
   "cell_type": "code",
   "execution_count": 9,
   "metadata": {},
   "outputs": [
    {
     "data": {
      "text/plain": [
       "\u001b[1;31mSignature:\u001b[0m \u001b[0mget_baseline\u001b[0m\u001b[1;33m(\u001b[0m\u001b[0mdf\u001b[0m\u001b[1;33m,\u001b[0m \u001b[0mtrain_index\u001b[0m\u001b[1;33m,\u001b[0m \u001b[0mtest_index\u001b[0m\u001b[1;33m)\u001b[0m\u001b[1;33m\u001b[0m\u001b[1;33m\u001b[0m\u001b[0m\n",
       "\u001b[1;31mDocstring:\u001b[0m\n",
       "Calculate baseline features from an explicit ratings dataset. Receives a dataframe\n",
       "and returns train and test splits with added bias column and mean rating value.\n",
       "User and item biases are calculated as average difference from global mean rating.\n",
       "Baseline factors are only calculated from training observations, with users or\n",
       "items that do not appear in train receiving the global average as default.\n",
       "\n",
       "Args:\n",
       "    df          : explicit ratings dataframe with columns userId, movieId and rating\n",
       "    train_index : train index splits taken from KFold.splits()\n",
       "    test_index  : test index splits taken from KFold.splits()\n",
       "    \n",
       "Returns:\n",
       "    train, test : train/test splits of df, with added bias column\n",
       "    global_mean : average rating of all training observations\n",
       "\u001b[1;31mFile:\u001b[0m      c:\\users\\jleslie\\documents\\deep-collaborative-filtering\\cgt.py\n",
       "\u001b[1;31mType:\u001b[0m      function\n"
      ]
     },
     "metadata": {},
     "output_type": "display_data"
    }
   ],
   "source": [
    "from CGT import get_baseline\n",
    "?get_baseline"
   ]
  },
  {
   "cell_type": "markdown",
   "metadata": {},
   "source": [
    "---\n",
    "# CGT model\n",
    "**To do**:\n",
    "  - Can we avoid re-training rating model on CV fold?\n",
    "  - Create a grid search function / class"
   ]
  },
  {
   "cell_type": "code",
   "execution_count": 10,
   "metadata": {},
   "outputs": [
    {
     "data": {
      "text/plain": [
       "\u001b[1;31mSignature:\u001b[0m\n",
       "\u001b[0mcompile_genre_model\u001b[0m\u001b[1;33m(\u001b[0m\u001b[1;33m\n",
       "\u001b[0m    \u001b[0mn_items\u001b[0m\u001b[1;33m,\u001b[0m\u001b[1;33m\n",
       "\u001b[0m    \u001b[0mn_users\u001b[0m\u001b[1;33m,\u001b[0m\u001b[1;33m\n",
       "\u001b[0m    \u001b[0mmin_rating\u001b[0m\u001b[1;33m,\u001b[0m\u001b[1;33m\n",
       "\u001b[0m    \u001b[0mmax_rating\u001b[0m\u001b[1;33m,\u001b[0m\u001b[1;33m\n",
       "\u001b[0m    \u001b[0mmean_rating\u001b[0m\u001b[1;33m,\u001b[0m\u001b[1;33m\n",
       "\u001b[0m    \u001b[0mn_latent\u001b[0m\u001b[1;33m,\u001b[0m\u001b[1;33m\n",
       "\u001b[0m    \u001b[0mn_hidden_1\u001b[0m\u001b[1;33m,\u001b[0m\u001b[1;33m\n",
       "\u001b[0m    \u001b[0mn_hidden_2\u001b[0m\u001b[1;33m,\u001b[0m\u001b[1;33m\n",
       "\u001b[0m    \u001b[0mactivation\u001b[0m\u001b[1;33m=\u001b[0m\u001b[1;34m'relu'\u001b[0m\u001b[1;33m,\u001b[0m\u001b[1;33m\n",
       "\u001b[0m    \u001b[0mdropout_1\u001b[0m\u001b[1;33m=\u001b[0m\u001b[1;36m0.2\u001b[0m\u001b[1;33m,\u001b[0m\u001b[1;33m\n",
       "\u001b[0m    \u001b[0mdropout_2\u001b[0m\u001b[1;33m=\u001b[0m\u001b[1;36m0.2\u001b[0m\u001b[1;33m,\u001b[0m\u001b[1;33m\n",
       "\u001b[0m    \u001b[0mrandom_seed\u001b[0m\u001b[1;33m=\u001b[0m\u001b[1;36m42\u001b[0m\u001b[1;33m,\u001b[0m\u001b[1;33m\n",
       "\u001b[0m\u001b[1;33m)\u001b[0m\u001b[1;33m\u001b[0m\u001b[1;33m\u001b[0m\u001b[0m\n",
       "\u001b[1;31mDocstring:\u001b[0m <no docstring>\n",
       "\u001b[1;31mFile:\u001b[0m      c:\\users\\jleslie\\documents\\deep-collaborative-filtering\\cgt.py\n",
       "\u001b[1;31mType:\u001b[0m      function\n"
      ]
     },
     "metadata": {},
     "output_type": "display_data"
    }
   ],
   "source": [
    "from CGT import compile_genre_model\n",
    "?compile_genre_model"
   ]
  },
  {
   "cell_type": "markdown",
   "metadata": {},
   "source": [
    "---\n",
    "## Grid search\n",
    "**To do**: try using [tqdm](https://github.com/tqdm/tqdm) notebook bars\n",
    "\n",
    "```bash\n",
    "# bash\n",
    "pip install --upgrade ipywidgets \n",
    "jupyter nbextension enable --py widgetsnbextension\n",
    "jupyter labextension install @jupyter-widgets/jupyterlab-manager\n",
    "```\n",
    "\n",
    "```python\n",
    "# python\n",
    "from tqdm.notebook import trange, tqdm\n",
    "from time import sleep\n",
    "\n",
    "for i in trange(3, desc='1st loop'):\n",
    "    for j in tqdm(range(100), desc='2nd loop'):\n",
    "        sleep(0.01)\n",
    "```"
   ]
  },
  {
   "cell_type": "markdown",
   "metadata": {},
   "source": [
    "## 1. Number of latent factors and hidden nodes"
   ]
  },
  {
   "cell_type": "code",
   "execution_count": 11,
   "metadata": {},
   "outputs": [],
   "source": [
    "from sklearn.model_selection import KFold"
   ]
  },
  {
   "cell_type": "code",
   "execution_count": 12,
   "metadata": {},
   "outputs": [],
   "source": [
    "# hyper parameters\n",
    "HP_N_FACTORS = [50, 100, 200]\n",
    "HP_N_HIDDEN_1 = [50, 100]\n",
    "HP_N_HIDDEN_2 = [50, 100]"
   ]
  },
  {
   "cell_type": "code",
   "execution_count": 13,
   "metadata": {},
   "outputs": [
    {
     "name": "stdout",
     "output_type": "stream",
     "text": [
      "Fitting total of 12 models\n",
      "\n",
      "Fitting CGT model #1 with 50: 50 | 50 architecture\n",
      "_____________________________________CV avg val loss=0.6485\n",
      "_____________________________________CV avg val acc=0.6127\n",
      "\n",
      "Fitting CGT model #2 with 50: 50 | 100 architecture\n",
      "_____________________________________CV avg val loss=0.6419\n",
      "_____________________________________CV avg val acc=0.6167\n",
      "\n",
      "Fitting CGT model #3 with 50: 100 | 50 architecture\n",
      "_____________________________________CV avg val loss=0.6490\n",
      "_____________________________________CV avg val acc=0.6114\n",
      "\n",
      "Fitting CGT model #4 with 50: 100 | 100 architecture\n",
      "_____________________________________CV avg val loss=0.6437\n",
      "_____________________________________CV avg val acc=0.6081\n",
      "\n",
      "Fitting CGT model #5 with 100: 50 | 50 architecture\n",
      "_____________________________________CV avg val loss=0.6441\n",
      "_____________________________________CV avg val acc=0.6173\n",
      "\n",
      "Fitting CGT model #6 with 100: 50 | 100 architecture\n",
      "_____________________________________CV avg val loss=0.6394\n",
      "_____________________________________CV avg val acc=0.6239\n",
      "\n",
      "Fitting CGT model #7 with 100: 100 | 50 architecture\n",
      "_____________________________________CV avg val loss=0.6431\n",
      "_____________________________________CV avg val acc=0.6219\n",
      "\n",
      "Fitting CGT model #8 with 100: 100 | 100 architecture\n",
      "_____________________________________CV avg val loss=0.6391\n",
      "_____________________________________CV avg val acc=0.6279\n",
      "\n",
      "Fitting CGT model #9 with 200: 50 | 50 architecture\n",
      "_____________________________________CV avg val loss=0.6416\n",
      "_____________________________________CV avg val acc=0.6252\n",
      "\n",
      "Fitting CGT model #10 with 200: 50 | 100 architecture\n",
      "_____________________________________CV avg val loss=0.6406\n",
      "_____________________________________CV avg val acc=0.6285\n",
      "\n",
      "Fitting CGT model #11 with 200: 100 | 50 architecture\n",
      "_____________________________________CV avg val loss=0.6365\n",
      "_____________________________________CV avg val acc=0.6252\n",
      "\n",
      "Fitting CGT model #12 with 200: 100 | 100 architecture\n",
      "_____________________________________CV avg val loss=0.6344\n",
      "_____________________________________CV avg val acc=0.6312\n",
      "\n"
     ]
    }
   ],
   "source": [
    "# dataframe to store results of grid search\n",
    "grid_results = []\n",
    "searches = 1\n",
    "\n",
    "n_models = len(HP_N_FACTORS) * len(HP_N_HIDDEN_1) * len(HP_N_HIDDEN_2)\n",
    "\n",
    "print(f'Fitting total of {n_models} models\\n')\n",
    "\n",
    "for N_FACTORS in HP_N_FACTORS:\n",
    "    for N_HIDDEN_1 in HP_N_HIDDEN_1:\n",
    "        for N_HIDDEN_2 in HP_N_HIDDEN_2:\n",
    "            \n",
    "            print(f'Fitting CGT model #{searches} with {N_FACTORS}: {N_HIDDEN_1} | {N_HIDDEN_2} architecture')\n",
    "            searches += 1\n",
    "            \n",
    "            # Create 5 CV folds\n",
    "            kf = KFold(n_splits=5, random_state=42)\n",
    "            \n",
    "            # initialise loss and epoch count\n",
    "            total_loss = 0\n",
    "            total_acc = 0\n",
    "            count = 1\n",
    "            min_epochs = 10\n",
    "            \n",
    "            # do CV split and compute baseline predictors each time\n",
    "            for train_index, test_index in kf.split(movies):\n",
    "                \n",
    "                # get baseline rating predictors for full dataset\n",
    "                train, _, _ = get_baseline(df, df.index, df.index)\n",
    "\n",
    "                # compile both models with search hparams\n",
    "                model1, model2 = compile_genre_model(\n",
    "                    n_items=df.movieId.nunique(),\n",
    "                    n_users=df.userId.nunique(),\n",
    "                    min_rating=df.rating.min(),\n",
    "                    max_rating=df.rating.max(),\n",
    "                    mean_rating=df.rating.mean(),\n",
    "                    n_latent=N_FACTORS, \n",
    "                    n_hidden_1=N_HIDDEN_1,\n",
    "                    n_hidden_2=N_HIDDEN_2\n",
    "                )\n",
    "\n",
    "                # train rating model on all data\n",
    "                ratings = model1.fit(\n",
    "                    x=[train.userId.values, train.movieId.values, train.bias.values],\n",
    "                    y=train.rating.values, \n",
    "                    batch_size=512,\n",
    "                    epochs=7,\n",
    "                    verbose=0,\n",
    "                    validation_split=.2\n",
    "                )\n",
    "                \n",
    "                # train genre model on 5 CV folds\n",
    "                train = movies.iloc[train_index]\n",
    "                test = movies.iloc[test_index]\n",
    "                \n",
    "                # train model on current fold\n",
    "                result = model2.fit(\n",
    "                    train.movieId.values, train.Drama.values,\n",
    "                    batch_size=64, \n",
    "                    epochs=5,\n",
    "                    verbose=0,\n",
    "                    validation_data=(test.movieId.values, test.Drama.values))\n",
    "                \n",
    "                # get loss from this fold\n",
    "                fold_loss = result.history['val_loss'][-1]\n",
    "                total_loss += fold_loss\n",
    "                fold_acc = result.history['val_accuracy'][-1]\n",
    "                total_acc += fold_acc\n",
    "                \n",
    "                count += 1\n",
    "                \n",
    "                del model1, model2\n",
    "            \n",
    "            # calculate average holdout loss across all CV folds\n",
    "            avg_loss = total_loss / 5\n",
    "            avg_acc = total_acc / 5\n",
    "            print(f'_____________________________________CV avg val loss={avg_loss:.4f}')\n",
    "            print(f'_____________________________________CV avg val acc={avg_acc:.4f}')\n",
    "            \n",
    "            grid_results.append({'n_factors':N_FACTORS,\n",
    "                                 'n_hidden_1':N_HIDDEN_1,\n",
    "                                 'n_hidden_2':N_HIDDEN_2,\n",
    "                                 'val_loss':avg_loss,\n",
    "                                 'val_acc':avg_acc,\n",
    "                                 'train_loss_hist':result.history['loss'],\n",
    "                                 'val_loss_hist':result.history['val_loss'],\n",
    "                                 'train_acc_hist':result.history['accuracy'],\n",
    "                                 'val_acc_hist':result.history['val_accuracy']})\n",
    "            \n",
    "            print()\n",
    "#             break\n",
    "#         break\n",
    "#     break\n",
    "    \n",
    "col_order = grid_results[0].keys()\n",
    "\n",
    "# save results to data frame\n",
    "grid_results = pd.DataFrame(grid_results)\n",
    "# reorder columns\n",
    "grid_results = grid_results[col_order]"
   ]
  },
  {
   "cell_type": "code",
   "execution_count": 14,
   "metadata": {},
   "outputs": [
    {
     "data": {
      "text/html": [
       "<div>\n",
       "<style scoped>\n",
       "    .dataframe tbody tr th:only-of-type {\n",
       "        vertical-align: middle;\n",
       "    }\n",
       "\n",
       "    .dataframe tbody tr th {\n",
       "        vertical-align: top;\n",
       "    }\n",
       "\n",
       "    .dataframe thead th {\n",
       "        text-align: right;\n",
       "    }\n",
       "</style>\n",
       "<table border=\"1\" class=\"dataframe\">\n",
       "  <thead>\n",
       "    <tr style=\"text-align: right;\">\n",
       "      <th></th>\n",
       "      <th>n_factors</th>\n",
       "      <th>n_hidden_1</th>\n",
       "      <th>n_hidden_2</th>\n",
       "      <th>val_loss</th>\n",
       "      <th>val_acc</th>\n",
       "      <th>train_loss_hist</th>\n",
       "      <th>val_loss_hist</th>\n",
       "      <th>train_acc_hist</th>\n",
       "      <th>val_acc_hist</th>\n",
       "    </tr>\n",
       "  </thead>\n",
       "  <tbody>\n",
       "    <tr>\n",
       "      <th>11</th>\n",
       "      <td>200</td>\n",
       "      <td>100</td>\n",
       "      <td>100</td>\n",
       "      <td>0.634391</td>\n",
       "      <td>0.631196</td>\n",
       "      <td>[0.6799719030949618, 0.6538735683253735, 0.639...</td>\n",
       "      <td>[0.656111725118776, 0.6273785146656415, 0.6142...</td>\n",
       "      <td>[0.5697771, 0.6374897, 0.6284063, 0.6366639, 0...</td>\n",
       "      <td>[0.6589404, 0.6754967, 0.6821192, 0.6721854, 0...</td>\n",
       "    </tr>\n",
       "    <tr>\n",
       "      <th>10</th>\n",
       "      <td>200</td>\n",
       "      <td>100</td>\n",
       "      <td>50</td>\n",
       "      <td>0.636529</td>\n",
       "      <td>0.625242</td>\n",
       "      <td>[0.68565977116836, 0.6643060801641494, 0.64932...</td>\n",
       "      <td>[0.6667345967513836, 0.641903289106508, 0.6251...</td>\n",
       "      <td>[0.5590421, 0.62923205, 0.63336086, 0.6407927,...</td>\n",
       "      <td>[0.66225165, 0.6754967, 0.6721854, 0.66887414,...</td>\n",
       "    </tr>\n",
       "    <tr>\n",
       "      <th>7</th>\n",
       "      <td>100</td>\n",
       "      <td>100</td>\n",
       "      <td>100</td>\n",
       "      <td>0.639080</td>\n",
       "      <td>0.627887</td>\n",
       "      <td>[0.6835945834314203, 0.6629803921445946, 0.649...</td>\n",
       "      <td>[0.6642093638710628, 0.6366910997605482, 0.619...</td>\n",
       "      <td>[0.5780347, 0.6151941, 0.61849713, 0.61849713,...</td>\n",
       "      <td>[0.6456954, 0.6423841, 0.63907284, 0.6490066, ...</td>\n",
       "    </tr>\n",
       "    <tr>\n",
       "      <th>5</th>\n",
       "      <td>100</td>\n",
       "      <td>50</td>\n",
       "      <td>100</td>\n",
       "      <td>0.639409</td>\n",
       "      <td>0.623928</td>\n",
       "      <td>[0.6783501644158146, 0.6587709308064348, 0.647...</td>\n",
       "      <td>[0.6579029556141783, 0.6336303763831688, 0.620...</td>\n",
       "      <td>[0.5871181, 0.60611063, 0.611891, 0.611891, 0....</td>\n",
       "      <td>[0.6490066, 0.6456954, 0.63907284, 0.6589404, ...</td>\n",
       "    </tr>\n",
       "    <tr>\n",
       "      <th>9</th>\n",
       "      <td>200</td>\n",
       "      <td>50</td>\n",
       "      <td>100</td>\n",
       "      <td>0.640560</td>\n",
       "      <td>0.628545</td>\n",
       "      <td>[0.6764455629123527, 0.6524980644073297, 0.641...</td>\n",
       "      <td>[0.6519363262005989, 0.6260997155644247, 0.616...</td>\n",
       "      <td>[0.597853, 0.6275805, 0.63170934, 0.6366639, 0...</td>\n",
       "      <td>[0.6490066, 0.6490066, 0.6456954, 0.6490066, 0...</td>\n",
       "    </tr>\n",
       "    <tr>\n",
       "      <th>8</th>\n",
       "      <td>200</td>\n",
       "      <td>50</td>\n",
       "      <td>50</td>\n",
       "      <td>0.641612</td>\n",
       "      <td>0.625242</td>\n",
       "      <td>[0.6855154594146545, 0.6660685414720625, 0.653...</td>\n",
       "      <td>[0.6675781394472186, 0.643778209259968, 0.6272...</td>\n",
       "      <td>[0.5639967, 0.6234517, 0.6209744, 0.63336086, ...</td>\n",
       "      <td>[0.6589404, 0.6456954, 0.6423841, 0.6490066, 0...</td>\n",
       "    </tr>\n",
       "    <tr>\n",
       "      <th>1</th>\n",
       "      <td>50</td>\n",
       "      <td>50</td>\n",
       "      <td>100</td>\n",
       "      <td>0.641890</td>\n",
       "      <td>0.616661</td>\n",
       "      <td>[0.6801429476548974, 0.6651297323867175, 0.654...</td>\n",
       "      <td>[0.6638502991752119, 0.6431749245978349, 0.628...</td>\n",
       "      <td>[0.61271673, 0.6085879, 0.60611063, 0.61271673...</td>\n",
       "      <td>[0.6490066, 0.66887414, 0.6754967, 0.6821192, ...</td>\n",
       "    </tr>\n",
       "    <tr>\n",
       "      <th>6</th>\n",
       "      <td>100</td>\n",
       "      <td>100</td>\n",
       "      <td>50</td>\n",
       "      <td>0.643089</td>\n",
       "      <td>0.621940</td>\n",
       "      <td>[0.6903239869067336, 0.6738445346361345, 0.660...</td>\n",
       "      <td>[0.6742422395194603, 0.652297492453594, 0.6355...</td>\n",
       "      <td>[0.52683735, 0.5937242, 0.6094137, 0.6135425, ...</td>\n",
       "      <td>[0.6423841, 0.63245034, 0.6423841, 0.6423841, ...</td>\n",
       "    </tr>\n",
       "    <tr>\n",
       "      <th>3</th>\n",
       "      <td>50</td>\n",
       "      <td>100</td>\n",
       "      <td>100</td>\n",
       "      <td>0.643686</td>\n",
       "      <td>0.608061</td>\n",
       "      <td>[0.6862890340886167, 0.6713248806783328, 0.658...</td>\n",
       "      <td>[0.6730248647809818, 0.6515781997844873, 0.634...</td>\n",
       "      <td>[0.57060283, 0.6028076, 0.6003303, 0.60776216,...</td>\n",
       "      <td>[0.6092715, 0.6357616, 0.62913907, 0.63245034,...</td>\n",
       "    </tr>\n",
       "    <tr>\n",
       "      <th>4</th>\n",
       "      <td>100</td>\n",
       "      <td>50</td>\n",
       "      <td>50</td>\n",
       "      <td>0.644122</td>\n",
       "      <td>0.617313</td>\n",
       "      <td>[0.6905663848710789, 0.6745668287911167, 0.662...</td>\n",
       "      <td>[0.6800712856235883, 0.6588892486711212, 0.641...</td>\n",
       "      <td>[0.5342692, 0.59207267, 0.60776216, 0.6094137,...</td>\n",
       "      <td>[0.6357616, 0.62913907, 0.62913907, 0.63907284...</td>\n",
       "    </tr>\n",
       "  </tbody>\n",
       "</table>\n",
       "</div>"
      ],
      "text/plain": [
       "    n_factors  n_hidden_1  n_hidden_2  val_loss   val_acc  \\\n",
       "11        200         100         100  0.634391  0.631196   \n",
       "10        200         100          50  0.636529  0.625242   \n",
       "7         100         100         100  0.639080  0.627887   \n",
       "5         100          50         100  0.639409  0.623928   \n",
       "9         200          50         100  0.640560  0.628545   \n",
       "8         200          50          50  0.641612  0.625242   \n",
       "1          50          50         100  0.641890  0.616661   \n",
       "6         100         100          50  0.643089  0.621940   \n",
       "3          50         100         100  0.643686  0.608061   \n",
       "4         100          50          50  0.644122  0.617313   \n",
       "\n",
       "                                      train_loss_hist  \\\n",
       "11  [0.6799719030949618, 0.6538735683253735, 0.639...   \n",
       "10  [0.68565977116836, 0.6643060801641494, 0.64932...   \n",
       "7   [0.6835945834314203, 0.6629803921445946, 0.649...   \n",
       "5   [0.6783501644158146, 0.6587709308064348, 0.647...   \n",
       "9   [0.6764455629123527, 0.6524980644073297, 0.641...   \n",
       "8   [0.6855154594146545, 0.6660685414720625, 0.653...   \n",
       "1   [0.6801429476548974, 0.6651297323867175, 0.654...   \n",
       "6   [0.6903239869067336, 0.6738445346361345, 0.660...   \n",
       "3   [0.6862890340886167, 0.6713248806783328, 0.658...   \n",
       "4   [0.6905663848710789, 0.6745668287911167, 0.662...   \n",
       "\n",
       "                                        val_loss_hist  \\\n",
       "11  [0.656111725118776, 0.6273785146656415, 0.6142...   \n",
       "10  [0.6667345967513836, 0.641903289106508, 0.6251...   \n",
       "7   [0.6642093638710628, 0.6366910997605482, 0.619...   \n",
       "5   [0.6579029556141783, 0.6336303763831688, 0.620...   \n",
       "9   [0.6519363262005989, 0.6260997155644247, 0.616...   \n",
       "8   [0.6675781394472186, 0.643778209259968, 0.6272...   \n",
       "1   [0.6638502991752119, 0.6431749245978349, 0.628...   \n",
       "6   [0.6742422395194603, 0.652297492453594, 0.6355...   \n",
       "3   [0.6730248647809818, 0.6515781997844873, 0.634...   \n",
       "4   [0.6800712856235883, 0.6588892486711212, 0.641...   \n",
       "\n",
       "                                       train_acc_hist  \\\n",
       "11  [0.5697771, 0.6374897, 0.6284063, 0.6366639, 0...   \n",
       "10  [0.5590421, 0.62923205, 0.63336086, 0.6407927,...   \n",
       "7   [0.5780347, 0.6151941, 0.61849713, 0.61849713,...   \n",
       "5   [0.5871181, 0.60611063, 0.611891, 0.611891, 0....   \n",
       "9   [0.597853, 0.6275805, 0.63170934, 0.6366639, 0...   \n",
       "8   [0.5639967, 0.6234517, 0.6209744, 0.63336086, ...   \n",
       "1   [0.61271673, 0.6085879, 0.60611063, 0.61271673...   \n",
       "6   [0.52683735, 0.5937242, 0.6094137, 0.6135425, ...   \n",
       "3   [0.57060283, 0.6028076, 0.6003303, 0.60776216,...   \n",
       "4   [0.5342692, 0.59207267, 0.60776216, 0.6094137,...   \n",
       "\n",
       "                                         val_acc_hist  \n",
       "11  [0.6589404, 0.6754967, 0.6821192, 0.6721854, 0...  \n",
       "10  [0.66225165, 0.6754967, 0.6721854, 0.66887414,...  \n",
       "7   [0.6456954, 0.6423841, 0.63907284, 0.6490066, ...  \n",
       "5   [0.6490066, 0.6456954, 0.63907284, 0.6589404, ...  \n",
       "9   [0.6490066, 0.6490066, 0.6456954, 0.6490066, 0...  \n",
       "8   [0.6589404, 0.6456954, 0.6423841, 0.6490066, 0...  \n",
       "1   [0.6490066, 0.66887414, 0.6754967, 0.6821192, ...  \n",
       "6   [0.6423841, 0.63245034, 0.6423841, 0.6423841, ...  \n",
       "3   [0.6092715, 0.6357616, 0.62913907, 0.63245034,...  \n",
       "4   [0.6357616, 0.62913907, 0.62913907, 0.63907284...  "
      ]
     },
     "execution_count": 14,
     "metadata": {},
     "output_type": "execute_result"
    }
   ],
   "source": [
    "# get best 10 models\n",
    "grid_results = grid_results.sort_values('val_loss')\n",
    "grid_results.to_csv(path+'grid_results.csv', index=False)\n",
    "\n",
    "grid_results.head(10)"
   ]
  },
  {
   "cell_type": "code",
   "execution_count": 15,
   "metadata": {},
   "outputs": [],
   "source": [
    "sns.set(style='whitegrid', palette='muted',\n",
    "        rc={'figure.figsize': (16,9),\n",
    "            'font.family': 'serif'})"
   ]
  },
  {
   "cell_type": "code",
   "execution_count": 16,
   "metadata": {},
   "outputs": [
    {
     "data": {
      "image/png": "[encoded data removed]",
      "text/plain": [
       "<Figure size 1152x648 with 1 Axes>"
      ]
     },
     "metadata": {},
     "output_type": "display_data"
    }
   ],
   "source": [
    "# plot training curve of best model\n",
    "plt.plot(grid_results.train_loss_hist.values[0], label='train')\n",
    "plt.plot(grid_results.val_loss_hist.values[0], label='test')\n",
    "plt.title('Train vs validation loss')\n",
    "plt.legend()\n",
    "plt.show()"
   ]
  },
  {
   "cell_type": "code",
   "execution_count": 17,
   "metadata": {},
   "outputs": [
    {
     "data": {
      "image/png": "[encoded data removed]",
      "text/plain": [
       "<Figure size 1152x648 with 1 Axes>"
      ]
     },
     "metadata": {},
     "output_type": "display_data"
    }
   ],
   "source": [
    "# train vs test accuracy\n",
    "plt.plot(grid_results.train_acc_hist.values[0], label='train')\n",
    "plt.plot(grid_results.val_acc_hist.values[0], label='validation')\n",
    "plt.title('Train vs validation accuracy')\n",
    "plt.legend()\n",
    "plt.show()"
   ]
  },
  {
   "cell_type": "code",
   "execution_count": 18,
   "metadata": {},
   "outputs": [
    {
     "data": {
      "text/plain": [
       "n_factors     200\n",
       "n_hidden_1    100\n",
       "n_hidden_2    100\n",
       "Name: 11, dtype: object"
      ]
     },
     "execution_count": 18,
     "metadata": {},
     "output_type": "execute_result"
    }
   ],
   "source": [
    "best_rating_hparams = grid_results.iloc[0,:][['n_factors' ,'n_hidden_1', 'n_hidden_2']]\n",
    "best_rating_hparams"
   ]
  },
  {
   "cell_type": "code",
   "execution_count": 19,
   "metadata": {},
   "outputs": [
    {
     "data": {
      "image/png": "[encoded data removed]",
      "text/plain": [
       "<Figure size 864x576 with 1 Axes>"
      ]
     },
     "metadata": {},
     "output_type": "display_data"
    }
   ],
   "source": [
    "plt.figure(figsize=(12,8))\n",
    "sns.scatterplot(x='n_factors',\n",
    "                y='val_loss',\n",
    "#                 hue='n_hidden_2',\n",
    "#                 size='n_hidden_2',\n",
    "#                 palette='Set3',\n",
    "                data=grid_results)\n",
    "\n",
    "plt.title('Number of latent factors vs validation loss', fontsize=18)\n",
    "plt.xlabel('Number of latent factors', fontsize=16)\n",
    "plt.xticks([50,100,150,200])\n",
    "plt.ylabel('Avg. CV loss', fontsize=16)\n",
    "plt.savefig('figures/5_ml100k-latent-factors.pdf', bbox_inches='tight')\n",
    "# plt.legend(title='Hidden layer in genre model')\n",
    "plt.show()"
   ]
  },
  {
   "cell_type": "markdown",
   "metadata": {},
   "source": [
    "## 2. Number of epochs"
   ]
  },
  {
   "cell_type": "code",
   "execution_count": 20,
   "metadata": {},
   "outputs": [],
   "source": [
    "# hyper parameters\n",
    "HP_EPOCH_1 = [5, 6, 7]\n",
    "HP_EPOCH_2 = [3, 4, 5]"
   ]
  },
  {
   "cell_type": "code",
   "execution_count": 21,
   "metadata": {},
   "outputs": [
    {
     "name": "stdout",
     "output_type": "stream",
     "text": [
      "Fitting total of 9 models\n",
      "\n",
      "Fitting CGT model #1 for 5 epochs and 3 epochs\n",
      "_____________________________________CV avg val loss=0.6403\n",
      "_____________________________________CV avg val acc=0.6246\n",
      "\n",
      "Fitting CGT model #2 for 5 epochs and 4 epochs\n",
      "_____________________________________CV avg val loss=0.6387\n",
      "_____________________________________CV avg val acc=0.6285\n",
      "\n",
      "Fitting CGT model #3 for 5 epochs and 5 epochs\n",
      "_____________________________________CV avg val loss=0.6376\n",
      "_____________________________________CV avg val acc=0.6272\n",
      "\n",
      "Fitting CGT model #4 for 6 epochs and 3 epochs\n",
      "_____________________________________CV avg val loss=0.6385\n",
      "_____________________________________CV avg val acc=0.6338\n",
      "\n",
      "Fitting CGT model #5 for 6 epochs and 4 epochs\n",
      "_____________________________________CV avg val loss=0.6366\n",
      "_____________________________________CV avg val acc=0.6332\n",
      "\n",
      "Fitting CGT model #6 for 6 epochs and 5 epochs\n",
      "_____________________________________CV avg val loss=0.6353\n",
      "_____________________________________CV avg val acc=0.6319\n",
      "\n",
      "Fitting CGT model #7 for 7 epochs and 3 epochs\n",
      "_____________________________________CV avg val loss=0.6384\n",
      "_____________________________________CV avg val acc=0.6279\n",
      "\n",
      "Fitting CGT model #8 for 7 epochs and 4 epochs\n",
      "_____________________________________CV avg val loss=0.6360\n",
      "_____________________________________CV avg val acc=0.6312\n",
      "\n",
      "Fitting CGT model #9 for 7 epochs and 5 epochs\n",
      "_____________________________________CV avg val loss=0.6344\n",
      "_____________________________________CV avg val acc=0.6312\n",
      "\n"
     ]
    }
   ],
   "source": [
    "# dataframe to store results of grid search\n",
    "grid_results_2 = []\n",
    "searches = 1\n",
    "\n",
    "n_models = len(HP_EPOCH_1) * len(HP_EPOCH_2)\n",
    "\n",
    "print(f'Fitting total of {n_models} models\\n')\n",
    "\n",
    "for EPOCH_1 in HP_EPOCH_1:\n",
    "    for EPOCH_2 in HP_EPOCH_2:\n",
    "\n",
    "        print(f'Fitting CGT model #{searches} for {EPOCH_1} epochs and {EPOCH_2} epochs')\n",
    "        searches += 1\n",
    "\n",
    "        # Create 5 CV folds\n",
    "        kf = KFold(n_splits=5, random_state=42)\n",
    "\n",
    "        # initialise loss and epoch count\n",
    "        total_loss = 0\n",
    "        total_acc = 0\n",
    "        count = 1\n",
    "        min_epochs = 10\n",
    "\n",
    "        # do CV split and compute baseline predictors each time\n",
    "        for train_index, test_index in kf.split(movies):\n",
    "\n",
    "            # get baseline rating predictors for full dataset\n",
    "            train, _, _ = get_baseline(df, df.index, df.index)\n",
    "\n",
    "            # compile both models with search hparams\n",
    "            model1, model2 = compile_genre_model(\n",
    "                n_items=df.movieId.nunique(),\n",
    "                n_users=df.userId.nunique(),\n",
    "                min_rating=df.rating.min(),\n",
    "                max_rating=df.rating.max(),\n",
    "                mean_rating=df.rating.mean(),\n",
    "                n_latent=best_rating_hparams.n_factors, \n",
    "                n_hidden_1=best_rating_hparams.n_hidden_1,\n",
    "                n_hidden_2=best_rating_hparams.n_hidden_2\n",
    "            )\n",
    "\n",
    "            # train rating model on all data\n",
    "            ratings = model1.fit(\n",
    "                x=[train.userId.values, train.movieId.values, train.bias.values],\n",
    "                y=train.rating.values, \n",
    "                batch_size=512,\n",
    "                epochs=EPOCH_1,\n",
    "                verbose=0,\n",
    "                validation_split=.2\n",
    "            )\n",
    "\n",
    "            # train genre model on 5 CV folds\n",
    "            train = movies.iloc[train_index]\n",
    "            test = movies.iloc[test_index]\n",
    "\n",
    "            # train model on current fold\n",
    "            result = model2.fit(\n",
    "                train.movieId.values, train.Drama.values,\n",
    "                batch_size=64, \n",
    "                epochs=EPOCH_2,\n",
    "                verbose=0,\n",
    "                validation_data=(test.movieId.values, test.Drama.values))\n",
    "\n",
    "            # get loss from this fold\n",
    "            fold_loss = result.history['val_loss'][-1]\n",
    "            total_loss += fold_loss\n",
    "            fold_acc = result.history['val_accuracy'][-1]\n",
    "            total_acc += fold_acc\n",
    "\n",
    "            count += 1\n",
    "\n",
    "            del model1, model2\n",
    "\n",
    "        # calculate average holdout loss across all CV folds\n",
    "        avg_loss = total_loss / 5\n",
    "        avg_acc = total_acc / 5\n",
    "        print(f'_____________________________________CV avg val loss={avg_loss:.4f}')\n",
    "        print(f'_____________________________________CV avg val acc={avg_acc:.4f}')\n",
    "\n",
    "        grid_results_2.append({'epoch_1':EPOCH_1,\n",
    "                               'epoch_2':EPOCH_2,\n",
    "                               'val_loss':avg_loss,\n",
    "                               'val_acc':avg_acc,\n",
    "                               'train_loss_hist':result.history['loss'],\n",
    "                               'val_loss_hist':result.history['val_loss'],\n",
    "                               'train_acc_hist':result.history['accuracy'],\n",
    "                               'val_acc_hist':result.history['val_accuracy']})\n",
    "\n",
    "        print()\n",
    "#             break\n",
    "#         break\n",
    "    \n",
    "col_order = grid_results_2[0].keys()\n",
    "\n",
    "# save results to data frame\n",
    "grid_results_2 = pd.DataFrame(grid_results_2)\n",
    "# reorder columns\n",
    "grid_results_2 = grid_results_2[col_order]"
   ]
  },
  {
   "cell_type": "code",
   "execution_count": 22,
   "metadata": {},
   "outputs": [
    {
     "data": {
      "text/html": [
       "<div>\n",
       "<style scoped>\n",
       "    .dataframe tbody tr th:only-of-type {\n",
       "        vertical-align: middle;\n",
       "    }\n",
       "\n",
       "    .dataframe tbody tr th {\n",
       "        vertical-align: top;\n",
       "    }\n",
       "\n",
       "    .dataframe thead th {\n",
       "        text-align: right;\n",
       "    }\n",
       "</style>\n",
       "<table border=\"1\" class=\"dataframe\">\n",
       "  <thead>\n",
       "    <tr style=\"text-align: right;\">\n",
       "      <th></th>\n",
       "      <th>epoch_1</th>\n",
       "      <th>epoch_2</th>\n",
       "      <th>val_loss</th>\n",
       "      <th>val_acc</th>\n",
       "      <th>train_loss_hist</th>\n",
       "      <th>val_loss_hist</th>\n",
       "      <th>train_acc_hist</th>\n",
       "      <th>val_acc_hist</th>\n",
       "    </tr>\n",
       "  </thead>\n",
       "  <tbody>\n",
       "    <tr>\n",
       "      <th>8</th>\n",
       "      <td>7</td>\n",
       "      <td>5</td>\n",
       "      <td>0.634391</td>\n",
       "      <td>0.631196</td>\n",
       "      <td>[0.6799719030949618, 0.6538735683253735, 0.639...</td>\n",
       "      <td>[0.656111725118776, 0.6273785146656415, 0.6142...</td>\n",
       "      <td>[0.5697771, 0.6374897, 0.6284063, 0.6366639, 0...</td>\n",
       "      <td>[0.6589404, 0.6754967, 0.6821192, 0.6721854, 0...</td>\n",
       "    </tr>\n",
       "    <tr>\n",
       "      <th>5</th>\n",
       "      <td>6</td>\n",
       "      <td>5</td>\n",
       "      <td>0.635266</td>\n",
       "      <td>0.631856</td>\n",
       "      <td>[0.6800451562190036, 0.65382656068668, 0.63959...</td>\n",
       "      <td>[0.6567415614791264, 0.6274575721349148, 0.614...</td>\n",
       "      <td>[0.5895954, 0.6374897, 0.6350124, 0.63996696, ...</td>\n",
       "      <td>[0.65562916, 0.6655629, 0.6655629, 0.66887414,...</td>\n",
       "    </tr>\n",
       "    <tr>\n",
       "      <th>7</th>\n",
       "      <td>7</td>\n",
       "      <td>4</td>\n",
       "      <td>0.636045</td>\n",
       "      <td>0.631202</td>\n",
       "      <td>[0.6799719030949618, 0.6538735683253735, 0.639...</td>\n",
       "      <td>[0.656111725118776, 0.6273785146656415, 0.6142...</td>\n",
       "      <td>[0.5697771, 0.6374897, 0.6284063, 0.6366639]</td>\n",
       "      <td>[0.6589404, 0.6754967, 0.6821192, 0.6721854]</td>\n",
       "    </tr>\n",
       "    <tr>\n",
       "      <th>4</th>\n",
       "      <td>6</td>\n",
       "      <td>4</td>\n",
       "      <td>0.636588</td>\n",
       "      <td>0.633185</td>\n",
       "      <td>[0.6800451562190036, 0.65382656068668, 0.63959...</td>\n",
       "      <td>[0.6567415614791264, 0.6274575721349148, 0.614...</td>\n",
       "      <td>[0.5895954, 0.6374897, 0.6350124, 0.63996696]</td>\n",
       "      <td>[0.65562916, 0.6655629, 0.6655629, 0.66887414]</td>\n",
       "    </tr>\n",
       "    <tr>\n",
       "      <th>2</th>\n",
       "      <td>5</td>\n",
       "      <td>5</td>\n",
       "      <td>0.637616</td>\n",
       "      <td>0.627218</td>\n",
       "      <td>[0.6805931951859882, 0.6553502387000351, 0.641...</td>\n",
       "      <td>[0.6575600157510366, 0.6289482321960247, 0.615...</td>\n",
       "      <td>[0.58546656, 0.62510324, 0.63831544, 0.6383154...</td>\n",
       "      <td>[0.6357616, 0.65562916, 0.6589404, 0.6655629, ...</td>\n",
       "    </tr>\n",
       "  </tbody>\n",
       "</table>\n",
       "</div>"
      ],
      "text/plain": [
       "   epoch_1  epoch_2  val_loss   val_acc  \\\n",
       "8        7        5  0.634391  0.631196   \n",
       "5        6        5  0.635266  0.631856   \n",
       "7        7        4  0.636045  0.631202   \n",
       "4        6        4  0.636588  0.633185   \n",
       "2        5        5  0.637616  0.627218   \n",
       "\n",
       "                                     train_loss_hist  \\\n",
       "8  [0.6799719030949618, 0.6538735683253735, 0.639...   \n",
       "5  [0.6800451562190036, 0.65382656068668, 0.63959...   \n",
       "7  [0.6799719030949618, 0.6538735683253735, 0.639...   \n",
       "4  [0.6800451562190036, 0.65382656068668, 0.63959...   \n",
       "2  [0.6805931951859882, 0.6553502387000351, 0.641...   \n",
       "\n",
       "                                       val_loss_hist  \\\n",
       "8  [0.656111725118776, 0.6273785146656415, 0.6142...   \n",
       "5  [0.6567415614791264, 0.6274575721349148, 0.614...   \n",
       "7  [0.656111725118776, 0.6273785146656415, 0.6142...   \n",
       "4  [0.6567415614791264, 0.6274575721349148, 0.614...   \n",
       "2  [0.6575600157510366, 0.6289482321960247, 0.615...   \n",
       "\n",
       "                                      train_acc_hist  \\\n",
       "8  [0.5697771, 0.6374897, 0.6284063, 0.6366639, 0...   \n",
       "5  [0.5895954, 0.6374897, 0.6350124, 0.63996696, ...   \n",
       "7       [0.5697771, 0.6374897, 0.6284063, 0.6366639]   \n",
       "4      [0.5895954, 0.6374897, 0.6350124, 0.63996696]   \n",
       "2  [0.58546656, 0.62510324, 0.63831544, 0.6383154...   \n",
       "\n",
       "                                        val_acc_hist  \n",
       "8  [0.6589404, 0.6754967, 0.6821192, 0.6721854, 0...  \n",
       "5  [0.65562916, 0.6655629, 0.6655629, 0.66887414,...  \n",
       "7       [0.6589404, 0.6754967, 0.6821192, 0.6721854]  \n",
       "4     [0.65562916, 0.6655629, 0.6655629, 0.66887414]  \n",
       "2  [0.6357616, 0.65562916, 0.6589404, 0.6655629, ...  "
      ]
     },
     "execution_count": 22,
     "metadata": {},
     "output_type": "execute_result"
    }
   ],
   "source": [
    "# get best 5 models\n",
    "grid_results_2 = grid_results_2.sort_values('val_loss')\n",
    "grid_results_2.to_csv(path+'grid_results_2.csv', index=False)\n",
    "\n",
    "grid_results_2.head(5)"
   ]
  },
  {
   "cell_type": "code",
   "execution_count": 23,
   "metadata": {},
   "outputs": [
    {
     "data": {
      "image/png": "[encoded data removed]",
      "text/plain": [
       "<Figure size 1152x648 with 1 Axes>"
      ]
     },
     "metadata": {},
     "output_type": "display_data"
    }
   ],
   "source": [
    "# plot training curve of best model\n",
    "plt.plot(grid_results_2.train_loss_hist.values[0], label='train')\n",
    "plt.plot(grid_results_2.val_loss_hist.values[0], label='test')\n",
    "plt.title('Train vs validation loss')\n",
    "plt.legend()\n",
    "plt.show()"
   ]
  },
  {
   "cell_type": "code",
   "execution_count": 24,
   "metadata": {},
   "outputs": [
    {
     "data": {
      "image/png": "[encoded data removed]",
      "text/plain": [
       "<Figure size 1152x648 with 1 Axes>"
      ]
     },
     "metadata": {},
     "output_type": "display_data"
    }
   ],
   "source": [
    "# train vs test accuracy\n",
    "plt.plot(grid_results_2.train_acc_hist.values[0], label='train')\n",
    "plt.plot(grid_results_2.val_acc_hist.values[0], label='validation')\n",
    "plt.title('Train vs validation accuracy')\n",
    "plt.legend()\n",
    "plt.show()"
   ]
  },
  {
   "cell_type": "code",
   "execution_count": 25,
   "metadata": {},
   "outputs": [
    {
     "data": {
      "text/plain": [
       "n_factors     200\n",
       "n_hidden_1    100\n",
       "n_hidden_2    100\n",
       "epoch_1         7\n",
       "epoch_2         5\n",
       "dtype: object"
      ]
     },
     "execution_count": 25,
     "metadata": {},
     "output_type": "execute_result"
    }
   ],
   "source": [
    "best_rating_hparams = pd.concat((best_rating_hparams, grid_results_2.iloc[0,:][['epoch_1', 'epoch_2']]))\n",
    "best_rating_hparams"
   ]
  },
  {
   "cell_type": "markdown",
   "metadata": {},
   "source": [
    "## 3. Dropout rates"
   ]
  },
  {
   "cell_type": "code",
   "execution_count": 26,
   "metadata": {},
   "outputs": [],
   "source": [
    "# hyper parameters\n",
    "HP_DROPOUT_1 = [.15, .2, .25]\n",
    "HP_DROPOUT_2 = [.15, .2, .25]"
   ]
  },
  {
   "cell_type": "code",
   "execution_count": 27,
   "metadata": {},
   "outputs": [
    {
     "name": "stdout",
     "output_type": "stream",
     "text": [
      "Fitting total of 9 models\n",
      "\n",
      "Fitting CGT model #1 with dr1: 0.15 | dr2: 0.15\n",
      "_____________________________________CV avg val loss=0.6355\n",
      "_____________________________________CV avg val acc=0.6286\n",
      "\n",
      "Fitting CGT model #2 with dr1: 0.15 | dr2: 0.2\n",
      "_____________________________________CV avg val loss=0.6356\n",
      "_____________________________________CV avg val acc=0.6292\n",
      "\n",
      "Fitting CGT model #3 with dr1: 0.15 | dr2: 0.25\n",
      "_____________________________________CV avg val loss=0.6357\n",
      "_____________________________________CV avg val acc=0.6279\n",
      "\n",
      "Fitting CGT model #4 with dr1: 0.2 | dr2: 0.15\n",
      "_____________________________________CV avg val loss=0.6343\n",
      "_____________________________________CV avg val acc=0.6305\n",
      "\n",
      "Fitting CGT model #5 with dr1: 0.2 | dr2: 0.2\n",
      "_____________________________________CV avg val loss=0.6344\n",
      "_____________________________________CV avg val acc=0.6312\n",
      "\n",
      "Fitting CGT model #6 with dr1: 0.2 | dr2: 0.25\n",
      "_____________________________________CV avg val loss=0.6345\n",
      "_____________________________________CV avg val acc=0.6332\n",
      "\n",
      "Fitting CGT model #7 with dr1: 0.25 | dr2: 0.15\n",
      "_____________________________________CV avg val loss=0.6334\n",
      "_____________________________________CV avg val acc=0.6299\n",
      "\n",
      "Fitting CGT model #8 with dr1: 0.25 | dr2: 0.2\n",
      "_____________________________________CV avg val loss=0.6336\n",
      "_____________________________________CV avg val acc=0.6332\n",
      "\n",
      "Fitting CGT model #9 with dr1: 0.25 | dr2: 0.25\n",
      "_____________________________________CV avg val loss=0.6337\n",
      "_____________________________________CV avg val acc=0.6319\n",
      "\n"
     ]
    }
   ],
   "source": [
    "# dataframe to store results of grid search\n",
    "grid_results_3 = []\n",
    "searches = 1\n",
    "\n",
    "n_models = len(HP_DROPOUT_1) * len(HP_DROPOUT_2)\n",
    "\n",
    "print(f'Fitting total of {n_models} models\\n')\n",
    "\n",
    "for DROPOUT_1 in HP_DROPOUT_1:\n",
    "    for DROPOUT_2 in HP_DROPOUT_2:\n",
    "\n",
    "        print(f'Fitting CGT model #{searches} with dr1: {DROPOUT_1} | dr2: {DROPOUT_2}')\n",
    "        searches += 1\n",
    "\n",
    "        # Create 5 CV folds\n",
    "        kf = KFold(n_splits=5, random_state=42)\n",
    "\n",
    "        # initialise loss and epoch count\n",
    "        total_loss = 0\n",
    "        total_acc = 0\n",
    "        count = 1\n",
    "        min_epochs = 10\n",
    "\n",
    "        # do CV split and compute baseline predictors each time\n",
    "        for train_index, test_index in kf.split(movies):\n",
    "\n",
    "            # get baseline rating predictors for full dataset\n",
    "            train, _, _ = get_baseline(df, df.index, df.index)\n",
    "\n",
    "            # compile both models with search hparams\n",
    "            model1, model2 = compile_genre_model(\n",
    "                n_items=df.movieId.nunique(),\n",
    "                n_users=df.userId.nunique(),\n",
    "                min_rating=df.rating.min(),\n",
    "                max_rating=df.rating.max(),\n",
    "                mean_rating=df.rating.mean(),\n",
    "                n_latent=best_rating_hparams.n_factors, \n",
    "                n_hidden_1=best_rating_hparams.n_hidden_1,\n",
    "                n_hidden_2=best_rating_hparams.n_hidden_2,\n",
    "                dropout_1=DROPOUT_1,\n",
    "                dropout_2=DROPOUT_2\n",
    "            )\n",
    "\n",
    "            # train rating model on all data\n",
    "            ratings = model1.fit(\n",
    "                x=[train.userId.values, train.movieId.values, train.bias.values],\n",
    "                y=train.rating.values, \n",
    "                batch_size=512,\n",
    "                epochs=best_rating_hparams.epoch_1,\n",
    "                verbose=0,\n",
    "                validation_split=.2\n",
    "            )\n",
    "\n",
    "            # train genre model on 5 CV folds\n",
    "            train = movies.iloc[train_index]\n",
    "            test = movies.iloc[test_index]\n",
    "\n",
    "            # train model on current fold\n",
    "            result = model2.fit(\n",
    "                train.movieId.values, train.Drama.values,\n",
    "                batch_size=64, \n",
    "                epochs=best_rating_hparams.epoch_2,\n",
    "                verbose=0,\n",
    "                validation_data=(test.movieId.values, test.Drama.values))\n",
    "\n",
    "            # get loss from this fold\n",
    "            fold_loss = result.history['val_loss'][-1]\n",
    "            total_loss += fold_loss\n",
    "            fold_acc = result.history['val_accuracy'][-1]\n",
    "            total_acc += fold_acc\n",
    "            count += 1\n",
    "\n",
    "            del model1, model2\n",
    "\n",
    "        # calculate average holdout loss across all CV folds\n",
    "        avg_loss = total_loss / 5\n",
    "        avg_acc = total_acc / 5\n",
    "        print(f'_____________________________________CV avg val loss={avg_loss:.4f}')\n",
    "        print(f'_____________________________________CV avg val acc={avg_acc:.4f}')\n",
    "\n",
    "        grid_results_3.append({'dropout_1':DROPOUT_1,\n",
    "                               'dropout_2':DROPOUT_2,\n",
    "                               'val_loss':avg_loss,\n",
    "                               'val_acc':avg_acc,\n",
    "                               'train_loss_hist':result.history['loss'],\n",
    "                               'val_loss_hist':result.history['val_loss'],\n",
    "                               'train_acc_hist':result.history['accuracy'],\n",
    "                               'val_acc_hist':result.history['val_accuracy']})\n",
    "\n",
    "        print()\n",
    "#             break\n",
    "#         break\n",
    "    \n",
    "col_order = grid_results_3[0].keys()\n",
    "\n",
    "# save results to data frame\n",
    "grid_results_3 = pd.DataFrame(grid_results_3)\n",
    "# reorder columns\n",
    "grid_results_3 = grid_results_3[col_order]"
   ]
  },
  {
   "cell_type": "code",
   "execution_count": 28,
   "metadata": {},
   "outputs": [
    {
     "data": {
      "text/html": [
       "<div>\n",
       "<style scoped>\n",
       "    .dataframe tbody tr th:only-of-type {\n",
       "        vertical-align: middle;\n",
       "    }\n",
       "\n",
       "    .dataframe tbody tr th {\n",
       "        vertical-align: top;\n",
       "    }\n",
       "\n",
       "    .dataframe thead th {\n",
       "        text-align: right;\n",
       "    }\n",
       "</style>\n",
       "<table border=\"1\" class=\"dataframe\">\n",
       "  <thead>\n",
       "    <tr style=\"text-align: right;\">\n",
       "      <th></th>\n",
       "      <th>dropout_1</th>\n",
       "      <th>dropout_2</th>\n",
       "      <th>val_loss</th>\n",
       "      <th>val_acc</th>\n",
       "      <th>train_loss_hist</th>\n",
       "      <th>val_loss_hist</th>\n",
       "      <th>train_acc_hist</th>\n",
       "      <th>val_acc_hist</th>\n",
       "    </tr>\n",
       "  </thead>\n",
       "  <tbody>\n",
       "    <tr>\n",
       "      <th>6</th>\n",
       "      <td>0.25</td>\n",
       "      <td>0.15</td>\n",
       "      <td>0.633422</td>\n",
       "      <td>0.629882</td>\n",
       "      <td>[0.6796723707070732, 0.652869732295256, 0.6377...</td>\n",
       "      <td>[0.6552467788292082, 0.6264953396178239, 0.613...</td>\n",
       "      <td>[0.5871181, 0.6284063, 0.6308836, 0.6325351, 0...</td>\n",
       "      <td>[0.6423841, 0.6490066, 0.6456954, 0.6655629, 0...</td>\n",
       "    </tr>\n",
       "    <tr>\n",
       "      <th>7</th>\n",
       "      <td>0.25</td>\n",
       "      <td>0.20</td>\n",
       "      <td>0.633550</td>\n",
       "      <td>0.633189</td>\n",
       "      <td>[0.6799026882717375, 0.6535110604064116, 0.638...</td>\n",
       "      <td>[0.6559610793132655, 0.6274979532949182, 0.614...</td>\n",
       "      <td>[0.5821635, 0.63336086, 0.6308836, 0.6325351, ...</td>\n",
       "      <td>[0.6456954, 0.6456954, 0.6456954, 0.66225165, ...</td>\n",
       "    </tr>\n",
       "    <tr>\n",
       "      <th>8</th>\n",
       "      <td>0.25</td>\n",
       "      <td>0.25</td>\n",
       "      <td>0.633696</td>\n",
       "      <td>0.631865</td>\n",
       "      <td>[0.6801554609880676, 0.6538513908201166, 0.638...</td>\n",
       "      <td>[0.6566360577052792, 0.6283979159317269, 0.614...</td>\n",
       "      <td>[0.5862923, 0.6284063, 0.6275805, 0.63170934, ...</td>\n",
       "      <td>[0.6456954, 0.6456954, 0.6490066, 0.6589404, 0...</td>\n",
       "    </tr>\n",
       "    <tr>\n",
       "      <th>3</th>\n",
       "      <td>0.20</td>\n",
       "      <td>0.15</td>\n",
       "      <td>0.634265</td>\n",
       "      <td>0.630534</td>\n",
       "      <td>[0.6796614232386172, 0.653274898534959, 0.6384...</td>\n",
       "      <td>[0.6554121580344952, 0.6264005990217854, 0.613...</td>\n",
       "      <td>[0.5780347, 0.6391412, 0.6325351, 0.6407927, 0...</td>\n",
       "      <td>[0.6589404, 0.6721854, 0.6821192, 0.6754967, 0...</td>\n",
       "    </tr>\n",
       "    <tr>\n",
       "      <th>4</th>\n",
       "      <td>0.20</td>\n",
       "      <td>0.20</td>\n",
       "      <td>0.634391</td>\n",
       "      <td>0.631196</td>\n",
       "      <td>[0.6799719030949618, 0.6538735683253735, 0.639...</td>\n",
       "      <td>[0.656111725118776, 0.6273785146656415, 0.6142...</td>\n",
       "      <td>[0.5697771, 0.6374897, 0.6284063, 0.6366639, 0...</td>\n",
       "      <td>[0.6589404, 0.6754967, 0.6821192, 0.6721854, 0...</td>\n",
       "    </tr>\n",
       "  </tbody>\n",
       "</table>\n",
       "</div>"
      ],
      "text/plain": [
       "   dropout_1  dropout_2  val_loss   val_acc  \\\n",
       "6       0.25       0.15  0.633422  0.629882   \n",
       "7       0.25       0.20  0.633550  0.633189   \n",
       "8       0.25       0.25  0.633696  0.631865   \n",
       "3       0.20       0.15  0.634265  0.630534   \n",
       "4       0.20       0.20  0.634391  0.631196   \n",
       "\n",
       "                                     train_loss_hist  \\\n",
       "6  [0.6796723707070732, 0.652869732295256, 0.6377...   \n",
       "7  [0.6799026882717375, 0.6535110604064116, 0.638...   \n",
       "8  [0.6801554609880676, 0.6538513908201166, 0.638...   \n",
       "3  [0.6796614232386172, 0.653274898534959, 0.6384...   \n",
       "4  [0.6799719030949618, 0.6538735683253735, 0.639...   \n",
       "\n",
       "                                       val_loss_hist  \\\n",
       "6  [0.6552467788292082, 0.6264953396178239, 0.613...   \n",
       "7  [0.6559610793132655, 0.6274979532949182, 0.614...   \n",
       "8  [0.6566360577052792, 0.6283979159317269, 0.614...   \n",
       "3  [0.6554121580344952, 0.6264005990217854, 0.613...   \n",
       "4  [0.656111725118776, 0.6273785146656415, 0.6142...   \n",
       "\n",
       "                                      train_acc_hist  \\\n",
       "6  [0.5871181, 0.6284063, 0.6308836, 0.6325351, 0...   \n",
       "7  [0.5821635, 0.63336086, 0.6308836, 0.6325351, ...   \n",
       "8  [0.5862923, 0.6284063, 0.6275805, 0.63170934, ...   \n",
       "3  [0.5780347, 0.6391412, 0.6325351, 0.6407927, 0...   \n",
       "4  [0.5697771, 0.6374897, 0.6284063, 0.6366639, 0...   \n",
       "\n",
       "                                        val_acc_hist  \n",
       "6  [0.6423841, 0.6490066, 0.6456954, 0.6655629, 0...  \n",
       "7  [0.6456954, 0.6456954, 0.6456954, 0.66225165, ...  \n",
       "8  [0.6456954, 0.6456954, 0.6490066, 0.6589404, 0...  \n",
       "3  [0.6589404, 0.6721854, 0.6821192, 0.6754967, 0...  \n",
       "4  [0.6589404, 0.6754967, 0.6821192, 0.6721854, 0...  "
      ]
     },
     "execution_count": 28,
     "metadata": {},
     "output_type": "execute_result"
    }
   ],
   "source": [
    "# get best 5 models\n",
    "grid_results_3 = grid_results_3.sort_values('val_loss')\n",
    "grid_results_3.to_csv(path+'grid_results_3.csv', index=False)\n",
    "\n",
    "grid_results_3.head(5)"
   ]
  },
  {
   "cell_type": "code",
   "execution_count": 29,
   "metadata": {},
   "outputs": [
    {
     "data": {
      "image/png": "[encoded data removed]",
      "text/plain": [
       "<Figure size 1152x648 with 1 Axes>"
      ]
     },
     "metadata": {},
     "output_type": "display_data"
    }
   ],
   "source": [
    "# plot training curve of best model\n",
    "plt.plot(grid_results_3.train_loss_hist.values[0], label='train')\n",
    "plt.plot(grid_results_3.val_loss_hist.values[0], label='test')\n",
    "plt.title('Train vs validation loss')\n",
    "plt.legend()\n",
    "plt.show()"
   ]
  },
  {
   "cell_type": "code",
   "execution_count": 30,
   "metadata": {},
   "outputs": [
    {
     "data": {
      "image/png": "[encoded data removed]",
      "text/plain": [
       "<Figure size 1152x648 with 1 Axes>"
      ]
     },
     "metadata": {},
     "output_type": "display_data"
    }
   ],
   "source": [
    "# train vs test accuracy\n",
    "plt.plot(grid_results_3.train_acc_hist.values[0], label='train')\n",
    "plt.plot(grid_results_3.val_acc_hist.values[0], label='validation')\n",
    "plt.title('Train vs validation accuracy')\n",
    "plt.legend()\n",
    "plt.show()"
   ]
  },
  {
   "cell_type": "code",
   "execution_count": 31,
   "metadata": {},
   "outputs": [
    {
     "data": {
      "text/plain": [
       "n_factors      200\n",
       "n_hidden_1     100\n",
       "n_hidden_2     100\n",
       "epoch_1          7\n",
       "epoch_2          5\n",
       "dropout_1     0.25\n",
       "dropout_2     0.15\n",
       "dtype: object"
      ]
     },
     "execution_count": 31,
     "metadata": {},
     "output_type": "execute_result"
    }
   ],
   "source": [
    "best_rating_hparams = pd.concat((best_rating_hparams, grid_results_3.iloc[0,:][['dropout_1', 'dropout_2']]))\n",
    "best_rating_hparams"
   ]
  },
  {
   "cell_type": "markdown",
   "metadata": {},
   "source": [
    "## 4. Activation function"
   ]
  },
  {
   "cell_type": "code",
   "execution_count": 32,
   "metadata": {},
   "outputs": [],
   "source": [
    "# hyper parameters\n",
    "HP_ACTIVATION = [None, 'relu', 'selu', 'softplus', 'tanh']"
   ]
  },
  {
   "cell_type": "code",
   "execution_count": 33,
   "metadata": {},
   "outputs": [
    {
     "name": "stdout",
     "output_type": "stream",
     "text": [
      "Fitting total of 5 models\n",
      "\n",
      "Fitting CGT model #1 with None\n",
      "_____________________________________CV avg val loss=0.6500\n",
      "_____________________________________CV avg val acc=0.5942\n",
      "\n",
      "Fitting CGT model #2 with relu\n",
      "_____________________________________CV avg val loss=0.6337\n",
      "_____________________________________CV avg val acc=0.6319\n",
      "\n",
      "Fitting CGT model #3 with selu\n",
      "_____________________________________CV avg val loss=0.6467\n",
      "_____________________________________CV avg val acc=0.6067\n",
      "\n",
      "Fitting CGT model #4 with softplus\n",
      "_____________________________________CV avg val loss=0.6461\n",
      "_____________________________________CV avg val acc=0.6081\n",
      "\n",
      "Fitting CGT model #5 with tanh\n",
      "_____________________________________CV avg val loss=0.6494\n",
      "_____________________________________CV avg val acc=0.5995\n",
      "\n"
     ]
    }
   ],
   "source": [
    "# dataframe to store results of grid search\n",
    "grid_results_4 = []\n",
    "searches = 1\n",
    "\n",
    "n_models = len(HP_ACTIVATION)\n",
    "\n",
    "print(f'Fitting total of {n_models} models\\n')\n",
    "\n",
    "for ACTIVATION in HP_ACTIVATION:\n",
    "\n",
    "    print(f'Fitting CGT model #{searches} with {ACTIVATION}')\n",
    "    searches += 1\n",
    "\n",
    "    # Create 5 CV folds\n",
    "    kf = KFold(n_splits=5, random_state=42)\n",
    "\n",
    "    # initialise loss and epoch count\n",
    "    total_loss = 0\n",
    "    total_acc = 0\n",
    "    count = 1\n",
    "    min_epochs = 10\n",
    "\n",
    "    # do CV split and compute baseline predictors each time\n",
    "    for train_index, test_index in kf.split(movies):\n",
    "\n",
    "        # get baseline rating predictors for full dataset\n",
    "        train, _, _ = get_baseline(df, df.index, df.index)\n",
    "\n",
    "        # compile both models with search hparams\n",
    "        model1, model2 = compile_genre_model(\n",
    "            n_items=df.movieId.nunique(),\n",
    "            n_users=df.userId.nunique(),\n",
    "            min_rating=df.rating.min(),\n",
    "            max_rating=df.rating.max(),\n",
    "            mean_rating=df.rating.mean(),\n",
    "            n_latent=best_rating_hparams.n_factors, \n",
    "            n_hidden_1=best_rating_hparams.n_hidden_1,\n",
    "            n_hidden_2=best_rating_hparams.n_hidden_2,\n",
    "            dropout_1=best_rating_hparams.dropout_1,\n",
    "            dropout_2=best_rating_hparams.dropout_2,\n",
    "            activation=ACTIVATION\n",
    "        )\n",
    "\n",
    "        # train rating model on all data\n",
    "        ratings = model1.fit(\n",
    "            x=[train.userId.values, train.movieId.values, train.bias.values],\n",
    "            y=train.rating.values, \n",
    "            batch_size=512,\n",
    "            epochs=best_rating_hparams.epoch_1,\n",
    "            verbose=0,\n",
    "            validation_split=.2\n",
    "        )\n",
    "\n",
    "        # train genre model on 5 CV folds\n",
    "        train = movies.iloc[train_index]\n",
    "        test = movies.iloc[test_index]\n",
    "\n",
    "        # train model on current fold\n",
    "        result = model2.fit(\n",
    "            train.movieId.values, train.Drama.values,\n",
    "            batch_size=64, \n",
    "            epochs=best_rating_hparams.epoch_2,\n",
    "            verbose=0,\n",
    "            validation_data=(test.movieId.values, test.Drama.values))\n",
    "\n",
    "        # get loss from this fold\n",
    "        fold_loss = result.history['val_loss'][-1]\n",
    "        total_loss += fold_loss\n",
    "        fold_acc = result.history['val_accuracy'][-1]\n",
    "        total_acc += fold_acc\n",
    "\n",
    "        count += 1\n",
    "\n",
    "        del model1, model2\n",
    "\n",
    "    # calculate average holdout loss across all CV folds\n",
    "    avg_loss = total_loss / 5\n",
    "    avg_acc = total_acc / 5\n",
    "    print(f'_____________________________________CV avg val loss={avg_loss:.4f}')\n",
    "    print(f'_____________________________________CV avg val acc={avg_acc:.4f}')\n",
    "\n",
    "    grid_results_4.append({'activation':ACTIVATION,\n",
    "                           'val_loss':avg_loss,\n",
    "                           'val_acc':avg_acc,\n",
    "                           'train_loss_hist':result.history['loss'],\n",
    "                           'val_loss_hist':result.history['val_loss'],\n",
    "                           'train_acc_hist':result.history['accuracy'],\n",
    "                           'val_acc_hist':result.history['val_accuracy']})\n",
    "\n",
    "    print()\n",
    "    \n",
    "col_order = grid_results_4[0].keys()\n",
    "\n",
    "# save results to data frame\n",
    "grid_results_4 = pd.DataFrame(grid_results_4)\n",
    "# reorder columns\n",
    "grid_results_4 = grid_results_4[col_order]"
   ]
  },
  {
   "cell_type": "code",
   "execution_count": 34,
   "metadata": {},
   "outputs": [
    {
     "data": {
      "text/html": [
       "<div>\n",
       "<style scoped>\n",
       "    .dataframe tbody tr th:only-of-type {\n",
       "        vertical-align: middle;\n",
       "    }\n",
       "\n",
       "    .dataframe tbody tr th {\n",
       "        vertical-align: top;\n",
       "    }\n",
       "\n",
       "    .dataframe thead th {\n",
       "        text-align: right;\n",
       "    }\n",
       "</style>\n",
       "<table border=\"1\" class=\"dataframe\">\n",
       "  <thead>\n",
       "    <tr style=\"text-align: right;\">\n",
       "      <th></th>\n",
       "      <th>activation</th>\n",
       "      <th>val_loss</th>\n",
       "      <th>val_acc</th>\n",
       "      <th>train_loss_hist</th>\n",
       "      <th>val_loss_hist</th>\n",
       "      <th>train_acc_hist</th>\n",
       "      <th>val_acc_hist</th>\n",
       "    </tr>\n",
       "  </thead>\n",
       "  <tbody>\n",
       "    <tr>\n",
       "      <th>1</th>\n",
       "      <td>relu</td>\n",
       "      <td>0.633696</td>\n",
       "      <td>0.631865</td>\n",
       "      <td>[0.6801554609880676, 0.6538513908201166, 0.638...</td>\n",
       "      <td>[0.6566360577052792, 0.6283979159317269, 0.614...</td>\n",
       "      <td>[0.5862923, 0.6284063, 0.6275805, 0.63170934, ...</td>\n",
       "      <td>[0.6456954, 0.6456954, 0.6490066, 0.6589404, 0...</td>\n",
       "    </tr>\n",
       "    <tr>\n",
       "      <th>3</th>\n",
       "      <td>softplus</td>\n",
       "      <td>0.646145</td>\n",
       "      <td>0.608072</td>\n",
       "      <td>[0.6955813658719807, 0.6893263023614293, 0.682...</td>\n",
       "      <td>[0.6259774411750945, 0.6116850131394848, 0.609...</td>\n",
       "      <td>[0.57060283, 0.6003303, 0.5763832, 0.59454995,...</td>\n",
       "      <td>[0.6258278, 0.6456954, 0.63245034, 0.62913907,...</td>\n",
       "    </tr>\n",
       "    <tr>\n",
       "      <th>2</th>\n",
       "      <td>selu</td>\n",
       "      <td>0.646698</td>\n",
       "      <td>0.606741</td>\n",
       "      <td>[0.6618047464888122, 0.6471151272980857, 0.643...</td>\n",
       "      <td>[0.6111393938001418, 0.6080426056653458, 0.612...</td>\n",
       "      <td>[0.59702724, 0.6028076, 0.61023945, 0.61601985...</td>\n",
       "      <td>[0.65562916, 0.65562916, 0.63907284, 0.6490066...</td>\n",
       "    </tr>\n",
       "    <tr>\n",
       "      <th>4</th>\n",
       "      <td>tanh</td>\n",
       "      <td>0.649363</td>\n",
       "      <td>0.599462</td>\n",
       "      <td>[0.6654551675947711, 0.6516351148572271, 0.648...</td>\n",
       "      <td>[0.6179186445198311, 0.6120473576697293, 0.615...</td>\n",
       "      <td>[0.59042114, 0.60115606, 0.6094137, 0.60611063...</td>\n",
       "      <td>[0.63245034, 0.63907284, 0.6225166, 0.6258278,...</td>\n",
       "    </tr>\n",
       "    <tr>\n",
       "      <th>0</th>\n",
       "      <td>None</td>\n",
       "      <td>0.649953</td>\n",
       "      <td>0.594177</td>\n",
       "      <td>[0.6660229865427749, 0.6518491561702221, 0.649...</td>\n",
       "      <td>[0.6182262340918282, 0.6122737799259211, 0.616...</td>\n",
       "      <td>[0.5953757, 0.61023945, 0.6069364, 0.6094137, ...</td>\n",
       "      <td>[0.6258278, 0.6225166, 0.6258278, 0.6225166, 0...</td>\n",
       "    </tr>\n",
       "  </tbody>\n",
       "</table>\n",
       "</div>"
      ],
      "text/plain": [
       "  activation  val_loss   val_acc  \\\n",
       "1       relu  0.633696  0.631865   \n",
       "3   softplus  0.646145  0.608072   \n",
       "2       selu  0.646698  0.606741   \n",
       "4       tanh  0.649363  0.599462   \n",
       "0       None  0.649953  0.594177   \n",
       "\n",
       "                                     train_loss_hist  \\\n",
       "1  [0.6801554609880676, 0.6538513908201166, 0.638...   \n",
       "3  [0.6955813658719807, 0.6893263023614293, 0.682...   \n",
       "2  [0.6618047464888122, 0.6471151272980857, 0.643...   \n",
       "4  [0.6654551675947711, 0.6516351148572271, 0.648...   \n",
       "0  [0.6660229865427749, 0.6518491561702221, 0.649...   \n",
       "\n",
       "                                       val_loss_hist  \\\n",
       "1  [0.6566360577052792, 0.6283979159317269, 0.614...   \n",
       "3  [0.6259774411750945, 0.6116850131394848, 0.609...   \n",
       "2  [0.6111393938001418, 0.6080426056653458, 0.612...   \n",
       "4  [0.6179186445198311, 0.6120473576697293, 0.615...   \n",
       "0  [0.6182262340918282, 0.6122737799259211, 0.616...   \n",
       "\n",
       "                                      train_acc_hist  \\\n",
       "1  [0.5862923, 0.6284063, 0.6275805, 0.63170934, ...   \n",
       "3  [0.57060283, 0.6003303, 0.5763832, 0.59454995,...   \n",
       "2  [0.59702724, 0.6028076, 0.61023945, 0.61601985...   \n",
       "4  [0.59042114, 0.60115606, 0.6094137, 0.60611063...   \n",
       "0  [0.5953757, 0.61023945, 0.6069364, 0.6094137, ...   \n",
       "\n",
       "                                        val_acc_hist  \n",
       "1  [0.6456954, 0.6456954, 0.6490066, 0.6589404, 0...  \n",
       "3  [0.6258278, 0.6456954, 0.63245034, 0.62913907,...  \n",
       "2  [0.65562916, 0.65562916, 0.63907284, 0.6490066...  \n",
       "4  [0.63245034, 0.63907284, 0.6225166, 0.6258278,...  \n",
       "0  [0.6258278, 0.6225166, 0.6258278, 0.6225166, 0...  "
      ]
     },
     "execution_count": 34,
     "metadata": {},
     "output_type": "execute_result"
    }
   ],
   "source": [
    "# get best 5 models\n",
    "grid_results_4 = grid_results_4.sort_values('val_loss')\n",
    "grid_results_4.to_csv(path+'grid_results_4.csv', index=False)\n",
    "\n",
    "grid_results_4.head(5)"
   ]
  },
  {
   "cell_type": "code",
   "execution_count": 35,
   "metadata": {},
   "outputs": [
    {
     "data": {
      "image/png": "[encoded data removed]",
      "text/plain": [
       "<Figure size 1152x648 with 1 Axes>"
      ]
     },
     "metadata": {},
     "output_type": "display_data"
    }
   ],
   "source": [
    "# plot training curve of best model\n",
    "plt.plot(grid_results_4.train_loss_hist.values[0], label='train')\n",
    "plt.plot(grid_results_4.val_loss_hist.values[0], label='test')\n",
    "plt.title('Train vs validation loss')\n",
    "plt.legend()\n",
    "plt.show()"
   ]
  },
  {
   "cell_type": "code",
   "execution_count": 36,
   "metadata": {},
   "outputs": [
    {
     "data": {
      "image/png": "[encoded data removed]",
      "text/plain": [
       "<Figure size 1152x648 with 1 Axes>"
      ]
     },
     "metadata": {},
     "output_type": "display_data"
    }
   ],
   "source": [
    "# train vs test accuracy\n",
    "plt.plot(grid_results_4.train_acc_hist.values[0], label='train')\n",
    "plt.plot(grid_results_4.val_acc_hist.values[0], label='validation')\n",
    "plt.title('Train vs validation accuracy')\n",
    "plt.legend()\n",
    "plt.show()"
   ]
  },
  {
   "cell_type": "code",
   "execution_count": 37,
   "metadata": {},
   "outputs": [
    {
     "data": {
      "text/plain": [
       "n_factors      200\n",
       "n_hidden_1     100\n",
       "n_hidden_2     100\n",
       "epoch_1          7\n",
       "epoch_2          5\n",
       "dropout_1     0.25\n",
       "dropout_2     0.15\n",
       "activation    relu\n",
       "dtype: object"
      ]
     },
     "execution_count": 37,
     "metadata": {},
     "output_type": "execute_result"
    }
   ],
   "source": [
    "best_rating_hparams = pd.concat((best_rating_hparams, grid_results_4.iloc[0,:][['activation']]))\n",
    "best_rating_hparams"
   ]
  },
  {
   "cell_type": "markdown",
   "metadata": {},
   "source": [
    "# Classification report"
   ]
  },
  {
   "cell_type": "code",
   "execution_count": 38,
   "metadata": {},
   "outputs": [],
   "source": [
    "from sklearn.metrics import classification_report, confusion_matrix, precision_score, recall_score, f1_score"
   ]
  },
  {
   "cell_type": "markdown",
   "metadata": {},
   "source": [
    "### Re-train model on full dataset, with best hparams"
   ]
  },
  {
   "cell_type": "code",
   "execution_count": 39,
   "metadata": {},
   "outputs": [
    {
     "name": "stdout",
     "output_type": "stream",
     "text": [
      "Train on 80000 samples, validate on 20000 samples\n",
      "Epoch 1/8\n",
      "80000/80000 [==============================] - 4s 47us/sample - loss: 0.8935 - val_loss: 0.8592\n",
      "Epoch 2/8\n",
      "80000/80000 [==============================] - 3s 41us/sample - loss: 0.8369 - val_loss: 0.8459\n",
      "Epoch 3/8\n",
      "80000/80000 [==============================] - 3s 41us/sample - loss: 0.8045 - val_loss: 0.8371\n",
      "Epoch 4/8\n",
      "80000/80000 [==============================] - 3s 40us/sample - loss: 0.7660 - val_loss: 0.8346\n",
      "Epoch 5/8\n",
      "80000/80000 [==============================] - 4s 46us/sample - loss: 0.7206 - val_loss: 0.8347\n",
      "Epoch 6/8\n",
      "80000/80000 [==============================] - 4s 47us/sample - loss: 0.6774 - val_loss: 0.8440\n",
      "Epoch 7/8\n",
      "80000/80000 [==============================] - 4s 47us/sample - loss: 0.6362 - val_loss: 0.8563\n",
      "Epoch 8/8\n",
      "80000/80000 [==============================] - 4s 47us/sample - loss: 0.6005 - val_loss: 0.8648\n",
      "Train on 1210 samples, validate on 303 samples\n",
      "Epoch 1/5\n",
      "1210/1210 [==============================] - 1s 533us/sample - loss: 0.6798 - accuracy: 0.5736 - AUC: 0.6122 - val_loss: 0.6506 - val_accuracy: 0.6568 - val_AUC: 0.7015\n",
      "Epoch 2/5\n",
      "1210/1210 [==============================] - 0s 60us/sample - loss: 0.6512 - accuracy: 0.6281 - AUC: 0.6730 - val_loss: 0.6267 - val_accuracy: 0.6568 - val_AUC: 0.7097\n",
      "Epoch 3/5\n",
      "1210/1210 [==============================] - 0s 62us/sample - loss: 0.6354 - accuracy: 0.6339 - AUC: 0.6925 - val_loss: 0.6166 - val_accuracy: 0.6601 - val_AUC: 0.7124\n",
      "Epoch 4/5\n",
      "1210/1210 [==============================] - 0s 68us/sample - loss: 0.6274 - accuracy: 0.6446 - AUC: 0.7014 - val_loss: 0.6130 - val_accuracy: 0.6601 - val_AUC: 0.7142\n",
      "Epoch 5/5\n",
      "1210/1210 [==============================] - 0s 69us/sample - loss: 0.6198 - accuracy: 0.6603 - AUC: 0.7142 - val_loss: 0.6103 - val_accuracy: 0.6634 - val_AUC: 0.7148\n"
     ]
    }
   ],
   "source": [
    "# get baseline predictors for full dataset\n",
    "train, _, _ = get_baseline(df, df.index, df.index)\n",
    "\n",
    "# compile both models\n",
    "model1, model2 = compile_genre_model(\n",
    "    n_items=df.movieId.nunique(),\n",
    "    n_users=df.userId.nunique(),\n",
    "    min_rating=df.rating.min(),\n",
    "    max_rating=df.rating.max(),\n",
    "    mean_rating=df.rating.mean(),\n",
    "    n_latent=best_rating_hparams.n_factors, \n",
    "    n_hidden_1=best_rating_hparams.n_hidden_1,\n",
    "    n_hidden_2=best_rating_hparams.n_hidden_2,\n",
    "    dropout_1=best_rating_hparams.dropout_1,\n",
    "    dropout_2=best_rating_hparams.dropout_2,\n",
    "    activation=best_rating_hparams.activation\n",
    ")\n",
    "\n",
    "# train rating model\n",
    "ratings = model1.fit(\n",
    "    x=[train.userId.values, train.movieId.values, train.bias.values],\n",
    "    y=train.rating.values, \n",
    "    batch_size=256,\n",
    "    epochs=8,\n",
    "    verbose=1,\n",
    "    validation_split=.2\n",
    ")\n",
    "\n",
    "# train genre model\n",
    "genres = model2.fit(\n",
    "    movies.movieId.values, movies.Drama.values,\n",
    "    batch_size=64, \n",
    "    epochs=5,\n",
    "    validation_split=.2)"
   ]
  },
  {
   "cell_type": "markdown",
   "metadata": {},
   "source": [
    "### Evaluate on test set"
   ]
  },
  {
   "cell_type": "code",
   "execution_count": 40,
   "metadata": {},
   "outputs": [],
   "source": [
    "X_test = movies_holdout.movieId.values\n",
    "y_test = movies_holdout.Drama.values\n",
    "y_score = pd.DataFrame(model2.predict(X_test))\n",
    "y_pred = y_score.round().astype('int')"
   ]
  },
  {
   "cell_type": "code",
   "execution_count": 41,
   "metadata": {},
   "outputs": [
    {
     "name": "stdout",
     "output_type": "stream",
     "text": [
      "              precision    recall  f1-score   support\n",
      "\n",
      "           0       0.66      0.71      0.68        96\n",
      "           1       0.58      0.52      0.55        73\n",
      "\n",
      "    accuracy                           0.63       169\n",
      "   macro avg       0.62      0.61      0.62       169\n",
      "weighted avg       0.62      0.63      0.62       169\n",
      "\n"
     ]
    }
   ],
   "source": [
    "print(classification_report(y_test, y_pred))"
   ]
  },
  {
   "cell_type": "code",
   "execution_count": 42,
   "metadata": {},
   "outputs": [
    {
     "data": {
      "text/html": [
       "<div>\n",
       "<style scoped>\n",
       "    .dataframe tbody tr th:only-of-type {\n",
       "        vertical-align: middle;\n",
       "    }\n",
       "\n",
       "    .dataframe tbody tr th {\n",
       "        vertical-align: top;\n",
       "    }\n",
       "\n",
       "    .dataframe thead th {\n",
       "        text-align: right;\n",
       "    }\n",
       "</style>\n",
       "<table border=\"1\" class=\"dataframe\">\n",
       "  <thead>\n",
       "    <tr style=\"text-align: right;\">\n",
       "      <th></th>\n",
       "      <th>0</th>\n",
       "      <th>1</th>\n",
       "    </tr>\n",
       "  </thead>\n",
       "  <tbody>\n",
       "    <tr>\n",
       "      <th>0</th>\n",
       "      <td>68</td>\n",
       "      <td>28</td>\n",
       "    </tr>\n",
       "    <tr>\n",
       "      <th>1</th>\n",
       "      <td>35</td>\n",
       "      <td>38</td>\n",
       "    </tr>\n",
       "  </tbody>\n",
       "</table>\n",
       "</div>"
      ],
      "text/plain": [
       "    0   1\n",
       "0  68  28\n",
       "1  35  38"
      ]
     },
     "execution_count": 42,
     "metadata": {},
     "output_type": "execute_result"
    }
   ],
   "source": [
    "pd.DataFrame(confusion_matrix(y_test, y_pred))"
   ]
  },
  {
   "cell_type": "code",
   "execution_count": 43,
   "metadata": {},
   "outputs": [],
   "source": [
    "# add predictions as column\n",
    "movies_holdout['prediction'] = y_pred.values\n",
    "# save to csv\n",
    "movies_holdout[['movieId', 'title', 'Drama', 'prediction']].to_csv(path+'holdout_predictions.csv', index=False)"
   ]
  },
  {
   "cell_type": "code",
   "execution_count": 44,
   "metadata": {},
   "outputs": [],
   "source": [
    "X_train = movies.movieId.values\n",
    "y_train = movies.Drama.values\n",
    "train_score = pd.DataFrame(model2.predict(X_train))\n",
    "train_pred = train_score.round().astype('int')"
   ]
  },
  {
   "cell_type": "code",
   "execution_count": 45,
   "metadata": {},
   "outputs": [
    {
     "name": "stdout",
     "output_type": "stream",
     "text": [
      "              precision    recall  f1-score   support\n",
      "\n",
      "           0       0.68      0.78      0.73       861\n",
      "           1       0.64      0.52      0.57       652\n",
      "\n",
      "    accuracy                           0.67      1513\n",
      "   macro avg       0.66      0.65      0.65      1513\n",
      "weighted avg       0.66      0.67      0.66      1513\n",
      "\n"
     ]
    }
   ],
   "source": [
    "print(classification_report(y_train, train_pred))"
   ]
  },
  {
   "cell_type": "code",
   "execution_count": 46,
   "metadata": {},
   "outputs": [
    {
     "data": {
      "text/html": [
       "<div>\n",
       "<style scoped>\n",
       "    .dataframe tbody tr th:only-of-type {\n",
       "        vertical-align: middle;\n",
       "    }\n",
       "\n",
       "    .dataframe tbody tr th {\n",
       "        vertical-align: top;\n",
       "    }\n",
       "\n",
       "    .dataframe thead th {\n",
       "        text-align: right;\n",
       "    }\n",
       "</style>\n",
       "<table border=\"1\" class=\"dataframe\">\n",
       "  <thead>\n",
       "    <tr style=\"text-align: right;\">\n",
       "      <th></th>\n",
       "      <th>0</th>\n",
       "      <th>1</th>\n",
       "    </tr>\n",
       "  </thead>\n",
       "  <tbody>\n",
       "    <tr>\n",
       "      <th>0</th>\n",
       "      <td>671</td>\n",
       "      <td>190</td>\n",
       "    </tr>\n",
       "    <tr>\n",
       "      <th>1</th>\n",
       "      <td>316</td>\n",
       "      <td>336</td>\n",
       "    </tr>\n",
       "  </tbody>\n",
       "</table>\n",
       "</div>"
      ],
      "text/plain": [
       "     0    1\n",
       "0  671  190\n",
       "1  316  336"
      ]
     },
     "execution_count": 46,
     "metadata": {},
     "output_type": "execute_result"
    }
   ],
   "source": [
    "pd.DataFrame(confusion_matrix(y_train, train_pred))"
   ]
  },
  {
   "cell_type": "code",
   "execution_count": 47,
   "metadata": {},
   "outputs": [],
   "source": [
    "# add predictions as column\n",
    "movies['prediction'] = train_pred.values\n",
    "# save to csv\n",
    "movies[['movieId', 'title', 'Drama', 'prediction']].to_csv(path+'train_predictions.csv', index=False)"
   ]
  },
  {
   "cell_type": "markdown",
   "metadata": {},
   "source": [
    "---\n",
    "# Appendix A: multi-label genre model"
   ]
  },
  {
   "cell_type": "code",
   "execution_count": 48,
   "metadata": {},
   "outputs": [],
   "source": [
    "from CGT import compile_multigenre_model"
   ]
  },
  {
   "cell_type": "code",
   "execution_count": 49,
   "metadata": {},
   "outputs": [
    {
     "name": "stdout",
     "output_type": "stream",
     "text": [
      "Train on 80000 samples, validate on 20000 samples\n",
      "Epoch 1/7\n",
      "80000/80000 [==============================] - 3s 32us/sample - loss: 0.8971 - val_loss: 0.8622\n",
      "Epoch 2/7\n",
      "80000/80000 [==============================] - 2s 27us/sample - loss: 0.8412 - val_loss: 0.8507\n",
      "Epoch 3/7\n",
      "80000/80000 [==============================] - 2s 28us/sample - loss: 0.8152 - val_loss: 0.8409\n",
      "Epoch 4/7\n",
      "80000/80000 [==============================] - 2s 28us/sample - loss: 0.7878 - val_loss: 0.8364\n",
      "Epoch 5/7\n",
      "80000/80000 [==============================] - 2s 26us/sample - loss: 0.7523 - val_loss: 0.8271\n",
      "Epoch 6/7\n",
      "80000/80000 [==============================] - 2s 29us/sample - loss: 0.7115 - val_loss: 0.8336\n",
      "Epoch 7/7\n",
      "80000/80000 [==============================] - 2s 27us/sample - loss: 0.6706 - val_loss: 0.8425\n"
     ]
    }
   ],
   "source": [
    "# get baseline predictors for full dataset\n",
    "train, _, _ = get_baseline(df, df.index, df.index)\n",
    "\n",
    "# compile both models\n",
    "model1, model2 = compile_multigenre_model(\n",
    "    n_items=df.movieId.nunique(),\n",
    "    n_users=df.userId.nunique(),\n",
    "    min_rating=df.rating.min(),\n",
    "    max_rating=df.rating.max(),\n",
    "    mean_rating=df.rating.mean(),\n",
    "    n_genres=18,\n",
    "    n_latent=best_rating_hparams.n_factors, \n",
    "    n_hidden_1=best_rating_hparams.n_hidden_1,\n",
    "    n_hidden_2=best_rating_hparams.n_hidden_2,\n",
    "    dropout_1=best_rating_hparams.dropout_1,\n",
    "    dropout_2=best_rating_hparams.dropout_1\n",
    ")\n",
    "\n",
    "# train rating model\n",
    "ratings = model1.fit(\n",
    "    x=[train.userId.values, train.movieId.values, train.bias.values],\n",
    "    y=train.rating.values, \n",
    "    batch_size=512,\n",
    "    epochs=best_rating_hparams.epoch_1,\n",
    "    verbose=1,\n",
    "    validation_split=.2\n",
    ")"
   ]
  },
  {
   "cell_type": "code",
   "execution_count": 50,
   "metadata": {},
   "outputs": [
    {
     "name": "stdout",
     "output_type": "stream",
     "text": [
      "Train on 1210 samples, validate on 303 samples\n",
      "Epoch 1/5\n",
      "1210/1210 [==============================] - 1s 602us/sample - loss: 0.6539 - accuracy: 0.7862 - AUC: 0.6397 - val_loss: 0.5983 - val_accuracy: 0.9037 - val_AUC: 0.7063\n",
      "Epoch 2/5\n",
      "1210/1210 [==============================] - 0s 139us/sample - loss: 0.5225 - accuracy: 0.9065 - AUC: 0.6829 - val_loss: 0.4328 - val_accuracy: 0.9059 - val_AUC: 0.7034\n",
      "Epoch 3/5\n",
      "1210/1210 [==============================] - 0s 138us/sample - loss: 0.3681 - accuracy: 0.9081 - AUC: 0.7053 - val_loss: 0.3180 - val_accuracy: 0.9061 - val_AUC: 0.7159\n",
      "Epoch 4/5\n",
      "1210/1210 [==============================] - 0s 142us/sample - loss: 0.2934 - accuracy: 0.9078 - AUC: 0.7429 - val_loss: 0.2824 - val_accuracy: 0.9065 - val_AUC: 0.7390\n",
      "Epoch 5/5\n",
      "1210/1210 [==============================] - 0s 142us/sample - loss: 0.2699 - accuracy: 0.9080 - AUC: 0.7702 - val_loss: 0.2716 - val_accuracy: 0.9069 - val_AUC: 0.7604\n"
     ]
    }
   ],
   "source": [
    "# train genre model\n",
    "genres = model2.fit(\n",
    "    movies.movieId.values, movies.iloc[:,-19:-1].values,  # multi label\n",
    "    batch_size=32, \n",
    "    epochs=best_rating_hparams.epoch_2,\n",
    "    validation_split=.2)"
   ]
  },
  {
   "cell_type": "code",
   "execution_count": 51,
   "metadata": {},
   "outputs": [],
   "source": [
    "from sklearn.metrics import classification_report, confusion_matrix, precision_score, recall_score, f1_score"
   ]
  },
  {
   "cell_type": "code",
   "execution_count": 52,
   "metadata": {},
   "outputs": [],
   "source": [
    "y_true = movies.iloc[:,-19:-1]\n",
    "y_score = pd.DataFrame(model2.predict(movies.movieId.values), columns=y_true.columns)\n",
    "y_pred = y_score.round().astype('int')"
   ]
  },
  {
   "cell_type": "code",
   "execution_count": 53,
   "metadata": {},
   "outputs": [
    {
     "name": "stdout",
     "output_type": "stream",
     "text": [
      "              precision    recall  f1-score   support\n",
      "\n",
      "      Action       0.00      0.00      0.00       232\n",
      "   Adventure       0.00      0.00      0.00       127\n",
      "   Animation       0.00      0.00      0.00        37\n",
      "  Children's       0.00      0.00      0.00       111\n",
      "      Comedy       0.00      0.00      0.00       452\n",
      "       Crime       0.00      0.00      0.00        96\n",
      " Documentary       0.00      0.00      0.00        44\n",
      "       Drama       0.58      0.52      0.54       652\n",
      "     Fantasy       0.00      0.00      0.00        20\n",
      "   Film-Noir       0.00      0.00      0.00        22\n",
      "      Horror       0.00      0.00      0.00        85\n",
      "     Musical       0.00      0.00      0.00        47\n",
      "     Mystery       0.00      0.00      0.00        56\n",
      "     Romance       0.00      0.00      0.00       221\n",
      "      Sci-Fi       0.00      0.00      0.00        91\n",
      "    Thriller       0.00      0.00      0.00       225\n",
      "         War       0.00      0.00      0.00        60\n",
      "     Western       0.00      0.00      0.00        26\n",
      "\n",
      "   micro avg       0.58      0.13      0.21      2604\n",
      "   macro avg       0.03      0.03      0.03      2604\n",
      "weighted avg       0.14      0.13      0.14      2604\n",
      " samples avg       0.22      0.17      0.19      2604\n",
      "\n"
     ]
    },
    {
     "name": "stderr",
     "output_type": "stream",
     "text": [
      "C:\\Users\\JLeslie\\AppData\\Local\\Continuum\\anaconda3\\lib\\site-packages\\sklearn\\metrics\\classification.py:1437: UndefinedMetricWarning: Precision and F-score are ill-defined and being set to 0.0 in labels with no predicted samples.\n",
      "  'precision', 'predicted', average, warn_for)\n",
      "C:\\Users\\JLeslie\\AppData\\Local\\Continuum\\anaconda3\\lib\\site-packages\\sklearn\\metrics\\classification.py:1437: UndefinedMetricWarning: Precision and F-score are ill-defined and being set to 0.0 in labels with no predicted samples.\n",
      "  'precision', 'predicted', average, warn_for)\n",
      "C:\\Users\\JLeslie\\AppData\\Local\\Continuum\\anaconda3\\lib\\site-packages\\sklearn\\metrics\\classification.py:1437: UndefinedMetricWarning: Precision and F-score are ill-defined and being set to 0.0 in labels with no predicted samples.\n",
      "  'precision', 'predicted', average, warn_for)\n",
      "C:\\Users\\JLeslie\\AppData\\Local\\Continuum\\anaconda3\\lib\\site-packages\\sklearn\\metrics\\classification.py:1437: UndefinedMetricWarning: Precision and F-score are ill-defined and being set to 0.0 in samples with no predicted labels.\n",
      "  'precision', 'predicted', average, warn_for)\n",
      "C:\\Users\\JLeslie\\AppData\\Local\\Continuum\\anaconda3\\lib\\site-packages\\sklearn\\metrics\\classification.py:1439: UndefinedMetricWarning: Recall and F-score are ill-defined and being set to 0.0 in samples with no true labels.\n",
      "  'recall', 'true', average, warn_for)\n"
     ]
    }
   ],
   "source": [
    "print(classification_report(y_true, y_pred, target_names=y_true.columns))"
   ]
  }
 ],
 "metadata": {
  "kernelspec": {
   "display_name": "Python 3",
   "language": "python",
   "name": "python3"
  },
  "language_info": {
   "codemirror_mode": {
    "name": "ipython",
    "version": 3
   },
   "file_extension": ".py",
   "mimetype": "text/x-python",
   "name": "python",
   "nbconvert_exporter": "python",
   "pygments_lexer": "ipython3",
   "version": "3.7.3"
  }
 },
 "nbformat": 4,
 "nbformat_minor": 4
}
