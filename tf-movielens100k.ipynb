{
 "cells": [
  {
   "cell_type": "markdown",
   "metadata": {},
   "source": [
    "# MovieLens 100k Collaborative Genre Tagging\n",
    "**To do**:\n",
    "  - try out [this implementation](https://www.onceupondata.com/2019/02/10/nn-collaborative-filtering/) of baseline features. \n",
    "  - create object classes for models\n",
    "  - implement TF 2.0 data classes\n",
    "  - [paperswithcode link](https://paperswithcode.com/sota/collaborative-filtering-on-movielens-100k)\n",
    "  - [ML 100k state of the art paper](https://arxiv.org/pdf/1706.02263v2.pdf) (RMSE=0.905): details their evaluation method\n",
    "  \n",
    "[![Colab](https://colab.research.google.com/assets/colab-badge.svg)](https://colab.research.google.com/github/James-Leslie/deep-collaborative-filtering/blob/master/tf-movielens100k.ipynb)"
   ]
  },
  {
   "cell_type": "code",
   "execution_count": 1,
   "metadata": {},
   "outputs": [],
   "source": [
    "import numpy as np\n",
    "import pandas as pd\n",
    "import matplotlib.pyplot as plt\n",
    "import seaborn as sns\n",
    "\n",
    "%matplotlib inline"
   ]
  },
  {
   "cell_type": "markdown",
   "metadata": {},
   "source": [
    "## Load rating data"
   ]
  },
  {
   "cell_type": "code",
   "execution_count": 2,
   "metadata": {},
   "outputs": [],
   "source": [
    "# path = 'https://raw.githubusercontent.com/James-Leslie/deep-collaborative-filtering/master/data/ml-100k/'  # access from anywhere\n",
    "path = 'data/ml-100k/'  # if the files are local\n",
    "df = pd.read_csv(path+'ratings.csv', usecols=['userId','movieId','rating'])"
   ]
  },
  {
   "cell_type": "code",
   "execution_count": 3,
   "metadata": {},
   "outputs": [
    {
     "data": {
      "text/html": [
       "<div>\n",
       "<style scoped>\n",
       "    .dataframe tbody tr th:only-of-type {\n",
       "        vertical-align: middle;\n",
       "    }\n",
       "\n",
       "    .dataframe tbody tr th {\n",
       "        vertical-align: top;\n",
       "    }\n",
       "\n",
       "    .dataframe thead th {\n",
       "        text-align: right;\n",
       "    }\n",
       "</style>\n",
       "<table border=\"1\" class=\"dataframe\">\n",
       "  <thead>\n",
       "    <tr style=\"text-align: right;\">\n",
       "      <th></th>\n",
       "      <th>userId</th>\n",
       "      <th>movieId</th>\n",
       "      <th>rating</th>\n",
       "    </tr>\n",
       "  </thead>\n",
       "  <tbody>\n",
       "    <tr>\n",
       "      <th>0</th>\n",
       "      <td>0</td>\n",
       "      <td>0</td>\n",
       "      <td>3</td>\n",
       "    </tr>\n",
       "    <tr>\n",
       "      <th>1</th>\n",
       "      <td>1</td>\n",
       "      <td>1</td>\n",
       "      <td>3</td>\n",
       "    </tr>\n",
       "    <tr>\n",
       "      <th>2</th>\n",
       "      <td>2</td>\n",
       "      <td>2</td>\n",
       "      <td>1</td>\n",
       "    </tr>\n",
       "    <tr>\n",
       "      <th>3</th>\n",
       "      <td>3</td>\n",
       "      <td>3</td>\n",
       "      <td>2</td>\n",
       "    </tr>\n",
       "    <tr>\n",
       "      <th>4</th>\n",
       "      <td>4</td>\n",
       "      <td>4</td>\n",
       "      <td>1</td>\n",
       "    </tr>\n",
       "  </tbody>\n",
       "</table>\n",
       "</div>"
      ],
      "text/plain": [
       "   userId  movieId  rating\n",
       "0       0        0       3\n",
       "1       1        1       3\n",
       "2       2        2       1\n",
       "3       3        3       2\n",
       "4       4        4       1"
      ]
     },
     "execution_count": 3,
     "metadata": {},
     "output_type": "execute_result"
    }
   ],
   "source": [
    "df.head()"
   ]
  },
  {
   "cell_type": "code",
   "execution_count": 4,
   "metadata": {},
   "outputs": [
    {
     "data": {
      "text/plain": [
       "(100000, 3)"
      ]
     },
     "execution_count": 4,
     "metadata": {},
     "output_type": "execute_result"
    }
   ],
   "source": [
    "df.shape"
   ]
  },
  {
   "cell_type": "code",
   "execution_count": 5,
   "metadata": {},
   "outputs": [
    {
     "name": "stdout",
     "output_type": "stream",
     "text": [
      "Number of users: 943\n",
      "Number of items: 1682\n",
      "Min item rating: 1\n",
      "Max item rating: 5\n",
      "Mean item rating: 3.52986\n"
     ]
    }
   ],
   "source": [
    "print('Number of users:', df.userId.nunique())\n",
    "print('Number of items:', df.movieId.nunique())\n",
    "print(\"Min item rating:\", df.rating.min())\n",
    "print(\"Max item rating:\", df.rating.max())\n",
    "print(\"Mean item rating:\", df.rating.mean())"
   ]
  },
  {
   "cell_type": "markdown",
   "metadata": {},
   "source": [
    "## Load movie metadata\n",
    "  - remove 10% as holdout test set"
   ]
  },
  {
   "cell_type": "code",
   "execution_count": 6,
   "metadata": {},
   "outputs": [
    {
     "data": {
      "text/html": [
       "<div>\n",
       "<style scoped>\n",
       "    .dataframe tbody tr th:only-of-type {\n",
       "        vertical-align: middle;\n",
       "    }\n",
       "\n",
       "    .dataframe tbody tr th {\n",
       "        vertical-align: top;\n",
       "    }\n",
       "\n",
       "    .dataframe thead th {\n",
       "        text-align: right;\n",
       "    }\n",
       "</style>\n",
       "<table border=\"1\" class=\"dataframe\">\n",
       "  <thead>\n",
       "    <tr style=\"text-align: right;\">\n",
       "      <th></th>\n",
       "      <th>movieId</th>\n",
       "      <th>title</th>\n",
       "      <th>releaseDate</th>\n",
       "      <th>link</th>\n",
       "      <th>unknown</th>\n",
       "      <th>Action</th>\n",
       "      <th>Adventure</th>\n",
       "      <th>Animation</th>\n",
       "      <th>Children's</th>\n",
       "      <th>Comedy</th>\n",
       "      <th>...</th>\n",
       "      <th>Fantasy</th>\n",
       "      <th>Film-Noir</th>\n",
       "      <th>Horror</th>\n",
       "      <th>Musical</th>\n",
       "      <th>Mystery</th>\n",
       "      <th>Romance</th>\n",
       "      <th>Sci-Fi</th>\n",
       "      <th>Thriller</th>\n",
       "      <th>War</th>\n",
       "      <th>Western</th>\n",
       "    </tr>\n",
       "  </thead>\n",
       "  <tbody>\n",
       "    <tr>\n",
       "      <th>0</th>\n",
       "      <td>24</td>\n",
       "      <td>Toy Story (1995)</td>\n",
       "      <td>01-Jan-1995</td>\n",
       "      <td>http://us.imdb.com/M/title-exact?Toy%20Story%2...</td>\n",
       "      <td>0</td>\n",
       "      <td>0</td>\n",
       "      <td>0</td>\n",
       "      <td>1</td>\n",
       "      <td>1</td>\n",
       "      <td>1</td>\n",
       "      <td>...</td>\n",
       "      <td>0</td>\n",
       "      <td>0</td>\n",
       "      <td>0</td>\n",
       "      <td>0</td>\n",
       "      <td>0</td>\n",
       "      <td>0</td>\n",
       "      <td>0</td>\n",
       "      <td>0</td>\n",
       "      <td>0</td>\n",
       "      <td>0</td>\n",
       "    </tr>\n",
       "    <tr>\n",
       "      <th>1</th>\n",
       "      <td>147</td>\n",
       "      <td>GoldenEye (1995)</td>\n",
       "      <td>01-Jan-1995</td>\n",
       "      <td>http://us.imdb.com/M/title-exact?GoldenEye%20(...</td>\n",
       "      <td>0</td>\n",
       "      <td>1</td>\n",
       "      <td>1</td>\n",
       "      <td>0</td>\n",
       "      <td>0</td>\n",
       "      <td>0</td>\n",
       "      <td>...</td>\n",
       "      <td>0</td>\n",
       "      <td>0</td>\n",
       "      <td>0</td>\n",
       "      <td>0</td>\n",
       "      <td>0</td>\n",
       "      <td>0</td>\n",
       "      <td>0</td>\n",
       "      <td>1</td>\n",
       "      <td>0</td>\n",
       "      <td>0</td>\n",
       "    </tr>\n",
       "    <tr>\n",
       "      <th>2</th>\n",
       "      <td>233</td>\n",
       "      <td>Four Rooms (1995)</td>\n",
       "      <td>01-Jan-1995</td>\n",
       "      <td>http://us.imdb.com/M/title-exact?Four%20Rooms%...</td>\n",
       "      <td>0</td>\n",
       "      <td>0</td>\n",
       "      <td>0</td>\n",
       "      <td>0</td>\n",
       "      <td>0</td>\n",
       "      <td>0</td>\n",
       "      <td>...</td>\n",
       "      <td>0</td>\n",
       "      <td>0</td>\n",
       "      <td>0</td>\n",
       "      <td>0</td>\n",
       "      <td>0</td>\n",
       "      <td>0</td>\n",
       "      <td>0</td>\n",
       "      <td>1</td>\n",
       "      <td>0</td>\n",
       "      <td>0</td>\n",
       "    </tr>\n",
       "    <tr>\n",
       "      <th>3</th>\n",
       "      <td>47</td>\n",
       "      <td>Get Shorty (1995)</td>\n",
       "      <td>01-Jan-1995</td>\n",
       "      <td>http://us.imdb.com/M/title-exact?Get%20Shorty%...</td>\n",
       "      <td>0</td>\n",
       "      <td>1</td>\n",
       "      <td>0</td>\n",
       "      <td>0</td>\n",
       "      <td>0</td>\n",
       "      <td>1</td>\n",
       "      <td>...</td>\n",
       "      <td>0</td>\n",
       "      <td>0</td>\n",
       "      <td>0</td>\n",
       "      <td>0</td>\n",
       "      <td>0</td>\n",
       "      <td>0</td>\n",
       "      <td>0</td>\n",
       "      <td>0</td>\n",
       "      <td>0</td>\n",
       "      <td>0</td>\n",
       "    </tr>\n",
       "    <tr>\n",
       "      <th>4</th>\n",
       "      <td>75</td>\n",
       "      <td>Copycat (1995)</td>\n",
       "      <td>01-Jan-1995</td>\n",
       "      <td>http://us.imdb.com/M/title-exact?Copycat%20(1995)</td>\n",
       "      <td>0</td>\n",
       "      <td>0</td>\n",
       "      <td>0</td>\n",
       "      <td>0</td>\n",
       "      <td>0</td>\n",
       "      <td>0</td>\n",
       "      <td>...</td>\n",
       "      <td>0</td>\n",
       "      <td>0</td>\n",
       "      <td>0</td>\n",
       "      <td>0</td>\n",
       "      <td>0</td>\n",
       "      <td>0</td>\n",
       "      <td>0</td>\n",
       "      <td>1</td>\n",
       "      <td>0</td>\n",
       "      <td>0</td>\n",
       "    </tr>\n",
       "  </tbody>\n",
       "</table>\n",
       "<p>5 rows × 23 columns</p>\n",
       "</div>"
      ],
      "text/plain": [
       "   movieId              title  releaseDate  \\\n",
       "0       24   Toy Story (1995)  01-Jan-1995   \n",
       "1      147   GoldenEye (1995)  01-Jan-1995   \n",
       "2      233  Four Rooms (1995)  01-Jan-1995   \n",
       "3       47  Get Shorty (1995)  01-Jan-1995   \n",
       "4       75     Copycat (1995)  01-Jan-1995   \n",
       "\n",
       "                                                link  unknown  Action  \\\n",
       "0  http://us.imdb.com/M/title-exact?Toy%20Story%2...        0       0   \n",
       "1  http://us.imdb.com/M/title-exact?GoldenEye%20(...        0       1   \n",
       "2  http://us.imdb.com/M/title-exact?Four%20Rooms%...        0       0   \n",
       "3  http://us.imdb.com/M/title-exact?Get%20Shorty%...        0       1   \n",
       "4  http://us.imdb.com/M/title-exact?Copycat%20(1995)        0       0   \n",
       "\n",
       "   Adventure  Animation  Children's  Comedy  ...  Fantasy  Film-Noir  Horror  \\\n",
       "0          0          1           1       1  ...        0          0       0   \n",
       "1          1          0           0       0  ...        0          0       0   \n",
       "2          0          0           0       0  ...        0          0       0   \n",
       "3          0          0           0       1  ...        0          0       0   \n",
       "4          0          0           0       0  ...        0          0       0   \n",
       "\n",
       "   Musical  Mystery  Romance  Sci-Fi  Thriller  War  Western  \n",
       "0        0        0        0       0         0    0        0  \n",
       "1        0        0        0       0         1    0        0  \n",
       "2        0        0        0       0         1    0        0  \n",
       "3        0        0        0       0         0    0        0  \n",
       "4        0        0        0       0         1    0        0  \n",
       "\n",
       "[5 rows x 23 columns]"
      ]
     },
     "execution_count": 6,
     "metadata": {},
     "output_type": "execute_result"
    }
   ],
   "source": [
    "movies = pd.read_csv(path+'movies.csv')\n",
    "movies.head()"
   ]
  },
  {
   "cell_type": "code",
   "execution_count": 7,
   "metadata": {},
   "outputs": [],
   "source": [
    "from sklearn.model_selection import train_test_split"
   ]
  },
  {
   "cell_type": "code",
   "execution_count": 8,
   "metadata": {},
   "outputs": [],
   "source": [
    "movies, movies_holdout = train_test_split(movies, test_size=.1, random_state=42)"
   ]
  },
  {
   "cell_type": "markdown",
   "metadata": {},
   "source": [
    "---\n",
    "# Create baseline features\n",
    "For each user, calculate average user bias - the average difference between the user's rating and the movie's average rating:\n",
    "\n",
    "$$b_{u} = \\dfrac{\\sum_{j=1}^{n_u} (r_{uj} - \\mu_i)}{n_u}$$\n",
    "\n",
    "For each item, calculate the difference between its average rating and the average rating of all movies:\n",
    "\n",
    "$$b_{i} = \\dfrac{\\sum_{k=1}^{n_i} (r_{ki})}{n_i} - \\mu$$\n",
    "\n",
    "Then, for each interaction, calculate the combined bias:\n",
    "\n",
    "$$b_{ui} = \\dfrac{b_u + b_i}{2}$$"
   ]
  },
  {
   "cell_type": "code",
   "execution_count": 9,
   "metadata": {},
   "outputs": [
    {
     "data": {
      "text/plain": [
       "\u001b[1;31mSignature:\u001b[0m \u001b[0mget_baseline\u001b[0m\u001b[1;33m(\u001b[0m\u001b[0mdf\u001b[0m\u001b[1;33m,\u001b[0m \u001b[0mtrain_index\u001b[0m\u001b[1;33m,\u001b[0m \u001b[0mtest_index\u001b[0m\u001b[1;33m)\u001b[0m\u001b[1;33m\u001b[0m\u001b[1;33m\u001b[0m\u001b[0m\n",
       "\u001b[1;31mDocstring:\u001b[0m\n",
       "Calculate baseline features from an explicit ratings dataset. Receives a dataframe\n",
       "and returns train and test splits with added bias column and mean rating value.\n",
       "User and item biases are calculated as average difference from global mean rating.\n",
       "Baseline factors are only calculated from training observations, with users or\n",
       "items that do not appear in train receiving the global average as default.\n",
       "\n",
       "Args:\n",
       "    df          : explicit ratings dataframe with columns userId, movieId and rating\n",
       "    train_index : train index splits taken from KFold.splits()\n",
       "    test_index  : test index splits taken from KFold.splits()\n",
       "    \n",
       "Returns:\n",
       "    train, test : train/test splits of df, with added bias column\n",
       "    global_mean : average rating of all training observations\n",
       "\u001b[1;31mFile:\u001b[0m      c:\\users\\jleslie\\documents\\deep-collaborative-filtering\\cgt.py\n",
       "\u001b[1;31mType:\u001b[0m      function\n"
      ]
     },
     "metadata": {},
     "output_type": "display_data"
    }
   ],
   "source": [
    "from CGT import get_baseline\n",
    "?get_baseline"
   ]
  },
  {
   "cell_type": "markdown",
   "metadata": {},
   "source": [
    "---\n",
    "# CGT model\n",
    "**To do**:\n",
    "  - Can we avoid re-training rating model on CV fold?\n",
    "  - Create a grid search function / class"
   ]
  },
  {
   "cell_type": "code",
   "execution_count": 10,
   "metadata": {},
   "outputs": [
    {
     "data": {
      "text/plain": [
       "\u001b[1;31mSignature:\u001b[0m\n",
       "\u001b[0mcompile_genre_model\u001b[0m\u001b[1;33m(\u001b[0m\u001b[1;33m\n",
       "\u001b[0m    \u001b[0mn_items\u001b[0m\u001b[1;33m,\u001b[0m\u001b[1;33m\n",
       "\u001b[0m    \u001b[0mn_users\u001b[0m\u001b[1;33m,\u001b[0m\u001b[1;33m\n",
       "\u001b[0m    \u001b[0mmean_rating\u001b[0m\u001b[1;33m,\u001b[0m\u001b[1;33m\n",
       "\u001b[0m    \u001b[0mn_latent\u001b[0m\u001b[1;33m,\u001b[0m\u001b[1;33m\n",
       "\u001b[0m    \u001b[0mn_hidden_1\u001b[0m\u001b[1;33m,\u001b[0m\u001b[1;33m\n",
       "\u001b[0m    \u001b[0mn_hidden_2\u001b[0m\u001b[1;33m,\u001b[0m\u001b[1;33m\n",
       "\u001b[0m    \u001b[0mleaky_alpha\u001b[0m\u001b[1;33m=\u001b[0m\u001b[1;36m0.1\u001b[0m\u001b[1;33m,\u001b[0m\u001b[1;33m\n",
       "\u001b[0m    \u001b[0mdropout_1\u001b[0m\u001b[1;33m=\u001b[0m\u001b[1;36m0.25\u001b[0m\u001b[1;33m,\u001b[0m\u001b[1;33m\n",
       "\u001b[0m    \u001b[0mdropout_2\u001b[0m\u001b[1;33m=\u001b[0m\u001b[1;36m0.25\u001b[0m\u001b[1;33m,\u001b[0m\u001b[1;33m\n",
       "\u001b[0m\u001b[1;33m)\u001b[0m\u001b[1;33m\u001b[0m\u001b[1;33m\u001b[0m\u001b[0m\n",
       "\u001b[1;31mDocstring:\u001b[0m <no docstring>\n",
       "\u001b[1;31mFile:\u001b[0m      c:\\users\\jleslie\\documents\\deep-collaborative-filtering\\cgt.py\n",
       "\u001b[1;31mType:\u001b[0m      function\n"
      ]
     },
     "metadata": {},
     "output_type": "display_data"
    }
   ],
   "source": [
    "from CGT import compile_genre_model\n",
    "?compile_genre_model"
   ]
  },
  {
   "cell_type": "markdown",
   "metadata": {},
   "source": [
    "---\n",
    "## Grid search\n",
    "**To do**: try using [tqdm](https://github.com/tqdm/tqdm) notebook bars\n",
    "\n",
    "```bash\n",
    "# bash\n",
    "pip install --upgrade ipywidgets \n",
    "jupyter nbextension enable --py widgetsnbextension\n",
    "jupyter labextension install @jupyter-widgets/jupyterlab-manager\n",
    "```\n",
    "\n",
    "```python\n",
    "# python\n",
    "from tqdm.notebook import trange, tqdm\n",
    "from time import sleep\n",
    "\n",
    "for i in trange(3, desc='1st loop'):\n",
    "    for j in tqdm(range(100), desc='2nd loop'):\n",
    "        sleep(0.01)\n",
    "```"
   ]
  },
  {
   "cell_type": "code",
   "execution_count": 11,
   "metadata": {},
   "outputs": [],
   "source": [
    "from sklearn.model_selection import KFold"
   ]
  },
  {
   "cell_type": "code",
   "execution_count": 12,
   "metadata": {},
   "outputs": [],
   "source": [
    "# hyper parameters\n",
    "HP_N_FACTORS = [80, 125]\n",
    "HP_N_HIDDEN_1 = [[50,25], [75,30]]\n",
    "HP_N_HIDDEN_2 = [[50,25], [75,30]]\n",
    "# HP_DROPOUT_2 = [0, .2, .25]"
   ]
  },
  {
   "cell_type": "code",
   "execution_count": 13,
   "metadata": {},
   "outputs": [
    {
     "name": "stdout",
     "output_type": "stream",
     "text": [
      "Fitting total of 8 models\n",
      "\n",
      "Fitting CGT model #1 with 80: [50, 25] | [50, 25] architecture\n",
      "_____________________________________CV avg val loss=0.8016\n",
      "_____________________________________CV avg val acc=0.6167\n",
      "\n",
      "Fitting CGT model #2 with 80: [50, 25] | [75, 30] architecture\n",
      "_____________________________________CV avg val loss=0.7965\n",
      "_____________________________________CV avg val acc=0.6391\n",
      "\n",
      "Fitting CGT model #3 with 80: [75, 30] | [50, 25] architecture\n",
      "_____________________________________CV avg val loss=0.7995\n",
      "_____________________________________CV avg val acc=0.6325\n",
      "\n",
      "Fitting CGT model #4 with 80: [75, 30] | [75, 30] architecture\n",
      "_____________________________________CV avg val loss=0.7981\n",
      "_____________________________________CV avg val acc=0.6226\n",
      "\n",
      "Fitting CGT model #5 with 125: [50, 25] | [50, 25] architecture\n",
      "_____________________________________CV avg val loss=0.7975\n",
      "_____________________________________CV avg val acc=0.6206\n",
      "\n",
      "Fitting CGT model #6 with 125: [50, 25] | [75, 30] architecture\n",
      "_____________________________________CV avg val loss=0.7941\n",
      "_____________________________________CV avg val acc=0.6299\n",
      "\n",
      "Fitting CGT model #7 with 125: [75, 30] | [50, 25] architecture\n",
      "_____________________________________CV avg val loss=0.7971\n",
      "_____________________________________CV avg val acc=0.6186\n",
      "\n",
      "Fitting CGT model #8 with 125: [75, 30] | [75, 30] architecture\n",
      "_____________________________________CV avg val loss=0.7982\n",
      "_____________________________________CV avg val acc=0.6233\n",
      "\n"
     ]
    }
   ],
   "source": [
    "# dataframe to store results of grid search\n",
    "grid_results = []\n",
    "searches = 1\n",
    "\n",
    "n_models = len(HP_N_FACTORS) * len(HP_N_HIDDEN_1) * len(HP_N_HIDDEN_2)\n",
    "\n",
    "print(f'Fitting total of {n_models} models\\n')\n",
    "\n",
    "for N_FACTORS in HP_N_FACTORS:\n",
    "    for N_HIDDEN_1 in HP_N_HIDDEN_1:\n",
    "        for N_HIDDEN_2 in HP_N_HIDDEN_2:\n",
    "            \n",
    "            print(f'Fitting CGT model #{searches} with {N_FACTORS}: {N_HIDDEN_1} | {N_HIDDEN_2} architecture')\n",
    "            searches += 1\n",
    "            \n",
    "            # Create 5 CV folds\n",
    "            kf = KFold(n_splits=5, random_state=42)\n",
    "            \n",
    "            # initialise loss and epoch count\n",
    "            total_loss = 0\n",
    "            total_acc = 0\n",
    "            count = 1\n",
    "            min_epochs = 10\n",
    "            \n",
    "            # do CV split and compute baseline predictors each time\n",
    "            for train_index, test_index in kf.split(movies):\n",
    "                \n",
    "                # get baseline rating predictors for full dataset\n",
    "                train, _, _ = get_baseline(df, df.index, df.index)\n",
    "\n",
    "                # compile both models with search hparams\n",
    "                model1, model2 = compile_genre_model(\n",
    "                    n_items = df.movieId.nunique(),\n",
    "                    n_users = df.userId.nunique(),\n",
    "                    mean_rating = df.rating.mean(),\n",
    "                    n_latent=N_FACTORS, \n",
    "                    n_hidden_1=N_HIDDEN_1,\n",
    "                    n_hidden_2=N_HIDDEN_2\n",
    "                )\n",
    "\n",
    "                # train rating model on all data\n",
    "                ratings = model1.fit(\n",
    "                    x=[train.userId.values, train.movieId.values, train.bias.values],\n",
    "                    y=train.rating.values, \n",
    "                    batch_size=512,\n",
    "                    epochs=8,\n",
    "                    verbose=0,\n",
    "                    validation_split=.2\n",
    "                )\n",
    "                \n",
    "                # train genre model on 5 CV folds\n",
    "                train = movies.iloc[train_index]\n",
    "                test = movies.iloc[test_index]\n",
    "                \n",
    "                # train model on current fold\n",
    "                result = model2.fit(\n",
    "                    train.movieId.values, train.Drama.values,\n",
    "                    batch_size=64, \n",
    "                    epochs=6,\n",
    "                    verbose=0,\n",
    "                    validation_data=(test.movieId.values, test.Drama.values))\n",
    "                \n",
    "                # get loss from this fold\n",
    "                fold_loss = np.sqrt(np.min(result.history['val_loss']))\n",
    "                total_loss += fold_loss\n",
    "                fold_acc = np.max(result.history['val_accuracy'])\n",
    "                total_acc += fold_acc\n",
    "                min_epochs = min(np.argmin(result.history['val_loss']) + 1, min_epochs)\n",
    "                \n",
    "                count += 1\n",
    "                \n",
    "                del model1, model2\n",
    "            \n",
    "            # calculate average holdout loss across all CV folds\n",
    "            avg_loss = total_loss / 5\n",
    "            avg_acc = total_acc / 5\n",
    "            print(f'_____________________________________CV avg val loss={avg_loss:.4f}')\n",
    "            print(f'_____________________________________CV avg val acc={avg_acc:.4f}')\n",
    "            \n",
    "            grid_results.append({'n_factors':N_FACTORS,\n",
    "                                 'n_hidden_1':N_HIDDEN_1,\n",
    "                                 'n_hidden_2':N_HIDDEN_2,\n",
    "                                 'val_loss':avg_loss,\n",
    "                                 'val_acc':avg_acc,\n",
    "                                 'val_epochs':min_epochs,\n",
    "                                 'train_loss_hist':result.history['loss'],\n",
    "                                 'val_loss_hist':result.history['val_loss'],\n",
    "                                 'train_acc_hist':result.history['accuracy'],\n",
    "                                 'val_acc_hist':result.history['val_accuracy']})\n",
    "            \n",
    "            print()\n",
    "#             break\n",
    "#         break\n",
    "#     break\n",
    "    \n",
    "col_order = grid_results[0].keys()\n",
    "\n",
    "# save results to data frame\n",
    "grid_results = pd.DataFrame(grid_results)\n",
    "# reorder columns\n",
    "grid_results = grid_results[col_order]"
   ]
  },
  {
   "cell_type": "code",
   "execution_count": 14,
   "metadata": {},
   "outputs": [
    {
     "data": {
      "text/html": [
       "<div>\n",
       "<style scoped>\n",
       "    .dataframe tbody tr th:only-of-type {\n",
       "        vertical-align: middle;\n",
       "    }\n",
       "\n",
       "    .dataframe tbody tr th {\n",
       "        vertical-align: top;\n",
       "    }\n",
       "\n",
       "    .dataframe thead th {\n",
       "        text-align: right;\n",
       "    }\n",
       "</style>\n",
       "<table border=\"1\" class=\"dataframe\">\n",
       "  <thead>\n",
       "    <tr style=\"text-align: right;\">\n",
       "      <th></th>\n",
       "      <th>n_factors</th>\n",
       "      <th>n_hidden_1</th>\n",
       "      <th>n_hidden_2</th>\n",
       "      <th>val_loss</th>\n",
       "      <th>val_acc</th>\n",
       "      <th>val_epochs</th>\n",
       "      <th>train_loss_hist</th>\n",
       "      <th>val_loss_hist</th>\n",
       "      <th>train_acc_hist</th>\n",
       "      <th>val_acc_hist</th>\n",
       "    </tr>\n",
       "  </thead>\n",
       "  <tbody>\n",
       "    <tr>\n",
       "      <th>5</th>\n",
       "      <td>125</td>\n",
       "      <td>[50, 25]</td>\n",
       "      <td>[75, 30]</td>\n",
       "      <td>0.794122</td>\n",
       "      <td>0.629878</td>\n",
       "      <td>3</td>\n",
       "      <td>[0.6814987244042948, 0.6619133014604142, 0.646...</td>\n",
       "      <td>[0.6621777142909978, 0.6319683079687964, 0.611...</td>\n",
       "      <td>[0.5672997, 0.56647396, 0.5730801, 0.6069364, ...</td>\n",
       "      <td>[0.5860927, 0.5860927, 0.6456954, 0.6655629, 0...</td>\n",
       "    </tr>\n",
       "    <tr>\n",
       "      <th>1</th>\n",
       "      <td>80</td>\n",
       "      <td>[50, 25]</td>\n",
       "      <td>[75, 30]</td>\n",
       "      <td>0.796543</td>\n",
       "      <td>0.639106</td>\n",
       "      <td>3</td>\n",
       "      <td>[0.6830710694870606, 0.6642847086751293, 0.655...</td>\n",
       "      <td>[0.6600671576348361, 0.637149546714808, 0.6191...</td>\n",
       "      <td>[0.5697771, 0.58794385, 0.59454995, 0.611891, ...</td>\n",
       "      <td>[0.5960265, 0.6192053, 0.6357616, 0.6490066, 0...</td>\n",
       "    </tr>\n",
       "    <tr>\n",
       "      <th>6</th>\n",
       "      <td>125</td>\n",
       "      <td>[75, 30]</td>\n",
       "      <td>[50, 25]</td>\n",
       "      <td>0.797110</td>\n",
       "      <td>0.618637</td>\n",
       "      <td>4</td>\n",
       "      <td>[0.6851762653775297, 0.665400982838244, 0.6538...</td>\n",
       "      <td>[0.6644810663153794, 0.6401091044312281, 0.621...</td>\n",
       "      <td>[0.5689513, 0.5796862, 0.5796862, 0.61023945, ...</td>\n",
       "      <td>[0.6125828, 0.615894, 0.6225166, 0.63907284, 0...</td>\n",
       "    </tr>\n",
       "    <tr>\n",
       "      <th>4</th>\n",
       "      <td>125</td>\n",
       "      <td>[50, 25]</td>\n",
       "      <td>[50, 25]</td>\n",
       "      <td>0.797481</td>\n",
       "      <td>0.620630</td>\n",
       "      <td>4</td>\n",
       "      <td>[0.6831647262998497, 0.6657682579967427, 0.654...</td>\n",
       "      <td>[0.663713987299938, 0.640165723712239, 0.62274...</td>\n",
       "      <td>[0.56234515, 0.59207267, 0.5953757, 0.59867877...</td>\n",
       "      <td>[0.6192053, 0.6225166, 0.63907284, 0.6589404, ...</td>\n",
       "    </tr>\n",
       "    <tr>\n",
       "      <th>3</th>\n",
       "      <td>80</td>\n",
       "      <td>[75, 30]</td>\n",
       "      <td>[75, 30]</td>\n",
       "      <td>0.798075</td>\n",
       "      <td>0.622595</td>\n",
       "      <td>3</td>\n",
       "      <td>[0.6896029352452714, 0.675851705495628, 0.6621...</td>\n",
       "      <td>[0.6786688921467358, 0.6587644010190142, 0.636...</td>\n",
       "      <td>[0.5615194, 0.5656482, 0.580512, 0.6003303, 0....</td>\n",
       "      <td>[0.6092715, 0.5927152, 0.6357616, 0.6258278, 0...</td>\n",
       "    </tr>\n",
       "    <tr>\n",
       "      <th>7</th>\n",
       "      <td>125</td>\n",
       "      <td>[75, 30]</td>\n",
       "      <td>[75, 30]</td>\n",
       "      <td>0.798177</td>\n",
       "      <td>0.623264</td>\n",
       "      <td>2</td>\n",
       "      <td>[0.6851170741753771, 0.6670216633011544, 0.652...</td>\n",
       "      <td>[0.6698831540859298, 0.6449951391346407, 0.623...</td>\n",
       "      <td>[0.5681255, 0.57720894, 0.5912469, 0.6193229, ...</td>\n",
       "      <td>[0.589404, 0.615894, 0.6423841, 0.63907284, 0....</td>\n",
       "    </tr>\n",
       "    <tr>\n",
       "      <th>2</th>\n",
       "      <td>80</td>\n",
       "      <td>[75, 30]</td>\n",
       "      <td>[50, 25]</td>\n",
       "      <td>0.799481</td>\n",
       "      <td>0.632527</td>\n",
       "      <td>4</td>\n",
       "      <td>[0.6840730509809184, 0.6703227358746391, 0.659...</td>\n",
       "      <td>[0.6692015635256736, 0.6478263198934644, 0.628...</td>\n",
       "      <td>[0.56482244, 0.5656482, 0.5681255, 0.5937242, ...</td>\n",
       "      <td>[0.5860927, 0.5860927, 0.589404, 0.6258278, 0....</td>\n",
       "    </tr>\n",
       "    <tr>\n",
       "      <th>0</th>\n",
       "      <td>80</td>\n",
       "      <td>[50, 25]</td>\n",
       "      <td>[50, 25]</td>\n",
       "      <td>0.801600</td>\n",
       "      <td>0.616655</td>\n",
       "      <td>3</td>\n",
       "      <td>[0.686812375912875, 0.6767227703337823, 0.6657...</td>\n",
       "      <td>[0.6737029891929879, 0.6569301884695394, 0.644...</td>\n",
       "      <td>[0.5417011, 0.5697771, 0.580512, 0.5780347, 0....</td>\n",
       "      <td>[0.5927152, 0.59933776, 0.60596025, 0.615894, ...</td>\n",
       "    </tr>\n",
       "  </tbody>\n",
       "</table>\n",
       "</div>"
      ],
      "text/plain": [
       "   n_factors n_hidden_1 n_hidden_2  val_loss   val_acc  val_epochs  \\\n",
       "5        125   [50, 25]   [75, 30]  0.794122  0.629878           3   \n",
       "1         80   [50, 25]   [75, 30]  0.796543  0.639106           3   \n",
       "6        125   [75, 30]   [50, 25]  0.797110  0.618637           4   \n",
       "4        125   [50, 25]   [50, 25]  0.797481  0.620630           4   \n",
       "3         80   [75, 30]   [75, 30]  0.798075  0.622595           3   \n",
       "7        125   [75, 30]   [75, 30]  0.798177  0.623264           2   \n",
       "2         80   [75, 30]   [50, 25]  0.799481  0.632527           4   \n",
       "0         80   [50, 25]   [50, 25]  0.801600  0.616655           3   \n",
       "\n",
       "                                     train_loss_hist  \\\n",
       "5  [0.6814987244042948, 0.6619133014604142, 0.646...   \n",
       "1  [0.6830710694870606, 0.6642847086751293, 0.655...   \n",
       "6  [0.6851762653775297, 0.665400982838244, 0.6538...   \n",
       "4  [0.6831647262998497, 0.6657682579967427, 0.654...   \n",
       "3  [0.6896029352452714, 0.675851705495628, 0.6621...   \n",
       "7  [0.6851170741753771, 0.6670216633011544, 0.652...   \n",
       "2  [0.6840730509809184, 0.6703227358746391, 0.659...   \n",
       "0  [0.686812375912875, 0.6767227703337823, 0.6657...   \n",
       "\n",
       "                                       val_loss_hist  \\\n",
       "5  [0.6621777142909978, 0.6319683079687964, 0.611...   \n",
       "1  [0.6600671576348361, 0.637149546714808, 0.6191...   \n",
       "6  [0.6644810663153794, 0.6401091044312281, 0.621...   \n",
       "4  [0.663713987299938, 0.640165723712239, 0.62274...   \n",
       "3  [0.6786688921467358, 0.6587644010190142, 0.636...   \n",
       "7  [0.6698831540859298, 0.6449951391346407, 0.623...   \n",
       "2  [0.6692015635256736, 0.6478263198934644, 0.628...   \n",
       "0  [0.6737029891929879, 0.6569301884695394, 0.644...   \n",
       "\n",
       "                                      train_acc_hist  \\\n",
       "5  [0.5672997, 0.56647396, 0.5730801, 0.6069364, ...   \n",
       "1  [0.5697771, 0.58794385, 0.59454995, 0.611891, ...   \n",
       "6  [0.5689513, 0.5796862, 0.5796862, 0.61023945, ...   \n",
       "4  [0.56234515, 0.59207267, 0.5953757, 0.59867877...   \n",
       "3  [0.5615194, 0.5656482, 0.580512, 0.6003303, 0....   \n",
       "7  [0.5681255, 0.57720894, 0.5912469, 0.6193229, ...   \n",
       "2  [0.56482244, 0.5656482, 0.5681255, 0.5937242, ...   \n",
       "0  [0.5417011, 0.5697771, 0.580512, 0.5780347, 0....   \n",
       "\n",
       "                                        val_acc_hist  \n",
       "5  [0.5860927, 0.5860927, 0.6456954, 0.6655629, 0...  \n",
       "1  [0.5960265, 0.6192053, 0.6357616, 0.6490066, 0...  \n",
       "6  [0.6125828, 0.615894, 0.6225166, 0.63907284, 0...  \n",
       "4  [0.6192053, 0.6225166, 0.63907284, 0.6589404, ...  \n",
       "3  [0.6092715, 0.5927152, 0.6357616, 0.6258278, 0...  \n",
       "7  [0.589404, 0.615894, 0.6423841, 0.63907284, 0....  \n",
       "2  [0.5860927, 0.5860927, 0.589404, 0.6258278, 0....  \n",
       "0  [0.5927152, 0.59933776, 0.60596025, 0.615894, ...  "
      ]
     },
     "execution_count": 14,
     "metadata": {},
     "output_type": "execute_result"
    }
   ],
   "source": [
    "# get best 10 models\n",
    "grid_results = grid_results.sort_values('val_loss')\n",
    "grid_results.to_csv(path+'grid_results.csv', index=False)\n",
    "\n",
    "grid_results.head(10)"
   ]
  },
  {
   "cell_type": "code",
   "execution_count": 15,
   "metadata": {},
   "outputs": [
    {
     "data": {
      "image/png": "[encoded data removed]",
      "text/plain": [
       "<Figure size 432x288 with 1 Axes>"
      ]
     },
     "metadata": {
      "needs_background": "light"
     },
     "output_type": "display_data"
    }
   ],
   "source": [
    "# plot training curve of best model\n",
    "plt.plot(grid_results.train_loss_hist.values[0], label='train')\n",
    "plt.plot(grid_results.val_loss_hist.values[0], label='test')\n",
    "plt.title('Train vs validation loss')\n",
    "plt.legend()\n",
    "plt.show()"
   ]
  },
  {
   "cell_type": "code",
   "execution_count": 16,
   "metadata": {},
   "outputs": [
    {
     "data": {
      "image/png": "[encoded data removed]",
      "text/plain": [
       "<Figure size 432x288 with 1 Axes>"
      ]
     },
     "metadata": {
      "needs_background": "light"
     },
     "output_type": "display_data"
    }
   ],
   "source": [
    "# train vs test accuracy\n",
    "plt.plot(grid_results.train_acc_hist.values[0], label='train')\n",
    "plt.plot(grid_results.val_acc_hist.values[0], label='test')\n",
    "plt.title('Train vs validation accuracy')\n",
    "plt.legend()\n",
    "plt.show()"
   ]
  },
  {
   "cell_type": "code",
   "execution_count": 17,
   "metadata": {},
   "outputs": [
    {
     "data": {
      "text/plain": [
       "n_factors          125\n",
       "n_hidden_1    [50, 25]\n",
       "n_hidden_2    [75, 30]\n",
       "Name: 5, dtype: object"
      ]
     },
     "execution_count": 17,
     "metadata": {},
     "output_type": "execute_result"
    }
   ],
   "source": [
    "best_rating_hparams = grid_results.iloc[0,:][['n_factors' ,'n_hidden_1', 'n_hidden_2']]\n",
    "best_rating_hparams"
   ]
  },
  {
   "cell_type": "code",
   "execution_count": 18,
   "metadata": {},
   "outputs": [
    {
     "data": {
      "image/png": "[encoded data removed]",
      "text/plain": [
       "<Figure size 432x288 with 1 Axes>"
      ]
     },
     "metadata": {
      "needs_background": "light"
     },
     "output_type": "display_data"
    }
   ],
   "source": [
    "sns.scatterplot(x='n_factors',\n",
    "                y='val_loss',\n",
    "#                 hue='n_hidden_2',\n",
    "#                 size='n_hidden_2',\n",
    "#                 palette='Set3',\n",
    "                data=grid_results)\n",
    "plt.show()"
   ]
  },
  {
   "cell_type": "markdown",
   "metadata": {},
   "source": [
    "## Classification report"
   ]
  },
  {
   "cell_type": "code",
   "execution_count": 19,
   "metadata": {},
   "outputs": [],
   "source": [
    "from sklearn.metrics import classification_report, confusion_matrix, precision_score, recall_score, f1_score"
   ]
  },
  {
   "cell_type": "markdown",
   "metadata": {},
   "source": [
    "### Re-train model on full dataset, with best hparams"
   ]
  },
  {
   "cell_type": "code",
   "execution_count": 20,
   "metadata": {},
   "outputs": [
    {
     "name": "stdout",
     "output_type": "stream",
     "text": [
      "Train on 80000 samples, validate on 20000 samples\n",
      "Epoch 1/10\n",
      "80000/80000 [==============================] - 2s 25us/sample - loss: 0.9035 - val_loss: 0.8593\n",
      "Epoch 2/10\n",
      "80000/80000 [==============================] - 2s 19us/sample - loss: 0.8515 - val_loss: 0.8498\n",
      "Epoch 3/10\n",
      "80000/80000 [==============================] - 2s 19us/sample - loss: 0.8295 - val_loss: 0.8422\n",
      "Epoch 4/10\n",
      "80000/80000 [==============================] - 1s 18us/sample - loss: 0.8079 - val_loss: 0.8384\n",
      "Epoch 5/10\n",
      "80000/80000 [==============================] - 1s 18us/sample - loss: 0.7850 - val_loss: 0.8339\n",
      "Epoch 6/10\n",
      "80000/80000 [==============================] - 1s 18us/sample - loss: 0.7623 - val_loss: 0.8300\n",
      "Epoch 7/10\n",
      "80000/80000 [==============================] - 1s 19us/sample - loss: 0.7388 - val_loss: 0.8276\n",
      "Epoch 8/10\n",
      "80000/80000 [==============================] - 1s 18us/sample - loss: 0.7172 - val_loss: 0.8317\n",
      "Epoch 9/10\n",
      "80000/80000 [==============================] - 2s 20us/sample - loss: 0.6979 - val_loss: 0.8292\n",
      "Epoch 10/10\n",
      "80000/80000 [==============================] - 1s 18us/sample - loss: 0.6790 - val_loss: 0.8403\n",
      "Train on 1210 samples, validate on 303 samples\n",
      "Epoch 1/6\n",
      "1210/1210 [==============================] - 1s 660us/sample - loss: 0.6890 - accuracy: 0.5421 - AUC: 0.5100 - val_loss: 0.6750 - val_accuracy: 0.5908 - val_AUC: 0.6577\n",
      "Epoch 2/6\n",
      "1210/1210 [==============================] - 0s 44us/sample - loss: 0.6681 - accuracy: 0.5917 - AUC: 0.6598 - val_loss: 0.6464 - val_accuracy: 0.6370 - val_AUC: 0.7064\n",
      "Epoch 3/6\n",
      "1210/1210 [==============================] - 0s 44us/sample - loss: 0.6519 - accuracy: 0.5959 - AUC: 0.6643 - val_loss: 0.6208 - val_accuracy: 0.6271 - val_AUC: 0.7133\n",
      "Epoch 4/6\n",
      "1210/1210 [==============================] - 0s 49us/sample - loss: 0.6440 - accuracy: 0.6157 - AUC: 0.6651 - val_loss: 0.6063 - val_accuracy: 0.6436 - val_AUC: 0.7190\n",
      "Epoch 5/6\n",
      "1210/1210 [==============================] - 0s 46us/sample - loss: 0.6321 - accuracy: 0.6446 - AUC: 0.6858 - val_loss: 0.6026 - val_accuracy: 0.6370 - val_AUC: 0.7234\n",
      "Epoch 6/6\n",
      "1210/1210 [==============================] - 0s 49us/sample - loss: 0.6264 - accuracy: 0.6380 - AUC: 0.6922 - val_loss: 0.5990 - val_accuracy: 0.6370 - val_AUC: 0.7258\n"
     ]
    }
   ],
   "source": [
    "# get baseline predictors for full dataset\n",
    "train, _, _ = get_baseline(df, df.index, df.index)\n",
    "\n",
    "# compile both models\n",
    "model1, model2 = compile_genre_model(\n",
    "    n_items = df.movieId.nunique(),\n",
    "    n_users = df.userId.nunique(),\n",
    "    mean_rating = df.rating.mean(), \n",
    "    n_latent=best_rating_hparams.n_factors, \n",
    "    n_hidden_1=best_rating_hparams.n_hidden_1,\n",
    "    n_hidden_2=best_rating_hparams.n_hidden_2\n",
    ")\n",
    "\n",
    "# train rating model\n",
    "ratings = model1.fit(\n",
    "    x=[train.userId.values, train.movieId.values, train.bias.values],\n",
    "    y=train.rating.values, \n",
    "    batch_size=256,\n",
    "    epochs=10,\n",
    "    verbose=1,\n",
    "    validation_split=.2\n",
    ")\n",
    "\n",
    "# train genre model\n",
    "genres = model2.fit(\n",
    "    movies.movieId.values, movies.Drama.values,\n",
    "    batch_size=64, \n",
    "    epochs=6,\n",
    "    validation_split=.2)"
   ]
  },
  {
   "cell_type": "code",
   "execution_count": 21,
   "metadata": {},
   "outputs": [
    {
     "name": "stdout",
     "output_type": "stream",
     "text": [
      "Model: \"model_80\""
     ]
    },
    {
     "name": "stderr",
     "output_type": "stream",
     "text": [
      "WARNING: Logging before flag parsing goes to stderr.\n",
      "W1011 10:55:23.978587  8624 training.py:2090] Discrepancy between trainable weights and collected trainable weights, did you set `model.trainable` without calling `model.compile` after ?\n"
     ]
    },
    {
     "name": "stdout",
     "output_type": "stream",
     "text": [
      "\n",
      "__________________________________________________________________________________________________\n",
      "Layer (type)                    Output Shape         Param #     Connected to                     \n",
      "==================================================================================================\n",
      "input_121 (InputLayer)          [(None, 1)]          0                                            \n",
      "__________________________________________________________________________________________________\n",
      "input_122 (InputLayer)          [(None, 1)]          0                                            \n",
      "__________________________________________________________________________________________________\n",
      "embedding_80 (Embedding)        (None, 1, 125)       210250      input_121[0][0]                  \n",
      "__________________________________________________________________________________________________\n",
      "embedding_81 (Embedding)        (None, 1, 125)       117875      input_122[0][0]                  \n",
      "__________________________________________________________________________________________________\n",
      "flatten_80 (Flatten)            (None, 125)          0           embedding_80[0][0]               \n",
      "__________________________________________________________________________________________________\n",
      "flatten_81 (Flatten)            (None, 125)          0           embedding_81[0][0]               \n",
      "__________________________________________________________________________________________________\n",
      "concatenate_40 (Concatenate)    (None, 250)          0           flatten_80[0][0]                 \n",
      "                                                                 flatten_81[0][0]                 \n",
      "__________________________________________________________________________________________________\n",
      "dense_240 (Dense)               (None, 50)           12550       concatenate_40[0][0]             \n",
      "__________________________________________________________________________________________________\n",
      "leaky_re_lu_160 (LeakyReLU)     (None, 50)           0           dense_240[0][0]                  \n",
      "__________________________________________________________________________________________________\n",
      "dropout_160 (Dropout)           (None, 50)           0           leaky_re_lu_160[0][0]            \n",
      "__________________________________________________________________________________________________\n",
      "dense_241 (Dense)               (None, 25)           1275        dropout_160[0][0]                \n",
      "__________________________________________________________________________________________________\n",
      "leaky_re_lu_161 (LeakyReLU)     (None, 25)           0           dense_241[0][0]                  \n",
      "__________________________________________________________________________________________________\n",
      "dropout_161 (Dropout)           (None, 25)           0           leaky_re_lu_161[0][0]            \n",
      "__________________________________________________________________________________________________\n",
      "dense_242 (Dense)               (None, 1)            26          dropout_161[0][0]                \n",
      "__________________________________________________________________________________________________\n",
      "input_123 (InputLayer)          [(None, 1)]          0                                            \n",
      "__________________________________________________________________________________________________\n",
      "add_40 (Add)                    (None, 1)            0           dense_242[0][0]                  \n",
      "                                                                 input_123[0][0]                  \n",
      "__________________________________________________________________________________________________\n",
      "tf_op_layer_Add_41 (TensorFlowO [(None, 1)]          0           add_40[0][0]                     \n",
      "==================================================================================================\n",
      "Total params: 552,226\n",
      "Trainable params: 341,976\n",
      "Non-trainable params: 210,250\n",
      "__________________________________________________________________________________________________\n"
     ]
    }
   ],
   "source": [
    "model1.summary()"
   ]
  },
  {
   "cell_type": "code",
   "execution_count": 22,
   "metadata": {},
   "outputs": [
    {
     "name": "stdout",
     "output_type": "stream",
     "text": [
      "Model: \"model_81\"\n",
      "_________________________________________________________________\n",
      "Layer (type)                 Output Shape              Param #   \n",
      "=================================================================\n",
      "input_121 (InputLayer)       [(None, 1)]               0         \n",
      "_________________________________________________________________\n",
      "embedding_80 (Embedding)     (None, 1, 125)            210250    \n",
      "_________________________________________________________________\n",
      "flatten_80 (Flatten)         (None, 125)               0         \n",
      "_________________________________________________________________\n",
      "dense_243 (Dense)            (None, 75)                9450      \n",
      "_________________________________________________________________\n",
      "leaky_re_lu_162 (LeakyReLU)  (None, 75)                0         \n",
      "_________________________________________________________________\n",
      "dropout_162 (Dropout)        (None, 75)                0         \n",
      "_________________________________________________________________\n",
      "dense_244 (Dense)            (None, 30)                2280      \n",
      "_________________________________________________________________\n",
      "leaky_re_lu_163 (LeakyReLU)  (None, 30)                0         \n",
      "_________________________________________________________________\n",
      "dropout_163 (Dropout)        (None, 30)                0         \n",
      "_________________________________________________________________\n",
      "dense_245 (Dense)            (None, 1)                 31        \n",
      "=================================================================\n",
      "Total params: 222,011\n",
      "Trainable params: 11,761\n",
      "Non-trainable params: 210,250\n",
      "_________________________________________________________________\n"
     ]
    }
   ],
   "source": [
    "model2.summary()"
   ]
  },
  {
   "cell_type": "markdown",
   "metadata": {},
   "source": [
    "### Evaluate on test set"
   ]
  },
  {
   "cell_type": "code",
   "execution_count": 23,
   "metadata": {},
   "outputs": [],
   "source": [
    "X_test = movies_holdout.movieId.values\n",
    "y_test = movies_holdout.Drama.values\n",
    "y_score = pd.DataFrame(model2.predict(X_test))\n",
    "y_pred = y_score.round().astype('int')"
   ]
  },
  {
   "cell_type": "code",
   "execution_count": 24,
   "metadata": {},
   "outputs": [
    {
     "name": "stdout",
     "output_type": "stream",
     "text": [
      "              precision    recall  f1-score   support\n",
      "\n",
      "           0       0.66      0.59      0.62        96\n",
      "           1       0.52      0.59      0.55        73\n",
      "\n",
      "    accuracy                           0.59       169\n",
      "   macro avg       0.59      0.59      0.59       169\n",
      "weighted avg       0.60      0.59      0.59       169\n",
      "\n"
     ]
    }
   ],
   "source": [
    "print(classification_report(y_test, y_pred))"
   ]
  },
  {
   "cell_type": "code",
   "execution_count": 25,
   "metadata": {},
   "outputs": [
    {
     "data": {
      "text/html": [
       "<div>\n",
       "<style scoped>\n",
       "    .dataframe tbody tr th:only-of-type {\n",
       "        vertical-align: middle;\n",
       "    }\n",
       "\n",
       "    .dataframe tbody tr th {\n",
       "        vertical-align: top;\n",
       "    }\n",
       "\n",
       "    .dataframe thead th {\n",
       "        text-align: right;\n",
       "    }\n",
       "</style>\n",
       "<table border=\"1\" class=\"dataframe\">\n",
       "  <thead>\n",
       "    <tr style=\"text-align: right;\">\n",
       "      <th></th>\n",
       "      <th>0</th>\n",
       "      <th>1</th>\n",
       "    </tr>\n",
       "  </thead>\n",
       "  <tbody>\n",
       "    <tr>\n",
       "      <th>0</th>\n",
       "      <td>57</td>\n",
       "      <td>39</td>\n",
       "    </tr>\n",
       "    <tr>\n",
       "      <th>1</th>\n",
       "      <td>30</td>\n",
       "      <td>43</td>\n",
       "    </tr>\n",
       "  </tbody>\n",
       "</table>\n",
       "</div>"
      ],
      "text/plain": [
       "    0   1\n",
       "0  57  39\n",
       "1  30  43"
      ]
     },
     "execution_count": 25,
     "metadata": {},
     "output_type": "execute_result"
    }
   ],
   "source": [
    "pd.DataFrame(confusion_matrix(y_test, y_pred))"
   ]
  },
  {
   "cell_type": "markdown",
   "metadata": {},
   "source": [
    "---\n",
    "# Appendix A: Ratings model"
   ]
  },
  {
   "cell_type": "markdown",
   "metadata": {},
   "source": [
    "## Define architecture"
   ]
  },
  {
   "cell_type": "code",
   "execution_count": 7,
   "metadata": {},
   "outputs": [],
   "source": [
    "def compile_model(n_users, n_items, mean_rating, n_factors=25, n_hidden=64, leaky_alpha=.1, dropout=.2):\n",
    "    \n",
    "    # item latent factors\n",
    "    item_in = Input(shape=[1])  # name='item'\n",
    "    item_em = Embedding(n_items, n_factors)(item_in)\n",
    "    item_vec = Flatten()(item_em)\n",
    "    \n",
    "    # user latent factors\n",
    "    user_in = Input(shape=[1])\n",
    "    user_em = Embedding(n_users, n_factors)(user_in)\n",
    "    user_vec = Flatten()(user_em)\n",
    "    \n",
    "    # user x item bias\n",
    "    bias = Input(shape=[1])\n",
    "    \n",
    "    # if there is a hidden layer\n",
    "    if n_hidden:\n",
    "        # concatenate user and item vectors\n",
    "        conc = Concatenate()([item_vec, user_vec])\n",
    "        # hidden layer\n",
    "        hidden = Dense(n_hidden)(conc)\n",
    "        leaky = LeakyReLU(alpha=leaky_alpha)(hidden)\n",
    "        drop = Dropout(dropout)(leaky)\n",
    "        \n",
    "        out = Dense(1)(drop)\n",
    "        \n",
    "    # if there are no hidden layers\n",
    "    else:\n",
    "        out = Dot(name=\"Dot-Product\", axes=1)([item_vec, user_vec])\n",
    "    \n",
    "    rating = tf.math.add(Add()([out, bias]), mean_rating)\n",
    "    \n",
    "    # create model and compile it\n",
    "    model = Model([user_in, item_in, bias], rating)\n",
    "    model.compile(optimizer='adam', loss='mean_squared_error')\n",
    "    \n",
    "    return model"
   ]
  },
  {
   "cell_type": "markdown",
   "metadata": {},
   "source": [
    "## Grid search\n",
    "### Best CV score: 0.920123 (20 : 40 : 0.2)"
   ]
  },
  {
   "cell_type": "code",
   "execution_count": 8,
   "metadata": {},
   "outputs": [],
   "source": [
    "# hyper parameters\n",
    "HP_N_FACTORS = [8, 32, 64, 128]\n",
    "HP_N_HIDDEN = [0, 16, 32, 64]\n",
    "HP_DROPOUT = [0, .2, .25]"
   ]
  },
  {
   "cell_type": "code",
   "execution_count": 9,
   "metadata": {},
   "outputs": [
    {
     "name": "stdout",
     "output_type": "stream",
     "text": [
      "Fitting total of 48 models\n",
      "\n",
      "Fitting model #1 with 8: 0 architecture, 0 dropout rate\n",
      "_____________________________________CV avg RMSE=0.9457\n",
      "\n",
      "Fitting model #2 with 32: 0 architecture, 0 dropout rate\n",
      "_____________________________________CV avg RMSE=0.9344\n",
      "\n",
      "Fitting model #3 with 64: 0 architecture, 0 dropout rate\n",
      "_____________________________________CV avg RMSE=0.9312\n",
      "\n",
      "Fitting model #4 with 128: 0 architecture, 0 dropout rate\n",
      "_____________________________________CV avg RMSE=0.9294\n",
      "\n"
     ]
    }
   ],
   "source": [
    "# dataframe to store results of grid search\n",
    "grid_results = []\n",
    "best_loss = 1\n",
    "searches = 1\n",
    "\n",
    "n_models = len(HP_N_FACTORS) * len(HP_N_HIDDEN) * len(HP_DROPOUT)\n",
    "\n",
    "print(f'Fitting total of {n_models} models\\n')\n",
    "\n",
    "for N_FACTORS in HP_N_FACTORS:\n",
    "    for N_HIDDEN in HP_N_HIDDEN:\n",
    "        for DROPOUT in HP_DROPOUT:\n",
    "            \n",
    "            print(f'Fitting model #{searches} with {N_FACTORS}: {N_HIDDEN} architecture, {DROPOUT} dropout rate')\n",
    "            searches += 1\n",
    "            \n",
    "            # Create 5 CV folds\n",
    "            kf = KFold(n_splits=5, random_state=42)\n",
    "            \n",
    "            # initialise loss and epoch count\n",
    "            total_loss, count = 0, 1\n",
    "            min_epochs = 10\n",
    "            \n",
    "            # do CV split and compute baseline predictors each time\n",
    "            for train_index, test_index in kf.split(df):\n",
    "                train, test, global_mean = get_baseline(df, train_index, test_index)\n",
    "                \n",
    "                # compile model with chosen h-params\n",
    "                model = compile_model(\n",
    "                    n_users = df.userId.nunique(),\n",
    "                    n_items = df.movieId.nunique(),\n",
    "                    mean_rating = global_mean,\n",
    "                    n_factors = N_FACTORS,\n",
    "                    n_hidden = N_HIDDEN,\n",
    "                    dropout = DROPOUT\n",
    "                )\n",
    "                \n",
    "                # train model on CV fold\n",
    "                result = model.fit(x=[train.userId.values, train.movieId.values, train.bias.values],\n",
    "                                   y=train.rating.values, \n",
    "                                   batch_size=512,\n",
    "                                   epochs=10,\n",
    "                                   verbose=0,\n",
    "                                   validation_data=([test.userId.values, test.movieId.values, test.bias.values], test.rating.values))\n",
    "                \n",
    "                # get loss from this fold\n",
    "                fold_loss = np.sqrt(np.min(result.history['val_loss']))\n",
    "                total_loss += fold_loss\n",
    "                min_epochs = min(np.argmin(result.history['val_loss']) + 1, min_epochs)\n",
    "                \n",
    "#                 print(f'CV split #{count}: RMSE={fold_loss:.4f}')\n",
    "                count += 1\n",
    "            \n",
    "            # calculate average holdout loss across all CV folds\n",
    "            avg_loss = total_loss / 5\n",
    "            best_loss = min(avg_loss, best_loss)\n",
    "            print(f'_____________________________________CV avg RMSE={avg_loss:.4f}')\n",
    "            \n",
    "#             plt.plot(result.history['loss'], label='train')\n",
    "#             plt.plot(result.history['val_loss'], label='val')\n",
    "#             plt.axhline(y=best_loss, color='r', lw=1, ls='-')\n",
    "#             plt.legend()\n",
    "#             plt.show()\n",
    "            \n",
    "            grid_results.append({'n_factors':N_FACTORS,\n",
    "                                 'n_hidden':N_HIDDEN,\n",
    "                                 'dropout':DROPOUT,\n",
    "                                 'val_rmse':avg_loss,\n",
    "                                 'val_epochs':min_epochs,\n",
    "                                 'train_hist':result.history['loss'],\n",
    "                                 'val_hist':result.history['val_loss']})\n",
    "            print()\n",
    "            break\n",
    "        break\n",
    "#     break\n",
    "\n",
    "# save results to data frame\n",
    "grid_results = pd.DataFrame(data=grid_results, columns=grid_results[0].keys())"
   ]
  },
  {
   "cell_type": "code",
   "execution_count": 10,
   "metadata": {},
   "outputs": [
    {
     "data": {
      "text/html": [
       "<div>\n",
       "<style scoped>\n",
       "    .dataframe tbody tr th:only-of-type {\n",
       "        vertical-align: middle;\n",
       "    }\n",
       "\n",
       "    .dataframe tbody tr th {\n",
       "        vertical-align: top;\n",
       "    }\n",
       "\n",
       "    .dataframe thead th {\n",
       "        text-align: right;\n",
       "    }\n",
       "</style>\n",
       "<table border=\"1\" class=\"dataframe\">\n",
       "  <thead>\n",
       "    <tr style=\"text-align: right;\">\n",
       "      <th></th>\n",
       "      <th>n_factors</th>\n",
       "      <th>n_hidden</th>\n",
       "      <th>dropout</th>\n",
       "      <th>val_rmse</th>\n",
       "      <th>val_epochs</th>\n",
       "      <th>train_hist</th>\n",
       "      <th>val_hist</th>\n",
       "    </tr>\n",
       "  </thead>\n",
       "  <tbody>\n",
       "    <tr>\n",
       "      <th>3</th>\n",
       "      <td>128</td>\n",
       "      <td>0</td>\n",
       "      <td>0</td>\n",
       "      <td>0.929420</td>\n",
       "      <td>6</td>\n",
       "      <td>[0.9448764749526978, 0.9171774558067322, 0.841...</td>\n",
       "      <td>[0.967871939086914, 0.9573996433258056, 0.9177...</td>\n",
       "    </tr>\n",
       "    <tr>\n",
       "      <th>2</th>\n",
       "      <td>64</td>\n",
       "      <td>0</td>\n",
       "      <td>0</td>\n",
       "      <td>0.931192</td>\n",
       "      <td>7</td>\n",
       "      <td>[0.9447980142593384, 0.9308741952896118, 0.890...</td>\n",
       "      <td>[0.9683909816741944, 0.9633234424591064, 0.938...</td>\n",
       "    </tr>\n",
       "    <tr>\n",
       "      <th>1</th>\n",
       "      <td>32</td>\n",
       "      <td>0</td>\n",
       "      <td>0</td>\n",
       "      <td>0.934400</td>\n",
       "      <td>8</td>\n",
       "      <td>[0.9448338025093078, 0.937631623840332, 0.9148...</td>\n",
       "      <td>[0.9684047742843628, 0.9652086585998535, 0.948...</td>\n",
       "    </tr>\n",
       "    <tr>\n",
       "      <th>0</th>\n",
       "      <td>8</td>\n",
       "      <td>0</td>\n",
       "      <td>0</td>\n",
       "      <td>0.945660</td>\n",
       "      <td>10</td>\n",
       "      <td>[0.9448830952644348, 0.9432240547180176, 0.938...</td>\n",
       "      <td>[0.9686725238800049, 0.9682414264678955, 0.965...</td>\n",
       "    </tr>\n",
       "  </tbody>\n",
       "</table>\n",
       "</div>"
      ],
      "text/plain": [
       "   n_factors  n_hidden  dropout  val_rmse  val_epochs  \\\n",
       "3        128         0        0  0.929420           6   \n",
       "2         64         0        0  0.931192           7   \n",
       "1         32         0        0  0.934400           8   \n",
       "0          8         0        0  0.945660          10   \n",
       "\n",
       "                                          train_hist  \\\n",
       "3  [0.9448764749526978, 0.9171774558067322, 0.841...   \n",
       "2  [0.9447980142593384, 0.9308741952896118, 0.890...   \n",
       "1  [0.9448338025093078, 0.937631623840332, 0.9148...   \n",
       "0  [0.9448830952644348, 0.9432240547180176, 0.938...   \n",
       "\n",
       "                                            val_hist  \n",
       "3  [0.967871939086914, 0.9573996433258056, 0.9177...  \n",
       "2  [0.9683909816741944, 0.9633234424591064, 0.938...  \n",
       "1  [0.9684047742843628, 0.9652086585998535, 0.948...  \n",
       "0  [0.9686725238800049, 0.9682414264678955, 0.965...  "
      ]
     },
     "execution_count": 10,
     "metadata": {},
     "output_type": "execute_result"
    }
   ],
   "source": [
    "# get best 10 models\n",
    "grid_results = grid_results.sort_values('val_rmse')\n",
    "grid_results.head(10)"
   ]
  },
  {
   "cell_type": "code",
   "execution_count": 11,
   "metadata": {},
   "outputs": [
    {
     "data": {
      "image/png": "[encoded data removed]",
      "text/plain": [
       "<Figure size 432x288 with 1 Axes>"
      ]
     },
     "metadata": {
      "needs_background": "light"
     },
     "output_type": "display_data"
    }
   ],
   "source": [
    "# plot training curve of best model\n",
    "plt.plot(grid_results.iloc[0,-2], label='train')\n",
    "plt.plot(grid_results.iloc[0,-1], label='test')\n",
    "plt.legend()\n",
    "plt.show()"
   ]
  },
  {
   "cell_type": "code",
   "execution_count": 12,
   "metadata": {},
   "outputs": [
    {
     "data": {
      "text/plain": [
       "n_factors    128\n",
       "n_hidden       0\n",
       "dropout        0\n",
       "Name: 3, dtype: object"
      ]
     },
     "execution_count": 12,
     "metadata": {},
     "output_type": "execute_result"
    }
   ],
   "source": [
    "best_rating_hparams = grid_results.iloc[0,:][['n_factors' ,'n_hidden', 'dropout']]\n",
    "best_rating_hparams"
   ]
  },
  {
   "cell_type": "markdown",
   "metadata": {},
   "source": [
    "---\n",
    "# Appendix B: multi-label genre model"
   ]
  },
  {
   "cell_type": "code",
   "execution_count": null,
   "metadata": {},
   "outputs": [],
   "source": [
    "def compile_genre_model(n_items, n_users, mean_rating, n_genres, n_latent, n_hidden_1, n_hidden_2, dropout_1, dropout_2):\n",
    "    \n",
    "    # item latent factors\n",
    "    item_in = Input(shape=[1])  # name='item'\n",
    "    item_em = Embedding(n_items, n_latent)(item_in)\n",
    "    item_vec = Flatten()(item_em)\n",
    "    \n",
    "    # user latent factors\n",
    "    user_in = Input(shape=[1])\n",
    "    user_em = Embedding(n_users, n_latent)(user_in)\n",
    "    user_vec = Flatten()(user_em)\n",
    "    \n",
    "    # user x item bias\n",
    "    bias = Input(shape=[1])\n",
    "    \n",
    "    # concatenate user and item vectors\n",
    "    conc = Concatenate()([item_vec, user_vec])\n",
    "    # hidden layer\n",
    "    hidden_1 = Dense(n_hidden_1)(conc)\n",
    "    leaky = LeakyReLU(alpha=0.1)(hidden_1)\n",
    "    drop_1 = Dropout(dropout_1)(leaky)\n",
    "    \n",
    "    out = Dense(1)(drop_1)\n",
    "            \n",
    "    rating = tf.math.add(Add()([out, bias]), mean_rating)\n",
    "    \n",
    "    # create model and compile it\n",
    "    model = Model([user_in, item_in, bias], rating)\n",
    "    model.compile(optimizer='adam', loss='mean_squared_error')\n",
    "    \n",
    "    # model 2\n",
    "    hidden_2 = Dense(n_hidden_2, activation='relu')(item_vec)\n",
    "    drop_2 = Dropout(dropout_2)(hidden_2)\n",
    "    genre = Dense(n_genres, activation='sigmoid')(drop_2)  # there are 18 genres\n",
    "\n",
    "    # Create model and compile it\n",
    "    model2 = Model(item_in, genre)\n",
    "    # freeze the embedding layer\n",
    "    model2.layers[1].trainable = False\n",
    "    model2.compile(optimizer='adam', loss='binary_crossentropy' , metrics=['accuracy', 'AUC'])\n",
    "    \n",
    "    return model, model2"
   ]
  },
  {
   "cell_type": "code",
   "execution_count": 15,
   "metadata": {},
   "outputs": [
    {
     "name": "stdout",
     "output_type": "stream",
     "text": [
      "Train on 80000 samples, validate on 20000 samples\n",
      "Epoch 1/10\n",
      "80000/80000 [==============================] - 1s 18us/sample - loss: 0.9487 - val_loss: 0.9348\n",
      "Epoch 2/10\n",
      "80000/80000 [==============================] - 1s 12us/sample - loss: 0.9487 - val_loss: 0.9348\n",
      "Epoch 3/10\n",
      "80000/80000 [==============================] - 1s 12us/sample - loss: 0.9487 - val_loss: 0.9348\n",
      "Epoch 4/10\n",
      "80000/80000 [==============================] - 1s 13us/sample - loss: 0.9487 - val_loss: 0.9348\n",
      "Epoch 5/10\n",
      "80000/80000 [==============================] - 1s 13us/sample - loss: 0.9487 - val_loss: 0.9348\n",
      "Epoch 6/10\n",
      "80000/80000 [==============================] - 1s 14us/sample - loss: 0.9487 - val_loss: 0.9348\n",
      "Epoch 7/10\n",
      "80000/80000 [==============================] - 1s 12us/sample - loss: 0.9487 - val_loss: 0.9348\n",
      "Epoch 8/10\n",
      "80000/80000 [==============================] - 1s 12us/sample - loss: 0.9487 - val_loss: 0.9348\n",
      "Epoch 9/10\n",
      "80000/80000 [==============================] - 1s 12us/sample - loss: 0.9487 - val_loss: 0.9348\n",
      "Epoch 10/10\n",
      "80000/80000 [==============================] - 1s 12us/sample - loss: 0.9487 - val_loss: 0.9348\n"
     ]
    }
   ],
   "source": [
    "# get baseline predictors for full dataset\n",
    "train, _, _ = get_baseline(df, df.index, df.index)\n",
    "\n",
    "# compile both models\n",
    "model1, model2 = compile_genre_model(\n",
    "    n_items = df.movieId.nunique(),\n",
    "    n_users = df.userId.nunique(),\n",
    "    mean_rating = df.rating.mean(), \n",
    "    n_genres=18,\n",
    "    n_latent=best_rating_hparams.n_factors, \n",
    "    n_hidden_1=best_rating_hparams.n_hidden,\n",
    "    n_hidden_2=64,\n",
    "    dropout_1=best_rating_hparams.dropout,\n",
    "    dropout_2=.2\n",
    ")\n",
    "\n",
    "# train rating model\n",
    "ratings = model1.fit(\n",
    "    x=[train.userId.values, train.movieId.values, train.bias.values],\n",
    "    y=train.rating.values, \n",
    "    batch_size=256,\n",
    "    epochs=10,\n",
    "    verbose=1,\n",
    "    validation_split=.2\n",
    ")"
   ]
  },
  {
   "cell_type": "code",
   "execution_count": 16,
   "metadata": {},
   "outputs": [
    {
     "name": "stdout",
     "output_type": "stream",
     "text": [
      "Train on 1345 samples, validate on 337 samples\n",
      "Epoch 1/5\n",
      "1345/1345 [==============================] - 0s 367us/sample - loss: 0.6794 - accuracy: 0.7493 - val_loss: 0.6625 - val_accuracy: 0.9054\n",
      "Epoch 2/5\n",
      "1345/1345 [==============================] - 0s 38us/sample - loss: 0.6466 - accuracy: 0.8887 - val_loss: 0.6172 - val_accuracy: 0.9228\n",
      "Epoch 3/5\n",
      "1345/1345 [==============================] - 0s 37us/sample - loss: 0.5925 - accuracy: 0.8994 - val_loss: 0.5452 - val_accuracy: 0.9232\n",
      "Epoch 4/5\n",
      "1345/1345 [==============================] - 0s 41us/sample - loss: 0.5168 - accuracy: 0.8998 - val_loss: 0.4540 - val_accuracy: 0.9232\n",
      "Epoch 5/5\n",
      "1345/1345 [==============================] - 0s 39us/sample - loss: 0.4349 - accuracy: 0.8998 - val_loss: 0.3683 - val_accuracy: 0.9232\n"
     ]
    }
   ],
   "source": [
    "# train genre model\n",
    "genres = model2.fit(\n",
    "#     movies.movieId.values, movies.Drama.values,  # drama only\n",
    "    movies.movieId.values, movies.iloc[:,-18:].values,  # multi label\n",
    "    batch_size=64, \n",
    "    epochs=5,\n",
    "    validation_split=.2)"
   ]
  },
  {
   "cell_type": "code",
   "execution_count": 17,
   "metadata": {},
   "outputs": [],
   "source": [
    "from sklearn.metrics import classification_report, confusion_matrix, precision_score, recall_score, f1_score"
   ]
  },
  {
   "cell_type": "code",
   "execution_count": 18,
   "metadata": {},
   "outputs": [],
   "source": [
    "y_true = movies.iloc[:,-18:]\n",
    "y_score = pd.DataFrame(model2.predict(movies.movieId.values), columns=y_true.columns)\n",
    "y_pred = y_score.round().astype('int')"
   ]
  },
  {
   "cell_type": "code",
   "execution_count": 19,
   "metadata": {},
   "outputs": [],
   "source": [
    "drama_true = y_true.Drama\n",
    "drama_pred = y_pred.Drama"
   ]
  },
  {
   "cell_type": "code",
   "execution_count": 20,
   "metadata": {},
   "outputs": [
    {
     "name": "stdout",
     "output_type": "stream",
     "text": [
      "              precision    recall  f1-score   support\n",
      "\n",
      "           0       0.57      1.00      0.73       957\n",
      "           1       0.00      0.00      0.00       725\n",
      "\n",
      "    accuracy                           0.57      1682\n",
      "   macro avg       0.28      0.50      0.36      1682\n",
      "weighted avg       0.32      0.57      0.41      1682\n",
      "\n"
     ]
    },
    {
     "name": "stderr",
     "output_type": "stream",
     "text": [
      "C:\\Users\\JLeslie\\AppData\\Local\\Continuum\\anaconda3\\lib\\site-packages\\sklearn\\metrics\\classification.py:1437: UndefinedMetricWarning: Precision and F-score are ill-defined and being set to 0.0 in labels with no predicted samples.\n",
      "  'precision', 'predicted', average, warn_for)\n",
      "C:\\Users\\JLeslie\\AppData\\Local\\Continuum\\anaconda3\\lib\\site-packages\\sklearn\\metrics\\classification.py:1437: UndefinedMetricWarning: Precision and F-score are ill-defined and being set to 0.0 in labels with no predicted samples.\n",
      "  'precision', 'predicted', average, warn_for)\n",
      "C:\\Users\\JLeslie\\AppData\\Local\\Continuum\\anaconda3\\lib\\site-packages\\sklearn\\metrics\\classification.py:1437: UndefinedMetricWarning: Precision and F-score are ill-defined and being set to 0.0 in labels with no predicted samples.\n",
      "  'precision', 'predicted', average, warn_for)\n"
     ]
    }
   ],
   "source": [
    "print(classification_report(drama_true, drama_pred))"
   ]
  },
  {
   "cell_type": "code",
   "execution_count": 21,
   "metadata": {},
   "outputs": [
    {
     "data": {
      "text/html": [
       "<div>\n",
       "<style scoped>\n",
       "    .dataframe tbody tr th:only-of-type {\n",
       "        vertical-align: middle;\n",
       "    }\n",
       "\n",
       "    .dataframe tbody tr th {\n",
       "        vertical-align: top;\n",
       "    }\n",
       "\n",
       "    .dataframe thead th {\n",
       "        text-align: right;\n",
       "    }\n",
       "</style>\n",
       "<table border=\"1\" class=\"dataframe\">\n",
       "  <thead>\n",
       "    <tr style=\"text-align: right;\">\n",
       "      <th></th>\n",
       "      <th>0</th>\n",
       "      <th>1</th>\n",
       "    </tr>\n",
       "  </thead>\n",
       "  <tbody>\n",
       "    <tr>\n",
       "      <th>0</th>\n",
       "      <td>957</td>\n",
       "      <td>0</td>\n",
       "    </tr>\n",
       "    <tr>\n",
       "      <th>1</th>\n",
       "      <td>725</td>\n",
       "      <td>0</td>\n",
       "    </tr>\n",
       "  </tbody>\n",
       "</table>\n",
       "</div>"
      ],
      "text/plain": [
       "     0  1\n",
       "0  957  0\n",
       "1  725  0"
      ]
     },
     "execution_count": 21,
     "metadata": {},
     "output_type": "execute_result"
    }
   ],
   "source": [
    "pd.DataFrame(confusion_matrix(drama_true, drama_pred))"
   ]
  },
  {
   "cell_type": "code",
   "execution_count": 22,
   "metadata": {},
   "outputs": [
    {
     "name": "stdout",
     "output_type": "stream",
     "text": [
      "              precision    recall  f1-score   support\n",
      "\n",
      "      Action       0.00      0.00      0.00       251\n",
      "   Adventure       0.00      0.00      0.00       135\n",
      "   Animation       0.00      0.00      0.00        42\n",
      "  Children's       0.00      0.00      0.00       122\n",
      "      Comedy       0.00      0.00      0.00       505\n",
      "       Crime       0.00      0.00      0.00       109\n",
      " Documentary       0.00      0.00      0.00        50\n",
      "       Drama       0.00      0.00      0.00       725\n",
      "     Fantasy       0.00      0.00      0.00        22\n",
      "   Film-Noir       0.00      0.00      0.00        24\n",
      "      Horror       0.00      0.00      0.00        92\n",
      "     Musical       0.00      0.00      0.00        56\n",
      "     Mystery       0.00      0.00      0.00        61\n",
      "     Romance       0.00      0.00      0.00       247\n",
      "      Sci-Fi       0.00      0.00      0.00       101\n",
      "    Thriller       0.00      0.00      0.00       251\n",
      "         War       0.00      0.00      0.00        71\n",
      "     Western       0.00      0.00      0.00        27\n",
      "\n",
      "   micro avg       0.00      0.00      0.00      2891\n",
      "   macro avg       0.00      0.00      0.00      2891\n",
      "weighted avg       0.00      0.00      0.00      2891\n",
      " samples avg       0.00      0.00      0.00      2891\n",
      "\n"
     ]
    },
    {
     "name": "stderr",
     "output_type": "stream",
     "text": [
      "C:\\Users\\JLeslie\\AppData\\Local\\Continuum\\anaconda3\\lib\\site-packages\\sklearn\\metrics\\classification.py:1437: UndefinedMetricWarning: Precision and F-score are ill-defined and being set to 0.0 in labels with no predicted samples.\n",
      "  'precision', 'predicted', average, warn_for)\n",
      "C:\\Users\\JLeslie\\AppData\\Local\\Continuum\\anaconda3\\lib\\site-packages\\sklearn\\metrics\\classification.py:1437: UndefinedMetricWarning: Precision and F-score are ill-defined and being set to 0.0 due to no predicted samples.\n",
      "  'precision', 'predicted', average, warn_for)\n",
      "C:\\Users\\JLeslie\\AppData\\Local\\Continuum\\anaconda3\\lib\\site-packages\\sklearn\\metrics\\classification.py:1437: UndefinedMetricWarning: Precision and F-score are ill-defined and being set to 0.0 in labels with no predicted samples.\n",
      "  'precision', 'predicted', average, warn_for)\n",
      "C:\\Users\\JLeslie\\AppData\\Local\\Continuum\\anaconda3\\lib\\site-packages\\sklearn\\metrics\\classification.py:1437: UndefinedMetricWarning: Precision and F-score are ill-defined and being set to 0.0 in labels with no predicted samples.\n",
      "  'precision', 'predicted', average, warn_for)\n",
      "C:\\Users\\JLeslie\\AppData\\Local\\Continuum\\anaconda3\\lib\\site-packages\\sklearn\\metrics\\classification.py:1437: UndefinedMetricWarning: Precision and F-score are ill-defined and being set to 0.0 in samples with no predicted labels.\n",
      "  'precision', 'predicted', average, warn_for)\n",
      "C:\\Users\\JLeslie\\AppData\\Local\\Continuum\\anaconda3\\lib\\site-packages\\sklearn\\metrics\\classification.py:1439: UndefinedMetricWarning: Recall and F-score are ill-defined and being set to 0.0 in samples with no true labels.\n",
      "  'recall', 'true', average, warn_for)\n"
     ]
    }
   ],
   "source": [
    "print(classification_report(y_true, y_pred, target_names=y_true.columns))"
   ]
  }
 ],
 "metadata": {
  "kernelspec": {
   "display_name": "Python 3",
   "language": "python",
   "name": "python3"
  },
  "language_info": {
   "codemirror_mode": {
    "name": "ipython",
    "version": 3
   },
   "file_extension": ".py",
   "mimetype": "text/x-python",
   "name": "python",
   "nbconvert_exporter": "python",
   "pygments_lexer": "ipython3",
   "version": "3.7.3"
  }
 },
 "nbformat": 4,
 "nbformat_minor": 4
}
