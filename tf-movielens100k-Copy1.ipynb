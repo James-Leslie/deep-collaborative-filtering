{
 "cells": [
  {
   "cell_type": "markdown",
   "metadata": {},
   "source": [
    "# MovieLens 1m Collaborative Genre Tagging\n",
    "**To do**:\n",
    "  - try out [this implementation](https://www.onceupondata.com/2019/02/10/nn-collaborative-filtering/) of baseline features. \n",
    "  - create object classes for models\n",
    "  - implement TF 2.0 data classes\n",
    "  - [paperswithcode link](https://paperswithcode.com/sota/collaborative-filtering-on-movielens-100k)\n",
    "  - [ML 100k state of the art paper](https://arxiv.org/pdf/1706.02263v2.pdf) (RMSE=0.905): details their evaluation method\n",
    "  \n",
    "[![Colab](https://colab.research.google.com/assets/colab-badge.svg)](https://colab.research.google.com/github/James-Leslie/deep-collaborative-filtering/blob/master/tf-movielens1m.ipynb)"
   ]
  },
  {
   "cell_type": "code",
   "execution_count": 1,
   "metadata": {},
   "outputs": [],
   "source": [
    "import numpy as np\n",
    "import pandas as pd\n",
    "import matplotlib.pyplot as plt\n",
    "import seaborn as sns\n",
    "import tensorflow as tf\n",
    "\n",
    "%matplotlib inline"
   ]
  },
  {
   "cell_type": "markdown",
   "metadata": {},
   "source": [
    "## Load rating data"
   ]
  },
  {
   "cell_type": "code",
   "execution_count": 2,
   "metadata": {},
   "outputs": [],
   "source": [
    "path = 'data/ml-1m/'  # if the files are local\n",
    "df = pd.read_csv(path+'ratings.csv', usecols=['userId','movieId','rating'])"
   ]
  },
  {
   "cell_type": "code",
   "execution_count": 3,
   "metadata": {},
   "outputs": [
    {
     "data": {
      "text/html": [
       "<div>\n",
       "<style scoped>\n",
       "    .dataframe tbody tr th:only-of-type {\n",
       "        vertical-align: middle;\n",
       "    }\n",
       "\n",
       "    .dataframe tbody tr th {\n",
       "        vertical-align: top;\n",
       "    }\n",
       "\n",
       "    .dataframe thead th {\n",
       "        text-align: right;\n",
       "    }\n",
       "</style>\n",
       "<table border=\"1\" class=\"dataframe\">\n",
       "  <thead>\n",
       "    <tr style=\"text-align: right;\">\n",
       "      <th></th>\n",
       "      <th>userId</th>\n",
       "      <th>movieId</th>\n",
       "      <th>rating</th>\n",
       "    </tr>\n",
       "  </thead>\n",
       "  <tbody>\n",
       "    <tr>\n",
       "      <td>0</td>\n",
       "      <td>0</td>\n",
       "      <td>0</td>\n",
       "      <td>5</td>\n",
       "    </tr>\n",
       "    <tr>\n",
       "      <td>1</td>\n",
       "      <td>0</td>\n",
       "      <td>1</td>\n",
       "      <td>3</td>\n",
       "    </tr>\n",
       "    <tr>\n",
       "      <td>2</td>\n",
       "      <td>0</td>\n",
       "      <td>2</td>\n",
       "      <td>3</td>\n",
       "    </tr>\n",
       "    <tr>\n",
       "      <td>3</td>\n",
       "      <td>0</td>\n",
       "      <td>3</td>\n",
       "      <td>4</td>\n",
       "    </tr>\n",
       "    <tr>\n",
       "      <td>4</td>\n",
       "      <td>0</td>\n",
       "      <td>4</td>\n",
       "      <td>5</td>\n",
       "    </tr>\n",
       "  </tbody>\n",
       "</table>\n",
       "</div>"
      ],
      "text/plain": [
       "   userId  movieId  rating\n",
       "0       0        0       5\n",
       "1       0        1       3\n",
       "2       0        2       3\n",
       "3       0        3       4\n",
       "4       0        4       5"
      ]
     },
     "execution_count": 3,
     "metadata": {},
     "output_type": "execute_result"
    }
   ],
   "source": [
    "df.head()"
   ]
  },
  {
   "cell_type": "code",
   "execution_count": 4,
   "metadata": {},
   "outputs": [
    {
     "data": {
      "text/plain": [
       "(1000209, 3)"
      ]
     },
     "execution_count": 4,
     "metadata": {},
     "output_type": "execute_result"
    }
   ],
   "source": [
    "df.shape"
   ]
  },
  {
   "cell_type": "code",
   "execution_count": 5,
   "metadata": {},
   "outputs": [
    {
     "name": "stdout",
     "output_type": "stream",
     "text": [
      "Number of users: 6040\n",
      "Number of items: 3706\n",
      "Min item rating: 1\n",
      "Max item rating: 5\n",
      "Mean item rating: 3.581564453029317\n"
     ]
    }
   ],
   "source": [
    "print('Number of users:', df.userId.nunique())\n",
    "print('Number of items:', df.movieId.nunique())\n",
    "print(\"Min item rating:\", df.rating.min())\n",
    "print(\"Max item rating:\", df.rating.max())\n",
    "print(\"Mean item rating:\", df.rating.mean())"
   ]
  },
  {
   "cell_type": "markdown",
   "metadata": {},
   "source": [
    "## Load movie metadata\n",
    "  - remove 10% as holdout test set"
   ]
  },
  {
   "cell_type": "code",
   "execution_count": 6,
   "metadata": {},
   "outputs": [
    {
     "data": {
      "text/html": [
       "<div>\n",
       "<style scoped>\n",
       "    .dataframe tbody tr th:only-of-type {\n",
       "        vertical-align: middle;\n",
       "    }\n",
       "\n",
       "    .dataframe tbody tr th {\n",
       "        vertical-align: top;\n",
       "    }\n",
       "\n",
       "    .dataframe thead th {\n",
       "        text-align: right;\n",
       "    }\n",
       "</style>\n",
       "<table border=\"1\" class=\"dataframe\">\n",
       "  <thead>\n",
       "    <tr style=\"text-align: right;\">\n",
       "      <th></th>\n",
       "      <th>movieId</th>\n",
       "      <th>title</th>\n",
       "      <th>Action</th>\n",
       "      <th>Adventure</th>\n",
       "      <th>Animation</th>\n",
       "      <th>Children's</th>\n",
       "      <th>Comedy</th>\n",
       "      <th>Crime</th>\n",
       "      <th>Documentary</th>\n",
       "      <th>Drama</th>\n",
       "      <th>Fantasy</th>\n",
       "      <th>Film-Noir</th>\n",
       "      <th>Horror</th>\n",
       "      <th>Musical</th>\n",
       "      <th>Mystery</th>\n",
       "      <th>Romance</th>\n",
       "      <th>Sci-Fi</th>\n",
       "      <th>Thriller</th>\n",
       "      <th>War</th>\n",
       "      <th>Western</th>\n",
       "    </tr>\n",
       "  </thead>\n",
       "  <tbody>\n",
       "    <tr>\n",
       "      <td>0</td>\n",
       "      <td>0</td>\n",
       "      <td>One Flew Over the Cuckoo's Nest (1975)</td>\n",
       "      <td>0</td>\n",
       "      <td>0</td>\n",
       "      <td>0</td>\n",
       "      <td>0</td>\n",
       "      <td>0</td>\n",
       "      <td>0</td>\n",
       "      <td>0</td>\n",
       "      <td>1</td>\n",
       "      <td>0</td>\n",
       "      <td>0</td>\n",
       "      <td>0</td>\n",
       "      <td>0</td>\n",
       "      <td>0</td>\n",
       "      <td>0</td>\n",
       "      <td>0</td>\n",
       "      <td>0</td>\n",
       "      <td>0</td>\n",
       "      <td>0</td>\n",
       "    </tr>\n",
       "    <tr>\n",
       "      <td>1</td>\n",
       "      <td>1</td>\n",
       "      <td>James and the Giant Peach (1996)</td>\n",
       "      <td>0</td>\n",
       "      <td>0</td>\n",
       "      <td>1</td>\n",
       "      <td>1</td>\n",
       "      <td>0</td>\n",
       "      <td>0</td>\n",
       "      <td>0</td>\n",
       "      <td>0</td>\n",
       "      <td>0</td>\n",
       "      <td>0</td>\n",
       "      <td>0</td>\n",
       "      <td>1</td>\n",
       "      <td>0</td>\n",
       "      <td>0</td>\n",
       "      <td>0</td>\n",
       "      <td>0</td>\n",
       "      <td>0</td>\n",
       "      <td>0</td>\n",
       "    </tr>\n",
       "    <tr>\n",
       "      <td>2</td>\n",
       "      <td>2</td>\n",
       "      <td>My Fair Lady (1964)</td>\n",
       "      <td>0</td>\n",
       "      <td>0</td>\n",
       "      <td>0</td>\n",
       "      <td>0</td>\n",
       "      <td>0</td>\n",
       "      <td>0</td>\n",
       "      <td>0</td>\n",
       "      <td>0</td>\n",
       "      <td>0</td>\n",
       "      <td>0</td>\n",
       "      <td>0</td>\n",
       "      <td>1</td>\n",
       "      <td>0</td>\n",
       "      <td>1</td>\n",
       "      <td>0</td>\n",
       "      <td>0</td>\n",
       "      <td>0</td>\n",
       "      <td>0</td>\n",
       "    </tr>\n",
       "    <tr>\n",
       "      <td>3</td>\n",
       "      <td>3</td>\n",
       "      <td>Erin Brockovich (2000)</td>\n",
       "      <td>0</td>\n",
       "      <td>0</td>\n",
       "      <td>0</td>\n",
       "      <td>0</td>\n",
       "      <td>0</td>\n",
       "      <td>0</td>\n",
       "      <td>0</td>\n",
       "      <td>1</td>\n",
       "      <td>0</td>\n",
       "      <td>0</td>\n",
       "      <td>0</td>\n",
       "      <td>0</td>\n",
       "      <td>0</td>\n",
       "      <td>0</td>\n",
       "      <td>0</td>\n",
       "      <td>0</td>\n",
       "      <td>0</td>\n",
       "      <td>0</td>\n",
       "    </tr>\n",
       "    <tr>\n",
       "      <td>4</td>\n",
       "      <td>4</td>\n",
       "      <td>Bug's Life, A (1998)</td>\n",
       "      <td>0</td>\n",
       "      <td>0</td>\n",
       "      <td>1</td>\n",
       "      <td>1</td>\n",
       "      <td>1</td>\n",
       "      <td>0</td>\n",
       "      <td>0</td>\n",
       "      <td>0</td>\n",
       "      <td>0</td>\n",
       "      <td>0</td>\n",
       "      <td>0</td>\n",
       "      <td>0</td>\n",
       "      <td>0</td>\n",
       "      <td>0</td>\n",
       "      <td>0</td>\n",
       "      <td>0</td>\n",
       "      <td>0</td>\n",
       "      <td>0</td>\n",
       "    </tr>\n",
       "  </tbody>\n",
       "</table>\n",
       "</div>"
      ],
      "text/plain": [
       "   movieId                                   title  Action  Adventure  \\\n",
       "0        0  One Flew Over the Cuckoo's Nest (1975)       0          0   \n",
       "1        1        James and the Giant Peach (1996)       0          0   \n",
       "2        2                     My Fair Lady (1964)       0          0   \n",
       "3        3                  Erin Brockovich (2000)       0          0   \n",
       "4        4                    Bug's Life, A (1998)       0          0   \n",
       "\n",
       "   Animation  Children's  Comedy  Crime  Documentary  Drama  Fantasy  \\\n",
       "0          0           0       0      0            0      1        0   \n",
       "1          1           1       0      0            0      0        0   \n",
       "2          0           0       0      0            0      0        0   \n",
       "3          0           0       0      0            0      1        0   \n",
       "4          1           1       1      0            0      0        0   \n",
       "\n",
       "   Film-Noir  Horror  Musical  Mystery  Romance  Sci-Fi  Thriller  War  \\\n",
       "0          0       0        0        0        0       0         0    0   \n",
       "1          0       0        1        0        0       0         0    0   \n",
       "2          0       0        1        0        1       0         0    0   \n",
       "3          0       0        0        0        0       0         0    0   \n",
       "4          0       0        0        0        0       0         0    0   \n",
       "\n",
       "   Western  \n",
       "0        0  \n",
       "1        0  \n",
       "2        0  \n",
       "3        0  \n",
       "4        0  "
      ]
     },
     "execution_count": 6,
     "metadata": {},
     "output_type": "execute_result"
    }
   ],
   "source": [
    "movies = pd.read_csv(path+'movies.csv')\n",
    "movies.head()"
   ]
  },
  {
   "cell_type": "code",
   "execution_count": 7,
   "metadata": {},
   "outputs": [],
   "source": [
    "from sklearn.model_selection import train_test_split"
   ]
  },
  {
   "cell_type": "code",
   "execution_count": 8,
   "metadata": {},
   "outputs": [],
   "source": [
    "movies, movies_holdout = train_test_split(movies, test_size=.1, random_state=42)"
   ]
  },
  {
   "cell_type": "markdown",
   "metadata": {},
   "source": [
    "---\n",
    "# Create baseline features\n",
    "For each user, calculate average user bias - the average difference between the user's rating and the movie's average rating:\n",
    "\n",
    "$$b_{u} = \\dfrac{\\sum_{j=1}^{n_u} (r_{uj} - \\mu_i)}{n_u}$$\n",
    "\n",
    "For each item, calculate the difference between its average rating and the average rating of all movies:\n",
    "\n",
    "$$b_{i} = \\dfrac{\\sum_{k=1}^{n_i} (r_{ki})}{n_i} - \\mu$$\n",
    "\n",
    "Then, for each interaction, calculate the combined bias:\n",
    "\n",
    "$$b_{ui} = \\dfrac{b_u + b_i}{2}$$"
   ]
  },
  {
   "cell_type": "code",
   "execution_count": 9,
   "metadata": {},
   "outputs": [
    {
     "data": {
      "text/plain": [
       "\u001b[1;31mSignature:\u001b[0m \u001b[0mget_baseline\u001b[0m\u001b[1;33m(\u001b[0m\u001b[0mdf\u001b[0m\u001b[1;33m,\u001b[0m \u001b[0mtrain_index\u001b[0m\u001b[1;33m,\u001b[0m \u001b[0mtest_index\u001b[0m\u001b[1;33m,\u001b[0m \u001b[0muser_col\u001b[0m\u001b[1;33m,\u001b[0m \u001b[0mitem_col\u001b[0m\u001b[1;33m)\u001b[0m\u001b[1;33m\u001b[0m\u001b[1;33m\u001b[0m\u001b[0m\n",
       "\u001b[1;31mDocstring:\u001b[0m\n",
       "Calculate baseline features from an explicit ratings dataset. Receives a dataframe\n",
       "and returns train and test splits with added bias column and mean rating value.\n",
       "User and item biases are calculated as average difference from global mean rating.\n",
       "Baseline factors are only calculated from training observations, with users or\n",
       "items that do not appear in train receiving the global average as default.\n",
       "\n",
       "Args:\n",
       "    df          : explicit ratings dataframe with columns userId, movieId and rating\n",
       "    train_index : train index splits taken from KFold.splits()\n",
       "    test_index  : test index splits taken from KFold.splits()\n",
       "    \n",
       "Returns:\n",
       "    train, test : train/test splits of df, with added bias column\n",
       "    global_mean : average rating of all training observations\n",
       "\u001b[1;31mFile:\u001b[0m      d:\\myfiles\\deep-collaborative-filtering\\cgt.py\n",
       "\u001b[1;31mType:\u001b[0m      function\n"
      ]
     },
     "metadata": {},
     "output_type": "display_data"
    }
   ],
   "source": [
    "from CGT import get_baseline\n",
    "?get_baseline"
   ]
  },
  {
   "cell_type": "markdown",
   "metadata": {},
   "source": [
    "---\n",
    "# CGT model\n",
    "**To do**:\n",
    "  - Can we avoid re-training rating model on CV fold?\n",
    "  - Create a grid search function / class"
   ]
  },
  {
   "cell_type": "code",
   "execution_count": 10,
   "metadata": {},
   "outputs": [
    {
     "data": {
      "text/plain": [
       "\u001b[1;31mSignature:\u001b[0m\n",
       "\u001b[0mcompile_genre_model\u001b[0m\u001b[1;33m(\u001b[0m\u001b[1;33m\n",
       "\u001b[0m    \u001b[0mn_items\u001b[0m\u001b[1;33m,\u001b[0m\u001b[1;33m\n",
       "\u001b[0m    \u001b[0mn_users\u001b[0m\u001b[1;33m,\u001b[0m\u001b[1;33m\n",
       "\u001b[0m    \u001b[0mmin_rating\u001b[0m\u001b[1;33m,\u001b[0m\u001b[1;33m\n",
       "\u001b[0m    \u001b[0mmax_rating\u001b[0m\u001b[1;33m,\u001b[0m\u001b[1;33m\n",
       "\u001b[0m    \u001b[0mmean_rating\u001b[0m\u001b[1;33m,\u001b[0m\u001b[1;33m\n",
       "\u001b[0m    \u001b[0mn_latent\u001b[0m\u001b[1;33m=\u001b[0m\u001b[1;36m1000\u001b[0m\u001b[1;33m,\u001b[0m\u001b[1;33m\n",
       "\u001b[0m    \u001b[0mn_hidden_1\u001b[0m\u001b[1;33m=\u001b[0m\u001b[1;32mNone\u001b[0m\u001b[1;33m,\u001b[0m\u001b[1;33m\n",
       "\u001b[0m    \u001b[0mn_hidden_2\u001b[0m\u001b[1;33m=\u001b[0m\u001b[1;36m200\u001b[0m\u001b[1;33m,\u001b[0m\u001b[1;33m\n",
       "\u001b[0m    \u001b[0mactivation\u001b[0m\u001b[1;33m=\u001b[0m\u001b[1;34m'relu'\u001b[0m\u001b[1;33m,\u001b[0m\u001b[1;33m\n",
       "\u001b[0m    \u001b[0mdropout_1\u001b[0m\u001b[1;33m=\u001b[0m\u001b[1;36m0.2\u001b[0m\u001b[1;33m,\u001b[0m\u001b[1;33m\n",
       "\u001b[0m    \u001b[0mdropout_2\u001b[0m\u001b[1;33m=\u001b[0m\u001b[1;36m0.2\u001b[0m\u001b[1;33m,\u001b[0m\u001b[1;33m\n",
       "\u001b[0m    \u001b[0mrandom_seed\u001b[0m\u001b[1;33m=\u001b[0m\u001b[1;36m42\u001b[0m\u001b[1;33m,\u001b[0m\u001b[1;33m\n",
       "\u001b[0m\u001b[1;33m)\u001b[0m\u001b[1;33m\u001b[0m\u001b[1;33m\u001b[0m\u001b[0m\n",
       "\u001b[1;31mDocstring:\u001b[0m <no docstring>\n",
       "\u001b[1;31mFile:\u001b[0m      d:\\myfiles\\deep-collaborative-filtering\\cgt.py\n",
       "\u001b[1;31mType:\u001b[0m      function\n"
      ]
     },
     "metadata": {},
     "output_type": "display_data"
    }
   ],
   "source": [
    "from CGT import compile_genre_model\n",
    "?compile_genre_model"
   ]
  },
  {
   "cell_type": "markdown",
   "metadata": {},
   "source": [
    "---\n",
    "## Grid search\n",
    "**To do**: try using [tqdm](https://github.com/tqdm/tqdm) notebook bars\n",
    "\n",
    "```bash\n",
    "# bash\n",
    "pip install --upgrade ipywidgets \n",
    "jupyter nbextension enable --py widgetsnbextension\n",
    "jupyter labextension install @jupyter-widgets/jupyterlab-manager\n",
    "```\n",
    "\n",
    "```python\n",
    "# python\n",
    "from tqdm.notebook import trange, tqdm\n",
    "from time import sleep\n",
    "\n",
    "for i in trange(3, desc='1st loop'):\n",
    "    for j in tqdm(range(100), desc='2nd loop'):\n",
    "        sleep(0.01)\n",
    "```"
   ]
  },
  {
   "cell_type": "markdown",
   "metadata": {},
   "source": [
    "## 1. Number of latent factors and hidden nodes"
   ]
  },
  {
   "cell_type": "code",
   "execution_count": 11,
   "metadata": {},
   "outputs": [],
   "source": [
    "from sklearn.model_selection import KFold"
   ]
  },
  {
   "cell_type": "code",
   "execution_count": 12,
   "metadata": {},
   "outputs": [],
   "source": [
    "bs1 = 2048\n",
    "bs2 = 128"
   ]
  },
  {
   "cell_type": "code",
   "execution_count": 13,
   "metadata": {},
   "outputs": [],
   "source": [
    "# hyper parameters\n",
    "HP_N_FACTORS = [200, 1000]\n",
    "HP_N_HIDDEN_2 = [[100], [200], [500]]"
   ]
  },
  {
   "cell_type": "code",
   "execution_count": null,
   "metadata": {},
   "outputs": [
    {
     "name": "stdout",
     "output_type": "stream",
     "text": [
      "Fitting total of 6 models\n",
      "\n",
      "Fitting CGT model #1 with 200 | [100] architecture\n",
      "_____________________________________CV avg val loss=0.5381\n",
      "_____________________________________CV avg val acc=0.7169\n",
      "\n",
      "Fitting CGT model #2 with 200 | [200] architecture\n",
      "_____________________________________CV avg val loss=0.5295\n",
      "_____________________________________CV avg val acc=0.7229\n",
      "\n",
      "Fitting CGT model #3 with 200 | [500] architecture\n",
      "_____________________________________CV avg val loss=0.5267\n",
      "_____________________________________CV avg val acc=0.7199\n",
      "\n",
      "Fitting CGT model #4 with 1000 | [100] architecture\n",
      "_____________________________________CV avg val loss=0.5159\n",
      "_____________________________________CV avg val acc=0.7274\n",
      "\n",
      "Fitting CGT model #5 with 1000 | [200] architecture\n"
     ]
    }
   ],
   "source": [
    "# dataframe to store results of grid search\n",
    "grid_results = []\n",
    "searches = 1\n",
    "\n",
    "n_models = len(HP_N_FACTORS) * len(HP_N_HIDDEN_2)\n",
    "\n",
    "print(f'Fitting total of {n_models} models\\n')\n",
    "\n",
    "for N_FACTORS in HP_N_FACTORS:\n",
    "    for N_HIDDEN_2 in HP_N_HIDDEN_2:\n",
    "\n",
    "        print(f'Fitting CGT model #{searches} with {N_FACTORS} | {N_HIDDEN_2} architecture')\n",
    "        searches += 1\n",
    "\n",
    "        # Create 5 CV folds\n",
    "        kf = KFold(n_splits=5, random_state=42)\n",
    "\n",
    "        # initialise loss and epoch count\n",
    "        total_loss = 0\n",
    "        total_acc = 0\n",
    "        count = 1\n",
    "\n",
    "        # do CV split and compute baseline predictors each time\n",
    "        for train_index, test_index in kf.split(movies):\n",
    "\n",
    "            # get baseline rating predictors for full dataset\n",
    "            train, _, _ = get_baseline(df, df.index, df.index, 'userId', 'movieId')\n",
    "\n",
    "            # compile both models with search hparams\n",
    "            model1, model2 = compile_genre_model(\n",
    "                n_items=df.movieId.nunique(),\n",
    "                n_users=df.userId.nunique(),\n",
    "                min_rating=df.rating.min(),\n",
    "                max_rating=df.rating.max(),\n",
    "                mean_rating=df.rating.mean(),\n",
    "                n_latent=N_FACTORS,\n",
    "                n_hidden_2=N_HIDDEN_2\n",
    "            )\n",
    "\n",
    "            # train rating model on all data\n",
    "            ratings = model1.fit(\n",
    "                x=[train.userId.values, train.movieId.values, train.bias.values],\n",
    "                y=train.rating.values, \n",
    "                batch_size=bs1,\n",
    "                epochs=6,\n",
    "                verbose=0,\n",
    "                validation_split=.2\n",
    "            )\n",
    "\n",
    "            # train genre model on 5 CV folds\n",
    "            train = movies.iloc[train_index]\n",
    "            test = movies.iloc[test_index]\n",
    "\n",
    "            # train model on current fold\n",
    "            result = model2.fit(\n",
    "                train.movieId.values, train.Drama.values,\n",
    "                batch_size=bs2, \n",
    "                epochs=5,\n",
    "                verbose=0,\n",
    "                validation_data=(test.movieId.values, test.Drama.values))\n",
    "\n",
    "            # get loss from this fold\n",
    "            fold_loss = result.history['val_loss'][-1]\n",
    "            total_loss += fold_loss\n",
    "            fold_acc = result.history['val_accuracy'][-1]\n",
    "            total_acc += fold_acc\n",
    "\n",
    "            count += 1\n",
    "\n",
    "            del model1, model2\n",
    "\n",
    "        # calculate average holdout loss across all CV folds\n",
    "        avg_loss = total_loss / 5\n",
    "        avg_acc = total_acc / 5\n",
    "        print(f'_____________________________________CV avg val loss={avg_loss:.4f}')\n",
    "        print(f'_____________________________________CV avg val acc={avg_acc:.4f}')\n",
    "\n",
    "        grid_results.append({'n_factors':N_FACTORS,\n",
    "                             'n_hidden_2':N_HIDDEN_2,\n",
    "                             'val_loss':avg_loss,\n",
    "                             'val_acc':avg_acc,\n",
    "                             'train_loss_hist':result.history['loss'],\n",
    "                             'val_loss_hist':result.history['val_loss'],\n",
    "                             'train_acc_hist':result.history['accuracy'],\n",
    "                             'val_acc_hist':result.history['val_accuracy']})\n",
    "\n",
    "        print()\n",
    "#             break\n",
    "#         break\n",
    "#     break\n",
    "    \n",
    "col_order = grid_results[0].keys()\n",
    "\n",
    "# save results to data frame\n",
    "grid_results = pd.DataFrame(grid_results)\n",
    "# reorder columns\n",
    "grid_results = grid_results[col_order]"
   ]
  },
  {
   "cell_type": "code",
   "execution_count": null,
   "metadata": {},
   "outputs": [],
   "source": [
    "# get best 5 models\n",
    "grid_results = grid_results.sort_values('val_loss')\n",
    "grid_results.to_csv(path+'grid_results.csv', index=False)\n",
    "\n",
    "grid_results.head(5)"
   ]
  },
  {
   "cell_type": "code",
   "execution_count": null,
   "metadata": {},
   "outputs": [],
   "source": [
    "best_hparams = grid_results.iloc[0,:][['n_factors', 'n_hidden_2']]\n",
    "best_hparams"
   ]
  },
  {
   "cell_type": "markdown",
   "metadata": {},
   "source": [
    "## 2. Number of epochs"
   ]
  },
  {
   "cell_type": "code",
   "execution_count": null,
   "metadata": {},
   "outputs": [],
   "source": [
    "# get baseline predictors for full dataset\n",
    "train, _, _ = get_baseline(df, df.index, df.index, 'userId', 'movieId')\n",
    "\n",
    "# compile both models\n",
    "model1, model2 = compile_genre_model(\n",
    "    n_items=df.movieId.nunique(),\n",
    "    n_users=df.userId.nunique(),\n",
    "    min_rating=df.rating.min(),\n",
    "    max_rating=df.rating.max(),\n",
    "    mean_rating=df.rating.mean(),\n",
    "    n_latent=best_hparams.n_factors,\n",
    "    n_hidden_2=best_hparams.n_hidden_2\n",
    ")\n",
    "\n",
    "# train rating model\n",
    "training = model1.fit(\n",
    "    x=[train.userId.values, train.movieId.values, train.bias.values],\n",
    "    y=train.rating.values, \n",
    "    batch_size=bs1,\n",
    "    epochs=10,\n",
    "    verbose=1,\n",
    "    validation_split=.2\n",
    ")"
   ]
  },
  {
   "cell_type": "code",
   "execution_count": null,
   "metadata": {},
   "outputs": [],
   "source": [
    "sns.set(style='whitegrid', palette='muted',\n",
    "        rc={'figure.figsize': (16,9),\n",
    "            'font.family': 'serif'})"
   ]
  },
  {
   "cell_type": "code",
   "execution_count": null,
   "metadata": {},
   "outputs": [],
   "source": [
    "# plot training curve of best model\n",
    "plt.plot(np.arange(1,11,1), training.history['loss'], label='train')\n",
    "plt.plot(np.arange(1,11,1), training.history['val_loss'], label='validation')\n",
    "plt.xticks(np.arange(1,11,1))\n",
    "plt.title('Rating model, Train vs validation loss', fontsize=14)\n",
    "plt.ylabel('Mean Squared Error')\n",
    "plt.xlabel('Number of Epochs')\n",
    "plt.legend()\n",
    "plt.savefig('figures/5_ml1m-rating-epochs.pdf')\n",
    "plt.show()"
   ]
  },
  {
   "cell_type": "code",
   "execution_count": 41,
   "metadata": {},
   "outputs": [
    {
     "name": "stdout",
     "output_type": "stream",
     "text": [
      "Train on 80000 samples, validate on 20000 samples\n",
      "Epoch 1/4\n",
      "80000/80000 [==============================] - 9s 114us/sample - loss: 0.9479 - val_loss: 0.9290\n",
      "Epoch 2/4\n",
      "80000/80000 [==============================] - 9s 111us/sample - loss: 0.7535 - val_loss: 0.8814\n",
      "Epoch 3/4\n",
      "80000/80000 [==============================] - 9s 106us/sample - loss: 0.4572 - val_loss: 0.8368\n",
      "Epoch 4/4\n",
      "80000/80000 [==============================] - 9s 107us/sample - loss: 0.2048 - val_loss: 0.8340\n"
     ]
    }
   ],
   "source": [
    "del model1, model2\n",
    "\n",
    "# compile both models\n",
    "model1, model2 = compile_genre_model(\n",
    "    n_items=df.movieId.nunique(),\n",
    "    n_users=df.userId.nunique(),\n",
    "    min_rating=df.rating.min(),\n",
    "    max_rating=df.rating.max(),\n",
    "    mean_rating=df.rating.mean(),\n",
    "    n_latent=best_hparams.n_factors,\n",
    "    n_hidden_2=best_hparams.n_hidden_2\n",
    ")\n",
    "\n",
    "# train rating model\n",
    "training = model1.fit(\n",
    "    x=[train.userId.values, train.movieId.values, train.bias.values],\n",
    "    y=train.rating.values, \n",
    "    batch_size=bs1,\n",
    "    epochs=4,\n",
    "    verbose=1,\n",
    "    validation_split=.2\n",
    ")"
   ]
  },
  {
   "cell_type": "code",
   "execution_count": 42,
   "metadata": {},
   "outputs": [
    {
     "data": {
      "image/png": "[encoded data removed]",
      "text/plain": [
       "<Figure size 1152x648 with 1 Axes>"
      ]
     },
     "metadata": {},
     "output_type": "display_data"
    }
   ],
   "source": [
    "# plot training curve of best model\n",
    "plt.plot(np.arange(1,5,1), training.history['loss'], label='train')\n",
    "plt.plot(np.arange(1,5,1), training.history['val_loss'], label='validation')\n",
    "plt.xticks(np.arange(1,5,1))\n",
    "plt.title('Rating model, Train vs validation loss', fontsize=14)\n",
    "plt.ylabel('Mean Squared Error')\n",
    "plt.xlabel('Number of Epochs')\n",
    "plt.legend()\n",
    "plt.show()"
   ]
  },
  {
   "cell_type": "code",
   "execution_count": 43,
   "metadata": {},
   "outputs": [
    {
     "name": "stdout",
     "output_type": "stream",
     "text": [
      "Train on 1210 samples, validate on 303 samples\n",
      "Epoch 1/10\n",
      "1210/1210 [==============================] - 1s 928us/sample - loss: 0.6667 - accuracy: 0.5934 - AUC: 0.6431 - val_loss: 0.6248 - val_accuracy: 0.6535 - val_AUC: 0.7511\n",
      "Epoch 2/10\n",
      "1210/1210 [==============================] - 0s 224us/sample - loss: 0.5983 - accuracy: 0.6843 - AUC: 0.7843 - val_loss: 0.5948 - val_accuracy: 0.6766 - val_AUC: 0.7555\n",
      "Epoch 3/10\n",
      "1210/1210 [==============================] - 0s 220us/sample - loss: 0.5466 - accuracy: 0.7488 - AUC: 0.8389 - val_loss: 0.5815 - val_accuracy: 0.6997 - val_AUC: 0.7567\n",
      "Epoch 4/10\n",
      "1210/1210 [==============================] - 0s 222us/sample - loss: 0.4971 - accuracy: 0.7901 - AUC: 0.8789 - val_loss: 0.5784 - val_accuracy: 0.6700 - val_AUC: 0.7513\n",
      "Epoch 5/10\n",
      "1210/1210 [==============================] - 0s 195us/sample - loss: 0.4498 - accuracy: 0.8331 - AUC: 0.9111 - val_loss: 0.5808 - val_accuracy: 0.6733 - val_AUC: 0.7454\n",
      "Epoch 6/10\n",
      "1210/1210 [==============================] - 0s 204us/sample - loss: 0.4045 - accuracy: 0.8653 - AUC: 0.9354 - val_loss: 0.5971 - val_accuracy: 0.6799 - val_AUC: 0.7322\n",
      "Epoch 7/10\n",
      "1210/1210 [==============================] - 0s 208us/sample - loss: 0.3616 - accuracy: 0.8926 - AUC: 0.9547 - val_loss: 0.5983 - val_accuracy: 0.6865 - val_AUC: 0.7374\n",
      "Epoch 8/10\n",
      "1210/1210 [==============================] - 0s 209us/sample - loss: 0.3201 - accuracy: 0.9050 - AUC: 0.9698 - val_loss: 0.6184 - val_accuracy: 0.6733 - val_AUC: 0.7286\n",
      "Epoch 9/10\n",
      "1210/1210 [==============================] - 0s 205us/sample - loss: 0.2828 - accuracy: 0.9314 - AUC: 0.9805 - val_loss: 0.6339 - val_accuracy: 0.6766 - val_AUC: 0.7249\n",
      "Epoch 10/10\n",
      "1210/1210 [==============================] - 0s 197us/sample - loss: 0.2502 - accuracy: 0.9463 - AUC: 0.9882 - val_loss: 0.6524 - val_accuracy: 0.6766 - val_AUC: 0.7178\n"
     ]
    }
   ],
   "source": [
    "# train genre model\n",
    "training = model2.fit(\n",
    "    movies.movieId.values, movies.Drama.values,\n",
    "    batch_size=bs2, \n",
    "    epochs=10,\n",
    "    validation_split=.2)"
   ]
  },
  {
   "cell_type": "code",
   "execution_count": 45,
   "metadata": {},
   "outputs": [
    {
     "data": {
      "image/png": "[encoded data removed]",
      "text/plain": [
       "<Figure size 1152x648 with 1 Axes>"
      ]
     },
     "metadata": {},
     "output_type": "display_data"
    }
   ],
   "source": [
    "# plot training curve of best model\n",
    "plt.plot(np.arange(1,11,1), training.history['loss'], label='train')\n",
    "plt.plot(np.arange(1,11,1), training.history['val_loss'], label='validation')\n",
    "plt.xticks(np.arange(1,11,1))\n",
    "plt.title('Genre model, Train vs validation loss', fontsize=14)\n",
    "plt.ylabel('Log Loss')\n",
    "plt.xlabel('Number of Epochs')\n",
    "plt.legend()\n",
    "plt.savefig('figures/5_ml1m-genre-epochs.pdf')\n",
    "plt.show()"
   ]
  },
  {
   "cell_type": "code",
   "execution_count": 46,
   "metadata": {},
   "outputs": [
    {
     "name": "stdout",
     "output_type": "stream",
     "text": [
      "Train on 80000 samples, validate on 20000 samples\n",
      "Epoch 1/4\n",
      "80000/80000 [==============================] - 9s 116us/sample - loss: 0.9479 - val_loss: 0.9290\n",
      "Epoch 2/4\n",
      "80000/80000 [==============================] - 9s 108us/sample - loss: 0.7535 - val_loss: 0.8814\n",
      "Epoch 3/4\n",
      "80000/80000 [==============================] - 8s 105us/sample - loss: 0.4572 - val_loss: 0.8368\n",
      "Epoch 4/4\n",
      "80000/80000 [==============================] - 8s 106us/sample - loss: 0.2048 - val_loss: 0.8340\n",
      "Train on 1210 samples, validate on 303 samples\n",
      "Epoch 1/4\n",
      "1210/1210 [==============================] - 1s 923us/sample - loss: 0.6667 - accuracy: 0.5934 - AUC: 0.6431 - val_loss: 0.6248 - val_accuracy: 0.6535 - val_AUC: 0.7511\n",
      "Epoch 2/4\n",
      "1210/1210 [==============================] - 0s 224us/sample - loss: 0.5983 - accuracy: 0.6843 - AUC: 0.7843 - val_loss: 0.5948 - val_accuracy: 0.6766 - val_AUC: 0.7555\n",
      "Epoch 3/4\n",
      "1210/1210 [==============================] - 0s 216us/sample - loss: 0.5466 - accuracy: 0.7488 - AUC: 0.8389 - val_loss: 0.5815 - val_accuracy: 0.6997 - val_AUC: 0.7567\n",
      "Epoch 4/4\n",
      "1210/1210 [==============================] - 0s 212us/sample - loss: 0.4971 - accuracy: 0.7901 - AUC: 0.8789 - val_loss: 0.5784 - val_accuracy: 0.6700 - val_AUC: 0.7513\n"
     ]
    },
    {
     "data": {
      "image/png": "[encoded data removed]",
      "text/plain": [
       "<Figure size 1152x648 with 1 Axes>"
      ]
     },
     "metadata": {},
     "output_type": "display_data"
    }
   ],
   "source": [
    "del model1, model2\n",
    "\n",
    "# compile both models\n",
    "model1, model2 = compile_genre_model(\n",
    "    n_items=df.movieId.nunique(),\n",
    "    n_users=df.userId.nunique(),\n",
    "    min_rating=df.rating.min(),\n",
    "    max_rating=df.rating.max(),\n",
    "    mean_rating=df.rating.mean(),\n",
    "    n_latent=best_hparams.n_factors,\n",
    "    n_hidden_2=best_hparams.n_hidden_2\n",
    ")\n",
    "\n",
    "model1.fit(\n",
    "    x=[train.userId.values, train.movieId.values, train.bias.values],\n",
    "    y=train.rating.values, \n",
    "    batch_size=bs1,\n",
    "    epochs=4,\n",
    "    verbose=1,\n",
    "    validation_split=.2\n",
    ")\n",
    "\n",
    "# train genre model\n",
    "training = model2.fit(\n",
    "    movies.movieId.values, movies.Drama.values,\n",
    "    batch_size=bs2, \n",
    "    epochs=4,\n",
    "    validation_split=.2)\n",
    "\n",
    "# plot training curve of best model\n",
    "plt.plot(np.arange(1,5,1), training.history['loss'], label='train')\n",
    "plt.plot(np.arange(1,5,1), training.history['val_loss'], label='validation')\n",
    "plt.xticks(np.arange(1,5,1))\n",
    "plt.title('Genre model, Train vs validation loss', fontsize=14)\n",
    "plt.ylabel('Log Loss')\n",
    "plt.xlabel('Number of Epochs')\n",
    "plt.legend()\n",
    "plt.show()"
   ]
  },
  {
   "cell_type": "code",
   "execution_count": 54,
   "metadata": {},
   "outputs": [],
   "source": [
    "best_hparams = pd.concat((best_hparams, pd.Series({'epoch_1': 4, 'epoch_2': 4})))"
   ]
  },
  {
   "cell_type": "code",
   "execution_count": 55,
   "metadata": {},
   "outputs": [
    {
     "data": {
      "text/plain": [
       "n_factors      1000\n",
       "n_hidden_2    [200]\n",
       "epoch_1           4\n",
       "epoch_2           4\n",
       "dtype: object"
      ]
     },
     "execution_count": 55,
     "metadata": {},
     "output_type": "execute_result"
    }
   ],
   "source": [
    "best_hparams"
   ]
  },
  {
   "cell_type": "markdown",
   "metadata": {},
   "source": [
    "## 3. Dropout rates"
   ]
  },
  {
   "cell_type": "code",
   "execution_count": 57,
   "metadata": {},
   "outputs": [],
   "source": [
    "# hyper parameters\n",
    "HP_DROPOUT_2 = [.1, .15, .2]"
   ]
  },
  {
   "cell_type": "code",
   "execution_count": 60,
   "metadata": {},
   "outputs": [
    {
     "name": "stdout",
     "output_type": "stream",
     "text": [
      "Fitting total of 8 models\n",
      "\n",
      "Fitting CGT model #1 with dr2: 0.1\n",
      "_____________________________________CV avg val loss=0.5943\n",
      "_____________________________________CV avg val acc=0.6662\n",
      "\n",
      "Fitting CGT model #2 with dr2: 0.15\n",
      "_____________________________________CV avg val loss=0.5946\n",
      "_____________________________________CV avg val acc=0.6662\n",
      "\n",
      "Fitting CGT model #3 with dr2: 0.2\n",
      "_____________________________________CV avg val loss=0.5949\n",
      "_____________________________________CV avg val acc=0.6669\n",
      "\n",
      "Fitting CGT model #4 with dr2: 0.25\n",
      "_____________________________________CV avg val loss=0.5952\n",
      "_____________________________________CV avg val acc=0.6656\n",
      "\n",
      "Fitting CGT model #5 with dr2: 0.3\n",
      "_____________________________________CV avg val loss=0.5957\n",
      "_____________________________________CV avg val acc=0.6649\n",
      "\n",
      "Fitting CGT model #6 with dr2: 0.35\n",
      "_____________________________________CV avg val loss=0.5962\n",
      "_____________________________________CV avg val acc=0.6649\n",
      "\n",
      "Fitting CGT model #7 with dr2: 0.4\n",
      "_____________________________________CV avg val loss=0.5970\n",
      "_____________________________________CV avg val acc=0.6682\n",
      "\n",
      "Fitting CGT model #8 with dr2: 0.45\n",
      "_____________________________________CV avg val loss=0.5980\n",
      "_____________________________________CV avg val acc=0.6623\n",
      "\n"
     ]
    }
   ],
   "source": [
    "# dataframe to store results of grid search\n",
    "grid_results_2 = []\n",
    "searches = 1\n",
    "\n",
    "n_models = len(HP_DROPOUT_2)\n",
    "\n",
    "print(f'Fitting total of {n_models} models\\n')\n",
    "\n",
    "for DROPOUT_2 in HP_DROPOUT_2:\n",
    "\n",
    "    print(f'Fitting CGT model #{searches} with dr2: {DROPOUT_2}')\n",
    "    searches += 1\n",
    "\n",
    "    # Create 5 CV folds\n",
    "    kf = KFold(n_splits=5, random_state=42)\n",
    "\n",
    "    # initialise loss and epoch count\n",
    "    total_loss = 0\n",
    "    total_acc = 0\n",
    "    count = 1\n",
    "\n",
    "    # do CV split and compute baseline predictors each time\n",
    "    for train_index, test_index in kf.split(movies):\n",
    "\n",
    "        # get baseline rating predictors for full dataset\n",
    "        train, _, _ = get_baseline(df, df.index, df.index, 'userId', 'movieId')\n",
    "\n",
    "        # compile both models with search hparams\n",
    "        model1, model2 = compile_genre_model(\n",
    "            n_items=df.movieId.nunique(),\n",
    "            n_users=df.userId.nunique(),\n",
    "            min_rating=df.rating.min(),\n",
    "            max_rating=df.rating.max(),\n",
    "            mean_rating=df.rating.mean(),\n",
    "            n_latent=best_hparams.n_factors,\n",
    "            n_hidden_2=best_hparams.n_hidden_2,\n",
    "            dropout_2=DROPOUT_2\n",
    "        )\n",
    "\n",
    "        # train rating model on all data\n",
    "        ratings = model1.fit(\n",
    "            x=[train.userId.values, train.movieId.values, train.bias.values],\n",
    "            y=train.rating.values, \n",
    "            batch_size=bs1,\n",
    "            epochs=best_hparams.epoch_1,\n",
    "            verbose=0,\n",
    "            validation_split=.2\n",
    "        )\n",
    "\n",
    "        # train genre model on 5 CV folds\n",
    "        train = movies.iloc[train_index]\n",
    "        test = movies.iloc[test_index]\n",
    "\n",
    "        # train model on current fold\n",
    "        result = model2.fit(\n",
    "            train.movieId.values, train.Drama.values,\n",
    "            batch_size=bs2, \n",
    "            epochs=best_hparams.epoch_2,\n",
    "            verbose=0,\n",
    "            validation_data=(test.movieId.values, test.Drama.values))\n",
    "\n",
    "        # get loss from this fold\n",
    "        fold_loss = result.history['val_loss'][-1]\n",
    "        total_loss += fold_loss\n",
    "        fold_acc = result.history['val_accuracy'][-1]\n",
    "        total_acc += fold_acc\n",
    "        count += 1\n",
    "\n",
    "        del model1, model2\n",
    "\n",
    "    # calculate average holdout loss across all CV folds\n",
    "    avg_loss = total_loss / 5\n",
    "    avg_acc = total_acc / 5\n",
    "    print(f'_____________________________________CV avg val loss={avg_loss:.4f}')\n",
    "    print(f'_____________________________________CV avg val acc={avg_acc:.4f}')\n",
    "\n",
    "    grid_results_2.append({'dropout_2':DROPOUT_2,\n",
    "                           'val_loss':avg_loss,\n",
    "                           'val_acc':avg_acc,\n",
    "                           'train_loss_hist':result.history['loss'],\n",
    "                           'val_loss_hist':result.history['val_loss'],\n",
    "                           'train_acc_hist':result.history['accuracy'],\n",
    "                           'val_acc_hist':result.history['val_accuracy']})\n",
    "\n",
    "    print()\n",
    "#             break\n",
    "#         break\n",
    "    \n",
    "col_order = grid_results_2[0].keys()\n",
    "\n",
    "# save results to data frame\n",
    "grid_results_2 = pd.DataFrame(grid_results_2)\n",
    "# reorder columns\n",
    "grid_results_2 = grid_results_2[col_order]"
   ]
  },
  {
   "cell_type": "code",
   "execution_count": 61,
   "metadata": {},
   "outputs": [
    {
     "data": {
      "text/html": [
       "<div>\n",
       "<style scoped>\n",
       "    .dataframe tbody tr th:only-of-type {\n",
       "        vertical-align: middle;\n",
       "    }\n",
       "\n",
       "    .dataframe tbody tr th {\n",
       "        vertical-align: top;\n",
       "    }\n",
       "\n",
       "    .dataframe thead th {\n",
       "        text-align: right;\n",
       "    }\n",
       "</style>\n",
       "<table border=\"1\" class=\"dataframe\">\n",
       "  <thead>\n",
       "    <tr style=\"text-align: right;\">\n",
       "      <th></th>\n",
       "      <th>dropout_2</th>\n",
       "      <th>val_loss</th>\n",
       "      <th>val_acc</th>\n",
       "      <th>train_loss_hist</th>\n",
       "      <th>val_loss_hist</th>\n",
       "      <th>train_acc_hist</th>\n",
       "      <th>val_acc_hist</th>\n",
       "    </tr>\n",
       "  </thead>\n",
       "  <tbody>\n",
       "    <tr>\n",
       "      <td>0</td>\n",
       "      <td>0.10</td>\n",
       "      <td>0.594342</td>\n",
       "      <td>0.666240</td>\n",
       "      <td>[0.666189515718638, 0.5937151731684817, 0.5414...</td>\n",
       "      <td>[0.6280236852090091, 0.5930080982233514, 0.581...</td>\n",
       "      <td>[0.5928984, 0.6952931, 0.7539224, 0.80264246]</td>\n",
       "      <td>[0.66887414, 0.6721854, 0.69205296, 0.6655629]</td>\n",
       "    </tr>\n",
       "    <tr>\n",
       "      <td>1</td>\n",
       "      <td>0.15</td>\n",
       "      <td>0.594608</td>\n",
       "      <td>0.666240</td>\n",
       "      <td>[0.6668611811174036, 0.5958879660910363, 0.544...</td>\n",
       "      <td>[0.629428752210756, 0.5943749254902467, 0.5823...</td>\n",
       "      <td>[0.5862923, 0.6919901, 0.748142, 0.8034682]</td>\n",
       "      <td>[0.6754967, 0.66887414, 0.68874174, 0.66225165]</td>\n",
       "    </tr>\n",
       "    <tr>\n",
       "      <td>2</td>\n",
       "      <td>0.20</td>\n",
       "      <td>0.594909</td>\n",
       "      <td>0.666903</td>\n",
       "      <td>[0.6676058863235051, 0.5973470129817109, 0.548...</td>\n",
       "      <td>[0.6306697623619181, 0.5956576632348117, 0.582...</td>\n",
       "      <td>[0.5821635, 0.688687, 0.7431874, 0.7919075]</td>\n",
       "      <td>[0.6655629, 0.66887414, 0.70198673, 0.6655629]</td>\n",
       "    </tr>\n",
       "    <tr>\n",
       "      <td>3</td>\n",
       "      <td>0.25</td>\n",
       "      <td>0.595217</td>\n",
       "      <td>0.665583</td>\n",
       "      <td>[0.6676084856963375, 0.599047018268894, 0.5515...</td>\n",
       "      <td>[0.6318722205446256, 0.5971456710865956, 0.583...</td>\n",
       "      <td>[0.58133775, 0.685384, 0.74236166, 0.7869529]</td>\n",
       "      <td>[0.66225165, 0.66887414, 0.6986755, 0.6655629]</td>\n",
       "    </tr>\n",
       "    <tr>\n",
       "      <td>4</td>\n",
       "      <td>0.30</td>\n",
       "      <td>0.595702</td>\n",
       "      <td>0.664925</td>\n",
       "      <td>[0.6682208792224195, 0.6011137591227336, 0.554...</td>\n",
       "      <td>[0.6332735545587855, 0.5987209164543658, 0.584...</td>\n",
       "      <td>[0.58381504, 0.685384, 0.73410404, 0.78612715]</td>\n",
       "      <td>[0.6523179, 0.66887414, 0.6986755, 0.66887414]</td>\n",
       "    </tr>\n",
       "  </tbody>\n",
       "</table>\n",
       "</div>"
      ],
      "text/plain": [
       "   dropout_2  val_loss   val_acc  \\\n",
       "0       0.10  0.594342  0.666240   \n",
       "1       0.15  0.594608  0.666240   \n",
       "2       0.20  0.594909  0.666903   \n",
       "3       0.25  0.595217  0.665583   \n",
       "4       0.30  0.595702  0.664925   \n",
       "\n",
       "                                     train_loss_hist  \\\n",
       "0  [0.666189515718638, 0.5937151731684817, 0.5414...   \n",
       "1  [0.6668611811174036, 0.5958879660910363, 0.544...   \n",
       "2  [0.6676058863235051, 0.5973470129817109, 0.548...   \n",
       "3  [0.6676084856963375, 0.599047018268894, 0.5515...   \n",
       "4  [0.6682208792224195, 0.6011137591227336, 0.554...   \n",
       "\n",
       "                                       val_loss_hist  \\\n",
       "0  [0.6280236852090091, 0.5930080982233514, 0.581...   \n",
       "1  [0.629428752210756, 0.5943749254902467, 0.5823...   \n",
       "2  [0.6306697623619181, 0.5956576632348117, 0.582...   \n",
       "3  [0.6318722205446256, 0.5971456710865956, 0.583...   \n",
       "4  [0.6332735545587855, 0.5987209164543658, 0.584...   \n",
       "\n",
       "                                   train_acc_hist  \\\n",
       "0   [0.5928984, 0.6952931, 0.7539224, 0.80264246]   \n",
       "1     [0.5862923, 0.6919901, 0.748142, 0.8034682]   \n",
       "2     [0.5821635, 0.688687, 0.7431874, 0.7919075]   \n",
       "3   [0.58133775, 0.685384, 0.74236166, 0.7869529]   \n",
       "4  [0.58381504, 0.685384, 0.73410404, 0.78612715]   \n",
       "\n",
       "                                      val_acc_hist  \n",
       "0   [0.66887414, 0.6721854, 0.69205296, 0.6655629]  \n",
       "1  [0.6754967, 0.66887414, 0.68874174, 0.66225165]  \n",
       "2   [0.6655629, 0.66887414, 0.70198673, 0.6655629]  \n",
       "3   [0.66225165, 0.66887414, 0.6986755, 0.6655629]  \n",
       "4   [0.6523179, 0.66887414, 0.6986755, 0.66887414]  "
      ]
     },
     "execution_count": 61,
     "metadata": {},
     "output_type": "execute_result"
    }
   ],
   "source": [
    "# get best 5 models\n",
    "grid_results_2 = grid_results_2.sort_values('val_loss')\n",
    "grid_results_2.to_csv(path+'grid_results_2.csv', index=False)\n",
    "\n",
    "grid_results_2.head(5)"
   ]
  },
  {
   "cell_type": "code",
   "execution_count": 62,
   "metadata": {},
   "outputs": [
    {
     "data": {
      "image/png": "[encoded data removed]",
      "text/plain": [
       "<Figure size 1152x648 with 1 Axes>"
      ]
     },
     "metadata": {},
     "output_type": "display_data"
    }
   ],
   "source": [
    "# plot training curve of best model\n",
    "plt.plot(grid_results_2.train_loss_hist.values[0], label='train')\n",
    "plt.plot(grid_results_2.val_loss_hist.values[0], label='test')\n",
    "plt.title('Train vs validation loss')\n",
    "plt.legend()\n",
    "plt.show()"
   ]
  },
  {
   "cell_type": "code",
   "execution_count": 63,
   "metadata": {},
   "outputs": [
    {
     "data": {
      "image/png": "[encoded data removed]",
      "text/plain": [
       "<Figure size 1152x648 with 1 Axes>"
      ]
     },
     "metadata": {},
     "output_type": "display_data"
    }
   ],
   "source": [
    "# train vs test accuracy\n",
    "plt.plot(grid_results_2.train_acc_hist.values[0], label='train')\n",
    "plt.plot(grid_results_2.val_acc_hist.values[0], label='validation')\n",
    "plt.title('Rating model, Train vs validation accuracy', fontsize=14)\n",
    "plt.ylabel('Classification accuracy')\n",
    "plt.legend()\n",
    "plt.show()"
   ]
  },
  {
   "cell_type": "code",
   "execution_count": 67,
   "metadata": {},
   "outputs": [
    {
     "data": {
      "text/plain": [
       "n_factors      1000\n",
       "n_hidden_2    [200]\n",
       "epoch_1           4\n",
       "epoch_2           4\n",
       "dropout_2       0.1\n",
       "dtype: object"
      ]
     },
     "execution_count": 67,
     "metadata": {},
     "output_type": "execute_result"
    }
   ],
   "source": [
    "best_hparams = pd.concat((best_hparams, grid_results_2.iloc[0,:][['dropout_2']]))\n",
    "best_hparams"
   ]
  },
  {
   "cell_type": "markdown",
   "metadata": {},
   "source": [
    "# Classification report"
   ]
  },
  {
   "cell_type": "code",
   "execution_count": 59,
   "metadata": {},
   "outputs": [],
   "source": [
    "from sklearn.metrics import classification_report, confusion_matrix, precision_score, recall_score, f1_score"
   ]
  },
  {
   "cell_type": "markdown",
   "metadata": {},
   "source": [
    "### Re-train model on full dataset, with best hparams"
   ]
  },
  {
   "cell_type": "code",
   "execution_count": 56,
   "metadata": {},
   "outputs": [
    {
     "name": "stdout",
     "output_type": "stream",
     "text": [
      "Train on 80000 samples, validate on 20000 samples\n",
      "Epoch 1/6\n",
      "80000/80000 [==============================] - 15s 184us/sample - loss: 0.9444 - val_loss: 0.9155\n",
      "Epoch 2/6\n",
      "80000/80000 [==============================] - 14s 175us/sample - loss: 0.6324 - val_loss: 0.8390\n",
      "Epoch 3/6\n",
      "80000/80000 [==============================] - 14s 171us/sample - loss: 0.2559 - val_loss: 0.8336\n",
      "Epoch 4/6\n",
      "80000/80000 [==============================] - 13s 168us/sample - loss: 0.0671 - val_loss: 0.8465\n",
      "Epoch 5/6\n",
      "80000/80000 [==============================] - 14s 178us/sample - loss: 0.0178 - val_loss: 0.8518\n",
      "Epoch 6/6\n",
      "80000/80000 [==============================] - 14s 178us/sample - loss: 0.0081 - val_loss: 0.8530\n",
      "Train on 1210 samples, validate on 303 samples\n",
      "Epoch 1/4\n",
      "1210/1210 [==============================] - 1s 936us/sample - loss: 0.6651 - accuracy: 0.5843 - AUC: 0.6398 - val_loss: 0.6246 - val_accuracy: 0.6634 - val_AUC: 0.7384\n",
      "Epoch 2/4\n",
      "1210/1210 [==============================] - 0s 211us/sample - loss: 0.5898 - accuracy: 0.6934 - AUC: 0.7971 - val_loss: 0.5982 - val_accuracy: 0.6667 - val_AUC: 0.7395\n",
      "Epoch 3/4\n",
      "1210/1210 [==============================] - 0s 194us/sample - loss: 0.5349 - accuracy: 0.7562 - AUC: 0.8500 - val_loss: 0.5875 - val_accuracy: 0.6799 - val_AUC: 0.7383\n",
      "Epoch 4/4\n",
      "1210/1210 [==============================] - 0s 188us/sample - loss: 0.4837 - accuracy: 0.8107 - AUC: 0.8876 - val_loss: 0.5890 - val_accuracy: 0.6601 - val_AUC: 0.7300\n"
     ]
    }
   ],
   "source": [
    "# get baseline predictors for full dataset\n",
    "train, _, _ = get_baseline(df, df.index, df.index, 'userId', 'movieId')\n",
    "\n",
    "# compile both models\n",
    "model1, model2 = compile_genre_model(\n",
    "    n_items=df.movieId.nunique(),\n",
    "    n_users=df.userId.nunique(),\n",
    "    min_rating=df.rating.min(),\n",
    "    max_rating=df.rating.max(),\n",
    "    mean_rating=df.rating.mean(),\n",
    "    n_latent=best_hparams.n_factors,\n",
    "    n_hidden_2=best_hparams.n_hidden_2,\n",
    "    dropout_2=best_hparams.dropout_2\n",
    ")\n",
    "\n",
    "# train rating model\n",
    "ratings = model1.fit(\n",
    "    x=[train.userId.values, train.movieId.values, train.bias.values],\n",
    "    y=train.rating.values, \n",
    "    batch_size=bs1,\n",
    "    epochs=best_hparams.epoch_1,\n",
    "    verbose=1,\n",
    "    validation_split=.2\n",
    ")\n",
    "\n",
    "# train genre model\n",
    "genres = model2.fit(\n",
    "    movies.movieId.values, movies.Drama.values,\n",
    "    batch_size=bs2,\n",
    "    epochs=best_hparams.epoch_2,\n",
    "    validation_split=.2)"
   ]
  },
  {
   "cell_type": "markdown",
   "metadata": {},
   "source": [
    "### Evaluate on test set"
   ]
  },
  {
   "cell_type": "code",
   "execution_count": 57,
   "metadata": {},
   "outputs": [],
   "source": [
    "X_test = movies_holdout.movieId.values\n",
    "y_test = movies_holdout.Drama.values\n",
    "y_score = pd.DataFrame(model2.predict(X_test))\n",
    "y_pred = y_score.round().astype('int')"
   ]
  },
  {
   "cell_type": "code",
   "execution_count": 60,
   "metadata": {},
   "outputs": [
    {
     "name": "stdout",
     "output_type": "stream",
     "text": [
      "              precision    recall  f1-score   support\n",
      "\n",
      "           0       0.69      0.65      0.67        96\n",
      "           1       0.57      0.62      0.59        73\n",
      "\n",
      "    accuracy                           0.63       169\n",
      "   macro avg       0.63      0.63      0.63       169\n",
      "weighted avg       0.64      0.63      0.63       169\n",
      "\n"
     ]
    }
   ],
   "source": [
    "print(classification_report(y_test, y_pred))"
   ]
  },
  {
   "cell_type": "code",
   "execution_count": 61,
   "metadata": {},
   "outputs": [
    {
     "data": {
      "text/html": [
       "<div>\n",
       "<style scoped>\n",
       "    .dataframe tbody tr th:only-of-type {\n",
       "        vertical-align: middle;\n",
       "    }\n",
       "\n",
       "    .dataframe tbody tr th {\n",
       "        vertical-align: top;\n",
       "    }\n",
       "\n",
       "    .dataframe thead th {\n",
       "        text-align: right;\n",
       "    }\n",
       "</style>\n",
       "<table border=\"1\" class=\"dataframe\">\n",
       "  <thead>\n",
       "    <tr style=\"text-align: right;\">\n",
       "      <th></th>\n",
       "      <th>0</th>\n",
       "      <th>1</th>\n",
       "    </tr>\n",
       "  </thead>\n",
       "  <tbody>\n",
       "    <tr>\n",
       "      <td>0</td>\n",
       "      <td>62</td>\n",
       "      <td>34</td>\n",
       "    </tr>\n",
       "    <tr>\n",
       "      <td>1</td>\n",
       "      <td>28</td>\n",
       "      <td>45</td>\n",
       "    </tr>\n",
       "  </tbody>\n",
       "</table>\n",
       "</div>"
      ],
      "text/plain": [
       "    0   1\n",
       "0  62  34\n",
       "1  28  45"
      ]
     },
     "execution_count": 61,
     "metadata": {},
     "output_type": "execute_result"
    }
   ],
   "source": [
    "pd.DataFrame(confusion_matrix(y_test, y_pred))"
   ]
  },
  {
   "cell_type": "code",
   "execution_count": 62,
   "metadata": {},
   "outputs": [],
   "source": [
    "# add predictions as column\n",
    "movies_holdout['prediction'] = y_pred.values\n",
    "# save to csv\n",
    "movies_holdout[['movieId', 'title', 'Drama', 'prediction']].to_csv(path+'holdout_predictions.csv', index=False)"
   ]
  },
  {
   "cell_type": "code",
   "execution_count": 63,
   "metadata": {},
   "outputs": [],
   "source": [
    "X_train = movies.movieId.values\n",
    "y_train = movies.Drama.values\n",
    "train_score = pd.DataFrame(model2.predict(X_train))\n",
    "train_pred = train_score.round().astype('int')"
   ]
  },
  {
   "cell_type": "code",
   "execution_count": 64,
   "metadata": {},
   "outputs": [
    {
     "name": "stdout",
     "output_type": "stream",
     "text": [
      "              precision    recall  f1-score   support\n",
      "\n",
      "           0       0.81      0.86      0.83       861\n",
      "           1       0.80      0.74      0.77       652\n",
      "\n",
      "    accuracy                           0.81      1513\n",
      "   macro avg       0.80      0.80      0.80      1513\n",
      "weighted avg       0.81      0.81      0.81      1513\n",
      "\n"
     ]
    }
   ],
   "source": [
    "print(classification_report(y_train, train_pred))"
   ]
  },
  {
   "cell_type": "code",
   "execution_count": 65,
   "metadata": {},
   "outputs": [
    {
     "data": {
      "text/html": [
       "<div>\n",
       "<style scoped>\n",
       "    .dataframe tbody tr th:only-of-type {\n",
       "        vertical-align: middle;\n",
       "    }\n",
       "\n",
       "    .dataframe tbody tr th {\n",
       "        vertical-align: top;\n",
       "    }\n",
       "\n",
       "    .dataframe thead th {\n",
       "        text-align: right;\n",
       "    }\n",
       "</style>\n",
       "<table border=\"1\" class=\"dataframe\">\n",
       "  <thead>\n",
       "    <tr style=\"text-align: right;\">\n",
       "      <th></th>\n",
       "      <th>0</th>\n",
       "      <th>1</th>\n",
       "    </tr>\n",
       "  </thead>\n",
       "  <tbody>\n",
       "    <tr>\n",
       "      <td>0</td>\n",
       "      <td>737</td>\n",
       "      <td>124</td>\n",
       "    </tr>\n",
       "    <tr>\n",
       "      <td>1</td>\n",
       "      <td>169</td>\n",
       "      <td>483</td>\n",
       "    </tr>\n",
       "  </tbody>\n",
       "</table>\n",
       "</div>"
      ],
      "text/plain": [
       "     0    1\n",
       "0  737  124\n",
       "1  169  483"
      ]
     },
     "execution_count": 65,
     "metadata": {},
     "output_type": "execute_result"
    }
   ],
   "source": [
    "pd.DataFrame(confusion_matrix(y_train, train_pred))"
   ]
  },
  {
   "cell_type": "code",
   "execution_count": 66,
   "metadata": {},
   "outputs": [],
   "source": [
    "# add predictions as column\n",
    "movies['prediction'] = train_pred.values\n",
    "# save to csv\n",
    "movies[['movieId', 'title', 'Drama', 'prediction']].to_csv(path+'train_predictions.csv', index=False)"
   ]
  },
  {
   "cell_type": "markdown",
   "metadata": {},
   "source": [
    "---\n",
    "# Appendix A: multi-label genre model"
   ]
  },
  {
   "cell_type": "code",
   "execution_count": 48,
   "metadata": {},
   "outputs": [],
   "source": [
    "from CGT import compile_multigenre_model"
   ]
  },
  {
   "cell_type": "code",
   "execution_count": 49,
   "metadata": {},
   "outputs": [
    {
     "name": "stdout",
     "output_type": "stream",
     "text": [
      "Train on 80000 samples, validate on 20000 samples\n",
      "Epoch 1/7\n",
      "80000/80000 [==============================] - 3s 32us/sample - loss: 0.8971 - val_loss: 0.8622\n",
      "Epoch 2/7\n",
      "80000/80000 [==============================] - 2s 27us/sample - loss: 0.8412 - val_loss: 0.8507\n",
      "Epoch 3/7\n",
      "80000/80000 [==============================] - 2s 28us/sample - loss: 0.8152 - val_loss: 0.8409\n",
      "Epoch 4/7\n",
      "80000/80000 [==============================] - 2s 28us/sample - loss: 0.7878 - val_loss: 0.8364\n",
      "Epoch 5/7\n",
      "80000/80000 [==============================] - 2s 26us/sample - loss: 0.7523 - val_loss: 0.8271\n",
      "Epoch 6/7\n",
      "80000/80000 [==============================] - 2s 29us/sample - loss: 0.7115 - val_loss: 0.8336\n",
      "Epoch 7/7\n",
      "80000/80000 [==============================] - 2s 27us/sample - loss: 0.6706 - val_loss: 0.8425\n"
     ]
    }
   ],
   "source": [
    "# get baseline predictors for full dataset\n",
    "train, _, _ = get_baseline(df, df.index, df.index)\n",
    "\n",
    "# compile both models\n",
    "model1, model2 = compile_multigenre_model(\n",
    "    n_items=df.movieId.nunique(),\n",
    "    n_users=df.userId.nunique(),\n",
    "    min_rating=df.rating.min(),\n",
    "    max_rating=df.rating.max(),\n",
    "    mean_rating=df.rating.mean(),\n",
    "    n_genres=18,\n",
    "    n_latent=best_rating_hparams.n_factors, \n",
    "    n_hidden_1=best_rating_hparams.n_hidden_1,\n",
    "    n_hidden_2=best_rating_hparams.n_hidden_2,\n",
    "    dropout_1=best_rating_hparams.dropout_1,\n",
    "    dropout_2=best_rating_hparams.dropout_1\n",
    ")\n",
    "\n",
    "# train rating model\n",
    "ratings = model1.fit(\n",
    "    x=[train.userId.values, train.movieId.values, train.bias.values],\n",
    "    y=train.rating.values, \n",
    "    batch_size=512,\n",
    "    epochs=best_rating_hparams.epoch_1,\n",
    "    verbose=1,\n",
    "    validation_split=.2\n",
    ")"
   ]
  },
  {
   "cell_type": "code",
   "execution_count": 50,
   "metadata": {},
   "outputs": [
    {
     "name": "stdout",
     "output_type": "stream",
     "text": [
      "Train on 1210 samples, validate on 303 samples\n",
      "Epoch 1/5\n",
      "1210/1210 [==============================] - 1s 602us/sample - loss: 0.6539 - accuracy: 0.7862 - AUC: 0.6397 - val_loss: 0.5983 - val_accuracy: 0.9037 - val_AUC: 0.7063\n",
      "Epoch 2/5\n",
      "1210/1210 [==============================] - 0s 139us/sample - loss: 0.5225 - accuracy: 0.9065 - AUC: 0.6829 - val_loss: 0.4328 - val_accuracy: 0.9059 - val_AUC: 0.7034\n",
      "Epoch 3/5\n",
      "1210/1210 [==============================] - 0s 138us/sample - loss: 0.3681 - accuracy: 0.9081 - AUC: 0.7053 - val_loss: 0.3180 - val_accuracy: 0.9061 - val_AUC: 0.7159\n",
      "Epoch 4/5\n",
      "1210/1210 [==============================] - 0s 142us/sample - loss: 0.2934 - accuracy: 0.9078 - AUC: 0.7429 - val_loss: 0.2824 - val_accuracy: 0.9065 - val_AUC: 0.7390\n",
      "Epoch 5/5\n",
      "1210/1210 [==============================] - 0s 142us/sample - loss: 0.2699 - accuracy: 0.9080 - AUC: 0.7702 - val_loss: 0.2716 - val_accuracy: 0.9069 - val_AUC: 0.7604\n"
     ]
    }
   ],
   "source": [
    "# train genre model\n",
    "genres = model2.fit(\n",
    "    movies.movieId.values, movies.iloc[:,-19:-1].values,  # multi label\n",
    "    batch_size=32, \n",
    "    epochs=best_rating_hparams.epoch_2,\n",
    "    validation_split=.2)"
   ]
  },
  {
   "cell_type": "code",
   "execution_count": 51,
   "metadata": {},
   "outputs": [],
   "source": [
    "from sklearn.metrics import classification_report, confusion_matrix, precision_score, recall_score, f1_score"
   ]
  },
  {
   "cell_type": "code",
   "execution_count": 52,
   "metadata": {},
   "outputs": [],
   "source": [
    "y_true = movies.iloc[:,-19:-1]\n",
    "y_score = pd.DataFrame(model2.predict(movies.movieId.values), columns=y_true.columns)\n",
    "y_pred = y_score.round().astype('int')"
   ]
  },
  {
   "cell_type": "code",
   "execution_count": 53,
   "metadata": {},
   "outputs": [
    {
     "name": "stdout",
     "output_type": "stream",
     "text": [
      "              precision    recall  f1-score   support\n",
      "\n",
      "      Action       0.00      0.00      0.00       232\n",
      "   Adventure       0.00      0.00      0.00       127\n",
      "   Animation       0.00      0.00      0.00        37\n",
      "  Children's       0.00      0.00      0.00       111\n",
      "      Comedy       0.00      0.00      0.00       452\n",
      "       Crime       0.00      0.00      0.00        96\n",
      " Documentary       0.00      0.00      0.00        44\n",
      "       Drama       0.58      0.52      0.54       652\n",
      "     Fantasy       0.00      0.00      0.00        20\n",
      "   Film-Noir       0.00      0.00      0.00        22\n",
      "      Horror       0.00      0.00      0.00        85\n",
      "     Musical       0.00      0.00      0.00        47\n",
      "     Mystery       0.00      0.00      0.00        56\n",
      "     Romance       0.00      0.00      0.00       221\n",
      "      Sci-Fi       0.00      0.00      0.00        91\n",
      "    Thriller       0.00      0.00      0.00       225\n",
      "         War       0.00      0.00      0.00        60\n",
      "     Western       0.00      0.00      0.00        26\n",
      "\n",
      "   micro avg       0.58      0.13      0.21      2604\n",
      "   macro avg       0.03      0.03      0.03      2604\n",
      "weighted avg       0.14      0.13      0.14      2604\n",
      " samples avg       0.22      0.17      0.19      2604\n",
      "\n"
     ]
    },
    {
     "name": "stderr",
     "output_type": "stream",
     "text": [
      "C:\\Users\\JLeslie\\AppData\\Local\\Continuum\\anaconda3\\lib\\site-packages\\sklearn\\metrics\\classification.py:1437: UndefinedMetricWarning: Precision and F-score are ill-defined and being set to 0.0 in labels with no predicted samples.\n",
      "  'precision', 'predicted', average, warn_for)\n",
      "C:\\Users\\JLeslie\\AppData\\Local\\Continuum\\anaconda3\\lib\\site-packages\\sklearn\\metrics\\classification.py:1437: UndefinedMetricWarning: Precision and F-score are ill-defined and being set to 0.0 in labels with no predicted samples.\n",
      "  'precision', 'predicted', average, warn_for)\n",
      "C:\\Users\\JLeslie\\AppData\\Local\\Continuum\\anaconda3\\lib\\site-packages\\sklearn\\metrics\\classification.py:1437: UndefinedMetricWarning: Precision and F-score are ill-defined and being set to 0.0 in labels with no predicted samples.\n",
      "  'precision', 'predicted', average, warn_for)\n",
      "C:\\Users\\JLeslie\\AppData\\Local\\Continuum\\anaconda3\\lib\\site-packages\\sklearn\\metrics\\classification.py:1437: UndefinedMetricWarning: Precision and F-score are ill-defined and being set to 0.0 in samples with no predicted labels.\n",
      "  'precision', 'predicted', average, warn_for)\n",
      "C:\\Users\\JLeslie\\AppData\\Local\\Continuum\\anaconda3\\lib\\site-packages\\sklearn\\metrics\\classification.py:1439: UndefinedMetricWarning: Recall and F-score are ill-defined and being set to 0.0 in samples with no true labels.\n",
      "  'recall', 'true', average, warn_for)\n"
     ]
    }
   ],
   "source": [
    "print(classification_report(y_true, y_pred, target_names=y_true.columns))"
   ]
  }
 ],
 "metadata": {
  "kernelspec": {
   "display_name": "Python 3",
   "language": "python",
   "name": "python3"
  },
  "language_info": {
   "codemirror_mode": {
    "name": "ipython",
    "version": 3
   },
   "file_extension": ".py",
   "mimetype": "text/x-python",
   "name": "python",
   "nbconvert_exporter": "python",
   "pygments_lexer": "ipython3",
   "version": "3.7.3"
  }
 },
 "nbformat": 4,
 "nbformat_minor": 4
}
