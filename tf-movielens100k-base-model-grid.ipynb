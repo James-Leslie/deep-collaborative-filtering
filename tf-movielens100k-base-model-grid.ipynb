{
 "cells": [
  {
   "cell_type": "markdown",
   "metadata": {},
   "source": [
    "[![Colab](https://colab.research.google.com/assets/colab-badge.svg)](https://colab.research.google.com/github/James-Leslie/deep-collaborative-filtering/blob/master/movielens_skorch.ipynb)"
   ]
  },
  {
   "cell_type": "markdown",
   "metadata": {},
   "source": [
    "# To do:\n",
    "  - grid search hyperparameters of rating model\n",
    "  - grid search hyperparameters of genre model"
   ]
  },
  {
   "cell_type": "code",
   "execution_count": 1,
   "metadata": {},
   "outputs": [],
   "source": [
    "# !pip install tensorflow-gpu==2.0.0-beta1"
   ]
  },
  {
   "cell_type": "code",
   "execution_count": 1,
   "metadata": {},
   "outputs": [],
   "source": [
    "import numpy as np\n",
    "import pandas as pd\n",
    "import matplotlib.pyplot as plt\n",
    "import seaborn as sns\n",
    "import os, datetime\n",
    "import warnings\n",
    "\n",
    "from tensorflow.keras.layers import Input, Embedding, Flatten, Dot, Add, Dense, Concatenate, Dropout\n",
    "from tensorflow.keras.models import Model, load_model\n",
    "from tensorflow.keras.callbacks import ModelCheckpoint, TensorBoard\n",
    "from tensorflow.math import add\n",
    "\n",
    "from sklearn.model_selection import train_test_split\n",
    "\n",
    "%matplotlib inline"
   ]
  },
  {
   "cell_type": "code",
   "execution_count": 2,
   "metadata": {},
   "outputs": [],
   "source": [
    "# path = 'https://raw.githubusercontent.com/James-Leslie/deep-collaborative-filtering/master/data/ml-100k/'  # access from anywhere\n",
    "path = 'data/ml-100k/'  # if the files are local\n",
    "df = pd.read_csv(path+'ratings.csv')"
   ]
  },
  {
   "cell_type": "code",
   "execution_count": 3,
   "metadata": {},
   "outputs": [
    {
     "data": {
      "text/html": [
       "<div>\n",
       "<style scoped>\n",
       "    .dataframe tbody tr th:only-of-type {\n",
       "        vertical-align: middle;\n",
       "    }\n",
       "\n",
       "    .dataframe tbody tr th {\n",
       "        vertical-align: top;\n",
       "    }\n",
       "\n",
       "    .dataframe thead th {\n",
       "        text-align: right;\n",
       "    }\n",
       "</style>\n",
       "<table border=\"1\" class=\"dataframe\">\n",
       "  <thead>\n",
       "    <tr style=\"text-align: right;\">\n",
       "      <th></th>\n",
       "      <th>userId</th>\n",
       "      <th>movieId</th>\n",
       "      <th>rating</th>\n",
       "    </tr>\n",
       "  </thead>\n",
       "  <tbody>\n",
       "    <tr>\n",
       "      <th>0</th>\n",
       "      <td>0</td>\n",
       "      <td>0</td>\n",
       "      <td>3</td>\n",
       "    </tr>\n",
       "    <tr>\n",
       "      <th>1</th>\n",
       "      <td>1</td>\n",
       "      <td>1</td>\n",
       "      <td>3</td>\n",
       "    </tr>\n",
       "    <tr>\n",
       "      <th>2</th>\n",
       "      <td>2</td>\n",
       "      <td>2</td>\n",
       "      <td>1</td>\n",
       "    </tr>\n",
       "    <tr>\n",
       "      <th>3</th>\n",
       "      <td>3</td>\n",
       "      <td>3</td>\n",
       "      <td>2</td>\n",
       "    </tr>\n",
       "    <tr>\n",
       "      <th>4</th>\n",
       "      <td>4</td>\n",
       "      <td>4</td>\n",
       "      <td>1</td>\n",
       "    </tr>\n",
       "  </tbody>\n",
       "</table>\n",
       "</div>"
      ],
      "text/plain": [
       "   userId  movieId  rating\n",
       "0       0        0       3\n",
       "1       1        1       3\n",
       "2       2        2       1\n",
       "3       3        3       2\n",
       "4       4        4       1"
      ]
     },
     "execution_count": 3,
     "metadata": {},
     "output_type": "execute_result"
    }
   ],
   "source": [
    "df.head()"
   ]
  },
  {
   "cell_type": "code",
   "execution_count": 4,
   "metadata": {},
   "outputs": [
    {
     "data": {
      "text/plain": [
       "(100000, 3)"
      ]
     },
     "execution_count": 4,
     "metadata": {},
     "output_type": "execute_result"
    }
   ],
   "source": [
    "df.shape"
   ]
  },
  {
   "cell_type": "code",
   "execution_count": 5,
   "metadata": {},
   "outputs": [
    {
     "name": "stdout",
     "output_type": "stream",
     "text": [
      "Number of users: 943\n",
      "Number of items: 1682\n"
     ]
    }
   ],
   "source": [
    "n_users = df.userId.nunique()\n",
    "n_items = df.movieId.nunique()\n",
    "print('Number of users:', n_users)\n",
    "print('Number of items:', n_items)"
   ]
  },
  {
   "cell_type": "markdown",
   "metadata": {},
   "source": [
    "## Add baseline predictors"
   ]
  },
  {
   "cell_type": "code",
   "execution_count": 6,
   "metadata": {},
   "outputs": [],
   "source": [
    "train, test, _, _ = train_test_split(df, df.rating, test_size=.1, random_state=42)"
   ]
  },
  {
   "cell_type": "code",
   "execution_count": 7,
   "metadata": {},
   "outputs": [
    {
     "name": "stdout",
     "output_type": "stream",
     "text": [
      "Min item rating: 1\n",
      "Max item rating: 5\n",
      "Mean item rating: 3.5308444444444445\n"
     ]
    }
   ],
   "source": [
    "min_rating = df.rating.min()\n",
    "max_rating = df.rating.max()\n",
    "mean_rating = train.rating.mean()\n",
    "print(\"Min item rating:\", min_rating)\n",
    "print(\"Max item rating:\", max_rating)\n",
    "print(\"Mean item rating:\", mean_rating)"
   ]
  },
  {
   "cell_type": "code",
   "execution_count": 8,
   "metadata": {},
   "outputs": [
    {
     "data": {
      "text/html": [
       "<div>\n",
       "<style scoped>\n",
       "    .dataframe tbody tr th:only-of-type {\n",
       "        vertical-align: middle;\n",
       "    }\n",
       "\n",
       "    .dataframe tbody tr th {\n",
       "        vertical-align: top;\n",
       "    }\n",
       "\n",
       "    .dataframe thead th {\n",
       "        text-align: right;\n",
       "    }\n",
       "</style>\n",
       "<table border=\"1\" class=\"dataframe\">\n",
       "  <thead>\n",
       "    <tr style=\"text-align: right;\">\n",
       "      <th></th>\n",
       "      <th>userId</th>\n",
       "      <th>user_avg</th>\n",
       "    </tr>\n",
       "  </thead>\n",
       "  <tbody>\n",
       "    <tr>\n",
       "      <th>0</th>\n",
       "      <td>0</td>\n",
       "      <td>3.542857</td>\n",
       "    </tr>\n",
       "    <tr>\n",
       "      <th>1</th>\n",
       "      <td>1</td>\n",
       "      <td>3.433735</td>\n",
       "    </tr>\n",
       "    <tr>\n",
       "      <th>2</th>\n",
       "      <td>2</td>\n",
       "      <td>3.285714</td>\n",
       "    </tr>\n",
       "    <tr>\n",
       "      <th>3</th>\n",
       "      <td>3</td>\n",
       "      <td>3.671233</td>\n",
       "    </tr>\n",
       "    <tr>\n",
       "      <th>4</th>\n",
       "      <td>4</td>\n",
       "      <td>3.388889</td>\n",
       "    </tr>\n",
       "  </tbody>\n",
       "</table>\n",
       "</div>"
      ],
      "text/plain": [
       "   userId  user_avg\n",
       "0       0  3.542857\n",
       "1       1  3.433735\n",
       "2       2  3.285714\n",
       "3       3  3.671233\n",
       "4       4  3.388889"
      ]
     },
     "execution_count": 8,
     "metadata": {},
     "output_type": "execute_result"
    }
   ],
   "source": [
    "user_averages = train.groupby('userId') \\\n",
    "    .agg({'rating':'mean'}) \\\n",
    "    .rename({'rating': 'user_avg'}, axis=1) \\\n",
    "    .reset_index()\n",
    "\n",
    "user_averages.head()"
   ]
  },
  {
   "cell_type": "code",
   "execution_count": 9,
   "metadata": {},
   "outputs": [
    {
     "data": {
      "text/html": [
       "<div>\n",
       "<style scoped>\n",
       "    .dataframe tbody tr th:only-of-type {\n",
       "        vertical-align: middle;\n",
       "    }\n",
       "\n",
       "    .dataframe tbody tr th {\n",
       "        vertical-align: top;\n",
       "    }\n",
       "\n",
       "    .dataframe thead th {\n",
       "        text-align: right;\n",
       "    }\n",
       "</style>\n",
       "<table border=\"1\" class=\"dataframe\">\n",
       "  <thead>\n",
       "    <tr style=\"text-align: right;\">\n",
       "      <th></th>\n",
       "      <th>movieId</th>\n",
       "      <th>item_avg</th>\n",
       "    </tr>\n",
       "  </thead>\n",
       "  <tbody>\n",
       "    <tr>\n",
       "      <th>0</th>\n",
       "      <td>0</td>\n",
       "      <td>3.980952</td>\n",
       "    </tr>\n",
       "    <tr>\n",
       "      <th>1</th>\n",
       "      <td>1</td>\n",
       "      <td>4.164122</td>\n",
       "    </tr>\n",
       "    <tr>\n",
       "      <th>2</th>\n",
       "      <td>2</td>\n",
       "      <td>2.111111</td>\n",
       "    </tr>\n",
       "    <tr>\n",
       "      <th>3</th>\n",
       "      <td>3</td>\n",
       "      <td>3.449275</td>\n",
       "    </tr>\n",
       "    <tr>\n",
       "      <th>4</th>\n",
       "      <td>4</td>\n",
       "      <td>3.652542</td>\n",
       "    </tr>\n",
       "  </tbody>\n",
       "</table>\n",
       "</div>"
      ],
      "text/plain": [
       "   movieId  item_avg\n",
       "0        0  3.980952\n",
       "1        1  4.164122\n",
       "2        2  2.111111\n",
       "3        3  3.449275\n",
       "4        4  3.652542"
      ]
     },
     "execution_count": 9,
     "metadata": {},
     "output_type": "execute_result"
    }
   ],
   "source": [
    "item_averages = train.groupby('movieId') \\\n",
    "    .agg({'rating':'mean'}) \\\n",
    "    .rename({'rating': 'item_avg'}, axis=1) \\\n",
    "    .reset_index()\n",
    "\n",
    "item_averages.head()"
   ]
  },
  {
   "cell_type": "code",
   "execution_count": 10,
   "metadata": {},
   "outputs": [],
   "source": [
    "train = pd.merge(train, user_averages, how='left', on='userId')\n",
    "train = pd.merge(train, item_averages, how='left', on='movieId')\n",
    "test = pd.merge(test, user_averages, how='left', on='userId')\n",
    "test = pd.merge(test, item_averages, how='left', on='movieId')"
   ]
  },
  {
   "cell_type": "code",
   "execution_count": 11,
   "metadata": {},
   "outputs": [],
   "source": [
    "# users and items in test that aren't in train will get the average rating of all users\n",
    "test.user_avg = test.user_avg.fillna(mean_rating)\n",
    "test.item_avg = test.item_avg.fillna(mean_rating)"
   ]
  },
  {
   "cell_type": "code",
   "execution_count": 12,
   "metadata": {},
   "outputs": [],
   "source": [
    "train['bias'] = (train['user_avg'] + train['item_avg'])/2 - mean_rating\n",
    "test['bias'] = (test['user_avg'] + test['item_avg'])/2 - mean_rating"
   ]
  },
  {
   "cell_type": "code",
   "execution_count": 13,
   "metadata": {},
   "outputs": [
    {
     "data": {
      "text/html": [
       "<div>\n",
       "<style scoped>\n",
       "    .dataframe tbody tr th:only-of-type {\n",
       "        vertical-align: middle;\n",
       "    }\n",
       "\n",
       "    .dataframe tbody tr th {\n",
       "        vertical-align: top;\n",
       "    }\n",
       "\n",
       "    .dataframe thead th {\n",
       "        text-align: right;\n",
       "    }\n",
       "</style>\n",
       "<table border=\"1\" class=\"dataframe\">\n",
       "  <thead>\n",
       "    <tr style=\"text-align: right;\">\n",
       "      <th></th>\n",
       "      <th>userId</th>\n",
       "      <th>movieId</th>\n",
       "      <th>rating</th>\n",
       "      <th>user_avg</th>\n",
       "      <th>item_avg</th>\n",
       "      <th>bias</th>\n",
       "    </tr>\n",
       "  </thead>\n",
       "  <tbody>\n",
       "    <tr>\n",
       "      <th>0</th>\n",
       "      <td>873</td>\n",
       "      <td>377</td>\n",
       "      <td>4</td>\n",
       "      <td>3.777778</td>\n",
       "      <td>3.588235</td>\n",
       "      <td>0.152162</td>\n",
       "    </tr>\n",
       "    <tr>\n",
       "      <th>1</th>\n",
       "      <td>808</td>\n",
       "      <td>601</td>\n",
       "      <td>3</td>\n",
       "      <td>3.738372</td>\n",
       "      <td>3.697674</td>\n",
       "      <td>0.187179</td>\n",
       "    </tr>\n",
       "    <tr>\n",
       "      <th>2</th>\n",
       "      <td>90</td>\n",
       "      <td>354</td>\n",
       "      <td>4</td>\n",
       "      <td>3.637119</td>\n",
       "      <td>3.562963</td>\n",
       "      <td>0.069197</td>\n",
       "    </tr>\n",
       "    <tr>\n",
       "      <th>3</th>\n",
       "      <td>409</td>\n",
       "      <td>570</td>\n",
       "      <td>2</td>\n",
       "      <td>3.844639</td>\n",
       "      <td>2.755102</td>\n",
       "      <td>-0.230974</td>\n",
       "    </tr>\n",
       "    <tr>\n",
       "      <th>4</th>\n",
       "      <td>496</td>\n",
       "      <td>356</td>\n",
       "      <td>2</td>\n",
       "      <td>3.351485</td>\n",
       "      <td>3.920398</td>\n",
       "      <td>0.105097</td>\n",
       "    </tr>\n",
       "  </tbody>\n",
       "</table>\n",
       "</div>"
      ],
      "text/plain": [
       "   userId  movieId  rating  user_avg  item_avg      bias\n",
       "0     873      377       4  3.777778  3.588235  0.152162\n",
       "1     808      601       3  3.738372  3.697674  0.187179\n",
       "2      90      354       4  3.637119  3.562963  0.069197\n",
       "3     409      570       2  3.844639  2.755102 -0.230974\n",
       "4     496      356       2  3.351485  3.920398  0.105097"
      ]
     },
     "execution_count": 13,
     "metadata": {},
     "output_type": "execute_result"
    }
   ],
   "source": [
    "test.head()"
   ]
  },
  {
   "cell_type": "markdown",
   "metadata": {},
   "source": [
    "## Predict ratings"
   ]
  },
  {
   "cell_type": "code",
   "execution_count": 21,
   "metadata": {},
   "outputs": [],
   "source": [
    "from tensorflow.keras import backend as K\n",
    "\n",
    "# use this function to force all outputs of model to be between min and max rating\n",
    "def stretch(x):\n",
    "    return K.sigmoid(x) * (max_rating - min_rating) + min_rating\n",
    "\n",
    "# adds the global mean rating to the unscaled logit\n",
    "def add_mean(x):\n",
    "#     upper = max_rating - mean_rating\n",
    "#     lower = min_rating - mean_rating\n",
    "#     stretch = K.sigmoid(x) * (upper - lower) + lower\n",
    "    \n",
    "    return add(x, mean_rating)"
   ]
  },
  {
   "cell_type": "code",
   "execution_count": 22,
   "metadata": {},
   "outputs": [],
   "source": [
    "# hyper parameters\n",
    "HP_LATENT_SIZE = [5, 10, 25, 50]\n",
    "HP_NUM_HIDDEN_1 = [8, 16, 32, 64]\n",
    "HP_NUM_HIDDEN_2 = [False, 16, 32]\n",
    "HP_DROPOUT = [.1, .15, .2, .25]\n",
    "HP_OPTIMISER = ['adam', 'sgd']"
   ]
  },
  {
   "cell_type": "code",
   "execution_count": 23,
   "metadata": {},
   "outputs": [
    {
     "name": "stdout",
     "output_type": "stream",
     "text": [
      "Train on 81000 samples, validate on 9000 samples\n",
      "Epoch 1/5\n",
      "81000/81000 - 1s - loss: 0.9144 - val_loss: 0.9094\n",
      "Epoch 2/5\n",
      "81000/81000 - 0s - loss: 0.8646 - val_loss: 0.8915\n",
      "Epoch 3/5\n",
      "81000/81000 - 0s - loss: 0.8438 - val_loss: 0.8831\n",
      "Epoch 4/5\n",
      "81000/81000 - 0s - loss: 0.8327 - val_loss: 0.8796\n",
      "Epoch 5/5\n",
      "81000/81000 - 0s - loss: 0.8244 - val_loss: 0.8765\n"
     ]
    }
   ],
   "source": [
    "# grid search loop\n",
    "\n",
    "for latent_size in HP_LATENT_SIZE:\n",
    "    for num_hidden_1 in HP_NUM_HIDDEN_1:\n",
    "        for num_hidden_2 in HP_NUM_HIDDEN_2:\n",
    "            \n",
    "            # item embedding path\n",
    "            item_input = Input(shape=[1], name=\"Item-Input\")\n",
    "            item_embedding = Embedding(n_items, latent_size, name=\"Item-Embedding\")(item_input)\n",
    "            item_vec = Flatten(name=\"Flatten-Items\")(item_embedding)\n",
    "\n",
    "            # user embedding path\n",
    "            user_input = Input(shape=[1], name=\"User-Input\")\n",
    "            user_embedding = Embedding(n_users, latent_size, name=\"User-Embedding\")(user_input)\n",
    "            user_vec = Flatten(name=\"Flatten-Users\")(user_embedding)\n",
    "            \n",
    "            # concatenate features\n",
    "            conc = Concatenate()([item_vec, user_vec])\n",
    "            \n",
    "            # first hidden layer\n",
    "            fc1 = Dense(num_hidden_1, activation='relu')(conc)\n",
    "            d1 = Dropout(.15)(fc1)\n",
    "            \n",
    "            if num_hidden_2:\n",
    "                # second hidden layer\n",
    "                fc2 = Dense(num_hidden_2, activation='relu')(d1)\n",
    "                d2 = Dropout(.25)(fc2)\n",
    "                baseline = Dense(1, add_mean)(d2)\n",
    "            else:\n",
    "                baseline = Dense(1, add_mean)(d1)\n",
    "\n",
    "            # add in user x item bias\n",
    "            bias = Input(shape=[1])\n",
    "            rating = Add()([baseline, bias])\n",
    "\n",
    "            # create model and compile it\n",
    "            model = Model([user_input, item_input, bias], rating)\n",
    "            model.compile('adam', 'mean_squared_error')\n",
    "            \n",
    "            model.fit([train.userId, train.movieId, train.bias], train.rating, \n",
    "                      batch_size=256,\n",
    "                      epochs=5,\n",
    "                      verbose=2,\n",
    "                      validation_split=.1)\n",
    "            break\n",
    "        break\n",
    "    break"
   ]
  },
  {
   "cell_type": "code",
   "execution_count": 23,
   "metadata": {},
   "outputs": [
    {
     "name": "stdout",
     "output_type": "stream",
     "text": [
      "Train on 81000 samples, validate on 9000 samples\n",
      "Epoch 1/10\n",
      "81000/81000 - 5s - loss: 0.9131 - val_loss: 0.9081\n",
      "Epoch 2/10\n",
      "81000/81000 - 2s - loss: 0.8726 - val_loss: 0.8906\n",
      "Epoch 3/10\n",
      "81000/81000 - 2s - loss: 0.8485 - val_loss: 0.8819\n",
      "Epoch 4/10\n",
      "81000/81000 - 2s - loss: 0.8321 - val_loss: 0.8710\n",
      "Epoch 5/10\n",
      "81000/81000 - 2s - loss: 0.8181 - val_loss: 0.8677\n",
      "Epoch 6/10\n",
      "81000/81000 - 2s - loss: 0.8096 - val_loss: 0.8614\n",
      "Epoch 7/10\n",
      "81000/81000 - 2s - loss: 0.7952 - val_loss: 0.8565\n",
      "Epoch 8/10\n",
      "81000/81000 - 2s - loss: 0.7860 - val_loss: 0.8550\n",
      "Epoch 9/10\n",
      "81000/81000 - 2s - loss: 0.7746 - val_loss: 0.8532\n",
      "Epoch 10/10\n",
      "81000/81000 - 2s - loss: 0.7681 - val_loss: 0.8500\n"
     ]
    }
   ],
   "source": [
    "history = model.fit([train.userId, train.movieId, train.bias], train.rating, \n",
    "                    batch_size=256,\n",
    "                    epochs=10,\n",
    "                    verbose=2,\n",
    "                    validation_split=.1)"
   ]
  },
  {
   "cell_type": "code",
   "execution_count": 24,
   "metadata": {},
   "outputs": [
    {
     "name": "stdout",
     "output_type": "stream",
     "text": [
      "10000/10000 [==============================] - 0s 12us/sample - loss: 0.8581\n",
      "RMSE: 0.9263132393441963\n"
     ]
    }
   ],
   "source": [
    "print('RMSE:', np.sqrt(model.evaluate([test.userId, test.movieId, test.bias], test.rating, batch_size=1024)))"
   ]
  },
  {
   "cell_type": "code",
   "execution_count": 25,
   "metadata": {},
   "outputs": [
    {
     "name": "stdout",
     "output_type": "stream",
     "text": [
      "[3.5937083] 3\n",
      "[4.073673] 3\n",
      "[3.502314] 1\n",
      "[3.3557773] 2\n",
      "[3.8541598] 1\n",
      "[3.5785315] 4\n",
      "[3.907664] 2\n",
      "[4.06156] 5\n",
      "[3.7167099] 3\n",
      "[3.1557455] 3\n"
     ]
    },
    {
     "data": {
      "text/plain": [
       "[None, None, None, None, None, None, None, None, None, None]"
      ]
     },
     "execution_count": 25,
     "metadata": {},
     "output_type": "execute_result"
    }
   ],
   "source": [
    "predictions = model.predict([test.userId.head(10), test.movieId.head(10), test.bias.head(10)])\n",
    "\n",
    "[print(predictions[i], df.rating.iloc[i]) for i in range(0,10)]"
   ]
  },
  {
   "cell_type": "code",
   "execution_count": 26,
   "metadata": {},
   "outputs": [],
   "source": [
    "movies = pd.read_csv(path+'movies.csv')"
   ]
  },
  {
   "cell_type": "code",
   "execution_count": 27,
   "metadata": {},
   "outputs": [
    {
     "data": {
      "text/html": [
       "<div>\n",
       "<style scoped>\n",
       "    .dataframe tbody tr th:only-of-type {\n",
       "        vertical-align: middle;\n",
       "    }\n",
       "\n",
       "    .dataframe tbody tr th {\n",
       "        vertical-align: top;\n",
       "    }\n",
       "\n",
       "    .dataframe thead th {\n",
       "        text-align: right;\n",
       "    }\n",
       "</style>\n",
       "<table border=\"1\" class=\"dataframe\">\n",
       "  <thead>\n",
       "    <tr style=\"text-align: right;\">\n",
       "      <th></th>\n",
       "      <th>movieId</th>\n",
       "      <th>title</th>\n",
       "      <th>releaseDate</th>\n",
       "      <th>link</th>\n",
       "      <th>unknown</th>\n",
       "      <th>Action</th>\n",
       "      <th>Adventure</th>\n",
       "      <th>Animation</th>\n",
       "      <th>Children's</th>\n",
       "      <th>Comedy</th>\n",
       "      <th>...</th>\n",
       "      <th>Fantasy</th>\n",
       "      <th>Film-Noir</th>\n",
       "      <th>Horror</th>\n",
       "      <th>Musical</th>\n",
       "      <th>Mystery</th>\n",
       "      <th>Romance</th>\n",
       "      <th>Sci-Fi</th>\n",
       "      <th>Thriller</th>\n",
       "      <th>War</th>\n",
       "      <th>Western</th>\n",
       "    </tr>\n",
       "  </thead>\n",
       "  <tbody>\n",
       "    <tr>\n",
       "      <th>0</th>\n",
       "      <td>24</td>\n",
       "      <td>Toy Story (1995)</td>\n",
       "      <td>01-Jan-1995</td>\n",
       "      <td>http://us.imdb.com/M/title-exact?Toy%20Story%2...</td>\n",
       "      <td>0</td>\n",
       "      <td>0</td>\n",
       "      <td>0</td>\n",
       "      <td>1</td>\n",
       "      <td>1</td>\n",
       "      <td>1</td>\n",
       "      <td>...</td>\n",
       "      <td>0</td>\n",
       "      <td>0</td>\n",
       "      <td>0</td>\n",
       "      <td>0</td>\n",
       "      <td>0</td>\n",
       "      <td>0</td>\n",
       "      <td>0</td>\n",
       "      <td>0</td>\n",
       "      <td>0</td>\n",
       "      <td>0</td>\n",
       "    </tr>\n",
       "    <tr>\n",
       "      <th>1</th>\n",
       "      <td>147</td>\n",
       "      <td>GoldenEye (1995)</td>\n",
       "      <td>01-Jan-1995</td>\n",
       "      <td>http://us.imdb.com/M/title-exact?GoldenEye%20(...</td>\n",
       "      <td>0</td>\n",
       "      <td>1</td>\n",
       "      <td>1</td>\n",
       "      <td>0</td>\n",
       "      <td>0</td>\n",
       "      <td>0</td>\n",
       "      <td>...</td>\n",
       "      <td>0</td>\n",
       "      <td>0</td>\n",
       "      <td>0</td>\n",
       "      <td>0</td>\n",
       "      <td>0</td>\n",
       "      <td>0</td>\n",
       "      <td>0</td>\n",
       "      <td>1</td>\n",
       "      <td>0</td>\n",
       "      <td>0</td>\n",
       "    </tr>\n",
       "    <tr>\n",
       "      <th>2</th>\n",
       "      <td>233</td>\n",
       "      <td>Four Rooms (1995)</td>\n",
       "      <td>01-Jan-1995</td>\n",
       "      <td>http://us.imdb.com/M/title-exact?Four%20Rooms%...</td>\n",
       "      <td>0</td>\n",
       "      <td>0</td>\n",
       "      <td>0</td>\n",
       "      <td>0</td>\n",
       "      <td>0</td>\n",
       "      <td>0</td>\n",
       "      <td>...</td>\n",
       "      <td>0</td>\n",
       "      <td>0</td>\n",
       "      <td>0</td>\n",
       "      <td>0</td>\n",
       "      <td>0</td>\n",
       "      <td>0</td>\n",
       "      <td>0</td>\n",
       "      <td>1</td>\n",
       "      <td>0</td>\n",
       "      <td>0</td>\n",
       "    </tr>\n",
       "    <tr>\n",
       "      <th>3</th>\n",
       "      <td>47</td>\n",
       "      <td>Get Shorty (1995)</td>\n",
       "      <td>01-Jan-1995</td>\n",
       "      <td>http://us.imdb.com/M/title-exact?Get%20Shorty%...</td>\n",
       "      <td>0</td>\n",
       "      <td>1</td>\n",
       "      <td>0</td>\n",
       "      <td>0</td>\n",
       "      <td>0</td>\n",
       "      <td>1</td>\n",
       "      <td>...</td>\n",
       "      <td>0</td>\n",
       "      <td>0</td>\n",
       "      <td>0</td>\n",
       "      <td>0</td>\n",
       "      <td>0</td>\n",
       "      <td>0</td>\n",
       "      <td>0</td>\n",
       "      <td>0</td>\n",
       "      <td>0</td>\n",
       "      <td>0</td>\n",
       "    </tr>\n",
       "    <tr>\n",
       "      <th>4</th>\n",
       "      <td>75</td>\n",
       "      <td>Copycat (1995)</td>\n",
       "      <td>01-Jan-1995</td>\n",
       "      <td>http://us.imdb.com/M/title-exact?Copycat%20(1995)</td>\n",
       "      <td>0</td>\n",
       "      <td>0</td>\n",
       "      <td>0</td>\n",
       "      <td>0</td>\n",
       "      <td>0</td>\n",
       "      <td>0</td>\n",
       "      <td>...</td>\n",
       "      <td>0</td>\n",
       "      <td>0</td>\n",
       "      <td>0</td>\n",
       "      <td>0</td>\n",
       "      <td>0</td>\n",
       "      <td>0</td>\n",
       "      <td>0</td>\n",
       "      <td>1</td>\n",
       "      <td>0</td>\n",
       "      <td>0</td>\n",
       "    </tr>\n",
       "  </tbody>\n",
       "</table>\n",
       "<p>5 rows × 23 columns</p>\n",
       "</div>"
      ],
      "text/plain": [
       "   movieId              title  releaseDate  \\\n",
       "0       24   Toy Story (1995)  01-Jan-1995   \n",
       "1      147   GoldenEye (1995)  01-Jan-1995   \n",
       "2      233  Four Rooms (1995)  01-Jan-1995   \n",
       "3       47  Get Shorty (1995)  01-Jan-1995   \n",
       "4       75     Copycat (1995)  01-Jan-1995   \n",
       "\n",
       "                                                link  unknown  Action  \\\n",
       "0  http://us.imdb.com/M/title-exact?Toy%20Story%2...        0       0   \n",
       "1  http://us.imdb.com/M/title-exact?GoldenEye%20(...        0       1   \n",
       "2  http://us.imdb.com/M/title-exact?Four%20Rooms%...        0       0   \n",
       "3  http://us.imdb.com/M/title-exact?Get%20Shorty%...        0       1   \n",
       "4  http://us.imdb.com/M/title-exact?Copycat%20(1995)        0       0   \n",
       "\n",
       "   Adventure  Animation  Children's  Comedy  ...  Fantasy  Film-Noir  Horror  \\\n",
       "0          0          1           1       1  ...        0          0       0   \n",
       "1          1          0           0       0  ...        0          0       0   \n",
       "2          0          0           0       0  ...        0          0       0   \n",
       "3          0          0           0       1  ...        0          0       0   \n",
       "4          0          0           0       0  ...        0          0       0   \n",
       "\n",
       "   Musical  Mystery  Romance  Sci-Fi  Thriller  War  Western  \n",
       "0        0        0        0       0         0    0        0  \n",
       "1        0        0        0       0         1    0        0  \n",
       "2        0        0        0       0         1    0        0  \n",
       "3        0        0        0       0         0    0        0  \n",
       "4        0        0        0       0         1    0        0  \n",
       "\n",
       "[5 rows x 23 columns]"
      ]
     },
     "execution_count": 27,
     "metadata": {},
     "output_type": "execute_result"
    }
   ],
   "source": [
    "movies.head()"
   ]
  },
  {
   "cell_type": "code",
   "execution_count": 28,
   "metadata": {},
   "outputs": [
    {
     "name": "stdout",
     "output_type": "stream",
     "text": [
      "Model: \"model_1\"\n",
      "_________________________________________________________________\n",
      "Layer (type)                 Output Shape              Param #   \n",
      "=================================================================\n",
      "Item-Input (InputLayer)      [(None, 1)]               0         \n",
      "_________________________________________________________________\n",
      "Item-Embedding (Embedding)   (None, 1, 25)             42050     \n",
      "_________________________________________________________________\n",
      "Flatten-Items (Flatten)      (None, 25)                0         \n",
      "_________________________________________________________________\n",
      "dense_9 (Dense)              (None, 16)                416       \n",
      "_________________________________________________________________\n",
      "dropout_6 (Dropout)          (None, 16)                0         \n",
      "_________________________________________________________________\n",
      "dense_10 (Dense)             (None, 18)                306       \n",
      "=================================================================\n",
      "Total params: 42,772\n",
      "Trainable params: 722\n",
      "Non-trainable params: 42,050\n",
      "_________________________________________________________________\n"
     ]
    }
   ],
   "source": [
    "# make new genre model\n",
    "g_hidden = Dense(16, activation='relu')(item_vec)\n",
    "g_drop = Dropout(.25)(g_hidden)\n",
    "g_out = Dense(18, activation='sigmoid')(g_drop)  # there are 18 genres\n",
    "\n",
    "# Create model and compile it\n",
    "model2 = Model(item_input, g_out)\n",
    "# freeze the embedding layer\n",
    "model2.layers[1].trainable = False\n",
    "model2.compile(optimizer='adam', loss='binary_crossentropy' , metrics=['accuracy'])\n",
    "model2.summary()"
   ]
  },
  {
   "cell_type": "code",
   "execution_count": 30,
   "metadata": {},
   "outputs": [
    {
     "name": "stdout",
     "output_type": "stream",
     "text": [
      "Train on 1345 samples, validate on 337 samples\n",
      "Epoch 1/10\n",
      "1345/1345 [==============================] - 0s 96us/sample - loss: 0.3667 - accuracy: 0.8998 - val_loss: 0.3153 - val_accuracy: 0.9233\n",
      "Epoch 2/10\n",
      "1345/1345 [==============================] - 0s 68us/sample - loss: 0.3452 - accuracy: 0.9002 - val_loss: 0.2904 - val_accuracy: 0.9237\n",
      "Epoch 3/10\n",
      "1345/1345 [==============================] - 0s 59us/sample - loss: 0.3265 - accuracy: 0.9006 - val_loss: 0.2715 - val_accuracy: 0.9237\n",
      "Epoch 4/10\n",
      "1345/1345 [==============================] - 0s 59us/sample - loss: 0.3126 - accuracy: 0.9002 - val_loss: 0.2564 - val_accuracy: 0.9238\n",
      "Epoch 5/10\n",
      "1345/1345 [==============================] - 0s 65us/sample - loss: 0.3046 - accuracy: 0.9005 - val_loss: 0.2452 - val_accuracy: 0.9237\n",
      "Epoch 6/10\n",
      "1345/1345 [==============================] - 0s 59us/sample - loss: 0.2976 - accuracy: 0.9005 - val_loss: 0.2373 - val_accuracy: 0.9237\n",
      "Epoch 7/10\n",
      "1345/1345 [==============================] - 0s 64us/sample - loss: 0.2913 - accuracy: 0.9001 - val_loss: 0.2312 - val_accuracy: 0.9235\n",
      "Epoch 8/10\n",
      "1345/1345 [==============================] - 0s 59us/sample - loss: 0.2882 - accuracy: 0.9007 - val_loss: 0.2269 - val_accuracy: 0.9237\n",
      "Epoch 9/10\n",
      "1345/1345 [==============================] - 0s 58us/sample - loss: 0.2850 - accuracy: 0.9013 - val_loss: 0.2228 - val_accuracy: 0.9247\n",
      "Epoch 10/10\n",
      "1345/1345 [==============================] - 0s 60us/sample - loss: 0.2848 - accuracy: 0.9000 - val_loss: 0.2201 - val_accuracy: 0.9250\n"
     ]
    }
   ],
   "source": [
    "history = model2.fit(movies.movieId, movies.iloc[:,-18:].values, \n",
    "                     batch_size=64, \n",
    "                     epochs=10,\n",
    "                     validation_split=.2)"
   ]
  },
  {
   "cell_type": "code",
   "execution_count": 31,
   "metadata": {},
   "outputs": [],
   "source": [
    "from sklearn.metrics import classification_report, confusion_matrix, precision_score, recall_score, f1_score"
   ]
  },
  {
   "cell_type": "code",
   "execution_count": 32,
   "metadata": {},
   "outputs": [],
   "source": [
    "y_true = movies.iloc[:,-18:]\n",
    "y_score = pd.DataFrame(model2.predict(movies.movieId), columns=y_true.columns)\n",
    "y_pred = y_score.round().astype('int')"
   ]
  },
  {
   "cell_type": "code",
   "execution_count": 33,
   "metadata": {},
   "outputs": [],
   "source": [
    "drama_true = y_true.Drama\n",
    "drama_pred = y_pred.Drama"
   ]
  },
  {
   "cell_type": "code",
   "execution_count": 34,
   "metadata": {},
   "outputs": [
    {
     "name": "stdout",
     "output_type": "stream",
     "text": [
      "              precision    recall  f1-score   support\n",
      "\n",
      "           0       0.58      0.90      0.71       957\n",
      "           1       0.55      0.15      0.24       725\n",
      "\n",
      "   micro avg       0.58      0.58      0.58      1682\n",
      "   macro avg       0.57      0.53      0.47      1682\n",
      "weighted avg       0.57      0.58      0.51      1682\n",
      "\n"
     ]
    }
   ],
   "source": [
    "print(classification_report(drama_true, drama_pred))"
   ]
  },
  {
   "cell_type": "code",
   "execution_count": 35,
   "metadata": {},
   "outputs": [
    {
     "data": {
      "text/html": [
       "<div>\n",
       "<style scoped>\n",
       "    .dataframe tbody tr th:only-of-type {\n",
       "        vertical-align: middle;\n",
       "    }\n",
       "\n",
       "    .dataframe tbody tr th {\n",
       "        vertical-align: top;\n",
       "    }\n",
       "\n",
       "    .dataframe thead th {\n",
       "        text-align: right;\n",
       "    }\n",
       "</style>\n",
       "<table border=\"1\" class=\"dataframe\">\n",
       "  <thead>\n",
       "    <tr style=\"text-align: right;\">\n",
       "      <th></th>\n",
       "      <th>0</th>\n",
       "      <th>1</th>\n",
       "    </tr>\n",
       "  </thead>\n",
       "  <tbody>\n",
       "    <tr>\n",
       "      <th>0</th>\n",
       "      <td>866</td>\n",
       "      <td>91</td>\n",
       "    </tr>\n",
       "    <tr>\n",
       "      <th>1</th>\n",
       "      <td>615</td>\n",
       "      <td>110</td>\n",
       "    </tr>\n",
       "  </tbody>\n",
       "</table>\n",
       "</div>"
      ],
      "text/plain": [
       "     0    1\n",
       "0  866   91\n",
       "1  615  110"
      ]
     },
     "execution_count": 35,
     "metadata": {},
     "output_type": "execute_result"
    }
   ],
   "source": [
    "pd.DataFrame(confusion_matrix(drama_true, drama_pred))"
   ]
  }
 ],
 "metadata": {
  "kernelspec": {
   "display_name": "Python 3",
   "language": "python",
   "name": "python3"
  },
  "language_info": {
   "codemirror_mode": {
    "name": "ipython",
    "version": 3
   },
   "file_extension": ".py",
   "mimetype": "text/x-python",
   "name": "python",
   "nbconvert_exporter": "python",
   "pygments_lexer": "ipython3",
   "version": "3.7.3"
  }
 },
 "nbformat": 4,
 "nbformat_minor": 2
}
